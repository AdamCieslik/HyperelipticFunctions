{
 "cells": [
  {
   "cell_type": "markdown",
   "metadata": {},
   "source": [
    "# Genus 2 case\n",
    "\n",
    "\n",
    "So for a curve of genus $g=2$ we get\n",
    "```{math}\n",
    "f(x,y) = -y^2 + \\lambda_0 x^5 + \\lambda_2 x^4 + \\lambda_4 x^3+ \\lambda_6 x^2+ \\lambda_8 x+ \\lambda_{10},\n",
    "```  \n",
    "Let's load the appropriate SageMath library and define the curve $\\mathscr{C}$"
   ]
  },
  {
   "cell_type": "code",
   "execution_count": 1,
   "metadata": {},
   "outputs": [],
   "source": [
    "from sage.schemes.riemann_surfaces.riemann_surface import RiemannSurface"
   ]
  },
  {
   "cell_type": "code",
   "execution_count": 2,
   "metadata": {},
   "outputs": [],
   "source": [
    "# Defines the lambda coefficients\n",
    "lambda0 = 1.0\n",
    "lambda2 = 12.0\n",
    "lambda4 = 2.0\n",
    "lambda6  = 0.9\n",
    "lambda8  = 21.0\n",
    "lambda10  = 10.0"
   ]
  },
  {
   "cell_type": "markdown",
   "metadata": {},
   "source": [
    "```{important}\n",
    "The coefficients above must be real-floating-point numbers \n",
    "```"
   ]
  },
  {
   "cell_type": "markdown",
   "metadata": {},
   "source": [
    "Since the current Sage library only works well on the field of rational numbers, we have to approximate all function coefficients by these numbers.\n"
   ]
  },
  {
   "cell_type": "code",
   "execution_count": 3,
   "metadata": {},
   "outputs": [],
   "source": [
    "# Rational approximation\n",
    "l0 = lambda0.nearby_rational(max_error=1e-10)\n",
    "l2 = lambda2.nearby_rational(max_error=1e-10)\n",
    "l4 = lambda4.nearby_rational(max_error=1e-10)\n",
    "l6 = lambda6.nearby_rational(max_error=1e-10)\n",
    "l8 = lambda8.nearby_rational(max_error=1e-10)\n",
    "l10 = lambda10.nearby_rational(max_error=1e-10)"
   ]
  },
  {
   "cell_type": "markdown",
   "metadata": {},
   "source": [
    "Next, we need to define the variables and in the ring of polynomials over the rational numbers."
   ]
  },
  {
   "cell_type": "code",
   "execution_count": 4,
   "metadata": {},
   "outputs": [],
   "source": [
    "R.<x, y> = PolynomialRing(QQ, 2)"
   ]
  },
  {
   "cell_type": "markdown",
   "metadata": {},
   "source": [
    "```{note}\n",
    "The order of variables can be important depending on how you write your polynomial. Make sure you use the same order in your polynomial expression.\n",
    "```"
   ]
  },
  {
   "cell_type": "code",
   "execution_count": 5,
   "metadata": {},
   "outputs": [],
   "source": [
    "# Defining the polynomial f\n",
    "f = -y^2 + l0*x^5 + l2*x^4 + l4*x^3 + l6*x^2 + l8*x + l10"
   ]
  },
  {
   "cell_type": "markdown",
   "metadata": {},
   "source": [
    "## Riemann surface\n",
    "\n",
    "````{prf:definition}\n",
    ":label: riemann_sur\n",
    "\n",
    "A Riemann surface $X$ is a connected two-dimensional topological manifold with a complex-analytic structure on it. \n",
    "````\n",
    "\n",
    "The SageMath library has a special function that allows us to generate the appropriate Riemann surface on which we will continue our work."
   ]
  },
  {
   "cell_type": "code",
   "execution_count": 6,
   "metadata": {},
   "outputs": [],
   "source": [
    "S = RiemannSurface(f, prec=100)"
   ]
  },
  {
   "cell_type": "markdown",
   "metadata": {},
   "source": [
    "## Branch points\n",
    "\n",
    "We can easily define a function that based on the $\\lambda_{2i}$ coefficients will print all the branch points $e_i$ given by\n",
    "```{math}\n",
    "y^2 =(x-e_1)(x-e_2)(x-e_3)(x-e_4)(x-e_5).\n",
    "```"
   ]
  },
  {
   "cell_type": "code",
   "execution_count": 7,
   "metadata": {},
   "outputs": [],
   "source": [
    "def find_branch_points(ll0, ll2, ll4, ll6, ll8, ll10):\n",
    "    # We define a ring of polynomials over the field of complex numbers\n",
    "    CC_poly.<x> = PolynomialRing(CC)\n",
    "    \n",
    "    # We create a polynomial\n",
    "    pol = ll0*x^5 + ll2*x^4 + ll4*x^3 + ll6*x^2 + ll8*x + ll10\n",
    "    \n",
    "    # We find roots\n",
    "    roots = pol.roots(multiplicities=False)\n",
    "    \n",
    "    # We add a point at infinity if the degree of the polynomial is odd\n",
    "    if pol.degree() % 2 == 1:\n",
    "        roots.append(infinity)\n",
    "    \n",
    "    return roots"
   ]
  },
  {
   "cell_type": "markdown",
   "metadata": {},
   "source": [
    "```{note}\n",
    "The `multiplicities=False` parameter in the `roots()`  method in Sage has the following meaning:\n",
    "- When `multiplicities=False`  (default): The method returns only the roots of the polynomial, without information about their multiplicities. The result is a list of unique root values.\n",
    "- When `multiplicities=True`: The method returns pairs (root, multiplicity) for each root. The result is a list of tuples, where each tuple contains the root and its multiplicity.\n",
    "```"
   ]
  },
  {
   "cell_type": "code",
   "execution_count": 8,
   "metadata": {},
   "outputs": [
    {
     "name": "stdout",
     "output_type": "stream",
     "text": [
      "Branch points: [-11.8251161409669, -1.05264146874943, -0.512317960119317, 0.695037784917798 - 1.04164546422316*I, 0.695037784917798 + 1.04164546422316*I, +Infinity]\n"
     ]
    }
   ],
   "source": [
    "# Example of use:\n",
    "\n",
    "branch_points = find_branch_points(l0, l2, l4, l6, l8, l10)\n",
    "print(\"Branch points:\", branch_points)"
   ]
  },
  {
   "cell_type": "markdown",
   "metadata": {},
   "source": [
    "## First and Second Kind Periods\n",
    "\n",
    "In order to construct periodic functions we first have to define a canonical basis of the space of holomorphic differentials $\\{du_i\\mid i=1,\\ldots,g\\} $ and of associated meromorphic differentials $\\{dr_i\\mid i=1,\\ldots,g\\} $ on the Riemann surface by\n",
    "```{math}\n",
    "du_{2i-1} := \\frac{x^{g-i} dx}{\\partial_y f(x)},\n",
    "```\n",
    "```{math}\n",
    "dr_{2i-1} := \\frac{\\mathcal{R}_{2i-1}(x) dx}{\\partial_y f(x)}, \n",
    "```\n",
    "where\n",
    "```{math}\n",
    "\\mathcal{R}_{2i-1}(x)=\\sum_{k=1}^{2i-1}k\\lambda_{4i-2k-2}x^{g-i+k}.\n",
    "```\n",
    "We can write this in vector form for $g=2$ as follows \n",
    "```{math}\n",
    "du= \\begin{pmatrix} \n",
    "        x\\\\\n",
    "        1\n",
    "    \\end{pmatrix} \\frac{dx}{-2\\sqrt{f(x)}},\n",
    "```\n",
    "```{math}\n",
    "dr= \\begin{pmatrix} \n",
    "        \\mathcal{R}_{1}(x)\\\\\n",
    "        \\mathcal{R}_{3}(x)\n",
    "    \\end{pmatrix} \\frac{dx}{-2\\sqrt{f(x)}} = \n",
    "        \\begin{pmatrix} \n",
    "            x^2\\\\\n",
    "            3\\lambda_0x^3 + 2\\lambda_2 x^2 + \\lambda_4 x\n",
    "        \\end{pmatrix} \\frac{dx}{-2\\sqrt{f(x)}},\n",
    "```\n",
    "\n",
    "The above holomorphic basis can be compared to what the `cohomology_basis()` function returns. In SageMath, `S.cohomology_basis()` returns this list of differentials, typically represented as polynomials  $g(x)$  corresponding to differentials:\n",
    "```{math}\n",
    "\\omega = \\frac{g(x) \\, dx}{\\partial f / \\partial y}\n",
    "```\n",
    "where  $f(x, y) = 0$  defines the curve.\n"
   ]
  },
  {
   "cell_type": "code",
   "execution_count": 9,
   "metadata": {},
   "outputs": [
    {
     "data": {
      "text/plain": [
       "[1, x]"
      ]
     },
     "execution_count": 9,
     "metadata": {},
     "output_type": "execute_result"
    }
   ],
   "source": [
    "S.cohomology_basis()"
   ]
  },
  {
   "cell_type": "markdown",
   "metadata": {},
   "source": [
    "It is visible that the order of elements is different from that adopted in {cite}`bernatska_computation_2024` convention. We will use Julia's one. \n",
    "\n",
    "\n",
    "###  First Kind Periods    "
   ]
  },
  {
   "cell_type": "code",
   "execution_count": 10,
   "metadata": {},
   "outputs": [],
   "source": [
    "# holomorphic differentials base\n",
    "holbais=[x,x^0]"
   ]
  },
  {
   "cell_type": "markdown",
   "metadata": {},
   "source": [
    "Now, to calculate the first kind period matrices, we need to calculate the following integrals along the canonical homology cycles $\\{ \\mathfrak{a}_i, \\mathfrak{b}_i\\}_{i=1}^g$\n",
    "```{math}\n",
    "\\omega = (\\omega_{ij})= \\left( \\int_{\\mathfrak{a}_j}du_i \\right), \\quad \\omega' = (\\omega'_{ij})= \\left( \\int_{\\mathfrak{b}_j}du_i \\right). \n",
    "```\n",
    "\n",
    " We can use the Sage function  `matrix_of_integral_values(differentials, integration_method='heuristic')` to compute the path integrals of the given differentials along the homology basis. The returned answer has a row for each differential. If the Riemann surface is given by the equation $y^2$, then the differentials are encoded by polynomials $g$, signifying the differential \n",
    "```{math}\n",
    "g(x,y)\\frac{dx}{(df/dy)}.\n",
    "```\n",
    "`Input:`\n",
    "- `differentials` – a list of polynomials.\n",
    "- `integration_method` – (default: 'heuristic'). String specifying the integration method to use. The options are 'heuristic' and 'rigorous'.\n",
    "\n",
    "`Output:`  \n",
    "A matrix, one row per differential, containing the values of the path integrals along the homology basis of the Riemann surface."
   ]
  },
  {
   "cell_type": "code",
   "execution_count": 11,
   "metadata": {},
   "outputs": [
    {
     "name": "stdout",
     "output_type": "stream",
     "text": [
      "[     0.13760 - 0.66033*I  -4.9304e-32 - 0.91722*I  -3.9443e-31 + 0.40344*I       1.1746 + 0.25689*I]\n",
      "[    -0.62448 + 0.28220*I -5.5467e-32 + 0.038862*I  -4.9304e-32 - 0.52554*I      0.14607 + 0.24334*I]\n"
     ]
    }
   ],
   "source": [
    "MofInt1=S.matrix_of_integral_values(holbais)\n",
    "# Let's display the matrix in a shortened form so that it will be easy to see its structure\n",
    "print(MofInt1.n(digits=5))"
   ]
  },
  {
   "cell_type": "markdown",
   "metadata": {},
   "source": [
    "The structure of the returned matrix\n",
    "```{math}\n",
    "MofInt1 = \n",
    "    \\begin{pmatrix}\n",
    "        \\omega_{1,1} & \\omega_{1,2} & \\omega'_{1,1} & \\omega'_{1,2} \\\\\n",
    "        \\omega_{2,1} & \\omega_{2,2} & \\omega'_{2,1} & \\omega'_{2,2}\n",
    "    \\end{pmatrix}\n",
    "    =\n",
    "    \\begin{array}{|c|c|c|c|c|}\n",
    "        \\hline\n",
    "        & \\mathfrak{a}_1 & \\mathfrak{a}_2 & \\mathfrak{b}_1 & \\mathfrak{b}_2 \\\\\n",
    "        \\hline\n",
    "        x & \\omega_{1,1} = \\int_{\\mathfrak{a}_1} du_1 & \\omega_{1,2} = \\int_{\\mathfrak{a}_2} du_1 & \\omega'_{1,1} = \\int_{\\mathfrak{b}_1} du_1 & \\omega'_{1,2} = \\int_{\\mathfrak{b}_2} du_1 \\\\\n",
    "        \\hline\n",
    "        1 & \\omega_{2,1} = \\int_{\\mathfrak{a}_1} du_2 & \\omega_{2,2} = \\int_{\\mathfrak{a}_2} du_2 & \\omega'_{2,1} = \\int_{\\mathfrak{b}_1} du_2 & \\omega'_{2,2} = \\int_{\\mathfrak{b}_2} du_2 \\\\\n",
    "        \\hline\n",
    "    \\end{array}\n",
    "```\n",
    "\n",
    "We can compare this with the results of the built-in Sage function: 'period_matrix()', which, for the adopted notational convention, will return a period matrix in the form\n",
    "```{math}\n",
    "    pM= \\begin{pmatrix}\n",
    "            \\omega_{2,1} & \\omega_{2,2} & \\omega'_{2,1} & \\omega'_{2,2} \\\\\n",
    "            \\omega_{1,1} & \\omega_{1,2} & \\omega'_{1,1} & \\omega'_{2,1}\n",
    "    \\end{pmatrix}  \n",
    "```"
   ]
  },
  {
   "cell_type": "code",
   "execution_count": 12,
   "metadata": {},
   "outputs": [
    {
     "name": "stdout",
     "output_type": "stream",
     "text": [
      "[   -0.62448 + 0.28220*I 4.3141e-32 + 0.038862*I -4.9304e-32 - 0.52554*I     0.14607 + 0.24334*I]\n",
      "[    0.13760 - 0.66033*I  2.2187e-31 - 0.91722*I -5.9165e-31 + 0.40344*I      1.1746 + 0.25689*I]\n"
     ]
    }
   ],
   "source": [
    "pM=S.period_matrix()\n",
    "print(pM.n(digits=5))"
   ]
  },
  {
   "cell_type": "markdown",
   "metadata": {},
   "source": [
    "Before going any further, lat's define a function that will display the matrices in a rounded form so that we can compare them more easily."
   ]
  },
  {
   "cell_type": "code",
   "execution_count": 13,
   "metadata": {},
   "outputs": [],
   "source": [
    "def format_complex(z, digits=5, threshold=1e-10):\n",
    "    real = float(z.real())\n",
    "    imag = float(z.imag())\n",
    "    \n",
    "    # We round very small values to zero\n",
    "    if abs(real) < threshold:\n",
    "        real = 0\n",
    "        if abs(imag) < threshold:\n",
    "            return \"0\"\n",
    "        # We format the result  \n",
    "        return f\"{imag:.{digits}f}*I\"\n",
    "    \n",
    "    if abs(imag) < threshold:\n",
    "        # We format the result\n",
    "        return f\"{real:.{digits}f}\"\n",
    "\n",
    "    sign = \"+\" if imag > 0 else \"-\"\n",
    "    return f\"{real:.{digits}f} {sign} {abs(imag):.{digits}f}*I\"\n",
    "\n",
    "\n",
    "def ApproxM(matrix, digits=5, threshold=1e-10):\n",
    "    rows, cols = matrix.nrows(), matrix.ncols()\n",
    "    \n",
    "    for i in range(rows):\n",
    "        formatted_row = [format_complex(matrix[i,j], digits, threshold) for j in range(cols)]\n",
    "        print(\"\\t\".join(formatted_row))"
   ]
  },
  {
   "cell_type": "code",
   "execution_count": 14,
   "metadata": {},
   "outputs": [
    {
     "name": "stdout",
     "output_type": "stream",
     "text": [
      "-0.62448 + 0.28220*I\t0.03886*I\t-0.52554*I\t0.14607 + 0.24334*I\n",
      "0.13760 - 0.66033*I\t-0.91722*I\t0.40344*I\t1.17459 + 0.25689*I\n"
     ]
    }
   ],
   "source": [
    "ApproxM(pM)"
   ]
  },
  {
   "cell_type": "code",
   "execution_count": 15,
   "metadata": {},
   "outputs": [
    {
     "name": "stdout",
     "output_type": "stream",
     "text": [
      "0.13760 - 0.66033*I\t-0.91722*I\t0.40344*I\t1.17459 + 0.25689*I\n",
      "-0.62448 + 0.28220*I\t0.03886*I\t-0.52554*I\t0.14607 + 0.24334*I\n"
     ]
    }
   ],
   "source": [
    "ApproxM(MofInt1)"
   ]
  },
  {
   "cell_type": "markdown",
   "metadata": {},
   "source": [
    "In what follows we use the function `matrix_of_integral_values()` instead of `period_matrix()` because it allows us to calculate periodic matrices of the second kind."
   ]
  },
  {
   "cell_type": "code",
   "execution_count": 16,
   "metadata": {},
   "outputs": [
    {
     "name": "stdout",
     "output_type": "stream",
     "text": [
      "0.13760 - 0.66033*I\t-0.91722*I\n",
      "-0.62448 + 0.28220*I\t0.03886*I\n",
      "\n",
      "0.40344*I\t1.17459 + 0.25689*I\n",
      "-0.52554*I\t0.14607 + 0.24334*I\n"
     ]
    }
   ],
   "source": [
    "# Extract the omega-periods (first two columns)\n",
    "omega = MofInt1[:, 0:2]\n",
    "\n",
    "# Extract the omega'-periods (last two columns)\n",
    "omegaP = MofInt1[:, 2:4]\n",
    "\n",
    "ApproxM(omega)\n",
    "print()\n",
    "ApproxM(omegaP)"
   ]
  },
  {
   "cell_type": "markdown",
   "metadata": {},
   "source": [
    "Now we calculate the matrix\n",
    "```{math}\n",
    "\\tau=\\omega^{-1}\\omega'\n",
    "```\n",
    "which belongs to the Siegel upper half-space. Hence it should satisfy two conditions:\n",
    "- Symmetry:\n",
    "```{math}\n",
    "\\tau^T = \\tau\n",
    "```\n",
    "- Positive definiteness of the imaginary part\n",
    "```{math}\n",
    "Im(\\tau)>0\n",
    "```"
   ]
  },
  {
   "cell_type": "code",
   "execution_count": 17,
   "metadata": {},
   "outputs": [
    {
     "name": "stdout",
     "output_type": "stream",
     "text": [
      "[-0.28894 + 0.70313*I -0.12636 - 0.46286*I]\n",
      "[-0.12636 - 0.46286*I  -0.25854 + 1.6328*I]\n"
     ]
    }
   ],
   "source": [
    "tau= omega.inverse() * omegaP\n",
    "\n",
    "# Displaying the result\n",
    "print(tau.n(digits=5))"
   ]
  },
  {
   "cell_type": "code",
   "execution_count": 18,
   "metadata": {},
   "outputs": [
    {
     "name": "stdout",
     "output_type": "stream",
     "text": [
      "[0.00000 0.00000]\n",
      "[0.00000 0.00000]\n"
     ]
    }
   ],
   "source": [
    "# Test of the symmetry\n",
    "print(tau-tau.transpose().n(digits=5))"
   ]
  },
  {
   "cell_type": "code",
   "execution_count": 19,
   "metadata": {},
   "outputs": [
    {
     "data": {
      "text/plain": [
       "([1.8239307353738361091933820951, 0.51198440541283078719843599741], True)"
      ]
     },
     "execution_count": 19,
     "metadata": {},
     "output_type": "execute_result"
    }
   ],
   "source": [
    "# Test of positivity\n",
    "# Calculating the complex part of the tau matrix\n",
    "tauImag = tau.apply_map(lambda x: x.imag())\n",
    "\n",
    "# Calculate the eigenvalues\n",
    "eigenvalues = tauImag.eigenvalues()\n",
    "\n",
    "# Checking if all eigenvalues are positive\n",
    "all_positive = all(e > 0 for e in eigenvalues)\n",
    "\n",
    "# Displaying the result\n",
    "eigenvalues, all_positive"
   ]
  },
  {
   "cell_type": "markdown",
   "metadata": {},
   "source": [
    "### Second Kind Periods\n",
    "\n",
    "To calculate the second kind period matrices, we need to calculate the following integrals along the canonical homology cycles $\\{ \\mathfrak{a}_i, \\mathfrak{b}_i\\}_{i=1}^g$\n",
    "```{math}\n",
    "    \\eta = (\\eta_{ij})= \\left( \\int_{\\mathfrak{a}_j}du_i \\right), \\quad \\eta' = (\\eta'_{ij})= \\left( \\int_{\\mathfrak{b}_j}du_i \\right). \n",
    "```"
   ]
  },
  {
   "cell_type": "code",
   "execution_count": 20,
   "metadata": {},
   "outputs": [],
   "source": [
    "# meromorphic differentials base\n",
    "merbais=[x^2, 3*l0*x^3 + 2*l2*x^2 + l4*x]"
   ]
  },
  {
   "cell_type": "code",
   "execution_count": 21,
   "metadata": {},
   "outputs": [
    {
     "name": "stdout",
     "output_type": "stream",
     "text": [
      "0.15574 + 0.20627*I\t0.08372*I\t-0.32882*I\t-7.07532 + 0.12255*I\n",
      "4.74867 + 3.09497*I\t-0.04832*I\t-6.23827*I\t-2.96268 + 3.14329*I\n"
     ]
    }
   ],
   "source": [
    "MofInt2=S.matrix_of_integral_values(merbais)\n",
    "# Let's display the matrix in a shortened form so that it will be easy to see its structure\n",
    "ApproxM(MofInt2)"
   ]
  },
  {
   "cell_type": "code",
   "execution_count": 22,
   "metadata": {},
   "outputs": [
    {
     "name": "stdout",
     "output_type": "stream",
     "text": [
      "0.15574 + 0.20627*I\t0.08372*I\n",
      "4.74867 + 3.09497*I\t-0.04832*I\n",
      "\n",
      "-0.32882*I\t-7.07532 + 0.12255*I\n",
      "-6.23827*I\t-2.96268 + 3.14329*I\n"
     ]
    }
   ],
   "source": [
    "# Extract the omega-periods (first two columns)\n",
    "eta = MofInt2[:, 0:2]\n",
    "\n",
    "# Extract the omega'-periods (last two columns)\n",
    "etaP = MofInt2[:, 2:4]\n",
    "\n",
    "ApproxM(eta)\n",
    "print()\n",
    "ApproxM(etaP)"
   ]
  },
  {
   "cell_type": "markdown",
   "metadata": {},
   "source": [
    "We can compute $\\kappa$, given by\n",
    "```{math}\n",
    "    \\kappa=\\eta\\; \\omega^{-1}\n",
    "```"
   ]
  },
  {
   "cell_type": "code",
   "execution_count": 23,
   "metadata": {},
   "outputs": [
    {
     "name": "stdout",
     "output_type": "stream",
     "text": [
      "-0.09763 - 0.01261*I\t-0.14978 - 0.29754*I\n",
      "-0.14978 - 0.29754*I\t-4.77835 - 7.02263*I\n"
     ]
    }
   ],
   "source": [
    "omega_inv=Matrix(omega).inverse()\n",
    "kappa = eta*omega_inv\n",
    "ApproxM(kappa)"
   ]
  },
  {
   "cell_type": "markdown",
   "metadata": {},
   "source": [
    "## Legendre relation\n",
    "\n",
    "Now we can make another test. The not normalized period matrices of the first $\\omega$, $\\omega'$ and second $\\eta$, $\\eta'$ kinds should satisfy the Legendre relation\n",
    " ```{math}\n",
    "\\Omega^T J \\Omega = 2\\pi i J\n",
    "```\n",
    "    where\n",
    "```{math}\n",
    "\\Omega=\n",
    "    \\begin{pmatrix}\n",
    "        \\omega && \\omega'\\\\\n",
    "        \\eta && \\eta'\\\\\n",
    "    \\end{pmatrix}, \\quad \n",
    "J=        \n",
    "    \\begin{pmatrix}\n",
    "        0 && -1_g'\\\\\n",
    "        1_g && 0\\\\\n",
    "    \\end{pmatrix}\n",
    "```"
   ]
  },
  {
   "cell_type": "code",
   "execution_count": 24,
   "metadata": {},
   "outputs": [
    {
     "name": "stdout",
     "output_type": "stream",
     "text": [
      "Omega Matrix:\n",
      "[     0.13760 - 0.66033*I  -4.9304e-32 - 0.91722*I| -3.9443e-31 + 0.40344*I       1.1746 + 0.25689*I]\n",
      "[    -0.62448 + 0.28220*I -5.5467e-32 + 0.038862*I| -4.9304e-32 - 0.52554*I      0.14607 + 0.24334*I]\n",
      "[-------------------------------------------------+-------------------------------------------------]\n",
      "[     0.15574 + 0.20627*I  7.8886e-31 + 0.083724*I| -8.3816e-31 - 0.32882*I      -7.0753 + 0.12255*I]\n",
      "[       4.7487 + 3.0950*I  1.1360e-28 - 0.048319*I|   2.2088e-29 - 6.2383*I       -2.9627 + 3.1433*I]\n",
      "\n",
      "J Matrix:\n",
      "[0.00000 0.00000|-1.0000 0.00000]\n",
      "[0.00000 0.00000|0.00000 -1.0000]\n",
      "[---------------+---------------]\n",
      "[ 1.0000 0.00000|0.00000 0.00000]\n",
      "[0.00000  1.0000|0.00000 0.00000]\n"
     ]
    }
   ],
   "source": [
    "# Omega matrix\n",
    "Omega = block_matrix([\n",
    "    [omega, omegaP],\n",
    "    [eta, etaP]\n",
    "])\n",
    "\n",
    "# Converting lists to matrices\n",
    "zeroM = Matrix([[0.0, 0.0], [0.0, 0.0]])\n",
    "mOneg = Matrix([[-1.0, 0.0], [0.0, -1.0]])\n",
    "Oneg = Matrix([[1.0, 0.0], [0.0, 1.0]])\n",
    "\n",
    "# J matrix\n",
    "J = block_matrix([\n",
    "    [zeroM, mOneg],\n",
    "    [Oneg, zeroM]\n",
    "])    \n",
    "\n",
    "\n",
    "print(\"Omega Matrix:\")\n",
    "print(Omega.n(digits=5))\n",
    "print()\n",
    "print(\"J Matrix:\")\n",
    "print(J.n(digits=5))"
   ]
  },
  {
   "cell_type": "code",
   "execution_count": 25,
   "metadata": {},
   "outputs": [
    {
     "name": "stdout",
     "output_type": "stream",
     "text": [
      "0\t0\t0\t0\n",
      "0\t0\t0\t0\n",
      "0\t0\t0\t0\n",
      "0\t0\t0\t0\n"
     ]
    }
   ],
   "source": [
    "import numpy as np\n",
    "\n",
    "pi = np.pi\n",
    "left=Omega.transpose()*J*Omega\n",
    "right = 2*pi*I*J\n",
    "result = left - right\n",
    "ApproxM(result)"
   ]
  },
  {
   "cell_type": "markdown",
   "metadata": {},
   "source": [
    "## Theta function\n",
    "\n",
    "````{prf:definition}\n",
    ":label: theta_df\n",
    "\n",
    "A Riemann <i>theta function</i> $\\theta(v;\\tau)$ defined in terms of normalized coordinates $v$ and normalized period matrix $\\tau$, canonicaly is given by\n",
    "```{math}\n",
    "\\theta(\\mathbf{v};\\tau) = \\sum_{n\\in\\mathbb{Z}^g} e^{i\\pi \\mathbf{n}^T \\tau \\mathbf{n} + 2i \\pi \\mathbf{n}^T \\mathbf{v}}.\n",
    "```\n",
    "A theta function with characteristic $[\\varepsilon ]$ is defined by\n",
    "```{math}\n",
    "\\theta[\\varepsilon](\\mathbf{v};\\tau) = \n",
    "    \\theta \n",
    "    \\begin{bmatrix}\n",
    "            \\varepsilon'_1 & \\ldots & \\varepsilon'_g\\\\\n",
    "            \\varepsilon_1 & \\ldots & \\varepsilon_g\\\\\n",
    "    \\end{bmatrix}\n",
    "    (\\mathbf{v};\\tau)=\n",
    "    \\sum_{n\\in\\mathbb{Z}^g} e^{i\\pi\\{ (\\mathbf{n}+ \\frac{1}{2}\\mathbf{\\varepsilon}'^T ) \\tau (\\mathbf{n}+ \\frac{1}{2}\\mathbf{\\varepsilon}') +2 (\\mathbf{v}+\\frac{1}{2}\\mathbf{\\varepsilon})^T (\\mathbf{n}+\\frac{1}{2}\\mathbf{\\varepsilon}') \\} }.\n",
    "```\n",
    "where a characteristic all are half integer\n",
    "```{math}\n",
    "            \\varepsilon_i, \\varepsilon_k' = 1 \\;\\text{or} \\; 0\n",
    "```\n",
    "````\n",
    "\n",
    "````{important}\n",
    "In the literature, it is common to use a convention with slightly different characteristics:\n",
    "```{math}\n",
    "(\\varepsilon_i, \\varepsilon'_j) \\to 2 (\\varepsilon_i, \\varepsilon'_j)\n",
    "```\n",
    "hence  \n",
    "```{math}\n",
    "\\varepsilon_i, \\varepsilon'_j = \\frac{1}{2} \\;\\text{or} \\; 0.\n",
    "```\n",
    "        In consequence\n",
    "```{math}\n",
    "\\theta[\\varepsilon](\\mathbf{v};\\tau) = \n",
    "    \\theta \n",
    "    \\begin{bmatrix}\n",
    "        \\varepsilon'_1 & \\ldots & \\varepsilon'_g\\\\\n",
    "        \\varepsilon_1 & \\ldots & \\varepsilon_g\\\\\n",
    "    \\end{bmatrix}\n",
    "    (\\mathbf{v};\\tau)=\n",
    "    \\sum_{n\\in\\mathbb{Z}^g} e^{i\\pi\\{ (\\mathbf{n}+ \\mathbf{\\varepsilon}'^T ) \\tau (\\mathbf{n}+ \\mathbf{\\varepsilon}') +2 (\\mathbf{v}+\\mathbf{\\varepsilon})^T (\\mathbf{n}+\\mathbf{\\varepsilon}') \\} }.\n",
    "```\n",
    "````\n",
    "\n",
    "Let's code the $\\theta$ function with the characteristic "
   ]
  },
  {
   "cell_type": "code",
   "execution_count": 26,
   "metadata": {},
   "outputs": [],
   "source": [
    "def ThetaCh(epsilon_m, v, ttau, NAcc):\n",
    "    # NAcc is responsible for the number of elements in the sum, i.e. the precision of the result. \n",
    "    # Experimentally, a good approximation is obtained for NAcc>4, but of course this can be increased as needed.\n",
    "    total_sum = 0\n",
    "    # epsilon_m is the list [epsilon 1, epsilon 2] where epsilon1 and epsilon2 are vectors\n",
    "    epsilon1 = epsilon_m[0]\n",
    "    epsilon2 = epsilon_m[1]\n",
    "    \n",
    "    # We iterate over two indices from -NAcc to NAcc\n",
    "    for n1 in range(-NAcc, NAcc):\n",
    "        for n2 in range(-NAcc, NAcc):\n",
    "            # We create vector n\n",
    "            n = vector([n1, n2])\n",
    "                    \n",
    "            # The first component of the sum\n",
    "            term1 = I * pi * (n + 1/2 * vector(epsilon1)) * (ttau * (n + 1/2 * vector(epsilon1)))\n",
    "                    \n",
    "            # The second component of the sum\n",
    "            term2 = 2 * I * pi * (n + 1/2 * vector(epsilon1)) * (v + 1/2 * vector(epsilon2))\n",
    "                    \n",
    "            # We add the exp from these components to the total\n",
    "            total_sum += exp(term1 + term2)\n",
    "    \n",
    "    return total_sum"
   ]
  },
  {
   "cell_type": "markdown",
   "metadata": {},
   "source": [
    "````{note}\n",
    "In Wolfram Mathematica exists a corresponding function under the name `SiegelTheta[$\\nu_1$,$\\nu_2$]($\\Omega,s$)`. The relation between our variables and those in Mathematica are as follows\n",
    "- $\\Omega=\\tau$\n",
    "- $s=v$\n",
    "- $\\nu_1 = \\frac{1}{2} epsilon1$ \n",
    "- $\\nu_2 = \\frac{1}{2} epsilon2$  \n",
    "  \n",
    "To test this, you can check the following code in Mathematica\n",
    "```{code-block}\n",
    ":caption: Mathematica Code      \n",
    "            SiegelTheta[{{2, 4}, {4, 2}}, IdentityMatrix[2] I, {1, 2}] // N\n",
    "```\n",
    "and compare it with below one in SageMath\n",
    "```{code-block}\n",
    ":caption: SageMath Code              \n",
    "            # Defining sample data\n",
    "            epsilon_m = [vector([4, 8]), vector([8, 4])]\n",
    "            v = vector([1, 2])\n",
    "            tau = Matrix([[I, 0], [0, I]])\n",
    "            NAcc = 5\n",
    "            # Function call\n",
    "            result = ThetaCh(epsilon_m, v, tau, NAcc)\n",
    "            print(result)\n",
    "```\n",
    "  \n",
    "Additionally, one can define the $\\theta$ function in Mathematica in a similar way with the following code:\n",
    "```{code-block}\n",
    ":caption: Mathematica Code    \n",
    "        ThetaCh[\\[Epsilon]m_, v_, \\[Tau]_, NAcc_] :=\n",
    "         Sum[\n",
    "          Exp[\n",
    "           I Pi ({Subscript[n, 1], Subscript[n, 2]} + \n",
    "            1/2 \\[Epsilon]m[[1]]) . (\\[Tau] . ({Subscript[n, 1], Subscript[n, 2]} + 1/2 \\[Epsilon]m[[1]])) + 2 I Pi ({Subscript[n, 1], Subscript[n, 2]} + 1/2 \\[Epsilon]m[[1]]) . (v + 1/2 \\[Epsilon]m[[2]])\n",
    "           ],\n",
    "          {Subscript[n, 2], -NAcc, NAcc}, {Subscript[n, 1], -NAcc, NAcc}\n",
    "          ]\n",
    "```\n",
    "  \n",
    "And check the result of the above test with: \n",
    "```{code-block}\n",
    ":caption: Mathematica Code   \n",
    "        ThetaCh[2 {{2, 4}, {4, 2}}, {1, 2}, IdentityMatrix[2] I, 5] // N\n",
    "```\n",
    "````"
   ]
  },
  {
   "cell_type": "markdown",
   "metadata": {},
   "source": [
    "## Characteristics of branch points"
   ]
  },
  {
   "cell_type": "code",
   "execution_count": 27,
   "metadata": {},
   "outputs": [
    {
     "name": "stdout",
     "output_type": "stream",
     "text": [
      "[1 0]\n",
      "[0 0]\n",
      "\n",
      "[1 0]\n",
      "[1 0]\n",
      "\n",
      "[0 1]\n",
      "[1 0]\n",
      "\n",
      "[0 1]\n",
      "[1 1]\n",
      "\n",
      "[0 0]\n",
      "[1 1]\n",
      "\n",
      "[0 0]\n",
      "[0 0]\n",
      "\n"
     ]
    }
   ],
   "source": [
    "# We define the genus variable\n",
    "genus = S.genus  \n",
    "\n",
    "\n",
    "eChars = [[[0 for k in range(genus)], [1 for k in range(genus)]], \n",
    "          [[0 for k in range(genus)] for i in range(2)]]\n",
    "\n",
    "# Do-like loop in Julia's Mathematica notebook\n",
    "for l in range(genus):\n",
    "    # let's note the indexing, which must be adjusted by\n",
    "    eChars.insert(0, \n",
    "        [[(eChars[0][0][k] + kronecker_delta(k+1, genus - l) + \n",
    "           kronecker_delta(k+1, genus - l + 1)) % 2 for k in range(genus)],\n",
    "         [(eChars[0][1][k] + 0) % 2 for k in range(genus)]]\n",
    "    )\n",
    "\n",
    "    eChars.insert(0,\n",
    "        [[(eChars[0][0][k] + 0) % 2 for k in range(genus)],\n",
    "         [(eChars[0][1][k] + kronecker_delta(k+1, genus - l)) % 2 for k in range(genus)]]\n",
    "    )\n",
    "\n",
    "# We display matrices\n",
    "seen_matrices = []\n",
    "for i in range(len(eChars)):\n",
    "    current_matrix = matrix(eChars[i])\n",
    "    if current_matrix not in seen_matrices:\n",
    "        seen_matrices.append(current_matrix)\n",
    "        print(current_matrix)\n",
    "        print()"
   ]
  },
  {
   "cell_type": "markdown",
   "metadata": {},
   "source": [
    "```{note}\n",
    "This result can be compared with the result at work {cite}`enolski_periods_2007` (p. 14, example 5.1)\n",
    "```  "
   ]
  },
  {
   "cell_type": "code",
   "execution_count": 28,
   "metadata": {},
   "outputs": [
    {
     "name": "stdout",
     "output_type": "stream",
     "text": [
      "[1 1]\n",
      "[0 1]\n"
     ]
    }
   ],
   "source": [
    "# We sum the eChars elements with indices 2*i +1 (because python counts from 0) and take Mod 2\n",
    "KCh = sum(matrix(eChars[2 * i+1]) for i in range(genus)) % 2\n",
    "\n",
    "print(KCh)"
   ]
  },
  {
   "cell_type": "markdown",
   "metadata": {},
   "source": [
    "## $\\sigma$-Functions\n",
    "\n",
    "````{prf:definition}\n",
    ":label: sigma_df\n",
    "\n",
    "<em> Sigma function </em> (Kleinian sigma) is a modular invariant entire function on $\\mathrm{Jac}(\\mathscr{C})$. It is definef by a relation with the theta function:\n",
    "```{math}\n",
    "    \\sigma(\\mathbf{u}) = C \\tilde{\\sigma}(\\mathbf{u})\n",
    "```\n",
    "        where\n",
    "```{math}\n",
    "    \\tilde{\\sigma}(\\mathbf{u})= e^{-\\frac{1}{2}\\mathbf{u}^T \\kappa \\mathbf{u}} \\theta[ K ] (\\omega^{-1} \\mathbf{u}, \\omega^{-1} \\omega'),\n",
    "```\n",
    "```{math}\n",
    "    C= \\sqrt{\\frac{\\pi^g}{\\det{\\omega}}} \\left( \\prod_{1\\leq i<j \\leq 2g+1} (e_i - e_j) \\right)^{-1/4},\n",
    "```\n",
    "        and $[K]$ denotes the characteristics of the vector of Riemann constants. (The expression for $C$ comes from {cite}`enolski_inversion_2012`, p.9, Eq. II.41)\n",
    "````\n",
    "\n",
    "```{note}\n",
    "    The assumed formula for the constant $C$ is burdened with uncertainty because in another classical source {cite}`buchstaber_hyperelliptic_1996` one can find a different formulation for it. However, it will not affect the final formulas in the following parts of the code because it will be contracted.    \n",
    "```  "
   ]
  },
  {
   "cell_type": "code",
   "execution_count": 29,
   "metadata": {},
   "outputs": [],
   "source": [
    "# We define variables\n",
    "var('U1 U3')\n",
    "\n",
    "# We define the accuracy of theta function\n",
    "Acc=20\n",
    "\n",
    "\n",
    "# sigma\n",
    "def Tsigma(U1, U3):\n",
    "    e = exp(-(1/2)*(vector([U1, U3])*kappa*vector([U1, U3])))\n",
    "    theta = ThetaCh(KCh, omega_inv * vector([U1, U3]), tau, Acc)\n",
    "    return e*theta\n",
    "\n",
    "# C constant\n",
    "det_omega = omega.determinant()\n",
    "g = 2\n",
    "#Branch points\n",
    "BP=find_branch_points(l0, l2, l4, l6, l8, l10)\n",
    "e1, e2, e3, e4, e5 = BP[0], BP[1], BP[2], BP[3], BP[4]\n",
    "prod=(e1-e2)*(e2-e3)*(e3-e4)*(e4-e5)\n",
    "C = sqrt(pi**g / det_omega) * prod**(-1/4)\n",
    "\n",
    "def sigma(U1, U3):\n",
    "    return C*Tsigma(U1, U3)"
   ]
  },
  {
   "cell_type": "markdown",
   "metadata": {},
   "source": [
    "###  Approximate definitions\n",
    "\n",
    "````{prf:definition}\n",
    ":label: sigma_app1_df\n",
    "\n",
    "Based on the work {cite}`donagi_-functions_2020` p.20, Eq. (3.22), we can write first approximation of $\\mathbf{u}=(u_1,u_3)$ for small values\n",
    "```{math}\n",
    "        \\sigma(\\mathbf{u}) = u_3 - \\frac{1}{3} u_1^2 + \\frac{1}{6}\\lambda_6 u_3^3 - \\frac{1}{12}\\lambda_4 u_1^4 u_3 - \\frac{1}{6} \\lambda_6 u_1^3 u_3^2 - \\frac{1}{6} \\lambda_8 u_1^2 u_3^3 - \\frac{1}{3} \\lambda_{10} u_1 u_3^4 +\\left( \\frac{1}{60} \\lambda_4 \\lambda_8 + \\frac{1}{120} \\lambda_6^2\\right) u_3^5 +(u^7).\n",
    "```\n",
    "````    "
   ]
  },
  {
   "cell_type": "code",
   "execution_count": 30,
   "metadata": {},
   "outputs": [],
   "source": [
    "def sigmaApp1(U1, U3):\n",
    "    result = (U3 \n",
    "              - (1/3) * U1**3 \n",
    "              + (1/6) * l6 * U3**3 \n",
    "              - (1/12) * l4 * U1**4 * U3 \n",
    "              - (1/6) * l6 * U1**3 * U3**2\n",
    "              - (1/6) * l8 * U1**2 * U3**3 \n",
    "              - (1/3) * l10 * U1 * U3**4 \n",
    "              + (1/60) * l4 * l8 * U3**5 \n",
    "              + (1/120) * l6**2 * U3**5)\n",
    "    return result"
   ]
  },
  {
   "cell_type": "markdown",
   "metadata": {},
   "source": [
    "````{prf:definition}\n",
    ":label: sigma_app2_df\n",
    "\n",
    "Based on the work {cite}`eilbeck_theory_2017` p.34, Eq. (3.22), we can write first approximation of $\\mathbf{u}=(u_1,u_3)$ for small values\n",
    "```{math}\n",
    "    \\begin{aligned}\n",
    "        \\sigma(\\mathbf{u}) = & u_3 - \\frac{1}{3} u_1^2 + \\frac{1}{6}\\lambda_6 u_3^3 - \\frac{1}{12}\\lambda_4 u_1^4 u_3 - \\frac{1}{6} \\lambda_6 u_1^3 u_3^2 - \\frac{1}{6} \\lambda_8 u_1^2 u_3^3 - \\frac{1}{3} \\lambda_{10} u_1 u_3^4 +\\left( \\frac{1}{60} \\lambda_4 \\lambda_8 + \\frac{1}{120} \\lambda_6^2\\right) u_3^5 +(u^7) \\\\\n",
    "        & - \\frac{4}{7!} \\lambda_4 *u_1^7 + \\frac{69}{9!} \\lambda_6 u_1^9 - \\frac{8}{6!}\\lambda_6 u_3 u_1^6 + (1600\\lambda_8 - 408 \\lambda_4^2) \\frac{u^11}{11!} - (4\\lambda_4^2 + 32 \\lambda_8)\\frac{u_3 u_1^8}{8!} - \\frac{8}{2! 5!} \\lambda_8 u_3^2 u_1^5.  \n",
    "    \\end{aligned}    \n",
    "```\n",
    "````      "
   ]
  },
  {
   "cell_type": "code",
   "execution_count": 31,
   "metadata": {},
   "outputs": [],
   "source": [
    "def sigmaApp2(U1, U3):\n",
    "    result = (U3 \n",
    "              - (1/3) * U1**3 \n",
    "              + (1/6) * l6 * U3**3 \n",
    "              - (1/12) * l4 * U1**4 * U3 \n",
    "              - (1/6) * l6 * U1**3 * U3**2\n",
    "              - (1/6) * l8 * U1**2 * U3**3 \n",
    "              - (1/3) * l10 * U1 * U3**4 \n",
    "              + (1/60) * l4 * l8 * U3**5 \n",
    "              + (1/120) * l6**2 * U3**5\n",
    "              - (4/factorial(7)) * l4 * U1**7\n",
    "              + (64/factorial(9)) * l6 * U1**9\n",
    "              - (8/factorial(6)) * l6 * U3 * U1**6\n",
    "              + (1600 * l8 - 408 * l4**2) * (1/factorial(11)) * U1**11\n",
    "              - (4 * l4**2 + 32 * l8) * (1/factorial(8)) * U3 * U1**8\n",
    "              - (4/factorial(5)) * l8 * U3**2 * U1**5\n",
    "             )\n",
    "    \n",
    "    return result"
   ]
  },
  {
   "cell_type": "markdown",
   "metadata": {},
   "source": [
    "### Tests\n",
    "\n",
    "Let's check how approximate sigmas relate to the exact definition. We operate on the ratios to get rid of the dependence on the constant $C$"
   ]
  },
  {
   "cell_type": "code",
   "execution_count": 32,
   "metadata": {},
   "outputs": [
    {
     "data": {
      "text/plain": [
       "2.52747253533945"
      ]
     },
     "execution_count": 32,
     "metadata": {},
     "output_type": "execute_result"
    }
   ],
   "source": [
    "sigmaApp1(0.00015,0.00023)/sigmaApp1(0.000071,0.000091)"
   ]
  },
  {
   "cell_type": "code",
   "execution_count": 33,
   "metadata": {},
   "outputs": [
    {
     "data": {
      "text/plain": [
       "2.27708680068096 - 6.52811138479592e-14*I"
      ]
     },
     "execution_count": 33,
     "metadata": {},
     "output_type": "execute_result"
    }
   ],
   "source": [
    "sigma(0.00015,0.00023)/sigma(0.000071,0.000091)"
   ]
  },
  {
   "cell_type": "code",
   "execution_count": 34,
   "metadata": {},
   "outputs": [],
   "source": [
    "u1=2.21231\n",
    "u3=7.32112\n",
    "\n",
    "k1=8.8976\n",
    "k3=5.2315"
   ]
  },
  {
   "cell_type": "code",
   "execution_count": 35,
   "metadata": {},
   "outputs": [
    {
     "name": "stdout",
     "output_type": "stream",
     "text": [
      "Result for comparison with sigmaApp1:\n",
      "-0.918639409348416 - 1.11022302462516e-16*I\n",
      "\n",
      "Result for comparison with sigmaApp2:\n",
      "-0.918639706374918 - 1.11022302462516e-16*I\n",
      "\n",
      "Difference between sigmaApp1 and sigmaApp2:\n",
      "-2.97026502282804e-7\n"
     ]
    }
   ],
   "source": [
    "d=10^(-2)\n",
    "\n",
    "testS = sigma(u1*d,u3*d)/sigma(k1*d,k3*d)\n",
    "testSApp1 = sigmaApp1(u1*d,u3*d)/sigmaApp1(k1*d,k3*d)\n",
    "testSApp2 = sigmaApp2(u1*d,u3*d)/sigmaApp2(k1*d,k3*d)\n",
    "\n",
    "print(\"Result for comparison with sigmaApp1:\")\n",
    "print(testS-testSApp1)\n",
    "print()\n",
    "print(\"Result for comparison with sigmaApp2:\")\n",
    "print(testS-testSApp2)\n",
    "print()\n",
    "print(\"Difference between sigmaApp1 and sigmaApp2:\")\n",
    "print(testSApp1-testSApp2)"
   ]
  },
  {
   "cell_type": "code",
   "execution_count": 36,
   "metadata": {},
   "outputs": [
    {
     "name": "stdout",
     "output_type": "stream",
     "text": [
      "Result for comparison with sigmaApp1:\n",
      "-0.884388199106624 + 8.44047054471275e-14*I\n",
      "\n",
      "Result for comparison with sigmaApp2:\n",
      "-0.884388199106624 + 8.44047054471275e-14*I\n",
      "\n",
      "Difference between sigmaApp1 and sigmaApp2:\n",
      "0.000000000000000\n"
     ]
    }
   ],
   "source": [
    "d=10^(-5)\n",
    "\n",
    "testS = sigma(u1*d,u3*d)/sigma(k1*d,k3*d)\n",
    "testSApp1 = sigmaApp1(u1*d,u3*d)/sigmaApp1(k1*d,k3*d)\n",
    "testSApp2 = sigmaApp2(u1*d,u3*d)/sigmaApp2(k1*d,k3*d)\n",
    "\n",
    "print(\"Result for comparison with sigmaApp1:\")\n",
    "print(testS-testSApp1)\n",
    "print()\n",
    "print(\"Result for comparison with sigmaApp2:\")\n",
    "print(testS-testSApp2)\n",
    "print()\n",
    "print(\"Difference between sigmaApp1 and sigmaApp2:\")\n",
    "print(testSApp1-testSApp2)"
   ]
  },
  {
   "cell_type": "code",
   "execution_count": 37,
   "metadata": {},
   "outputs": [
    {
     "name": "stdout",
     "output_type": "stream",
     "text": [
      "Result for comparison with sigmaApp1:"
     ]
    },
    {
     "name": "stdout",
     "output_type": "stream",
     "text": [
      "\n",
      "-0.884388165458948 - 1.88429921804678e-8*I\n",
      "\n",
      "Result for comparison with sigmaApp2:\n",
      "-0.884388165458948 - 1.88429921804678e-8*I\n",
      "\n",
      "Difference between sigmaApp1 and sigmaApp2:\n",
      "0.000000000000000\n"
     ]
    }
   ],
   "source": [
    "d=10^(-10)\n",
    "\n",
    "testS = sigma(u1*d,u3*d)/sigma(k1*d,k3*d)\n",
    "testSApp1 = sigmaApp1(u1*d,u3*d)/sigmaApp1(k1*d,k3*d)\n",
    "testSApp2 = sigmaApp2(u1*d,u3*d)/sigmaApp2(k1*d,k3*d)\n",
    "\n",
    "print(\"Result for comparison with sigmaApp1:\")\n",
    "print(testS-testSApp1)\n",
    "print()\n",
    "print(\"Result for comparison with sigmaApp2:\")\n",
    "print(testS-testSApp2)\n",
    "print()\n",
    "print(\"Difference between sigmaApp1 and sigmaApp2:\")\n",
    "print(testSApp1-testSApp2)"
   ]
  },
  {
   "cell_type": "code",
   "execution_count": 38,
   "metadata": {},
   "outputs": [
    {
     "name": "stdout",
     "output_type": "stream",
     "text": [
      "Result for comparison with sigmaApp1:\n",
      "-0.885876764827322 - 0.00180870273726220*I\n",
      "\n",
      "Result for comparison with sigmaApp2:\n",
      "-0.885876764827322 - 0.00180870273726220*I\n",
      "\n",
      "Difference between sigmaApp1 and sigmaApp2:\n",
      "0.000000000000000\n"
     ]
    }
   ],
   "source": [
    "d=10^(-15)\n",
    "\n",
    "testS = sigma(u1*d,u3*d)/sigma(k1*d,k3*d)\n",
    "testSApp1 = sigmaApp1(u1*d,u3*d)/sigmaApp1(k1*d,k3*d)\n",
    "testSApp2 = sigmaApp2(u1*d,u3*d)/sigmaApp2(k1*d,k3*d)\n",
    "\n",
    "print(\"Result for comparison with sigmaApp1:\")\n",
    "print(testS-testSApp1)\n",
    "print()\n",
    "print(\"Result for comparison with sigmaApp2:\")\n",
    "print(testS-testSApp2)\n",
    "print()\n",
    "print(\"Difference between sigmaApp1 and sigmaApp2:\")\n",
    "print(testSApp1-testSApp2)"
   ]
  },
  {
   "cell_type": "markdown",
   "metadata": {},
   "source": [
    "It seems that both approximations are similar. \n",
    "  \n",
    "Let's check the $C$ constant. Since in the first order the function $\\sigma$ is linear in $u_1$:\n",
    "```{math}\n",
    "        \\sigma(\\mathbf{u}) = u_3 + \\ldots\n",
    "```\n",
    "then for $u_1\\approx0$ we can estimate:\n",
    "```{math}\n",
    "        C \\approx \\frac{u_3}{\\tilde{\\sigma}(\\mathbf{u})}.\n",
    "```"
   ]
  },
  {
   "cell_type": "code",
   "execution_count": 39,
   "metadata": {},
   "outputs": [
    {
     "name": "stdout",
     "output_type": "stream",
     "text": [
      "C from definition:\n",
      "1.37901860572385 + 1.32549303772618*I\n",
      "\n",
      "Approximate C:\n",
      "-0.394449548035149 + 0.592130183781794*I\n"
     ]
    }
   ],
   "source": [
    "u1=10^(-20)\n",
    "u3=0.0012131\n",
    "\n",
    "Capp=u3/Tsigma(u1,u3)\n",
    "print(\"C from definition:\")\n",
    "print(C)\n",
    "print()\n",
    "print(\"Approximate C:\")\n",
    "print(Capp)"
   ]
  },
  {
   "cell_type": "markdown",
   "metadata": {},
   "source": [
    "The result doesn't match, so it's something that can be improved in the future"
   ]
  },
  {
   "cell_type": "markdown",
   "metadata": {},
   "source": [
    "## $\\wp$-Functions\n",
    "\n",
    "````{prf:definition}\n",
    ":label: wp_df\n",
    "\n",
    "Multiply periodic Klein-Weierstrass $\\wp$-functions are defined by\n",
    "```{math}\n",
    "    \\wp_{ij}(\\mathbf{u}):= - \\frac{\\partial^2\\log{\\sigma(\\mathbf{u})}}{\\partial u_i \\partial u_j}, \\quad \\wp_{ijk}:=- \\frac{\\partial^3\\log{\\sigma(\\mathbf{u})}}{\\partial u_i \\partial u_j \\partial u_k},\n",
    "```\n",
    "where $\\sigma(u)$ is called <i>sigma function</i>. This can be also written by \n",
    "```{math}\n",
    "    \\wp_{ij} = \\frac{\\sigma_i(\\mathbf{u})\\sigma_j(\\mathbf{u}) - \\sigma(\\mathbf{u})\\sigma_{ij}(\\mathbf{u})}{\\sigma^2(\\mathbf{u})} = \\frac{\\tilde{\\sigma}_i(\\mathbf{u})\\tilde{\\sigma}_j(\\mathbf{u}) - \\tilde{\\sigma}(\\mathbf{u})\\tilde{\\sigma}_{ij}(\\mathbf{u})}{\\tilde{\\sigma}^2(\\mathbf{u})},\n",
    "```\n",
    "where $\\sigma_i(\\mathbf{u})$ denotes the derivative of the sigma function with respect to the $i$-th component of $\\mathbf{u}$. \n",
    "  \n",
    "It can be shown that the above definitions can be written in the form\n",
    "```{math}\n",
    "    \\wp_{ij}:=\\kappa_{ij} - \\frac{\\partial^2}{\\partial u_i \\partial u_j}\\log{\\theta[K](\\omega^{-1}u;\\tau)}, \\quad \\wp_{ijk}:=- \\frac{\\partial^3}{\\partial u_i \\partial u_j \\partial u_k}\\log{\\theta[K](\\omega^{-1}u;\\tau)}.\n",
    "```\n",
    "````        "
   ]
  },
  {
   "cell_type": "code",
   "execution_count": 40,
   "metadata": {},
   "outputs": [],
   "source": [
    "#definition with thetas\n",
    "# We define variables\n",
    "var('U1 U3')\n",
    "\n",
    "# We define the accuracy of theta function\n",
    "Acc=20\n",
    "\n",
    "\n",
    "# WeierstrassP11\n",
    "def WeierstrassP11(u1_val, u3_val):\n",
    "    symbolic_expr = kappa[0, 0] - diff(log(ThetaCh(KCh, omega_inv * vector([U1, U3]), tau, Acc)), U1, 2)\n",
    "    return symbolic_expr.subs({U1: u1_val, U3: u3_val}).n()\n",
    "\n",
    "# WeierstrassP13\n",
    "def WeierstrassP13(u1_val, u3_val):\n",
    "    symbolic_expr = kappa[0, 1] - diff(log(ThetaCh(KCh, omega_inv * vector([U1, U3]), tau, Acc)),  U1, U3)\n",
    "    return symbolic_expr.subs({U1: u1_val, U3: u3_val}).n()\n",
    "\n",
    "# WeierstrassP33\n",
    "def WeierstrassP33(u1_val, u3_val):\n",
    "    symbolic_expr = kappa[1, 1] - diff(log(ThetaCh(KCh, omega_inv * vector([U1, U3]), tau, Acc)), U3, 2)\n",
    "    return symbolic_expr.subs({U1: u1_val, U3: u3_val}).n()\n",
    "\n",
    "# WeierstrassP3333\n",
    "def WeierstrassP3333(u1_val, u3_val):\n",
    "    symbolic_expr = kappa[1, 1] - diff(log(ThetaCh(KCh, omega_inv * vector([U1, U3]), tau, Acc)), U3, 4)\n",
    "    return symbolic_expr.subs({U1: u1_val, U3: u3_val}).n()\n"
   ]
  },
  {
   "cell_type": "code",
   "execution_count": 41,
   "metadata": {},
   "outputs": [],
   "source": [
    "# Definition with sigmas\n",
    "\n",
    "\n",
    "# WeierstrassP11\n",
    "def Weierstrass2P11(u1_val, u3_val):\n",
    "    U1, U3 = var('U1 U3')\n",
    "    sigma_expr = Tsigma(U1, U3)\n",
    "    sigma1 = diff(sigma_expr, U1)\n",
    "    sigma11 = diff(sigma_expr, U1, 2)\n",
    "    symbolic_expr = (sigma1*sigma1 - sigma_expr*sigma11)/(sigma_expr^2)\n",
    "    return symbolic_expr.subs({U1: u1_val, U3: u3_val}).n()\n",
    "\n",
    "# WeierstrassP13\n",
    "def Weierstrass2P13(u1_val, u3_val):\n",
    "    U1, U3 = var('U1 U3')\n",
    "    sigma_expr = Tsigma(U1, U3)\n",
    "    sigma1 = diff(sigma_expr, U1)\n",
    "    sigma3 = diff(sigma_expr, U3)\n",
    "    sigma13 = diff(sigma_expr, U1, U3)\n",
    "    symbolic_expr = (sigma1*sigma3 - sigma_expr*sigma13)/(sigma_expr^2)\n",
    "    return symbolic_expr.subs({U1: u1_val, U3: u3_val}).n()\n",
    "    \n",
    "# WeierstrassP33\n",
    "def Weierstrass2P33(u1_val, u3_val):\n",
    "    U1, U3 = var('U1 U3')\n",
    "    sigma_expr = Tsigma(U1, U3)\n",
    "    sigma3 = diff(sigma_expr, U3)\n",
    "    sigma33 = diff(sigma_expr, U3, 2)\n",
    "    symbolic_expr = (sigma3*sigma3 - sigma_expr*sigma33)/(sigma_expr^2)\n",
    "    return symbolic_expr.subs({U1: u1_val, U3: u3_val}).n()    "
   ]
  },
  {
   "cell_type": "markdown",
   "metadata": {},
   "source": [
    "### Tests\n",
    "\n",
    "As a first test of these functions, we can check if they satisfy the key property  \n",
    "```{math}\n",
    "    \\wp_{ij}(\\mathbf{u}+2\\omega \\mathbf{n} + 2\\omega'\\mathbf{n}') = \\wp_{ij}(\\mathbf{u}),\n",
    "```\n",
    "where\n",
    "```{math}\n",
    "    \\mathbf{n} = \n",
    "        \\begin{pmatrix}\n",
    "            n_1\\\\\n",
    "            n_2\n",
    "        \\end{pmatrix}, \\quad\n",
    "    \\mathbf{n}' = \n",
    "        \\begin{pmatrix}\n",
    "            n'_1\\\\\n",
    "            n'_2\n",
    "        \\end{pmatrix} \\in \\mathbb{Z}^2.\n",
    "```"
   ]
  },
  {
   "cell_type": "code",
   "execution_count": 42,
   "metadata": {},
   "outputs": [
    {
     "name": "stdout",
     "output_type": "stream",
     "text": [
      "Theta based definitions\n",
      "\n",
      "Test P11:\n"
     ]
    },
    {
     "name": "stdout",
     "output_type": "stream",
     "text": [
      "-2.20040874410188e-10 - 3.79429820895893e-12*I\n",
      "\n",
      "Test P13:\n"
     ]
    },
    {
     "name": "stdout",
     "output_type": "stream",
     "text": [
      "-3.93356458516791e-11 - 8.13997758086771e-11*I\n",
      "\n",
      "Test P33:\n"
     ]
    },
    {
     "name": "stdout",
     "output_type": "stream",
     "text": [
      "3.04964942188235e-11 - 4.54747350886464e-11*I\n",
      "\n",
      "\n",
      "Sigma based definitions\n",
      "\n",
      "Test P11:\n"
     ]
    },
    {
     "name": "stdout",
     "output_type": "stream",
     "text": [
      "-5.12834219534852e-12 + 1.49480428035531e-12*I\n",
      "\n",
      "Test P13:\n"
     ]
    },
    {
     "name": "stdout",
     "output_type": "stream",
     "text": [
      "1.05293551655450e-12 - 9.41107986716367e-13*I\n",
      "\n",
      "Test P33:\n"
     ]
    },
    {
     "name": "stdout",
     "output_type": "stream",
     "text": [
      "-5.14432940690313e-12 - 7.08766378920700e-13*I\n"
     ]
    }
   ],
   "source": [
    "ntest = vector([1, 2])\n",
    "nPtest = vector([-3, -5])\n",
    "\n",
    "wn = omega*ntest\n",
    "wPn= omegaP*nPtest\n",
    "\n",
    "print(\"Theta based definitions\")\n",
    "print()\n",
    "print(\"Test P11:\")\n",
    "print(WeierstrassP11(2.0, 3.0) - WeierstrassP11(2.0 + 2*wn[0] + 2*wPn[0], 3.0 + 2*wn[1] + 2*wPn[1]))\n",
    "print()\n",
    "print(\"Test P13:\")\n",
    "print(WeierstrassP13(2.0, 3.0) - WeierstrassP13(2.0 + 2*wn[0] + 2*wPn[0], 3.0 + 2*wn[1] + 2*wPn[1]))\n",
    "print()\n",
    "print(\"Test P33:\")\n",
    "print(WeierstrassP33(2.0, 3.0) - WeierstrassP33(2.0 + 2*wn[0] + 2*wPn[0], 3.0 + 2*wn[1] + 2*wPn[1]))\n",
    "print()\n",
    "print()\n",
    "print(\"Sigma based definitions\")\n",
    "print()\n",
    "print(\"Test P11:\")\n",
    "print(Weierstrass2P11(2.0, 3.0) - Weierstrass2P11(2.0 + 2*wn[0] + 2*wPn[0], 3.0 + 2*wn[1] + 2*wPn[1]))\n",
    "print()\n",
    "print(\"Test P13:\")\n",
    "print(Weierstrass2P13(2.0, 3.0) - Weierstrass2P13(2.0 + 2*wn[0] + 2*wPn[0], 3.0 + 2*wn[1] + 2*wPn[1]))\n",
    "print()\n",
    "print(\"Test P33:\")\n",
    "print(Weierstrass2P33(2.0, 3.0) - Weierstrass2P33(2.0 + 2*wn[0] + 2*wPn[0], 3.0 + 2*wn[1] + 2*wPn[1]))"
   ]
  },
  {
   "cell_type": "code",
   "execution_count": 43,
   "metadata": {},
   "outputs": [
    {
     "name": "stdout",
     "output_type": "stream",
     "text": [
      "Theta based definitions\n",
      "\n",
      "Test P11:\n"
     ]
    },
    {
     "name": "stdout",
     "output_type": "stream",
     "text": [
      "1.53477230924182e-12 + 3.56692453351570e-12*I\n",
      "\n",
      "Test P13:\n"
     ]
    },
    {
     "name": "stdout",
     "output_type": "stream",
     "text": [
      "2.06341610464733e-11 - 4.76347850053571e-11*I\n",
      "\n",
      "Test P33:\n"
     ]
    },
    {
     "name": "stdout",
     "output_type": "stream",
     "text": [
      "-2.78532752417959e-12 + 1.07434061646927e-11*I\n",
      "\n",
      "\n",
      "Sigma based definitions\n",
      "\n",
      "Test P11:\n"
     ]
    },
    {
     "name": "stdout",
     "output_type": "stream",
     "text": [
      "NaN + 5.66657831768680e-13*I\n",
      "\n",
      "Test P13:\n"
     ]
    },
    {
     "name": "stdout",
     "output_type": "stream",
     "text": [
      "NaN - 5.54251612982271e-15*I\n",
      "\n",
      "Test P33:\n"
     ]
    },
    {
     "name": "stdout",
     "output_type": "stream",
     "text": [
      "NaN - +infinity*I\n"
     ]
    }
   ],
   "source": [
    "ntest = vector([10, -30])\n",
    "nPtest = vector([3, -3])\n",
    "\n",
    "wn = omega*ntest\n",
    "wPn= omegaP*nPtest\n",
    "\n",
    "print(\"Theta based definitions\")\n",
    "print()\n",
    "print(\"Test P11:\")\n",
    "print(WeierstrassP11(2.0, 3.0) - WeierstrassP11(2.0 + 2*wn[0] + 2*wPn[0], 3.0 + 2*wn[1] + 2*wPn[1]))\n",
    "print()\n",
    "print(\"Test P13:\")\n",
    "print(WeierstrassP13(2.0, 3.0) - WeierstrassP13(2.0 + 2*wn[0] + 2*wPn[0], 3.0 + 2*wn[1] + 2*wPn[1]))\n",
    "print()\n",
    "print(\"Test P33:\")\n",
    "print(WeierstrassP33(2.0, 3.0) - WeierstrassP33(2.0 + 2*wn[0] + 2*wPn[0], 3.0 + 2*wn[1] + 2*wPn[1]))\n",
    "print()\n",
    "print()\n",
    "print(\"Sigma based definitions\")\n",
    "print()\n",
    "print(\"Test P11:\")\n",
    "print(Weierstrass2P11(2.0, 3.0) - Weierstrass2P11(2.0 + 2*wn[0] + 2*wPn[0], 3.0 + 2*wn[1] + 2*wPn[1]))\n",
    "print()\n",
    "print(\"Test P13:\")\n",
    "print(Weierstrass2P13(2.0, 3.0) - Weierstrass2P13(2.0 + 2*wn[0] + 2*wPn[0], 3.0 + 2*wn[1] + 2*wPn[1]))\n",
    "print()\n",
    "print(\"Test P33:\")\n",
    "print(Weierstrass2P33(2.0, 3.0) - Weierstrass2P33(2.0 + 2*wn[0] + 2*wPn[0], 3.0 + 2*wn[1] + 2*wPn[1]))"
   ]
  },
  {
   "cell_type": "markdown",
   "metadata": {},
   "source": [
    "```{important}\n",
    "I'm not sure why (probably from the way SageMath deals with numerics) the above test is satisfied for arbitrary vectors $\\mathbf{n}$ however the coordinates of vectors $\\mathbf{n}'$ should be \"small\", i.e. $|n'_i|<4$.     \n",
    "```"
   ]
  },
  {
   "cell_type": "code",
   "execution_count": 44,
   "metadata": {},
   "outputs": [
    {
     "name": "stdout",
     "output_type": "stream",
     "text": [
      "Theta based definitions\n",
      "\n",
      "Test P11:\n"
     ]
    },
    {
     "name": "stdout",
     "output_type": "stream",
     "text": [
      "1455.83379737340 - 304.287205828748*I\n",
      "\n",
      "Test P13:\n"
     ]
    },
    {
     "name": "stdout",
     "output_type": "stream",
     "text": [
      "1590.65313919950 - 3793.73914184472*I\n",
      "\n",
      "Test P33:\n"
     ]
    },
    {
     "name": "stdout",
     "output_type": "stream",
     "text": [
      "-6146.83000392507 - 9574.88959406405*I\n",
      "\n",
      "\n",
      "Sigma based definitions\n",
      "\n",
      "Test P11:\n"
     ]
    },
    {
     "name": "stdout",
     "output_type": "stream",
     "text": [
      "NaN + 5.66657831768680e-13*I\n",
      "\n",
      "Test P13:\n"
     ]
    },
    {
     "name": "stdout",
     "output_type": "stream",
     "text": [
      "NaN - 5.54251612982271e-15*I\n",
      "\n",
      "Test P33:\n"
     ]
    },
    {
     "name": "stdout",
     "output_type": "stream",
     "text": [
      "NaN - 1.59872115546023e-13*I\n"
     ]
    }
   ],
   "source": [
    "ntest = vector([1,2])\n",
    "nPtest = vector([4, -4])\n",
    "\n",
    "wn = omega*ntest\n",
    "wPn= omegaP*nPtest\n",
    "\n",
    "print(\"Theta based definitions\")\n",
    "print()\n",
    "print(\"Test P11:\")\n",
    "print(WeierstrassP11(2.0, 3.0) - WeierstrassP11(2.0 + 2*wn[0] + 2*wPn[0], 3.0 + 2*wn[1] + 2*wPn[1]))\n",
    "print()\n",
    "print(\"Test P13:\")\n",
    "print(WeierstrassP13(2.0, 3.0) - WeierstrassP13(2.0 + 2*wn[0] + 2*wPn[0], 3.0 + 2*wn[1] + 2*wPn[1]))\n",
    "print()\n",
    "print(\"Test P33:\")\n",
    "print(WeierstrassP33(2.0, 3.0) - WeierstrassP33(2.0 + 2*wn[0] + 2*wPn[0], 3.0 + 2*wn[1] + 2*wPn[1]))\n",
    "print()\n",
    "print()\n",
    "print(\"Sigma based definitions\")\n",
    "print()\n",
    "print(\"Test P11:\")\n",
    "print(Weierstrass2P11(2.0, 3.0) - Weierstrass2P11(2.0 + 2*wn[0] + 2*wPn[0], 3.0 + 2*wn[1] + 2*wPn[1]))\n",
    "print()\n",
    "print(\"Test P13:\")\n",
    "print(Weierstrass2P13(2.0, 3.0) - Weierstrass2P13(2.0 + 2*wn[0] + 2*wPn[0], 3.0 + 2*wn[1] + 2*wPn[1]))\n",
    "print()\n",
    "print(\"Test P33:\")\n",
    "print(Weierstrass2P33(2.0, 3.0) - Weierstrass2P33(2.0 + 2*wn[0] + 2*wPn[0], 3.0 + 2*wn[1] + 2*wPn[1]))"
   ]
  },
  {
   "cell_type": "markdown",
   "metadata": {},
   "source": [
    "````{prf:observation}\n",
    "So neither of them is perfect, but for now the definition based directly on the theta function seems to work better.\n",
    "````\n",
    "\n",
    "```{note}\n",
    "For future tests it would be good to derive one of the classical relations between derivatives of the function $\\wp_{ij}$ for our specific parameterisation of the curve. Something similar like in {cite}`athorne_sl2_2004`.\n",
    "    </p>\n",
    "```"
   ]
  },
  {
   "cell_type": "markdown",
   "metadata": {},
   "source": [
    "## Jacobi inversion problem on branch points\n",
    "\n",
    "Let $\\mathbf{u}=\\mathcal{A}(D)$ be the Abel image of a degree g positive non-special divisor $D$ on the curve. Then $D$ is uniquely defined by the system of equations:\n",
    "```{math}\n",
    "        \\mathcal{R}_{2g}(x;\\mathbf{u}) = x^g - \\sum_{i=1}^g x^{g-1} \\wp_{1,2i-1}(\\mathbf{u}) =0,\n",
    "```\n",
    "```{math}\n",
    "        \\mathcal{R}_{2g+1}(x,y;\\mathbf{u}) = 2y + \\sum_{i=1}^{g-i} x^{g-1} \\wp_{1,1,2i-1}(\\mathbf{u}) =0.\n",
    "```\n",
    "So in case of $g=2$:    \n",
    "```{math}\n",
    "        \\mathcal{R}_4(x;\\mathbf{u})=x^2 - x\\wp_{11}(\\mathbf{u})- \\wp_{13}(\\mathbf{u})=0,\n",
    "```   \n",
    "```{math}\n",
    "        \\mathcal{R}_5 (x;\\mathbf{u})= 2y + x\\wp_{111}(\\mathbf{u}) + \\wp_{113}(\\mathbf{u})=0.\n",
    "```\n",
    "\n",
    "````{prf:definition}\n",
    ":label: divisor_df\n",
    "\n",
    "Let \n",
    "```{math}\n",
    "        D=\\sum_{i=1}^n P_i,\n",
    "```\n",
    "be a divisor on a curve $\\mathscr{C}$. We assume that $D$ is <b>non-special</b>, that is \n",
    "- $ n\\geq g$,\n",
    "- $D$ does not contain pairs of points connected by the hyperelliptic involution.\n",
    "\n",
    "````\n",
    "\n",
    "```{note}\n",
    "\n",
    "On special divisors $\\sigma$-function vanishes, and so $\\wp$-functions have singularities.\n",
    "\n",
    "```\n",
    "\n",
    "As a point $P_i$ we choose\n",
    "```{math}\n",
    "    P_i = (x_i,y_i) = (x_i, y_{+}(x_i)),\n",
    "```\n",
    "where $y_{+}(x) = + \\sqrt{y^2(x)}$ (there is second option $y_{-}(x) = - \\sqrt{y^2(x)}$ ). \n",
    "\n",
    "In our case let's take\n",
    "```{math}\n",
    "    P_1 = (x_1, y_1)=(1.5,y_{+}(1.5))\n",
    "```\n",
    "```{math}\n",
    "    P_2 = (x_2, y_2)=(3.1,y_{+}(3.1))\n",
    "```"
   ]
  },
  {
   "cell_type": "code",
   "execution_count": 45,
   "metadata": {},
   "outputs": [],
   "source": [
    "# Definition of y function \n",
    "def y(x):\n",
    "    res = sqrt(l0*x^5 + l2*x^4 + l4*x^3 + l6*x^2 + l8*x + l10)\n",
    "    return res.n()"
   ]
  },
  {
   "cell_type": "markdown",
   "metadata": {},
   "source": [
    "To calculate $\\mathbf{u}$ I will use the Sage function:  `abel_jacobi()`, where it expects lists of tuples in the format  `(v,P)`, where  `v` is the multiplicity of the point in the divisor (in our case 1 for both points), and  `P` is a tuple  `(x,y)` representing the point on the curve. \n",
    "  \n",
    "The multiplicity `v` (also called valuation) in the context of divisors determines how many times a given point appears in the divisor. Here are some key points:\n",
    "- For regular points on the curve that are neither singular points nor points at infinity, typically $v = 1$ or $v = -1$ is used.\n",
    "$v = 1$ means the point appears positively in the divisor (it is \"added\").\n",
    "- $v = -1$ means the point appears negatively in the divisor (it is \"subtracted\").\n",
    "- If a point appears multiple times, $v$ can be greater than 1 or less than -1.\n",
    "- For special points (e.g., points at infinity or singular points), v may take other values depending on the local structure of the curve at that point.\n",
    "  \n",
    "  \n",
    "In your case, where you define the divisor as a sum of two regular points: `D = [x1 + x2, y1 + y2]` each of these points appears once positively in the divisor, so for both points`v = 1`. Therefore, divisor in the format suitable for the `abel_jacobi()` function would look like this:  "
   ]
  },
  {
   "cell_type": "code",
   "execution_count": 46,
   "metadata": {},
   "outputs": [],
   "source": [
    "x1 = 0.256\n",
    "x2 = 11.721\n",
    "\n",
    "y1 = y(x1)\n",
    "y2 = y(x2)\n",
    "\n",
    "# P_i points\n",
    "P1 = [ x1, y1 ] \n",
    "P2 = [ x2, y2 ]\n",
    "\n",
    "# Divisor\n",
    "divisor = [(1, (x1, y1)), (1, (x2, y2))]"
   ]
  },
  {
   "cell_type": "markdown",
   "metadata": {},
   "source": [
    "```{note}\n",
    "If one wanted to define a more complex divisor, for example, the difference of two points, it might look like this:  \n",
    "`divisor = [(1, (x1, y1)), (-1, (x2, y2))]`  \n",
    "where -1 indicates that the second point is subtracted in the divisor.\n",
    "```"
   ]
  },
  {
   "cell_type": "code",
   "execution_count": 47,
   "metadata": {},
   "outputs": [
    {
     "name": "stdout",
     "output_type": "stream",
     "text": [
      "(-0.095227328487916328568064649224 - 0.47103938123276306779408678278*I, -0.94610300133296732955826058561 - 0.36651365565790567383047992719*I)\n"
     ]
    }
   ],
   "source": [
    "AJ = S.abel_jacobi(divisor)\n",
    "\n",
    "print(AJ)"
   ]
  },
  {
   "cell_type": "markdown",
   "metadata": {},
   "source": [
    "### Tests"
   ]
  },
  {
   "cell_type": "code",
   "execution_count": 48,
   "metadata": {},
   "outputs": [
    {
     "name": "stdout",
     "output_type": "stream",
     "text": [
      "P11(u):\n"
     ]
    },
    {
     "name": "stdout",
     "output_type": "stream",
     "text": [
      "6.36829653384861 - 4.59081552648913*I\n",
      "P13(u):\n"
     ]
    },
    {
     "name": "stdout",
     "output_type": "stream",
     "text": [
      "-9.85938695314932 - 1.97507933943491*I\n",
      "P33(u):\n"
     ]
    },
    {
     "name": "stdout",
     "output_type": "stream",
     "text": [
      "6.36829653384861 - 4.59081552648913*I\n"
     ]
    }
   ],
   "source": [
    "u1=AJ[0]\n",
    "u3=AJ[1]\n",
    "\n",
    "print(\"P11(u):\")\n",
    "print(WeierstrassP11(u1, u3))\n",
    "\n",
    "print(\"P13(u):\")\n",
    "print(WeierstrassP13(u1, u3))\n",
    "\n",
    "print(\"P33(u):\")\n",
    "print(WeierstrassP11(u1, u3))"
   ]
  },
  {
   "cell_type": "code",
   "execution_count": 49,
   "metadata": {},
   "outputs": [
    {
     "data": {
      "text/plain": [
       "x^2 - 11.9770000000000*x + 3.00057600000000"
      ]
     },
     "execution_count": 49,
     "metadata": {},
     "output_type": "execute_result"
    }
   ],
   "source": [
    "mat1R4=[[1, x, x^2],[ 1, x1, x1^2], [1, x2, x2^2]]\n",
    "det1=matrix(mat1R4).determinant()\n",
    "mat2R4=[[ 1, x1], [1, x2]]\n",
    "det2=matrix(mat2R4).determinant()\n",
    "det1/det2"
   ]
  },
  {
   "cell_type": "markdown",
   "metadata": {},
   "source": [
    "````{prf:observation}\n",
    "Ok, this is bad. Not only are the results bad, but $\\wp_{11}$ and $\\wp_{33}$ are identical, and that shouldn't be the case.\n",
    "````"
   ]
  },
  {
   "cell_type": "markdown",
   "metadata": {},
   "source": [
    "## Bibliography\n",
    "\n",
    "```{bibliography}\n",
    ":style: unsrt\n",
    ":filter: docname in docnames\n",
    "```"
   ]
  },
  {
   "cell_type": "code",
   "execution_count": null,
   "metadata": {},
   "outputs": [],
   "source": []
  }
 ],
 "metadata": {
  "kernelspec": {
   "display_name": "SageMath 10.4",
   "language": "sage",
   "name": "sagemath-10.4"
  },
  "language_info": {
   "codemirror_mode": {
    "name": "ipython",
    "version": 3
   },
   "file_extension": ".py",
   "mimetype": "text/x-python",
   "name": "python",
   "nbconvert_exporter": "python",
   "pygments_lexer": "ipython3",
   "version": "3.12.4"
  },
  "widgets": {
   "application/vnd.jupyter.widget-state+json": {
    "state": {},
    "version_major": 2,
    "version_minor": 0
   }
  }
 },
 "nbformat": 4,
 "nbformat_minor": 4
}