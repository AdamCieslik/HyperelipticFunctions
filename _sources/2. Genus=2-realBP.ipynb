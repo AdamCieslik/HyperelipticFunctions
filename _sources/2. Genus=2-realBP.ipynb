{
 "cells": [
  {
   "cell_type": "markdown",
   "metadata": {},
   "source": [
    "# Genus two with real brunch points case\n",
    "\n",
    "\n",
    "So for a curve of genus $g=2$ we get\n",
    "```{math}\n",
    ":label:\n",
    "    f(x,y) = -y^2 + x^5 + \\lambda_2 x^4 + \\lambda_4 x^3+ \\lambda_6 x^2+ \\lambda_8 x+ \\lambda_{10},\n",
    "```  \n",
    "Let's load the appropriate SageMath library and define the curve $\\mathscr{C}$"
   ]
  },
  {
   "cell_type": "code",
   "execution_count": 27,
   "metadata": {},
   "outputs": [],
   "source": [
    "from sage.schemes.riemann_surfaces.riemann_surface import RiemannSurface"
   ]
  },
  {
   "cell_type": "code",
   "execution_count": 63,
   "metadata": {},
   "outputs": [],
   "source": [
    "# Defines the lambda coefficients\n",
    "lambda2 = -1.0\n",
    "lambda4 = -43.0\n",
    "lambda6  = 1.0\n",
    "lambda8  = 402.0\n",
    "lambda10  = 360.0"
   ]
  },
  {
   "cell_type": "markdown",
   "metadata": {},
   "source": [
    "```{important}\n",
    "The coefficients above must be real-floating-point numbers. \n",
    "```\n",
    "```{important}\n",
    "In this notebook, the coefficients have been chosen so that the zeros of the polynomial are real numbers.\n",
    "```"
   ]
  },
  {
   "cell_type": "markdown",
   "metadata": {},
   "source": [
    "Since the current Sage library only works well on the field of rational numbers, we have to approximate all function coefficients by these numbers.\n"
   ]
  },
  {
   "cell_type": "code",
   "execution_count": 64,
   "metadata": {},
   "outputs": [],
   "source": [
    "# Rational approximation\n",
    "l2 = lambda2.nearby_rational(max_error=1e-10)\n",
    "l4 = lambda4.nearby_rational(max_error=1e-10)\n",
    "l6 = lambda6.nearby_rational(max_error=1e-10)\n",
    "l8 = lambda8.nearby_rational(max_error=1e-10)\n",
    "l10 = lambda10.nearby_rational(max_error=1e-10)"
   ]
  },
  {
   "cell_type": "markdown",
   "metadata": {},
   "source": [
    "Next, we need to define the variables $x$ and $y$ in the ring of polynomials over the rational numbers."
   ]
  },
  {
   "cell_type": "code",
   "execution_count": 65,
   "metadata": {},
   "outputs": [],
   "source": [
    "R.<x, y> = PolynomialRing(QQ, 2)"
   ]
  },
  {
   "cell_type": "markdown",
   "metadata": {},
   "source": [
    "```{note}\n",
    "The order of variables can be important depending on how you write your polynomial. Make sure you use the same order in your polynomial expression.\n",
    "```"
   ]
  },
  {
   "cell_type": "code",
   "execution_count": 66,
   "metadata": {},
   "outputs": [],
   "source": [
    "# Defining the polynomial f\n",
    "f = -y^2 + x^5 + l2*x^4 + l4*x^3 + l6*x^2 + l8*x + l10"
   ]
  },
  {
   "cell_type": "markdown",
   "metadata": {},
   "source": [
    "## Riemann surface\n",
    "\n",
    "````{prf:definition}\n",
    ":label: riemann_sur\n",
    "\n",
    "A Riemann surface $X$ is a connected two-dimensional topological manifold with a complex-analytic structure on it. \n",
    "````\n",
    "\n",
    "The SageMath RiemannSurface library provides a function to generate the appropriate Riemann surface, on which we will continue our work."
   ]
  },
  {
   "cell_type": "code",
   "execution_count": 67,
   "metadata": {},
   "outputs": [],
   "source": [
    "S = RiemannSurface(f, prec=100)"
   ]
  },
  {
   "cell_type": "markdown",
   "metadata": {},
   "source": [
    "## Branch points\n",
    "\n",
    "We define a function to compute and display all branch points $e_i$ based on the given coefficients $\\lambda_{2i}$. Branch points correspond to the zeros of the polynomial defined by $f(x, y) = 0$. Specifically, the polynomial is given by:\n",
    "```{math}\n",
    ":label:\n",
    "    y^2 = (x - e_1)(x - e_2)(x - e_3)(x - e_4)(x - e_5).\n",
    "```\n",
    "Here, the branch points $e_i$ are the roots of the polynomial on the right-hand side, which describe the structure of the Riemann surface associated with $f(x, y) = 0$."
   ]
  },
  {
   "cell_type": "code",
   "execution_count": 68,
   "metadata": {},
   "outputs": [],
   "source": [
    "def find_branch_points(ll2, ll4, ll6, ll8, ll10):\n",
    "    # We define a ring of polynomials over the field of complex numbers\n",
    "    CC_poly.<x> = PolynomialRing(CC)\n",
    "    \n",
    "    # We create a polynomial\n",
    "    pol = x^5 + ll2*x^4 + ll4*x^3 + ll6*x^2 + ll8*x + ll10\n",
    "    \n",
    "    # We find roots\n",
    "    roots = pol.roots(multiplicities=False)\n",
    "    \n",
    "    # We add a point at infinity if the degree of the polynomial is odd\n",
    "    if pol.degree() % 2 == 1:\n",
    "        roots.append(infinity)\n",
    "    \n",
    "    return roots"
   ]
  },
  {
   "cell_type": "markdown",
   "metadata": {},
   "source": [
    "```{note}\n",
    "The `multiplicities=False` parameter in the `roots()`  method in Sage has the following meaning:\n",
    "- When `multiplicities=False`  (default): The method returns only the roots of the polynomial, without information about their multiplicities. The result is a list of unique root values.\n",
    "- When `multiplicities=True`: The method returns pairs (root, multiplicity) for each root. The result is a list of tuples, where each tuple contains the root and its multiplicity.\n",
    "```"
   ]
  },
  {
   "cell_type": "code",
   "execution_count": 69,
   "metadata": {},
   "outputs": [
    {
     "name": "stdout",
     "output_type": "stream",
     "text": [
      "Branch points:\n",
      "-5.00000000000000\n",
      "-3.00000000000000\n",
      "-1.00000000000000\n",
      "4.00000000000000\n",
      "6.00000000000000\n",
      "+Infinity\n"
     ]
    }
   ],
   "source": [
    "# Example of use:\n",
    "\n",
    "branch_points = find_branch_points(l2, l4, l6, l8, l10)\n",
    "print(\"Branch points:\", *branch_points, sep='\\n')"
   ]
  },
  {
   "cell_type": "markdown",
   "metadata": {},
   "source": [
    "## First and Second Kind Periods\n",
    "\n",
    "To construct periodic functions, we first define a canonical basis for the space of holomorphic differentials, \\( \\{du_i \\mid i = 1, \\ldots, g\\} \\), and the associated meromorphic differentials, \\( \\{dr_i \\mid i = 1, \\ldots, g\\} \\), on the Riemann surface as follows:\n",
    "```{math}\n",
    ":label:\n",
    "    du_{2i-1} := \\frac{x^{g-i} dx}{\\partial_y f(x)},\n",
    "```\n",
    "```{math}\n",
    ":label:\n",
    "    dr_{2i-1} := \\frac{\\mathcal{R}_{2i-1}(x) dx}{\\partial_y f(x)}, \n",
    "```\n",
    "where\n",
    "```{math}\n",
    ":label:\n",
    "    \\mathcal{R}_{2i-1}(x)=\\sum_{k=1}^{2i-1}k\\lambda_{4i-2k-2}x^{g-i+k}.\n",
    "```\n",
    "For $g = 2$, these expressions can be written in vector form as:\n",
    "```{math}\n",
    ":label:\n",
    "    du= \\begin{pmatrix} \n",
    "        x\\\\\n",
    "        1\n",
    "    \\end{pmatrix} \\frac{dx}{-2\\sqrt{f(x)}},\n",
    "```\n",
    "```{math}\n",
    ":label:\n",
    "    dr= \\begin{pmatrix} \n",
    "        \\mathcal{R}_{1}(x)\\\\\n",
    "        \\mathcal{R}_{3}(x)\n",
    "    \\end{pmatrix} \\frac{dx}{-2\\sqrt{f(x)}} = \n",
    "        \\begin{pmatrix} \n",
    "            x^2\\\\\n",
    "            3x^3 + 2\\lambda_2 x^2 + \\lambda_4 x\n",
    "        \\end{pmatrix} \\frac{dx}{-2\\sqrt{f(x)}},\n",
    "```\n",
    "\n",
    "The holomorphic basis defined above can be compared to the output of the`cohomology_basis()` function. In SageMath,`S.cohomology_basis()` generates a list of holomorphic differentials, typically represented as polynomials $g(x)$ corresponding to the differentials:\n",
    "```{math}\n",
    ":label:\n",
    "    \\omega = g(x,y)\\frac{dx}{\\partial f / \\partial y}\n",
    "```\n",
    "where  $f(x, y) = 0$  defines the curve.\n"
   ]
  },
  {
   "cell_type": "code",
   "execution_count": 70,
   "metadata": {},
   "outputs": [
    {
     "data": {
      "text/plain": [
       "[1, x]"
      ]
     },
     "execution_count": 70,
     "metadata": {},
     "output_type": "execute_result"
    }
   ],
   "source": [
    "S.cohomology_basis()"
   ]
  },
  {
   "cell_type": "markdown",
   "metadata": {},
   "source": [
    "```{note}\n",
    "The order of elements clearly differs from the convention adopted in {cite}`bernatska_computation_2024`. In this notebook, we adopt Julia Bernatska’s convention, as it provides a consistent framework for our computations.\n",
    "```\n",
    "\n",
    "###  First Kind Periods    "
   ]
  },
  {
   "cell_type": "markdown",
   "metadata": {},
   "source": [
    "First we define our holomorphic base"
   ]
  },
  {
   "cell_type": "code",
   "execution_count": 71,
   "metadata": {},
   "outputs": [],
   "source": [
    "# holomorphic differentials base\n",
    "holbais=[x,x^0]"
   ]
  },
  {
   "cell_type": "markdown",
   "metadata": {},
   "source": [
    "To compute the period matrices of the first kind, we evaluate the following integrals along the canonical homology cycles $\\{\\mathfrak{a}_i, \\mathfrak{b}_i\\}_{i=1}^g$:\n",
    "```{math}\n",
    ":label:\n",
    "    \\omega = (\\omega_{ij})= \\left( \\int_{\\mathfrak{a}_j}du_i \\right), \\quad \\omega' = (\\omega'_{ij})= \\left( \\int_{\\mathfrak{b}_j}du_i \\right). \n",
    "```\n",
    "Here, $\\omega$ and $\\omega'$ are the period matrices corresponding to the $\\mathfrak{a}$ and $\\mathfrak{b}$ cycles, respectively.\n",
    "  \n",
    "The SageMath function `matrix_of_integral_values(differentials, integration_method='heuristic')` can be used to compute the path integrals of the given differentials along the homology basis. The result is a matrix, where each row corresponds to a differential.\n",
    "  \n",
    "If the Riemann surface is given by the equation $f(x,y)=0$, the differentials are encoded by:\n",
    "```{math}\n",
    ":label:\n",
    "    g(x,y)\\frac{dx}{(df/dy)}.\n",
    "```\n",
    "`Input:`\n",
    "- `differentials` – a list of polynomials.\n",
    "- `integration_method` – (default: 'heuristic'). String specifying the integration method to use. The options are 'heuristic' and 'rigorous'.\n",
    "\n",
    "`Output:`  \n",
    "A matrix, one row per differential, containing the values of the path integrals along the homology basis of the Riemann surface."
   ]
  },
  {
   "cell_type": "code",
   "execution_count": 72,
   "metadata": {},
   "outputs": [
    {
     "name": "stdout",
     "output_type": "stream",
     "text": [
      "[   0.38249 - 0.53767*I   -0.81274 + 0.71452*I              0.71452*I -9.8608e-32 - 1.2522*I]\n",
      "[   0.30915 + 0.26715*I    0.21067 + 0.14577*I              0.14577*I 1.5407e-32 + 0.12138*I]\n"
     ]
    }
   ],
   "source": [
    "MofInt1=S.matrix_of_integral_values(holbais)\n",
    "# Let's display the matrix in a shortened form so that it will be easy to see its structure\n",
    "print(MofInt1.n(digits=5))"
   ]
  },
  {
   "cell_type": "markdown",
   "metadata": {},
   "source": [
    "The structure of the returned matrix\n",
    "```{math}\n",
    ":label:\n",
    "    MofInt1 = \n",
    "        \\begin{pmatrix}\n",
    "            \\omega_{1,1} & \\omega_{1,2} & \\omega'_{1,1} & \\omega'_{1,2} \\\\\n",
    "            \\omega_{3,1} & \\omega_{3,2} & \\omega'_{3,1} & \\omega'_{3,2}\n",
    "        \\end{pmatrix}\n",
    "        =\n",
    "        \\begin{array}{|c|c|c|c|c|}\n",
    "            \\hline\n",
    "            & \\mathfrak{a}_1 & \\mathfrak{a}_2 & \\mathfrak{b}_1 & \\mathfrak{b}_2 \\\\\n",
    "            \\hline\n",
    "            du_1 & \\omega_{1,1} = \\int_{\\mathfrak{a}_1} du_1 & \\omega_{1,2} = \\int_{\\mathfrak{a}_2} du_1 & \\omega'_{1,1} = \\int_{\\mathfrak{b}_1} du_1 & \\omega'_{1,2} = \\int_{\\mathfrak{b}_2} du_1 \\\\\n",
    "            \\hline\n",
    "            du_3 & \\omega_{3,1} = \\int_{\\mathfrak{a}_1} du_3 & \\omega_{3,2} = \\int_{\\mathfrak{a}_2} du_3 & \\omega'_{3,1} = \\int_{\\mathfrak{b}_1} du_3 & \\omega'_{3,2} = \\int_{\\mathfrak{b}_2} du_3 \\\\\n",
    "            \\hline\n",
    "        \\end{array}\n",
    "```\n",
    "\n",
    "We can compare this with the results of the built-in Sage function: 'period_matrix()', which, for the adopted notational convention, will return a period matrix in the form\n",
    "```{math}\n",
    ":label:\n",
    "    pM= \\begin{pmatrix}\n",
    "                \\omega_{3,1} & \\omega_{3,2} & \\omega'_{3,1} & \\omega'_{3,2} \\\\\n",
    "                \\omega_{1,1} & \\omega_{1,2} & \\omega'_{1,1} & \\omega'_{3,2}\n",
    "        \\end{pmatrix}  \n",
    "```"
   ]
  },
  {
   "cell_type": "code",
   "execution_count": 73,
   "metadata": {},
   "outputs": [
    {
     "name": "stdout",
     "output_type": "stream",
     "text": [
      "[   0.30915 + 0.26715*I    0.21067 + 0.14577*I              0.14577*I 3.3896e-32 + 0.12138*I]\n",
      "[   0.38249 - 0.53767*I   -0.81274 + 0.71452*I              0.71452*I -4.9304e-32 - 1.2522*I]\n"
     ]
    }
   ],
   "source": [
    "pM=S.period_matrix()\n",
    "print(pM.n(digits=5))"
   ]
  },
  {
   "cell_type": "markdown",
   "metadata": {},
   "source": [
    "Before going any further, lat's define a function that will display the matrices in a rounded form so that we can compare them more easily."
   ]
  },
  {
   "cell_type": "code",
   "execution_count": 74,
   "metadata": {},
   "outputs": [],
   "source": [
    "def format_complex(z, digits=5, threshold=1e-10):\n",
    "    real = float(z.real())\n",
    "    imag = float(z.imag())\n",
    "    \n",
    "    # We round very small values to zero\n",
    "    if abs(real) < threshold:\n",
    "        real = 0\n",
    "        if abs(imag) < threshold:\n",
    "            return \"0\"\n",
    "        # We format the result  \n",
    "        return f\"{imag:.{digits}f}*I\"\n",
    "    \n",
    "    if abs(imag) < threshold:\n",
    "        # We format the result\n",
    "        return f\"{real:.{digits}f}\"\n",
    "\n",
    "    sign = \"+\" if imag > 0 else \"-\"\n",
    "    return f\"{real:.{digits}f} {sign} {abs(imag):.{digits}f}*I\"\n",
    "\n",
    "\n",
    "def ApproxM(matrix, digits=5, threshold=1e-10):\n",
    "    rows, cols = matrix.nrows(), matrix.ncols()\n",
    "    \n",
    "    for i in range(rows):\n",
    "        formatted_row = [format_complex(matrix[i,j], digits, threshold) for j in range(cols)]\n",
    "        print(\"\\t\".join(formatted_row))"
   ]
  },
  {
   "cell_type": "code",
   "execution_count": 75,
   "metadata": {},
   "outputs": [
    {
     "name": "stdout",
     "output_type": "stream",
     "text": [
      "0.30915 + 0.26715*I\t0.21067 + 0.14577*I\t0.14577*I\t0.12138*I\n",
      "0.38249 - 0.53767*I\t-0.81274 + 0.71452*I\t0.71452*I\t-1.25219*I\n"
     ]
    }
   ],
   "source": [
    "ApproxM(pM)"
   ]
  },
  {
   "cell_type": "code",
   "execution_count": 76,
   "metadata": {},
   "outputs": [
    {
     "name": "stdout",
     "output_type": "stream",
     "text": [
      "0.38249 - 0.53767*I\t-0.81274 + 0.71452*I\t0.71452*I\t-1.25219*I\n",
      "0.30915 + 0.26715*I\t0.21067 + 0.14577*I\t0.14577*I\t0.12138*I\n"
     ]
    }
   ],
   "source": [
    "ApproxM(MofInt1)"
   ]
  },
  {
   "cell_type": "markdown",
   "metadata": {},
   "source": [
    "In what follows we use the function `matrix_of_integral_values()` instead of `period_matrix()` because it allows us to calculate periodic matrices of the second kind."
   ]
  },
  {
   "cell_type": "code",
   "execution_count": 77,
   "metadata": {},
   "outputs": [
    {
     "name": "stdout",
     "output_type": "stream",
     "text": [
      "0.38249 - 0.53767*I\t-0.81274 + 0.71452*I\n",
      "0.30915 + 0.26715*I\t0.21067 + 0.14577*I\n",
      "\n",
      "0.71452*I\t-1.25219*I\n",
      "0.14577*I\t0.12138*I\n"
     ]
    }
   ],
   "source": [
    "# Extract the omega-periods (first two columns)\n",
    "omega = MofInt1[:, 0:2]\n",
    "\n",
    "# Extract the omega'-periods (last two columns)\n",
    "omegaP = MofInt1[:, 2:4]\n",
    "\n",
    "ApproxM(omega)\n",
    "print()\n",
    "ApproxM(omegaP)"
   ]
  },
  {
   "cell_type": "markdown",
   "metadata": {},
   "source": [
    "Now we calculate the matrix\n",
    "```{math}\n",
    ":label:\n",
    "    \\tau=\\omega^{-1}\\omega'\n",
    "```\n",
    "which belongs to the Siegel upper half-space. Hence it should satisfy two conditions:\n",
    "- Symmetry:\n",
    "```{math}\n",
    ":label:\n",
    "    \\tau^T = \\tau\n",
    "```\n",
    "- Positive definiteness of the imaginary part\n",
    "```{math}\n",
    ":label:\n",
    "    Im(\\tau)>0\n",
    "```"
   ]
  },
  {
   "cell_type": "code",
   "execution_count": 78,
   "metadata": {},
   "outputs": [
    {
     "name": "stdout",
     "output_type": "stream",
     "text": [
      "[-0.045157 + 0.44291*I   0.47106 - 0.22671*I]\n",
      "[  0.47106 - 0.22671*I  -0.51612 + 0.66863*I]\n"
     ]
    }
   ],
   "source": [
    "tau= omega.inverse() * omegaP\n",
    "\n",
    "# Displaying the result\n",
    "print(tau.n(digits=5))"
   ]
  },
  {
   "cell_type": "markdown",
   "metadata": {},
   "source": [
    "Here we can also compare this with the results of the built-in Sage function: `riemann_matrix()`:"
   ]
  },
  {
   "cell_type": "code",
   "execution_count": 79,
   "metadata": {},
   "outputs": [
    {
     "data": {
      "text/plain": [
       "[-0.045157 + 0.44291*I   0.47106 - 0.22671*I]\n",
       "[  0.47106 - 0.22671*I  -0.51612 + 0.66863*I]"
      ]
     },
     "execution_count": 79,
     "metadata": {},
     "output_type": "execute_result"
    }
   ],
   "source": [
    "S.riemann_matrix().n(digits=5)"
   ]
  },
  {
   "cell_type": "code",
   "execution_count": 80,
   "metadata": {},
   "outputs": [
    {
     "name": "stdout",
     "output_type": "stream",
     "text": [
      "[0.00000 0.00000]\n",
      "[0.00000 0.00000]\n"
     ]
    }
   ],
   "source": [
    "# Test of the symmetry\n",
    "print(tau-tau.transpose().n(digits=5))"
   ]
  },
  {
   "cell_type": "code",
   "execution_count": 81,
   "metadata": {},
   "outputs": [
    {
     "data": {
      "text/plain": [
       "([0.80901581871495141189741224634, 0.30252360145247734355725832846], True)"
      ]
     },
     "execution_count": 81,
     "metadata": {},
     "output_type": "execute_result"
    }
   ],
   "source": [
    "# Test of positivity\n",
    "# Calculating the complex part of the tau matrix\n",
    "tauImag = tau.apply_map(lambda x: x.imag())\n",
    "\n",
    "# Calculate the eigenvalues\n",
    "eigenvalues = tauImag.eigenvalues()\n",
    "\n",
    "# Checking if all eigenvalues are positive\n",
    "all_positive = all(e > 0 for e in eigenvalues)\n",
    "\n",
    "# Displaying the result\n",
    "eigenvalues, all_positive"
   ]
  },
  {
   "cell_type": "markdown",
   "metadata": {},
   "source": [
    "### Second Kind Periods\n",
    "\n",
    "To calculate the second kind period matrices, we need to calculate the following integrals along the canonical homology cycles $\\{ \\mathfrak{a}_i, \\mathfrak{b}_i\\}_{i=1}^g$\n",
    "```{math}\n",
    ":label:\n",
    "    \\eta = (\\eta_{ij})= \\left( \\int_{\\mathfrak{a}_j}du_i \\right), \\quad \\eta' = (\\eta'_{ij})= \\left( \\int_{\\mathfrak{b}_j}du_i \\right). \n",
    "```"
   ]
  },
  {
   "cell_type": "code",
   "execution_count": 82,
   "metadata": {},
   "outputs": [],
   "source": [
    "# meromorphic differentials base\n",
    "merbais=[x^2, 3*x^3 + 2*l2*x^2 + l4*x]"
   ]
  },
  {
   "cell_type": "code",
   "execution_count": 83,
   "metadata": {},
   "outputs": [
    {
     "name": "stdout",
     "output_type": "stream",
     "text": [
      "1.47704 + 1.21699*I\t3.23860 + 3.57449*I\t3.57449*I\t-2.35749*I\n",
      "-5.24569 + 11.71637*I\t-11.46443 + 16.84185*I\t16.84185*I\t-5.12548*I\n"
     ]
    }
   ],
   "source": [
    "MofInt2=S.matrix_of_integral_values(merbais)\n",
    "# Let's display the matrix in a shortened form so that it will be easy to see its structure\n",
    "ApproxM(MofInt2)"
   ]
  },
  {
   "cell_type": "code",
   "execution_count": 84,
   "metadata": {},
   "outputs": [
    {
     "name": "stdout",
     "output_type": "stream",
     "text": [
      "1.47704 + 1.21699*I\t3.23860 + 3.57449*I\n",
      "-5.24569 + 11.71637*I\t-11.46443 + 16.84185*I\n",
      "\n",
      "3.57449*I\t-2.35749*I\n",
      "16.84185*I\t-5.12548*I\n"
     ]
    }
   ],
   "source": [
    "# Extract the omega-periods (first two columns)\n",
    "eta = MofInt2[:, 0:2]\n",
    "\n",
    "# Extract the omega'-periods (last two columns)\n",
    "etaP = MofInt2[:, 2:4]\n",
    "\n",
    "ApproxM(eta)\n",
    "print()\n",
    "ApproxM(etaP)"
   ]
  },
  {
   "cell_type": "markdown",
   "metadata": {},
   "source": [
    "We can compute $\\kappa$, given by\n",
    "```{math}\n",
    ":label:\n",
    "    \\kappa=\\eta\\; \\omega^{-1}\n",
    "```"
   ]
  },
  {
   "cell_type": "code",
   "execution_count": 85,
   "metadata": {},
   "outputs": [
    {
     "name": "stdout",
     "output_type": "stream",
     "text": [
      "0.39559 - 2.45272*I\t8.68614 + 0.15300*I\n",
      "8.68614 + 0.15300*I\t10.10998 + 44.07908*I\n"
     ]
    }
   ],
   "source": [
    "omega_inv=Matrix(omega).inverse()\n",
    "kappa = eta*omega_inv\n",
    "ApproxM(kappa)"
   ]
  },
  {
   "cell_type": "markdown",
   "metadata": {},
   "source": [
    "## Legendre relation\n",
    "\n",
    "Next, we perform another test. The unnormalised period matrices of the first kind, $\\omega$ and $\\omega'$, and the second kind, $\\eta$ and $\\eta'$, should satisfy the Legendre relation:\n",
    " ```{math}\n",
    ":label:\n",
    "    \\Omega^T J \\Omega = 2\\pi i J\n",
    "```\n",
    "where\n",
    "\n",
    "```{math}\n",
    ":label:\n",
    "    \\Omega=\n",
    "    \\begin{pmatrix}\n",
    "        \\omega && \\omega'\\\\\n",
    "        \\eta && \\eta'\\\\\n",
    "    \\end{pmatrix}, \\quad \n",
    "    J=        \n",
    "    \\begin{pmatrix}\n",
    "        0 && -1_g\\\\\n",
    "        1_g && 0\\\\\n",
    "    \\end{pmatrix}\n",
    "```"
   ]
  },
  {
   "cell_type": "code",
   "execution_count": 86,
   "metadata": {},
   "outputs": [
    {
     "name": "stdout",
     "output_type": "stream",
     "text": [
      "Omega Matrix:\n",
      "[   0.38249 - 0.53767*I   -0.81274 + 0.71452*I|             0.71452*I -9.8608e-32 - 1.2522*I]\n",
      "[   0.30915 + 0.26715*I    0.21067 + 0.14577*I|             0.14577*I 1.5407e-32 + 0.12138*I]\n",
      "[---------------------------------------------+---------------------------------------------]\n",
      "[     1.4770 + 1.2170*I      3.2386 + 3.5745*I|              3.5745*I  4.3141e-31 - 2.3575*I]\n",
      "[    -5.2457 + 11.716*I     -11.464 + 16.842*I|              16.842*I  1.2622e-29 - 5.1255*I]\n",
      "\n",
      "J Matrix:\n",
      "[0.00000 0.00000|-1.0000 0.00000]\n",
      "[0.00000 0.00000|0.00000 -1.0000]\n",
      "[---------------+---------------]\n",
      "[ 1.0000 0.00000|0.00000 0.00000]\n",
      "[0.00000  1.0000|0.00000 0.00000]\n"
     ]
    }
   ],
   "source": [
    "# Omega matrix\n",
    "Omega = block_matrix([\n",
    "    [omega, omegaP],\n",
    "    [eta, etaP]\n",
    "])\n",
    "\n",
    "# Converting lists to matrices\n",
    "zeroM = Matrix([[0.0, 0.0], [0.0, 0.0]])\n",
    "mOneg = Matrix([[-1.0, 0.0], [0.0, -1.0]])\n",
    "Oneg = Matrix([[1.0, 0.0], [0.0, 1.0]])\n",
    "\n",
    "# J matrix\n",
    "J = block_matrix([\n",
    "    [zeroM, mOneg],\n",
    "    [Oneg, zeroM]\n",
    "])    \n",
    "\n",
    "\n",
    "print(\"Omega Matrix:\")\n",
    "print(Omega.n(digits=5))\n",
    "print()\n",
    "print(\"J Matrix:\")\n",
    "print(J.n(digits=5))"
   ]
  },
  {
   "cell_type": "code",
   "execution_count": 87,
   "metadata": {},
   "outputs": [
    {
     "name": "stdout",
     "output_type": "stream",
     "text": [
      "0\t0\t0\t0\n",
      "0\t0\t0\t0\n",
      "0\t0\t0\t0\n",
      "0\t0\t0\t0\n"
     ]
    }
   ],
   "source": [
    "import numpy as np\n",
    "\n",
    "pi = np.pi\n",
    "left=Omega.transpose()*J*Omega\n",
    "right = 2*pi*I*J\n",
    "result = left - right\n",
    "ApproxM(result)"
   ]
  },
  {
   "cell_type": "markdown",
   "metadata": {},
   "source": [
    "## Theta function\n",
    "\n",
    "````{prf:definition}\n",
    ":label: theta_df\n",
    "\n",
    "A Riemann <i>theta function</i> $\\theta(v;\\tau)$ defined in terms of normalized coordinates $v$ and normalized period matrix $\\tau$, canonicaly is given by\n",
    "```{math}\n",
    ":label:\n",
    "    \\theta(\\mathbf{v};\\tau) = \\sum_{n\\in\\mathbb{Z}^g} e^{i\\pi \\mathbf{n}^T \\tau \\mathbf{n} + 2i \\pi \\mathbf{n}^T \\mathbf{v}}.\n",
    "```\n",
    "A theta function with characteristic $[\\varepsilon ]$ is defined by\n",
    "```{math}\n",
    ":label:\n",
    "    \\theta[\\varepsilon](\\mathbf{v};\\tau) = \n",
    "    \\theta \n",
    "    \\begin{bmatrix}\n",
    "            \\varepsilon'_1 & \\ldots & \\varepsilon'_g\\\\\n",
    "            \\varepsilon_1 & \\ldots & \\varepsilon_g\\\\\n",
    "    \\end{bmatrix}\n",
    "    (\\mathbf{v};\\tau)=\n",
    "    \\sum_{n\\in\\mathbb{Z}^g} e^{i\\pi\\{ (\\mathbf{n}+ \\frac{1}{2}\\mathbf{\\varepsilon}'^T ) \\tau (\\mathbf{n}+ \\frac{1}{2}\\mathbf{\\varepsilon}') +2 (\\mathbf{v}+\\frac{1}{2}\\mathbf{\\varepsilon})^T (\\mathbf{n}+\\frac{1}{2}\\mathbf{\\varepsilon}') \\} }.\n",
    "```\n",
    "````\n",
    "\n",
    "````{important}\n",
    "In the literature, it is common to use a convention with slightly different characteristics:\n",
    "```{math}\n",
    ":label:\n",
    "    (\\varepsilon_i, \\varepsilon'_j) \\to 2 (\\varepsilon_i, \\varepsilon'_j)\n",
    "```\n",
    "in consequence\n",
    "```{math}\n",
    ":label:\n",
    "    \\theta[\\varepsilon](\\mathbf{v};\\tau) = \n",
    "    \\theta \n",
    "    \\begin{bmatrix}\n",
    "        \\varepsilon'_1 & \\ldots & \\varepsilon'_g\\\\\n",
    "        \\varepsilon_1 & \\ldots & \\varepsilon_g\\\\\n",
    "    \\end{bmatrix}\n",
    "    (\\mathbf{v};\\tau)=\n",
    "    \\sum_{n\\in\\mathbb{Z}^g} e^{i\\pi\\{ (\\mathbf{n}+ \\mathbf{\\varepsilon}'^T ) \\tau (\\mathbf{n}+ \\mathbf{\\varepsilon}') +2 (\\mathbf{v}+\\mathbf{\\varepsilon})^T (\\mathbf{n}+\\mathbf{\\varepsilon}') \\} }.\n",
    "```\n",
    "````"
   ]
  },
  {
   "cell_type": "code",
   "execution_count": 88,
   "metadata": {},
   "outputs": [],
   "source": [
    "def Theta( v, ttau, NAcc):\n",
    "    # NAcc is responsible for the number of elements in the sum, i.e. the precision of the result. \n",
    "    # Experimentally, a good approximation is obtained for NAcc>4, but of course this can be increased as needed.\n",
    "    total_sum = 0\n",
    "    # epsilon_m is the list [epsilon 1, epsilon 2] where epsilon1 and epsilon2 are vectors\n",
    "    \n",
    "    # We iterate over two indices from -NAcc to NAcc\n",
    "    for n1 in range(-NAcc, NAcc):\n",
    "        for n2 in range(-NAcc, NAcc):\n",
    "            # We create vector n\n",
    "            n = vector([n1, n2])\n",
    "                    \n",
    "            # The first component of the sum\n",
    "            term1 = I * pi * n * (ttau * n)\n",
    "                    \n",
    "            # The second component of the sum\n",
    "            term2 = 2 * I * pi * n * v\n",
    "                    \n",
    "            # We add the exp from these components to the total\n",
    "            total_sum += exp(term1 + term2)\n",
    "    \n",
    "    return total_sum"
   ]
  },
  {
   "cell_type": "code",
   "execution_count": 89,
   "metadata": {},
   "outputs": [],
   "source": [
    "def ThetaCh(epsilon_m, v, ttau, NAcc):\n",
    "    # NAcc is responsible for the number of elements in the sum, i.e. the precision of the result. \n",
    "    # Experimentally, a good approximation is obtained for NAcc>4, but of course this can be increased as needed.\n",
    "    total_sum = 0\n",
    "    # epsilon_m is the list [epsilon 1, epsilon 2] where epsilon1 and epsilon2 are vectors\n",
    "    epsilon1 = epsilon_m[0]\n",
    "    epsilon2 = epsilon_m[1]\n",
    "    \n",
    "    # We iterate over two indices from -NAcc to NAcc\n",
    "    for n1 in range(-NAcc, NAcc):\n",
    "        for n2 in range(-NAcc, NAcc):\n",
    "            # We create vector n\n",
    "            n = vector([n1, n2])\n",
    "                    \n",
    "            # The first component of the sum\n",
    "            term1 = I * pi * (n + 1/2 * vector(epsilon1)) * (ttau * (n + 1/2 * vector(epsilon1)))\n",
    "                    \n",
    "            # The second component of the sum\n",
    "            term2 = 2 * I * pi * (n + 1/2 * vector(epsilon1)) * (v + 1/2 * vector(epsilon2))\n",
    "                    \n",
    "            # We add the exp from these components to the total\n",
    "            total_sum += exp(term1 + term2)\n",
    "    \n",
    "    return total_sum"
   ]
  },
  {
   "cell_type": "markdown",
   "metadata": {},
   "source": [
    "````{note}\n",
    "In Wolfram Mathematica exists a corresponding function under the name `SiegelTheta[$\\nu_1$,$\\nu_2$]($\\Omega,s$)`. The relation between our variables and those in Mathematica are as follows\n",
    "- $\\Omega=\\tau$\n",
    "- $s=v$\n",
    "- $\\nu_1 = \\frac{1}{2} epsilon1$ \n",
    "- $\\nu_2 = \\frac{1}{2} epsilon2$  \n",
    "  \n",
    "To test this, you can check the following code in Mathematica\n",
    "```{code-block}\n",
    ":caption: Mathematica Code      \n",
    "            SiegelTheta[{{2, 4}, {4, 2}}, IdentityMatrix[2] I, {1, 2}] // N\n",
    "```\n",
    "and compare it with below one in SageMath\n",
    "```{code-block}\n",
    ":caption: SageMath Code              \n",
    "    # Defining sample data\n",
    "    epsilon_m = [vector([4, 8]), vector([8, 4])]\n",
    "    v = vector([1, 2])\n",
    "    tau = Matrix([[I, 0], [0, I]])\n",
    "    NAcc = 5\n",
    "    # Function call\n",
    "    result = ThetaCh(epsilon_m, v, tau, NAcc)\n",
    "    print(result)\n",
    "```\n",
    "  \n",
    "Additionally, one can define the $\\theta$ function in Mathematica in a similar way with the following code:\n",
    "```{code-block}\n",
    ":caption: Mathematica Code    \n",
    "    ThetaCh[\\[Epsilon]m_, v_, \\[Tau]_, NAcc_] :=\n",
    "    Sum[\n",
    "     Exp[\n",
    "      I Pi ({Subscript[n, 1], Subscript[n, 2]} + 1/2 \\[Epsilon]m[[1]]) . (\\[Tau] . ({Subscript[n, 1], Subscript[n, 2]} + 1/2 \\[Epsilon]m[[1]])) + 2 I Pi ({Subscript[n, 1], Subscript[n, 2]} + 1/2 \\[Epsilon]m[[1]]) . (v + 1/2 \\[Epsilon]m[[2]])\n",
    "      ],\n",
    "     {Subscript[n, 2], -NAcc, NAcc}, {Subscript[n, 1], -NAcc, NAcc}\n",
    "    ]\n",
    "```\n",
    "  \n",
    "And check the result of the above test with: \n",
    "```{code-block}\n",
    ":caption: Mathematica Code   \n",
    "    ThetaCh[2 {{2, 4}, {4, 2}}, {1, 2}, IdentityMatrix[2] I, 5] // N\n",
    "```\n",
    "````"
   ]
  },
  {
   "cell_type": "markdown",
   "metadata": {},
   "source": [
    "### Tests\n",
    "\n",
    "Test of the formula ({cite}`bernatska_computation_2024`, p.4, eq. 7)\n",
    "```{math}\n",
    ":label:\n",
    "    \\theta[\\varepsilon](\\mathbf{v};\\tau) = \n",
    "            e^{i\\pi\\left(\\frac{1}{2} \\mathbf{\\varepsilon}'^T\\right) \\tau \\left(\\frac{1}{2} \\mathbf{\\varepsilon}'\\right) + 2i\\pi \\left( \\mathbf{v} + \\frac{1}{2} \\mathbf{\\varepsilon}\\right)^T \\left(\\frac{1}{2} \\mathbf{\\varepsilon}'\\right)} \\theta\\left(\\mathbf{v} + \\frac{1}{2}\\mathbf{\\varepsilon} + \\tau\\left(\\frac{1}{2}\\mathbf{\\varepsilon}'\\right);\\tau \\right).   \n",
    "```\n",
    "\n",
    "where a characteristic is a a $2\\times g$ matrix $[\\varepsilon] =(\\mathbf{\\varepsilon}',\\mathbf{\\varepsilon})^T $    \n"
   ]
  },
  {
   "cell_type": "code",
   "execution_count": 90,
   "metadata": {},
   "outputs": [
    {
     "name": "stdout",
     "output_type": "stream",
     "text": [
      "Theta with characteristic:\n",
      " 1.3992668467975948 - 0.034565760837371236*I\n",
      "\n",
      "Exponential factor:\n",
      " 0.678950645309809 + 0.19427491340226458*I\n",
      "\n",
      "Theta at shifted point:\n",
      " 1.8914903574780815 - 0.5921415481595035*I\n",
      "\n",
      "RHS:\n",
      " 1.399266846797595 - 0.03456576083737145*I\n",
      "\n",
      "Difference:\n",
      " -2.220446049250313e-16 + 2.1510571102112408e-16*I\n",
      "The relation is verified within the given tolerance.\n"
     ]
    }
   ],
   "source": [
    "# Define the genus\n",
    "g = 2  # For genus 2\n",
    "\n",
    "Acc=20\n",
    "\n",
    "# Define the period matrix tau\n",
    "### tau = Matrix(CC, [[I, 0.5], [0.5, I]])\n",
    "tau = omega.inverse() * omegaP\n",
    "\n",
    "# Define the vector v\n",
    "v = vector(CC, [0.1, 0.2])\n",
    "\n",
    "# Define the characteristic\n",
    "eps_prime = [1, 0]\n",
    "eps = [0, 1]\n",
    "N = 2  # Level of the characteristic\n",
    "char = Matrix([eps_prime,eps])\n",
    "\n",
    "# Compute theta with characteristic at v\n",
    "theta_char = ThetaCh(char, v, tau, Acc)\n",
    "\n",
    "# Compute half of the characteristic vectors\n",
    "eps_vec = vector(CC, eps)\n",
    "eps_prime_vec = vector(CC, eps_prime)\n",
    "eps_half = 0.5 * eps_vec\n",
    "eps_prime_half = 0.5 * eps_prime_vec\n",
    "\n",
    "# Compute the shifted vector v_shifted\n",
    "v_shifted = v + eps_half + tau * eps_prime_half\n",
    "\n",
    "# Compute the terms for the exponential factor\n",
    "term1 = (eps_prime_half) * tau * (eps_prime_half)\n",
    "term2 = (v + eps_half) * (eps_prime_half)\n",
    "\n",
    "# Compute the exponential factor\n",
    "exp_factor = exp(I * pi * term1 + 2 * I * pi * term2)\n",
    "\n",
    "# Compute theta at the shifted point without characteristic\n",
    "theta_standard = Theta(v_shifted, tau, Acc)\n",
    "\n",
    "\n",
    "# Compute the RHS of the relation\n",
    "RHS = exp_factor * theta_standard\n",
    "\n",
    "# Compute the difference\n",
    "difference = theta_char - RHS\n",
    "\n",
    "# Print the results\n",
    "print(\"Theta with characteristic:\\n\", theta_char)\n",
    "print()\n",
    "print(\"Exponential factor:\\n\", exp_factor)\n",
    "print()\n",
    "print(\"Theta at shifted point:\\n\", theta_standard)\n",
    "print()\n",
    "print(\"RHS:\\n\", RHS)\n",
    "print()\n",
    "print(\"Difference:\\n\", difference)\n",
    "\n",
    "# Check if the difference is within an acceptable tolerance\n",
    "tolerance = 1e-12  # Adjust based on the precision\n",
    "if abs(difference) < tolerance:\n",
    "    print(\"The relation is verified within the given tolerance.\")\n",
    "else:\n",
    "    print(\"The relation is not satisfied within the given tolerance.\")"
   ]
  },
  {
   "cell_type": "markdown",
   "metadata": {},
   "source": [
    "## $\\sigma$-Functions\n",
    "\n",
    "````{prf:definition}\n",
    ":label: sigma_df\n",
    "\n",
    "<em> Sigma function </em> (Kleinian sigma) is a modular invariant entire function on $\\mathrm{Jac}(\\mathscr{C})$. It is definef by a relation with the theta function:\n",
    "```{math}\n",
    ":label:\n",
    "    \\sigma(\\mathbf{u}) = C \\tilde{\\sigma}(\\mathbf{u})\n",
    "```\n",
    "where\n",
    "```{math}\n",
    ":label:\n",
    "    \\tilde{\\sigma}(\\mathbf{u})= e^{-\\frac{1}{2}\\mathbf{u}^T \\kappa \\mathbf{u}} \\theta[ K ] (\\omega^{-1} \\mathbf{u}, \\tau),\n",
    "```\n",
    "```{math}\n",
    ":label:\n",
    "    C= \\sqrt{\\frac{\\pi^g}{\\det{\\omega}}} \\left( \\prod_{1\\leq i<j \\leq 2g+1} (e_i - e_j) \\right)^{-1/4},\n",
    "```\n",
    "and $[K]$ denotes the characteristics of the vector of Riemann constants. (The expression for $C$ comes from {cite}`enolski_inversion_2012`, p.9, Eq. II.41)\n",
    "````"
   ]
  },
  {
   "cell_type": "code",
   "execution_count": 91,
   "metadata": {},
   "outputs": [],
   "source": [
    "# We define variables\n",
    "var('U1 U3')\n",
    "\n",
    "# We define the accuracy of theta function\n",
    "Acc=20\n",
    "\n",
    "\n",
    "# sigma\n",
    "def Tsigma(U1, U3):\n",
    "    e = exp(-(1/2)*(vector([U1, U3])*kappa*vector([U1, U3])))\n",
    "    theta = ThetaCh(KCh, omega_inv * vector([U1, U3]), tau, Acc)\n",
    "    return e*theta\n",
    "\n",
    "# C constant\n",
    "det_omega = omega.determinant()\n",
    "g = 2\n",
    "#Branch points\n",
    "BP = find_branch_points(l2, l4, l6, l8, l10)\n",
    "# Calculating the product of branch point differences\n",
    "prod = 1\n",
    "for i in range(len(BP)):\n",
    "    for j in range(i+1, len(BP)):\n",
    "        if BP[i] != infinity and BP[j] != infinity:\n",
    "            prod *= (BP[i] - BP[j])\n",
    "C = sqrt(pi**g / det_omega) * prod**(-1/4)\n",
    "\n",
    "\n",
    "def sigma(U1, U3):\n",
    "    return C*Tsigma(U1, U3)"
   ]
  },
  {
   "cell_type": "markdown",
   "metadata": {},
   "source": [
    "Let's define the derivatives of the sigma function which will be useful in the following sections."
   ]
  },
  {
   "cell_type": "code",
   "execution_count": 92,
   "metadata": {},
   "outputs": [],
   "source": [
    "# sigma1\n",
    "def Tsigma1(u1_val, u3_val):\n",
    "    U1, U3 = var('U1 U3')\n",
    "    sigma_expr = Tsigma(U1, U3)\n",
    "    sigma1 =diff (sigma_expr, U1)\n",
    "    return sigma1.subs({U1: u1_val, U3: u3_val}).n()\n",
    "\n",
    "# sigma3\n",
    "def Tsigma3(u1_val, u3_val):\n",
    "    U1, U3 = var('U1 U3')\n",
    "    sigma_expr = Tsigma(U1, U3)\n",
    "    sigma3 =diff (sigma_expr, U3)\n",
    "    return sigma3.subs({U1: u1_val, U3: u3_val}).n()"
   ]
  },
  {
   "cell_type": "markdown",
   "metadata": {},
   "source": [
    "### $\\sigma$-divisors\n",
    "\n",
    "````{prf:definition}\n",
    ":label: sigma-div_df\n",
    "\n",
    "\n",
    "$\\sigma$-divisors (or <em>special divisors</em>) are points $\\mathbf{u}$ for which \n",
    "```{math}\n",
    ":label:\n",
    "    \\sigma(\\mathbf{u})=0\n",
    "```\n",
    "````"
   ]
  },
  {
   "cell_type": "markdown",
   "metadata": {},
   "source": [
    "## Characteristics of branch points and Bolza formula"
   ]
  },
  {
   "cell_type": "markdown",
   "metadata": {},
   "source": [
    "````{prf:definition}\n",
    ":label: Char_df\n",
    "\n",
    "A characteristic is a $2\\times g$ matrix $[\\varepsilon] = (\\mathbf{\\varepsilon}', \\mathbf{\\varepsilon})^T$ with real values within the interval $[0,2)$.\n",
    "    Every point $\\mathbf{u}$ in the funcamental domain $\\mathrm{Jac}(\\mathscr{C})$ can be represented by its characteristic $[\\varepsilon]$:\n",
    "```{math}\n",
    ":label:\n",
    "    \\mathbf{u}=\\mathbf{u}[\\varepsilon] = \\frac{1}{2} \\omega \\mathbf{\\varepsilon} + \\frac{1}{2}\\omega' \\mathbf{\\varepsilon}'.\n",
    "```\n",
    "In the hyperelliptic case, the Abel images of branch points and any combination of branch points are described by characteristics with 1 or 0, which are called <i>half-integer</i> characteristics.\n",
    "````\n",
    "\n",
    "The half-integer characteristics are odd whenever \n",
    "```{math}\n",
    ":label:\n",
    "    \\varepsilon^T \\varepsilon'=0 \\pmod{2},\n",
    "```\n",
    "and even when \n",
    "```{math}\n",
    ":label:\n",
    "    \\varepsilon^T \\varepsilon'= 1\\pmod{2},\n",
    "```\n",
    "For hyperelliptic curves of genus 2, the characteristics are widely known in the literature {cite}`enolski_inversion_2011`, {cite}`enolski_periods_2007`. To write them down, we can use the code proposed by Julia Bernatska {cite}`bernatska_Wolfram_2024`."
   ]
  },
  {
   "cell_type": "code",
   "execution_count": 106,
   "metadata": {},
   "outputs": [
    {
     "name": "stdout",
     "output_type": "stream",
     "text": [
      "[1 0]\n",
      "[0 0]\n",
      "\n",
      "[1 0]\n",
      "[1 0]\n",
      "\n",
      "[0 1]\n",
      "[1 0]\n",
      "\n",
      "[0 1]\n",
      "[1 1]\n",
      "\n",
      "[0 0]\n",
      "[1 1]\n",
      "\n",
      "[0 0]\n",
      "[0 0]\n",
      "\n"
     ]
    }
   ],
   "source": [
    "# We define the genus variable\n",
    "genus = S.genus  \n",
    "\n",
    "\n",
    "eChars = [[[0 for k in range(genus)], [1 for k in range(genus)]], \n",
    "          [[0 for k in range(genus)] for i in range(2)]]\n",
    "\n",
    "# Do-like loop in Julia's Mathematica notebook\n",
    "for l in range(genus):\n",
    "    # let's note the indexing, which must be adjusted by\n",
    "    eChars.insert(0, \n",
    "        [[(eChars[0][0][k] + kronecker_delta(k+1, genus - l) + \n",
    "           kronecker_delta(k+1, genus - l + 1)) % 2 for k in range(genus)],\n",
    "         [(eChars[0][1][k] + 0) % 2 for k in range(genus)]]\n",
    "    )\n",
    "\n",
    "    eChars.insert(0,\n",
    "        [[(eChars[0][0][k] + 0) % 2 for k in range(genus)],\n",
    "         [(eChars[0][1][k] + kronecker_delta(k+1, genus - l)) % 2 for k in range(genus)]]\n",
    "    )\n",
    "\n",
    "# We display matrices\n",
    "seen_matrices = []\n",
    "for i in range(len(eChars)):\n",
    "    current_matrix = matrix(eChars[i])\n",
    "    if current_matrix not in seen_matrices:\n",
    "        seen_matrices.append(current_matrix)\n",
    "        print(current_matrix)\n",
    "        print()"
   ]
  },
  {
   "cell_type": "markdown",
   "metadata": {},
   "source": [
    "There are 2 odd characteristic among them, their sum is also odd. The corresponding vector -vector of Riemann constants -is denoted by $\\mathbf{K}$ and \n",
    "```{math}\n",
    ":label:\n",
    "    [\\mathbf{K}] = \\sum_{\\text{all odd}\\; [\\varepsilon_i]} [\\varepsilon_i]\n",
    "```"
   ]
  },
  {
   "cell_type": "code",
   "execution_count": 107,
   "metadata": {},
   "outputs": [
    {
     "name": "stdout",
     "output_type": "stream",
     "text": [
      "[1 1]\n",
      "[0 1]\n"
     ]
    }
   ],
   "source": [
    "# We sum the eChars elements with indices 2*i +1 (because python counts from 0) and take Mod 2\n",
    "KCh = sum(matrix(eChars[2 * i+1]) for i in range(genus)) % 2\n",
    "\n",
    "print(KCh)"
   ]
  },
  {
   "cell_type": "markdown",
   "metadata": {},
   "source": [
    "The first test of the above functions and selected characteristics can be the Bolza formula given as follows"
   ]
  },
  {
   "cell_type": "markdown",
   "metadata": {},
   "source": [
    "````{prf:definition}\n",
    ":label: sigma_app1_df\n",
    "\n",
    "From {cite}`bernatska_computation_2024`(Sec. 2.4), we have the Bolza formula:\n",
    "```{math}\n",
    ":label:\n",
    "     e_\\iota = - \\frac{\\partial_{u_3}\\theta[{\\iota}](\\omega^{-1}\\mathbf{u})}{\\partial_{u_1}\\theta[{\\iota}](\\omega^{-1}\\mathbf{u})}|_{\\mathbf{u}=0},\n",
    "```\n",
    "where $[{\\iota}] = [\\varepsilon_\\iota] +[K]$. It can also be defined in an equivalent way:\n",
    "```{math}\n",
    ":label:\n",
    "    e_\\iota = - \\frac{\\sigma_3(\\mathbf{u}_\\iota)}{\\sigma_1(\\mathbf{u}_\\iota)},\n",
    "```\n",
    "where $\\mathbf{u}_\\iota=\\mathbf{u}[\\varepsilon_\\iota]=\\frac{1}{2}\\omega \\varepsilon_\\iota + \\frac{1}{2}\\omega' \\varepsilon'_\\iota$, and $\\sigma_i(\\mathbf{u})$ denotes the derivative of the sigma function with respect to the $i$-th component of $\\mathbf{u}$.\n",
    "````    "
   ]
  },
  {
   "cell_type": "markdown",
   "metadata": {},
   "source": [
    "We will start by coding the second definition, which is easier to interpret."
   ]
  },
  {
   "cell_type": "code",
   "execution_count": 108,
   "metadata": {},
   "outputs": [],
   "source": [
    "# Characteristic vectors\n",
    "epsp1 = vector(eChars[0][0])\n",
    "eps1 = vector(eChars[0][1])\n",
    "\n",
    "epsp2 = vector(eChars[1][0])\n",
    "eps2 = vector(eChars[1][1])\n",
    "\n",
    "epsp3 = vector(eChars[2][0])\n",
    "eps3 = vector(eChars[2][1])\n",
    "\n",
    "epsp4 = vector(eChars[3][0])\n",
    "eps4 = vector(eChars[3][1])\n",
    "\n",
    "epsp5 = vector(eChars[4][0])\n",
    "eps5 = vector(eChars[4][1])\n",
    "\n",
    "epsp6 = vector(eChars[5][0])\n",
    "eps6 = vector(eChars[5][1])\n",
    "\n",
    "# Points u\n",
    "up1 = (1/2)*omega*eps1 + (1/2)*omegaP*epsp1\n",
    "up2 = (1/2)*omega*eps2 + (1/2)*omegaP*epsp2\n",
    "up3 = (1/2)*omega*eps3 + (1/2)*omegaP*epsp3\n",
    "up4 = (1/2)*omega*eps4 + (1/2)*omegaP*epsp4\n",
    "up5 = (1/2)*omega*eps5 + (1/2)*omegaP*epsp5\n",
    "up6 = (1/2)*omega*eps6 + (1/2)*omegaP*epsp6\n",
    "\n",
    "# ei based on sigma functions\n",
    "def e(u1_val, u3_val):\n",
    "    sigma1 = Tsigma1(u1_val, u3_val)\n",
    "    sigma3 = Tsigma3(u1_val, u3_val)\n",
    "    expr = -sigma3/sigma1\n",
    "    return expr.n()"
   ]
  },
  {
   "cell_type": "code",
   "execution_count": 109,
   "metadata": {},
   "outputs": [
    {
     "name": "stdout",
     "output_type": "stream",
     "text": [
      "Branch points from Bolza formula:\n",
      "4.00000000000000 + 3.66373598126302e-15*I\n",
      "-3.00000000000000 - 1.33226762955019e-15*I\n",
      "-0.999999999999999 + 4.44089209850063e-16*I\n",
      "-5.30817730332639e15 + 8.96417469949544e14*I\n",
      "-5.00000000000000 - 2.66453525910038e-15*I\n",
      "6.00000000000000 + 1.66533453693773e-16*I\n"
     ]
    }
   ],
   "source": [
    "print(\"Branch points from Bolza formula:\", \n",
    "      e(up1[0],up1[1]), \n",
    "      e(up2[0],up2[1]), \n",
    "      e(up3[0],up3[1]), \n",
    "      e(up4[0],up4[1]), \n",
    "      e(up5[0],up5[1]),\n",
    "      e(up6[0],up6[1]),sep='\\n')"
   ]
  },
  {
   "cell_type": "markdown",
   "metadata": {},
   "source": [
    "We can see two things:\n",
    "- the roots are unordered\n",
    "- one of the roots has a very large magnitude.\n",
    "\n",
    "\n",
    "Below, we present a simple program that reorders the characteristics listed above to arrange the roots $e_i$ in ascending order\n",
    "    The fact that one of the roots has such a large magnitude (up to a sign precision) is a consequence of the fact that the point $\\mathbf{u}$ is a <i>special divisor</i>, i.e. a point for which\n",
    "```{math}\n",
    ":label:\n",
    "        \\sigma_1(\\mathbf{u})=0\n",
    "```\n",
    "The characteristic associated with this point will be the last one, corresponding to the root at infinity."
   ]
  },
  {
   "cell_type": "code",
   "execution_count": 110,
   "metadata": {},
   "outputs": [
    {
     "name": "stdout",
     "output_type": "stream",
     "text": [
      "[0 0]\n",
      "[1 1]\n",
      "\n",
      "[1 0]\n",
      "[1 0]\n",
      "\n",
      "[0 1]\n",
      "[1 0]\n",
      "\n",
      "[1 0]\n",
      "[0 0]\n",
      "\n",
      "[0 0]\n",
      "[0 0]\n",
      "\n",
      "[0 1]\n",
      "[1 1]\n",
      "\n"
     ]
    }
   ],
   "source": [
    "# List of characteristics and their corresponding brunch points\n",
    "char = [eChars[0],eChars[1],eChars[2],eChars[3],eChars[4],eChars[5]]\n",
    "values = [e(up1[0],up1[1]), e(up2[0],up2[1]), e(up3[0],up3[1]), e(up4[0],up4[1]), e(up5[0],up5[1]), e(up6[0],up6[1])]\n",
    "\n",
    "# Bubble Sort Algorithm Implementation\n",
    "def bubble_sort(char, values):\n",
    "    sorted = []\n",
    "    n = len(values)\n",
    "    for i in range(n):\n",
    "        for j in range(0, n-i-1):\n",
    "            if values[j] > values[j+1]:  # Value comparison\n",
    "                # Value replacing\n",
    "                values[j], values[j+1] = values[j+1], values[j]\n",
    "                # Replacing corresponding characteristics\n",
    "                char[j], char[j+1] = char[j+1], char[j]\n",
    "    \n",
    "     # Making sure the infinite element is at the end\n",
    "    if values[0].real().abs() > 10**10:\n",
    "        values = values[1:] + values[:1]\n",
    "        char = char[1:] + char[:1]\n",
    "    \n",
    "    return char, values  \n",
    "\n",
    "# Sorting lists\n",
    "char, values = bubble_sort(char, values)    \n",
    "\n",
    "# We display sorted characteristics matrices\n",
    "seen_matrices = []\n",
    "for i in range(len(char)):\n",
    "    current_matrix = matrix(char[i])\n",
    "    if current_matrix not in seen_matrices:\n",
    "        seen_matrices.append(current_matrix)\n",
    "        print(current_matrix)\n",
    "        print()"
   ]
  },
  {
   "cell_type": "code",
   "execution_count": 111,
   "metadata": {},
   "outputs": [
    {
     "name": "stdout",
     "output_type": "stream",
     "text": [
      "Sorted values: [-5.00000000000000 - 2.66453525910038e-15*I, -3.00000000000000 - 1.33226762955019e-15*I, -0.999999999999999 + 4.44089209850063e-16*I, 4.00000000000000 + 3.66373598126302e-15*I, 6.00000000000000 + 1.66533453693773e-16*I, -5.30817730332639e15 + 8.96417469949544e14*I]\n"
     ]
    }
   ],
   "source": [
    "print(\"Sorted values:\", values)"
   ]
  },
  {
   "cell_type": "markdown",
   "metadata": {},
   "source": [
    "Now, we can redefine the characteristic vectors based on the reordered characteristics."
   ]
  },
  {
   "cell_type": "code",
   "execution_count": 112,
   "metadata": {},
   "outputs": [
    {
     "name": "stdout",
     "output_type": "stream",
     "text": [
      "Branch points from Bolza formula:\n",
      "-5.00000000000000 - 2.66453525910038e-15*I\n",
      "-3.00000000000000 - 1.33226762955019e-15*I\n",
      "-0.999999999999999 + 4.44089209850063e-16*I\n",
      "4.00000000000000 + 3.66373598126302e-15*I\n",
      "6.00000000000000 + 1.66533453693773e-16*I\n",
      "-5.30817730332639e15 + 8.96417469949544e14*I\n"
     ]
    }
   ],
   "source": [
    "# New characteristic vectors\n",
    "epsp1 = vector(char[0][0])\n",
    "eps1 = vector(char[0][1])\n",
    "\n",
    "epsp2 = vector(char[1][0])\n",
    "eps2 = vector(char[1][1])\n",
    "\n",
    "epsp3 = vector(char[2][0])\n",
    "eps3 = vector(char[2][1])\n",
    "\n",
    "epsp4 = vector(char[3][0])\n",
    "eps4 = vector(char[3][1])\n",
    "\n",
    "epsp5 = vector(char[4][0])\n",
    "eps5 = vector(char[4][1])\n",
    "\n",
    "epsp6 = vector(char[5][0])\n",
    "eps6 = vector(char[5][1])\n",
    "\n",
    "# Points u\n",
    "up1 = (1/2)*omega*eps1 + (1/2)*omegaP*epsp1\n",
    "up2 = (1/2)*omega*eps2 + (1/2)*omegaP*epsp2\n",
    "up3 = (1/2)*omega*eps3 + (1/2)*omegaP*epsp3\n",
    "up4 = (1/2)*omega*eps4 + (1/2)*omegaP*epsp4\n",
    "up5 = (1/2)*omega*eps5 + (1/2)*omegaP*epsp5\n",
    "up6 = (1/2)*omega*eps6 + (1/2)*omegaP*epsp6\n",
    "\n",
    "print(\"Branch points from Bolza formula:\", \n",
    "      e(up1[0],up1[1]), \n",
    "      e(up2[0],up2[1]), \n",
    "      e(up3[0],up3[1]), \n",
    "      e(up4[0],up4[1]), \n",
    "      e(up5[0],up5[1]), \n",
    "      e(up6[0],up6[1]),sep='\\n')"
   ]
  },
  {
   "cell_type": "markdown",
   "metadata": {},
   "source": [
    "Before we go any further, we can do one more test. Based on the discussion {cite`ernatska_Wolfram_RiemmVec_2024` in the Wolfram community, about the vector of Riemann constants for a computed characteristic $[\\mathbf{K}]$, we should check whether\n",
    "```{math}\n",
    ":label:\n",
    "        \\sigma\\left( \\mathbf{u}[\\mathbf{K}]\\right) =0 \\;\\; \\text{and} \\;\\; \\sigma_1\\left( \\mathbf{u}[\\mathbf{K}]\\right) =0,\n",
    "```      \n",
    "where\n",
    "```{math}\n",
    ":label:\n",
    "        \\mathbf{u}[\\mathbf{K}]=\n",
    "            \\frac{1}{2}\\omega \n",
    "                \\begin{pmatrix}\n",
    "                    K_{1,1}\\\\\n",
    "                    K_{2,1}\n",
    "                \\end{pmatrix}  + \n",
    "            \\frac{1}{2}\\omega' \n",
    "                \\begin{pmatrix}\n",
    "                    K_{1,2}\\\\\n",
    "                    K_{2,2}\n",
    "                \\end{pmatrix} \n",
    "```"
   ]
  },
  {
   "cell_type": "code",
   "execution_count": 113,
   "metadata": {},
   "outputs": [
    {
     "name": "stdout",
     "output_type": "stream",
     "text": [
      "sigma(u[K])= -5.280464032328584e-15 - 1.0174550212127467e-14*I\n",
      "sigma1(u[K])= 2.76595486929220e-14 + 1.42137291225471e-14*I\n"
     ]
    }
   ],
   "source": [
    "vK1 = vector(KCh[0])\n",
    "vK2 = vector(KCh[1])\n",
    "uK = (1/2)*omega*vK1 + (1/2)*omegaP*vK2\n",
    "\n",
    "print(\"sigma(u[K])=\",Tsigma(uK[0], uK[1]))\n",
    "print(\"sigma1(u[K])=\",Tsigma1(uK[0], uK[1]))"
   ]
  },
  {
   "cell_type": "markdown",
   "metadata": {},
   "source": [
    "We will now test the definition defined using theta functions, which will be referred to in the following parts of the code."
   ]
  },
  {
   "cell_type": "code",
   "execution_count": 114,
   "metadata": {},
   "outputs": [],
   "source": [
    "def e(i):\n",
    "    # Declare variables\n",
    "    U1, U3, = var('U1 U3')\n",
    "    CCh=(matrix(char[i])+KCh)%2\n",
    "    # Partial derivatives of the ThetaCh function\n",
    "    numerator = diff(ThetaCh(CCh, omega_inv * vector([U1, U3]), tau, Acc), U3)\n",
    "    denominator = diff(ThetaCh(CCh, omega_inv * vector([U1, U3]), tau, Acc), U1)\n",
    "\n",
    "    # Simplified ratio of derivatives\n",
    "    result = -numerator / denominator\n",
    "\n",
    "    # Substitute U1, U3, -> 0\n",
    "    result = result.subs({U1: 0, U3: 0})\n",
    "    return result.n()"
   ]
  },
  {
   "cell_type": "code",
   "execution_count": 115,
   "metadata": {},
   "outputs": [
    {
     "name": "stdout",
     "output_type": "stream",
     "text": [
      "Branch points from Bolza formula:\n",
      "-5.00000000000000 + 9.08518348890981e-16*I\n",
      "-3.00000000000000 - 6.07821691770261e-16*I\n",
      "-1.00000000000000 - 8.51776485735862e-16*I\n",
      "4.00000000000000 + 4.06906554125232e-16*I\n",
      "6.00000000000000 + 1.76736894047931e-16*I\n",
      "1.35726057700644e16 - 2.18043917449694e16*I\n"
     ]
    }
   ],
   "source": [
    "print(\"Branch points from Bolza formula:\", \n",
    "      e(0),\n",
    "      e(1), \n",
    "      e(2), \n",
    "      e(3), \n",
    "      e(4), \n",
    "      e(5), sep='\\n')"
   ]
  },
  {
   "cell_type": "markdown",
   "metadata": {},
   "source": [
    "We can see that the last element has changed its value. This is, of course, a numerical error arising from computations involving very large numbers."
   ]
  },
  {
   "cell_type": "markdown",
   "metadata": {},
   "source": [
    "## $\\wp$-Functions\n",
    "\n",
    "````{prf:definition}\n",
    ":label: wp_df\n",
    "\n",
    " Let $\\Sigma = \\{ \\mathbf{u}\\in \\mathrm{Jac}(\\mathscr{C})| \\sigma(\\mathbf{u})=0 \\} $, then we define a multiply periodic Klein-Weierstrass $\\wp$-functions on  $\\mathrm{Jac}(\\mathscr{C}) \\setminus \\Sigma$ by\n",
    "```{math}\n",
    ":label:\n",
    "    \\wp_{ij}(\\mathbf{u}):= - \\frac{\\partial^2\\log{\\sigma(\\mathbf{u})}}{\\partial u_i \\partial u_j}, \\quad \\wp_{ijk}:=- \\frac{\\partial^3\\log{\\sigma(\\mathbf{u})}}{\\partial u_i \\partial u_j \\partial u_k},\n",
    "```\n",
    "where $\\sigma(u)$ is called <i>sigma function</i>. This can be also written by \n",
    "```{math}\n",
    ":label:\n",
    "    \\wp_{ij} = \\frac{\\sigma_i(\\mathbf{u})\\sigma_j(\\mathbf{u}) - \\sigma(\\mathbf{u})\\sigma_{ij}(\\mathbf{u})}{\\sigma^2(\\mathbf{u})} = \\frac{\\tilde{\\sigma}_i(\\mathbf{u})\\tilde{\\sigma}_j(\\mathbf{u}) - \\tilde{\\sigma}(\\mathbf{u})\\tilde{\\sigma}_{ij}(\\mathbf{u})}{\\tilde{\\sigma}^2(\\mathbf{u})},\n",
    "```\n",
    "where $\\sigma_i(\\mathbf{u})$ denotes the derivative of the sigma function with respect to the $i$-th component of $\\mathbf{u}$. \n",
    "  \n",
    "It can be shown that the above definitions can be written in the form\n",
    "```{math}\n",
    ":label:\n",
    "    \\wp_{ij}(\\mathbf{u}):=\\kappa_{ij} - \\frac{\\partial^2}{\\partial u_i \\partial u_j}\\log{\\theta[K](\\omega^{-1}\\mathbf{u};\\tau)}, \\quad \\wp_{ijk}(\\mathbf{u}):=- \\frac{\\partial^3}{\\partial u_i \\partial u_j \\partial u_k}\\log{\\theta[K](\\omega^{-1}\\mathbf{u};\\tau)}.\n",
    "```\n",
    "````        "
   ]
  },
  {
   "cell_type": "code",
   "execution_count": 121,
   "metadata": {},
   "outputs": [],
   "source": [
    "# Definition with thetas\n",
    "# We define variables\n",
    "var('U1 U3')\n",
    "\n",
    "# We define the accuracy of theta function\n",
    "Acc=20\n",
    "\n",
    "\n",
    "# WeierstrassP11\n",
    "def WeierstrassP11(u1_val, u3_val):\n",
    "    symbolic_expr = kappa[0, 0] - diff(log(ThetaCh(KCh, omega_inv * vector([U1, U3]), tau, Acc)), U1, 2)\n",
    "    return symbolic_expr.subs({U1: u1_val, U3: u3_val}).n()\n",
    "\n",
    "# WeierstrassP13\n",
    "def WeierstrassP13(u1_val, u3_val):\n",
    "    symbolic_expr = kappa[0, 1] - diff(log(ThetaCh(KCh, omega_inv * vector([U1, U3]), tau, Acc)),  U1, U3)\n",
    "    return symbolic_expr.subs({U1: u1_val, U3: u3_val}).n()\n",
    "\n",
    "# WeierstrassP33\n",
    "def WeierstrassP33(u1_val, u3_val):\n",
    "    symbolic_expr = kappa[1, 1] - diff(log(ThetaCh(KCh, omega_inv * vector([U1, U3]), tau, Acc)), U3, 2)\n",
    "    return symbolic_expr.subs({U1: u1_val, U3: u3_val}).n()\n",
    "\n",
    "#####\n",
    "# Derivatives of these functions useful in subsequent sections\n",
    "#####\n",
    "\n",
    "# WeierstrassP111\n",
    "def WeierstrassP111(u1_val, u3_val):\n",
    "    symbolic_expr = - diff(log(ThetaCh(KCh, omega_inv * vector([U1, U3]), tau, Acc)), U1, 3)\n",
    "    return symbolic_expr.subs({U1: u1_val, U3: u3_val}).n()\n",
    "\n",
    "# WeierstrassP113\n",
    "def WeierstrassP113(u1_val, u3_val):\n",
    "    symbolic_expr = - diff(log(ThetaCh(KCh, omega_inv * vector([U1, U3]), tau, Acc)), U1, U1, U3)\n",
    "    return symbolic_expr.subs({U1: u1_val, U3: u3_val}).n()\n",
    "\n",
    "# WeierstrassP133\n",
    "def WeierstrassP133(u1_val, u3_val):\n",
    "    symbolic_expr = - diff(log(ThetaCh(KCh, omega_inv * vector([U1, U3]), tau, Acc)),  U1, U3, U3)\n",
    "    return symbolic_expr.subs({U1: u1_val, U3: u3_val}).n()\n",
    "\n",
    "# WeierstrassP1111\n",
    "def WeierstrassP1111(u1_val, u3_val):\n",
    "    symbolic_expr = - diff(log(ThetaCh(KCh, omega_inv * vector([U1, U3]), tau, Acc)), U1, 4)\n",
    "    return symbolic_expr.subs({U1: u1_val, U3: u3_val}).n()\n",
    "\n",
    "# WeierstrassP1113\n",
    "def WeierstrassP1113(u1_val, u3_val):\n",
    "    symbolic_expr = - diff(log(ThetaCh(KCh, omega_inv * vector([U1, U3]), tau, Acc)), U1, U1, U1, U3)\n",
    "    return symbolic_expr.subs({U1: u1_val, U3: u3_val}).n()\n",
    "\n",
    "# WeierstrassP3333\n",
    "def WeierstrassP3333(u1_val, u3_val):\n",
    "    symbolic_expr = - diff(log(ThetaCh(KCh, omega_inv * vector([U1, U3]), tau, Acc)), U3, 4)\n",
    "    return symbolic_expr.subs({U1: u1_val, U3: u3_val}).n()\n"
   ]
  },
  {
   "cell_type": "markdown",
   "metadata": {},
   "source": [
    "### Tests\n",
    "\n",
    "#### Periodicity\n",
    "\n",
    "As a first test of these functions, we can check if they satisfy the key property  \n",
    "```{math}\n",
    ":label:\n",
    "    \\wp_{ij}(\\mathbf{u}+2\\omega \\mathbf{n} + 2\\omega'\\mathbf{n}') = \\wp_{ij}(\\mathbf{u}),\n",
    "```\n",
    "where\n",
    "```{math}\n",
    ":label:\n",
    "    \\mathbf{n} = \n",
    "        \\begin{pmatrix}\n",
    "            n_1\\\\\n",
    "            n_2\n",
    "        \\end{pmatrix}, \\quad\n",
    "    \\mathbf{n}' = \n",
    "        \\begin{pmatrix}\n",
    "            n'_1\\\\\n",
    "            n'_2\n",
    "        \\end{pmatrix} \\in \\mathbb{Z}^2.\n",
    "```"
   ]
  },
  {
   "cell_type": "code",
   "execution_count": 122,
   "metadata": {},
   "outputs": [
    {
     "name": "stdout",
     "output_type": "stream",
     "text": [
      "Theta based definitions\n",
      "\n",
      "Test P11:\n",
      "1.01785246897634e-12 - 6.49169606958822e-12*I\n",
      "\n",
      "Test P13:\n",
      "-1.50180312630255e-10 + 5.24806864632410e-10*I\n",
      "\n",
      "Test P33:\n",
      "2.49383447226137e-9 - 6.76294575896463e-9*I\n"
     ]
    }
   ],
   "source": [
    "u1 = 0.212131\n",
    "u3 = -2.231\n",
    "\n",
    "ntest = vector([1, 2])\n",
    "nPtest = vector([-3, -5])\n",
    "\n",
    "wn = omega*ntest\n",
    "wPn= omegaP*nPtest\n",
    "\n",
    "print(\"Theta based definitions\")\n",
    "print()\n",
    "print(\"Test P11:\")\n",
    "print(WeierstrassP11(u1, u3) - WeierstrassP11(u1 + 2*wn[0] + 2*wPn[0], u3 + 2*wn[1] + 2*wPn[1]))\n",
    "print()\n",
    "print(\"Test P13:\")\n",
    "print(WeierstrassP13(u1, u3) - WeierstrassP13(u1 + 2*wn[0] + 2*wPn[0], u3 + 2*wn[1] + 2*wPn[1]))\n",
    "print()\n",
    "print(\"Test P33:\")\n",
    "print(WeierstrassP33(u1, u3) - WeierstrassP33(u1 + 2*wn[0] + 2*wPn[0], u3 + 2*wn[1] + 2*wPn[1]))"
   ]
  },
  {
   "cell_type": "markdown",
   "metadata": {},
   "source": [
    "Let's check this for another value of vector $\\mathbf{u}$\n"
   ]
  },
  {
   "cell_type": "code",
   "execution_count": 123,
   "metadata": {},
   "outputs": [
    {
     "name": "stdout",
     "output_type": "stream",
     "text": [
      "Theta based definitions\n",
      "\n",
      "Test P11:\n",
      "435.423170566965 - 1284.42344146965*I\n",
      "\n",
      "Test P13:\n",
      "11515.6295055428 + 2290.00556440256*I\n",
      "\n",
      "Test P33:\n",
      "-6676.78455445228 + 101429.467554152*I\n"
     ]
    }
   ],
   "source": [
    "u1 = 2\n",
    "u3 = 3\n",
    "\n",
    "ntest = vector([1, 2])\n",
    "nPtest = vector([-3, -5])\n",
    "\n",
    "wn = omega*ntest\n",
    "wPn= omegaP*nPtest\n",
    "\n",
    "print(\"Theta based definitions\")\n",
    "print()\n",
    "print(\"Test P11:\")\n",
    "print(WeierstrassP11(u1, u3) - WeierstrassP11(u1 + 2*wn[0] + 2*wPn[0], u3 + 2*wn[1] + 2*wPn[1]))\n",
    "print()\n",
    "print(\"Test P13:\")\n",
    "print(WeierstrassP13(u1, u3) - WeierstrassP13(u1 + 2*wn[0] + 2*wPn[0], u3 + 2*wn[1] + 2*wPn[1]))\n",
    "print()\n",
    "print(\"Test P33:\")\n",
    "print(WeierstrassP33(u1, u3) - WeierstrassP33(u1 + 2*wn[0] + 2*wPn[0], u3 + 2*wn[1] + 2*wPn[1]))"
   ]
  },
  {
   "cell_type": "markdown",
   "metadata": {},
   "source": [
    "Let's check wheater this is a special divisor"
   ]
  },
  {
   "cell_type": "code",
   "execution_count": 124,
   "metadata": {},
   "outputs": [
    {
     "name": "stdout",
     "output_type": "stream",
     "text": [
      "sigma(u)= -2.6009258311828663e+33 + 1.3224659722714246e+32*I\n",
      "sigma1(u)= 4.53548349465070e34 - 2.30611058476153e33*I\n",
      "sigma3(u)= -2.06613586438708e35 + 1.05054682528078e34*I\n"
     ]
    }
   ],
   "source": [
    "print(\"sigma(u)=\",Tsigma(u1, u3))\n",
    "print(\"sigma1(u)=\",Tsigma1(u1, u3))\n",
    "print(\"sigma3(u)=\",Tsigma3(u1, u3))"
   ]
  },
  {
   "cell_type": "markdown",
   "metadata": {},
   "source": [
    "````{prf:observation}\n",
    "Something is wrong\n",
    "````"
   ]
  },
  {
   "cell_type": "markdown",
   "metadata": {},
   "source": [
    "#### KdV equation\n",
    "\n",
    "````{prf:definition}\n",
    "\n",
    "Multiply periodic Klein-Weierstrass $\\wp$-functions should satisfy the KdV equation given by ({cite}`bernatska_reality_2024` Eq. 44 and {cite}`bernatska_analogue_2024` Eq. 2.20 )\n",
    "```{math}\n",
    ":label:\n",
    "    wp_{1111}(\\mathbf{u}) = 6\\wp^2_{11}(\\mathbf{u}) +  4 \\wp_{13}(\\mathbf{u}) + 4\\lambda_2 \\wp_{11}(\\mathbf{u}) + 2 \\lambda_4 \n",
    "```\n",
    "\n",
    "````"
   ]
  },
  {
   "cell_type": "code",
   "execution_count": 125,
   "metadata": {},
   "outputs": [
    {
     "data": {
      "text/plain": [
       "-8.82209860719740e-11 + 3.66216348581906e-10*I"
      ]
     },
     "execution_count": 125,
     "metadata": {},
     "output_type": "execute_result"
    }
   ],
   "source": [
    "u1 = 0.212131\n",
    "u3 = -2.231\n",
    "\n",
    "LHS = WeierstrassP1111(u1,u3)\n",
    "RHS = 6 * WeierstrassP11(u1,u3)^2 + 4 * l2 * WeierstrassP11(u1,u3) + 4 * WeierstrassP13(u1,u3) + 2*l4\n",
    "\n",
    "LHS - RHS"
   ]
  },
  {
   "cell_type": "markdown",
   "metadata": {},
   "source": [
    "Let's check this for another value of vector $\\mathbf{u}$"
   ]
  },
  {
   "cell_type": "code",
   "execution_count": 126,
   "metadata": {},
   "outputs": [
    {
     "data": {
      "text/plain": [
       "560.751240245520 + 12360.8132533289*I"
      ]
     },
     "execution_count": 126,
     "metadata": {},
     "output_type": "execute_result"
    }
   ],
   "source": [
    "u1 = -1.98213\n",
    "u3 = 3.76213\n",
    "\n",
    "LHS = WeierstrassP1111(u1,u3)\n",
    "RHS = 6 * WeierstrassP11(u1,u3)^2 + 4 * l2 * WeierstrassP11(u1,u3) + 4 * WeierstrassP13(u1,u3) + 2*l4\n",
    "\n",
    "LHS - RHS"
   ]
  },
  {
   "cell_type": "code",
   "execution_count": 127,
   "metadata": {},
   "outputs": [
    {
     "data": {
      "text/plain": [
       "541.497292986239 - 5.27285875962457e-11*I"
      ]
     },
     "execution_count": 127,
     "metadata": {},
     "output_type": "execute_result"
    }
   ],
   "source": [
    "RHS"
   ]
  },
  {
   "cell_type": "code",
   "execution_count": 128,
   "metadata": {},
   "outputs": [
    {
     "data": {
      "text/plain": [
       "1102.24853323176 + 12360.8132533289*I"
      ]
     },
     "execution_count": 128,
     "metadata": {},
     "output_type": "execute_result"
    }
   ],
   "source": [
    "LHS"
   ]
  },
  {
   "cell_type": "markdown",
   "metadata": {},
   "source": [
    "````{prf:observation}\n",
    "There is probably something wrong with $\\wp_{1111}$ because of its large imaginary value.\n",
    "````"
   ]
  },
  {
   "cell_type": "markdown",
   "metadata": {},
   "source": [
    "#### Basic relations\n",
    "\n",
    "````{prf:definition}\n",
    "\n",
    "Multiply periodic Klein-Weierstrass $\\wp$-functions should satisfy following relations ({cite}`bernatska_analogue_2024` Eq. 2.20):\n",
    "```{math}\n",
    ":label: Br_1\n",
    "       \\wp_{133}(\\mathbf{u}) = \\wp_{13}(\\mathbf{u})\\wp_{111}(\\mathbf{u}) -  \\wp_{11}(\\mathbf{u})\\wp_{113}(\\mathbf{u})\n",
    "```\n",
    "```{math}\n",
    ":label: Br_2\n",
    "       \\wp_{1113}(\\mathbf{u}) = 6 \\wp_{13}(\\mathbf{u}) \\wp_{11}(\\mathbf{u}) - 2\\wp_{33}(\\mathbf{u}) + 4\\lambda_2 \\wp_{13}(\\mathbf{u})\n",
    "```\n",
    "```{math}\n",
    ":label: Br_3\n",
    "       \\wp_{33}(\\mathbf{u}) = \\frac{1}{4} \\wp_{111}^2(\\mathbf{u})- \\wp_{11}^3(\\mathbf{u}) - \\wp_{13}(\\mathbf{u}) \\wp_{11}(\\mathbf{u}) - \\lambda_2 \\wp_{11}^2(\\mathbf{u}) - \\lambda_4\\wp_{11}(\\mathbf{u}) - \\lambda_6\n",
    "```\n",
    "````"
   ]
  },
  {
   "cell_type": "code",
   "execution_count": 129,
   "metadata": {},
   "outputs": [
    {
     "name": "stdout",
     "output_type": "stream",
     "text": [
      "Test of the first eq.:\n",
      "-8.10541678220034e-9 - 1.59441551359732e-8*I\n",
      "\n",
      "Test of the second eq.:\n",
      "3.48154571838677e-9 + 2.49705458167421e-9*I\n",
      "\n",
      "Test of the third eq.:\n",
      "4.32919478043914e-10 + 1.75288203677284e-9*I\n"
     ]
    }
   ],
   "source": [
    "u1 = 0.212131\n",
    "u3 = -2.231\n",
    "\n",
    "LHS1 = WeierstrassP133(u1,u3)\n",
    "RHS1 = WeierstrassP13(u1,u3) * WeierstrassP111(u1,u3) - WeierstrassP11(u1,u3)*WeierstrassP113(u1,u3)\n",
    "\n",
    "LHS2 = WeierstrassP1113(u1,u3)\n",
    "RHS2 = 6*WeierstrassP13(u1,u3) * WeierstrassP11(u1,u3) - 2*WeierstrassP33(u1,u3) + 4*l2*WeierstrassP13(u1,u3)\n",
    "\n",
    "LHS3 = WeierstrassP33(u1,u3)\n",
    "RHS3 = (1/4) * WeierstrassP111(u1,u3)^2 - WeierstrassP11(u1,u3)^3 - WeierstrassP13(u1,u3)*WeierstrassP11(u1,u3) - l2*WeierstrassP11(u1,u3)^2 - l4*WeierstrassP11(u1,u3) - l6\n",
    "\n",
    "print(\"Test of the first eq.:\")\n",
    "print(LHS1-RHS1)\n",
    "print()\n",
    "print(\"Test of the second eq.:\")\n",
    "print(LHS2-RHS2)\n",
    "print()\n",
    "print(\"Test of the third eq.:\")\n",
    "print(LHS3-RHS3)"
   ]
  },
  {
   "cell_type": "markdown",
   "metadata": {},
   "source": [
    "Let's check this for another value of vector $\\mathbf{u}$"
   ]
  },
  {
   "cell_type": "code",
   "execution_count": 130,
   "metadata": {},
   "outputs": [
    {
     "name": "stdout",
     "output_type": "stream",
     "text": [
      "Test of the first eq.:\n",
      "-474989.376873502 - 507360.037426675*I\n",
      "\n",
      "Test of the second eq.:\n",
      "332264.897300217 + 150356.742880861*I\n",
      "\n",
      "Test of the third eq.:\n",
      "-56410.8812499046 + 24078.0887804000*I\n"
     ]
    }
   ],
   "source": [
    "u1 = -1.98213\n",
    "u3 = 3.76213\n",
    "\n",
    "LHS1 = WeierstrassP133(u1,u3)\n",
    "RHS1 = WeierstrassP13(u1,u3) * WeierstrassP111(u1,u3) - WeierstrassP11(u1,u3)*WeierstrassP113(u1,u3)\n",
    "\n",
    "LHS2 = WeierstrassP1113(u1,u3)\n",
    "RHS2 = 6*WeierstrassP13(u1,u3) * WeierstrassP11(u1,u3) - 2*WeierstrassP33(u1,u3) + 4*l2*WeierstrassP13(u1,u3)\n",
    "\n",
    "LHS3 = WeierstrassP33(u1,u3)\n",
    "RHS3 = (1/4) * WeierstrassP111(u1,u3)^2 - WeierstrassP11(u1,u3)^3 - WeierstrassP13(u1,u3)*WeierstrassP11(u1,u3) - l2*WeierstrassP11(u1,u3)^2 - l4*WeierstrassP11(u1,u3) - l6\n",
    "\n",
    "print(\"Test of the first eq.:\")\n",
    "print(LHS1-RHS1)\n",
    "print()\n",
    "print(\"Test of the second eq.:\")\n",
    "print(LHS2-RHS2)\n",
    "print()\n",
    "print(\"Test of the third eq.:\")\n",
    "print(LHS3-RHS3)"
   ]
  },
  {
   "cell_type": "markdown",
   "metadata": {},
   "source": [
    "````{prf:observation}\n",
    "Again, a similar problem. We need to develop a domain in which we should be able to work.\n",
    "````"
   ]
  },
  {
   "cell_type": "markdown",
   "metadata": {},
   "source": [
    "## Jacobi inversion problem\n",
    "\n",
    "````{prf:definition}\n",
    ":label: divisor_df\n",
    "\n",
    "Let \n",
    "```{math}\n",
    ":label:\n",
    "        D=\\sum_{i=1}^n P_i,\n",
    "```\n",
    "be a divisor on a curve $\\mathscr{C}$. We assume that $D$ is <b>non-special</b>, that is \n",
    "- $ n\\geq g$,\n",
    "- $D$ does not contain pairs of points connected by the hyperelliptic involution.\n",
    "\n",
    "````\n",
    "\n",
    "````{prf:definition}\n",
    ":label: Abel_map_df\n",
    "\n",
    "Let $du$ be a normalised first kind differentials, then an Abel map $\\mathcal{A}$ can be constructed by:\n",
    "```{math}\n",
    ":label:\n",
    "    \\mathcal{A}(P) = \\int_{\\infty}^P du, \\quad P = (x,y) \\in \\mathscr{C}.\n",
    "```\n",
    "Here infinity is used as the base point. The Abel image of divisor $D$ is computed by \n",
    "```{math}\n",
    ":label:\n",
    "    \\mathcal{A}(D) = \\sum_{i=1}^n \\mathcal{A}(P_i).\n",
    "```\n",
    "````"
   ]
  },
  {
   "cell_type": "markdown",
   "metadata": {},
   "source": [
    "### Jacobi inversion problem on branch points\n",
    "\n",
    "Based on the Riemann vanishing theorem and the inverse Jaccobi problem we can define the following properties.\n",
    "\n",
    "````{prf:definition}\n",
    ":label: \n",
    "\n",
    "Based on {cite}`enolski_inversion_2011`(5.10-13) let's take\n",
    "```{math}\n",
    ":label:\n",
    "    \\Omega_{ij} = \\frac{1}{2} \\omega (\\varepsilon_i + \\varepsilon_j) +  \\frac{1}{2} \\omega' (\\varepsilon'_i + \\varepsilon'_j)+ \\mathbf{K},\n",
    "```\n",
    "then\n",
    "```{math}\n",
    ":label:\n",
    "    \\wp_{11}(\\Omega_{ij}) = e_i + e_j, \\quad \\wp_{13}(\\Omega_{ij}) = -e_i e_j,  \\quad i,j=1,\\ldots,5, \\; i\\neq j\n",
    "```\n",
    "and\n",
    "```{math}\n",
    ":label:\n",
    "    \\wp_{33}(\\Omega_{ij}) = e_i e_j (e_p + e_q + e_r) + e_p e_q e_r\n",
    "```\n",
    "\n",
    "````\n",
    "\n",
    "T Now we can test the above definition using $\\Omega_{ij}$ calculated from characteristics $\\varepsilon$, but also using the built-in Sage function `abel_jacobi()`, which expects lists of tuples in the format `(v,P)`, where  `v` is the multiplicity of the point in the divisor (in our case 1 for both points), and  `P` is a tuple  `(x,y)` representing the point on the curve. \n",
    "  \n",
    "The multiplicity `v` (also called valuation) in the context of divisors determines how many times a given point appears in the divisor. Here are some key points:\n",
    "- For regular points on the curve that are neither singular points nor points at infinity, typically $v = 1$ or $v = -1$ is used.\n",
    "$v = 1$ means the point appears positively in the divisor (it is \"added\").\n",
    "- $v = -1$ means the point appears negatively in the divisor (it is \"subtracted\").\n",
    "- If a point appears multiple times, $v$ can be greater than 1 or less than -1.\n",
    "- For special points (e.g., points at infinity or singular points), v may take other values depending on the local structure of the curve at that point.\n",
    "\n",
    "```{important}\n",
    "`abel_jacobi()` returns the $\\mathbf{u}$ coordinates in the reverse order of the convention we adopted.\n",
    "```"
   ]
  },
  {
   "cell_type": "code",
   "execution_count": 135,
   "metadata": {},
   "outputs": [],
   "source": [
    "## Definition of Omega_ij\n",
    "vK1 = vector(KCh[0])\n",
    "vK2 = vector(KCh[1])\n",
    "\n",
    "Omega12 = (1/2)*omega*(eps1 + eps2 + vK1) + (1/2)*omegaP*(epsp1 + epsp2 + vK2)\n",
    "Omega13 = (1/2)*omega*(eps1 + eps3 + vK1) + (1/2)*omegaP*(epsp1 + epsp3 + vK2)\n",
    "Omega14 = (1/2)*omega*(eps1 + eps4 + vK1) + (1/2)*omegaP*(epsp1 + epsp4 + vK2) \n",
    "Omega15 = (1/2)*omega*(eps1 + eps5 + vK1) + (1/2)*omegaP*(epsp1 + epsp5 + vK2)\n",
    "Omega23 = (1/2)*omega*(eps2 + eps3 + vK1) + (1/2)*omegaP*(epsp2 + epsp3 + vK2)\n",
    "Omega24 = (1/2)*omega*(eps2 + eps4 + vK1) + (1/2)*omegaP*(epsp2 + epsp4 + vK2)\n",
    "Omega25 = (1/2)*omega*(eps2 + eps5 + vK1) + (1/2)*omegaP*(epsp2 + epsp5 + vK2)\n",
    "Omega34 = (1/2)*omega*(eps3 + eps4 + vK1) + (1/2)*omegaP*(epsp3 + epsp4 + vK2)\n",
    "Omega35 = (1/2)*omega*(eps3 + eps5 + vK1) + (1/2)*omegaP*(epsp3 + epsp5 + vK2)\n",
    "Omega45 = (1/2)*omega*(eps4 + eps5 + vK1) + (1/2)*omegaP*(epsp4 + epsp5 + vK2)"
   ]
  },
  {
   "cell_type": "code",
   "execution_count": 148,
   "metadata": {},
   "outputs": [],
   "source": [
    "## Code for abel_jacobi()\n",
    "\n",
    "# Branch points\n",
    "e1 = e(0)\n",
    "e2 = e(1)\n",
    "e3 = e(2)\n",
    "e4 = e(3)\n",
    "e5 = e(4)\n",
    "\n",
    "# Divisors\n",
    "\n",
    "divisor12 = [(-1, (e1,0)),(1, (e2,0))]\n",
    "divisor13 = [(-1, (e1,0)),(1, (e3,0))] \n",
    "divisor14 = [(-1, (e1,0)),(1, (e4,0))] \n",
    "divisor15 = [(-1, (e1,0)),(1, (e5,0))] \n",
    "divisor23 = [(-1, (e2,0)),(1, (e3,0))] \n",
    "divisor24 = [(-1, (e2,0)),(1, (e4,0))]\n",
    "divisor25 = [(-1, (e2,0)),(1, (e5,0))] \n",
    "divisor34 = [(-1, (e3,0)),(1, (e4,0))]\n",
    "divisor35 = [(-1, (e3,0)),(1, (e5,0))] \n",
    "divisor45 = [(-1, (e4,0)),(1, (e5,0))]\n",
    "\n",
    "# Abels images\n",
    "ai12 = S.abel_jacobi(divisor12)\n",
    "ai13 = S.abel_jacobi(divisor13)\n",
    "ai14 = S.abel_jacobi(divisor14)\n",
    "ai15 = S.abel_jacobi(divisor15)\n",
    "ai23 = S.abel_jacobi(divisor23)\n",
    "ai24 = S.abel_jacobi(divisor24)\n",
    "ai25 = S.abel_jacobi(divisor25)\n",
    "ai34 = S.abel_jacobi(divisor34)\n",
    "ai35 = S.abel_jacobi(divisor35)\n",
    "ai45 = S.abel_jacobi(divisor45)\n",
    "\n",
    "# Reversing the order of coordinates\n",
    "AJ12 = (ai12[1],ai12[0])\n",
    "AJ13 = (ai13[1],ai13[0])\n",
    "AJ14 = (ai14[1],ai14[0])\n",
    "AJ15 = (ai15[1],ai15[0])\n",
    "AJ23 = (ai23[1],ai23[0])\n",
    "AJ24 = (ai24[1],ai24[0])\n",
    "AJ25 = (ai25[1],ai25[0])\n",
    "AJ34 = (ai34[1],ai34[0])\n",
    "AJ35 = (ai35[1],ai35[0])\n",
    "AJ45 = (ai45[1],ai45[0])\n",
    "\n",
    "\n",
    "################\n",
    "# Adding the Riemann vector shift\n",
    "################\n",
    "vK1 = vector(KCh[0])\n",
    "vK2 = vector(KCh[1])\n",
    "uK = (1/2)*omega*vK1 + (1/2)*omegaP*vK2\n",
    "\n",
    "AOmega12 = (AJ12[0]+uK[0], AJ12[1]+uK[1])\n",
    "AOmega13 = (AJ13[0]+uK[0], AJ13[1]+uK[1])\n",
    "AOmega14 = (AJ14[0]+uK[0], AJ14[1]+uK[1])\n",
    "AOmega15 = (AJ15[0]+uK[0], AJ15[1]+uK[1])\n",
    "AOmega23 = (AJ23[0]+uK[0], AJ23[1]+uK[1])\n",
    "AOmega24 = (AJ24[0]+uK[0], AJ24[1]+uK[1])\n",
    "AOmega25 = (AJ25[0]+uK[0], AJ25[1]+uK[1])\n",
    "AOmega34 = (AJ34[0]+uK[0], AJ34[1]+uK[1])\n",
    "AOmega35 = (AJ35[0]+uK[0], AJ35[1]+uK[1])\n",
    "AOmega45 = (AJ45[0]+uK[0], AJ45[1]+uK[1])"
   ]
  },
  {
   "cell_type": "markdown",
   "metadata": {},
   "source": [
    "Compare the angles calculated in both ways"
   ]
  },
  {
   "cell_type": "code",
   "execution_count": 149,
   "metadata": {},
   "outputs": [
    {
     "name": "stdout",
     "output_type": "stream",
     "text": [
      "Omega12 - AOmega12= (1.4290*I, 0.29154*I)\n",
      "Omega13 - AOmega13= (0.38249 - 0.53767*I, 0.30915 + 0.26715*I)\n",
      "Omega14 - AOmega14= (1.4290*I, 0.29154*I)\n",
      "Omega15 - AOmega15= (0.71452*I, 0.14577*I)\n",
      "Omega23 - AOmega23= (0.76497 - 1.7899*I, 0.61831 + 0.38854*I)\n",
      "Omega24 - AOmega24= (0.38249 + 0.17686*I, 0.30915 + 0.41292*I)\n",
      "Omega25 - AOmega25= (0.38249 - 0.53767*I, 0.30915 + 0.26715*I)\n",
      "Omega34 - AOmega34= (0.17686*I, 0.41292*I)\n",
      "Omega35 - AOmega35= (-0.53767*I, 0.26715*I)\n",
      "Omega45 - AOmega45= (0.00000, 0.00000)\n"
     ]
    }
   ],
   "source": [
    "print(\"Omega12 - AOmega12=\", (Omega12[0].n(digits=5) - AOmega12[0].n(digits=5),Omega12[1].n(digits=5) - AOmega12[1].n(digits=5)))\n",
    "print(\"Omega13 - AOmega13=\", (Omega13[0].n(digits=5) - AOmega13[0].n(digits=5),Omega13[1].n(digits=5) - AOmega13[1].n(digits=5)))\n",
    "print(\"Omega14 - AOmega14=\", (Omega14[0].n(digits=5) - AOmega14[0].n(digits=5),Omega14[1].n(digits=5) - AOmega14[1].n(digits=5)))\n",
    "print(\"Omega15 - AOmega15=\", (Omega15[0].n(digits=5) - AOmega15[0].n(digits=5),Omega15[1].n(digits=5) - AOmega15[1].n(digits=5)))\n",
    "print(\"Omega23 - AOmega23=\", (Omega23[0].n(digits=5) - AOmega23[0].n(digits=5),Omega23[1].n(digits=5) - AOmega23[1].n(digits=5)))\n",
    "print(\"Omega24 - AOmega24=\", (Omega24[0].n(digits=5) - AOmega24[0].n(digits=5),Omega24[1].n(digits=5) - AOmega24[1].n(digits=5)))\n",
    "print(\"Omega25 - AOmega25=\", (Omega25[0].n(digits=5) - AOmega25[0].n(digits=5),Omega25[1].n(digits=5) - AOmega25[1].n(digits=5)))\n",
    "print(\"Omega34 - AOmega34=\", (Omega34[0].n(digits=5) - AOmega34[0].n(digits=5),Omega34[1].n(digits=5) - AOmega34[1].n(digits=5))) \n",
    "print(\"Omega35 - AOmega35=\", (Omega35[0].n(digits=5) - AOmega35[0].n(digits=5),Omega35[1].n(digits=5) - AOmega35[1].n(digits=5)))\n",
    "print(\"Omega45 - AOmega45=\", (Omega45[0].n(digits=5) - AOmega45[0].n(digits=5),Omega45[1].n(digits=5) - AOmega45[1].n(digits=5))) "
   ]
  },
  {
   "cell_type": "markdown",
   "metadata": {},
   "source": [
    "Let's check whether, despite these differences, we get the correct results for the inverse Jacobi problem."
   ]
  },
  {
   "cell_type": "code",
   "execution_count": 150,
   "metadata": {},
   "outputs": [
    {
     "name": "stdout",
     "output_type": "stream",
     "text": [
      "P11(Omega12)= -7.99999999999998 + 6.21724893790088e-15*I\n",
      "P11(AOmega12)= -8.00000000000004 + 2.84217094304040e-14*I\n",
      "From theory: e1+e2= -8.00000000000000 + 3.00696657120720e-16*I\n"
     ]
    }
   ],
   "source": [
    "print(\"P11(Omega12)=\",WeierstrassP11(Omega12[0],Omega12[1]))\n",
    "print(\"P11(AOmega12)=\",WeierstrassP11(AOmega12[0],AOmega12[1]))\n",
    "print(\"From theory: e1+e2=\",e1+ e2)"
   ]
  },
  {
   "cell_type": "code",
   "execution_count": 151,
   "metadata": {},
   "outputs": [
    {
     "name": "stdout",
     "output_type": "stream",
     "text": [
      "P13(Omega12)= -14.9999999999999 + 4.13002965160558e-14*I\n",
      "P13(AOmega12)= -14.9999999999999 + 6.92779167366098e-14*I\n",
      "From theory: -e1*e2= -15.0000000000000 - 3.13553412178361e-16*I\n"
     ]
    }
   ],
   "source": [
    "print(\"P13(Omega12)=\",WeierstrassP13(Omega12[0],Omega12[1]))\n",
    "print(\"P13(AOmega12)=\",WeierstrassP13(AOmega12[0],AOmega12[1]))\n",
    "print(\"From theory: -e1*e2=\",-e1* e2)"
   ]
  },
  {
   "cell_type": "code",
   "execution_count": 152,
   "metadata": {},
   "outputs": [
    {
     "name": "stdout",
     "output_type": "stream",
     "text": [
      "P33(Omega12)= 111.000000000000 - 9.94759830064140e-14*I\n",
      "P33(AOmega12)= 111.000000000000 + 4.26325641456060e-13*I\n",
      "From theory: e1*e2(e3+e4+e5) + e3*e4*e5= 111.000000000000 - 2.47910374124390e-14*I\n"
     ]
    }
   ],
   "source": [
    "print(\"P33(Omega12)=\",WeierstrassP33(Omega12[0],Omega12[1]))\n",
    "print(\"P33(AOmega12)=\",WeierstrassP33(AOmega12[0],AOmega12[1]))\n",
    "print(\"From theory: e1*e2(e3+e4+e5) + e3*e4*e5=\",e1*e2*(e3+e4+e5) + e3*e4*e5)"
   ]
  },
  {
   "cell_type": "code",
   "execution_count": 153,
   "metadata": {},
   "outputs": [
    {
     "name": "stdout",
     "output_type": "stream",
     "text": [
      "P11(Omega13)= -6.00000000000000 + 3.55271367880050e-15*I\n",
      "P11(AOmega13)= -6.00000000000002 + 1.06581410364015e-14*I\n",
      "From theory: e1+e3= -6.00000000000000 + 5.67418631551191e-17*I\n"
     ]
    }
   ],
   "source": [
    "print(\"P11(Omega13)=\",WeierstrassP11(Omega13[0],Omega13[1]))\n",
    "print(\"P11(AOmega13)=\",WeierstrassP11(AOmega13[0],AOmega13[1]))\n",
    "print(\"From theory: e1+e3=\",e1+ e3)"
   ]
  },
  {
   "cell_type": "code",
   "execution_count": 154,
   "metadata": {},
   "outputs": [
    {
     "name": "stdout",
     "output_type": "stream",
     "text": [
      "P11(Omega14)= -1.00000000000000 - 3.99680288865056e-15*I\n",
      "P11(AOmega14)= -0.999999999999995 + 2.13162820728030e-14*I\n",
      "From theory: e1+e4= -1.00000000000000 + 1.31542490301621e-15*I\n"
     ]
    }
   ],
   "source": [
    "print(\"P11(Omega14)=\",WeierstrassP11(Omega14[0],Omega14[1]))\n",
    "print(\"P11(AOmega14)=\",WeierstrassP11(AOmega14[0],AOmega14[1]))\n",
    "print(\"From theory: e1+e4=\", e1+ e4)"
   ]
  },
  {
   "cell_type": "code",
   "execution_count": 155,
   "metadata": {},
   "outputs": [
    {
     "name": "stdout",
     "output_type": "stream",
     "text": [
      "P11(Omega15)= 0.999999999999995 - 5.32907051820075e-15*I\n",
      "P11(AOmega15)= 0.999999999999994 - 3.55271367880050e-15*I\n",
      "From theory: e1+e5= 1.00000000000000 + 1.08525524293891e-15*I\n"
     ]
    }
   ],
   "source": [
    "print(\"P11(Omega15)=\",WeierstrassP11(Omega15[0],Omega15[1]))\n",
    "print(\"P11(AOmega15)=\",WeierstrassP11(AOmega15[0],AOmega15[1]))\n",
    "print(\"From theory: e1+e5=\", e1+ e5)"
   ]
  },
  {
   "cell_type": "code",
   "execution_count": 156,
   "metadata": {},
   "outputs": [
    {
     "name": "stdout",
     "output_type": "stream",
     "text": [
      "P11(Omega23)= -4.00000000000000 - 3.55271367880050e-15*I\n",
      "P11(AOmega23)= -4.00000000000000 - 5.27355936696949e-16*I\n",
      "From theory: e2+e3= -4.00000000000000 - 1.45959817750612e-15*I\n"
     ]
    }
   ],
   "source": [
    "print(\"P11(Omega23)=\",WeierstrassP11(Omega23[0],Omega23[1]))\n",
    "print(\"P11(AOmega23)=\",WeierstrassP11(AOmega23[0],AOmega23[1]))\n",
    "print(\"From theory: e2+e3=\", e2+ e3)"
   ]
  },
  {
   "cell_type": "code",
   "execution_count": 157,
   "metadata": {},
   "outputs": [
    {
     "name": "stdout",
     "output_type": "stream",
     "text": [
      "P11(Omega24)= 1.00000000000000 - 5.55111512312578e-16*I\n",
      "P11(AOmega24)= 1.00000000000000 - 4.44089209850063e-15*I\n",
      "From theory: e2+e4= 1.00000000000000 - 2.00915137645029e-16*I\n"
     ]
    }
   ],
   "source": [
    "print(\"P11(Omega24)=\",WeierstrassP11(Omega24[0],Omega24[1]))\n",
    "print(\"P11(AOmega24)=\",WeierstrassP11(AOmega24[0],AOmega24[1]))\n",
    "print(\"From theory: e2+e4=\",e2+ e4)"
   ]
  },
  {
   "cell_type": "code",
   "execution_count": 158,
   "metadata": {},
   "outputs": [
    {
     "name": "stdout",
     "output_type": "stream",
     "text": [
      "P11(Omega25)= 3.00000000000000 + 6.66133814775094e-16*I\n",
      "P11(AOmega25)= 3.00000000000000 - 3.33066907387547e-16*I\n",
      "From theory: e2+e5= 3.00000000000000 - 4.31084797722330e-16*I\n"
     ]
    }
   ],
   "source": [
    "print(\"P11(Omega25)=\",WeierstrassP11(Omega25[0],Omega25[1]))\n",
    "print(\"P11(AOmega25)=\",WeierstrassP11(AOmega25[0],AOmega25[1]))\n",
    "print(\"From theory: e2+e5=\",e2+ e5)"
   ]
  },
  {
   "cell_type": "code",
   "execution_count": 159,
   "metadata": {},
   "outputs": [
    {
     "name": "stdout",
     "output_type": "stream",
     "text": [
      "P11(Omega34)= 3.00000000000000 + 7.10542735760100e-15*I\n",
      "P11(AOmega34)= 3.00000000000000 + 3.55271367880050e-15*I\n",
      "From theory: e3+e4= 3.00000000000000 - 4.44869931610630e-16*I\n"
     ]
    }
   ],
   "source": [
    "print(\"P11(Omega34)=\",WeierstrassP11(Omega34[0],Omega34[1]))\n",
    "print(\"P11(AOmega34)=\",WeierstrassP11(AOmega34[0],AOmega34[1]))\n",
    "print(\"From theory: e3+e4=\",e3+ e4)"
   ]
  },
  {
   "cell_type": "code",
   "execution_count": 160,
   "metadata": {},
   "outputs": [
    {
     "name": "stdout",
     "output_type": "stream",
     "text": [
      "P11(Omega35)= 5.00000000000002 + 1.77635683940025e-14*I\n",
      "P11(AOmega35)= 4.99999999999999 - 1.77635683940025e-15*I\n",
      "From theory: e3+e5= 5.00000000000000 - 6.75039591687931e-16*I\n"
     ]
    }
   ],
   "source": [
    "print(\"P11(Omega35)=\",WeierstrassP11(Omega35[0],Omega35[1]))\n",
    "print(\"P11(AOmega35)=\",WeierstrassP11(AOmega35[0],AOmega35[1]))\n",
    "print(\"From theory: e3+e5=\",e3+ e5)"
   ]
  },
  {
   "cell_type": "code",
   "execution_count": 161,
   "metadata": {},
   "outputs": [
    {
     "name": "stdout",
     "output_type": "stream",
     "text": [
      "P11(Omega45)= 9.99999999999999 - 3.33066907387547e-16*I\n",
      "P11(AOmega45)= 10.0000000000000 + 6.43929354282591e-15*I\n",
      "From theory: e4+e5= 10.0000000000000 + 5.83643448173163e-16*I\n"
     ]
    }
   ],
   "source": [
    "print(\"P11(Omega45)=\",WeierstrassP11(Omega45[0],Omega45[1]))\n",
    "print(\"P11(AOmega45)=\",WeierstrassP11(AOmega45[0],AOmega45[1]))\n",
    "print(\"From theory: e4+e5=\",e4+ e5)"
   ]
  },
  {
   "cell_type": "markdown",
   "metadata": {},
   "source": [
    "### General case\n",
    "\n",
    "As a point $P_i$ we choose\n",
    "```{math}\n",
    ":label:\n",
    "    P_i = (x_i,y_i) = (x_i, y_{+}(x_i)),\n",
    "```\n",
    "where $y_{+}(x) = + \\sqrt{y^2(x)}$ (there is second option $y_{-}(x) = - \\sqrt{y^2(x)}$ ). "
   ]
  },
  {
   "cell_type": "code",
   "execution_count": 162,
   "metadata": {},
   "outputs": [],
   "source": [
    "# Definition of polynomial\n",
    "def Poly(x):\n",
    "    return x^5 + l2*x^4 + l4*x^3 + l6*x^2 + l8*x + l10\n",
    "\n",
    "# Definition of y\n",
    "def y(x):\n",
    "    # Polynomial module\n",
    "    modulus = abs(Poly(x))\n",
    "    \n",
    "    # Polynomial argument\n",
    "    angle = arg(Poly(x))  \n",
    "    \n",
    "    # Correction of angle according to conditions\n",
    "    corrected_angle = angle / 2 + pi if angle < 0 else angle / 2\n",
    "    \n",
    "    # Assembly of module and phase\n",
    "    root = sqrt(modulus) * exp(I * corrected_angle)\n",
    "    \n",
    "    return root"
   ]
  },
  {
   "cell_type": "markdown",
   "metadata": {},
   "source": [
    "From the theory \n",
    "```{math}\n",
    ":label:\n",
    "    \\wp_{11}(\\mathbf{u}) = x_1 + x_2, \\quad \\wp_{13}(\\mathbf{u}) = -x_1 x_2,  \n",
    "```\n",
    "and for \n",
    "```{math}\n",
    ":label:\n",
    "    F(x,z) = \\left[2\\lambda_{10}  + \\lambda_8 (x+z)\\right] + xz\\left[ 2\\lambda_6 + \\lambda_4(x+z) \\right]  + x^2 z^2 \\left[ 2\\lambda_2 + (x+z) \\right]\n",
    "```\n",
    "```{math}\n",
    ":label:\n",
    "    \\wp_{33}(\\mathbf{u}) = \\frac{F(x_1,x_2) - 2y_1 y_2}{4(x_1 - x_2)^2}\n",
    "```"
   ]
  },
  {
   "cell_type": "code",
   "execution_count": 163,
   "metadata": {},
   "outputs": [],
   "source": [
    "def fun(x,z):\n",
    "    return 2*l10 + l8*(x+z) + x*z*(2*l6 + l4*(x+z)) + x^2 * z^2 *(2*l2+(x+z))\n",
    "\n",
    "def p33(x1,x2):\n",
    "    numerator = fun(x1,x2) - 2*y(x1)*y(x2)\n",
    "    denominator = 4*(x1-x2)^2\n",
    "    return numerator/denominator"
   ]
  },
  {
   "cell_type": "markdown",
   "metadata": {},
   "source": [
    "Let's recall brunch points"
   ]
  },
  {
   "cell_type": "code",
   "execution_count": 164,
   "metadata": {},
   "outputs": [
    {
     "name": "stdout",
     "output_type": "stream",
     "text": [
      "Branch points:\n",
      "-5.00000000000000\n",
      "-3.00000000000000\n",
      "-1.00000000000000\n",
      "4.00000000000000\n",
      "6.00000000000000\n",
      "+Infinity\n"
     ]
    }
   ],
   "source": [
    "print(\"Branch points:\", *branch_points, sep='\\n')"
   ]
  },
  {
   "cell_type": "markdown",
   "metadata": {},
   "source": [
    "We compare the values of $\\mathbf{u}$ calculated from`abel_jacobi()` with the values from the theory for arbitrary points $x_1$ and $x_2$"
   ]
  },
  {
   "cell_type": "code",
   "execution_count": 165,
   "metadata": {},
   "outputs": [
    {
     "name": "stdout",
     "output_type": "stream",
     "text": [
      "P11(u):= 11.5000000603600 - 1.71454441755259e-8*I\n",
      "From theory: x1+x2= 11.5000000000000\n",
      "\n",
      "P13(u)= -32.5000003034155 + 1.16165164598669e-7*I\n",
      "From theory: -x1*x2= -32.5000000000000\n",
      "\n",
      "P33(u)= -279.499940540788 + 623.253118200283*I\n",
      "From theory: -28.4474824766491*I*sqrt(30) - 69.8750000000000\n"
     ]
    }
   ],
   "source": [
    "x1 = 6.5\n",
    "x2 = 5\n",
    "\n",
    "y1 = y(x1)\n",
    "y2 = y(x2)\n",
    "\n",
    "\n",
    "# Divisors\n",
    "divisor = [(-1, (Infinity,0)),(1, (e5,  0)),(-1, (x1, y1)),(1, (x2, y2))]\n",
    "\n",
    "# Abel map\n",
    "aj = S.abel_jacobi(divisor)\n",
    "# Reversing the order of coordinates\n",
    "AJ = (aj[1],aj[0])\n",
    "\n",
    "u1=AJ[0]\n",
    "u3=AJ[1]\n",
    "\n",
    "print(\"P11(u):=\",WeierstrassP11(u1, u3))\n",
    "print(\"From theory: x1+x2=\",x1+ x2)\n",
    "print()\n",
    "print(\"P13(u)=\",WeierstrassP13(u1, u3))\n",
    "print(\"From theory: -x1*x2=\",-x1*x2)\n",
    "print()     \n",
    "print(\"P33(u)=\",WeierstrassP33(u1, u3))\n",
    "print(\"From theory:\",p33(x1,x2) )"
   ]
  },
  {
   "cell_type": "markdown",
   "metadata": {},
   "source": [
    "Let's change the the points $x_1$ and $x_2$"
   ]
  },
  {
   "cell_type": "code",
   "execution_count": 168,
   "metadata": {},
   "outputs": [
    {
     "name": "stdout",
     "output_type": "stream",
     "text": [
      "P11(u):= 1.00000033920249 + 1.80036838770548e-8*I\n",
      "From theory: x1+x2= 1.00000000000000\n",
      "\n",
      "P13(u)= 0.750000009217073 + 4.89208673570829e-10*I\n",
      "From theory: -x1*x2= 0.750000000000000\n",
      "\n",
      "P33(u)= 471.998377504963 - 1.44402420687584e-6*I\n",
      "From theory: 26.0238363221235\n"
     ]
    }
   ],
   "source": [
    "x1 = 1.5\n",
    "x2 = -0.5\n",
    "\n",
    "y1 = y(x1)\n",
    "y2 = y(x2)\n",
    "\n",
    "\n",
    "# Divisors\n",
    "divisor = [(-1, (Infinity,0)),(1, (e5,  0)),(-1, (x1, y1)),(1, (x2, y2))]\n",
    "\n",
    "# Abel map\n",
    "aj = S.abel_jacobi(divisor)\n",
    "# Reversing the order of coordinates\n",
    "AJ = (aj[1],aj[0])\n",
    "\n",
    "u1=AJ[0]\n",
    "u3=AJ[1]\n",
    "\n",
    "print(\"P11(u):=\",WeierstrassP11(u1, u3))\n",
    "print(\"From theory: x1+x2=\",x1+ x2)\n",
    "print()\n",
    "print(\"P13(u)=\",WeierstrassP13(u1, u3))\n",
    "print(\"From theory: -x1*x2=\",-x1*x2)\n",
    "print()     \n",
    "print(\"P33(u)=\",WeierstrassP33(u1, u3))\n",
    "print(\"From theory:\",p33(x1,x2) )"
   ]
  },
  {
   "cell_type": "markdown",
   "metadata": {},
   "source": [
    "Let's change the brunch point in the divisor definition"
   ]
  },
  {
   "cell_type": "code",
   "execution_count": 169,
   "metadata": {},
   "outputs": [
    {
     "name": "stdout",
     "output_type": "stream",
     "text": [
      "P11(u):= 9.03505583570014 - 6.90418779925039e-8*I\n",
      "From theory: x1+x2= 1.00000000000000\n",
      "\n",
      "P13(u)= -7.59594822185160 + 1.88173888915344e-7*I\n",
      "From theory: -x1*x2= 0.750000000000000\n",
      "\n",
      "P33(u)= -74.6790375700397 + 3.36753624452513e-6*I\n",
      "From theory: 26.0238363221235\n"
     ]
    }
   ],
   "source": [
    "x1 = 1.5\n",
    "x2 = -0.5\n",
    "\n",
    "y1 = y(x1)\n",
    "y2 = y(x2)\n",
    "\n",
    "\n",
    "# Divisors\n",
    "divisor = [(-1, (Infinity,0)),(1, (e4,  0)),(-1, (x1, y1)),(1, (x2, y2))]\n",
    "\n",
    "# Abel map\n",
    "aj = S.abel_jacobi(divisor)\n",
    "# Reversing the order of coordinates\n",
    "AJ = (aj[1],aj[0])\n",
    "\n",
    "u1=AJ[0]\n",
    "u3=AJ[1]\n",
    "\n",
    "print(\"P11(u):=\",WeierstrassP11(u1, u3))\n",
    "print(\"From theory: x1+x2=\",x1+ x2)\n",
    "print()\n",
    "print(\"P13(u)=\",WeierstrassP13(u1, u3))\n",
    "print(\"From theory: -x1*x2=\",-x1*x2)\n",
    "print()     \n",
    "print(\"P33(u)=\",WeierstrassP33(u1, u3))\n",
    "print(\"From theory:\",p33(x1,x2) )"
   ]
  },
  {
   "cell_type": "markdown",
   "metadata": {},
   "source": [
    "````{prf:observation}\n",
    "As for now, there are no clear rules for selecting divisors.\n",
    "````\n",
    "\n",
    "```{note}\n",
    "Sage still has a problem with dealing with situations where $y$ has a large imaginary part, e.g. $x_2=-7$, for which we get $y_2=82.8492607088319\\;i$. But in the physical applications that interest us this does not happen, because $y$ always belongs to the real\n",
    "````"
   ]
  },
  {
   "cell_type": "markdown",
   "metadata": {},
   "source": [
    "## Bibliography\n",
    "\n",
    "```{bibliography}\n",
    ":style: unsrt\n",
    ":filter: docname in docnames\n",
    "```"
   ]
  }
 ],
 "metadata": {
  "kernelspec": {
   "display_name": "SageMath 10.4",
   "language": "sage",
   "name": "sagemath-10.4"
  },
  "language_info": {
   "codemirror_mode": {
    "name": "ipython",
    "version": 3
   },
   "file_extension": ".py",
   "mimetype": "text/x-python",
   "name": "python",
   "nbconvert_exporter": "python",
   "pygments_lexer": "ipython3",
   "version": "3.12.4"
  },
  "widgets": {
   "application/vnd.jupyter.widget-state+json": {
    "state": {},
    "version_major": 2,
    "version_minor": 0
   }
  }
 },
 "nbformat": 4,
 "nbformat_minor": 4
}
