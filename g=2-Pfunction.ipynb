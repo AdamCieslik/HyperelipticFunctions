{
 "cells": [
  {
   "cell_type": "markdown",
   "id": "5e2b586e-887d-486b-a6b1-43f1a8db41bb",
   "metadata": {},
   "source": [
    "<div style=\"font-family: 'Latin Modern Roman', Times, serif; font-size: 16px;\">\n",
    "<h1 style=\"font-size: 32px;\">Introduction</h1>\n",
    "<p>\n",
    "    The notebook presented here is based on the work of Julia Bernatska <a href=\"https://arxiv.org/abs/2407.05632\" target=\"_blank\">[1]</a> . Additionally, I used an article posted on WolframCommunity <a href=\"https://community.wolfram.com/groups/-/m/t/3243472\" target=\"_blank\">[2]</a> and the code attached to it: <em>AMap-CHyp-Exmpl1-Publ.nb</em>\n",
    "</p>\n",
    "<p>\n",
    "The code is also based on the <em>SageMath Riemann surfaces</em> documentation <a href=\"https://doc.sagemath.org/html/en/reference/curves/sage/schemes/riemann_surfaces/riemann_surface.html#sage.schemes.riemann_surfaces.riemann_surface.RiemannSurface\"\n",
    "target=\"_blank\">[3]</a>\n",
    "</p>\n",
    "<p>    \n",
    "<p>\n",
    "The general purpose of this Notebook is to present code that can compute the generalised Wierstrass $\\wp_{ij}$ function (sometimes called Klein's functions) for a hyperelliptic curve of genus 2.\n",
    "</p>\n",
    "</div>"
   ]
  },
  {
   "cell_type": "markdown",
   "id": "d4020a2f-8aaf-4356-806d-b9d692b732dd",
   "metadata": {},
   "source": [
    "<div style=\"font-family: 'Latin Modern Roman', Times, serif; font-size: 16px;\">\n",
    "<h1 style=\"font-size: 32px;\">1. Preliminaries</h1>\n",
    "<p>\n",
    "    Many works on hyperelliptic functions and Riemann surfaces use similar notation, leading to potential collisions. To avoid this, I provide a legend of notations.\n",
    "</p>\n",
    "<h3 style=\"font-size: 24px;\">1.1. Legend</h3>\n",
    "    <ul>\n",
    "        <li>$\\mathscr{C}$ - Curve</li>\n",
    "        <li>$X$ - Riemann surface</li>\n",
    "        <li>$e_i$ - branch points</li>\n",
    "        <li>$w$ - An Abelian differential on the Riemann surface $X$</li>\n",
    "        <li>$W$ - general Abelian integral</li>\n",
    "        <li>$A$, $B$ - A- and B-periods of the differential $w=dW$</li>        \n",
    "        <li>$du$ - First kind differential</li>\n",
    "        <li>$dr$ - Second kind differential</li>\n",
    "        <li>$dl$ - Third kind differential</li>\n",
    "        <li>$\\mathfrak{a}_i, \\mathfrak{b}_i$ - Canonical homology cycles</li>\n",
    "        <li>$\\omega$ -  First kind integrals</li>\n",
    "        <li>$\\eta$ - Second kind integrals</li>\n",
    "        <li>$\\lambda$ - Third kind integrals</li>\n",
    "        <li>$\\mathcal{A}$ - Abel map</li>\n",
    "        <li>$\\mathfrak{m}(\\mathbf{u})$ - A meromorphic function of $\\mathbf{u}\\in\\mathbb{C}^g$</li>\n",
    "        <li>$\\Omega$ - Periodic matrices</li>\n",
    "        <li>$\\Lambda$ - Lattice</li>\n",
    "        <li>$\\mathrm{Jac}(\\mathscr{C})$ - Jacobian variety of the curve $\\mathscr{C}$</li>\n",
    "        <li>$D$ - Divisor  on the Riemann surface $X$</li>\n",
    "</ul>\n",
    "<p>\n",
    "    Now we present the basic definitions\n",
    "</p>    \n",
    "</div>"
   ]
  },
  {
   "cell_type": "markdown",
   "id": "5d703988-5150-4da1-92d7-3454f97dcee5",
   "metadata": {},
   "source": [
    "<div>\n",
    "<h3 style=\"font-family: 'Latin Modern Roman', Times, serif; font-size: 24px;\"> 1.2. Hyperelliptic curve</h3>\n",
    "</div>"
   ]
  },
  {
   "cell_type": "markdown",
   "id": "c6cef5bd-6f1a-4fd7-b588-bd0b9883e9c4",
   "metadata": {},
   "source": [
    "<div style=\"background-color:  rgba(224, 224, 224, 0.25); \n",
    "    font-family: 'Latin Modern Roman', Times, serif; font-size: 16px; border: 1px solid  rgb(192, 192, 192); padding: 15px; border-radius: 5px; \">\n",
    "    <h4 style=\"font-size: 20px;color: rgb(160, 160, 160);\">Definition 1.</h4>\n",
    "    <p>    \n",
    "        The hyperelliptic curve is defined by the equation\n",
    "        $$\n",
    "            \\mathscr{C} = \\{ (x,y)\\in \\mathbb{C}^2 \\mid f(x,y)= \\},\n",
    "        $$\n",
    "        where\n",
    "        $$\n",
    "            $f(x,y) = -y^2 + x^{2g+1} + \\sum_{i=0}^{2g}\\lambda_{2i+2}x^{2g-i}, \\quad \\lambda_{k\\leq0}=0,\\; \\lambda_0 =1, \\; \\lambda_k \\in \\mathbb{R}.$\n",
    "        $$\n",
    "    </p>\n",
    "</div>\n"
   ]
  },
  {
   "cell_type": "markdown",
   "id": "1862d913-d721-4977-8031-b308663d86b8",
   "metadata": {},
   "source": [
    "<div style=\"background-color:  rgba(153, 204, 255, 0.25); \n",
    "    font-family: 'Latin Modern Roman', Times, serif; font-size: 16px; border: 1px solid  rgb(0, 128,255); padding: 15px; border-radius: 5px; \">\n",
    "    <h4 style=\"font-size: 20px;color: rgb(0, 128,255);\">Note 1.</h4>\n",
    "    <p>\n",
    "    <ul>\n",
    "        <li> We use convention from <em>Computation of $\\wp$-functions on plane algebraic curves</em>, Julia Bernatska (2024).\n",
    "        <li> We are working with physical equations where $\\lambda_k \\in \\mathbb{R}$ instead of $\\lambda_k \\in \\mathbb{C}$ which can be found in various texts. \n",
    "    </ul>            \n",
    "  </p>\n",
    "</div>"
   ]
  },
  {
   "cell_type": "markdown",
   "id": "23b4125d-3201-43de-bf1b-f76cd9361819",
   "metadata": {},
   "source": [
    "<div style=\"font-family: 'Latin Modern Roman', Times, serif; font-size: 16px;\">\n",
    "<p>\n",
    "    So for a curve of genus $g=2$ we get\n",
    "    $$\n",
    "        f(x,y) = -y^2 + \\lambda_0 x^5 + \\lambda_2 x^4 + \\lambda_4 x^3+ \\lambda_6 x^2+ \\lambda_8 x+ \\lambda_{10},\n",
    "    $$   \n",
    "    Let's load the appropriate SageMath library and define the curve $\\mathscr{C}$\n",
    "</p>    \n",
    "</div>"
   ]
  },
  {
   "cell_type": "code",
   "execution_count": 3,
   "id": "e9c0e6c5-202d-4fea-a25c-f60bb15c676f",
   "metadata": {},
   "outputs": [],
   "source": [
    "from sage.schemes.riemann_surfaces.riemann_surface import RiemannSurface"
   ]
  },
  {
   "cell_type": "code",
   "execution_count": 4,
   "id": "4f8afead-1bc6-4be7-ab99-3e4e5e9831c9",
   "metadata": {},
   "outputs": [],
   "source": [
    "# Defines the lambda coefficients\n",
    "lambda0 = 1.0\n",
    "lambda2 = 12.0\n",
    "lambda4 = 2.0\n",
    "lambda6  = 0.9\n",
    "lambda8  = 21.0\n",
    "lambda10  = 10.0"
   ]
  },
  {
   "cell_type": "markdown",
   "id": "d25e2ffb-7b7d-4779-a54a-4ddc3ec22acf",
   "metadata": {},
   "source": [
    "<div style=\"background-color:  rgba(255, 153, 153, 0.25); \n",
    "    font-family: 'Latin Modern Roman', Times, serif; font-size: 16px; border: 1px solid  rgb(255, 51,51); padding: 15px; border-radius: 5px; \">\n",
    "    <h4 style=\"font-size: 20px;color: rgb(255, 51,51);\">Important 1.</h4>\n",
    "    <p>\n",
    "        The coefficients above must be real-floating-point numbers        \n",
    "    </p>\n",
    "</div>"
   ]
  },
  {
   "cell_type": "markdown",
   "id": "3d00e6b9-7f31-4181-a037-68b9a1c4a844",
   "metadata": {},
   "source": [
    "<div style=\"font-family: 'Latin Modern Roman', Times, serif; font-size: 16px;\">\n",
    "<p>\n",
    "    Since the current Sage library only works well on the field of rational numbers, we have to approximate all function coefficients by these numbers.\n",
    "</p>\n",
    "</div>"
   ]
  },
  {
   "cell_type": "code",
   "execution_count": 5,
   "id": "3e7611f7-0ba6-49f2-b598-2318127f8479",
   "metadata": {},
   "outputs": [],
   "source": [
    "# Rational approximation\n",
    "l0 = lambda0.nearby_rational(max_error=1e-10)\n",
    "l2 = lambda2.nearby_rational(max_error=1e-10)\n",
    "l4 = lambda4.nearby_rational(max_error=1e-10)\n",
    "l6 = lambda6.nearby_rational(max_error=1e-10)\n",
    "l8 = lambda8.nearby_rational(max_error=1e-10)\n",
    "l10 = lambda10.nearby_rational(max_error=1e-10)"
   ]
  },
  {
   "cell_type": "markdown",
   "id": "b25e02a9-e6a2-4dbc-934f-9387413e73e8",
   "metadata": {},
   "source": [
    "<div style=\"font-family: 'Latin Modern Roman', Times, serif; font-size: 16px;\">\n",
    "<p>\n",
    "    Next, we need to define the variables $x$ and $y$ in the ring of polynomials over the rational numbers.\n",
    "</p>\n",
    "</div>"
   ]
  },
  {
   "cell_type": "code",
   "execution_count": 6,
   "id": "c83cfab5-082a-47f8-aabf-9f8935ef98df",
   "metadata": {},
   "outputs": [],
   "source": [
    "R.<x, y> = PolynomialRing(QQ, 2)"
   ]
  },
  {
   "cell_type": "markdown",
   "id": "fa759787-8130-4d5e-8f53-f8a1d01d43e5",
   "metadata": {},
   "source": [
    "<div style=\"background-color:  rgba(153, 204, 255, 0.25); \n",
    "    font-family: 'Latin Modern Roman', Times, serif; font-size: 16px; border: 1px solid  rgb(0, 128,255); padding: 15px; border-radius: 5px; \">\n",
    "    <h4 style=\"font-size: 20px;color: rgb(0, 128,255);\">Note 2.</h4>\n",
    "    <p>\n",
    "        The order of variables can be important depending on how you write your polynomial. Make sure you use the same order in your polynomial expression.        \n",
    "    </p>\n",
    "</div>"
   ]
  },
  {
   "cell_type": "code",
   "execution_count": 7,
   "id": "2c329640-040b-4e31-9d7d-20473d53e4a6",
   "metadata": {},
   "outputs": [],
   "source": [
    "# Defining the polynomial f\n",
    "f = -y^2 + l0*x^5 + l2*x^4 + l4*x^3 + l6*x^2 + l8*x + l10"
   ]
  },
  {
   "cell_type": "markdown",
   "id": "80cca492-93d3-4307-b8a3-5d08a9b15aad",
   "metadata": {},
   "source": [
    "<div>\n",
    "<h3 style=\"font-family: 'Latin Modern Roman', Times, serif; font-size: 24px;\">1.3. Riemann surface</h3>\n",
    "</div>"
   ]
  },
  {
   "cell_type": "markdown",
   "id": "ad92abf1-0e58-4b88-b15a-8d2a313fbbc9",
   "metadata": {},
   "source": [
    "<div style=\"background-color:  rgba(224, 224, 224, 0.25); \n",
    "    font-family: 'Latin Modern Roman', Times, serif; font-size: 16px; border: 1px solid  rgb(192, 192, 192); padding: 15px; border-radius: 5px; \">\n",
    "    <h4 style=\"font-size: 20px;color: rgb(160, 160, 160);\">Definition 2. </h4>\n",
    "    <p>    \n",
    "        A Riemann surface $X$ is a connected two-dimensional topological manifold with a complex-analytic structure on it. \n",
    "    </p>    \n",
    "</div>"
   ]
  },
  {
   "cell_type": "markdown",
   "id": "2a2583d3-bafb-4c47-a327-81666c75cdc9",
   "metadata": {},
   "source": [
    "<div style=\"font-family: 'Latin Modern Roman', Times, serif; font-size: 16px;\">\n",
    "<p>\n",
    "    The SageMath library has a special function that allows us to generate the appropriate Riemann surface on which we will continue our work.\n",
    "</p>\n",
    "</div>"
   ]
  },
  {
   "cell_type": "code",
   "execution_count": 8,
   "id": "13fc8b6e-d997-4230-a1ac-3665bc5799e7",
   "metadata": {},
   "outputs": [],
   "source": [
    "S = RiemannSurface(f, prec=100)"
   ]
  },
  {
   "cell_type": "markdown",
   "id": "e9a92cc1-de4c-4c05-a758-16ef0cd28bf8",
   "metadata": {},
   "source": [
    "<div>\n",
    "<h3 style=\"font-family: 'Latin Modern Roman', Times, serif; font-size: 24px;\">1.4. Branch points</h3>\n",
    "</div>"
   ]
  },
  {
   "cell_type": "markdown",
   "id": "82d5b078-35d9-431a-9ca3-79ccca6007da",
   "metadata": {},
   "source": [
    "<div style=\"font-family: 'Latin Modern Roman', Times, serif; font-size: 16px;\">\n",
    "<p>\n",
    "    We can easily define a function that based on the $\\lambda_{2i}$ coefficients will print all the branch points $e_i$ given by\n",
    "    $$\n",
    "        y^2 =(x-e_1)(x-e_2)(x-e_3)(x-e_4)(x-e_5).\n",
    "    $$    \n",
    "</p>\n",
    "</div>"
   ]
  },
  {
   "cell_type": "code",
   "execution_count": 9,
   "id": "49c22004-77c2-4c0e-a430-c013a6e4118d",
   "metadata": {},
   "outputs": [],
   "source": [
    "def find_branch_points(ll0, ll2, ll4, ll6, ll8, ll10):\n",
    "    # We define a ring of polynomials over the field of complex numbers\n",
    "    CC_poly.<x> = PolynomialRing(CC)\n",
    "    \n",
    "    # We create a polynomial\n",
    "    pol = ll0*x^5 + ll2*x^4 + ll4*x^3 + ll6*x^2 + ll8*x + ll10\n",
    "    \n",
    "    # We find roots\n",
    "    roots = pol.roots(multiplicities=False)\n",
    "    \n",
    "    # We add a point at infinity if the degree of the polynomial is odd\n",
    "    if pol.degree() % 2 == 1:\n",
    "        roots.append(infinity)\n",
    "    \n",
    "    return roots"
   ]
  },
  {
   "cell_type": "markdown",
   "id": "fbe2cc9a-96d5-4f9c-853b-4c6e018fd605",
   "metadata": {},
   "source": [
    "<div style=\"background-color:  rgba(153, 204, 255, 0.25); \n",
    "    font-family: 'Latin Modern Roman', Times, serif; font-size: 16px; border: 1px solid  rgb(0, 128,255); padding: 15px; border-radius: 5px; \">\n",
    "    <h4 style=\"font-size: 20px;color: rgb(0, 128,255);\">Note 3.</h4>\n",
    "    <p>\n",
    "        The <code style=\"color: rgb(81,206,9);font-size: 13px;\">multiplicities=False</code> parameter in the <code style=\"color: rgb(81,206,9);font-size: 13px;\">roots()</code>  method in Sage has the following meaning:\n",
    "        <ul>\n",
    "            <li>When <code style=\"color: rgb(81,206,9);font-size: 13px;\">multiplicities=False</code>  (default): The method returns only the roots of the polynomial, without information about their multiplicities. The result is a list of unique root values.</li>\n",
    "            <li>When <code style=\"color: rgb(81,206,9);font-size: 13px;\">multiplicities=True</code>: The method returns pairs (root, multiplicity) for each root. The result is a list of tuples, where each tuple contains the root and its multiplicity.</li>\n",
    "        </ul>            \n",
    "    </p>\n",
    "</div>\n",
    "\n"
   ]
  },
  {
   "cell_type": "code",
   "execution_count": 10,
   "id": "e10a1e44-2636-4f89-a21e-7ab6100e83dc",
   "metadata": {},
   "outputs": [
    {
     "name": "stdout",
     "output_type": "stream",
     "text": [
      "Branch points: [-11.8251161409669, -1.05264146874943, -0.512317960119317, 0.695037784917798 - 1.04164546422316*I, 0.695037784917798 + 1.04164546422316*I, +Infinity]\n"
     ]
    }
   ],
   "source": [
    "# Example of use:\n",
    "\n",
    "branch_points = find_branch_points(l0, l2, l4, l6, l8, l10)\n",
    "print(\"Branch points:\", branch_points)"
   ]
  },
  {
   "cell_type": "markdown",
   "id": "681a848d-2323-4d4e-9fe0-5687952734eb",
   "metadata": {},
   "source": [
    "<div style=\"font-family: 'Latin Modern Roman', Times, serif; font-size: 16px;\">\n",
    "<h1 style=\"font-size: 32px;\">2. First and Second Kind Periods</h1>\n",
    "<p>\n",
    "<p>\n",
    "    In order to construct periodic functions we first have to define a canonical basis of the space of holomorphic differentials $\\{du_i\\mid i=1,\\ldots,g\\} $ and of associated meromorphic differentials $\\{dr_i\\mid i=1,\\ldots,g\\} $ on the Riemann surface by\n",
    "    $$\n",
    "        du_{2i-1} := \\frac{x^{g-i} dx}{\\partial_y f(x)},\n",
    "    $$\n",
    "    $$\n",
    "        dr_{2i-1} := \\frac{\\mathcal{R}_{2i-1}(x) dx}{\\partial_y f(x)}, \n",
    "    $$\n",
    "    where\n",
    "    $$\n",
    "    \\mathcal{R}_{2i-1}(x)=\\sum_{k=1}^{2i-1}k\\lambda_{4i-2k-2}x^{g-i+k}.\n",
    "    $$\n",
    "    We can write this in vector form for $g=2$ as follows \n",
    "    $$\n",
    "        du= \\begin{pmatrix} \n",
    "                x\\\\\n",
    "                1\n",
    "            \\end{pmatrix} \\frac{dx}{-2\\sqrt{f(x)}},\n",
    "    $$\n",
    "    $$\n",
    "        dr= \\begin{pmatrix} \n",
    "                \\mathcal{R}_{1}(x)\\\\\n",
    "                \\mathcal{R}_{3}(x)\n",
    "            \\end{pmatrix} \\frac{dx}{-2\\sqrt{f(x)}} = \n",
    "                \\begin{pmatrix} \n",
    "                    x^2\\\\\n",
    "                    3\\lambda_0x^3 + 2\\lambda_2 x^2 + \\lambda_4 x\n",
    "                \\end{pmatrix} \\frac{dx}{-2\\sqrt{f(x)}},\n",
    "    $$\n",
    "</p>\n",
    "</div>"
   ]
  },
  {
   "cell_type": "markdown",
   "id": "656e07d5-8f46-4682-bb4a-a1fe607cf64c",
   "metadata": {},
   "source": [
    "<div style=\"font-family: 'Latin Modern Roman', Times, serif; font-size: 16px;\">\n",
    "<p>\n",
    "    The above holomorphic basis can be compared to what the <code style=\"color:  rgb(81,206,9);font-size: 13px;\">cohomology_basis()</code> function returns. In SageMath, <code style=\"color:  rgb(81,206,9);font-size: 13px;\">S.cohomology_basis()</code> returns this list of differentials, typically represented as polynomials  $g(x)$  corresponding to differentials:\n",
    "    $$\n",
    "        \\omega = \\frac{g(x) \\, dx}{\\partial f / \\partial y}\n",
    "    $$\n",
    "    where  $f(x, y) = 0$  defines the curve.\n",
    "</p>\n",
    "</div>    "
   ]
  },
  {
   "cell_type": "code",
   "execution_count": 11,
   "id": "31856c66-47e6-43f2-a1f5-a452e7a84871",
   "metadata": {},
   "outputs": [
    {
     "data": {
      "text/plain": [
       "[1, x]"
      ]
     },
     "execution_count": 11,
     "metadata": {},
     "output_type": "execute_result"
    }
   ],
   "source": [
    "S.cohomology_basis()"
   ]
  },
  {
   "cell_type": "markdown",
   "id": "9b024916-992f-4f29-a21d-6cab742acd97",
   "metadata": {},
   "source": [
    "<div style=\"font-family: 'Latin Modern Roman', Times, serif; font-size: 16px;\">\n",
    "<p>\n",
    "    It is visible that the order of elements is different from that adopted in <a href=\"https://arxiv.org/abs/2407.05632\" target=\"_blank\">[1]</a> convention. We will use Julia's one. \n",
    "</p>\n",
    "</div>"
   ]
  },
  {
   "cell_type": "markdown",
   "id": "8f2d36b3-18df-462d-9d85-0f2cce229c2b",
   "metadata": {},
   "source": [
    "<div style=\"font-family: 'Latin Modern Roman', Times, serif; font-size: 16px;\">\n",
    "<h2 style=\"font-size: 24px;\">2.1. First  Kind Periods</h2>\n",
    "</div>"
   ]
  },
  {
   "cell_type": "code",
   "execution_count": 12,
   "id": "4500d57a-9b33-4edf-bf60-98c3bf545f37",
   "metadata": {},
   "outputs": [],
   "source": [
    "# holomorphic differentials base\n",
    "holbais=[x,x^0]"
   ]
  },
  {
   "cell_type": "markdown",
   "id": "98370b29-53e2-4af2-b207-8eb6051849d7",
   "metadata": {},
   "source": [
    "<div style=\"font-family: 'Latin Modern Roman', Times, serif; font-size: 16px;\">\n",
    "<p>\n",
    "    Now, to calculate the first kind period matrices, we need to calculate the following integrals along the canonical homology cycles $\\{ \\mathfrak{a}_i, \\mathfrak{b}_i\\}_{i=1}^g$\n",
    "    $$\n",
    "        \\omega = (\\omega_{ij})= \\left( \\int_{\\mathfrak{a}_j}du_i \\right), \\quad \\omega' = (\\omega'_{ij})= \\left( \\int_{\\mathfrak{b}_j}du_i \\right). \n",
    "    $$\n",
    "</p>\n",
    "</div>"
   ]
  },
  {
   "cell_type": "markdown",
   "id": "e2785ca7-69a2-4934-bfd6-6d4024f28c16",
   "metadata": {},
   "source": [
    "<div style=\"font-family: 'Latin Modern Roman', Times, serif; font-size: 16px;\">\n",
    "<p>\n",
    "    We can use the Sage function  <code style=\"color:  rgb(81,206,9);font-size: 13px;\">matrix_of_integral_values(differentials, integration_method='heuristic')</code> to compute the path integrals of the given differentials along the homology basis. The returned answer has a row for each differential. If the Riemann surface is given by the equation $y^2$, then the differentials are encoded by polynomials $g$, signifying the differential \n",
    "    $$\n",
    "            g(x,y)\\frac{dx}{(df/dy)}.\n",
    "    $$\n",
    "    <code style=\"color:  rgb(229,201,18);font-size: 13px;\">Input:</code>\n",
    "    <ul>\n",
    "        <li><code style=\"color:  rgb(81,206,9);font-size: 13px;\">differentials</code> – a list of polynomials.</li>\n",
    "        <li><code style=\"color:  rgb(81,206,9);font-size: 13px;\">integration_method</code> – (default: 'heuristic'). String specifying the integration method to use. The options are 'heuristic' and 'rigorous'.</li>\n",
    "    </ul>\n",
    "    <code style=\"color:  rgb(229,201,18);font-size: 13px;\">Output:</code>\n",
    "    A matrix, one row per differential, containing the values of the path integrals along the homology basis of the Riemann surface.\n",
    "</p>\n",
    "</div>"
   ]
  },
  {
   "cell_type": "code",
   "execution_count": 13,
   "id": "a901b565-5962-4b8c-bf71-7094cf2c0b11",
   "metadata": {},
   "outputs": [
    {
     "name": "stdout",
     "output_type": "stream",
     "text": [
      "[     0.13760 - 0.66033*I  -4.9304e-32 - 0.91722*I  -3.9443e-31 + 0.40344*I       1.1746 + 0.25689*I]\n",
      "[    -0.62448 + 0.28220*I -5.5467e-32 + 0.038862*I  -4.9304e-32 - 0.52554*I      0.14607 + 0.24334*I]\n"
     ]
    }
   ],
   "source": [
    "MofInt1=S.matrix_of_integral_values(holbais)\n",
    "# Let's display the matrix in a shortened form so that it will be easy to see its structure\n",
    "print(MofInt1.n(digits=5))"
   ]
  },
  {
   "cell_type": "markdown",
   "id": "10fd61cb-d1c7-4204-b826-4dc905bef183",
   "metadata": {},
   "source": [
    "<div style=\"font-family: 'Latin Modern Roman', Times, serif; font-size: 16px;\">\n",
    "<p>\n",
    "    The structure of the returned matrix\n",
    "    $$\n",
    "    MofInt1 = \n",
    "        \\begin{pmatrix}\n",
    "            \\omega_{1,1} & \\omega_{1,2} & \\omega'_{1,1} & \\omega'_{1,2} \\\\\n",
    "            \\omega_{2,1} & \\omega_{2,2} & \\omega'_{2,1} & \\omega'_{2,2}\n",
    "        \\end{pmatrix}\n",
    "        =\n",
    "        \\begin{array}{|c|c|c|c|c|}\n",
    "            \\hline\n",
    "            & \\mathfrak{a}_1 & \\mathfrak{a}_2 & \\mathfrak{b}_1 & \\mathfrak{b}_2 \\\\\n",
    "            \\hline\n",
    "            x & \\omega_{1,1} = \\int_{\\mathfrak{a}_1} du_1 & \\omega_{1,2} = \\int_{\\mathfrak{a}_2} du_1 & \\omega'_{1,1} = \\int_{\\mathfrak{b}_1} du_1 & \\omega'_{1,2} = \\int_{\\mathfrak{b}_2} du_1 \\\\\n",
    "            \\hline\n",
    "            1 & \\omega_{2,1} = \\int_{\\mathfrak{a}_1} du_2 & \\omega_{2,2} = \\int_{\\mathfrak{a}_2} du_2 & \\omega'_{2,1} = \\int_{\\mathfrak{b}_1} du_2 & \\omega'_{2,2} = \\int_{\\mathfrak{b}_2} du_2 \\\\\n",
    "            \\hline\n",
    "        \\end{array}\n",
    "    $$\n",
    "</p>\n",
    "</div>"
   ]
  },
  {
   "cell_type": "markdown",
   "id": "e42b7091-17ab-486d-a277-7fc1f5899ea5",
   "metadata": {},
   "source": [
    "<div style=\"font-family: 'Latin Modern Roman', Times, serif; font-size: 16px;\">\n",
    "    <p>\n",
    "    We can compare this with the results of the built-in Sage function: <code style=\"color:  rgb(81,206,9);font-size: 13px;\">period_matrix()</code>, which, for the adopted notational convention, will return a period matrix in the form\n",
    "    $$\n",
    "        pM= \\begin{pmatrix}\n",
    "                \\omega_{2,1} & \\omega_{2,2} & \\omega'_{2,1} & \\omega'_{2,2} \\\\\n",
    "                \\omega_{1,1} & \\omega_{1,2} & \\omega'_{1,1} & \\omega'_{2,1}\n",
    "        \\end{pmatrix}  \n",
    "    $$   \n",
    "    </p>\n",
    "</div>"
   ]
  },
  {
   "cell_type": "code",
   "execution_count": 14,
   "id": "0b78f17c-1411-4011-a10b-8dc64807afbc",
   "metadata": {},
   "outputs": [
    {
     "name": "stdout",
     "output_type": "stream",
     "text": [
      "[   -0.62448 + 0.28220*I 4.3141e-32 + 0.038862*I -4.9304e-32 - 0.52554*I     0.14607 + 0.24334*I]\n",
      "[    0.13760 - 0.66033*I  2.2187e-31 - 0.91722*I -5.9165e-31 + 0.40344*I      1.1746 + 0.25689*I]\n"
     ]
    }
   ],
   "source": [
    "pM=S.period_matrix()\n",
    "print(pM.n(digits=5))"
   ]
  },
  {
   "cell_type": "markdown",
   "id": "01162df8-5303-4f02-a760-2d228bdb6477",
   "metadata": {},
   "source": [
    "<div style=\"font-family: 'Latin Modern Roman', Times, serif; font-size: 16px;\">\n",
    "<p>\n",
    "    Before going any further, lat's define a function that will display the matrices in a rounded form so that we can compare them more easily.\n",
    "</p>\n",
    "</div>    "
   ]
  },
  {
   "cell_type": "code",
   "execution_count": 15,
   "id": "160391ff-a051-4a14-875d-1bc47add5f4c",
   "metadata": {},
   "outputs": [],
   "source": [
    "def format_complex(z, digits=5, threshold=1e-10):\n",
    "    real = float(z.real())\n",
    "    imag = float(z.imag())\n",
    "    \n",
    "    # We round very small values to zero\n",
    "    if abs(real) < threshold:\n",
    "        real = 0\n",
    "        if abs(imag) < threshold:\n",
    "            return \"0\"\n",
    "        # We format the result  \n",
    "        return f\"{imag:.{digits}f}*I\"\n",
    "    \n",
    "    if abs(imag) < threshold:\n",
    "        # We format the result\n",
    "        return f\"{real:.{digits}f}\"\n",
    "\n",
    "    sign = \"+\" if imag > 0 else \"-\"\n",
    "    return f\"{real:.{digits}f} {sign} {abs(imag):.{digits}f}*I\"\n",
    "\n",
    "\n",
    "def ApproxM(matrix, digits=5, threshold=1e-10):\n",
    "    rows, cols = matrix.nrows(), matrix.ncols()\n",
    "    \n",
    "    for i in range(rows):\n",
    "        formatted_row = [format_complex(matrix[i,j], digits, threshold) for j in range(cols)]\n",
    "        print(\"\\t\".join(formatted_row))"
   ]
  },
  {
   "cell_type": "code",
   "execution_count": 16,
   "id": "0705df18-a82e-428e-9694-be6180da66ae",
   "metadata": {},
   "outputs": [
    {
     "name": "stdout",
     "output_type": "stream",
     "text": [
      "-0.62448 + 0.28220*I\t0.03886*I\t-0.52554*I\t0.14607 + 0.24334*I\n",
      "0.13760 - 0.66033*I\t-0.91722*I\t0.40344*I\t1.17459 + 0.25689*I\n"
     ]
    }
   ],
   "source": [
    "ApproxM(pM)"
   ]
  },
  {
   "cell_type": "code",
   "execution_count": 17,
   "id": "d71b4375-dc25-4442-ad9e-735bd58ebe05",
   "metadata": {},
   "outputs": [
    {
     "name": "stdout",
     "output_type": "stream",
     "text": [
      "0.13760 - 0.66033*I\t-0.91722*I\t0.40344*I\t1.17459 + 0.25689*I\n",
      "-0.62448 + 0.28220*I\t0.03886*I\t-0.52554*I\t0.14607 + 0.24334*I\n"
     ]
    }
   ],
   "source": [
    "ApproxM(MofInt1)"
   ]
  },
  {
   "cell_type": "markdown",
   "id": "f734c321-7ffa-4e9d-ac53-05c3b94c9051",
   "metadata": {},
   "source": [
    "<div style=\"font-family: 'Latin Modern Roman', Times, serif; font-size: 16px;\">\n",
    "    <p>\n",
    "    In what follows we use the function <code style=\"color:  rgb(81,206,9);font-size: 13px;\">matrix_of_integral_values()</code> instead of <code style=\"color:  rgb(81,206,9);font-size: 13px;\">period_matrix()</code> because it allows us to calculate periodic matrices of the second kind.\n",
    "    </p>\n",
    "</div>"
   ]
  },
  {
   "cell_type": "code",
   "execution_count": 18,
   "id": "ea4d7634-389d-4c4b-baed-aa6dce9b63bb",
   "metadata": {},
   "outputs": [
    {
     "name": "stdout",
     "output_type": "stream",
     "text": [
      "0.13760 - 0.66033*I\t-0.91722*I\n",
      "-0.62448 + 0.28220*I\t0.03886*I\n",
      "\n",
      "0.40344*I\t1.17459 + 0.25689*I\n",
      "-0.52554*I\t0.14607 + 0.24334*I\n"
     ]
    }
   ],
   "source": [
    "# Extract the omega-periods (first two columns)\n",
    "omega = MofInt1[:, 0:2]\n",
    "\n",
    "# Extract the omega'-periods (last two columns)\n",
    "omegaP = MofInt1[:, 2:4]\n",
    "\n",
    "ApproxM(omega)\n",
    "print()\n",
    "ApproxM(omegaP)"
   ]
  },
  {
   "cell_type": "markdown",
   "id": "d488f256-dae5-4974-acb1-c8decd61098b",
   "metadata": {},
   "source": [
    "<div style=\"font-family: 'Latin Modern Roman', Times, serif; font-size: 16px;\">\n",
    "    <p>\n",
    "    Now we calculate the matrix\n",
    "    $$\n",
    "        \\tau=\\omega^{-1}\\omega'\n",
    "    $$\n",
    "    which belongs to the Siegel upper half-space. Hence it should satisfy two conditions:\n",
    "    <ul>\n",
    "        <li>Symmetry: $$ \\tau^T = \\tau$$ \n",
    "        <li>Positive definiteness of the imaginary part $$ Im(\\tau)>0$$\n",
    "    </ul>\n",
    "    </p>\n",
    "</div>"
   ]
  },
  {
   "cell_type": "code",
   "execution_count": 19,
   "id": "8b2347a8-e79d-4d50-8966-b969f7c08f38",
   "metadata": {},
   "outputs": [
    {
     "name": "stdout",
     "output_type": "stream",
     "text": [
      "[-0.28894 + 0.70313*I -0.12636 - 0.46286*I]\n",
      "[-0.12636 - 0.46286*I  -0.25854 + 1.6328*I]\n"
     ]
    }
   ],
   "source": [
    "tau= omega.inverse() * omegaP\n",
    "\n",
    "# Displaying the result\n",
    "print(tau.n(digits=5))"
   ]
  },
  {
   "cell_type": "code",
   "execution_count": 20,
   "id": "f16f3543-f668-4559-8017-b052908726be",
   "metadata": {},
   "outputs": [
    {
     "name": "stdout",
     "output_type": "stream",
     "text": [
      "[0.00000 0.00000]\n",
      "[0.00000 0.00000]\n"
     ]
    }
   ],
   "source": [
    "# Test of the symmetry\n",
    "print(tau-tau.transpose().n(digits=5))"
   ]
  },
  {
   "cell_type": "code",
   "execution_count": 21,
   "id": "7648064c-2c64-400e-8cb8-5a9e17d456a3",
   "metadata": {},
   "outputs": [
    {
     "data": {
      "text/plain": [
       "([1.8239307353738361091933820951, 0.51198440541283078719843599741], True)"
      ]
     },
     "execution_count": 21,
     "metadata": {},
     "output_type": "execute_result"
    }
   ],
   "source": [
    "# Test of positivity\n",
    "# Calculating the complex part of the tau matrix\n",
    "tauImag = tau.apply_map(lambda x: x.imag())\n",
    "\n",
    "# Calculate the eigenvalues\n",
    "eigenvalues = tauImag.eigenvalues()\n",
    "\n",
    "# Checking if all eigenvalues are positive\n",
    "all_positive = all(e > 0 for e in eigenvalues)\n",
    "\n",
    "# Displaying the result\n",
    "eigenvalues, all_positive"
   ]
  },
  {
   "cell_type": "markdown",
   "id": "377ca866-63d4-45b1-a8b1-ea33efaacdb5",
   "metadata": {},
   "source": [
    "<div style=\"font-family: 'Latin Modern Roman', Times, serif; font-size: 16px;\">\n",
    "<h2 style=\"font-size: 24px;\">2.2. Second Kind Periods</h2>\n",
    "</div>"
   ]
  },
  {
   "cell_type": "markdown",
   "id": "9e5a1ba1-d836-4292-8358-e6a5d49afc39",
   "metadata": {},
   "source": [
    "<div style=\"font-family: 'Latin Modern Roman', Times, serif; font-size: 16px;\">\n",
    "<p>\n",
    "To calculate the second kind period matrices, we need to calculate the following integrals along the canonical homology cycles $\\{ \\mathfrak{a}_i, \\mathfrak{b}_i\\}_{i=1}^g$\n",
    "    <div style=\"text-align: center;\">\n",
    "        $\\eta = (\\eta_{ij})= \\left( \\int_{\\mathfrak{a}_j}du_i \\right), \\quad \\eta' = (\\eta'_{ij})= \\left( \\int_{\\mathfrak{b}_j}du_i \\right). $\n",
    "    </div>\n",
    "</p>\n",
    "</div>"
   ]
  },
  {
   "cell_type": "code",
   "execution_count": 22,
   "id": "aaf2b4ff-55dc-4774-863a-af40f6a84d7d",
   "metadata": {},
   "outputs": [],
   "source": [
    "# meromorphic differentials base\n",
    "merbais=[x^2, 3*l0*x^3 + 2*l2*x^2 + l4*x]"
   ]
  },
  {
   "cell_type": "code",
   "execution_count": 23,
   "id": "75b062bf-1ab3-42d0-a9dd-de5e2e5a1724",
   "metadata": {},
   "outputs": [
    {
     "name": "stdout",
     "output_type": "stream",
     "text": [
      "0.15574 + 0.20627*I\t0.08372*I\t-0.32882*I\t-7.07532 + 0.12255*I\n",
      "4.74867 + 3.09497*I\t-0.04832*I\t-6.23827*I\t-2.96268 + 3.14329*I\n"
     ]
    }
   ],
   "source": [
    "MofInt2=S.matrix_of_integral_values(merbais)\n",
    "# Let's display the matrix in a shortened form so that it will be easy to see its structure\n",
    "ApproxM(MofInt2)"
   ]
  },
  {
   "cell_type": "code",
   "execution_count": 24,
   "id": "e3e67681-300a-4c14-a4b1-989d5197ce2a",
   "metadata": {},
   "outputs": [
    {
     "name": "stdout",
     "output_type": "stream",
     "text": [
      "0.15574 + 0.20627*I\t0.08372*I\n",
      "4.74867 + 3.09497*I\t-0.04832*I\n",
      "\n",
      "-0.32882*I\t-7.07532 + 0.12255*I\n",
      "-6.23827*I\t-2.96268 + 3.14329*I\n"
     ]
    }
   ],
   "source": [
    "# Extract the omega-periods (first two columns)\n",
    "eta = MofInt2[:, 0:2]\n",
    "\n",
    "# Extract the omega'-periods (last two columns)\n",
    "etaP = MofInt2[:, 2:4]\n",
    "\n",
    "ApproxM(eta)\n",
    "print()\n",
    "ApproxM(etaP)"
   ]
  },
  {
   "cell_type": "markdown",
   "id": "7d5de65b-14c2-4a2e-affa-f50bc1d58218",
   "metadata": {},
   "source": [
    "<div style=\"font-family: 'Latin Modern Roman', Times, serif; font-size: 16px;\">\n",
    "    <p>\n",
    "    We can compute $\\kappa$, given by\n",
    "    $$\n",
    "        \\kappa=\\eta\\; \\omega^{-1}\n",
    "    $$\n",
    "    </p>\n",
    "</div>"
   ]
  },
  {
   "cell_type": "code",
   "execution_count": 25,
   "id": "89b36023-3ec0-4f22-8652-0b59edd9daa7",
   "metadata": {},
   "outputs": [
    {
     "name": "stdout",
     "output_type": "stream",
     "text": [
      "-0.09763 - 0.01261*I\t-0.14978 - 0.29754*I\n",
      "-0.14978 - 0.29754*I\t-4.77835 - 7.02263*I\n"
     ]
    }
   ],
   "source": [
    "omega_inv=Matrix(omega).inverse()\n",
    "kappa = eta*omega_inv\n",
    "ApproxM(kappa)"
   ]
  },
  {
   "cell_type": "markdown",
   "id": "c454c331-111d-4fb6-ab62-7f4f7b132b4b",
   "metadata": {},
   "source": [
    "<div style=\"font-family: 'Latin Modern Roman', Times, serif; font-size: 16px;\">\n",
    "<h1 style=\"font-size: 24px;\">3. Legendre relation</h1>\n",
    "</div>"
   ]
  },
  {
   "cell_type": "markdown",
   "id": "6ae497b9-b2d6-46e8-9c83-fbd176529b91",
   "metadata": {},
   "source": [
    "<div style=\"font-family: 'Latin Modern Roman', Times, serif; font-size: 16px;\">\n",
    "<p>\n",
    "    Now we can make another test. The not normalized period matrices of the first $\\omega$, $\\omega'$ and second $\\eta$, $\\eta'$ kinds should satisfy the Legendre relation\n",
    "    $$\n",
    "        \\Omega^T J \\Omega = 2\\pi i J\n",
    "    $$\n",
    "    where\n",
    "    $$\n",
    "        \\Omega=\n",
    "            \\begin{pmatrix}\n",
    "                \\omega && \\omega'\\\\\n",
    "                \\eta && \\eta'\\\\\n",
    "            \\end{pmatrix}, \\quad \n",
    "        J=        \n",
    "            \\begin{pmatrix}\n",
    "                0 && -1_g'\\\\\n",
    "                1_g && 0\\\\\n",
    "            \\end{pmatrix}\n",
    "    $$\n",
    "</p>\n",
    "</div>"
   ]
  },
  {
   "cell_type": "code",
   "execution_count": 26,
   "id": "c4ac05e0-31a4-4c2d-a377-3ede5929ec3d",
   "metadata": {},
   "outputs": [
    {
     "name": "stdout",
     "output_type": "stream",
     "text": [
      "Omega Matrix:\n",
      "[     0.13760 - 0.66033*I  -4.9304e-32 - 0.91722*I| -3.9443e-31 + 0.40344*I       1.1746 + 0.25689*I]\n",
      "[    -0.62448 + 0.28220*I -5.5467e-32 + 0.038862*I| -4.9304e-32 - 0.52554*I      0.14607 + 0.24334*I]\n",
      "[-------------------------------------------------+-------------------------------------------------]\n",
      "[     0.15574 + 0.20627*I  7.8886e-31 + 0.083724*I| -8.3816e-31 - 0.32882*I      -7.0753 + 0.12255*I]\n",
      "[       4.7487 + 3.0950*I  1.1360e-28 - 0.048319*I|   2.2088e-29 - 6.2383*I       -2.9627 + 3.1433*I]\n",
      "\n",
      "J Matrix:\n",
      "[0.00000 0.00000|-1.0000 0.00000]\n",
      "[0.00000 0.00000|0.00000 -1.0000]\n",
      "[---------------+---------------]\n",
      "[ 1.0000 0.00000|0.00000 0.00000]\n",
      "[0.00000  1.0000|0.00000 0.00000]\n"
     ]
    }
   ],
   "source": [
    "# Omega matrix\n",
    "Omega = block_matrix([\n",
    "    [omega, omegaP],\n",
    "    [eta, etaP]\n",
    "])\n",
    "\n",
    "# Converting lists to matrices\n",
    "zeroM = Matrix([[0.0, 0.0], [0.0, 0.0]])\n",
    "mOneg = Matrix([[-1.0, 0.0], [0.0, -1.0]])\n",
    "Oneg = Matrix([[1.0, 0.0], [0.0, 1.0]])\n",
    "\n",
    "# J matrix\n",
    "J = block_matrix([\n",
    "    [zeroM, mOneg],\n",
    "    [Oneg, zeroM]\n",
    "])    \n",
    "\n",
    "\n",
    "print(\"Omega Matrix:\")\n",
    "print(Omega.n(digits=5))\n",
    "print()\n",
    "print(\"J Matrix:\")\n",
    "print(J.n(digits=5))"
   ]
  },
  {
   "cell_type": "code",
   "execution_count": 27,
   "id": "be130686-4513-4df3-9db1-596a99cdc773",
   "metadata": {},
   "outputs": [
    {
     "name": "stdout",
     "output_type": "stream",
     "text": [
      "0\t0\t0\t0\n",
      "0\t0\t0\t0\n",
      "0\t0\t0\t0\n",
      "0\t0\t0\t0\n"
     ]
    }
   ],
   "source": [
    "import numpy as np\n",
    "\n",
    "pi = np.pi\n",
    "left=Omega.transpose()*J*Omega\n",
    "right = 2*pi*I*J\n",
    "result = left - right\n",
    "ApproxM(result)"
   ]
  },
  {
   "cell_type": "markdown",
   "id": "992d3f1e-b31b-4854-b72a-1899aa611a3d",
   "metadata": {},
   "source": [
    "<div style=\"font-family: 'Latin Modern Roman', Times, serif; font-size: 16px;\">\n",
    "<h1 style=\"font-size: 24px;\">4. Characteristics of branch points</h1>\n",
    "</div>"
   ]
  },
  {
   "cell_type": "code",
   "execution_count": 28,
   "id": "8fdb1992-e53d-41e3-be6a-5493d8b45322",
   "metadata": {},
   "outputs": [
    {
     "name": "stdout",
     "output_type": "stream",
     "text": [
      "[1 0]\n",
      "[0 0]\n",
      "\n",
      "[1 0]\n",
      "[1 0]\n",
      "\n",
      "[0 1]\n",
      "[1 0]\n",
      "\n",
      "[0 1]\n",
      "[1 1]\n",
      "\n",
      "[0 0]\n",
      "[1 1]\n",
      "\n",
      "[0 0]\n",
      "[0 0]\n",
      "\n"
     ]
    }
   ],
   "source": [
    "# We define the genus variable\n",
    "genus = S.genus  \n",
    "\n",
    "\n",
    "eChars = [[[0 for k in range(genus)], [1 for k in range(genus)]], \n",
    "          [[0 for k in range(genus)] for i in range(2)]]\n",
    "\n",
    "# Do-like loop in Julia's Mathematica notebook\n",
    "for l in range(genus):\n",
    "    # let's note the indexing, which must be adjusted by\n",
    "    eChars.insert(0, \n",
    "        [[(eChars[0][0][k] + kronecker_delta(k+1, genus - l) + \n",
    "           kronecker_delta(k+1, genus - l + 1)) % 2 for k in range(genus)],\n",
    "         [(eChars[0][1][k] + 0) % 2 for k in range(genus)]]\n",
    "    )\n",
    "\n",
    "    eChars.insert(0,\n",
    "        [[(eChars[0][0][k] + 0) % 2 for k in range(genus)],\n",
    "         [(eChars[0][1][k] + kronecker_delta(k+1, genus - l)) % 2 for k in range(genus)]]\n",
    "    )\n",
    "\n",
    "# We display matrices\n",
    "seen_matrices = []\n",
    "for i in range(len(eChars)):\n",
    "    current_matrix = matrix(eChars[i])\n",
    "    if current_matrix not in seen_matrices:\n",
    "        seen_matrices.append(current_matrix)\n",
    "        print(current_matrix)\n",
    "        print()"
   ]
  },
  {
   "cell_type": "markdown",
   "id": "9ce2e00c-d386-432e-b4de-56c3e7600a8e",
   "metadata": {},
   "source": [
    "<div style=\"background-color:  rgba(153, 204, 255, 0.25); \n",
    "    font-family: 'Latin Modern Roman', Times, serif; font-size: 16px; border: 1px solid  rgb(0, 128,255); padding: 15px; border-radius: 5px; \">\n",
    "    <h4 style=\"font-size: 20px;color: rgb(0, 128,255);\">Note 5.</h4>\n",
    "    <p>\n",
    "        This result can be compared with the result at work (p. 14, example 5.1)\n",
    "        <a href=\"https://www.itp.uni-bremen.de/prichter/download/ThetaConst.pdf\" target=\"_blank\">Enolski V.Z., Richter P.H. <i>Periods of hyperelliptic integrals expressed in terms of $\\theta$-constants\n",
    "by means of Thomae formulae</i>. Phil. Trans. London Math. Soc. A (2008), 366, pp.1005–1024</a>          \n",
    "    </p>\n",
    "</div>"
   ]
  },
  {
   "cell_type": "code",
   "execution_count": 29,
   "id": "d2840f4a-b5e7-4fd9-91df-caf8cbcebc02",
   "metadata": {},
   "outputs": [
    {
     "name": "stdout",
     "output_type": "stream",
     "text": [
      "[1 1]\n",
      "[0 1]\n"
     ]
    }
   ],
   "source": [
    "# We sum the eChars elements with indices 2*i +1 (because python counts from 0) and take Mod 2\n",
    "KCh = sum(matrix(eChars[2 * i+1]) for i in range(genus)) % 2\n",
    "\n",
    "print(KCh)"
   ]
  },
  {
   "cell_type": "markdown",
   "id": "59eaf880-05a5-4f89-b6e5-cf416c06e7d4",
   "metadata": {},
   "source": [
    "<div style=\"font-family: 'Latin Modern Roman', Times, serif; font-size: 16px;\">\n",
    "<h1 style=\"font-size: 24px;\">5. Theta function</h1>\n",
    "<p>\n",
    "\n",
    "</p>\n",
    "</div>"
   ]
  },
  {
   "cell_type": "markdown",
   "id": "3ed0759f-f91c-40ad-8590-7a891237a8b7",
   "metadata": {},
   "source": [
    "<div style=\"background-color:  rgba(224, 224, 224, 0.25); \n",
    "    font-family: 'Latin Modern Roman', Times, serif; font-size: 16px; border: 1px solid  rgb(192, 192, 192); padding: 15px; border-radius: 5px; \">\n",
    "    <h4 style=\"font-size: 20px;color: rgb(160, 160, 160);\">Definition 3.</h4>\n",
    "    <p>        \n",
    "        A Riemann <i>theta function</i> $\\theta(v;\\tau)$ defined in terms of normalized coordinates $v$ and normalized period matrix $\\tau$, canonicaly is given by\n",
    "        $$\n",
    "            \\theta(\\mathbf{v};\\tau) = \\sum_{n\\in\\mathbb{Z}^g} e^{i\\pi \\mathbf{n}^T \\tau \\mathbf{n} + 2i \\pi \\mathbf{n}^T \\mathbf{v}}.\n",
    "        $$\n",
    "        A theta function with characteristic $[\\varepsilon ]$ is defined by\n",
    "        $$\n",
    "            \\theta[\\varepsilon](\\mathbf{v};\\tau) = \n",
    "            \\theta \n",
    "                \\begin{bmatrix}\n",
    "                    \\varepsilon'_1 & \\ldots & \\varepsilon'_g\\\\\n",
    "                    \\varepsilon_1 & \\ldots & \\varepsilon_g\\\\\n",
    "                \\end{bmatrix}\n",
    "            (\\mathbf{v};\\tau)=\n",
    "            \\sum_{n\\in\\mathbb{Z}^g} e^{i\\pi\\{ (\\mathbf{n}+ \\frac{1}{2}\\mathbf{\\varepsilon}'^T ) \\tau (\\mathbf{n}+ \\frac{1}{2}\\mathbf{\\varepsilon}') +2 (\\mathbf{v}+\\frac{1}{2}\\mathbf{\\varepsilon})^T (\\mathbf{n}+\\frac{1}{2}\\mathbf{\\varepsilon}') \\} }.\n",
    "        $$\n",
    "        where a characteristic all are half integer\n",
    "        $$\n",
    "            \\varepsilon_i, \\varepsilon_k' = 1 \\;\\text{or} \\; 0\n",
    "        $$\n",
    "    </p>    \n",
    "    </div>\n",
    "\n",
    "</div>"
   ]
  },
  {
   "cell_type": "markdown",
   "id": "a284b436-7f03-4721-a2b7-dd0e2598721d",
   "metadata": {},
   "source": [
    "<div style=\"background-color:  rgba(255, 153, 153, 0.25); \n",
    "    font-family: 'Latin Modern Roman', Times, serif; font-size: 16px; border: 1px solid  rgb(255, 51,51); padding: 15px; border-radius: 5px; \">\n",
    "    <h4 style=\"font-size: 20px;color: rgb(255, 51,51);\">Important 2.</h4>\n",
    "    <p>\n",
    "        In the literature, it is common to use a convention with slightly different characteristics:\n",
    "        $$\n",
    "            (\\varepsilon_i, \\varepsilon'_j) \\to 2 (\\varepsilon_i, \\varepsilon'_j)\n",
    "        $$\n",
    "        hence  \n",
    "        $$\n",
    "            \\varepsilon_i, \\varepsilon'_j = \\frac{1}{2} \\;\\text{or} \\; 0.\n",
    "        $$\n",
    "        In consequence\n",
    "        $$\n",
    "            \\theta[\\varepsilon](\\mathbf{v};\\tau) = \n",
    "            \\theta \n",
    "                \\begin{bmatrix}\n",
    "                    \\varepsilon'_1 & \\ldots & \\varepsilon'_g\\\\\n",
    "                    \\varepsilon_1 & \\ldots & \\varepsilon_g\\\\\n",
    "                \\end{bmatrix}\n",
    "            (\\mathbf{v};\\tau)=\n",
    "            \\sum_{n\\in\\mathbb{Z}^g} e^{i\\pi\\{ (\\mathbf{n}+ \\mathbf{\\varepsilon}'^T ) \\tau (\\mathbf{n}+ \\mathbf{\\varepsilon}') +2 (\\mathbf{v}+\\mathbf{\\varepsilon})^T (\\mathbf{n}+\\mathbf{\\varepsilon}') \\} }.\n",
    "        $$\n",
    "    </p>    \n",
    "    </div>\n",
    "\n",
    "</div>"
   ]
  },
  {
   "cell_type": "markdown",
   "id": "01d1f609-3d6d-4271-879d-962a23ddc3d3",
   "metadata": {},
   "source": [
    "<div style=\"font-family: 'Latin Modern Roman', Times, serif; font-size: 16px;\">\n",
    "<p>\n",
    "    Let's code the $\\theta$ function with the characteristic\n",
    "</p>\n",
    "</div>   \n"
   ]
  },
  {
   "cell_type": "code",
   "execution_count": 36,
   "id": "a9538179-dd85-4c31-a455-3a4b3df4d9ca",
   "metadata": {},
   "outputs": [],
   "source": [
    "def Theta( v, ttau, NAcc):\n",
    "    # NAcc is responsible for the number of elements in the sum, i.e. the precision of the result. \n",
    "    # Experimentally, a good approximation is obtained for NAcc>4, but of course this can be increased as needed.\n",
    "    total_sum = 0\n",
    "    # epsilon_m is the list [epsilon 1, epsilon 2] where epsilon1 and epsilon2 are vectors\n",
    "    \n",
    "    # We iterate over two indices from -NAcc to NAcc\n",
    "    for n1 in range(-NAcc, NAcc):\n",
    "        for n2 in range(-NAcc, NAcc):\n",
    "            # We create vector n\n",
    "            n = vector([n1, n2])\n",
    "                    \n",
    "            # The first component of the sum\n",
    "            term1 = I * pi * n * (ttau * n)\n",
    "                    \n",
    "            # The second component of the sum\n",
    "            term2 = 2 * I * pi * n * v\n",
    "                    \n",
    "            # We add the exp from these components to the total\n",
    "            total_sum += exp(term1 + term2)\n",
    "    \n",
    "    return total_sum"
   ]
  },
  {
   "cell_type": "code",
   "execution_count": 30,
   "id": "a1ed0acd-6bc8-473a-bb8e-de186db611c7",
   "metadata": {},
   "outputs": [],
   "source": [
    "def ThetaCh(epsilon_m, v, ttau, NAcc):\n",
    "    # NAcc is responsible for the number of elements in the sum, i.e. the precision of the result. \n",
    "    # Experimentally, a good approximation is obtained for NAcc>4, but of course this can be increased as needed.\n",
    "    total_sum = 0\n",
    "    # epsilon_m is the list [epsilon 1, epsilon 2] where epsilon1 and epsilon2 are vectors\n",
    "    epsilon1 = epsilon_m[0]\n",
    "    epsilon2 = epsilon_m[1]\n",
    "    \n",
    "    # We iterate over two indices from -NAcc to NAcc\n",
    "    for n1 in range(-NAcc, NAcc):\n",
    "        for n2 in range(-NAcc, NAcc):\n",
    "            # We create vector n\n",
    "            n = vector([n1, n2])\n",
    "                    \n",
    "            # The first component of the sum\n",
    "            term1 = I * pi * (n + 1/2 * vector(epsilon1)) * (ttau * (n + 1/2 * vector(epsilon1)))\n",
    "                    \n",
    "            # The second component of the sum\n",
    "            term2 = 2 * I * pi * (n + 1/2 * vector(epsilon1)) * (v + 1/2 * vector(epsilon2))\n",
    "                    \n",
    "            # We add the exp from these components to the total\n",
    "            total_sum += exp(term1 + term2)\n",
    "    \n",
    "    return total_sum"
   ]
  },
  {
   "cell_type": "markdown",
   "id": "17ae763f-2907-4114-ae45-9cca597a4a75",
   "metadata": {},
   "source": [
    "<div style=\"background-color:  rgba(153, 204, 255, 0.25); \n",
    "    font-family: 'Latin Modern Roman', Times, serif; font-size: 16px; border: 1px solid  rgb(0, 128,255); padding: 15px; border-radius: 5px; \">\n",
    "    <h4 style=\"font-size: 20px;color: rgb(0, 128,255);\">Note 6.</h4>\n",
    "    <p>\n",
    "        In Wolfram Mathematica exists a corresponding function under the name <code style=\"color:  rgb(81,206,9);font-size: 13px;\">SiegelTheta[$\\nu_1$,$\\nu_2$]($\\Omega,s$)</code>. The relation between our variables and those in Mathematica are as follows\n",
    "        <ul>\n",
    "            <li> $\\Omega=\\tau$ </li>\n",
    "            <li> $s=v$ </li>\n",
    "            <li> $\\nu_1 = \\frac{1}{2} epsilon1$ </li>\n",
    "            <li> $\\nu_2 = \\frac{1}{2} epsilon2$   </li> \n",
    "        </ul>  \n",
    "        To test this, you can check the following code in Mathematica\n",
    "    </p>\n",
    "        <pre style=\" color: #f8f8f2; padding: 1px; border-radius: 5px; font-size: 13px;\">\n",
    "        <code style=\"color: rgb(81,206,9);\">\n",
    "            ```Mathematica         \n",
    "            SiegelTheta[{{2, 4}, {4, 2}}, IdentityMatrix[2] I, {1, 2}] // N\n",
    "        </code>\n",
    "        </pre>\n",
    "    <p>\n",
    "        and compare it with below one\n",
    "    </p>    \n",
    "        <pre style=\" color: #f8f8f2; padding: 10px; border-radius: 5px; font-size: 13px;\">\n",
    "        <code style=\"color: rgb(81,206,9)\">\n",
    "            ```SageMath           \n",
    "            # Defining sample data\n",
    "            epsilon_m = [vector([4, 8]), vector([8, 4])]\n",
    "            v = vector([1, 2])\n",
    "            tau = Matrix([[I, 0], [0, I]])\n",
    "            NAcc = 5\n",
    "            # Function call\n",
    "            result = ThetaCh(epsilon_m, v, tau, NAcc)\n",
    "            print(result)\n",
    "        </code>\n",
    "        </pre>\n",
    "    <p>\n",
    "        Additionally, one can define the $\\theta$ function in Mathematica in a similar way with the following code:\n",
    "    </p>\n",
    "        <pre style=\" color: #f8f8f2; padding: 10px; border-radius: 5px; font-size: 13px;\">\n",
    "        <code style=\"color: rgb(81,206,9);\">\n",
    "        ```Mathematica\n",
    "        ThetaCh[\\[Epsilon]m_, v_, \\[Tau]_, NAcc_] :=\n",
    "         Sum[\n",
    "          Exp[\n",
    "           I Pi ({Subscript[n, 1], Subscript[n, 2]} + \n",
    "            1/2 \\[Epsilon]m[[1]]) . (\\[Tau] . ({Subscript[n, 1], Subscript[n, 2]} + 1/2 \\[Epsilon]m[[1]])) + 2 I Pi ({Subscript[n, 1], Subscript[n, 2]} + 1/2 \\[Epsilon]m[[1]]) . (v + 1/2 \\[Epsilon]m[[2]])\n",
    "           ],\n",
    "          {Subscript[n, 2], -NAcc, NAcc}, {Subscript[n, 1], -NAcc, NAcc}\n",
    "          ]\n",
    "        </code>\n",
    "        </pre>\n",
    "    <p>\n",
    "        And check the result of the above test with: \n",
    "    </p>\n",
    "        <pre style=\" color: #f8f8f2; padding: 10px; border-radius: 5px; font-size: 13px;\">\n",
    "        <code style=\"color: rgb(81,206,9);\">\n",
    "        ```Mathematica    \n",
    "        ThetaCh[2 {{2, 4}, {4, 2}}, {1, 2}, IdentityMatrix[2] I, 5] // N\n",
    "        </code>\n",
    "        </pre>\n",
    "</div>"
   ]
  },
  {
   "cell_type": "markdown",
   "id": "b3a2d914-9f35-4543-b68d-b0b1255f7087",
   "metadata": {},
   "source": [
    "<div style=\"font-family: 'Latin Modern Roman', Times, serif; font-size: 16px;\">\n",
    "<h2 style=\"font-size: 24px;\">5.1. Tests</h2>\n",
    "</div>"
   ]
  },
  {
   "cell_type": "markdown",
   "id": "62293717-2ba6-4f54-adad-aa9141e4ba1d",
   "metadata": {},
   "source": [
    "<div style=\"font-family: 'Latin Modern Roman', Times, serif; font-size: 16px;\">\n",
    "<p>\n",
    "Test of the formula (<a href=\"https://arxiv.org/abs/2407.05632\" target=\"_blank\">[1]</a>, p.4, eq. 7)\n",
    "$$\n",
    "    \\theta[\\varepsilon](\\mathbf{v};\\tau) = \n",
    "            e^{i\\pi\\left(\\frac{1}{2} \\mathbf{\\varepsilon}'^T\\right) \\tau \\left(\\frac{1}{2} \\mathbf{\\varepsilon}'\\right) + 2i\\pi \\left( \\mathbf{v} + \\frac{1}{2} \\mathbf{\\varepsilon}\\right)^T \\left(\\frac{1}{2} \\mathbf{\\varepsilon}'\\right)} \\theta\\left(\\mathbf{v} + \\frac{1}{2}\\mathbf{\\varepsilon} + \\tau\\left(\\frac{1}{2}\\mathbf{\\varepsilon}'\\right);\\tau \\right).   \n",
    "$$    \n",
    "\n",
    "where a characteristic is a a $2\\times g$ matrix $[\\varepsilon] = (\\mathbf{\\varepsilon}',\\mathbf{\\varepsilon})^T $    \n",
    "</p>\n",
    "</div>"
   ]
  },
  {
   "cell_type": "code",
   "execution_count": 40,
   "id": "4c1d3c2a-5944-4f0c-b526-37f5ac786fff",
   "metadata": {},
   "outputs": [
    {
     "name": "stdout",
     "output_type": "stream",
     "text": [
      "Theta with characteristic:\n",
      " 1.0600858517074845 - 0.2501023731212625*I\n",
      "\n",
      "Exponential factor:\n",
      " 0.5734712442681018 + 0.050148801540618036*I\n",
      "\n",
      "Theta at shifted point:\n",
      " 1.7966652347912195 - 0.5932345951363659*I\n",
      "\n",
      "RHS:\n",
      " 1.0600858517074845 - 0.2501023731212626*I\n",
      "\n",
      "Difference:\n",
      " 1.1102230246251565e-16*I\n",
      "The relation is verified within the given tolerance.\n"
     ]
    }
   ],
   "source": [
    "# Define the genus\n",
    "g = 2  # For genus 2\n",
    "\n",
    "Acc=20\n",
    "\n",
    "# Define the period matrix tau\n",
    "### tau = Matrix(CC, [[I, 0.5], [0.5, I]])\n",
    "tau = omega.inverse() * omegaP\n",
    "\n",
    "# Define the vector v\n",
    "v = vector(CC, [0.1, 0.2])\n",
    "\n",
    "# Define the characteristic\n",
    "eps_prime = [1, 0]\n",
    "eps = [0, 1]\n",
    "N = 2  # Level of the characteristic\n",
    "char = Matrix([eps_prime,eps])\n",
    "\n",
    "# Compute theta with characteristic at v\n",
    "theta_char = ThetaCh(char, v, tau, Acc)\n",
    "\n",
    "# Compute half of the characteristic vectors\n",
    "eps_vec = vector(CC, eps)\n",
    "eps_prime_vec = vector(CC, eps_prime)\n",
    "eps_half = 0.5 * eps_vec\n",
    "eps_prime_half = 0.5 * eps_prime_vec\n",
    "\n",
    "# Compute the shifted vector v_shifted\n",
    "v_shifted = v + eps_half + tau * eps_prime_half\n",
    "\n",
    "# Compute the terms for the exponential factor\n",
    "term1 = (eps_prime_half) * tau * (eps_prime_half)\n",
    "term2 = (v + eps_half) * (eps_prime_half)\n",
    "\n",
    "# Compute the exponential factor\n",
    "exp_factor = exp(I * pi * term1 + 2 * I * pi * term2)\n",
    "\n",
    "# Compute theta at the shifted point without characteristic\n",
    "theta_standard = Theta(v_shifted, tau, Acc)\n",
    "\n",
    "\n",
    "# Compute the RHS of the relation\n",
    "RHS = exp_factor * theta_standard\n",
    "\n",
    "# Compute the difference\n",
    "difference = theta_char - RHS\n",
    "\n",
    "# Print the results\n",
    "print(\"Theta with characteristic:\\n\", theta_char)\n",
    "print()\n",
    "print(\"Exponential factor:\\n\", exp_factor)\n",
    "print()\n",
    "print(\"Theta at shifted point:\\n\", theta_standard)\n",
    "print()\n",
    "print(\"RHS:\\n\", RHS)\n",
    "print()\n",
    "print(\"Difference:\\n\", difference)\n",
    "\n",
    "# Check if the difference is within an acceptable tolerance\n",
    "tolerance = 1e-12  # Adjust based on the precision\n",
    "if abs(difference) < tolerance:\n",
    "    print(\"The relation is verified within the given tolerance.\")\n",
    "else:\n",
    "    print(\"The relation is not satisfied within the given tolerance.\")"
   ]
  },
  {
   "cell_type": "markdown",
   "id": "7dc23d5a-9f8b-4f71-a6aa-884935a18b72",
   "metadata": {},
   "source": [
    "<div style=\"font-family: 'Latin Modern Roman', Times, serif; font-size: 16px;\">\n",
    "<h1 style=\"font-size: 24px;\">6. $\\sigma$-Functions</h1>\n",
    "</div>"
   ]
  },
  {
   "cell_type": "markdown",
   "id": "54cb24f5-b6a1-43e0-a752-1e41c5f080f7",
   "metadata": {},
   "source": [
    "<div style=\"font-family: 'Latin Modern Roman', Times, serif; font-size: 16px;\">\n",
    "<p>\n",
    "    The theory on which this and the following sections are based comes from the works:\n",
    "    <a href=\"https://arxiv.org/pdf/solv-int/9603005\" target=\"_blank\">[4]</a>, \n",
    "    <a href=\"https://arxiv.org/pdf/1810.11079\" target=\"_blank\">[5]</a>,\n",
    "    <a href=\"https://arxiv.org/pdf/1711.08395\" target=\"_blank\">[6]</a>,\n",
    "    <a href=\"https://arxiv.org/pdf/1106.2408\" target=\"_blank\">[7]</a>.\n",
    "</p>\n",
    "</div>   "
   ]
  },
  {
   "cell_type": "markdown",
   "id": "2a9f7bc1-892a-4258-9318-b62cd2702718",
   "metadata": {},
   "source": [
    "<div style=\"background-color:  rgba(224, 224, 224, 0.25); \n",
    "    font-family: 'Latin Modern Roman', Times, serif; font-size: 16px; border: 1px solid  rgb(192, 192, 192); padding: 15px; border-radius: 5px; \">\n",
    "    <h4 style=\"font-size: 20px;color: rgb(160, 160, 160);\">Definition 4.</h4>\n",
    "    <p>        \n",
    "        <em> Sigma function </em> (Kleinian sigma) is a modular invariant entire function on $\\mathrm{Jac}(\\mathscr{C})$. It is definef by a relation with the theta function:\n",
    "        $$\n",
    "            \\sigma(\\mathbf{u}) = C \\tilde{\\sigma}(\\mathbf{u})\n",
    "        $$\n",
    "        where\n",
    "        $$\n",
    "            \\tilde{\\sigma}(\\mathbf{u})= e^{-\\frac{1}{2}\\mathbf{u}^T \\kappa \\mathbf{u}} \\theta[ K ] (\\omega^{-1} \\mathbf{u}, \\omega^{-1} \\omega'),\n",
    "        $$\n",
    "        $$\n",
    "            C= \\sqrt{\\frac{\\pi^g}{\\det{\\omega}}} \\left( \\prod_{1\\leq i<j \\leq 2g+1} (e_i - e_j) \\right)^{-1/4},\n",
    "        $$\n",
    "        and $[K]$ denotes the characteristics of the vector of Riemann constants. (The expression for $C$ comes from <a href=\"https://arxiv.org/pdf/1106.2408\" target=\"_blank\">[7]</a>, p.9, Eq. II.41)\n",
    "    </p>    \n",
    "    </div>\n",
    "\n",
    "</div>"
   ]
  },
  {
   "cell_type": "markdown",
   "id": "e6478994-160e-40e2-87c7-be761ac4eed6",
   "metadata": {},
   "source": [
    "<div style=\"background-color:  rgba(153, 204, 255, 0.25); \n",
    "    font-family: 'Latin Modern Roman', Times, serif; font-size: 16px; border: 1px solid  rgb(0, 128,255); padding: 15px; border-radius: 5px; \">\n",
    "    <h4 style=\"font-size: 20px;color: rgb(0, 128,255);\">Note 7.</h4>\n",
    "    <p>\n",
    "        The assumed formula for the constant $C$ is burdened with uncertainty because in another classical source <a href=\"https://arxiv.org/pdf/solv-int/9603005\" target=\"_blank\">[4]</a> one can find a different formulation for it. However, it will not affect the final formulas in the following parts of the code because it will be contracted.    \n",
    "    </p>\n",
    "</div>"
   ]
  },
  {
   "cell_type": "code",
   "execution_count": 41,
   "id": "76d6faa9-769b-410d-ab37-de6ae353b785",
   "metadata": {},
   "outputs": [],
   "source": [
    "# We define variables\n",
    "var('U1 U3')\n",
    "\n",
    "# We define the accuracy of theta function\n",
    "Acc=20\n",
    "\n",
    "\n",
    "# sigma\n",
    "def Tsigma(U1, U3):\n",
    "    e = exp(-(1/2)*(vector([U1, U3])*kappa*vector([U1, U3])))\n",
    "    theta = ThetaCh(KCh, omega_inv * vector([U1, U3]), tau, Acc)\n",
    "    return e*theta\n",
    "\n",
    "# C constant\n",
    "det_omega = omega.determinant()\n",
    "g = 2\n",
    "#Branch points\n",
    "BP = find_branch_points(l0, l2, l4, l6, l8, l10)\n",
    "# Calculating the product of branch point differences\n",
    "prod = 1\n",
    "for i in range(len(BP)):\n",
    "    for j in range(i+1, len(BP)):\n",
    "        if BP[i] != infinity and BP[j] != infinity:\n",
    "            prod *= (BP[i] - BP[j])\n",
    "C = sqrt(pi**g / det_omega) * prod**(-1/4)\n",
    "\n",
    "# Constant C another definition\n",
    "det2_omega = abs(omega.determinant())\n",
    "\n",
    "C2 = sqrt(pi**g / det2_omega) * prod**(-1/4)\n",
    "\n",
    "# Taking into account the factor (2*pi*i)^g\n",
    "C3 =sqrt((2 * pi * I)**g / det2_omega) * prod**(-1/4)\n",
    "\n",
    "\n",
    "def sigma(U1, U3):\n",
    "    return C*Tsigma(U1, U3)"
   ]
  },
  {
   "cell_type": "markdown",
   "id": "29232c87-767f-41d7-9a44-f47adbaa0472",
   "metadata": {},
   "source": [
    "<div style=\"font-family: 'Latin Modern Roman', Times, serif; font-size: 16px;\">\n",
    "<h2 style=\"font-size: 24px;\">6.1. Approximate definitions</h2>\n",
    "</div>"
   ]
  },
  {
   "cell_type": "markdown",
   "id": "6237a69f-871f-4a9d-902c-c6d9bd2dca1e",
   "metadata": {},
   "source": [
    "<div style=\"background-color:  rgba(224, 224, 224, 0.25); \n",
    "    font-family: 'Latin Modern Roman', Times, serif; font-size: 16px; border: 1px solid  rgb(192, 192, 192); padding: 15px; border-radius: 5px; \">\n",
    "    <h4 style=\"font-size: 20px;color: rgb(160, 160, 160);\">Definition 5.</h4>\n",
    "    <p>  \n",
    "        Based on the work <a href=\"https://arxiv.org/pdf/1810.11079\" target=\"_blank\">[5]</a> p.20, Eq. (3.22), we can write first approximation of $\\mathbf{u}=(u_1,u_3)$ for small values\n",
    "    $$\n",
    "        \\sigma(\\mathbf{u}) = u_3 - \\frac{1}{3} u_1^2 + \\frac{1}{6}\\lambda_6 u_3^3 - \\frac{1}{12}\\lambda_4 u_1^4 u_3 - \\frac{1}{6} \\lambda_6 u_1^3 u_3^2 - \\frac{1}{6} \\lambda_8 u_1^2 u_3^3 - \\frac{1}{3} \\lambda_{10} u_1 u_3^4 +\\left( \\frac{1}{60} \\lambda_4 \\lambda_8 + \\frac{1}{120} \\lambda_6^2\\right) u_3^5 +(u^7).\n",
    "    $$\n",
    "   <p>\n",
    "   </div>   "
   ]
  },
  {
   "cell_type": "code",
   "execution_count": 47,
   "id": "c6a02014-cb3d-48b7-bebb-9255b52a62d1",
   "metadata": {},
   "outputs": [],
   "source": [
    "def sigmaApp1(U1, U3):\n",
    "    result = (U3 \n",
    "              - (1/3) * U1**3 \n",
    "              + (1/6) * l6 * U3**3 \n",
    "              - (1/12) * l4 * U1**4 * U3 \n",
    "              - (1/6) * l6 * U1**3 * U3**2\n",
    "              - (1/6) * l8 * U1**2 * U3**3 \n",
    "              - (1/3) * l10 * U1 * U3**4 \n",
    "              + (1/60) * l4 * l8 * U3**5 \n",
    "              + (1/120) * l6**2 * U3**5)\n",
    "    return result"
   ]
  },
  {
   "cell_type": "markdown",
   "id": "ca06d3ed-e072-48f7-b312-0ed5c3897f4e",
   "metadata": {},
   "source": [
    "<div style=\"background-color:  rgba(224, 224, 224, 0.25); \n",
    "    font-family: 'Latin Modern Roman', Times, serif; font-size: 16px; border: 1px solid  rgb(192, 192, 192); padding: 15px; border-radius: 5px; \">\n",
    "    <h4 style=\"font-size: 20px;color: rgb(160, 160, 160);\">Definition 6.</h4>\n",
    "    <p>  \n",
    "        Based on the work <a href=\"https://arxiv.org/pdf/1711.08395\" target=\"_blank\">[6]</a> p.34, Eq. (3.22), we can write first approximation of $\\mathbf{u}=(u_1,u_3)$ for small values\n",
    "    $$\n",
    "    \\begin{aligned}\n",
    "        \\sigma(\\mathbf{u}) = & u_3 - \\frac{1}{3} u_1^2 + \\frac{1}{6}\\lambda_6 u_3^3 - \\frac{1}{12}\\lambda_4 u_1^4 u_3 - \\frac{1}{6} \\lambda_6 u_1^3 u_3^2 - \\frac{1}{6} \\lambda_8 u_1^2 u_3^3 - \\frac{1}{3} \\lambda_{10} u_1 u_3^4 +\\left( \\frac{1}{60} \\lambda_4 \\lambda_8 + \\frac{1}{120} \\lambda_6^2\\right) u_3^5 +(u^7) \\\\\n",
    "        & - \\frac{4}{7!} \\lambda_4 *u_1^7 + \\frac{69}{9!} \\lambda_6 u_1^9 - \\frac{8}{6!}\\lambda_6 u_3 u_1^6 + (1600\\lambda_8 - 408 \\lambda_4^2) \\frac{u^11}{11!} - (4\\lambda_4^2 + 32 \\lambda_8)\\frac{u_3 u_1^8}{8!} - \\frac{8}{2! 5!} \\lambda_8 u_3^2 u_1^5.  \n",
    "    \\end{aligned}    \n",
    "    $$\n",
    "   <p>\n",
    "   </div>   "
   ]
  },
  {
   "cell_type": "code",
   "execution_count": 48,
   "id": "746990db-b871-4cf9-9c4e-fdf8ceb3deb5",
   "metadata": {},
   "outputs": [],
   "source": [
    "def sigmaApp2(U1, U3):\n",
    "    result = (U3 \n",
    "              - (1/3) * U1**3 \n",
    "              + (1/6) * l6 * U3**3 \n",
    "              - (1/12) * l4 * U1**4 * U3 \n",
    "              - (1/6) * l6 * U1**3 * U3**2\n",
    "              - (1/6) * l8 * U1**2 * U3**3 \n",
    "              - (1/3) * l10 * U1 * U3**4 \n",
    "              + (1/60) * l4 * l8 * U3**5 \n",
    "              + (1/120) * l6**2 * U3**5\n",
    "              - (4/factorial(7)) * l4 * U1**7\n",
    "              + (64/factorial(9)) * l6 * U1**9\n",
    "              - (8/factorial(6)) * l6 * U3 * U1**6\n",
    "              + (1600 * l8 - 408 * l4**2) * (1/factorial(11)) * U1**11\n",
    "              - (4 * l4**2 + 32 * l8) * (1/factorial(8)) * U3 * U1**8\n",
    "              - (4/factorial(5)) * l8 * U3**2 * U1**5\n",
    "             )\n",
    "    \n",
    "    return result"
   ]
  },
  {
   "cell_type": "markdown",
   "id": "61d40fcc-99f3-4c15-8470-331801a01ec5",
   "metadata": {},
   "source": [
    "<div style=\"background-color:  rgba(224, 224, 224, 0.25); \n",
    "    font-family: 'Latin Modern Roman', Times, serif; font-size: 16px; border: 1px solid  rgb(192, 192, 192); padding: 15px; border-radius: 5px; \">\n",
    "    <h4 style=\"font-size: 20px;color: rgb(160, 160, 160);\">Definition 7.</h4>\n",
    "    <p>  \n",
    "        Based on the book [9] (Chap. IV, Art. 24, p. 96) \n",
    "        $$\n",
    "            \\sigma(\\mathbf{u}) \\approx u_1 - \\frac{1}{3} u_3^2 + \\frac{1}{24}\\lambda_6 u_1^3+ \\dots\n",
    "        $$\n",
    "   <p>\n",
    "   </div>   "
   ]
  },
  {
   "cell_type": "code",
   "execution_count": 49,
   "id": "adc5e4bd-fcf9-4e05-bc8f-2f2fabd5be36",
   "metadata": {},
   "outputs": [],
   "source": [
    "def sigmaApp3(U1, U3):\n",
    "    result = (U1 \n",
    "              - (1/3) * U3**3 \n",
    "              + (1/24) * l6 * U1**3\n",
    "             )\n",
    "    return result"
   ]
  },
  {
   "cell_type": "markdown",
   "id": "ddc3d39d-ba6a-4470-aca9-93a2f66a8ade",
   "metadata": {},
   "source": [
    "<div style=\"background-color:  rgba(224, 224, 224, 0.25); \n",
    "    font-family: 'Latin Modern Roman', Times, serif; font-size: 16px; border: 1px solid  rgb(192, 192, 192); padding: 15px; border-radius: 5px; \">\n",
    "    <h4 style=\"font-size: 20px;color: rgb(160, 160, 160);\">Definition 8.</h4>\n",
    "    <p>  \n",
    "        Based on the work  <a href=\"https://iopscience.iop.org/article/10.1088/2399-6528/ac8521\" target=\"_blank\">[10]</a> (Eq. 3.21)\n",
    "\n",
    "$$\n",
    "        \\sigma(\\mathbf{u}) \\approx u_1 + \\frac{\\lambda_6}{24} u_1^3 - \\frac{\\lambda_0}{12} u_3^3+ \\dots\n",
    "    $$\n",
    "\n",
    "   <p>\n",
    "   </div>   "
   ]
  },
  {
   "cell_type": "code",
   "execution_count": 50,
   "id": "f3164d29-2e3a-447f-a81d-840c2f0e3754",
   "metadata": {},
   "outputs": [],
   "source": [
    "def sigmaApp4(U1, U3):\n",
    "    result = (U1 \n",
    "              + (1/24) * l6 * U1**3\n",
    "              - (1/13) * l0 * U3**3 \n",
    "             )\n",
    "    return result"
   ]
  },
  {
   "cell_type": "markdown",
   "id": "377ed4c1-3632-4914-bc02-3c41658fca89",
   "metadata": {},
   "source": [
    "<div style=\"font-family: 'Latin Modern Roman', Times, serif; font-size: 16px;\">\n",
    "<h2 style=\"font-size: 24px;\">6.2. Tests</h2>\n",
    "</div>"
   ]
  },
  {
   "cell_type": "markdown",
   "id": "264e1ffb-614f-44e0-a615-d09ef000bbb5",
   "metadata": {},
   "source": [
    "<div style=\"font-family: 'Latin Modern Roman', Times, serif; font-size: 16px;\">\n",
    "<p>\n",
    "    Let's check how approximate sigmas relate to the exact definition. We operate on the ratios to get rid of the dependence on the constant $C$\n",
    "</p>\n",
    "</div>   "
   ]
  },
  {
   "cell_type": "code",
   "execution_count": 45,
   "id": "82f09b4d-bd8f-48ca-ad96-cea5ba468104",
   "metadata": {},
   "outputs": [],
   "source": [
    "u1=2.21231\n",
    "u3=7.32112\n",
    "\n",
    "k1=8.8976\n",
    "k3=5.2315"
   ]
  },
  {
   "cell_type": "code",
   "execution_count": 51,
   "id": "f3cac3ce-61a4-4f65-bce1-a2881adf7907",
   "metadata": {},
   "outputs": [
    {
     "name": "stdout",
     "output_type": "stream",
     "text": [
      "Result for comparison with sigmaApp1:\n",
      "-0.918639409348416 - 1.66533453693773e-16*I\n",
      "\n",
      "Result for comparison with sigmaApp2:\n",
      "-0.918639706374918 - 1.66533453693773e-16*I\n",
      "\n",
      "Result for comparison with sigmaApp3:\n",
      "0.240503143950716 - 1.66533453693773e-16*I\n",
      "\n",
      "Result for comparison with sigmaApp4:\n",
      "0.239474509747872 - 1.66533453693773e-16*I\n",
      "\n",
      "Difference between sigmaApp1 and sigmaApp3:\n",
      "1.15914255329913\n"
     ]
    }
   ],
   "source": [
    "d=10^(-2)\n",
    "\n",
    "testS = sigma(u1*d,u3*d)/sigma(k1*d,k3*d)\n",
    "testSApp1 = sigmaApp1(u1*d,u3*d)/sigmaApp1(k1*d,k3*d)\n",
    "testSApp2 = sigmaApp2(u1*d,u3*d)/sigmaApp2(k1*d,k3*d)\n",
    "testSApp3 = sigmaApp3(u1*d,u3*d)/sigmaApp3(k1*d,k3*d)\n",
    "testSApp4 = sigmaApp4(u1*d,u3*d)/sigmaApp4(k1*d,k3*d)\n",
    "\n",
    "print(\"Result for comparison with sigmaApp1:\")\n",
    "print(testS-testSApp1)\n",
    "print()\n",
    "print(\"Result for comparison with sigmaApp2:\")\n",
    "print(testS-testSApp2)\n",
    "print()\n",
    "print(\"Result for comparison with sigmaApp3:\")\n",
    "print(testS-testSApp3)\n",
    "print()\n",
    "print(\"Result for comparison with sigmaApp4:\")\n",
    "print(testS-testSApp4)\n",
    "print()\n",
    "print(\"Difference between sigmaApp1 and sigmaApp3:\")\n",
    "print(testSApp1-testSApp3)"
   ]
  },
  {
   "cell_type": "code",
   "execution_count": 52,
   "id": "6bf790d3-8329-49d6-a5b6-9b689c0c976c",
   "metadata": {},
   "outputs": [
    {
     "name": "stdout",
     "output_type": "stream",
     "text": [
      "Result for comparison with sigmaApp1:\n",
      "-0.884388199106624 + 8.42659275690494e-14*I\n",
      "\n",
      "Result for comparison with sigmaApp2:\n",
      "-0.884388199106624 + 8.42659275690494e-14*I\n",
      "\n",
      "Result for comparison with sigmaApp3:\n",
      "0.266400976142135 + 8.42659275690494e-14*I\n",
      "\n",
      "Result for comparison with sigmaApp4:\n",
      "0.266400975113903 + 8.42659275690494e-14*I\n",
      "\n",
      "Difference between sigmaApp1 and sigmaApp3:\n",
      "1.15078917524876\n"
     ]
    }
   ],
   "source": [
    "d=10^(-5)\n",
    "\n",
    "testS = sigma(u1*d,u3*d)/sigma(k1*d,k3*d)\n",
    "testSApp1 = sigmaApp1(u1*d,u3*d)/sigmaApp1(k1*d,k3*d)\n",
    "testSApp2 = sigmaApp2(u1*d,u3*d)/sigmaApp2(k1*d,k3*d)\n",
    "testSApp3 = sigmaApp3(u1*d,u3*d)/sigmaApp3(k1*d,k3*d)\n",
    "testSApp4 = sigmaApp4(u1*d,u3*d)/sigmaApp4(k1*d,k3*d)\n",
    "\n",
    "print(\"Result for comparison with sigmaApp1:\")\n",
    "print(testS-testSApp1)\n",
    "print()\n",
    "print(\"Result for comparison with sigmaApp2:\")\n",
    "print(testS-testSApp2)\n",
    "print()\n",
    "print(\"Result for comparison with sigmaApp3:\")\n",
    "print(testS-testSApp3)\n",
    "print()\n",
    "print(\"Result for comparison with sigmaApp4:\")\n",
    "print(testS-testSApp4)\n",
    "print()\n",
    "print(\"Difference between sigmaApp1 and sigmaApp3:\")\n",
    "print(testSApp1-testSApp3)"
   ]
  },
  {
   "cell_type": "code",
   "execution_count": 53,
   "id": "a8821bc9-177e-41fb-976e-b7051138f16b",
   "metadata": {},
   "outputs": [
    {
     "name": "stdout",
     "output_type": "stream",
     "text": [
      "Result for comparison with sigmaApp1:\n",
      "-0.884388165458948 - 1.88429922221012e-8*I\n",
      "\n",
      "Result for comparison with sigmaApp2:\n",
      "-0.884388165458948 - 1.88429922221012e-8*I\n",
      "\n",
      "Result for comparison with sigmaApp3:\n",
      "0.266401001621330 - 1.88429922221012e-8*I\n",
      "\n",
      "Result for comparison with sigmaApp4:\n",
      "0.266401001621330 - 1.88429922221012e-8*I\n",
      "\n",
      "Difference between sigmaApp1 and sigmaApp3:\n",
      "1.15078916708028\n"
     ]
    }
   ],
   "source": [
    "d=10^(-10)\n",
    "\n",
    "testS = sigma(u1*d,u3*d)/sigma(k1*d,k3*d)\n",
    "testSApp1 = sigmaApp1(u1*d,u3*d)/sigmaApp1(k1*d,k3*d)\n",
    "testSApp2 = sigmaApp2(u1*d,u3*d)/sigmaApp2(k1*d,k3*d)\n",
    "testSApp3 = sigmaApp3(u1*d,u3*d)/sigmaApp3(k1*d,k3*d)\n",
    "testSApp4 = sigmaApp4(u1*d,u3*d)/sigmaApp4(k1*d,k3*d)\n",
    "\n",
    "print(\"Result for comparison with sigmaApp1:\")\n",
    "print(testS-testSApp1)\n",
    "print()\n",
    "print(\"Result for comparison with sigmaApp2:\")\n",
    "print(testS-testSApp2)\n",
    "print()\n",
    "print(\"Result for comparison with sigmaApp3:\")\n",
    "print(testS-testSApp3)\n",
    "print()\n",
    "print(\"Result for comparison with sigmaApp4:\")\n",
    "print(testS-testSApp4)\n",
    "print()\n",
    "print(\"Difference between sigmaApp1 and sigmaApp3:\")\n",
    "print(testSApp1-testSApp3)"
   ]
  },
  {
   "cell_type": "code",
   "execution_count": 54,
   "id": "ad1b79d5-3a57-423d-a0a8-b8b6acc6ef49",
   "metadata": {},
   "outputs": [
    {
     "name": "stdout",
     "output_type": "stream",
     "text": [
      "Result for comparison with sigmaApp1:\n",
      "-0.885876764827322 - 0.00180870273726225*I\n",
      "\n",
      "Result for comparison with sigmaApp2:\n",
      "-0.885876764827322 - 0.00180870273726225*I\n",
      "\n",
      "Result for comparison with sigmaApp3:\n",
      "0.264912402252956 - 0.00180870273726225*I\n",
      "\n",
      "Result for comparison with sigmaApp4:\n",
      "0.264912402252956 - 0.00180870273726225*I\n",
      "\n",
      "Difference between sigmaApp1 and sigmaApp3:\n",
      "1.15078916708028\n"
     ]
    }
   ],
   "source": [
    "d=10^(-15)\n",
    "\n",
    "testS = sigma(u1*d,u3*d)/sigma(k1*d,k3*d)\n",
    "testSApp1 = sigmaApp1(u1*d,u3*d)/sigmaApp1(k1*d,k3*d)\n",
    "testSApp2 = sigmaApp2(u1*d,u3*d)/sigmaApp2(k1*d,k3*d)\n",
    "testSApp3 = sigmaApp3(u1*d,u3*d)/sigmaApp3(k1*d,k3*d)\n",
    "testSApp4 = sigmaApp4(u1*d,u3*d)/sigmaApp4(k1*d,k3*d)\n",
    "\n",
    "print(\"Result for comparison with sigmaApp1:\")\n",
    "print(testS-testSApp1)\n",
    "print()\n",
    "print(\"Result for comparison with sigmaApp2:\")\n",
    "print(testS-testSApp2)\n",
    "print()\n",
    "print(\"Result for comparison with sigmaApp3:\")\n",
    "print(testS-testSApp3)\n",
    "print()\n",
    "print(\"Result for comparison with sigmaApp4:\")\n",
    "print(testS-testSApp4)\n",
    "print()\n",
    "print(\"Difference between sigmaApp1 and sigmaApp3:\")\n",
    "print(testSApp1-testSApp3)"
   ]
  },
  {
   "cell_type": "markdown",
   "id": "9dd51ab4-6bdc-4aa4-90d9-ac83f12c49c0",
   "metadata": {},
   "source": [
    "<div style=\"background-color:  rgba(216, 220, 97, 0.25); \n",
    "    font-family: 'Latin Modern Roman', Times, serif; font-size: 16px; border: 1px solid  rgb(205,210,44); padding: 15px; border-radius: 5px; \">\n",
    "    <h3 style=\"font-size: 20px;color: rgb(205,210,44);\">Observation 1.</h3>\n",
    "    <p>\n",
    "        There is a significant difference between the two pairs of approximations.\n",
    "      </p>\n",
    "</div>    "
   ]
  },
  {
   "cell_type": "markdown",
   "id": "8e3d745f-23f3-4b1b-98c0-1064197e4e92",
   "metadata": {},
   "source": [
    "<div style=\"font-family: 'Latin Modern Roman', Times, serif; font-size: 16px;\">\n",
    "<p>\n",
    "    Let's check the $C$ constant. For the first two types of approximations it should hold\n",
    "    $$\n",
    "        C \\approx \\frac{u_3}{\\tilde{\\sigma}(\\mathbf{u})}.\n",
    "    $$\n",
    "    for $u_1\\approx0$.\n",
    "</p>   \n",
    "<p>    \n",
    "    For the next two types of approximations this should hold:\n",
    "    $$\n",
    "        C \\approx \\frac{u_1}{\\tilde{\\sigma}(\\mathbf{u})}.\n",
    "    $$\n",
    "    for $u_3\\approx0$.\n",
    "</p>    \n",
    "</div>   "
   ]
  },
  {
   "cell_type": "code",
   "execution_count": 58,
   "id": "15b4f6d9-73ca-4b27-b923-bfe804cc97ef",
   "metadata": {},
   "outputs": [
    {
     "name": "stdout",
     "output_type": "stream",
     "text": [
      "C from definition:\n",
      "0.141841687815806 + 0.538908396778394*I\n",
      "\n",
      "C2 from definition:\n",
      "0.526634148916357 + 0.182202628180384*I\n",
      "\n",
      "C3 from definition:\n",
      "-0.36440525636076754 + 1.0532682978327146*I\n",
      "\n",
      "Approximate C:\n",
      "-0.394449548035149 + 0.592130183781794*I\n"
     ]
    }
   ],
   "source": [
    "#The C constant test based on the first two approximations\n",
    "\n",
    "u1=10^(-20)\n",
    "u3=0.0012131\n",
    "\n",
    "Capp=u3/Tsigma(u1,u3)\n",
    "print(\"C from definition:\")\n",
    "print(C)\n",
    "print()\n",
    "print(\"C2 from definition:\")\n",
    "print(C2)\n",
    "print()\n",
    "print(\"C3 from definition:\")\n",
    "print(C3)\n",
    "print()\n",
    "print(\"Approximate C:\")\n",
    "print(Capp)"
   ]
  },
  {
   "cell_type": "code",
   "execution_count": 59,
   "id": "ad9b35e9-6f57-489d-ab90-1cd64476e67f",
   "metadata": {},
   "outputs": [
    {
     "name": "stdout",
     "output_type": "stream",
     "text": [
      "C from definition:\n",
      "0.141841687815806 + 0.538908396778394*I\n",
      "\n",
      "C2 from definition:\n",
      "0.526634148916357 + 0.182202628180384*I\n",
      "\n",
      "C3 from definition:\n",
      "-0.36440525636076754 + 1.0532682978327146*I\n",
      "\n",
      "Approximate C:\n",
      "-0.202079378743036 + 0.303352609401298*I\n"
     ]
    }
   ],
   "source": [
    "#The C constant test based on the last two approximations\n",
    "\n",
    "u3=10^(-20)\n",
    "u1=0.0012131\n",
    "\n",
    "Capp=u1/Tsigma(u1,u3)\n",
    "print(\"C from definition:\")\n",
    "print(C)\n",
    "print()\n",
    "print(\"C2 from definition:\")\n",
    "print(C2)\n",
    "print()\n",
    "print(\"C3 from definition:\")\n",
    "print(C3)\n",
    "print()\n",
    "print(\"Approximate C:\")\n",
    "print(Capp)"
   ]
  },
  {
   "cell_type": "markdown",
   "id": "48880cba-104c-46d9-be84-0e93ef96f2d8",
   "metadata": {},
   "source": [
    "<div style=\"background-color:  rgba(216, 220, 97, 0.25); \n",
    "    font-family: 'Latin Modern Roman', Times, serif; font-size: 16px; border: 1px solid  rgb(205,210,44); padding: 15px; border-radius: 5px; \">\n",
    "    <h3 style=\"font-size: 20px;color: rgb(205,210,44);\">Observation 2.</h3>\n",
    "    <p>\n",
    "    The result doesn't match, so it's something that can be improved in the future\n",
    "</p>   \n",
    "</div>   "
   ]
  },
  {
   "cell_type": "markdown",
   "id": "13f45ec7-c48e-4f61-b3a9-7d3c4a1a5a81",
   "metadata": {},
   "source": [
    "<div style=\"font-family: 'Latin Modern Roman', Times, serif; font-size: 16px;\">\n",
    "<h1 style=\"font-size: 24px;\">7. $\\wp$-Functions</h1>\n",
    "</div>"
   ]
  },
  {
   "cell_type": "markdown",
   "id": "b91eece6-fbda-418b-aa46-05765b9a49b4",
   "metadata": {},
   "source": [
    "<div style=\"background-color:  rgba(224, 224, 224, 0.25); \n",
    "    font-family: 'Latin Modern Roman', Times, serif; font-size: 16px; border: 1px solid  rgb(192, 192, 192); padding: 15px; border-radius: 5px; \">\n",
    "    <h4 style=\"font-size: 20px;color: rgb(160, 160, 160);\">Definition 9.</h4>\n",
    "    <p>        \n",
    "        Multiply periodic Klein-Weierstrass $\\wp$-functions are defined by\n",
    "        $$\n",
    "            \\wp_{ij}(\\mathbf{u}):= - \\frac{\\partial^2\\log{\\sigma(\\mathbf{u})}}{\\partial u_i \\partial u_j}, \\quad \\wp_{ijk}:=- \\frac{\\partial^3\\log{\\sigma(\\mathbf{u})}}{\\partial u_i \\partial u_j \\partial u_k},\n",
    "        $$\n",
    "        where $\\sigma(u)$ is called <i>sigma function</i>. This can be also written by \n",
    "        $$\n",
    "            \\wp_{ij} = \\frac{\\sigma_i(\\mathbf{u})\\sigma_j(\\mathbf{u}) - \\sigma(\\mathbf{u})\\sigma_{ij}(\\mathbf{u})}{\\sigma^2(\\mathbf{u})} = \\frac{\\tilde{\\sigma}_i(\\mathbf{u})\\tilde{\\sigma}_j(\\mathbf{u}) - \\tilde{\\sigma}(\\mathbf{u})\\tilde{\\sigma}_{ij}(\\mathbf{u})}{\\tilde{\\sigma}^2(\\mathbf{u})},\n",
    "        $$\n",
    "        where $\\sigma_i(\\mathbf{u})$ denotes the derivative of the sigma function with respect to the $i$-th component of $\\mathbf{u}$. <br>\n",
    "        <br>\n",
    "        It can be shown that the above definitions can be written in the form\n",
    "        $$\n",
    "            \\wp_{ij}:=\\kappa_{ij} - \\frac{\\partial^2}{\\partial u_i \\partial u_j}\\log{\\theta[K](\\omega^{-1}u;\\tau)}, \\quad \\wp_{ijk}:=- \\frac{\\partial^3}{\\partial u_i \\partial u_j \\partial u_k}\\log{\\theta[K](\\omega^{-1}u;\\tau)}.\n",
    "        $$\n",
    "    </p>    \n",
    "    </div>\n",
    "\n",
    "</div>"
   ]
  },
  {
   "cell_type": "code",
   "execution_count": 61,
   "id": "0fe5f05b-92d6-4b49-b835-367bc81d88b1",
   "metadata": {},
   "outputs": [],
   "source": [
    "#definition with thetas\n",
    "# We define variables\n",
    "var('U1 U3')\n",
    "\n",
    "# We define the accuracy of theta function\n",
    "Acc=20\n",
    "\n",
    "\n",
    "# WeierstrassP11\n",
    "def WeierstrassP11(u1_val, u3_val):\n",
    "    symbolic_expr = kappa[0, 0] - diff(log(ThetaCh(KCh, omega_inv * vector([U1, U3]), tau, Acc)), U1, 2)\n",
    "    return symbolic_expr.subs({U1: u1_val, U3: u3_val}).n()\n",
    "\n",
    "# WeierstrassP13\n",
    "def WeierstrassP13(u1_val, u3_val):\n",
    "    symbolic_expr = kappa[0, 1] - diff(log(ThetaCh(KCh, omega_inv * vector([U1, U3]), tau, Acc)),  U1, U3)\n",
    "    return symbolic_expr.subs({U1: u1_val, U3: u3_val}).n()\n",
    "\n",
    "# WeierstrassP33\n",
    "def WeierstrassP33(u1_val, u3_val):\n",
    "    symbolic_expr = kappa[1, 1] - diff(log(ThetaCh(KCh, omega_inv * vector([U1, U3]), tau, Acc)), U3, 2)\n",
    "    return symbolic_expr.subs({U1: u1_val, U3: u3_val}).n()\n",
    "\n",
    "# WeierstrassP3333\n",
    "def WeierstrassP3333(u1_val, u3_val):\n",
    "    symbolic_expr = kappa[1, 1] - diff(log(ThetaCh(KCh, omega_inv * vector([U1, U3]), tau, Acc)), U3, 4)\n",
    "    return symbolic_expr.subs({U1: u1_val, U3: u3_val}).n()\n"
   ]
  },
  {
   "cell_type": "code",
   "execution_count": 62,
   "id": "da14c606-1521-4ceb-8430-4ad3970bc39e",
   "metadata": {},
   "outputs": [],
   "source": [
    "# Definition with sigmas\n",
    "\n",
    "\n",
    "# WeierstrassP11\n",
    "def Weierstrass2P11(u1_val, u3_val):\n",
    "    U1, U3 = var('U1 U3')\n",
    "    sigma_expr = Tsigma(U1, U3)\n",
    "    sigma1 = diff(sigma_expr, U1)\n",
    "    sigma11 = diff(sigma_expr, U1, 2)\n",
    "    symbolic_expr = (sigma1*sigma1 - sigma_expr*sigma11)/(sigma_expr^2)\n",
    "    return symbolic_expr.subs({U1: u1_val, U3: u3_val}).n()\n",
    "\n",
    "# WeierstrassP13\n",
    "def Weierstrass2P13(u1_val, u3_val):\n",
    "    U1, U3 = var('U1 U3')\n",
    "    sigma_expr = Tsigma(U1, U3)\n",
    "    sigma1 = diff(sigma_expr, U1)\n",
    "    sigma3 = diff(sigma_expr, U3)\n",
    "    sigma13 = diff(sigma_expr, U1, U3)\n",
    "    symbolic_expr = (sigma1*sigma3 - sigma_expr*sigma13)/(sigma_expr^2)\n",
    "    return symbolic_expr.subs({U1: u1_val, U3: u3_val}).n()\n",
    "    \n",
    "# WeierstrassP33\n",
    "def Weierstrass2P33(u1_val, u3_val):\n",
    "    U1, U3 = var('U1 U3')\n",
    "    sigma_expr = Tsigma(U1, U3)\n",
    "    sigma3 = diff(sigma_expr, U3)\n",
    "    sigma33 = diff(sigma_expr, U3, 2)\n",
    "    symbolic_expr = (sigma3*sigma3 - sigma_expr*sigma33)/(sigma_expr^2)\n",
    "    return symbolic_expr.subs({U1: u1_val, U3: u3_val}).n()    "
   ]
  },
  {
   "cell_type": "markdown",
   "id": "6b4a8b4f-bc8d-4abf-804d-e790674f192f",
   "metadata": {},
   "source": [
    "<div style=\"font-family: 'Latin Modern Roman', Times, serif; font-size: 16px;\">\n",
    "<h2 style=\"font-size: 24px;\">7.1. Tests</h2>\n",
    "</div>"
   ]
  },
  {
   "cell_type": "markdown",
   "id": "e28d40d6-5544-4e5e-8740-56f1c224d537",
   "metadata": {},
   "source": [
    "<div style=\"font-family: 'Latin Modern Roman', Times, serif; font-size: 16px;\">\n",
    "<p>\n",
    "    As a first test of these functions, we can check if they satisfy the key property  \n",
    "$$\n",
    "    \\wp_{ij}(\\mathbf{u}+2\\omega \\mathbf{n} + 2\\omega'\\mathbf{n}') = \\wp_{ij}(\\mathbf{u}),\n",
    "$$\n",
    "where\n",
    "$$\n",
    "    \\mathbf{n} = \n",
    "        \\begin{pmatrix}\n",
    "            n_1\\\\\n",
    "            n_2\n",
    "        \\end{pmatrix}, \\quad\n",
    "    \\mathbf{n}' = \n",
    "        \\begin{pmatrix}\n",
    "            n'_1\\\\\n",
    "            n'_2\n",
    "        \\end{pmatrix} \\in \\mathbb{Z}^2.\n",
    "$$  \n",
    "</p>\n",
    "</d>"
   ]
  },
  {
   "cell_type": "code",
   "execution_count": 63,
   "id": "86ddb826-807a-4d75-98f8-d14caeb45aa1",
   "metadata": {},
   "outputs": [
    {
     "name": "stdout",
     "output_type": "stream",
     "text": [
      "Theta based definitions\n",
      "\n",
      "Test P11:\n",
      "7.36690708436072e-11 + 4.91695573145989e-12*I\n",
      "\n",
      "Test P13:\n",
      "-1.74793512996985e-11 - 3.78008735424373e-11*I\n",
      "\n",
      "Test P33:\n",
      "1.20792265079217e-11 - 1.58024704433046e-11*I\n",
      "\n",
      "\n",
      "Sigma based definitions\n",
      "\n",
      "Test P11:\n",
      "-3.83515441626514e-11 - 9.04575715364466e-13*I\n",
      "\n",
      "Test P13:\n",
      "2.02948768901479e-13 - 4.47599305758037e-13*I\n",
      "\n",
      "Test P33:\n",
      "3.62376795237651e-12 + 1.52692878357779e-11*I\n"
     ]
    }
   ],
   "source": [
    "ntest = vector([1, 2])\n",
    "nPtest = vector([-3, -5])\n",
    "\n",
    "wn = omega*ntest\n",
    "wPn= omegaP*nPtest\n",
    "\n",
    "print(\"Theta based definitions\")\n",
    "print()\n",
    "print(\"Test P11:\")\n",
    "print(WeierstrassP11(2.0, 3.0) - WeierstrassP11(2.0 + 2*wn[0] + 2*wPn[0], 3.0 + 2*wn[1] + 2*wPn[1]))\n",
    "print()\n",
    "print(\"Test P13:\")\n",
    "print(WeierstrassP13(2.0, 3.0) - WeierstrassP13(2.0 + 2*wn[0] + 2*wPn[0], 3.0 + 2*wn[1] + 2*wPn[1]))\n",
    "print()\n",
    "print(\"Test P33:\")\n",
    "print(WeierstrassP33(2.0, 3.0) - WeierstrassP33(2.0 + 2*wn[0] + 2*wPn[0], 3.0 + 2*wn[1] + 2*wPn[1]))\n",
    "print()\n",
    "print()\n",
    "print(\"Sigma based definitions\")\n",
    "print()\n",
    "print(\"Test P11:\")\n",
    "print(Weierstrass2P11(2.0, 3.0) - Weierstrass2P11(2.0 + 2*wn[0] + 2*wPn[0], 3.0 + 2*wn[1] + 2*wPn[1]))\n",
    "print()\n",
    "print(\"Test P13:\")\n",
    "print(Weierstrass2P13(2.0, 3.0) - Weierstrass2P13(2.0 + 2*wn[0] + 2*wPn[0], 3.0 + 2*wn[1] + 2*wPn[1]))\n",
    "print()\n",
    "print(\"Test P33:\")\n",
    "print(Weierstrass2P33(2.0, 3.0) - Weierstrass2P33(2.0 + 2*wn[0] + 2*wPn[0], 3.0 + 2*wn[1] + 2*wPn[1]))"
   ]
  },
  {
   "cell_type": "code",
   "execution_count": 176,
   "id": "3a3ae9f4-4a3f-4c1e-896b-ae875e17f56e",
   "metadata": {},
   "outputs": [
    {
     "name": "stdout",
     "output_type": "stream",
     "text": [
      "Theta based definitions\n",
      "\n",
      "Test P11:\n",
      "1.53477230924182e-12 + 3.56692453351570e-12*I\n",
      "\n",
      "Test P13:\n",
      "2.06341610464733e-11 - 4.76347850053571e-11*I\n",
      "\n",
      "Test P33:\n",
      "-2.78532752417959e-12 + 1.07434061646927e-11*I\n",
      "\n",
      "\n",
      "Sigma based definitions\n",
      "\n",
      "Test P11:\n",
      "NaN + 5.66652644619727e-13*I\n",
      "\n",
      "Test P13:\n",
      "NaN - 2.45572160621783e-14*I\n",
      "\n",
      "Test P33:\n",
      "NaN - 5.13718652135446e-14*I\n"
     ]
    }
   ],
   "source": [
    "ntest = vector([10, -30])\n",
    "nPtest = vector([3, -3])\n",
    "\n",
    "wn = omega*ntest\n",
    "wPn= omegaP*nPtest\n",
    "\n",
    "print(\"Theta based definitions\")\n",
    "print()\n",
    "print(\"Test P11:\")\n",
    "print(WeierstrassP11(2.0, 3.0) - WeierstrassP11(2.0 + 2*wn[0] + 2*wPn[0], 3.0 + 2*wn[1] + 2*wPn[1]))\n",
    "print()\n",
    "print(\"Test P13:\")\n",
    "print(WeierstrassP13(2.0, 3.0) - WeierstrassP13(2.0 + 2*wn[0] + 2*wPn[0], 3.0 + 2*wn[1] + 2*wPn[1]))\n",
    "print()\n",
    "print(\"Test P33:\")\n",
    "print(WeierstrassP33(2.0, 3.0) - WeierstrassP33(2.0 + 2*wn[0] + 2*wPn[0], 3.0 + 2*wn[1] + 2*wPn[1]))\n",
    "print()\n",
    "print()\n",
    "print(\"Sigma based definitions\")\n",
    "print()\n",
    "print(\"Test P11:\")\n",
    "print(Weierstrass2P11(2.0, 3.0) - Weierstrass2P11(2.0 + 2*wn[0] + 2*wPn[0], 3.0 + 2*wn[1] + 2*wPn[1]))\n",
    "print()\n",
    "print(\"Test P13:\")\n",
    "print(Weierstrass2P13(2.0, 3.0) - Weierstrass2P13(2.0 + 2*wn[0] + 2*wPn[0], 3.0 + 2*wn[1] + 2*wPn[1]))\n",
    "print()\n",
    "print(\"Test P33:\")\n",
    "print(Weierstrass2P33(2.0, 3.0) - Weierstrass2P33(2.0 + 2*wn[0] + 2*wPn[0], 3.0 + 2*wn[1] + 2*wPn[1]))"
   ]
  },
  {
   "cell_type": "markdown",
   "id": "868fa592-0c67-49fe-9200-54e67dc9ead0",
   "metadata": {},
   "source": [
    "<div style=\"background-color:  rgba(255, 153, 153, 0.25); \n",
    "    font-family: 'Latin Modern Roman', Times, serif; font-size: 16px; border: 1px solid  rgb(255, 51,51); padding: 15px; border-radius: 5px; \">\n",
    "    <h4 style=\"font-size: 20px;color: rgb(255, 51,51);\">Important 3.</h4>\n",
    "    <p>\n",
    "    I'm not sure why (probably from the way SageMath deals with numerics) the above test is satisfied for arbitrary vectors $\\mathbf{n}$ however the coordinates of vectors $\\mathbf{n}'$ should be \"small\", i.e. $|n'_i|<4$.     \n",
    "</div>"
   ]
  },
  {
   "cell_type": "code",
   "execution_count": 177,
   "id": "dcd4a78f-7e7c-4bc7-8252-472bbf65ad3d",
   "metadata": {},
   "outputs": [
    {
     "name": "stdout",
     "output_type": "stream",
     "text": [
      "Theta based definitions\n",
      "\n",
      "Test P11:\n",
      "1455.83379737340 - 304.287205828748*I\n",
      "\n",
      "Test P13:\n",
      "1590.65313919950 - 3793.73914184472*I\n",
      "\n",
      "Test P33:\n",
      "-6146.83000392507 - 9574.88959406405*I\n",
      "\n",
      "\n",
      "Sigma based definitions\n",
      "\n",
      "Test P11:\n",
      "NaN + 5.66652644619727e-13*I\n",
      "\n",
      "Test P13:\n",
      "NaN - 2.45572160621783e-14*I\n",
      "\n",
      "Test P33:\n",
      "NaN - 5.13718652135446e-14*I\n"
     ]
    }
   ],
   "source": [
    "ntest = vector([1,2])\n",
    "nPtest = vector([4, -4])\n",
    "\n",
    "wn = omega*ntest\n",
    "wPn= omegaP*nPtest\n",
    "\n",
    "print(\"Theta based definitions\")\n",
    "print()\n",
    "print(\"Test P11:\")\n",
    "print(WeierstrassP11(2.0, 3.0) - WeierstrassP11(2.0 + 2*wn[0] + 2*wPn[0], 3.0 + 2*wn[1] + 2*wPn[1]))\n",
    "print()\n",
    "print(\"Test P13:\")\n",
    "print(WeierstrassP13(2.0, 3.0) - WeierstrassP13(2.0 + 2*wn[0] + 2*wPn[0], 3.0 + 2*wn[1] + 2*wPn[1]))\n",
    "print()\n",
    "print(\"Test P33:\")\n",
    "print(WeierstrassP33(2.0, 3.0) - WeierstrassP33(2.0 + 2*wn[0] + 2*wPn[0], 3.0 + 2*wn[1] + 2*wPn[1]))\n",
    "print()\n",
    "print()\n",
    "print(\"Sigma based definitions\")\n",
    "print()\n",
    "print(\"Test P11:\")\n",
    "print(Weierstrass2P11(2.0, 3.0) - Weierstrass2P11(2.0 + 2*wn[0] + 2*wPn[0], 3.0 + 2*wn[1] + 2*wPn[1]))\n",
    "print()\n",
    "print(\"Test P13:\")\n",
    "print(Weierstrass2P13(2.0, 3.0) - Weierstrass2P13(2.0 + 2*wn[0] + 2*wPn[0], 3.0 + 2*wn[1] + 2*wPn[1]))\n",
    "print()\n",
    "print(\"Test P33:\")\n",
    "print(Weierstrass2P33(2.0, 3.0) - Weierstrass2P33(2.0 + 2*wn[0] + 2*wPn[0], 3.0 + 2*wn[1] + 2*wPn[1]))"
   ]
  },
  {
   "cell_type": "markdown",
   "id": "d6503f36-1c77-41f7-b1c2-fd9aa002e593",
   "metadata": {},
   "source": [
    "<div style=\"background-color:  rgba(216, 220, 97, 0.25); \n",
    "    font-family: 'Latin Modern Roman', Times, serif; font-size: 16px; border: 1px solid  rgb(205,210,44); padding: 15px; border-radius: 5px; \">\n",
    "    <h3 style=\"font-size: 20px;color: rgb(205,210,44);\">Observation 3.</h3>\n",
    "    <p>\n",
    "    So neither of them is perfect, but for now the definition based directly on the theta function seems to work better.\n",
    "</p>\n",
    "</d>"
   ]
  },
  {
   "cell_type": "markdown",
   "id": "850231ec-e089-47f7-93df-03eb0ce3169d",
   "metadata": {},
   "source": [
    "<div style=\"font-family: 'Latin Modern Roman', Times, serif; font-size: 16px;\">\n",
    "<h2 style=\"font-size: 24px;\">7.2. Basic relations</h2>\n",
    "</div>\n",
    "\n",
    "<div style=\"font-family: 'Latin Modern Roman', Times, serif; font-size: 16px;\">\n",
    "<h3 style=\"font-size: 24px;\">I. </h3>\n",
    "</div>"
   ]
  },
  {
   "cell_type": "markdown",
   "id": "0a0340da-73f2-4337-9ca0-ddbbe7b980df",
   "metadata": {},
   "source": [
    "<div style=\"background-color:  rgba(224, 224, 224, 0.25); \n",
    "    font-family: 'Latin Modern Roman', Times, serif; font-size: 16px; border: 1px solid  rgb(192, 192, 192); padding: 15px; border-radius: 5px; \">\n",
    "    <h4 style=\"font-size: 20px;color: rgb(160, 160, 160);\">Definition 10.</h4>\n",
    "    <p>  \n",
    "        \n",
    "The following formula cames from <a href=\"https://arxiv.org/pdf/1810.11079\" target=\"_blank\">[5]</a> (Eq. 2.51) and <a href=\"https://iopscience.iop.org/article/10.1088/2399-6528/ac8521\" target=\"_blank\">[10]</a> (Eq. 3.16)\n",
    "\n",
    "$$\n",
    "       \\wp_{3333} = 6\\wp^2_{33} + \\lambda_2 \\wp_{33} + \\lambda_0 \\wp_{31} + \\frac{1}{8} \\lambda_4 \\lambda_0\n",
    "    $$\n",
    "\n",
    "</pre>\n",
    "</div>"
   ]
  },
  {
   "cell_type": "code",
   "execution_count": 64,
   "id": "b958f6f0-8603-4306-9853-9b1f46dac4bf",
   "metadata": {},
   "outputs": [
    {
     "data": {
      "text/plain": [
       "4915.77769350737 + 2.54056784741296e-10*I"
      ]
     },
     "execution_count": 64,
     "metadata": {},
     "output_type": "execute_result"
    }
   ],
   "source": [
    "u1 = 0.212131\n",
    "u3 = -2.231\n",
    "\n",
    "RHS = 6 * WeierstrassP33(u1,u3)^2 + l2 * WeierstrassP33(u1,u3) + l0 * WeierstrassP13(u1,u3) + (1/8)*l4*l0\n",
    "RHS"
   ]
  },
  {
   "cell_type": "code",
   "execution_count": 65,
   "id": "268d5699-9055-4d44-bcc9-dd0dd54eed11",
   "metadata": {},
   "outputs": [
    {
     "data": {
      "text/plain": [
       "2906.98446124335 - 7.02263052802300*I"
      ]
     },
     "execution_count": 65,
     "metadata": {},
     "output_type": "execute_result"
    }
   ],
   "source": [
    " WeierstrassP3333(u1,u3)"
   ]
  },
  {
   "cell_type": "markdown",
   "id": "c8251664-e7a1-4888-ab4a-4679f59b95ff",
   "metadata": {},
   "source": [
    "<div style=\"font-family: 'Latin Modern Roman', Times, serif; font-size: 16px;\">\n",
    "<h3 style=\"font-size: 24px;\">II. </h3>\n",
    "</div>"
   ]
  },
  {
   "cell_type": "markdown",
   "id": "b34c3c9e-5edc-4ef4-bfe7-cecd9e00422a",
   "metadata": {},
   "source": [
    "<div style=\"background-color:  rgba(224, 224, 224, 0.25); \n",
    "    font-family: 'Latin Modern Roman', Times, serif; font-size: 16px; border: 1px solid  rgb(192, 192, 192); padding: 15px; border-radius: 5px; \">\n",
    "    <h4 style=\"font-size: 20px;color: rgb(160, 160, 160);\">Definition 11.</h4>\n",
    "    <p> \n",
    "        \n",
    "The following formula cames from <a href=\"https://iopscience.iop.org/article/10.1088/2399-6528/ac8521\" target=\"_blank\"><em>[10]</a> (Eq. 4.11)\n",
    "\n",
    "$$\n",
    "        \\frac{\\sigma(\\mathbf{u} + \\mathbf{v}) \\sigma(\\mathbf{u} - \\mathbf{v}) }{\\sigma(\\mathbf{u})^2 \\sigma(\\mathbf{v})^2} = \\wp_{33}(\\mathbf{u}) \\wp_{31}(\\mathbf{v}) - \\wp_{31}(\\mathbf{u}) \\wp_{33}(\\mathbf{v}) - \\wp_{11}(\\mathbf{u}) + \\wp_{11}(\\mathbf{v})\n",
    "    $$\n",
    "\n",
    "</pre>\n",
    "</div>"
   ]
  },
  {
   "cell_type": "code",
   "execution_count": 75,
   "id": "d3a95597-2e46-407b-b29c-f02adb020b82",
   "metadata": {},
   "outputs": [
    {
     "name": "stdout",
     "output_type": "stream",
     "text": [
      "LHS: -0.0390350065536447 - 0.0934967676082124*I\n",
      "RHS: -20.5961738940590 + 3.37610662443392e-10*I\n",
      "C constant: 11.8659355731856 - 7.90453358423262*I\n"
     ]
    }
   ],
   "source": [
    "u1 = 1.2131\n",
    "u3 = 7.231\n",
    "v1 = -0.32131\n",
    "v3 = 9.1231\n",
    "\n",
    "LHS = (Tsigma(u1+v1, u3+v3) * Tsigma(u1-v1, u3-v3))/ (Tsigma(u1, u3)^2 * Tsigma(v1, v3)^2)\n",
    "\n",
    "RHS = WeierstrassP33(u1,u3) * WeierstrassP13(v1,v3) - WeierstrassP13(u1,u3) * WeierstrassP33(v1,v3) - WeierstrassP11(u1,u3) + WeierstrassP11(v1,v3)\n",
    "\n",
    "print(\"LHS:\", LHS)\n",
    "print(\"RHS:\", RHS)\n",
    "#the square root of a fraction should be equal to the constant C from the definition of the Sigma function\n",
    "print(\"C constant:\", sqrt(RHS/LHS))"
   ]
  },
  {
   "cell_type": "code",
   "execution_count": 76,
   "id": "b9e449f7-19b2-42b5-ad8e-ad065ff570c0",
   "metadata": {},
   "outputs": [
    {
     "name": "stdout",
     "output_type": "stream",
     "text": [
      "LHS: 0.526427255076640 + 1.26090017848217*I\n",
      "RHS: -15.2344920961918 + 1.94698290086709e-11*I\n",
      "C constant: 1.85120668169386 + 2.77894944513921*I\n"
     ]
    }
   ],
   "source": [
    "u1 = 0.212131\n",
    "u3 = -2.231\n",
    "v1 = -1.41232131\n",
    "v3 = 4.1231\n",
    "\n",
    "LHS = (Tsigma(u1+v1, u3+v3) * Tsigma(u1-v1, u3-v3))/ (Tsigma(u1, u3)^2 * Tsigma(v1, v3)^2)\n",
    "\n",
    "RHS = WeierstrassP33(u1,u3) * WeierstrassP13(v1,v3) - WeierstrassP13(u1,u3) * WeierstrassP33(v1,v3) - WeierstrassP11(u1,u3) + WeierstrassP11(v1,v3)\n",
    "\n",
    "print(\"LHS:\", LHS)\n",
    "print(\"RHS:\", RHS)\n",
    "#the square root of a fraction should be equal to the constant C from the definition of the Sigma function\n",
    "print(\"C constant:\", sqrt(RHS/LHS))"
   ]
  },
  {
   "cell_type": "markdown",
   "id": "7ab45422-2054-46fa-9e4b-7ba9f8cb5a7d",
   "metadata": {},
   "source": [
    "<div style=\"background-color:  rgba(216, 220, 97, 0.25); \n",
    "    font-family: 'Latin Modern Roman', Times, serif; font-size: 16px; border: 1px solid  rgb(205,210,44); padding: 15px; border-radius: 5px; \">\n",
    "    <h3 style=\"font-size: 20px;color: rgb(205,210,44);\">Observation 4.</h3>\n",
    "    <p>\n",
    "    This is very wrong.\n",
    "</p>\n",
    "</d>"
   ]
  },
  {
   "cell_type": "markdown",
   "id": "351fa355-f96e-40c7-9410-c5c6c770aa5a",
   "metadata": {},
   "source": [
    "<div style=\"font-family: 'Latin Modern Roman', Times, serif; font-size: 16px;\">\n",
    "<h1 style=\"font-size: 24px;\">8. Jacobi inversion problem on branch points</h1>\n",
    "</div>"
   ]
  },
  {
   "cell_type": "markdown",
   "id": "a7ffce95-62f1-4257-9675-c3534bd3649b",
   "metadata": {},
   "source": [
    "<div style=\"font-family: 'Latin Modern Roman', Times, serif; font-size: 16px;\">\n",
    "<p>\n",
    "    Let $\\mathbf{u}=\\mathcal{A}(D)$ be the Abel image of a degree g positive non-special divisor $D$ on the curve. Then $D$ is uniquely defined by the system of equations:\n",
    "    $$\n",
    "        \\mathcal{R}_{2g}(x;\\mathbf{u}) = x^g - \\sum_{i=1}^g x^{g-1} \\wp_{1,2i-1}(\\mathbf{u}) =0,\n",
    "    $$\n",
    "    $$\n",
    "        \\mathcal{R}_{2g+1}(x,y;\\mathbf{u}) = 2y + \\sum_{i=1}^{g-i} x^{g-1} \\wp_{1,1,2i-1}(\\mathbf{u}) =0.\n",
    "    $$\n",
    "    So in case of $g=2$:    \n",
    "    $$\n",
    "        \\mathcal{R}_4(x;\\mathbf{u})=x^2 - x\\wp_{11}(\\mathbf{u})- \\wp_{13}(\\mathbf{u})=0,\n",
    "    $$    \n",
    "    $$\n",
    "        \\mathcal{R}_5 (x;\\mathbf{u})= 2y + x\\wp_{111}(\\mathbf{u}) + \\wp_{113}(\\mathbf{u})=0.\n",
    "    $$    \n",
    "</p>\n",
    "</d>"
   ]
  },
  {
   "cell_type": "markdown",
   "id": "49e0503f-0b9a-4ab4-98a2-1fbe04bd4885",
   "metadata": {},
   "source": [
    "<div style=\"font-family: 'Latin Modern Roman', Times, serif; font-size: 16px;\">\n",
    "<h2 style=\"font-size: 24px;\">8.1. Divisor</h2>\n",
    "</div>"
   ]
  },
  {
   "cell_type": "markdown",
   "id": "93e8d531-e1a0-4bbe-94cf-2f5a470bb679",
   "metadata": {},
   "source": [
    "<div style=\"background-color:  rgba(224, 224, 224, 0.25); \n",
    "    font-family: 'Latin Modern Roman', Times, serif; font-size: 16px; border: 1px solid  rgb(192, 192, 192); padding: 15px; border-radius: 5px; \">\n",
    "    <h3 style=\"font-size: 20px;color: rgb(160, 160, 160);\">Definition 12.</h3>\n",
    "    <p>        \n",
    "        Let \n",
    "        $$\n",
    "            D=\\sum_{i=1}^n P_i,\n",
    "        $$\n",
    "        be a divisor on a curve $\\mathscr{C}$. We assume that $D$ is <b>non-special</b>, that is \n",
    "        <ul>\n",
    "          <li> $ n\\geq g$,\n",
    "          <li> $D$ does not contain pairs of points connected by the hyperelliptic involution.\n",
    "        </ul>\n",
    "    </p>    \n",
    "</div>"
   ]
  },
  {
   "cell_type": "markdown",
   "id": "aa0db3de-733b-4620-b843-890bf3762e60",
   "metadata": {},
   "source": [
    "<div style=\"background-color:  rgba(153, 204, 255, 0.25); \n",
    "    font-family: 'Latin Modern Roman', Times, serif; font-size: 16px; border: 1px solid  rgb(0, 128,255); padding: 15px; border-radius: 5px; \">\n",
    "    <h3 style=\"font-size: 20px;color: rgb(0, 128,255);\">Note 8.</h3>\n",
    "    <p>\n",
    "    On special divisors $\\sigma$-function vanishes, and so $\\wp$-functions have singularities.\n",
    "  </p>\n",
    "</div>"
   ]
  },
  {
   "cell_type": "markdown",
   "id": "70a215ff-ca4b-4539-b52a-431a686b0d36",
   "metadata": {},
   "source": [
    "<div style=\"font-family: 'Latin Modern Roman', Times, serif; font-size: 16px;\">\n",
    "<p>\n",
    "As a point $P_i$ we choose\n",
    "$$\n",
    "    P_i = (x_i,y_i) = (x_i, y_{+}(x_i)),\n",
    "$$\n",
    "where $y_{+}(x) = + \\sqrt{y^2(x)}$ (there is second option $y_{-}(x) = - \\sqrt{y^2(x)}$ ). \n",
    "\n",
    "In our case let's take\n",
    "$$\n",
    "    P_1 = (x_1, y_1)=(1.5,y_{+}(1.5))\n",
    "$$\n",
    "$$\n",
    "    P_2 = (x_2, y_2)=(3.1,y_{+}(3.1))\n",
    "$$\n",
    "</p> \n",
    "</div>"
   ]
  },
  {
   "cell_type": "code",
   "execution_count": 69,
   "id": "1b753b5e-7c68-4a10-910b-88741200b2e6",
   "metadata": {},
   "outputs": [],
   "source": [
    "# Definition of y function \n",
    "def y(x):\n",
    "    res = sqrt(l0*x^5 + l2*x^4 + l4*x^3 + l6*x^2 + l8*x + l10)\n",
    "    return res.n()"
   ]
  },
  {
   "cell_type": "markdown",
   "id": "adbfc3f8-928e-42ef-929f-f5f644c5b7c9",
   "metadata": {},
   "source": [
    "<div style=\"font-family: 'Latin Modern Roman', Times, serif; font-size: 16px;\">\n",
    "<p>\n",
    "    To calculate $\\mathbf{u}$ I will use the Sage function:  <code style=\"color: #66d9ef;font-size: 13px;\">abel_jacobi()</code>, \n",
    "    where it expects lists of tuples in the format  <code style=\"color: #66d9ef;font-size: 13px;font-size: 13px;\">(v,P)</code>, where  <code style=\"color: #66d9ef;font-size: 13px;\">v</code> is the multiplicity of the point in the divisor (in our case 1 for both points), and  <code style=\"color: #66d9ef;font-size: 13px;\">P</code> is a tuple  <code style=\"color: #66d9ef;font-size: 13px;\">(x,y)</code> representing the point on the curve. \n",
    "\n",
    "The multiplicity <code style=\"color: #66d9ef;font-size: 13px;\">v</code> (also called valuation) in the context of divisors determines how many times a given point appears in the divisor. Here are some key points:\n",
    "<ul>\n",
    "    <li> For regular points on the curve that are neither singular points nor points at infinity, typically $v = 1$ or $v = -1$ is used.\n",
    "$v = 1$ means the point appears positively in the divisor (it is \"added\").\n",
    "    <li> $v = -1$ means the point appears negatively in the divisor (it is \"subtracted\").\n",
    "    <li> If a point appears multiple times, $v$ can be greater than 1 or less than -1.\n",
    "    <li> For special points (e.g., points at infinity or singular points), v may take other values depending on the local structure of the curve at that point.\n",
    "</ul>\n",
    "\n",
    "In your case, where you define the divisor as a sum of two regular points: <code style=\"color: #66d9ef;font-size: 13px;\">D = [x1 + x2, y1 + y2]</code>\n",
    "\n",
    "each of these points appears once positively in the divisor, so for both points <code style=\"color: #66d9ef;font-size: 13px;\">v = 1</code>.\n",
    "Therefore, divisor in the format suitable for the <code style=\"color: #66d9ef;font-size: 13px;\">abel_jacobi()</code> function would look like this:    \n",
    "</p>\n",
    "</div> "
   ]
  },
  {
   "cell_type": "code",
   "execution_count": 71,
   "id": "cd20541a-b2d6-4abb-8da6-bb16765fa39b",
   "metadata": {},
   "outputs": [],
   "source": [
    "x1 = 0.256\n",
    "x2 = 11.721\n",
    "\n",
    "y1 = y(x1)\n",
    "y2 = y(x2)\n",
    "\n",
    "# P_i points\n",
    "P1 = [ x1, y1 ] \n",
    "P2 = [ x2, y2 ]\n",
    "\n",
    "# Divisor\n",
    "divisor = [(1, (x1, y1)), (1, (x2, y2))]"
   ]
  },
  {
   "cell_type": "markdown",
   "id": "703f907e-0a7f-4c7d-bcdf-7ccc6d7026eb",
   "metadata": {},
   "source": [
    "<div style=\"background-color:  rgba(153, 204, 255, 0.25); \n",
    "    font-family: 'Latin Modern Roman', Times, serif; font-size: 16px; border: 1px solid  rgb(0, 128,255); padding: 15px; border-radius: 5px; \">\n",
    "    <h3 style=\"font-size: 20px;color: rgb(0, 128,255);\">Note 9.</h3>\n",
    "    <p>\n",
    "    If one wanted to define a more complex divisor, for example, the difference of two points, it might look like this:<br>\n",
    "        <code style=\"color: #66d9ef;font-size: 13px;\">divisor = [(1, (x1, y1)), (-1, (x2, y2))]</code><br>\n",
    "    where -1 indicates that the second point is subtracted in the divisor.\n",
    "  </p>\n",
    "</div>"
   ]
  },
  {
   "cell_type": "code",
   "execution_count": 72,
   "id": "d989969f-dec2-4ebd-9cf2-7c3d499fa1d4",
   "metadata": {},
   "outputs": [
    {
     "name": "stdout",
     "output_type": "stream",
     "text": [
      "(-0.095227328487916328568064649224 - 0.47103938123276306779408678278*I, -0.94610300133296732955826058561 - 0.36651365565790567383047992719*I)\n"
     ]
    }
   ],
   "source": [
    "AJ = S.abel_jacobi(divisor)\n",
    "\n",
    "print(AJ)"
   ]
  },
  {
   "cell_type": "markdown",
   "id": "7989ce99-3c37-496e-a261-fd4c24b9dfa5",
   "metadata": {},
   "source": [
    "<div style=\"font-family: 'Latin Modern Roman', Times, serif; font-size: 16px;\">\n",
    "<h2 style=\"font-size: 24px;\">8.2. Tests</h2>\n",
    "</div>"
   ]
  },
  {
   "cell_type": "code",
   "execution_count": 73,
   "id": "978f4429-cb60-469e-a8cb-a947ff5c4fa3",
   "metadata": {},
   "outputs": [
    {
     "name": "stdout",
     "output_type": "stream",
     "text": [
      "P11(u):\n",
      "6.36829653384855 - 4.59081552648907*I\n",
      "P13(u):\n",
      "-9.85938695314929 - 1.97507933943479*I\n",
      "P33(u):\n",
      "-23.8259011047188 + 49.1062328287844*I\n"
     ]
    }
   ],
   "source": [
    "u1=AJ[0]\n",
    "u3=AJ[1]\n",
    "\n",
    "print(\"P11(u):\")\n",
    "print(WeierstrassP11(u1, u3))\n",
    "\n",
    "print(\"P13(u):\")\n",
    "print(WeierstrassP13(u1, u3))\n",
    "\n",
    "print(\"P33(u):\")\n",
    "print(WeierstrassP33(u1, u3))"
   ]
  },
  {
   "cell_type": "code",
   "execution_count": 74,
   "id": "c116cf42-ab00-4d50-a23d-3b567867e28f",
   "metadata": {},
   "outputs": [
    {
     "data": {
      "text/plain": [
       "x^2 - 11.9770000000000*x + 3.00057600000000"
      ]
     },
     "execution_count": 74,
     "metadata": {},
     "output_type": "execute_result"
    }
   ],
   "source": [
    "mat1R4=[[1, x, x^2],[ 1, x1, x1^2], [1, x2, x2^2]]\n",
    "det1=matrix(mat1R4).determinant()\n",
    "mat2R4=[[ 1, x1], [1, x2]]\n",
    "det2=matrix(mat2R4).determinant()\n",
    "det1/det2"
   ]
  },
  {
   "cell_type": "markdown",
   "id": "9e3fe95c-43c5-499a-a1f8-6168d47ec612",
   "metadata": {},
   "source": [
    "<div style=\"font-family: 'Latin Modern Roman', Times, serif; font-size: 16px;\">\n",
    "<p>\n",
    "We should get:\n",
    "$$\n",
    "        x^2 - \\wp_{11}(\\mathbf{u}) \\;x - \\wp_{13}(\\mathbf{u})=0,\n",
    "$$\n",
    "</p>\n",
    "</div> "
   ]
  },
  {
   "cell_type": "markdown",
   "id": "86330f32-37f0-403e-a4a3-7ed5bf6317f0",
   "metadata": {},
   "source": [
    "<div style=\"background-color:  rgba(216, 220, 97, 0.25); \n",
    "    font-family: 'Latin Modern Roman', Times, serif; font-size: 16px; border: 1px solid  rgb(205,210,44); padding: 15px; border-radius: 5px; \">\n",
    "    <h3 style=\"font-size: 20px;color: rgb(205,210,44);\">Observation 5.</h3>\n",
    "    <p>\n",
    "    Ok, this is bad.\n",
    "  </p>\n",
    "</div>"
   ]
  },
  {
   "cell_type": "markdown",
   "id": "c6f9525d-b400-44f1-8c3e-f1a20f728125",
   "metadata": {},
   "source": [
    "<div style=\"font-family: 'Latin Modern Roman', Times, serif; font-size: 16px;\">\n",
    "<h1 style=\"font-size: 32px;\"> Literature </h1>\n",
    "    <ol type=\"1\">\n",
    "        <li> \n",
    "            Julia Bernatska, <em>Computation of $\\wp$-functions on plane algebraic curves</em>,  arXiv (2024),<br>\n",
    "            URL: <a href=\"https://arxiv.org/abs/2407.05632\" target=\"_blank\">https://arxiv.org/abs/2407.05632</a> </li>\n",
    "        <li>\n",
    "            Julia Bernatska, <em>Uniformization of a genus 4 hyperelliptic curve with arbitrary complex branch points</em>, Wolfram Community (2024),<br>\n",
    "            URL: <a href=\"https://community.wolfram.com/groups/-/m/t/3243472\" target=\"_blank\">https://community.wolfram.com/groups/-/m/t/3243472</a> </li>\n",
    "        <li> \n",
    "            SageMath Documentation, <em>Riemann matrices and endomorphism rings of algebraic Riemann surfaces</em>,<br>\n",
    "            URL:<a href=\"https://doc.sagemath.org/html/en/reference/curves/sage/schemes/riemann_surfaces/riemann_surface.html#sage.schemes.riemann_surfaces.riemann_surface.RiemannSurface\"\n",
    "target=\"_blank\">https://doc.sagemath.org/html/en/reference/curves/sage/schemes/riemann_surfaces/riemann_surface.html#sage.schemes.riemann_surfaces.riemann_surface.RiemannSurface</a></li>\n",
    "        <li> \n",
    "            V.M.Buchstaber, V.Z. Enolski, and D.V.Leykin, <em>Hyperelliptic Kleinian function and applications</em>, arXiv (1996), <br>\n",
    "            URL: <a href=\"https://arxiv.org/pdf/solv-int/9603005\" target=\"_blank\">https://arxiv.org/pdf/solv-int/9603005</a></li>\n",
    "        <li> \n",
    "            V.M.Buchstaber, V.Z. Enolski, and D.V.Leykin, <em>Multi-variable sigma-functions: old and new results</em>, arXiv (2018), <br>\n",
    "            URL: <a href=\"https://arxiv.org/pdf/1810.11079\" target=\"_blank\">https://arxiv.org/pdf/1810.11079</a></li>\n",
    "        <li> \n",
    "            J. C. Eilbeck, J. Gibbons, Y. Onishi, and S. Yasuda, <em>Theory of Heat Equations for Sigma Functions</em>, arXiv (2018), <br>\n",
    "            URL: <a href=\"https://arxiv.org/pdf/1711.08395\" target=\"_blank\">https://arxiv.org/pdf/1711.08395</a></li> \n",
    "        <li> \n",
    "            V. Z. Enolski, B. Hartmann, V. Kagramanova, J. Kunz, C. Lammerzahl, P. Sirimachan, <em>Inversion of a general hyperelliptic integral and particle motion in Horava-Lifshitz black hole space-times </em>, arXiv (2011), <br>\n",
    "            URL: <a href=\"https://arxiv.org/pdf/1106.2408\" target=\"_blank\">https://arxiv.org/pdf/1106.2408</a></li>\n",
    "        <li>\n",
    "            Athorne C., Eilbeck J.C., Enolskii V.Z., <em>A SL(2) covariant theory of genus 2 hyperelliptic functions</em>, Math. Proc. Cambridge Philos. Soc. 136 (2004), 269–286,<br>\n",
    "            URL: <a href=\"https://www.cambridge.org/core/journals/mathematical-proceedings-of-the-cambridge-philosophical-society/article/abs/sl2-covariant-theory-of-genus-2-hyperelliptic-functions/2EE97A3BFFF5F70DE28F31560F0AC482\" target=\"_blank\"><em>https://www.cambridge.org/core/journals/mathematical-proceedings-of-the-cambridge-philosophical-society/article/abs/sl2-covariant-theory-of-genus-2-hyperelliptic-functions/2EE97A3BFFF5F70DE28F31560F0AC482</a>\n",
    "        </li>\n",
    "        <li>\n",
    "            H. F. Baker, <em>An Introduction to the theory of multiply periodic functions</em>,(1907),<br>\n",
    "        </li>\n",
    "        <li>\n",
    "            M. Hayashi, K. Shigemoto and T. Tsukioka, <em>The half-period addition formulae for genus two hyperelliptic ℘ functions and the Sp(4, R) Lie group structure</em>, J. Phys. Commun. 6 085004 (2022)<br>\n",
    "            URL: <a href=\"https://iopscience.iop.org/article/10.1088/2399-6528/ac8521\" target=\"_blank\"><em>https://iopscience.iop.org/article/10.1088/2399-6528/ac8521</a>\n",
    "        </li>\n",
    "\n",
    "</ol>\n",
    "</div>"
   ]
  },
  {
   "cell_type": "code",
   "execution_count": null,
   "id": "a27de374-ae0c-401d-ba7d-c0651053a3e5",
   "metadata": {},
   "outputs": [],
   "source": []
  }
 ],
 "metadata": {
  "kernelspec": {
   "display_name": "SageMath 10.4",
   "language": "sage",
   "name": "sagemath-10.4"
  },
  "language_info": {
   "codemirror_mode": {
    "name": "ipython",
    "version": 3
   },
   "file_extension": ".py",
   "mimetype": "text/x-python",
   "name": "python",
   "nbconvert_exporter": "python",
   "pygments_lexer": "ipython3",
   "version": "3.12.4"
  }
 },
 "nbformat": 4,
 "nbformat_minor": 5
}
