{
 "cells": [
  {
   "cell_type": "markdown",
   "id": "5e2b586e-887d-486b-a6b1-43f1a8db41bb",
   "metadata": {},
   "source": [
    "<div style=\"font-family: 'Latin Modern Roman', Times, serif; font-size: 16px;\">\n",
    "<h1 style=\"font-size: 32px;\">Introduction</h1>\n",
    "<p>\n",
    "    The notebook presented here is based on the work of Julia Bernatska <a href=\"https://arxiv.org/abs/2407.05632\" target=\"_blank\">[1]</a> . Additionally, I used an article posted on WolframCommunity <a href=\"https://community.wolfram.com/groups/-/m/t/3243472\" target=\"_blank\">[2]</a> and the code attached to it: <em>AMap-CHyp-Exmpl1-Publ.nb</em>\n",
    "</p>\n",
    "<p>\n",
    "The code is also based on the <em>SageMath Riemann surfaces</em> documentation <a href=\"https://doc.sagemath.org/html/en/reference/curves/sage/schemes/riemann_surfaces/riemann_surface.html#sage.schemes.riemann_surfaces.riemann_surface.RiemannSurface\"\n",
    "target=\"_blank\">[3]</a>\n",
    "</p>\n",
    "<p>    \n",
    "<p>\n",
    "The general purpose of this Notebook is to present code that can compute the generalised Wierstrass $\\wp_{ij}$ function (sometimes called Klein's functions) for a hyperelliptic curve of genus 2.\n",
    "</p>\n",
    "</div>"
   ]
  },
  {
   "cell_type": "markdown",
   "id": "d4020a2f-8aaf-4356-806d-b9d692b732dd",
   "metadata": {},
   "source": [
    "<div style=\"font-family: 'Latin Modern Roman', Times, serif; font-size: 16px;\">\n",
    "<h1 style=\"font-size: 32px;\">1. Preliminaries</h1>\n",
    "<p>\n",
    "    Many works on hyperelliptic functions and Riemann surfaces use similar notation, leading to potential collisions. To avoid this, I provide a legend of notations.\n",
    "</p>\n",
    "<h3 style=\"font-size: 24px;\">1.1. Legend</h3>\n",
    "    <ul>\n",
    "        <li>$\\mathscr{C}$ - Curve</li>\n",
    "        <li>$X$ - Riemann surface</li>\n",
    "        <li>$e_i$ - branch points</li>\n",
    "        <li>$w$ - An Abelian differential on the Riemann surface $X$</li>\n",
    "        <li>$W$ - general Abelian integral</li>\n",
    "        <li>$A$, $B$ - A- and B-periods of the differential $w=dW$</li>        \n",
    "        <li>$du$ - First kind differential</li>\n",
    "        <li>$dr$ - Second kind differential</li>\n",
    "        <li>$dl$ - Third kind differential</li>\n",
    "        <li>$\\mathfrak{a}_i, \\mathfrak{b}_i$ - Canonical homology cycles</li>\n",
    "        <li>$\\omega$ -  First kind integrals</li>\n",
    "        <li>$\\eta$ - Second kind integrals</li>\n",
    "        <li>$\\lambda$ - Third kind integrals</li>\n",
    "        <li>$\\mathcal{A}$ - Abel map</li>\n",
    "        <li>$\\mathfrak{m}(\\mathbf{u})$ - A meromorphic function of $\\mathbf{u}\\in\\mathbb{C}^g$</li>\n",
    "        <li>$\\Omega$ - Periodic matrices</li>\n",
    "        <li>$\\Lambda$ - Lattice</li>\n",
    "        <li>$\\mathrm{Jac}(\\mathscr{C})$ - Jacobian variety of the curve $\\mathscr{C}$</li>\n",
    "        <li>$D$ - Divisor  on the Riemann surface $X$</li>\n",
    "</ul>\n",
    "<p>\n",
    "    Now we present the basic definitions\n",
    "</p>    \n",
    "</div>"
   ]
  },
  {
   "cell_type": "markdown",
   "id": "5d703988-5150-4da1-92d7-3454f97dcee5",
   "metadata": {},
   "source": [
    "<div>\n",
    "<h3 style=\"font-family: 'Latin Modern Roman', Times, serif; font-size: 24px;\"> 1.2. Hyperelliptic curve</h3>\n",
    "</div>"
   ]
  },
  {
   "cell_type": "markdown",
   "id": "c6cef5bd-6f1a-4fd7-b588-bd0b9883e9c4",
   "metadata": {},
   "source": [
    "<div style=\"background-color:  rgba(224, 224, 224, 0.25); \n",
    "    font-family: 'Latin Modern Roman', Times, serif; font-size: 16px; border: 1px solid  rgb(192, 192, 192); padding: 15px; border-radius: 5px; \">\n",
    "    <h4 style=\"font-size: 20px;color: rgb(160, 160, 160);\">Definition 1.</h4>\n",
    "    <p>    \n",
    "        The hyperelliptic curve is defined by the equation\n",
    "        $$\n",
    "            \\mathscr{C} = \\{ (x,y)\\in \\mathbb{C}^2 \\mid f(x,y)= \\},\n",
    "        $$\n",
    "        where\n",
    "        $$\n",
    "            $f(x,y) = -y^2 + x^{2g+1} + \\sum_{i=0}^{2g}\\lambda_{2i+2}x^{2g-i}, \\quad \\lambda_{k\\leq0}=0,\\; \\lambda_0 =1, \\; \\lambda_k \\in \\mathbb{R}.$\n",
    "        $$\n",
    "    </p>\n",
    "</div>\n"
   ]
  },
  {
   "cell_type": "markdown",
   "id": "1862d913-d721-4977-8031-b308663d86b8",
   "metadata": {},
   "source": [
    "<div style=\"background-color:  rgba(153, 204, 255, 0.25); \n",
    "    font-family: 'Latin Modern Roman', Times, serif; font-size: 16px; border: 1px solid  rgb(0, 128,255); padding: 15px; border-radius: 5px; \">\n",
    "    <h4 style=\"font-size: 20px;color: rgb(0, 128,255);\">Note 1.</h4>\n",
    "    <p>\n",
    "    <ul>\n",
    "        <li> We use convention from <em>Computation of $\\wp$-functions on plane algebraic curves</em>, Julia Bernatska (2024).\n",
    "        <li> We are working with physical equations where $\\lambda_k \\in \\mathbb{R}$ instead of $\\lambda_k \\in \\mathbb{C}$ which can be found in various texts. \n",
    "    </ul>            \n",
    "  </p>\n",
    "</div>"
   ]
  },
  {
   "cell_type": "markdown",
   "id": "23b4125d-3201-43de-bf1b-f76cd9361819",
   "metadata": {},
   "source": [
    "<div style=\"font-family: 'Latin Modern Roman', Times, serif; font-size: 16px;\">\n",
    "<p>\n",
    "    So for a curve of genus $g=2$ we get\n",
    "    $$\n",
    "        f(x,y) = -y^2 + \\lambda_0 x^5 + \\lambda_2 x^4 + \\lambda_4 x^3+ \\lambda_6 x^2+ \\lambda_8 x+ \\lambda_{10},\n",
    "    $$   \n",
    "    Let's load the appropriate SageMath library and define the curve $\\mathscr{C}$\n",
    "</p>    \n",
    "</div>"
   ]
  },
  {
   "cell_type": "code",
   "execution_count": 2,
   "id": "e9c0e6c5-202d-4fea-a25c-f60bb15c676f",
   "metadata": {},
   "outputs": [],
   "source": [
    "from sage.schemes.riemann_surfaces.riemann_surface import RiemannSurface"
   ]
  },
  {
   "cell_type": "code",
   "execution_count": 3,
   "id": "4f8afead-1bc6-4be7-ab99-3e4e5e9831c9",
   "metadata": {},
   "outputs": [],
   "source": [
    "# Defines the lambda coefficients\n",
    "lambda0 = 1.0\n",
    "lambda2 = 12.0\n",
    "lambda4 = 2.0\n",
    "lambda6  = 0.9\n",
    "lambda8  = 21.0\n",
    "lambda10  = 10.0"
   ]
  },
  {
   "cell_type": "markdown",
   "id": "d25e2ffb-7b7d-4779-a54a-4ddc3ec22acf",
   "metadata": {},
   "source": [
    "<div style=\"background-color:  rgba(255, 153, 153, 0.25); \n",
    "    font-family: 'Latin Modern Roman', Times, serif; font-size: 16px; border: 1px solid  rgb(255, 51,51); padding: 15px; border-radius: 5px; \">\n",
    "    <h4 style=\"font-size: 20px;color: rgb(255, 51,51);\">Important 1.</h4>\n",
    "    <p>\n",
    "        The coefficients above must be real-floating-point numbers        \n",
    "    </p>\n",
    "</div>"
   ]
  },
  {
   "cell_type": "markdown",
   "id": "3d00e6b9-7f31-4181-a037-68b9a1c4a844",
   "metadata": {},
   "source": [
    "<div style=\"font-family: 'Latin Modern Roman', Times, serif; font-size: 16px;\">\n",
    "<p>\n",
    "    Since the current Sage library only works well on the field of rational numbers, we have to approximate all function coefficients by these numbers.\n",
    "</p>\n",
    "</div>"
   ]
  },
  {
   "cell_type": "code",
   "execution_count": 4,
   "id": "3e7611f7-0ba6-49f2-b598-2318127f8479",
   "metadata": {},
   "outputs": [],
   "source": [
    "# Rational approximation\n",
    "l0 = lambda0.nearby_rational(max_error=1e-10)\n",
    "l2 = lambda2.nearby_rational(max_error=1e-10)\n",
    "l4 = lambda4.nearby_rational(max_error=1e-10)\n",
    "l6 = lambda6.nearby_rational(max_error=1e-10)\n",
    "l8 = lambda8.nearby_rational(max_error=1e-10)\n",
    "l10 = lambda10.nearby_rational(max_error=1e-10)"
   ]
  },
  {
   "cell_type": "markdown",
   "id": "b25e02a9-e6a2-4dbc-934f-9387413e73e8",
   "metadata": {},
   "source": [
    "<div style=\"font-family: 'Latin Modern Roman', Times, serif; font-size: 16px;\">\n",
    "<p>\n",
    "    Next, we need to define the variables $x$ and $y$ in the ring of polynomials over the rational numbers.\n",
    "</p>\n",
    "</div>"
   ]
  },
  {
   "cell_type": "code",
   "execution_count": 5,
   "id": "c83cfab5-082a-47f8-aabf-9f8935ef98df",
   "metadata": {},
   "outputs": [],
   "source": [
    "R.<x, y> = PolynomialRing(QQ, 2)"
   ]
  },
  {
   "cell_type": "markdown",
   "id": "fa759787-8130-4d5e-8f53-f8a1d01d43e5",
   "metadata": {},
   "source": [
    "<div style=\"background-color:  rgba(153, 204, 255, 0.25); \n",
    "    font-family: 'Latin Modern Roman', Times, serif; font-size: 16px; border: 1px solid  rgb(0, 128,255); padding: 15px; border-radius: 5px; \">\n",
    "    <h4 style=\"font-size: 20px;color: rgb(0, 128,255);\">Note 2.</h4>\n",
    "    <p>\n",
    "        The order of variables can be important depending on how you write your polynomial. Make sure you use the same order in your polynomial expression.        \n",
    "    </p>\n",
    "</div>"
   ]
  },
  {
   "cell_type": "code",
   "execution_count": 6,
   "id": "2c329640-040b-4e31-9d7d-20473d53e4a6",
   "metadata": {},
   "outputs": [],
   "source": [
    "# Defining the polynomial f\n",
    "f = -y^2 + l0*x^5 + l2*x^4 + l4*x^3 + l6*x^2 + l8*x + l10"
   ]
  },
  {
   "cell_type": "markdown",
   "id": "80cca492-93d3-4307-b8a3-5d08a9b15aad",
   "metadata": {},
   "source": [
    "<div>\n",
    "<h3 style=\"font-family: 'Latin Modern Roman', Times, serif; font-size: 24px;\">1.3. Riemann surface</h3>\n",
    "</div>"
   ]
  },
  {
   "cell_type": "markdown",
   "id": "ad92abf1-0e58-4b88-b15a-8d2a313fbbc9",
   "metadata": {},
   "source": [
    "<div style=\"background-color:  rgba(224, 224, 224, 0.25); \n",
    "    font-family: 'Latin Modern Roman', Times, serif; font-size: 16px; border: 1px solid  rgb(192, 192, 192); padding: 15px; border-radius: 5px; \">\n",
    "    <h4 style=\"font-size: 20px;color: rgb(160, 160, 160);\">Definition 2. </h4>\n",
    "    <p>    \n",
    "        A Riemann surface $X$ is a connected two-dimensional topological manifold with a complex-analytic structure on it. \n",
    "    </p>    \n",
    "</div>"
   ]
  },
  {
   "cell_type": "markdown",
   "id": "2a2583d3-bafb-4c47-a327-81666c75cdc9",
   "metadata": {},
   "source": [
    "<div style=\"font-family: 'Latin Modern Roman', Times, serif; font-size: 16px;\">\n",
    "<p>\n",
    "    The SageMath library has a special function that allows us to generate the appropriate Riemann surface on which we will continue our work.\n",
    "</p>\n",
    "</div>"
   ]
  },
  {
   "cell_type": "code",
   "execution_count": 7,
   "id": "13fc8b6e-d997-4230-a1ac-3665bc5799e7",
   "metadata": {},
   "outputs": [],
   "source": [
    "S = RiemannSurface(f, prec=100)"
   ]
  },
  {
   "cell_type": "markdown",
   "id": "e9a92cc1-de4c-4c05-a758-16ef0cd28bf8",
   "metadata": {},
   "source": [
    "<div>\n",
    "<h3 style=\"font-family: 'Latin Modern Roman', Times, serif; font-size: 24px;\">1.4. Branch points</h3>\n",
    "</div>"
   ]
  },
  {
   "cell_type": "markdown",
   "id": "82d5b078-35d9-431a-9ca3-79ccca6007da",
   "metadata": {},
   "source": [
    "<div style=\"font-family: 'Latin Modern Roman', Times, serif; font-size: 16px;\">\n",
    "<p>\n",
    "    We can easily define a function that based on the $\\lambda_{2i}$ coefficients will print all the branch points $e_i$ given by\n",
    "    $$\n",
    "        y^2 =(x-e_1)(x-e_2)(x-e_3)(x-e_4)(x-e_5).\n",
    "    $$    \n",
    "</p>\n",
    "</div>"
   ]
  },
  {
   "cell_type": "code",
   "execution_count": 73,
   "id": "49c22004-77c2-4c0e-a430-c013a6e4118d",
   "metadata": {},
   "outputs": [],
   "source": [
    "def find_branch_points(ll0, ll2, ll4, ll6, ll8, ll10):\n",
    "    # We define a ring of polynomials over the field of complex numbers\n",
    "    CC_poly.<x> = PolynomialRing(CC)\n",
    "    \n",
    "    # We create a polynomial\n",
    "    pol = ll0*x^5 + ll2*x^4 + ll4*x^3 + ll6*x^2 + ll8*x + ll10\n",
    "    \n",
    "    # We find roots\n",
    "    roots = pol.roots(multiplicities=False)\n",
    "    \n",
    "    # We add a point at infinity if the degree of the polynomial is odd\n",
    "    if pol.degree() % 2 == 1:\n",
    "        roots.append(infinity)\n",
    "    \n",
    "    return roots"
   ]
  },
  {
   "cell_type": "markdown",
   "id": "fbe2cc9a-96d5-4f9c-853b-4c6e018fd605",
   "metadata": {},
   "source": [
    "<div style=\"background-color:  rgba(153, 204, 255, 0.25); \n",
    "    font-family: 'Latin Modern Roman', Times, serif; font-size: 16px; border: 1px solid  rgb(0, 128,255); padding: 15px; border-radius: 5px; \">\n",
    "    <h4 style=\"font-size: 20px;color: rgb(0, 128,255);\">Note 3.</h4>\n",
    "    <p>\n",
    "        The <code style=\"color: rgb(81,206,9);font-size: 13px;\">multiplicities=False</code> parameter in the <code style=\"color: rgb(81,206,9);font-size: 13px;\">roots()</code>  method in Sage has the following meaning:\n",
    "        <ul>\n",
    "            <li>When <code style=\"color: rgb(81,206,9);font-size: 13px;\">multiplicities=False</code>  (default): The method returns only the roots of the polynomial, without information about their multiplicities. The result is a list of unique root values.</li>\n",
    "            <li>When <code style=\"color: rgb(81,206,9);font-size: 13px;\">multiplicities=True</code>: The method returns pairs (root, multiplicity) for each root. The result is a list of tuples, where each tuple contains the root and its multiplicity.</li>\n",
    "        </ul>            \n",
    "    </p>\n",
    "</div>\n",
    "\n"
   ]
  },
  {
   "cell_type": "code",
   "execution_count": 9,
   "id": "e10a1e44-2636-4f89-a21e-7ab6100e83dc",
   "metadata": {},
   "outputs": [
    {
     "name": "stdout",
     "output_type": "stream",
     "text": [
      "Branch points: [-11.8251161409669, -1.05264146874943, -0.512317960119317, 0.695037784917798 - 1.04164546422316*I, 0.695037784917798 + 1.04164546422316*I, +Infinity]\n"
     ]
    }
   ],
   "source": [
    "# Example of use:\n",
    "\n",
    "branch_points = find_branch_points(l0, l2, l4, l6, l8, l10)\n",
    "print(\"Branch points:\", branch_points)"
   ]
  },
  {
   "cell_type": "markdown",
   "id": "681a848d-2323-4d4e-9fe0-5687952734eb",
   "metadata": {},
   "source": [
    "<div style=\"font-family: 'Latin Modern Roman', Times, serif; font-size: 16px;\">\n",
    "<h1 style=\"font-size: 32px;\">2. First and Second Kind Periods</h1>\n",
    "<p>\n",
    "    In order to construct periodic functions we first have to define a canonical basis of the space of holomorphic differentials $\\{du_i\\mid i=1,\\ldots,g\\} $ and of associated meromorphic differentials $\\{dr_i\\mid i=1,\\ldots,g\\} $ on the Riemann surface by\n",
    "    $$\n",
    "        du_{2i-1} := \\frac{x^{g-i} dx}{\\partial_y f(x)},\n",
    "    $$\n",
    "    $$\n",
    "        dr_{2i-1} := \\frac{\\mathcal{R}_{2i-1}(x) dx}{\\partial_y f(x)}, \n",
    "    $$\n",
    "    where\n",
    "    $$\n",
    "    \\mathcal{R}_{2i-1}(x)=\\sum_{k=1}^{2i-1}k\\lambda_{4i-2k-2}x^{g-i+k}.\n",
    "    $$\n",
    "    We can write this in vector form for $g=2$ as follows \n",
    "    $$\n",
    "        du= \\begin{pmatrix} \n",
    "                x\\\\\n",
    "                1\n",
    "            \\end{pmatrix} \\frac{dx}{-2\\sqrt{f(x)}},\n",
    "    $$\n",
    "    $$\n",
    "        dr= \\begin{pmatrix} \n",
    "                \\mathcal{R}_{1}(x)\\\\\n",
    "                \\mathcal{R}_{3}(x)\n",
    "            \\end{pmatrix} \\frac{dx}{-2\\sqrt{f(x)}} = \n",
    "                \\begin{pmatrix} \n",
    "                    x^2\\\\\n",
    "                    3\\lambda_0x^3 + 2\\lambda_2 x^2 + \\lambda_4 x\n",
    "                \\end{pmatrix} \\frac{dx}{-2\\sqrt{f(x)}},\n",
    "    $$\n",
    "</p>\n",
    "</div>"
   ]
  },
  {
   "cell_type": "markdown",
   "id": "656e07d5-8f46-4682-bb4a-a1fe607cf64c",
   "metadata": {},
   "source": [
    "<div style=\"font-family: 'Latin Modern Roman', Times, serif; font-size: 16px;\">\n",
    "<p>\n",
    "    The above holomorphic basis can be compared to what the <code style=\"color:  rgb(81,206,9);font-size: 13px;\">cohomology_basis()</code> function returns. In SageMath, <code style=\"color:  rgb(81,206,9);font-size: 13px;\">S.cohomology_basis()</code> returns this list of differentials, typically represented as polynomials  $g(x)$  corresponding to differentials:\n",
    "    $$\n",
    "        \\omega = \\frac{g(x) \\, dx}{\\partial f / \\partial y}\n",
    "    $$\n",
    "    where  $f(x, y) = 0$  defines the curve.\n",
    "</p>\n",
    "</div>    "
   ]
  },
  {
   "cell_type": "code",
   "execution_count": 10,
   "id": "31856c66-47e6-43f2-a1f5-a452e7a84871",
   "metadata": {},
   "outputs": [
    {
     "data": {
      "text/plain": [
       "[1, x]"
      ]
     },
     "execution_count": 10,
     "metadata": {},
     "output_type": "execute_result"
    }
   ],
   "source": [
    "S.cohomology_basis()"
   ]
  },
  {
   "cell_type": "markdown",
   "id": "9b024916-992f-4f29-a21d-6cab742acd97",
   "metadata": {},
   "source": [
    "<div style=\"font-family: 'Latin Modern Roman', Times, serif; font-size: 16px;\">\n",
    "<p>\n",
    "    It is visible that the order of elements is different from that adopted in <a href=\"https://arxiv.org/abs/2407.05632\" target=\"_blank\">[1]</a> convention. We will use Julia's one. \n",
    "</p>\n",
    "</div>"
   ]
  },
  {
   "cell_type": "markdown",
   "id": "8f2d36b3-18df-462d-9d85-0f2cce229c2b",
   "metadata": {},
   "source": [
    "<div style=\"font-family: 'Latin Modern Roman', Times, serif; font-size: 16px;\">\n",
    "<h2 style=\"font-size: 24px;\">2.1. First  Kind Periods</h2>\n",
    "</div>"
   ]
  },
  {
   "cell_type": "code",
   "execution_count": 11,
   "id": "4500d57a-9b33-4edf-bf60-98c3bf545f37",
   "metadata": {},
   "outputs": [],
   "source": [
    "# holomorphic differentials base\n",
    "holbais=[x,x^0]"
   ]
  },
  {
   "cell_type": "markdown",
   "id": "98370b29-53e2-4af2-b207-8eb6051849d7",
   "metadata": {},
   "source": [
    "<div style=\"font-family: 'Latin Modern Roman', Times, serif; font-size: 16px;\">\n",
    "<p>\n",
    "    Now, to calculate the first kind period matrices, we need to calculate the following integrals along the canonical homology cycles $\\{ \\mathfrak{a}_i, \\mathfrak{b}_i\\}_{i=1}^g$\n",
    "    $$\n",
    "        \\omega = (\\omega_{ij})= \\left( \\int_{\\mathfrak{a}_j}du_i \\right), \\quad \\omega' = (\\omega'_{ij})= \\left( \\int_{\\mathfrak{b}_j}du_i \\right). \n",
    "    $$\n",
    "</p>\n",
    "</div>"
   ]
  },
  {
   "cell_type": "markdown",
   "id": "e2785ca7-69a2-4934-bfd6-6d4024f28c16",
   "metadata": {},
   "source": [
    "<div style=\"font-family: 'Latin Modern Roman', Times, serif; font-size: 16px;\">\n",
    "<p>\n",
    "    We can use the Sage function  <code style=\"color:  rgb(81,206,9);font-size: 13px;\">matrix_of_integral_values(differentials, integration_method='heuristic')</code> to compute the path integrals of the given differentials along the homology basis. The returned answer has a row for each differential. If the Riemann surface is given by the equation $y^2$, then the differentials are encoded by polynomials $g$, signifying the differential \n",
    "    $$\n",
    "            g(x,y)\\frac{dx}{(df/dy)}.\n",
    "    $$\n",
    "    <code style=\"color:  rgb(229,201,18);font-size: 13px;\">Input:</code>\n",
    "    <ul>\n",
    "        <li><code style=\"color:  rgb(81,206,9);font-size: 13px;\">differentials</code> – a list of polynomials.</li>\n",
    "        <li><code style=\"color:  rgb(81,206,9);font-size: 13px;\">integration_method</code> – (default: 'heuristic'). String specifying the integration method to use. The options are 'heuristic' and 'rigorous'.</li>\n",
    "    </ul>\n",
    "    <code style=\"color:  rgb(229,201,18);font-size: 13px;\">Output:</code>\n",
    "    A matrix, one row per differential, containing the values of the path integrals along the homology basis of the Riemann surface.\n",
    "</p>\n",
    "</div>"
   ]
  },
  {
   "cell_type": "code",
   "execution_count": 12,
   "id": "a901b565-5962-4b8c-bf71-7094cf2c0b11",
   "metadata": {},
   "outputs": [
    {
     "name": "stdout",
     "output_type": "stream",
     "text": [
      "[     0.13760 - 0.66033*I  -4.9304e-32 - 0.91722*I  -3.9443e-31 + 0.40344*I       1.1746 + 0.25689*I]\n",
      "[    -0.62448 + 0.28220*I -5.5467e-32 + 0.038862*I  -4.9304e-32 - 0.52554*I      0.14607 + 0.24334*I]\n"
     ]
    }
   ],
   "source": [
    "MofInt1=S.matrix_of_integral_values(holbais)\n",
    "# Let's display the matrix in a shortened form so that it will be easy to see its structure\n",
    "print(MofInt1.n(digits=5))"
   ]
  },
  {
   "cell_type": "markdown",
   "id": "10fd61cb-d1c7-4204-b826-4dc905bef183",
   "metadata": {},
   "source": [
    "<div style=\"font-family: 'Latin Modern Roman', Times, serif; font-size: 16px;\">\n",
    "<p>\n",
    "    The structure of the returned matrix\n",
    "    $$\n",
    "    MofInt1 = \n",
    "        \\begin{pmatrix}\n",
    "            \\omega_{1,1} & \\omega_{1,2} & \\omega'_{1,1} & \\omega'_{1,2} \\\\\n",
    "            \\omega_{2,1} & \\omega_{2,2} & \\omega'_{2,1} & \\omega'_{2,2}\n",
    "        \\end{pmatrix}\n",
    "        =\n",
    "        \\begin{array}{|c|c|c|c|c|}\n",
    "            \\hline\n",
    "            & \\mathfrak{a}_1 & \\mathfrak{a}_2 & \\mathfrak{b}_1 & \\mathfrak{b}_2 \\\\\n",
    "            \\hline\n",
    "            x & \\omega_{1,1} = \\int_{\\mathfrak{a}_1} du_1 & \\omega_{1,2} = \\int_{\\mathfrak{a}_2} du_1 & \\omega'_{1,1} = \\int_{\\mathfrak{b}_1} du_1 & \\omega'_{1,2} = \\int_{\\mathfrak{b}_2} du_1 \\\\\n",
    "            \\hline\n",
    "            1 & \\omega_{2,1} = \\int_{\\mathfrak{a}_1} du_2 & \\omega_{2,2} = \\int_{\\mathfrak{a}_2} du_2 & \\omega'_{2,1} = \\int_{\\mathfrak{b}_1} du_2 & \\omega'_{2,2} = \\int_{\\mathfrak{b}_2} du_2 \\\\\n",
    "            \\hline\n",
    "        \\end{array}\n",
    "    $$\n",
    "</p>\n",
    "</div>"
   ]
  },
  {
   "cell_type": "markdown",
   "id": "e42b7091-17ab-486d-a277-7fc1f5899ea5",
   "metadata": {},
   "source": [
    "<div style=\"font-family: 'Latin Modern Roman', Times, serif; font-size: 16px;\">\n",
    "    <p>\n",
    "    We can compare this with the results of the built-in Sage function: <code style=\"color:  rgb(81,206,9);font-size: 13px;\">period_matrix()</code>, which, for the adopted notational convention, will return a period matrix in the form\n",
    "    $$\n",
    "        pM= \\begin{pmatrix}\n",
    "                \\omega_{2,1} & \\omega_{2,2} & \\omega'_{2,1} & \\omega'_{2,2} \\\\\n",
    "                \\omega_{1,1} & \\omega_{1,2} & \\omega'_{1,1} & \\omega'_{2,1}\n",
    "        \\end{pmatrix}  \n",
    "    $$   \n",
    "    </p>\n",
    "</div>"
   ]
  },
  {
   "cell_type": "code",
   "execution_count": 13,
   "id": "0b78f17c-1411-4011-a10b-8dc64807afbc",
   "metadata": {},
   "outputs": [
    {
     "name": "stdout",
     "output_type": "stream",
     "text": [
      "[   -0.62448 + 0.28220*I 4.3141e-32 + 0.038862*I -4.9304e-32 - 0.52554*I     0.14607 + 0.24334*I]\n",
      "[    0.13760 - 0.66033*I  2.2187e-31 - 0.91722*I -5.9165e-31 + 0.40344*I      1.1746 + 0.25689*I]\n"
     ]
    }
   ],
   "source": [
    "pM=S.period_matrix()\n",
    "print(pM.n(digits=5))"
   ]
  },
  {
   "cell_type": "markdown",
   "id": "01162df8-5303-4f02-a760-2d228bdb6477",
   "metadata": {},
   "source": [
    "<div style=\"font-family: 'Latin Modern Roman', Times, serif; font-size: 16px;\">\n",
    "<p>\n",
    "    Before going any further, lat's define a function that will display the matrices in a rounded form so that we can compare them more easily.\n",
    "</p>\n",
    "</div>    "
   ]
  },
  {
   "cell_type": "code",
   "execution_count": 14,
   "id": "160391ff-a051-4a14-875d-1bc47add5f4c",
   "metadata": {},
   "outputs": [],
   "source": [
    "def format_complex(z, digits=5, threshold=1e-10):\n",
    "    real = float(z.real())\n",
    "    imag = float(z.imag())\n",
    "    \n",
    "    # We round very small values to zero\n",
    "    if abs(real) < threshold:\n",
    "        real = 0\n",
    "        if abs(imag) < threshold:\n",
    "            return \"0\"\n",
    "        # We format the result  \n",
    "        return f\"{imag:.{digits}f}*I\"\n",
    "    \n",
    "    if abs(imag) < threshold:\n",
    "        # We format the result\n",
    "        return f\"{real:.{digits}f}\"\n",
    "\n",
    "    sign = \"+\" if imag > 0 else \"-\"\n",
    "    return f\"{real:.{digits}f} {sign} {abs(imag):.{digits}f}*I\"\n",
    "\n",
    "\n",
    "def ApproxM(matrix, digits=5, threshold=1e-10):\n",
    "    rows, cols = matrix.nrows(), matrix.ncols()\n",
    "    \n",
    "    for i in range(rows):\n",
    "        formatted_row = [format_complex(matrix[i,j], digits, threshold) for j in range(cols)]\n",
    "        print(\"\\t\".join(formatted_row))"
   ]
  },
  {
   "cell_type": "code",
   "execution_count": 15,
   "id": "0705df18-a82e-428e-9694-be6180da66ae",
   "metadata": {},
   "outputs": [
    {
     "name": "stdout",
     "output_type": "stream",
     "text": [
      "-0.62448 + 0.28220*I\t0.03886*I\t-0.52554*I\t0.14607 + 0.24334*I\n",
      "0.13760 - 0.66033*I\t-0.91722*I\t0.40344*I\t1.17459 + 0.25689*I\n"
     ]
    }
   ],
   "source": [
    "ApproxM(pM)"
   ]
  },
  {
   "cell_type": "code",
   "execution_count": 16,
   "id": "d71b4375-dc25-4442-ad9e-735bd58ebe05",
   "metadata": {},
   "outputs": [
    {
     "name": "stdout",
     "output_type": "stream",
     "text": [
      "0.13760 - 0.66033*I\t-0.91722*I\t0.40344*I\t1.17459 + 0.25689*I\n",
      "-0.62448 + 0.28220*I\t0.03886*I\t-0.52554*I\t0.14607 + 0.24334*I\n"
     ]
    }
   ],
   "source": [
    "ApproxM(MofInt1)"
   ]
  },
  {
   "cell_type": "markdown",
   "id": "f734c321-7ffa-4e9d-ac53-05c3b94c9051",
   "metadata": {},
   "source": [
    "<div style=\"font-family: 'Latin Modern Roman', Times, serif; font-size: 16px;\">\n",
    "    <p>\n",
    "    In what follows we use the function <code style=\"color:  rgb(81,206,9);font-size: 13px;\">matrix_of_integral_values()</code> instead of <code style=\"color:  rgb(81,206,9);font-size: 13px;\">period_matrix()</code> because it allows us to calculate periodic matrices of the second kind.\n",
    "    </p>\n",
    "</div>"
   ]
  },
  {
   "cell_type": "code",
   "execution_count": 17,
   "id": "ea4d7634-389d-4c4b-baed-aa6dce9b63bb",
   "metadata": {},
   "outputs": [
    {
     "name": "stdout",
     "output_type": "stream",
     "text": [
      "0.13760 - 0.66033*I\t-0.91722*I\n",
      "-0.62448 + 0.28220*I\t0.03886*I\n",
      "\n",
      "0.40344*I\t1.17459 + 0.25689*I\n",
      "-0.52554*I\t0.14607 + 0.24334*I\n"
     ]
    }
   ],
   "source": [
    "# Extract the omega-periods (first two columns)\n",
    "omega = MofInt1[:, 0:2]\n",
    "\n",
    "# Extract the omega'-periods (last two columns)\n",
    "omegaP = MofInt1[:, 2:4]\n",
    "\n",
    "ApproxM(omega)\n",
    "print()\n",
    "ApproxM(omegaP)"
   ]
  },
  {
   "cell_type": "markdown",
   "id": "d488f256-dae5-4974-acb1-c8decd61098b",
   "metadata": {},
   "source": [
    "<div style=\"font-family: 'Latin Modern Roman', Times, serif; font-size: 16px;\">\n",
    "    <p>\n",
    "    Now we calculate the matrix\n",
    "    $$\n",
    "        \\tau=\\omega^{-1}\\omega'\n",
    "    $$\n",
    "    which belongs to the Siegel upper half-space. Hence it should satisfy two conditions:\n",
    "    <ul>\n",
    "        <li>Symmetry: $$ \\tau^T = \\tau$$ \n",
    "        <li>Positive definiteness of the imaginary part $$ Im(\\tau)>0$$\n",
    "    </ul>\n",
    "    </p>\n",
    "</div>"
   ]
  },
  {
   "cell_type": "code",
   "execution_count": 18,
   "id": "8b2347a8-e79d-4d50-8966-b969f7c08f38",
   "metadata": {},
   "outputs": [
    {
     "name": "stdout",
     "output_type": "stream",
     "text": [
      "[-0.28894 + 0.70313*I -0.12636 - 0.46286*I]\n",
      "[-0.12636 - 0.46286*I  -0.25854 + 1.6328*I]\n"
     ]
    }
   ],
   "source": [
    "tau= omega.inverse() * omegaP\n",
    "\n",
    "# Displaying the result\n",
    "print(tau.n(digits=5))"
   ]
  },
  {
   "cell_type": "code",
   "execution_count": 19,
   "id": "f16f3543-f668-4559-8017-b052908726be",
   "metadata": {},
   "outputs": [
    {
     "name": "stdout",
     "output_type": "stream",
     "text": [
      "[0.00000 0.00000]\n",
      "[0.00000 0.00000]\n"
     ]
    }
   ],
   "source": [
    "# Test of the symmetry\n",
    "print(tau-tau.transpose().n(digits=5))"
   ]
  },
  {
   "cell_type": "code",
   "execution_count": 20,
   "id": "7648064c-2c64-400e-8cb8-5a9e17d456a3",
   "metadata": {},
   "outputs": [
    {
     "data": {
      "text/plain": [
       "([1.8239307353738361091933820951, 0.51198440541283078719843599741], True)"
      ]
     },
     "execution_count": 20,
     "metadata": {},
     "output_type": "execute_result"
    }
   ],
   "source": [
    "# Test of positivity\n",
    "# Calculating the complex part of the tau matrix\n",
    "tauImag = tau.apply_map(lambda x: x.imag())\n",
    "\n",
    "# Calculate the eigenvalues\n",
    "eigenvalues = tauImag.eigenvalues()\n",
    "\n",
    "# Checking if all eigenvalues are positive\n",
    "all_positive = all(e > 0 for e in eigenvalues)\n",
    "\n",
    "# Displaying the result\n",
    "eigenvalues, all_positive"
   ]
  },
  {
   "cell_type": "markdown",
   "id": "377ca866-63d4-45b1-a8b1-ea33efaacdb5",
   "metadata": {},
   "source": [
    "<div style=\"font-family: 'Latin Modern Roman', Times, serif; font-size: 16px;\">\n",
    "<h2 style=\"font-size: 24px;\">2.2. Second Kind Periods</h2>\n",
    "</div>"
   ]
  },
  {
   "cell_type": "markdown",
   "id": "9e5a1ba1-d836-4292-8358-e6a5d49afc39",
   "metadata": {},
   "source": [
    "<div style=\"font-family: 'Latin Modern Roman', Times, serif; font-size: 16px;\">\n",
    "<p>\n",
    "To calculate the second kind period matrices, we need to calculate the following integrals along the canonical homology cycles $\\{ \\mathfrak{a}_i, \\mathfrak{b}_i\\}_{i=1}^g$\n",
    "    <div style=\"text-align: center;\">\n",
    "        $\\eta = (\\eta_{ij})= \\left( \\int_{\\mathfrak{a}_j}du_i \\right), \\quad \\eta' = (\\eta'_{ij})= \\left( \\int_{\\mathfrak{b}_j}du_i \\right). $\n",
    "    </div>\n",
    "</p>\n",
    "</div>"
   ]
  },
  {
   "cell_type": "code",
   "execution_count": 21,
   "id": "aaf2b4ff-55dc-4774-863a-af40f6a84d7d",
   "metadata": {},
   "outputs": [],
   "source": [
    "# meromorphic differentials base\n",
    "merbais=[x^2, 3*l0*x^3 + 2*l2*x^2 + l4*x]"
   ]
  },
  {
   "cell_type": "code",
   "execution_count": 22,
   "id": "75b062bf-1ab3-42d0-a9dd-de5e2e5a1724",
   "metadata": {},
   "outputs": [
    {
     "name": "stdout",
     "output_type": "stream",
     "text": [
      "0.15574 + 0.20627*I\t0.08372*I\t-0.32882*I\t-7.07532 + 0.12255*I\n",
      "4.74867 + 3.09497*I\t-0.04832*I\t-6.23827*I\t-2.96268 + 3.14329*I\n"
     ]
    }
   ],
   "source": [
    "MofInt2=S.matrix_of_integral_values(merbais)\n",
    "# Let's display the matrix in a shortened form so that it will be easy to see its structure\n",
    "ApproxM(MofInt2)"
   ]
  },
  {
   "cell_type": "code",
   "execution_count": 23,
   "id": "e3e67681-300a-4c14-a4b1-989d5197ce2a",
   "metadata": {},
   "outputs": [
    {
     "name": "stdout",
     "output_type": "stream",
     "text": [
      "0.15574 + 0.20627*I\t0.08372*I\n",
      "4.74867 + 3.09497*I\t-0.04832*I\n",
      "\n",
      "-0.32882*I\t-7.07532 + 0.12255*I\n",
      "-6.23827*I\t-2.96268 + 3.14329*I\n"
     ]
    }
   ],
   "source": [
    "# Extract the omega-periods (first two columns)\n",
    "eta = MofInt2[:, 0:2]\n",
    "\n",
    "# Extract the omega'-periods (last two columns)\n",
    "etaP = MofInt2[:, 2:4]\n",
    "\n",
    "ApproxM(eta)\n",
    "print()\n",
    "ApproxM(etaP)"
   ]
  },
  {
   "cell_type": "markdown",
   "id": "7d5de65b-14c2-4a2e-affa-f50bc1d58218",
   "metadata": {},
   "source": [
    "<div style=\"font-family: 'Latin Modern Roman', Times, serif; font-size: 16px;\">\n",
    "    <p>\n",
    "    We can compute $\\kappa$, given by\n",
    "    $$\n",
    "        \\kappa=\\eta\\; \\omega^{-1}\n",
    "    $$\n",
    "    </p>\n",
    "</div>"
   ]
  },
  {
   "cell_type": "code",
   "execution_count": 40,
   "id": "89b36023-3ec0-4f22-8652-0b59edd9daa7",
   "metadata": {},
   "outputs": [
    {
     "name": "stdout",
     "output_type": "stream",
     "text": [
      "-0.09763 - 0.01261*I\t-0.14978 - 0.29754*I\n",
      "-0.14978 - 0.29754*I\t-4.77835 - 7.02263*I\n"
     ]
    }
   ],
   "source": [
    "omega_inv=Matrix(omega).inverse()\n",
    "kappa = eta*omega_inv\n",
    "ApproxM(kappa)"
   ]
  },
  {
   "cell_type": "markdown",
   "id": "c454c331-111d-4fb6-ab62-7f4f7b132b4b",
   "metadata": {},
   "source": [
    "<div style=\"font-family: 'Latin Modern Roman', Times, serif; font-size: 16px;\">\n",
    "<h1 style=\"font-size: 24px;\">3. Legendre relation</h1>\n",
    "</div>"
   ]
  },
  {
   "cell_type": "markdown",
   "id": "6ae497b9-b2d6-46e8-9c83-fbd176529b91",
   "metadata": {},
   "source": [
    "<div style=\"font-family: 'Latin Modern Roman', Times, serif; font-size: 16px;\">\n",
    "<p>\n",
    "    Now we can make another test. The not normalized period matrices of the first $\\omega$, $\\omega'$ and second $\\eta$, $\\eta'$ kinds should satisfy the Legendre relation\n",
    "    $$\n",
    "        \\Omega^T J \\Omega = 2\\pi i J\n",
    "    $$\n",
    "    where\n",
    "    $$\n",
    "        \\Omega=\n",
    "            \\begin{pmatrix}\n",
    "                \\omega && \\omega'\\\\\n",
    "                \\eta && \\eta'\\\\\n",
    "            \\end{pmatrix}, \\quad \n",
    "        J=        \n",
    "            \\begin{pmatrix}\n",
    "                0 && -1_g'\\\\\n",
    "                1_g && 0\\\\\n",
    "            \\end{pmatrix}\n",
    "    $$\n",
    "</p>\n",
    "</div>"
   ]
  },
  {
   "cell_type": "code",
   "execution_count": 25,
   "id": "c4ac05e0-31a4-4c2d-a377-3ede5929ec3d",
   "metadata": {},
   "outputs": [
    {
     "name": "stdout",
     "output_type": "stream",
     "text": [
      "Omega Matrix:\n",
      "[     0.13760 - 0.66033*I  -4.9304e-32 - 0.91722*I| -3.9443e-31 + 0.40344*I       1.1746 + 0.25689*I]\n",
      "[    -0.62448 + 0.28220*I -5.5467e-32 + 0.038862*I| -4.9304e-32 - 0.52554*I      0.14607 + 0.24334*I]\n",
      "[-------------------------------------------------+-------------------------------------------------]\n",
      "[     0.15574 + 0.20627*I  7.8886e-31 + 0.083724*I| -8.3816e-31 - 0.32882*I      -7.0753 + 0.12255*I]\n",
      "[       4.7487 + 3.0950*I  1.1360e-28 - 0.048319*I|   2.2088e-29 - 6.2383*I       -2.9627 + 3.1433*I]\n",
      "\n",
      "J Matrix:\n",
      "[0.00000 0.00000|-1.0000 0.00000]\n",
      "[0.00000 0.00000|0.00000 -1.0000]\n",
      "[---------------+---------------]\n",
      "[ 1.0000 0.00000|0.00000 0.00000]\n",
      "[0.00000  1.0000|0.00000 0.00000]\n"
     ]
    }
   ],
   "source": [
    "# Omega matrix\n",
    "Omega = block_matrix([\n",
    "    [omega, omegaP],\n",
    "    [eta, etaP]\n",
    "])\n",
    "\n",
    "# Converting lists to matrices\n",
    "zeroM = Matrix([[0.0, 0.0], [0.0, 0.0]])\n",
    "mOneg = Matrix([[-1.0, 0.0], [0.0, -1.0]])\n",
    "Oneg = Matrix([[1.0, 0.0], [0.0, 1.0]])\n",
    "\n",
    "# J matrix\n",
    "J = block_matrix([\n",
    "    [zeroM, mOneg],\n",
    "    [Oneg, zeroM]\n",
    "])    \n",
    "\n",
    "\n",
    "print(\"Omega Matrix:\")\n",
    "print(Omega.n(digits=5))\n",
    "print()\n",
    "print(\"J Matrix:\")\n",
    "print(J.n(digits=5))"
   ]
  },
  {
   "cell_type": "code",
   "execution_count": 26,
   "id": "be130686-4513-4df3-9db1-596a99cdc773",
   "metadata": {},
   "outputs": [
    {
     "name": "stdout",
     "output_type": "stream",
     "text": [
      "0\t0\t0\t0\n",
      "0\t0\t0\t0\n",
      "0\t0\t0\t0\n",
      "0\t0\t0\t0\n"
     ]
    }
   ],
   "source": [
    "import numpy as np\n",
    "\n",
    "pi = np.pi\n",
    "left=Omega.transpose()*J*Omega\n",
    "right = 2*pi*I*J\n",
    "result = left - right\n",
    "ApproxM(result)"
   ]
  },
  {
   "cell_type": "markdown",
   "id": "59eaf880-05a5-4f89-b6e5-cf416c06e7d4",
   "metadata": {},
   "source": [
    "<div style=\"font-family: 'Latin Modern Roman', Times, serif; font-size: 16px;\">\n",
    "<h1 style=\"font-size: 32px;\">4. Theta function</h1>\n",
    "<p>\n",
    "\n",
    "</p>\n",
    "</div>"
   ]
  },
  {
   "cell_type": "markdown",
   "id": "3ed0759f-f91c-40ad-8590-7a891237a8b7",
   "metadata": {},
   "source": [
    "<div style=\"background-color:  rgba(224, 224, 224, 0.25); \n",
    "    font-family: 'Latin Modern Roman', Times, serif; font-size: 16px; border: 1px solid  rgb(192, 192, 192); padding: 15px; border-radius: 5px; \">\n",
    "    <h4 style=\"font-size: 20px;color: rgb(160, 160, 160);\">Definition 4.</h4>\n",
    "    <p>        \n",
    "        A Riemann <i>theta function</i> $\\theta(v;\\tau)$ defined in terms of normalized coordinates $v$ and normalized period matrix $\\tau$, canonicaly is given by\n",
    "        $$\n",
    "            \\theta(\\mathbf{v};\\tau) = \\sum_{n\\in\\mathbb{Z}^g} e^{i\\pi \\mathbf{n}^T \\tau \\mathbf{n} + 2i \\pi \\mathbf{n}^T \\mathbf{v}}.\n",
    "        $$\n",
    "        A theta function with characteristic $[\\varepsilon ]$ is defined by\n",
    "        $$\n",
    "            \\theta[\\varepsilon](\\mathbf{v};\\tau) = \n",
    "            \\theta \n",
    "                \\begin{bmatrix}\n",
    "                    \\varepsilon'_1 & \\ldots & \\varepsilon'_g\\\\\n",
    "                    \\varepsilon_1 & \\ldots & \\varepsilon_g\\\\\n",
    "                \\end{bmatrix}\n",
    "            (\\mathbf{v};\\tau)=\n",
    "            \\sum_{n\\in\\mathbb{Z}^g} e^{i\\pi\\{ (\\mathbf{n}+ \\frac{1}{2}\\mathbf{\\varepsilon}'^T ) \\tau (\\mathbf{n}+ \\frac{1}{2}\\mathbf{\\varepsilon}') +2 (\\mathbf{v}+\\frac{1}{2}\\mathbf{\\varepsilon})^T (\\mathbf{n}+\\frac{1}{2}\\mathbf{\\varepsilon}') \\} }.\n",
    "        $$\n",
    "        where a characteristic all are half integer\n",
    "        $$\n",
    "            \\varepsilon_i, \\varepsilon_k' = 1 \\;\\text{or} \\; 0\n",
    "        $$\n",
    "    </p>    \n",
    "    </div>\n",
    "\n",
    "</div>"
   ]
  },
  {
   "cell_type": "markdown",
   "id": "a284b436-7f03-4721-a2b7-dd0e2598721d",
   "metadata": {},
   "source": [
    "<div style=\"background-color:  rgba(255, 153, 153, 0.25); \n",
    "    font-family: 'Latin Modern Roman', Times, serif; font-size: 16px; border: 1px solid  rgb(255, 51,51); padding: 15px; border-radius: 5px; \">\n",
    "    <h4 style=\"font-size: 20px;color: rgb(255, 51,51);\">Important 2.</h4>\n",
    "    <p>\n",
    "        In the literature, it is common to use a convention with slightly different characteristics:\n",
    "        $$\n",
    "            (\\varepsilon_i, \\varepsilon'_j) \\to 2 (\\varepsilon_i, \\varepsilon'_j)\n",
    "        $$\n",
    "        hence  \n",
    "        $$\n",
    "            \\varepsilon_i, \\varepsilon'_j = \\frac{1}{2} \\;\\text{or} \\; 0.\n",
    "        $$\n",
    "        In consequence\n",
    "        $$\n",
    "            \\theta[\\varepsilon](\\mathbf{v};\\tau) = \n",
    "            \\theta \n",
    "                \\begin{bmatrix}\n",
    "                    \\varepsilon'_1 & \\ldots & \\varepsilon'_g\\\\\n",
    "                    \\varepsilon_1 & \\ldots & \\varepsilon_g\\\\\n",
    "                \\end{bmatrix}\n",
    "            (\\mathbf{v};\\tau)=\n",
    "            \\sum_{n\\in\\mathbb{Z}^g} e^{i\\pi\\{ (\\mathbf{n}+ \\mathbf{\\varepsilon}'^T ) \\tau (\\mathbf{n}+ \\mathbf{\\varepsilon}') +2 (\\mathbf{v}+\\mathbf{\\varepsilon})^T (\\mathbf{n}+\\mathbf{\\varepsilon}') \\} }.\n",
    "        $$\n",
    "    </p>    \n",
    "    </div>\n",
    "\n",
    "</div>"
   ]
  },
  {
   "cell_type": "markdown",
   "id": "01d1f609-3d6d-4271-879d-962a23ddc3d3",
   "metadata": {},
   "source": [
    "<div style=\"font-family: 'Latin Modern Roman', Times, serif; font-size: 16px;\">\n",
    "<p>\n",
    "    Let's code the $\\theta$ function with the characteristic\n",
    "</p>\n",
    "</div>   \n"
   ]
  },
  {
   "cell_type": "code",
   "execution_count": 27,
   "id": "a1ed0acd-6bc8-473a-bb8e-de186db611c7",
   "metadata": {},
   "outputs": [],
   "source": [
    "def ThetaCh(epsilon_m, v, ttau, NAcc):\n",
    "    # NAcc is responsible for the number of elements in the sum, i.e. the precision of the result. \n",
    "    # Experimentally, a good approximation is obtained for NAcc>4, but of course this can be increased as needed.\n",
    "    total_sum = 0\n",
    "    # epsilon_m is the list [epsilon 1, epsilon 2] where epsilon1 and epsilon2 are vectors\n",
    "    epsilon1 = epsilon_m[0]\n",
    "    epsilon2 = epsilon_m[1]\n",
    "    \n",
    "    # We iterate over two indices from -NAcc to NAcc\n",
    "    for n1 in range(-NAcc, NAcc):\n",
    "        for n2 in range(-NAcc, NAcc):\n",
    "            # We create vector n\n",
    "            n = vector([n1, n2])\n",
    "                    \n",
    "            # The first component of the sum\n",
    "            term1 = I * pi * (n + 1/2 * vector(epsilon1)) * (ttau * (n + 1/2 * vector(epsilon1)))\n",
    "                    \n",
    "            # The second component of the sum\n",
    "            term2 = 2 * I * pi * (n + 1/2 * vector(epsilon1)) * (v + 1/2 * vector(epsilon2))\n",
    "                    \n",
    "            # We add the exp from these components to the total\n",
    "            total_sum += exp(term1 + term2)\n",
    "    \n",
    "    return total_sum"
   ]
  },
  {
   "cell_type": "markdown",
   "id": "17ae763f-2907-4114-ae45-9cca597a4a75",
   "metadata": {
    "jp-MarkdownHeadingCollapsed": true
   },
   "source": [
    "<div style=\"background-color:  rgba(153, 204, 255, 0.25); \n",
    "    font-family: 'Latin Modern Roman', Times, serif; font-size: 16px; border: 1px solid  rgb(0, 128,255); padding: 15px; border-radius: 5px; \">\n",
    "    <h4 style=\"font-size: 20px;color: rgb(0, 128,255);\">Note 4.</h4>\n",
    "    <p>\n",
    "        In Wolfram Mathematica exists a corresponding function under the name <code style=\"color:  rgb(81,206,9);font-size: 13px;\">SiegelTheta[$\\nu_1$,$\\nu_2$]($\\Omega,s$)</code>. The relation between our variables and those in Mathematica are as follows\n",
    "        <ul>\n",
    "            <li> $\\Omega=\\tau$ </li>\n",
    "            <li> $s=v$ </li>\n",
    "            <li> $\\nu_1 = \\frac{1}{2} epsilon1$ </li>\n",
    "            <li> $\\nu_2 = \\frac{1}{2} epsilon2$   </li> \n",
    "        </ul>  \n",
    "        To test this, you can check the following code in Mathematica\n",
    "    </p>\n",
    "        <pre style=\" color: #f8f8f2; padding: 1px; border-radius: 5px; font-size: 13px;\">\n",
    "        <code style=\"color: rgb(81,206,9);\">\n",
    "            ```Mathematica         \n",
    "            SiegelTheta[{{2, 4}, {4, 2}}, IdentityMatrix[2] I, {1, 2}] // N\n",
    "        </code>\n",
    "        </pre>\n",
    "    <p>\n",
    "        and compare it with below one\n",
    "    </p>    \n",
    "        <pre style=\" color: #f8f8f2; padding: 10px; border-radius: 5px; font-size: 13px;\">\n",
    "        <code style=\"color: rgb(81,206,9)\">\n",
    "            ```SageMath           \n",
    "            # Defining sample data\n",
    "            epsilon_m = [vector([4, 8]), vector([8, 4])]\n",
    "            v = vector([1, 2])\n",
    "            tau = Matrix([[I, 0], [0, I]])\n",
    "            NAcc = 5\n",
    "            # Function call\n",
    "            result = ThetaCh(epsilon_m, v, tau, NAcc)\n",
    "            print(result)\n",
    "        </code>\n",
    "        </pre>\n",
    "    <p>\n",
    "        Additionally, one can define the $\\theta$ function in Mathematica in a similar way with the following code:\n",
    "    </p>\n",
    "        <pre style=\" color: #f8f8f2; padding: 10px; border-radius: 5px; font-size: 13px;\">\n",
    "        <code style=\"color: rgb(81,206,9);\">\n",
    "        ```Mathematica\n",
    "        ThetaCh[\\[Epsilon]m_, v_, \\[Tau]_, NAcc_] :=\n",
    "         Sum[\n",
    "          Exp[\n",
    "           I Pi ({Subscript[n, 1], Subscript[n, 2]} + \n",
    "            1/2 \\[Epsilon]m[[1]]) . (\\[Tau] . ({Subscript[n, 1], Subscript[n, 2]} + 1/2 \\[Epsilon]m[[1]])) + 2 I Pi ({Subscript[n, 1], Subscript[n, 2]} + 1/2 \\[Epsilon]m[[1]]) . (v + 1/2 \\[Epsilon]m[[2]])\n",
    "           ],\n",
    "          {Subscript[n, 2], -NAcc, NAcc}, {Subscript[n, 1], -NAcc, NAcc}\n",
    "          ]\n",
    "        </code>\n",
    "        </pre>\n",
    "    <p>\n",
    "        And check the result of the above test with: \n",
    "    </p>\n",
    "        <pre style=\" color: #f8f8f2; padding: 10px; border-radius: 5px; font-size: 13px;\">\n",
    "        <code style=\"color: rgb(81,206,9);\">\n",
    "        ```Mathematica    \n",
    "        ThetaCh[2 {{2, 4}, {4, 2}}, {1, 2}, IdentityMatrix[2] I, 5] // N\n",
    "        </code>\n",
    "        </pre>\n",
    "</div>"
   ]
  },
  {
   "cell_type": "markdown",
   "id": "910b2f59-b1f2-408e-a98a-48860533c14c",
   "metadata": {},
   "source": [
    "<div style=\"font-family: 'Latin Modern Roman', Times, serif; font-size: 16px;\">\n",
    "<h1 style=\"font-size: 24px;\">5. Characteristics of branch points</h1>\n",
    "</div>"
   ]
  },
  {
   "cell_type": "code",
   "execution_count": 28,
   "id": "c9f80e53-2b0f-408d-bef2-78cfa4bbc93f",
   "metadata": {},
   "outputs": [
    {
     "name": "stdout",
     "output_type": "stream",
     "text": [
      "[1 0]\n",
      "[0 0]\n",
      "\n",
      "[1 0]\n",
      "[1 0]\n",
      "\n",
      "[0 1]\n",
      "[1 0]\n",
      "\n",
      "[0 1]\n",
      "[1 1]\n",
      "\n",
      "[0 0]\n",
      "[1 1]\n",
      "\n",
      "[0 0]\n",
      "[0 0]\n",
      "\n"
     ]
    }
   ],
   "source": [
    "# We define the genus variable\n",
    "genus = S.genus  \n",
    "\n",
    "\n",
    "eChars = [[[0 for k in range(genus)], [1 for k in range(genus)]], \n",
    "          [[0 for k in range(genus)] for i in range(2)]]\n",
    "\n",
    "# Do-like loop in Julia's Mathematica notebook\n",
    "for l in range(genus):\n",
    "    # let's note the indexing, which must be adjusted by\n",
    "    eChars.insert(0, \n",
    "        [[(eChars[0][0][k] + kronecker_delta(k+1, genus - l) + \n",
    "           kronecker_delta(k+1, genus - l + 1)) % 2 for k in range(genus)],\n",
    "         [(eChars[0][1][k] + 0) % 2 for k in range(genus)]]\n",
    "    )\n",
    "\n",
    "    eChars.insert(0,\n",
    "        [[(eChars[0][0][k] + 0) % 2 for k in range(genus)],\n",
    "         [(eChars[0][1][k] + kronecker_delta(k+1, genus - l)) % 2 for k in range(genus)]]\n",
    "    )\n",
    "\n",
    "# We display matrices\n",
    "seen_matrices = []\n",
    "for i in range(len(eChars)):\n",
    "    current_matrix = matrix(eChars[i])\n",
    "    if current_matrix not in seen_matrices:\n",
    "        seen_matrices.append(current_matrix)\n",
    "        print(current_matrix)\n",
    "        print()"
   ]
  },
  {
   "cell_type": "markdown",
   "id": "b9f02c2c-c7de-4657-ad4d-d1551afd4e3d",
   "metadata": {},
   "source": [
    "<div style=\"background-color:  rgba(153, 204, 255, 0.25); \n",
    "    font-family: 'Latin Modern Roman', Times, serif; font-size: 16px; border: 1px solid  rgb(0, 128,255); padding: 15px; border-radius: 5px; \">\n",
    "    <h4 style=\"font-size: 20px;color: rgb(0, 128,255);\">Note 5.</h4>\n",
    "    <p>\n",
    "        This result can be compared with the result at work (p. 14, example 5.1)\n",
    "        <a href=\"https://www.itp.uni-bremen.de/prichter/download/ThetaConst.pdf\" target=\"_blank\">Enolski V.Z., Richter P.H. <i>Periods of hyperelliptic integrals expressed in terms of $\\theta$-constants\n",
    "by means of Thomae formulae</i>. Phil. Trans. London Math. Soc. A (2008), 366, pp.1005–1024</a>          \n",
    "    </p>\n",
    "</div>"
   ]
  },
  {
   "cell_type": "code",
   "execution_count": 29,
   "id": "d2ecd071-3720-4de5-8964-24903bbd72ea",
   "metadata": {},
   "outputs": [
    {
     "name": "stdout",
     "output_type": "stream",
     "text": [
      "[1 1]\n",
      "[0 1]\n"
     ]
    }
   ],
   "source": [
    "# We sum the eChars elements with indices 2*i +1 (because python counts from 0) and take Mod 2\n",
    "KCh = sum(matrix(eChars[2 * i+1]) for i in range(genus)) % 2\n",
    "\n",
    "print(KCh)"
   ]
  },
  {
   "cell_type": "markdown",
   "id": "7dc23d5a-9f8b-4f71-a6aa-884935a18b72",
   "metadata": {},
   "source": [
    "<div style=\"font-family: 'Latin Modern Roman', Times, serif; font-size: 16px;\">\n",
    "<h1 style=\"font-size: 24px;\">6. $\\sigma$-Functions</h1>\n",
    "</div>"
   ]
  },
  {
   "cell_type": "markdown",
   "id": "54cb24f5-b6a1-43e0-a752-1e41c5f080f7",
   "metadata": {},
   "source": [
    "<div style=\"font-family: 'Latin Modern Roman', Times, serif; font-size: 16px;\">\n",
    "<p>\n",
    "    The theory on which this and the following sections are based comes from the works:\n",
    "    <a href=\"https://arxiv.org/pdf/solv-int/9603005\" target=\"_blank\">[4]</a>, \n",
    "    <a href=\"https://arxiv.org/pdf/1810.11079\" target=\"_blank\">[5]</a>,\n",
    "    <a href=\"https://arxiv.org/pdf/1711.08395\" target=\"_blank\">[6]</a>,\n",
    "    <a href=\"https://arxiv.org/pdf/1106.2408\" target=\"_blank\">[7]</a>.\n",
    "</p>\n",
    "</div>   "
   ]
  },
  {
   "cell_type": "markdown",
   "id": "2a9f7bc1-892a-4258-9318-b62cd2702718",
   "metadata": {},
   "source": [
    "<div style=\"background-color:  rgba(224, 224, 224, 0.25); \n",
    "    font-family: 'Latin Modern Roman', Times, serif; font-size: 16px; border: 1px solid  rgb(192, 192, 192); padding: 15px; border-radius: 5px; \">\n",
    "    <h4 style=\"font-size: 20px;color: rgb(160, 160, 160);\">Definition 5.</h4>\n",
    "    <p>        \n",
    "        <em> Sigma function </em> is a modular invariant entire function on $\\mathrm{Jac}(\\mathscr{C})$. It is definef by a relation with the theta function:\n",
    "        $$\n",
    "            \\sigma(\\mathbf{u}) = C \\tilde{\\sigma}(\\mathbf{u})\n",
    "        $$\n",
    "        where\n",
    "        $$\n",
    "            \\tilde{\\sigma}(\\mathbf{u})= e^{-\\frac{1}{2}\\mathbf{u}^T \\kappa \\mathbf{u}} \\theta[ K ] (\\omega^{-1} \\mathbf{u}, \\omega^{-1} \\omega'),\n",
    "        $$\n",
    "        $$\n",
    "            C= \\sqrt{\\frac{\\pi^g}{\\det{\\omega}}} \\left( \\prod_{1\\leq i<j \\leq 2g+1} (e_i - e_j) \\right)^{-1/4},\n",
    "        $$\n",
    "        and $[K]$ denotes the characteristics of the vector of Riemann constants. (The expression for $C$ comes from <a href=\"https://arxiv.org/pdf/1106.2408\" target=\"_blank\">[7]</a>, p.9, Eq. II.41)\n",
    "    </p>    \n",
    "    </div>\n",
    "\n",
    "</div>"
   ]
  },
  {
   "cell_type": "markdown",
   "id": "e6478994-160e-40e2-87c7-be761ac4eed6",
   "metadata": {},
   "source": [
    "<div style=\"background-color:  rgba(153, 204, 255, 0.25); \n",
    "    font-family: 'Latin Modern Roman', Times, serif; font-size: 16px; border: 1px solid  rgb(0, 128,255); padding: 15px; border-radius: 5px; \">\n",
    "    <h4 style=\"font-size: 20px;color: rgb(0, 128,255);\">Note 6.</h4>\n",
    "    <p>\n",
    "        The assumed formula for the constant $C$ is burdened with uncertainty because in another classical source <a href=\"https://arxiv.org/pdf/solv-int/9603005\" target=\"_blank\">[4]</a> one can find a different formulation for it. However, it will not affect the final formulas in the following parts of the code because it will be contracted.    \n",
    "    </p>\n",
    "</div>"
   ]
  },
  {
   "cell_type": "code",
   "execution_count": 113,
   "id": "76d6faa9-769b-410d-ab37-de6ae353b785",
   "metadata": {},
   "outputs": [],
   "source": [
    "# We define variables\n",
    "var('U1 U3')\n",
    "\n",
    "# We define the accuracy of theta function\n",
    "Acc=20\n",
    "\n",
    "\n",
    "# sigma\n",
    "def Tsigma(U1, U3):\n",
    "    e = exp(-(1/2)*(vector([U1, U3])*kappa*vector([U1, U3])))\n",
    "    theta = ThetaCh(KCh, omega_inv * vector([U1, U3]), tau, Acc)\n",
    "    return e*theta\n",
    "\n",
    "# C constant\n",
    "det_omega = omega.determinant()\n",
    "g = 2\n",
    "#Branch points\n",
    "BP=find_branch_points(l0, l2, l4, l6, l8, l10)\n",
    "e1, e2, e3, e4, e5 = BP[0], BP[1], BP[2], BP[3], BP[4]\n",
    "prod=(e1-e2)*(e2-e3)*(e3-e4)*(e4-e5)\n",
    "C = sqrt(pi**g / det_omega) * prod**(-1/4)\n",
    "\n",
    "def sigma(U1, U3):\n",
    "    return C*Tsigma(U1, U3)"
   ]
  },
  {
   "cell_type": "markdown",
   "id": "29232c87-767f-41d7-9a44-f47adbaa0472",
   "metadata": {},
   "source": [
    "<div style=\"font-family: 'Latin Modern Roman', Times, serif; font-size: 16px;\">\n",
    "<h2 style=\"font-size: 24px;\">6.1 Approximate definitions</h2>\n",
    "</div>"
   ]
  },
  {
   "cell_type": "markdown",
   "id": "6237a69f-871f-4a9d-902c-c6d9bd2dca1e",
   "metadata": {},
   "source": [
    "<div style=\"background-color:  rgba(224, 224, 224, 0.25); \n",
    "    font-family: 'Latin Modern Roman', Times, serif; font-size: 16px; border: 1px solid  rgb(192, 192, 192); padding: 15px; border-radius: 5px; \">\n",
    "    <h4 style=\"font-size: 20px;color: rgb(160, 160, 160);\">Definition 6.</h4>\n",
    "    <p>  \n",
    "        Based on the work <a href=\"https://arxiv.org/pdf/1810.11079\" target=\"_blank\">[5]</a> p.20, Eq. (3.22), we can write first approximation of $\\mathbf{u}=(u_1,u_3)$ for small values\n",
    "    $$\n",
    "        \\sigma(\\mathbf{u}) = u_3 - \\frac{1}{3} u_1^2 + \\frac{1}{6}\\lambda_6 u_3^3 - \\frac{1}{12}\\lambda_4 u_1^4 u_3 - \\frac{1}{6} \\lambda_6 u_1^3 u_3^2 - \\frac{1}{6} \\lambda_8 u_1^2 u_3^3 - \\frac{1}{3} \\lambda_{10} u_1 u_3^4 +\\left( \\frac{1}{60} \\lambda_4 \\lambda_8 + \\frac{1}{120} \\lambda_6^2\\right) u_3^5 +(u^7).\n",
    "    $$\n",
    "   <p>\n",
    "   </div>   "
   ]
  },
  {
   "cell_type": "code",
   "execution_count": 90,
   "id": "c6a02014-cb3d-48b7-bebb-9255b52a62d1",
   "metadata": {},
   "outputs": [],
   "source": [
    "def sigmaApp1(U1, U3):\n",
    "    result = (U3 \n",
    "              - (1/3) * U1**3 \n",
    "              + (1/6) * l6 * U3**3 \n",
    "              - (1/12) * l4 * U1**4 * U3 \n",
    "              - (1/6) * l6 * U1**3 * U3**2\n",
    "              - (1/6) * l8 * U1**2 * U3**3 \n",
    "              - (1/3) * l10 * U1 * U3**4 \n",
    "              + (1/60) * l4 * l8 * U3**5 \n",
    "              + (1/120) * l6**2 * U3**5)\n",
    "    return result"
   ]
  },
  {
   "cell_type": "markdown",
   "id": "ca06d3ed-e072-48f7-b312-0ed5c3897f4e",
   "metadata": {},
   "source": [
    "<div style=\"background-color:  rgba(224, 224, 224, 0.25); \n",
    "    font-family: 'Latin Modern Roman', Times, serif; font-size: 16px; border: 1px solid  rgb(192, 192, 192); padding: 15px; border-radius: 5px; \">\n",
    "    <h4 style=\"font-size: 20px;color: rgb(160, 160, 160);\">Definition 7.</h4>\n",
    "    <p>  \n",
    "        Based on the work <a href=\"https://arxiv.org/pdf/1711.08395\" target=\"_blank\">[6]</a> p.34, Eq. (3.22), we can write first approximation of $\\mathbf{u}=(u_1,u_3)$ for small values\n",
    "    $$\n",
    "    \\begin{aligned}\n",
    "        \\sigma(\\mathbf{u}) = & u_3 - \\frac{1}{3} u_1^2 + \\frac{1}{6}\\lambda_6 u_3^3 - \\frac{1}{12}\\lambda_4 u_1^4 u_3 - \\frac{1}{6} \\lambda_6 u_1^3 u_3^2 - \\frac{1}{6} \\lambda_8 u_1^2 u_3^3 - \\frac{1}{3} \\lambda_{10} u_1 u_3^4 +\\left( \\frac{1}{60} \\lambda_4 \\lambda_8 + \\frac{1}{120} \\lambda_6^2\\right) u_3^5 +(u^7) \\\\\n",
    "        & - \\frac{4}{7!} \\lambda_4 *u_1^7 + \\frac{69}{9!} \\lambda_6 u_1^9 - \\frac{8}{6!}\\lambda_6 u_3 u_1^6 + (1600\\lambda_8 - 408 \\lambda_4^2) \\frac{u^11}{11!} - (4\\lambda_4^2 + 32 \\lambda_8)\\frac{u_3 u_1^8}{8!} - \\frac{8}{2! 5!} \\lambda_8 u_3^2 u_1^5.  \n",
    "    \\end{aligned}    \n",
    "    $$\n",
    "   <p>\n",
    "   </div>   "
   ]
  },
  {
   "cell_type": "code",
   "execution_count": 89,
   "id": "746990db-b871-4cf9-9c4e-fdf8ceb3deb5",
   "metadata": {},
   "outputs": [],
   "source": [
    "def sigmaApp2(U1, U3):\n",
    "    result = (U3 \n",
    "              - (1/3) * U1**3 \n",
    "              + (1/6) * l6 * U3**3 \n",
    "              - (1/12) * l4 * U1**4 * U3 \n",
    "              - (1/6) * l6 * U1**3 * U3**2\n",
    "              - (1/6) * l8 * U1**2 * U3**3 \n",
    "              - (1/3) * l10 * U1 * U3**4 \n",
    "              + (1/60) * l4 * l8 * U3**5 \n",
    "              + (1/120) * l6**2 * U3**5\n",
    "              - (4/factorial(7)) * l4 * U1**7\n",
    "              + (64/factorial(9)) * l6 * U1**9\n",
    "              - (8/factorial(6)) * l6 * U3 * U1**6\n",
    "              + (1600 * l8 - 408 * l4**2) * (1/factorial(11)) * U1**11\n",
    "              - (4 * l4**2 + 32 * l8) * (1/factorial(8)) * U3 * U1**8\n",
    "              - (4/factorial(5)) * l8 * U3**2 * U1**5\n",
    "             )\n",
    "    \n",
    "    return result"
   ]
  },
  {
   "cell_type": "markdown",
   "id": "377ed4c1-3632-4914-bc02-3c41658fca89",
   "metadata": {},
   "source": [
    "<div style=\"font-family: 'Latin Modern Roman', Times, serif; font-size: 16px;\">\n",
    "<h2 style=\"font-size: 24px;\">6.2 Tests</h2>\n",
    "</div>"
   ]
  },
  {
   "cell_type": "markdown",
   "id": "264e1ffb-614f-44e0-a615-d09ef000bbb5",
   "metadata": {},
   "source": [
    "<div style=\"font-family: 'Latin Modern Roman', Times, serif; font-size: 16px;\">\n",
    "<p>\n",
    "    Let's check how approximate sigmas relate to the exact definition. We operate on the ratios to get rid of the dependence on the constant $C$\n",
    "</p>\n",
    "</div>   "
   ]
  },
  {
   "cell_type": "code",
   "execution_count": 93,
   "id": "fa50fbf1-f9e9-4f4d-9c89-c432663783eb",
   "metadata": {},
   "outputs": [
    {
     "data": {
      "text/plain": [
       "2.52747253533945"
      ]
     },
     "execution_count": 93,
     "metadata": {},
     "output_type": "execute_result"
    }
   ],
   "source": [
    "sigmaApp1(0.00015,0.00023)/sigmaApp1(0.000071,0.000091)"
   ]
  },
  {
   "cell_type": "code",
   "execution_count": 94,
   "id": "f39422c9-da8e-4c37-9c1a-a3a97a795298",
   "metadata": {},
   "outputs": [
    {
     "data": {
      "text/plain": [
       "2.27708680068096 - 6.52811138479592e-14*I"
      ]
     },
     "execution_count": 94,
     "metadata": {},
     "output_type": "execute_result"
    }
   ],
   "source": [
    "sigma(0.00015,0.00023)/sigma(0.000071,0.000091)"
   ]
  },
  {
   "cell_type": "code",
   "execution_count": 144,
   "id": "82f09b4d-bd8f-48ca-ad96-cea5ba468104",
   "metadata": {},
   "outputs": [],
   "source": [
    "u1=2.21231\n",
    "u3=7.32112\n",
    "\n",
    "k1=8.8976\n",
    "k3=5.2315"
   ]
  },
  {
   "cell_type": "code",
   "execution_count": 145,
   "id": "f3cac3ce-61a4-4f65-bce1-a2881adf7907",
   "metadata": {},
   "outputs": [
    {
     "name": "stdout",
     "output_type": "stream",
     "text": [
      "Result for comparison with sigmaApp1:\n",
      "-0.918639409348416 - 1.11022302462516e-16*I\n",
      "\n",
      "Result for comparison with sigmaApp2:\n",
      "-0.918639706374918 - 1.11022302462516e-16*I\n",
      "\n",
      "Difference between sigmaApp1 and sigmaApp2:\n",
      "-2.97026502282804e-7\n"
     ]
    }
   ],
   "source": [
    "d=10^(-2)\n",
    "\n",
    "testS = sigma(u1*d,u3*d)/sigma(k1*d,k3*d)\n",
    "testSApp1 = sigmaApp1(u1*d,u3*d)/sigmaApp1(k1*d,k3*d)\n",
    "testSApp2 = sigmaApp2(u1*d,u3*d)/sigmaApp2(k1*d,k3*d)\n",
    "\n",
    "print(\"Result for comparison with sigmaApp1:\")\n",
    "print(testS-testSApp1)\n",
    "print()\n",
    "print(\"Result for comparison with sigmaApp2:\")\n",
    "print(testS-testSApp2)\n",
    "print()\n",
    "print(\"Difference between sigmaApp1 and sigmaApp2:\")\n",
    "print(testSApp1-testSApp2)"
   ]
  },
  {
   "cell_type": "code",
   "execution_count": 146,
   "id": "6bf790d3-8329-49d6-a5b6-9b689c0c976c",
   "metadata": {},
   "outputs": [
    {
     "name": "stdout",
     "output_type": "stream",
     "text": [
      "Result for comparison with sigmaApp1:\n",
      "-0.884388199106624 + 8.44047054471275e-14*I\n",
      "\n",
      "Result for comparison with sigmaApp2:\n",
      "-0.884388199106624 + 8.44047054471275e-14*I\n",
      "\n",
      "Difference between sigmaApp1 and sigmaApp2:\n",
      "0.000000000000000\n"
     ]
    }
   ],
   "source": [
    "d=10^(-5)\n",
    "\n",
    "testS = sigma(u1*d,u3*d)/sigma(k1*d,k3*d)\n",
    "testSApp1 = sigmaApp1(u1*d,u3*d)/sigmaApp1(k1*d,k3*d)\n",
    "testSApp2 = sigmaApp2(u1*d,u3*d)/sigmaApp2(k1*d,k3*d)\n",
    "\n",
    "print(\"Result for comparison with sigmaApp1:\")\n",
    "print(testS-testSApp1)\n",
    "print()\n",
    "print(\"Result for comparison with sigmaApp2:\")\n",
    "print(testS-testSApp2)\n",
    "print()\n",
    "print(\"Difference between sigmaApp1 and sigmaApp2:\")\n",
    "print(testSApp1-testSApp2)"
   ]
  },
  {
   "cell_type": "code",
   "execution_count": 147,
   "id": "a8821bc9-177e-41fb-976e-b7051138f16b",
   "metadata": {},
   "outputs": [
    {
     "name": "stdout",
     "output_type": "stream",
     "text": [
      "Result for comparison with sigmaApp1:\n",
      "-0.884388165458948 - 1.88429921804678e-8*I\n",
      "\n",
      "Result for comparison with sigmaApp2:\n",
      "-0.884388165458948 - 1.88429921804678e-8*I\n",
      "\n",
      "Difference between sigmaApp1 and sigmaApp2:\n",
      "0.000000000000000\n"
     ]
    }
   ],
   "source": [
    "d=10^(-10)\n",
    "\n",
    "testS = sigma(u1*d,u3*d)/sigma(k1*d,k3*d)\n",
    "testSApp1 = sigmaApp1(u1*d,u3*d)/sigmaApp1(k1*d,k3*d)\n",
    "testSApp2 = sigmaApp2(u1*d,u3*d)/sigmaApp2(k1*d,k3*d)\n",
    "\n",
    "print(\"Result for comparison with sigmaApp1:\")\n",
    "print(testS-testSApp1)\n",
    "print()\n",
    "print(\"Result for comparison with sigmaApp2:\")\n",
    "print(testS-testSApp2)\n",
    "print()\n",
    "print(\"Difference between sigmaApp1 and sigmaApp2:\")\n",
    "print(testSApp1-testSApp2)"
   ]
  },
  {
   "cell_type": "code",
   "execution_count": 148,
   "id": "ad1b79d5-3a57-423d-a0a8-b8b6acc6ef49",
   "metadata": {},
   "outputs": [
    {
     "name": "stdout",
     "output_type": "stream",
     "text": [
      "Result for comparison with sigmaApp1:\n",
      "-0.885876764827322 - 0.00180870273726220*I\n",
      "\n",
      "Result for comparison with sigmaApp2:\n",
      "-0.885876764827322 - 0.00180870273726220*I\n",
      "\n",
      "Difference between sigmaApp1 and sigmaApp2:\n",
      "0.000000000000000\n"
     ]
    }
   ],
   "source": [
    "d=10^(-15)\n",
    "\n",
    "testS = sigma(u1*d,u3*d)/sigma(k1*d,k3*d)\n",
    "testSApp1 = sigmaApp1(u1*d,u3*d)/sigmaApp1(k1*d,k3*d)\n",
    "testSApp2 = sigmaApp2(u1*d,u3*d)/sigmaApp2(k1*d,k3*d)\n",
    "\n",
    "print(\"Result for comparison with sigmaApp1:\")\n",
    "print(testS-testSApp1)\n",
    "print()\n",
    "print(\"Result for comparison with sigmaApp2:\")\n",
    "print(testS-testSApp2)\n",
    "print()\n",
    "print(\"Difference between sigmaApp1 and sigmaApp2:\")\n",
    "print(testSApp1-testSApp2)"
   ]
  },
  {
   "cell_type": "markdown",
   "id": "8e3d745f-23f3-4b1b-98c0-1064197e4e92",
   "metadata": {},
   "source": [
    "<div style=\"font-family: 'Latin Modern Roman', Times, serif; font-size: 16px;\">\n",
    "<p>\n",
    "    It seems that both approximations are similar. <br>\n",
    "    <br>\n",
    "    Let's check the $C$ constant. Since in the first order the function $\\sigma$ is linear in $u_1$:\n",
    "    $$\n",
    "        \\sigma(\\mathbf{u}) = u_3 + \\ldots\n",
    "    $$\n",
    "    then for $u_1\\approx0$ we can estimate:\n",
    "    $$\n",
    "        C \\approx \\frac{u_3}{\\tilde{\\sigma}(\\mathbf{u})}.\n",
    "    $$\n",
    "</p>    \n",
    "</div>   "
   ]
  },
  {
   "cell_type": "code",
   "execution_count": 164,
   "id": "15b4f6d9-73ca-4b27-b923-bfe804cc97ef",
   "metadata": {},
   "outputs": [
    {
     "name": "stdout",
     "output_type": "stream",
     "text": [
      "C from definition:\n",
      "1.37901860572385 + 1.32549303772618*I\n",
      "\n",
      "Approximate C:\n",
      "-0.394449548035149 + 0.592130183781794*I\n"
     ]
    }
   ],
   "source": [
    "u1=10^(-20)\n",
    "u3=0.0012131\n",
    "\n",
    "Capp=u3/Tsigma(u1,u3)\n",
    "print(\"C from definition:\")\n",
    "print(C)\n",
    "print()\n",
    "print(\"Approximate C:\")\n",
    "print(Capp)"
   ]
  },
  {
   "cell_type": "markdown",
   "id": "48880cba-104c-46d9-be84-0e93ef96f2d8",
   "metadata": {},
   "source": [
    "<div style=\"font-family: 'Latin Modern Roman', Times, serif; font-size: 16px;\">\n",
    "<p>\n",
    "    The result doesn't match, so it's something that can be improved in the future\n",
    "</p>   \n",
    "</div>   "
   ]
  },
  {
   "cell_type": "markdown",
   "id": "13f45ec7-c48e-4f61-b3a9-7d3c4a1a5a81",
   "metadata": {},
   "source": [
    "<div style=\"font-family: 'Latin Modern Roman', Times, serif; font-size: 16px;\">\n",
    "<h1 style=\"font-size: 24px;\">7. $\\wp$-Functions</h1>\n",
    "</div>"
   ]
  },
  {
   "cell_type": "markdown",
   "id": "73cd9d6f-1822-4bae-bd36-66ce3f136465",
   "metadata": {},
   "source": [
    "<div style=\"font-family: 'Latin Modern Roman', Times, serif; font-size: 16px;\">\n",
    "<p>\n",
    "    Belove we use definitions from <a href=\"https://arxiv.org/abs/2407.05632\" target=\"_blank\"><em>Computation of $\\wp$-functions on plane algebraic curves</em>, Julia Bernatska (2024).</a> (p.4-5)\n",
    "</p>\n",
    "</div>    "
   ]
  },
  {
   "cell_type": "markdown",
   "id": "b91eece6-fbda-418b-aa46-05765b9a49b4",
   "metadata": {},
   "source": [
    "<div style=\"background-color:  rgba(224, 224, 224, 0.25); \n",
    "    font-family: 'Latin Modern Roman', Times, serif; font-size: 16px; border: 1px solid  rgb(192, 192, 192); padding: 15px; border-radius: 5px; \">\n",
    "    <h3 style=\"font-size: 20px;color: rgb(160, 160, 160);\">Definition</h3>\n",
    "    <p>        \n",
    "        Multiply periodic Klein-Weierstrass ℘-functions are defined by\n",
    "        $$\n",
    "            \\wp_{ij}:= - \\frac{\\partial^2\\log{\\sigma(u)}}{\\partial u_i \\partial u_j}, \\quad \\wp_{ijk}:=- \\frac{\\partial^3\\log{\\sigma(u)}}{\\partial u_i \\partial u_j \\partial u_k},\n",
    "        $$\n",
    "        where $\\sigma(u)$ is called <i>sigma function</i> (Kleinian sigma) and given by\n",
    "        $$\n",
    "            \\sigma(u) = C e^{-\\frac{1}{2}u^T \\kappa u} \\theta[K](\\omega^{-1}u;\\tau).\n",
    "        $$\n",
    "        Here $[K]$ denotes the characteristic of the vector of Riemann constans.\n",
    "    </p>    \n",
    "    </div>\n",
    "\n",
    "</div>"
   ]
  },
  {
   "cell_type": "markdown",
   "id": "557b479d-10ce-458a-8327-b82c056cbb2e",
   "metadata": {},
   "source": [
    "<div style=\"font-family: 'Latin Modern Roman', Times, serif; font-size: 16px;\">\n",
    "<p>\n",
    "    It can be shown that the above definitions can be written in the form:\n",
    "    $$\n",
    "            \\wp_{ij}:=\\kappa_{ij} - \\frac{\\partial^2}{\\partial u_i \\partial u_j}\\log{\\theta[K](\\omega^{-1}u;\\tau)}, \\quad \\wp_{ijk}:=- \\frac{\\partial^3}{\\partial u_i \\partial u_j \\partial u_k}\\log{\\theta[K](\\omega^{-1}u;\\tau)}.\n",
    "        $$\n",
    "</p>\n",
    "</div>   "
   ]
  },
  {
   "cell_type": "code",
   "execution_count": 222,
   "id": "0fe5f05b-92d6-4b49-b835-367bc81d88b1",
   "metadata": {},
   "outputs": [],
   "source": [
    "# We define variables\n",
    "var('U1 U3')\n",
    "\n",
    "# We define the accuracy of theta function\n",
    "Acc=20\n",
    "\n",
    "\n",
    "# WeierstrassP11\n",
    "def WeierstrassP11(u1_val, u3_val):\n",
    "    symbolic_expr = kappa3[0, 0] - diff(log(ThetaCh(KCh, omega_inv * vector([U1, U3]), tau, Acc)), U1, 2)\n",
    "    return symbolic_expr.subs({U1: u1_val, U3: u3_val}).n()\n",
    "\n",
    "# WeierstrassP13\n",
    "def WeierstrassP13(u1_val, u3_val):\n",
    "    symbolic_expr = kappa3[0, 1] - diff(log(ThetaCh(KCh, omega_inv * vector([U1, U3]), tau, Acc)),  U1, U3)\n",
    "    return symbolic_expr.subs({U1: u1_val, U3: u3_val}).n()\n",
    "\n",
    "# WeierstrassP33\n",
    "def WeierstrassP33(u1_val, u3_val):\n",
    "    symbolic_expr = kappa3[1, 1] - diff(log(ThetaCh(KCh, omega_inv * vector([U1, U3]), tau, Acc)), U3, 2)\n",
    "    return symbolic_expr.subs({U1: u1_val, U3: u3_val}).n()\n",
    "\n",
    "# WeierstrassP3333\n",
    "def WeierstrassP3333(u1_val, u3_val):\n",
    "    symbolic_expr = kappa3[1, 1] - diff(log(ThetaCh(KCh, omega_inv * vector([U1, U3]), tau, Acc)), U3, 4)\n",
    "    return symbolic_expr.subs({U1: u1_val, U3: u3_val}).n()\n"
   ]
  },
  {
   "cell_type": "code",
   "execution_count": 217,
   "id": "abcccd47-34fc-4177-ad64-38f7c19927c5",
   "metadata": {},
   "outputs": [
    {
     "data": {
      "text/plain": [
       "8.3266726846886740531772375107e-17"
      ]
     },
     "execution_count": 217,
     "metadata": {},
     "output_type": "execute_result"
    }
   ],
   "source": [
    "kappa_corrected[1, 1] "
   ]
  },
  {
   "cell_type": "code",
   "execution_count": 213,
   "id": "644643f5-df9c-470e-b51a-e367eec78926",
   "metadata": {},
   "outputs": [
    {
     "data": {
      "text/plain": [
       "11.8957775537260 + 0.0126066843426216*I"
      ]
     },
     "execution_count": 213,
     "metadata": {},
     "output_type": "execute_result"
    }
   ],
   "source": [
    "WeierstrassP11(2.0, 3.0)"
   ]
  },
  {
   "cell_type": "markdown",
   "id": "6b4a8b4f-bc8d-4abf-804d-e790674f192f",
   "metadata": {},
   "source": [
    "<div style=\"font-family: 'Latin Modern Roman', Times, serif; font-size: 16px;\">\n",
    "<h3 style=\"font-size: 24px;\">Tests</h3>\n",
    "</div>"
   ]
  },
  {
   "cell_type": "markdown",
   "id": "e28d40d6-5544-4e5e-8740-56f1c224d537",
   "metadata": {},
   "source": [
    "<div style=\"font-family: 'Latin Modern Roman', Times, serif; font-size: 16px;\">\n",
    "<p>\n",
    "    As a first test of these functions, we can check if they satisfy the key property  \n",
    "$$\n",
    "    \\wp_{ij}(\\mathbf{u}+2\\omega \\mathbf{n} + 2\\omega'\\mathbf{n}') = \\wp_{ij}(\\mathbf{u}),\n",
    "$$\n",
    "where\n",
    "$$\n",
    "    \\mathbf{n} = \n",
    "        \\begin{pmatrix}\n",
    "            n_1\\\\\n",
    "            n_2\n",
    "        \\end{pmatrix}, \\quad\n",
    "    \\mathbf{n}' = \n",
    "        \\begin{pmatrix}\n",
    "            n'_1\\\\\n",
    "            n'_2\n",
    "        \\end{pmatrix} \\in \\mathbb{Z}^2.\n",
    "$$  \n",
    "</p>\n",
    "</d>"
   ]
  },
  {
   "cell_type": "code",
   "execution_count": 214,
   "id": "86ddb826-807a-4d75-98f8-d14caeb45aa1",
   "metadata": {},
   "outputs": [
    {
     "name": "stdout",
     "output_type": "stream",
     "text": [
      "Test P11:\n",
      "7.36690708436072e-11 + 4.90985030410229e-12*I\n",
      "Test P13:\n",
      "-1.75077730091289e-11 - 3.78008735424373e-11*I\n",
      "Test P22:\n",
      "1.20792265079217e-11 - 1.58024704433046e-11*I\n"
     ]
    }
   ],
   "source": [
    "ntest = vector([1, 2])\n",
    "nPtest = vector([-3, -5])\n",
    "\n",
    "wn = omega*ntest\n",
    "wPn= omegaP*nPtest\n",
    "\n",
    "\n",
    "print(\"Test P11:\")\n",
    "print(WeierstrassP11(2.0, 3.0) - WeierstrassP11(2.0 + 2*wn[0] + 2*wPn[0], 3.0 + 2*wn[1] + 2*wPn[1]))\n",
    "print(\"Test P13:\")\n",
    "print(WeierstrassP13(2.0, 3.0) - WeierstrassP13(2.0 + 2*wn[0] + 2*wPn[0], 3.0 + 2*wn[1] + 2*wPn[1]))\n",
    "print(\"Test P22:\")\n",
    "print(WeierstrassP33(2.0, 3.0) - WeierstrassP33(2.0 + 2*wn[0] + 2*wPn[0], 3.0 + 2*wn[1] + 2*wPn[1]))"
   ]
  },
  {
   "cell_type": "code",
   "execution_count": 215,
   "id": "211c734c-15ff-4e59-b290-8a0ad94a22ac",
   "metadata": {},
   "outputs": [
    {
     "name": "stdout",
     "output_type": "stream",
     "text": [
      "Test P11:\n",
      "3.86535248253495e-12 + 2.79243295153719e-12*I\n",
      "Test P13:\n",
      "1.31876731757075e-11 - 2.88196133624297e-11*I\n",
      "Test P33:\n",
      "5.40012479177676e-12 + 1.75077730091289e-11*I\n"
     ]
    }
   ],
   "source": [
    "ntest = vector([10, -30])\n",
    "nPtest = vector([3, -3])\n",
    "\n",
    "wn = omega*ntest\n",
    "wPn= omegaP*nPtest\n",
    "\n",
    "\n",
    "print(\"Test P11:\")\n",
    "print(WeierstrassP11(2.0, 3.0) - WeierstrassP11(2.0 + 2*wn[0] + 2*wPn[0], 3.0 + 2*wn[1] + 2*wPn[1]))\n",
    "print(\"Test P13:\")\n",
    "print(WeierstrassP13(2.0, 3.0) - WeierstrassP13(2.0 + 2*wn[0] + 2*wPn[0], 3.0 + 2*wn[1] + 2*wPn[1]))\n",
    "print(\"Test P33:\")\n",
    "print(WeierstrassP33(2.0, 3.0) - WeierstrassP33(2.0 + 2*wn[0] + 2*wPn[0], 3.0 + 2*wn[1] + 2*wPn[1]))"
   ]
  },
  {
   "cell_type": "markdown",
   "id": "868fa592-0c67-49fe-9200-54e67dc9ead0",
   "metadata": {},
   "source": [
    "<div style=\"background-color:  rgba(255, 153, 153, 0.25); \n",
    "    font-family: 'Latin Modern Roman', Times, serif; font-size: 16px; border: 1px solid  rgb(255, 51,51); padding: 15px; border-radius: 5px; \">\n",
    "    <h3 style=\"font-size: 20px;color: rgb(255, 51,51);\">Important</h3>\n",
    "    <p>\n",
    "    I'm not sure why (probably from the way SageMath deals with numerics) the above test is satisfied for arbitrary vectors $\\mathbf{n}$ however the coordinates of vectors $\\mathbf{n}'$ should be \"small\", i.e. $|n'_i|<4$.     \n",
    "</div>"
   ]
  },
  {
   "cell_type": "markdown",
   "id": "0a0340da-73f2-4337-9ca0-ddbbe7b980df",
   "metadata": {},
   "source": [
    "<div style=\"font-family: 'Latin Modern Roman', Times, serif; font-size: 16px;\">\n",
    "<p>\n",
    "    For future tests it would be good to derive one of the classical relations between derivatives of the function $\\wp_{ij}$ for our specific parameterisation of the curve. Something similar like in (<a href=\"https://www.cambridge.org/core/journals/mathematical-proceedings-of-the-cambridge-philosophical-society/article/abs/sl2-covariant-theory-of-genus-2-hyperelliptic-functions/2EE97A3BFFF5F70DE28F31560F0AC482\" target=\"_blank\"><em>Athorne C., Eilbeck J.C., Enolskii V.Z., A SL(2) covariant theory of genus 2 hyperelliptic functions, Math.\n",
    "Proc. Cambridge Philos. Soc. 136 (2004), 269–286.</a>)\n",
    "</p>\n",
    "</d>\n"
   ]
  },
  {
   "cell_type": "markdown",
   "id": "351fa355-f96e-40c7-9410-c5c6c770aa5a",
   "metadata": {},
   "source": [
    "<div style=\"font-family: 'Latin Modern Roman', Times, serif; font-size: 16px;\">\n",
    "<h1 style=\"font-size: 24px;\">Jacobi inversion problem on branch points</h1>\n",
    "</div>"
   ]
  },
  {
   "cell_type": "markdown",
   "id": "a7ffce95-62f1-4257-9675-c3534bd3649b",
   "metadata": {},
   "source": [
    "<div style=\"font-family: 'Latin Modern Roman', Times, serif; font-size: 16px;\">\n",
    "<p>\n",
    "    Let $u=\\mathcal{A}(D)$ be the Abel image of a degree g positive non-special divisor $D$ on the curve. Then $D$ is uniquely defined by the system of equations:\n",
    "$$\n",
    "     \\mathcal{R}_{2g}(x;u) = x^g - \\sum_{i=1}^g x^{g-1} \\wp_{1,2i-1}(u) =0,\n",
    "$$\n",
    "$$\n",
    "     \\mathcal{R}_{2g+1}(x,y;u) = 2y + \\sum_{i=1}^{g-i} x^{g-1} \\wp_{1,1,2i-1}(u) =0.\n",
    "$$\n",
    "So in case of $g=2$:    \n",
    "$$\n",
    "    \\mathcal{R}_4(x;u)=x^2 - x\\wp_{11}(u)- \\wp_{13}(u)=0,\n",
    "$$    \n",
    "$$\n",
    "     \\mathcal{R}_5 (x;u)= 2y + x\\wp_{111}(u) + \\wp_{113}(u)=0.\n",
    "$$  \n",
    "\n",
    "    \n",
    "</p>\n",
    "</d>"
   ]
  },
  {
   "cell_type": "markdown",
   "id": "49e0503f-0b9a-4ab4-98a2-1fbe04bd4885",
   "metadata": {},
   "source": [
    "<div style=\"font-family: 'Latin Modern Roman', Times, serif; font-size: 16px;\">\n",
    "<h3 style=\"font-size: 24px;\">Divisor</h3>\n",
    "</div>"
   ]
  },
  {
   "cell_type": "markdown",
   "id": "93e8d531-e1a0-4bbe-94cf-2f5a470bb679",
   "metadata": {},
   "source": [
    "<div style=\"background-color:  rgba(224, 224, 224, 0.25); \n",
    "    font-family: 'Latin Modern Roman', Times, serif; font-size: 16px; border: 1px solid  rgb(192, 192, 192); padding: 15px; border-radius: 5px; \">\n",
    "    <h3 style=\"font-size: 20px;color: rgb(160, 160, 160);\">Definition</h3>\n",
    "    <p>        \n",
    "        Let \n",
    "        $$\n",
    "            D=\\sum_{i=1}^n P_i,\n",
    "        $$\n",
    "        be a divisor on a curve $\\mathscr{C}$. We assume that $D$ is <b>non-special</b>, that is \n",
    "        <ul>\n",
    "          <li> $ n\\geq g$,\n",
    "          <li> $D$ does not contain pairs of points connected by the hyperelliptic involution.\n",
    "        </ul>\n",
    "    </p>    \n",
    "    </div>\n",
    "\n",
    "</div>"
   ]
  },
  {
   "cell_type": "markdown",
   "id": "aa0db3de-733b-4620-b843-890bf3762e60",
   "metadata": {},
   "source": [
    "<div style=\"background-color:  rgba(153, 204, 255, 0.25); \n",
    "    font-family: 'Latin Modern Roman', Times, serif; font-size: 16px; border: 1px solid  rgb(0, 128,255); padding: 15px; border-radius: 5px; \">\n",
    "    <h3 style=\"font-size: 20px;color: rgb(0, 128,255);\">Note</h3>\n",
    "    <p>\n",
    "    On special divisors $\\sigma$-function vanishes, and so $\\wp$-functions have singularities.\n",
    "  </p>\n",
    "</div>"
   ]
  },
  {
   "cell_type": "markdown",
   "id": "70a215ff-ca4b-4539-b52a-431a686b0d36",
   "metadata": {},
   "source": [
    "<div style=\"font-family: 'Latin Modern Roman', Times, serif; font-size: 16px;\">\n",
    "<p>\n",
    "As a point $P_i$ we choose\n",
    "$$\n",
    "    P_i = (x_i,y_i) = (x_i, y_{+}(x_i)),\n",
    "$$\n",
    "where $y_{+}(x) = + \\sqrt{y^2(x)}$ (there is second option $y_{-}(x) = - \\sqrt{y^2(x)}$ ). \n",
    "\n",
    "In our case let's take\n",
    "$$\n",
    "    P_1 = (x_1, y_1)=(1.5,y_{+}(1.5))\n",
    "$$\n",
    "$$\n",
    "    P_2 = (x_2, y_2)=(3.1,y_{+}(3.1))\n",
    "$$\n",
    "</p> \n",
    "</div>"
   ]
  },
  {
   "cell_type": "code",
   "execution_count": 201,
   "id": "1b753b5e-7c68-4a10-910b-88741200b2e6",
   "metadata": {},
   "outputs": [],
   "source": [
    "# Definition of y function \n",
    "def y(x):\n",
    "    res = sqrt(l0*x^5 + l2*x^4 + l4*x^3 + l6*x^2 + l8*x + l10)\n",
    "    return res.n()"
   ]
  },
  {
   "cell_type": "markdown",
   "id": "adbfc3f8-928e-42ef-929f-f5f644c5b7c9",
   "metadata": {},
   "source": [
    "<div style=\"font-family: 'Latin Modern Roman', Times, serif; font-size: 16px;\">\n",
    "<p>\n",
    "    To calculate $u$ I will use the Sage function:  <code style=\"color: #66d9ef;font-size: 13px;\">abel_jacobi()</code>, \n",
    "    where it expects lists of tuples in the format  <code style=\"color: #66d9ef;font-size: 13px;font-size: 13px;\">(v,P)</code>, where  <code style=\"color: #66d9ef;font-size: 13px;\">v</code> is the multiplicity of the point in the divisor (in our case 1 for both points), and  <code style=\"color: #66d9ef;font-size: 13px;\">P</code> is a tuple  <code style=\"color: #66d9ef;font-size: 13px;\">(x,y)</code> representing the point on the curve. \n",
    "\n",
    "The multiplicity <code style=\"color: #66d9ef;font-size: 13px;\">v</code> (also called valuation) in the context of divisors determines how many times a given point appears in the divisor. Here are some key points:\n",
    "<ul>\n",
    "    <li> For regular points on the curve that are neither singular points nor points at infinity, typically $v = 1$ or $v = -1$ is used.\n",
    "$v = 1$ means the point appears positively in the divisor (it is \"added\").\n",
    "    <li> $v = -1$ means the point appears negatively in the divisor (it is \"subtracted\").\n",
    "    <li> If a point appears multiple times, $v$ can be greater than 1 or less than -1.\n",
    "    <li> For special points (e.g., points at infinity or singular points), v may take other values depending on the local structure of the curve at that point.\n",
    "</ul>\n",
    "\n",
    "In your case, where you define the divisor as a sum of two regular points: <code style=\"color: #66d9ef;font-size: 13px;\">D = [x1 + x2, y1 + y2]</code>\n",
    "\n",
    "each of these points appears once positively in the divisor, so for both points <code style=\"color: #66d9ef;font-size: 13px;\">v = 1</code>.\n",
    "Therefore, divisor in the format suitable for the <code style=\"color: #66d9ef;font-size: 13px;\">abel_jacobi()</code> function would look like this:    \n",
    "</p>\n",
    "</div> "
   ]
  },
  {
   "cell_type": "code",
   "execution_count": 310,
   "id": "cd20541a-b2d6-4abb-8da6-bb16765fa39b",
   "metadata": {},
   "outputs": [],
   "source": [
    "x1 = 0.256\n",
    "x2 = 11.721\n",
    "\n",
    "y1 = y(x1)\n",
    "y2 = y(x2)\n",
    "\n",
    "# P_i points\n",
    "P1 = [ x1, y1 ] \n",
    "P2 = [ x2, y2 ]\n",
    "\n",
    "# Divisor\n",
    "divisor = [(1, (x1, y1)), (1, (x2, y2))]"
   ]
  },
  {
   "cell_type": "markdown",
   "id": "703f907e-0a7f-4c7d-bcdf-7ccc6d7026eb",
   "metadata": {},
   "source": [
    "<div style=\"background-color:  rgba(153, 204, 255, 0.25); \n",
    "    font-family: 'Latin Modern Roman', Times, serif; font-size: 16px; border: 1px solid  rgb(0, 128,255); padding: 15px; border-radius: 5px; \">\n",
    "    <h3 style=\"font-size: 20px;color: rgb(0, 128,255);\">Note</h3>\n",
    "    <p>\n",
    "    If one wanted to define a more complex divisor, for example, the difference of two points, it might look like this:<br>\n",
    "        <code style=\"color: #66d9ef;font-size: 13px;\">divisor = [(1, (x1, y1)), (-1, (x2, y2))]</code><br>\n",
    "    where -1 indicates that the second point is subtracted in the divisor.\n",
    "  </p>\n",
    "</div>"
   ]
  },
  {
   "cell_type": "code",
   "execution_count": 311,
   "id": "d989969f-dec2-4ebd-9cf2-7c3d499fa1d4",
   "metadata": {},
   "outputs": [
    {
     "name": "stdout",
     "output_type": "stream",
     "text": [
      "(-0.30269421809201187120315902188 - 0.22770084988037090218772156935*I, -0.91931497260357529660161345932 - 0.10962616368668752729711431656*I)\n"
     ]
    }
   ],
   "source": [
    "AJ = S.abel_jacobi(divisor)\n",
    "\n",
    "print(AJ)"
   ]
  },
  {
   "cell_type": "code",
   "execution_count": 312,
   "id": "978f4429-cb60-469e-a8cb-a947ff5c4fa3",
   "metadata": {},
   "outputs": [
    {
     "name": "stdout",
     "output_type": "stream",
     "text": [
      "P11(u):\n",
      "-1.53182113011917 - 3.88316462965708*I\n",
      "P13(u):\n",
      "-0.0169263932362416 + 1.05195473050752*I\n",
      "P33(u):\n",
      "-1.53182113011917 - 3.88316462965708*I\n"
     ]
    }
   ],
   "source": [
    "u1=AJ[0]\n",
    "u3=AJ[1]\n",
    "\n",
    "print(\"P11(u):\")\n",
    "print(WeierstrassP11(u1, u3))\n",
    "\n",
    "print(\"P13(u):\")\n",
    "print(WeierstrassP13(u1, u3))\n",
    "\n",
    "print(\"P33(u):\")\n",
    "print(WeierstrassP11(u1, u3))"
   ]
  },
  {
   "cell_type": "code",
   "execution_count": 182,
   "id": "c116cf42-ab00-4d50-a23d-3b567867e28f",
   "metadata": {},
   "outputs": [
    {
     "data": {
      "text/plain": [
       "x^2 - 4.60000000000000*x + 4.65000000000000"
      ]
     },
     "execution_count": 182,
     "metadata": {},
     "output_type": "execute_result"
    }
   ],
   "source": [
    "mat1R4=[[1, x, x^2],[ 1, x1, x1^2], [1, x2, x2^2]]\n",
    "det1=matrix(mat1R4).determinant()\n",
    "mat2R4=[[ 1, x1], [1, x2]]\n",
    "det2=matrix(mat2R4).determinant()\n",
    "det1/det2"
   ]
  },
  {
   "cell_type": "code",
   "execution_count": 193,
   "id": "6d3caefc-990a-45bd-a914-3fb7e041da62",
   "metadata": {},
   "outputs": [
    {
     "data": {
      "text/plain": [
       "[-0.28894051659491727053198126116 + 0.70313185894233016076225443297*I -0.12635796158332736323971480685 - 0.46285834890234657401517148950*I]\n",
       "[-0.12635796158332736323971480685 - 0.46285834890234657401517148950*I  -0.25853994561462262289643639720 + 1.6327832818443367356295636596*I]"
      ]
     },
     "execution_count": 193,
     "metadata": {},
     "output_type": "execute_result"
    }
   ],
   "source": [
    "matrix(tau)"
   ]
  },
  {
   "cell_type": "code",
   "execution_count": 194,
   "id": "b4f07fbb-7064-41a8-92d3-72af44f07e07",
   "metadata": {},
   "outputs": [
    {
     "data": {
      "text/plain": [
       "-0.17005726236556709874687980647 - 0.47103938123276306779408678278*I"
      ]
     },
     "execution_count": 194,
     "metadata": {},
     "output_type": "execute_result"
    }
   ],
   "source": [
    "u1"
   ]
  },
  {
   "cell_type": "code",
   "execution_count": 197,
   "id": "88c01a04-d200-4164-8d15-c446d9576c6c",
   "metadata": {},
   "outputs": [
    {
     "data": {
      "text/plain": [
       "-0.87278063089068554187468893709 - 0.36651365565790567383047992719*I"
      ]
     },
     "execution_count": 197,
     "metadata": {},
     "output_type": "execute_result"
    }
   ],
   "source": [
    "u3"
   ]
  },
  {
   "cell_type": "code",
   "execution_count": 224,
   "id": "66e63ac8-d2e4-48e7-a560-24b15924ba41",
   "metadata": {},
   "outputs": [
    {
     "data": {
      "text/plain": [
       "e^2"
      ]
     },
     "execution_count": 224,
     "metadata": {},
     "output_type": "execute_result"
    }
   ],
   "source": [
    "exp(2)"
   ]
  },
  {
   "cell_type": "code",
   "execution_count": 267,
   "id": "e9e3d4ee-7f29-4801-ac54-ec760ad45cc5",
   "metadata": {},
   "outputs": [],
   "source": [
    "#koduje funkcje sigma bez stalej C\n",
    "# We define variables\n",
    "var('U1 U3')\n",
    "\n",
    "# We define the accuracy of theta function\n",
    "Acc=20\n",
    "\n",
    "\n",
    "# sigma\n",
    "def sigma(U1, U3):\n",
    "    e = exp(-(1/2)*(vector([U1, U3])*kappa*vector([U1, U3])))\n",
    "    theta = ThetaCh(KCh, omega_inv * vector([U1, U3]), tau, Acc)\n",
    "    return e*theta\n",
    "    \n"
   ]
  },
  {
   "cell_type": "code",
   "execution_count": 268,
   "id": "8d9924ed-e3f4-4e54-9e53-6deebfa4a589",
   "metadata": {},
   "outputs": [
    {
     "data": {
      "text/plain": [
       "1.10670995245972e24 + 1.66134394324279e24*I"
      ]
     },
     "execution_count": 268,
     "metadata": {},
     "output_type": "execute_result"
    }
   ],
   "source": [
    "sigma(2.0,3.0)"
   ]
  },
  {
   "cell_type": "code",
   "execution_count": 269,
   "id": "a2eb1c26-0b41-43b3-a748-820c8f2bc40f",
   "metadata": {},
   "outputs": [],
   "source": [
    "# WeierstrassP11\n",
    "def Weierstrass2P11(u1_val, u3_val):\n",
    "    U1, U3 = var('U1 U3')\n",
    "    sigma_expr = sigma(U1, U3)\n",
    "    sigma1 = diff(sigma_expr, U1)\n",
    "    sigma11 = diff(sigma_expr, U1, 2)\n",
    "    symbolic_expr = (sigma1*sigma1 - sigma_expr*sigma11)/(sigma_expr^2)\n",
    "    return symbolic_expr.subs({U1: u1_val, U3: u3_val}).n()\n",
    "\n",
    "# WeierstrassP13\n",
    "def Weierstrass2P13(u1_val, u3_val):\n",
    "    U1, U3 = var('U1 U3')\n",
    "    sigma_expr = sigma(U1, U3)\n",
    "    sigma1 = diff(sigma_expr, U1)\n",
    "    sigma3 = diff(sigma_expr, U3)\n",
    "    sigma13 = diff(sigma_expr, U1, U3)\n",
    "    symbolic_expr = (sigma1*sigma3 - sigma_expr*sigma13)/(sigma_expr^2)\n",
    "    return symbolic_expr.subs({U1: u1_val, U3: u3_val}).n()\n",
    "    \n",
    "# WeierstrassP33\n",
    "def Weierstrass2P33(u1_val, u3_val):\n",
    "    U1, U3 = var('U1 U3')\n",
    "    sigma_expr = sigma(U1, U3)\n",
    "    sigma3 = diff(sigma_expr, U3)\n",
    "    sigma33 = diff(sigma_expr, U3, 2)\n",
    "    symbolic_expr = (sigma3*sigma3 - sigma_expr*sigma33)/(sigma_expr^2)\n",
    "    return symbolic_expr.subs({U1: u1_val, U3: u3_val}).n()    "
   ]
  },
  {
   "cell_type": "code",
   "execution_count": 258,
   "id": "337f4bdb-2160-49c7-81ba-3a49d42a1300",
   "metadata": {},
   "outputs": [
    {
     "name": "stdout",
     "output_type": "stream",
     "text": [
      "P11(u):\n",
      "1.47640406831342 - 2.57861176255153*I\n",
      "P13(u):\n",
      "-2.99942112567253 + 0.928326924507079*I\n",
      "P33(u):\n",
      "1.47640406831342 - 2.57861176255153*I\n"
     ]
    }
   ],
   "source": [
    "print(\"P11(u):\")\n",
    "print(Weierstrass2P11(u1, u3))\n",
    "\n",
    "print(\"P13(u):\")\n",
    "print(Weierstrass2P13(u1, u3))\n",
    "\n",
    "print(\"P33(u):\")\n",
    "print(Weierstrass2P11(u1, u3))"
   ]
  },
  {
   "cell_type": "code",
   "execution_count": 254,
   "id": "993ba369-f3c6-458b-98b9-6e27a2edeb55",
   "metadata": {},
   "outputs": [
    {
     "name": "stdout",
     "output_type": "stream",
     "text": [
      "P11(u):\n",
      "-0.929748758055955 - 6.07585156675875*I\n",
      "P13(u):\n",
      "-2.45819622949364 + 2.42561357437687*I\n",
      "P33(u):\n",
      "-0.929748758055955 - 6.07585156675875*I\n"
     ]
    }
   ],
   "source": [
    "print(\"P11(u):\")\n",
    "print(Weierstrass2P11(u1, u3))\n",
    "\n",
    "print(\"P13(u):\")\n",
    "print(Weierstrass2P13(u1, u3))\n",
    "\n",
    "print(\"P33(u):\")\n",
    "print(Weierstrass2P11(u1, u3))"
   ]
  },
  {
   "cell_type": "code",
   "execution_count": 240,
   "id": "225aa7fb-6396-4721-9b65-4f4b2a55bfcc",
   "metadata": {},
   "outputs": [
    {
     "data": {
      "text/plain": [
       "11.7981517058062 + 3.39007693307987e-14*I"
      ]
     },
     "execution_count": 240,
     "metadata": {},
     "output_type": "execute_result"
    }
   ],
   "source": [
    "Weierstrass2P11(2.0, 3.0)"
   ]
  },
  {
   "cell_type": "code",
   "execution_count": 242,
   "id": "46338c72-1037-47ef-a68b-a4444df39852",
   "metadata": {},
   "outputs": [
    {
     "name": "stdout",
     "output_type": "stream",
     "text": [
      "Test P11:\n",
      "-3.83835185857606e-11 - 8.69591917870788e-13*I\n",
      "Test P13:\n",
      "1.44328993201270e-13 - 4.91384710699094e-13*I\n",
      "Test P22:\n",
      "3.70192765331012e-12 + 1.52889644364472e-11*I\n"
     ]
    }
   ],
   "source": [
    "ntest = vector([1, 2])\n",
    "nPtest = vector([-3, -5])\n",
    "\n",
    "wn = omega*ntest\n",
    "wPn= omegaP*nPtest\n",
    "\n",
    "\n",
    "print(\"Test P11:\")\n",
    "print(Weierstrass2P11(2.0, 3.0) - Weierstrass2P11(2.0 + 2*wn[0] + 2*wPn[0], 3.0 + 2*wn[1] + 2*wPn[1]))\n",
    "print(\"Test P13:\")\n",
    "print(Weierstrass2P13(2.0, 3.0) - Weierstrass2P13(2.0 + 2*wn[0] + 2*wPn[0], 3.0 + 2*wn[1] + 2*wPn[1]))\n",
    "print(\"Test P22:\")\n",
    "print(Weierstrass2P33(2.0, 3.0) - Weierstrass2P33(2.0 + 2*wn[0] + 2*wPn[0], 3.0 + 2*wn[1] + 2*wPn[1]))"
   ]
  },
  {
   "cell_type": "code",
   "execution_count": 245,
   "id": "4b77ef10-a44c-47ba-8b7c-a12333850408",
   "metadata": {},
   "outputs": [
    {
     "name": "stdout",
     "output_type": "stream",
     "text": [
      "Test P11:\n",
      "-1.10755848936606e-11 + 3.40487916107288e-12*I\n",
      "Test P13:\n",
      "3.13971071363994e-13 - 8.06466005087714e-13*I\n",
      "Test P33:\n",
      "-7.43440864425793e-11 - 1.45469296147977e-11*I\n"
     ]
    }
   ],
   "source": [
    "ntest = vector([1, -2])\n",
    "nPtest = vector([3, -3])\n",
    "\n",
    "wn = omega*ntest\n",
    "wPn= omegaP*nPtest\n",
    "\n",
    "\n",
    "print(\"Test P11:\")\n",
    "print(Weierstrass2P11(2.0, 3.0) - Weierstrass2P11(2.0 + 2*wn[0] + 2*wPn[0], 3.0 + 2*wn[1] + 2*wPn[1]))\n",
    "print(\"Test P13:\")\n",
    "print(Weierstrass2P13(2.0, 3.0) - Weierstrass2P13(2.0 + 2*wn[0] + 2*wPn[0], 3.0 + 2*wn[1] + 2*wPn[1]))\n",
    "print(\"Test P33:\")\n",
    "print(Weierstrass2P33(2.0, 3.0) - Weierstrass2P33(2.0 + 2*wn[0] + 2*wPn[0], 3.0 + 2*wn[1] + 2*wPn[1]))"
   ]
  },
  {
   "cell_type": "code",
   "execution_count": 246,
   "id": "026f6293-1275-4f97-98f4-b75a67a881c3",
   "metadata": {},
   "outputs": [
    {
     "name": "stdout",
     "output_type": "stream",
     "text": [
      "P11(u):\n",
      "1.37877822039030 - 2.59121844689417*I\n",
      "P13(u):\n",
      "-3.14919615633013 + 0.630783505267642*I\n",
      "P33(u):\n",
      "1.37877822039030 - 2.59121844689417*I\n"
     ]
    }
   ],
   "source": [
    "print(\"P11(u):\")\n",
    "print(Weierstrass2P11(u1, u3))\n",
    "\n",
    "print(\"P13(u):\")\n",
    "print(Weierstrass2P13(u1, u3))\n",
    "\n",
    "print(\"P33(u):\")\n",
    "print(Weierstrass2P11(u1, u3))"
   ]
  },
  {
   "cell_type": "code",
   "execution_count": 270,
   "id": "7b4fb3c3-55d7-4ab8-854b-87b6949405b0",
   "metadata": {},
   "outputs": [
    {
     "name": "stdout",
     "output_type": "stream",
     "text": [
      "11.7981517058061 + 1.11341620076156e-13*I\n"
     ]
    }
   ],
   "source": [
    "print(Weierstrass2P11(2, 3))"
   ]
  },
  {
   "cell_type": "code",
   "execution_count": 271,
   "id": "e95d72f9-6aba-46ee-9070-b826093ae6fc",
   "metadata": {},
   "outputs": [
    {
     "name": "stdout",
     "output_type": "stream",
     "text": [
      "42.9777755224962 + 4.61734116474955e-15*I\n"
     ]
    }
   ],
   "source": [
    "print(Weierstrass2P33(2, 3))"
   ]
  },
  {
   "cell_type": "code",
   "execution_count": 272,
   "id": "cacb2d4a-85cd-4fe3-96bf-56d6ebe551ff",
   "metadata": {},
   "outputs": [
    {
     "data": {
      "text/plain": [
       "(-0.17005726236556709874687980647 - 0.47103938123276306779408678278*I, -0.87278063089068554187468893709 - 0.36651365565790567383047992719*I)"
      ]
     },
     "execution_count": 272,
     "metadata": {},
     "output_type": "execute_result"
    }
   ],
   "source": [
    "AJ"
   ]
  },
  {
   "cell_type": "code",
   "execution_count": 277,
   "id": "949e26cf-fdca-4632-a57e-ab9e4cdb912c",
   "metadata": {},
   "outputs": [
    {
     "name": "stdout",
     "output_type": "stream",
     "text": [
      "Abel-Jacobi dla pojedynczego punktu: (-0.065174173866923402997166031114 - 0.23551969061638153389704339139*I, -0.39408568844230372172965634730 - 0.18325682782895283691523996360*I)\n",
      "Abel-Jacobi dla sumy dwóch punktów: (-0.17005726236556709874687980647 - 0.47103938123276306779408678278*I, -0.87278063089068554187468893709 - 0.36651365565790567383047992719*I)\n",
      "Teoretyczna suma: [-0.17005726236556709874687980647 - 0.47103938123276306779408678278*I, -0.87278063089068554187468893709 - 0.36651365565790567383047992719*I]\n",
      "Różnica: [0.00000000000000000000000000000, 0.00000000000000000000000000000]\n",
      "℘₁₁(u) = 1.37877822039030 - 2.59121844689417*I\n",
      "℘₃₃(u) = 5.99050403732848 + 23.9103309302003*I\n",
      "Theoretical ℘₁₁(u) = 4.60000000000000\n",
      "Theoretical ℘₃₃(u) = 4.65000000000000\n",
      "Relative error for ℘₁₁: 0.898714761606547\n",
      "Relative error for ℘₃₃: 5.15008136020061\n"
     ]
    }
   ],
   "source": [
    "# Zakładamy, że R.<x, y> = PolynomialRing(QQ, 2) i S = RiemannSurface(f, prec=100) są już zdefiniowane\n",
    "\n",
    "# Tworzymy pierścień wielomianów jednej zmiennej\n",
    "R_x.<x> = PolynomialRing(QQ)\n",
    "\n",
    "# Konwertujemy f na wielomian jednej zmiennej\n",
    "f_x = R_x(f.subs(y=0))\n",
    "\n",
    "# Definiujemy krzywą hipereliptyczną\n",
    "HC = HyperellipticCurve(f_x)\n",
    "\n",
    "# Funkcja do znajdowania punktu na krzywej bliskiego danemu x\n",
    "def find_point_on_curve(x_val):\n",
    "    y_val = y(x_val)\n",
    "    # Znajdujemy najbliższy punkt na krzywej\n",
    "    P = HC.point([x_val, y_val, 1], check=False)\n",
    "    # Zwracamy tylko współrzędne x i y\n",
    "    return (P[0], P[1])\n",
    "\n",
    "# Testowanie dla pojedynczego punktu\n",
    "x1 = 1.5\n",
    "P1 = find_point_on_curve(x1)\n",
    "u_single = S.abel_jacobi([(1, P1)])\n",
    "print(f\"Abel-Jacobi dla pojedynczego punktu: {u_single}\")\n",
    "\n",
    "# Testowanie dla sumy dwóch punktów\n",
    "x2 = 3.1\n",
    "P2 = find_point_on_curve(x2)\n",
    "u_sum = S.abel_jacobi([(1, P1), (1, P2)])\n",
    "print(f\"Abel-Jacobi dla sumy dwóch punktów: {u_sum}\")\n",
    "\n",
    "# Sprawdzenie addytywności\n",
    "u_theoretical_sum = [u_single[i] + S.abel_jacobi([(1, P2)])[i] for i in range(len(u_single))]\n",
    "print(f\"Teoretyczna suma: {u_theoretical_sum}\")\n",
    "print(f\"Różnica: {[u_sum[i] - u_theoretical_sum[i] for i in range(len(u_sum))]}\")\n",
    "\n",
    "# Obliczanie wartości ℘-funkcji\n",
    "u1, u3 = u_sum[0], u_sum[1]\n",
    "p11 = Weierstrass2P11(u1, u3)\n",
    "p33 = Weierstrass2P33(u1, u3)\n",
    "print(f\"℘₁₁(u) = {p11}\")\n",
    "print(f\"℘₃₃(u) = {p33}\")\n",
    "\n",
    "# Porównanie z teoretycznymi wartościami\n",
    "theoretical_p11 = x1 + x2\n",
    "theoretical_p33 = x1 * x2\n",
    "print(f\"Theoretical ℘₁₁(u) = {theoretical_p11}\")\n",
    "print(f\"Theoretical ℘₃₃(u) = {theoretical_p33}\")\n",
    "\n",
    "# Obliczanie błędów względnych\n",
    "relative_error_p11 = abs((p11 - theoretical_p11) / theoretical_p11)\n",
    "relative_error_p33 = abs((p33 - theoretical_p33) / theoretical_p33)\n",
    "print(f\"Relative error for ℘₁₁: {relative_error_p11}\")\n",
    "print(f\"Relative error for ℘₃₃: {relative_error_p33}\")"
   ]
  },
  {
   "cell_type": "code",
   "execution_count": 334,
   "id": "cd7431bd-60a9-4be7-8d3d-da597ffa5e8f",
   "metadata": {},
   "outputs": [],
   "source": []
  },
  {
   "cell_type": "code",
   "execution_count": 307,
   "id": "046033de-ef9a-4413-9435-1b5cd763ea50",
   "metadata": {},
   "outputs": [
    {
     "name": "stdout",
     "output_type": "stream",
     "text": [
      "Test parzystości sigma:\n",
      "sigma(u) = -157.4334395992811 + 7.19758642057548*I\n",
      "sigma(-u) = 157.43343959928112 - 7.197586420575453*I\n",
      "Różnica: 315.19576871742515\n"
     ]
    }
   ],
   "source": [
    "sigma_u = sigma(u1, u3)\n",
    "sigma_minus_u = sigma(-u1, -u3)\n",
    "print(\"Test parzystości sigma:\")\n",
    "print(f\"sigma(u) = {sigma_u}\")\n",
    "print(f\"sigma(-u) = {sigma_minus_u}\")\n",
    "print(f\"Różnica: {abs(sigma_u - sigma_minus_u)}\")"
   ]
  },
  {
   "cell_type": "code",
   "execution_count": 308,
   "id": "e74ed161-c203-4743-8a3d-58ff1660ad36",
   "metadata": {},
   "outputs": [
    {
     "data": {
      "text/plain": [
       "2.35323058486173e-7 - 1.10889555431735e-7*I"
      ]
     },
     "execution_count": 308,
     "metadata": {},
     "output_type": "execute_result"
    }
   ],
   "source": [
    "ntest = vector([1, -2])\n",
    "nPtest = vector([3, -3])\n",
    "\n",
    "wn = omega*ntest\n",
    "wPn= omegaP*nPtest\n",
    "\n",
    "\n",
    "sigma(2.+2*wn[0],3.+2*wPn[0])"
   ]
  },
  {
   "cell_type": "code",
   "execution_count": 309,
   "id": "be953580-9f9e-4a32-8e9f-f8f7f5362b07",
   "metadata": {},
   "outputs": [
    {
     "name": "stdout",
     "output_type": "stream",
     "text": [
      "-4.39547709854984e-32 - 2.71046962445576e-32*I\n"
     ]
    }
   ],
   "source": [
    "etan = eta*ntest\n",
    "etaPn = etaP*nPtest \n",
    "v1=etan + etaPn\n",
    "v2=vector([2,3]) + wn + wPn\n",
    "print(exp(2*(v1*v2))*sigma(2.,3.))\n"
   ]
  },
  {
   "cell_type": "code",
   "execution_count": 317,
   "id": "e6d5f181-ebb4-4102-9181-c2821d876f63",
   "metadata": {},
   "outputs": [
    {
     "name": "stdout",
     "output_type": "stream",
     "text": [
      "Abel-Jacobi dla x = 0: (-0.20608965991389431559641971318 + 0.0078188407360106317093218220405*I, -0.29208115552256146506948503960 + 0.073630664142265309618125647033*I)\n",
      "Abel-Jacobi dla x = 1: (-0.096648835565370631058888321606 + 0.0078188407360106317093218220405*I, -0.24401860009926526794694362878 + 0.073630664142265309618125647033*I)\n",
      "Abel-Jacobi dla x = 2: (-0.083540872300351449750073207499 - 0.23551969061638153389704339139*I, -0.42587828110686288424783452622 - 0.18325682782895283691523996360*I)\n",
      "Abel-Jacobi dla x = -1: (-0.37850037219487754186205812489 - 0.20709267633833631369239909406*I, -0.23222527840556563027489284467 + 0.22583019239277003109692685904*I)\n",
      "Abel-Jacobi dla x = 0.500000000000000: (-0.14152888118735414204217220377 + 0.0078188407360106317093218220405*I, -0.27696633164394864326038947187 + 0.073630664142265309618125647033*I)\n"
     ]
    }
   ],
   "source": [
    "def test_abel_jacobi(x_values):\n",
    "    results = []\n",
    "    for x in x_values:\n",
    "        P = find_point_on_curve(x)\n",
    "        result = S.abel_jacobi([(1, P)])\n",
    "        results.append((x, result))\n",
    "    return results\n",
    "\n",
    "x_test = [0, 1, 2, -1, 0.5]\n",
    "aj_results = test_abel_jacobi(x_test)\n",
    "\n",
    "for x, result in aj_results:\n",
    "    print(f\"Abel-Jacobi dla x = {x}: {result}\")"
   ]
  },
  {
   "cell_type": "code",
   "execution_count": 318,
   "id": "a2bd3a91-a9fa-41e1-b38c-cf6675deb6cb",
   "metadata": {},
   "outputs": [
    {
     "name": "stdout",
     "output_type": "stream",
     "text": [
      "A(P1) + A(P2): [-0.18018970786572208080896152910 - 0.22770084988037090218772156935*I, -0.66989688120612815219477815500 - 0.10962616368668752729711431656*I]\n",
      "A(P1 + P2): (-0.18018970786572208080896152910 - 0.22770084988037090218772156935*I, -0.66989688120612815219477815500 - 0.10962616368668752729711431656*I)\n",
      "Różnica: [0.00000000000000000000000000000, 0.00000000000000000000000000000]\n"
     ]
    }
   ],
   "source": [
    "def test_additivity():\n",
    "    P1 = find_point_on_curve(1)\n",
    "    P2 = find_point_on_curve(2)\n",
    "    \n",
    "    aj_P1 = S.abel_jacobi([(1, P1)])\n",
    "    aj_P2 = S.abel_jacobi([(1, P2)])\n",
    "    aj_sum = S.abel_jacobi([(1, P1), (1, P2)])\n",
    "    \n",
    "    theoretical_sum = [aj_P1[i] + aj_P2[i] for i in range(len(aj_P1))]\n",
    "    \n",
    "    print(f\"A(P1) + A(P2): {theoretical_sum}\")\n",
    "    print(f\"A(P1 + P2): {aj_sum}\")\n",
    "    print(f\"Różnica: {[aj_sum[i] - theoretical_sum[i] for i in range(len(aj_sum))]}\")\n",
    "\n",
    "test_additivity()"
   ]
  },
  {
   "cell_type": "code",
   "execution_count": 319,
   "id": "d5460abf-be20-458f-9fc5-fb997e132ce4",
   "metadata": {},
   "outputs": [
    {
     "name": "stdout",
     "output_type": "stream",
     "text": [
      "Abel-Jacobi dla punktu blisko nieskończoności: (-0.13929891762990592017950537757 + 0.25115737208840279731568703551*I, -0.88731905067879181636564296709 + 0.33051815611348345615149125772*I)\n"
     ]
    }
   ],
   "source": [
    "def test_infinity():\n",
    "    # Próba znalezienia punktu blisko nieskończoności\n",
    "    P_inf = find_point_on_curve(1e6)\n",
    "    aj_inf = S.abel_jacobi([(1, P_inf)])\n",
    "    print(f\"Abel-Jacobi dla punktu blisko nieskończoności: {aj_inf}\")\n",
    "\n",
    "test_infinity()"
   ]
  },
  {
   "cell_type": "code",
   "execution_count": 320,
   "id": "6353890a-5e39-4c58-940b-2b7d8faa71cc",
   "metadata": {},
   "outputs": [
    {
     "name": "stdout",
     "output_type": "stream",
     "text": [
      "Abel-Jacobi dla punktów Weierstrassa:\n"
     ]
    }
   ],
   "source": [
    "def find_weierstrass_points():\n",
    "    R_x.<x> = PolynomialRing(QQ)\n",
    "    f_x = R_x(f.subs(y=0))\n",
    "    roots = f_x.roots()\n",
    "    return [r[0] for r in roots]\n",
    "\n",
    "weierstrass_points = find_weierstrass_points()\n",
    "weierstrass_results = test_abel_jacobi(weierstrass_points)\n",
    "\n",
    "print(\"Abel-Jacobi dla punktów Weierstrassa:\")\n",
    "for x, result in weierstrass_results:\n",
    "    print(f\"x = {x}: {result}\")"
   ]
  },
  {
   "cell_type": "markdown",
   "id": "c6f9525d-b400-44f1-8c3e-f1a20f728125",
   "metadata": {},
   "source": [
    "<div style=\"font-family: 'Latin Modern Roman', Times, serif; font-size: 16px;\">\n",
    "<h1 style=\"font-size: 32px;\"> Literature </h1>\n",
    "    <ol type=\"1\">\n",
    "        <li> \n",
    "            Julia Bernatska, <em>Computation of $\\wp$-functions on plane algebraic curves</em>,  arXiv (2024),<br>\n",
    "            URL: <a href=\"https://arxiv.org/abs/2407.05632\" target=\"_blank\">https://arxiv.org/abs/2407.05632</a> </li>\n",
    "        <li>\n",
    "            Julia Bernatska, <em>Uniformization of a genus 4 hyperelliptic curve with arbitrary complex branch points</em>, Wolfram Community (2024),<br>\n",
    "            URL: <a href=\"https://community.wolfram.com/groups/-/m/t/3243472\" target=\"_blank\">https://community.wolfram.com/groups/-/m/t/3243472</a> </li>\n",
    "        <li> \n",
    "            SageMath Documentation, <em>Riemann matrices and endomorphism rings of algebraic Riemann surfaces</em>,<br>\n",
    "            URL:<a href=\"https://doc.sagemath.org/html/en/reference/curves/sage/schemes/riemann_surfaces/riemann_surface.html#sage.schemes.riemann_surfaces.riemann_surface.RiemannSurface\"\n",
    "target=\"_blank\">https://doc.sagemath.org/html/en/reference/curves/sage/schemes/riemann_surfaces/riemann_surface.html#sage.schemes.riemann_surfaces.riemann_surface.RiemannSurface</a></li>\n",
    "        <li> \n",
    "            V.M.Buchstaber, V.Z. Enolski, and D.V.Leykin, <em>Hyperelliptic Kleinian function and applications</em>, arXiv (1996), <br>\n",
    "            URL: <a href=\"https://arxiv.org/pdf/solv-int/9603005\" target=\"_blank\">https://arxiv.org/pdf/solv-int/9603005</a></li>\n",
    "        <li> \n",
    "            V.M.Buchstaber, V.Z. Enolski, and D.V.Leykin, <em>Multi-variable sigma-functions: old and new results</em>, arXiv (2018), <br>\n",
    "            URL: <a href=\"https://arxiv.org/pdf/1810.11079\" target=\"_blank\">https://arxiv.org/pdf/1810.11079</a></li>\n",
    "        <li> \n",
    "            J. C. Eilbeck, J. Gibbons, Y. Onishi, and S. Yasuda, <em>Theory of Heat Equations for Sigma Functions</em>, arXiv (2018), <br>\n",
    "            URL: <a href=\"https://arxiv.org/pdf/1711.08395\" target=\"_blank\">https://arxiv.org/pdf/1711.08395</a></li> \n",
    "        <li> \n",
    "            V. Z. Enolski, B. Hartmann, V. Kagramanova, J. Kunz, C. Lammerzahl, P. Sirimachan, <em>Inversion of a general hyperelliptic integral and particle motion in Horava-Lifshitz black hole space-times </em>, arXiv (2011), <br>\n",
    "            URL: <a href=\"https://arxiv.org/pdf/1106.2408\" target=\"_blank\">https://arxiv.org/pdf/1106.2408</a></li>\n",
    "\n",
    "</ol>\n",
    "</div>"
   ]
  },
  {
   "cell_type": "code",
   "execution_count": null,
   "id": "3f47ceac-d68a-4d15-b476-734fc8822b1d",
   "metadata": {},
   "outputs": [],
   "source": []
  }
 ],
 "metadata": {
  "kernelspec": {
   "display_name": "SageMath 10.4",
   "language": "sage",
   "name": "sagemath-10.4"
  },
  "language_info": {
   "codemirror_mode": {
    "name": "ipython",
    "version": 3
   },
   "file_extension": ".py",
   "mimetype": "text/x-python",
   "name": "python",
   "nbconvert_exporter": "python",
   "pygments_lexer": "ipython3",
   "version": "3.12.4"
  }
 },
 "nbformat": 4,
 "nbformat_minor": 5
}
