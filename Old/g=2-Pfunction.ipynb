{
 "cells": [
  {
   "cell_type": "markdown",
   "id": "5e2b586e-887d-486b-a6b1-43f1a8db41bb",
   "metadata": {},
   "source": [
    "<div style=\"font-family: 'Latin Modern Roman', Times, serif; font-size: 16px;\">\n",
    "<h1 style=\"font-size: 32px;\">Introduction</h1>\n",
    "<p>\n",
    "    Kleinian functions, also known as the generalised Wierstrass $\\wp_{ij}$ functions, are important tools for studying hyperelliptic curves. The main objective of this notebook is to present code that can compute Kleinian functions for a hyperelliptic curve of genus 2.  While the primary focus is on the computation aspect, related concepts and background information are provided for context. \n",
    "</p>\n",
    "<p>\n",
    "This notebook is based on the work of Julia Bernatska <a href=\"https://arxiv.org/abs/2407.05632\" target=\"_blank\">[1]</a> and the code attached to an article posted on WolframCommunity <a href=\"https://community.wolfram.com/groups/-/m/t/3243472\" target=\"_blank\">[2]</a>. It also draws from the SageMath Riemann surfaces documentation <em>SageMath Riemann surfaces</em> documentation <a href=\"https://doc.sagemath.org/html/en/reference/curves/sage/schemes/riemann_surfaces/riemann_surface.html#sage.schemes.riemann_surfaces.riemann_surface.RiemannSurface\"\n",
    "target=\"_blank\">[3]</a>. All additional references are listed in the Literature section at the end of the notebook.\n",
    "</p>\n",
    "</div>\n"
   ]
  },
  {
   "cell_type": "markdown",
   "id": "d4020a2f-8aaf-4356-806d-b9d692b732dd",
   "metadata": {},
   "source": [
    "<div style=\"font-family: 'Latin Modern Roman', Times, serif; font-size: 16px;\">\n",
    "<h1 style=\"font-size: 32px;\">1. Preliminaries</h1>\n",
    "<p>\n",
    "    Many works on hyperelliptic functions and Riemann surfaces use similar notation, which can lead to potential naming collisions. To avoid such collisions, a legend of notations used in this notebook is provided below.\n",
    "</p>\n",
    "<h3 style=\"font-size: 24px;\">1.1. Legend</h3>\n",
    "    <ul>\n",
    "        <li>$\\mathscr{C}$ - Curve</li>\n",
    "        <li>$X$ - Riemann surface</li>\n",
    "        <li>$e_i$ - branch points</li>\n",
    "        <li>$w$ - an Abelian differential on the Riemann surface $X$</li>\n",
    "        <li>$W$ - general Abelian integral</li>\n",
    "        <li>$A$, $B$ - A- and B-periods of the differential $w=dW$</li>        \n",
    "        <li>$du$ - First kind differential</li>\n",
    "        <li>$dr$ - Second kind differential</li>\n",
    "        <li>$\\mathfrak{a}_i, \\mathfrak{b}_i$ - Canonical homology cycles</li>\n",
    "        <li>$\\omega$ -  First kind integrals</li>\n",
    "        <li>$\\eta$ - Second kind integrals</li>\n",
    "        <li>$\\mathcal{A}$ - Abel map</li>\n",
    "        <li>$\\mathfrak{m}(\\mathbf{u})$ - A meromorphic function of $\\mathbf{u}\\in\\mathbb{C}^g$</li>\n",
    "        <li>$\\Omega$ - Period matrices </li>\n",
    "        <li>$\\Lambda$ - Lattice</li>\n",
    "        <li>$\\mathrm{Jac}(\\mathscr{C})$ - Jacobian variety of the curve $\\mathscr{C}$</li>\n",
    "        <li>$D$ - Divisor  on the Riemann surface $X$</li>\n",
    "</ul>\n",
    "  \n",
    "</div>"
   ]
  },
  {
   "cell_type": "markdown",
   "id": "5d703988-5150-4da1-92d7-3454f97dcee5",
   "metadata": {},
   "source": [
    "<div>\n",
    "<h3 style=\"font-family: 'Latin Modern Roman', Times, serif; font-size: 24px;\"> 1.2. Hyperelliptic curve</h3>\n",
    "</div>\n",
    "\n",
    "<div style=\"font-family: 'Latin Modern Roman', Times, serif; font-size: 16px;\">\n",
    "<p>\n",
    "    In studies on hyperelliptic functions, various conventions for defining a curve, and consequently the hyperelliptic functions, can be found. In this notebook, we adopt the convention presented in <a href=\"https://arxiv.org/abs/2407.05632\" target=\"_blank\">[1]</a>. <br>\n",
    "    <br>\n",
    "    Additionally, conventions for curves in both general and canonical forms are also discussed in dedicated notebooks: `canonical-name.ipynb` and `general-name.ipynb`. Please refer to these notebooks for further details.\n",
    "</p>\n",
    "</div>\n",
    " \n"
   ]
  },
  {
   "cell_type": "markdown",
   "id": "c6cef5bd-6f1a-4fd7-b588-bd0b9883e9c4",
   "metadata": {},
   "source": [
    "<div style=\"background-color:  rgba(224, 224, 224, 0.25); \n",
    "    font-family: 'Latin Modern Roman', Times, serif; font-size: 16px; border: 1px solid  rgb(192, 192, 192); padding: 15px; border-radius: 5px; \">\n",
    "    <h4 style=\"font-size: 20px;color: rgb(160, 160, 160);\">Definition 1.</h4>\n",
    "    <p>    \n",
    "        The hyperelliptic curve is defined by \n",
    "        $$\n",
    "            \\mathscr{C} = \\{ (x,y)\\in \\mathbb{C}^2 \\mid f(x,y)=0 \\},\n",
    "        $$\n",
    "        where\n",
    "        $$\n",
    "            f(x,y) = -y^2 + x^{2g+1} + \\sum_{i=0}^{2g}\\lambda_{2i+2}x^{2g-i}, \\quad \\lambda_{k\\leq0}=0,\\; \\lambda_k \\in \\mathbb{R}.$\n",
    "        $$\n",
    "    </p>\n",
    "</div>\n"
   ]
  },
  {
   "cell_type": "markdown",
   "id": "1862d913-d721-4977-8031-b308663d86b8",
   "metadata": {},
   "source": [
    "<div style=\"background-color:  rgba(153, 204, 255, 0.25); \n",
    "    font-family: 'Latin Modern Roman', Times, serif; font-size: 16px; border: 1px solid  rgb(0, 128,255); padding: 15px; border-radius: 5px; \">\n",
    "    <h4 style=\"font-size: 20px;color: rgb(0, 128,255);\">Note 1.</h4>\n",
    "    <p>\n",
    "    <ul>\n",
    "        We assume $\\lambda_k \\in \\mathbb{R}$, instead of $\\lambda_k \\in \\mathbb{C}$ which can be found in various texts, because we would like to apply these functions to physical equations first.\n",
    "    </ul>            \n",
    "  </p>\n",
    "</div>"
   ]
  },
  {
   "cell_type": "markdown",
   "id": "23b4125d-3201-43de-bf1b-f76cd9361819",
   "metadata": {},
   "source": [
    "<div style=\"font-family: 'Latin Modern Roman', Times, serif; font-size: 16px;\">\n",
    "<p>\n",
    "    So for a curve of genus $g=2$ we get\n",
    "    $$\n",
    "        f(x,y) = -y^2 + x^5 + \\lambda_2 x^4 + \\lambda_4 x^3+ \\lambda_6 x^2+ \\lambda_8 x+ \\lambda_{10},\n",
    "    $$   \n",
    "    Let's load the appropriate SageMath library and define the curve $\\mathscr{C}$\n",
    "</p>    \n",
    "</div>"
   ]
  },
  {
   "cell_type": "code",
   "execution_count": 3,
   "id": "e9c0e6c5-202d-4fea-a25c-f60bb15c676f",
   "metadata": {},
   "outputs": [],
   "source": [
    "from sage.schemes.riemann_surfaces.riemann_surface import RiemannSurface"
   ]
  },
  {
   "cell_type": "code",
   "execution_count": 4,
   "id": "4f8afead-1bc6-4be7-ab99-3e4e5e9831c9",
   "metadata": {},
   "outputs": [],
   "source": [
    "# Defines the lambda coefficients\n",
    "lambda2 = 12.0\n",
    "lambda4 = 2.0\n",
    "lambda6  = 0.9\n",
    "lambda8  = 21.0\n",
    "lambda10  = 10.0"
   ]
  },
  {
   "cell_type": "markdown",
   "id": "d25e2ffb-7b7d-4779-a54a-4ddc3ec22acf",
   "metadata": {},
   "source": [
    "<div style=\"background-color:  rgba(255, 153, 153, 0.25); \n",
    "    font-family: 'Latin Modern Roman', Times, serif; font-size: 16px; border: 1px solid  rgb(255, 51,51); padding: 15px; border-radius: 5px; \">\n",
    "    <h4 style=\"font-size: 20px;color: rgb(255, 51,51);\">Important 1.</h4>\n",
    "    <p>\n",
    "        The coefficients above must be real-floating-point numbers        \n",
    "    </p>\n",
    "</div>"
   ]
  },
  {
   "cell_type": "markdown",
   "id": "3d00e6b9-7f31-4181-a037-68b9a1c4a844",
   "metadata": {},
   "source": [
    "<div style=\"font-family: 'Latin Modern Roman', Times, serif; font-size: 16px;\">\n",
    "<p>\n",
    "    Since the current Sage library only works well on the field of rational numbers, we have to approximate all function coefficients by these numbers.\n",
    "</p>\n",
    "</div>"
   ]
  },
  {
   "cell_type": "code",
   "execution_count": 5,
   "id": "3e7611f7-0ba6-49f2-b598-2318127f8479",
   "metadata": {},
   "outputs": [],
   "source": [
    "# Rational approximation\n",
    "l2 = lambda2.nearby_rational(max_error=1e-10)\n",
    "l4 = lambda4.nearby_rational(max_error=1e-10)\n",
    "l6 = lambda6.nearby_rational(max_error=1e-10)\n",
    "l8 = lambda8.nearby_rational(max_error=1e-10)\n",
    "l10 = lambda10.nearby_rational(max_error=1e-10)"
   ]
  },
  {
   "cell_type": "markdown",
   "id": "b25e02a9-e6a2-4dbc-934f-9387413e73e8",
   "metadata": {},
   "source": [
    "<div style=\"font-family: 'Latin Modern Roman', Times, serif; font-size: 16px;\">\n",
    "<p>\n",
    "    Next, we need to define the variables $x$ and $y$ in the ring of polynomials over the rational numbers.\n",
    "</p>\n",
    "</div>"
   ]
  },
  {
   "cell_type": "code",
   "execution_count": 6,
   "id": "c83cfab5-082a-47f8-aabf-9f8935ef98df",
   "metadata": {},
   "outputs": [],
   "source": [
    "R.<x, y> = PolynomialRing(QQ, 2)"
   ]
  },
  {
   "cell_type": "markdown",
   "id": "fa759787-8130-4d5e-8f53-f8a1d01d43e5",
   "metadata": {},
   "source": [
    "<div style=\"background-color:  rgba(153, 204, 255, 0.25); \n",
    "    font-family: 'Latin Modern Roman', Times, serif; font-size: 16px; border: 1px solid  rgb(0, 128,255); padding: 15px; border-radius: 5px; \">\n",
    "    <h4 style=\"font-size: 20px;color: rgb(0, 128,255);\">Note 2.</h4>\n",
    "    <p>\n",
    "        The order of variables can be important depending on how you write your polynomial. Make sure you use the same order in your polynomial expression.        \n",
    "    </p>\n",
    "</div>"
   ]
  },
  {
   "cell_type": "code",
   "execution_count": 7,
   "id": "2c329640-040b-4e31-9d7d-20473d53e4a6",
   "metadata": {},
   "outputs": [],
   "source": [
    "# Defining the polynomial f\n",
    "f = -y^2 + x^5 + l2*x^4 + l4*x^3 + l6*x^2 + l8*x + l10"
   ]
  },
  {
   "cell_type": "markdown",
   "id": "80cca492-93d3-4307-b8a3-5d08a9b15aad",
   "metadata": {},
   "source": [
    "<div>\n",
    "<h3 style=\"font-family: 'Latin Modern Roman', Times, serif; font-size: 24px;\">1.3. Riemann surface</h3>\n",
    "</div>"
   ]
  },
  {
   "cell_type": "markdown",
   "id": "ad92abf1-0e58-4b88-b15a-8d2a313fbbc9",
   "metadata": {},
   "source": [
    "<div style=\"background-color:  rgba(224, 224, 224, 0.25); \n",
    "    font-family: 'Latin Modern Roman', Times, serif; font-size: 16px; border: 1px solid  rgb(192, 192, 192); padding: 15px; border-radius: 5px; \">\n",
    "    <h4 style=\"font-size: 20px;color: rgb(160, 160, 160);\">Definition 2. </h4>\n",
    "    <p>    \n",
    "        A Riemann surface $X$ is a connected two-dimensional topological manifold with a complex-analytic structure on it. \n",
    "    </p>    \n",
    "</div>"
   ]
  },
  {
   "cell_type": "markdown",
   "id": "2a2583d3-bafb-4c47-a327-81666c75cdc9",
   "metadata": {},
   "source": [
    "<div style=\"font-family: 'Latin Modern Roman', Times, serif; font-size: 16px;\">\n",
    "<p>\n",
    "    The SageMath RiemannSurface library provides a function to generate the appropriate Riemann surface, on which we will continue our work.\n",
    "</p>\n",
    "</div>"
   ]
  },
  {
   "cell_type": "code",
   "execution_count": 8,
   "id": "13fc8b6e-d997-4230-a1ac-3665bc5799e7",
   "metadata": {},
   "outputs": [],
   "source": [
    "S = RiemannSurface(f, prec=100)"
   ]
  },
  {
   "cell_type": "markdown",
   "id": "e9a92cc1-de4c-4c05-a758-16ef0cd28bf8",
   "metadata": {},
   "source": [
    "<div>\n",
    "<h3 style=\"font-family: 'Latin Modern Roman', Times, serif; font-size: 24px;\">1.4. Branch points</h3>\n",
    "</div>"
   ]
  },
  {
   "cell_type": "markdown",
   "id": "82d5b078-35d9-431a-9ca3-79ccca6007da",
   "metadata": {},
   "source": [
    "<div style=\"font-family: 'Latin Modern Roman', Times, serif; font-size: 16px;\">\n",
    "<p>\n",
    "    We define a function to compute and display all branch points $e_i$ based on the given coefficients $\\lambda_{2i}$. Branch points correspond to the zeros of the polynomial defined by $f(x, y) = 0$. Specifically, the polynomial is given by:\n",
    "$$\n",
    "    y^2 = (x - e_1)(x - e_2)(x - e_3)(x - e_4)(x - e_5).\n",
    "$$\n",
    "Here, the branch points $e_i$ are the roots of the polynomial on the right-hand side, which describe the structure of the Riemann surface associated with $f(x, y) = 0$.\n",
    "</p>\n",
    "</div>"
   ]
  },
  {
   "cell_type": "code",
   "execution_count": 9,
   "id": "49c22004-77c2-4c0e-a430-c013a6e4118d",
   "metadata": {},
   "outputs": [],
   "source": [
    "def find_branch_points(ll2, ll4, ll6, ll8, ll10):\n",
    "    # We define a ring of polynomials over the field of complex numbers\n",
    "    CC_poly.<x> = PolynomialRing(CC)\n",
    "    \n",
    "    # We create a polynomial\n",
    "    pol = x^5 + ll2*x^4 + ll4*x^3 + ll6*x^2 + ll8*x + ll10\n",
    "    \n",
    "    # We find roots\n",
    "    roots = pol.roots(multiplicities=False)\n",
    "    \n",
    "    # We add a point at infinity if the degree of the polynomial is odd\n",
    "    if pol.degree() % 2 == 1:\n",
    "        roots.append(infinity)\n",
    "    \n",
    "    return roots"
   ]
  },
  {
   "cell_type": "markdown",
   "id": "fbe2cc9a-96d5-4f9c-853b-4c6e018fd605",
   "metadata": {},
   "source": [
    "<div style=\"background-color:  rgba(153, 204, 255, 0.25); \n",
    "    font-family: 'Latin Modern Roman', Times, serif; font-size: 16px; border: 1px solid  rgb(0, 128,255); padding: 15px; border-radius: 5px; \">\n",
    "    <h4 style=\"font-size: 20px;color: rgb(0, 128,255);\">Note 3.</h4>\n",
    "    <p>\n",
    "        The <code style=\"color: rgb(81,206,9);font-size: 13px;\">multiplicities=False</code> parameter in the <code style=\"color: rgb(81,206,9);font-size: 13px;\">roots()</code>  method in Sage has the following meaning:\n",
    "        <ul>\n",
    "            <li>When <code style=\"color: rgb(81,206,9);font-size: 13px;\">multiplicities=False</code>  (default): The method returns only the roots of the polynomial, without information about their multiplicities. The result is a list of unique root values.</li>\n",
    "            <li>When <code style=\"color: rgb(81,206,9);font-size: 13px;\">multiplicities=True</code>: The method returns pairs (root, multiplicity) for each root. The result is a list of tuples, where each tuple contains the root and its multiplicity.</li>\n",
    "        </ul>            \n",
    "    </p>\n",
    "</div>\n",
    "\n"
   ]
  },
  {
   "cell_type": "code",
   "execution_count": 10,
   "id": "e10a1e44-2636-4f89-a21e-7ab6100e83dc",
   "metadata": {},
   "outputs": [
    {
     "name": "stdout",
     "output_type": "stream",
     "text": [
      "Branch points:\n",
      "-11.8251161409669\n",
      "-1.05264146874943\n",
      "-0.512317960119317\n",
      "0.695037784917798 - 1.04164546422316*I\n",
      "0.695037784917798 + 1.04164546422316*I\n",
      "+Infinity\n"
     ]
    }
   ],
   "source": [
    "# Example of use:\n",
    "\n",
    "branch_points = find_branch_points(l2, l4, l6, l8, l10)\n",
    "print(\"Branch points:\", *branch_points, sep='\\n')"
   ]
  },
  {
   "cell_type": "markdown",
   "id": "681a848d-2323-4d4e-9fe0-5687952734eb",
   "metadata": {},
   "source": [
    "<div style=\"font-family: 'Latin Modern Roman', Times, serif; font-size: 16px;\">\n",
    "<h1 style=\"font-size: 32px;\">2. First and Second Kind Periods</h1>\n",
    "<p>\n",
    "<p>\n",
    "    To construct periodic functions, we first define a canonical basis for the space of holomorphic differentials, \\( \\{du_i \\mid i = 1, \\ldots, g\\} \\), and the associated meromorphic differentials, \\( \\{dr_i \\mid i = 1, \\ldots, g\\} \\), on the Riemann surface as follows:\n",
    "    $$\n",
    "        du_{2i-1} := \\frac{x^{g-i} dx}{\\partial_y f(x,y)},\n",
    "    $$\n",
    "    $$\n",
    "        dr_{2i-1} := \\frac{\\mathcal{R}_{2i-1}(x) dx}{\\partial_y f(x,y)}, \n",
    "    $$\n",
    "    where\n",
    "    $$\n",
    "    \\mathcal{R}_{2i-1}(x)=\\sum_{k=1}^{2i-1}k\\lambda_{4i-2k-2}x^{g-i+k}.\n",
    "    $$\n",
    "    For \\( g = 2 \\), these expressions can be written in vector form as:\n",
    "    $$\n",
    "        du= \\begin{pmatrix} \n",
    "                x\\\\\n",
    "                1\n",
    "            \\end{pmatrix} \\frac{dx}{-2\\sqrt{f(x,y)}},\n",
    "    $$\n",
    "    $$\n",
    "        dr= \\begin{pmatrix} \n",
    "                \\mathcal{R}_{1}(x)\\\\\n",
    "                \\mathcal{R}_{3}(x)\n",
    "            \\end{pmatrix} \\frac{dx}{-2\\sqrt{f(x,y)}} = \n",
    "                \\begin{pmatrix} \n",
    "                    x^2\\\\\n",
    "                    3x^3 + 2\\lambda_2 x^2 + \\lambda_4 x\n",
    "                \\end{pmatrix} \\frac{dx}{-2\\sqrt{f(x,y)}},\n",
    "    $$\n",
    "</p>\n",
    "</div>"
   ]
  },
  {
   "cell_type": "markdown",
   "id": "656e07d5-8f46-4682-bb4a-a1fe607cf64c",
   "metadata": {},
   "source": [
    "<div style=\"font-family: 'Latin Modern Roman', Times, serif; font-size: 16px;\">\n",
    "<p>\n",
    "    The holomorphic basis defined above can be compared to the output of the <code style=\"color: rgb(81,206,9);font-size: 13px;\">cohomology_basis()</code> function. In SageMath, <code style=\"color: rgb(81,206,9);font-size: 13px;\">S.cohomology_basis()</code> generates a list of holomorphic differentials, typically represented as polynomials $g(x)$ corresponding to the differentials:\n",
    "    $$\n",
    "        \\omega = g(x,y) \\frac{\\, dx}{\\partial f / \\partial y}\n",
    "    $$\n",
    "    where  $f(x, y) = 0$  defines the curve.\n",
    "</p>\n",
    "</div>    "
   ]
  },
  {
   "cell_type": "code",
   "execution_count": 11,
   "id": "31856c66-47e6-43f2-a1f5-a452e7a84871",
   "metadata": {},
   "outputs": [
    {
     "data": {
      "text/plain": [
       "[1, x]"
      ]
     },
     "execution_count": 11,
     "metadata": {},
     "output_type": "execute_result"
    }
   ],
   "source": [
    "S.cohomology_basis()"
   ]
  },
  {
   "cell_type": "markdown",
   "id": "9b024916-992f-4f29-a21d-6cab742acd97",
   "metadata": {},
   "source": [
    "<div style=\"background-color:  rgba(153, 204, 255, 0.25); \n",
    "    font-family: 'Latin Modern Roman', Times, serif; font-size: 16px; border: 1px solid  rgb(0, 128,255); padding: 15px; border-radius: 5px; \">\n",
    "    <h4 style=\"font-size: 20px;color: rgb(0, 128,255);\">Note 4.</h4>\n",
    "    <p>\n",
    "    The order of elements clearly differs from the convention adopted in <a href=\"https://arxiv.org/abs/2407.05632\" target=\"_blank\">[1]</a>. In this notebook, we adopt Julia Bernatska’s convention, as it provides a consistent framework for our computations.\n",
    "    </p>\n",
    "</div>"
   ]
  },
  {
   "cell_type": "markdown",
   "id": "8f2d36b3-18df-462d-9d85-0f2cce229c2b",
   "metadata": {},
   "source": [
    "<div style=\"font-family: 'Latin Modern Roman', Times, serif; font-size: 16px;\">\n",
    "<h2 style=\"font-size: 24px;\">2.1. First  Kind Periods</h2>\n",
    "</div>"
   ]
  },
  {
   "cell_type": "code",
   "execution_count": 12,
   "id": "4500d57a-9b33-4edf-bf60-98c3bf545f37",
   "metadata": {},
   "outputs": [],
   "source": [
    "# holomorphic differentials base\n",
    "holbais=[x,x^0]"
   ]
  },
  {
   "cell_type": "markdown",
   "id": "98370b29-53e2-4af2-b207-8eb6051849d7",
   "metadata": {},
   "source": [
    "<div style=\"font-family: 'Latin Modern Roman', Times, serif; font-size: 16px;\">\n",
    "<p>\n",
    "    To compute the period matrices of the first kind, we evaluate the following integrals along the canonical homology cycles $\\{\\mathfrak{a}_i, \\mathfrak{b}_i\\}_{i=1}^g$:\n",
    "    $$\n",
    "        \\omega = (\\omega_{ij})= \\left( \\int_{\\mathfrak{a}_j}du_i \\right), \\quad \\omega' = (\\omega'_{ij})= \\left( \\int_{\\mathfrak{b}_j}du_i \\right). \n",
    "    $$\n",
    "Here, $\\omega$ and $\\omega'$ are the period matrices corresponding to the $\\mathfrak{a}$ and $\\mathfrak{b}$ cycles, respectively.\n",
    "\n",
    "The SageMath function <code style=\"color: rgb(81,206,9);font-size: 13px;\">matrix_of_integral_values(differentials, integration_method='heuristic')</code> can be used to compute the path integrals of the given differentials along the homology basis. The result is a matrix, where each row corresponds to a differential.\n",
    "\n",
    "If the Riemann surface is given by the equation $f(x,y)=0$, the differentials are encoded by:\n",
    "    $$\n",
    "            g(x,y)\\frac{dx}{(df/dy)}.\n",
    "    $$\n",
    "    <code style=\"color:  rgb(229,201,18);font-size: 13px;\">Input:</code>\n",
    "    <ul>\n",
    "        <li><code style=\"color:  rgb(81,206,9);font-size: 13px;\">differentials</code> – a list of polynomials.</li>\n",
    "        <li><code style=\"color:  rgb(81,206,9);font-size: 13px;\">integration_method</code> – (default: 'heuristic'). String specifying the integration method to use. The options are 'heuristic' and 'rigorous'.</li>\n",
    "    </ul>\n",
    "    <code style=\"color:  rgb(229,201,18);font-size: 13px;\">Output:</code>\n",
    "    A matrix, one row per differential, containing the values of the path integrals along the homology basis of the Riemann surface.\n",
    "</p>\n",
    "</div>"
   ]
  },
  {
   "cell_type": "code",
   "execution_count": 13,
   "id": "a901b565-5962-4b8c-bf71-7094cf2c0b11",
   "metadata": {},
   "outputs": [
    {
     "name": "stdout",
     "output_type": "stream",
     "text": [
      "[     0.13760 - 0.66033*I  -4.9304e-32 - 0.91722*I  -3.9443e-31 + 0.40344*I       1.1746 + 0.25689*I]\n",
      "[    -0.62448 + 0.28220*I -5.5467e-32 + 0.038862*I  -4.9304e-32 - 0.52554*I      0.14607 + 0.24334*I]\n"
     ]
    }
   ],
   "source": [
    "MofInt1=S.matrix_of_integral_values(holbais)\n",
    "# Let's display the matrix in a shortened form so that it will be easy to see its structure\n",
    "print(MofInt1.n(digits=5))"
   ]
  },
  {
   "cell_type": "markdown",
   "id": "10fd61cb-d1c7-4204-b826-4dc905bef183",
   "metadata": {},
   "source": [
    "<div style=\"font-family: 'Latin Modern Roman', Times, serif; font-size: 16px;\">\n",
    "<p>\n",
    "    The structure of the returned matrix\n",
    "    $$\n",
    "    MofInt1 = \n",
    "        \\begin{pmatrix}\n",
    "            \\omega_{1,1} & \\omega_{1,3} & \\omega'_{1,1} & \\omega'_{1,3} \\\\\n",
    "            \\omega_{3,1} & \\omega_{3,3} & \\omega'_{3,1} & \\omega'_{3,3}\n",
    "        \\end{pmatrix}\n",
    "        =\n",
    "        \\begin{array}{|c|c|c|c|c|}\n",
    "            \\hline\n",
    "            & \\mathfrak{a}_1 & \\mathfrak{a}_3 & \\mathfrak{b}_1 & \\mathfrak{b}_3 \\\\\n",
    "            \\hline\n",
    "            x & \\omega_{1,1} = \\int_{\\mathfrak{a}_1} du_1 & \\omega_{1,3} = \\int_{\\mathfrak{a}_3} du_1 & \\omega'_{1,1} = \\int_{\\mathfrak{b}_1} du_1 & \\omega'_{1,3} = \\int_{\\mathfrak{b}_3} du_1 \\\\\n",
    "            \\hline\n",
    "            1 & \\omega_{3,1} = \\int_{\\mathfrak{a}_1} du_3 & \\omega_{3,3} = \\int_{\\mathfrak{a}_3} du_3 & \\omega'_{3,1} = \\int_{\\mathfrak{b}_1} du_3 & \\omega'_{3,3} = \\int_{\\mathfrak{b}_3} du_3 \\\\\n",
    "            \\hline\n",
    "        \\end{array}\n",
    "    $$\n",
    "</p>\n",
    "</div>"
   ]
  },
  {
   "cell_type": "markdown",
   "id": "e42b7091-17ab-486d-a277-7fc1f5899ea5",
   "metadata": {},
   "source": [
    "<div style=\"font-family: 'Latin Modern Roman', Times, serif; font-size: 16px;\">\n",
    "    <p>\n",
    "    We can compare this with the results of the built-in Sage function: <code style=\"color:  rgb(81,206,9);font-size: 13px;\">period_matrix()</code>, which, for the adopted notational convention, will return a period matrix in the form\n",
    "    $$\n",
    "        pM= \\begin{pmatrix}\n",
    "                \\omega_{3,1} & \\omega_{3,3} & \\omega'_{3,1} & \\omega'_{3,3} \\\\\n",
    "                \\omega_{1,1} & \\omega_{1,3} & \\omega'_{1,1} & \\omega'_{3,1}\n",
    "        \\end{pmatrix}  \n",
    "    $$   \n",
    "    </p>\n",
    "</div>"
   ]
  },
  {
   "cell_type": "code",
   "execution_count": 14,
   "id": "0b78f17c-1411-4011-a10b-8dc64807afbc",
   "metadata": {},
   "outputs": [
    {
     "name": "stdout",
     "output_type": "stream",
     "text": [
      "[   -0.62448 + 0.28220*I 4.3141e-32 + 0.038862*I -4.9304e-32 - 0.52554*I     0.14607 + 0.24334*I]\n",
      "[    0.13760 - 0.66033*I  2.2187e-31 - 0.91722*I -5.9165e-31 + 0.40344*I      1.1746 + 0.25689*I]\n"
     ]
    }
   ],
   "source": [
    "pM=S.period_matrix()\n",
    "print(pM.n(digits=5))"
   ]
  },
  {
   "cell_type": "markdown",
   "id": "01162df8-5303-4f02-a760-2d228bdb6477",
   "metadata": {},
   "source": [
    "<div style=\"font-family: 'Latin Modern Roman', Times, serif; font-size: 16px;\">\n",
    "<p>\n",
    "    Before going any further, lat's define a function that will display the matrices in a rounded form so that we can compare them more easily.\n",
    "</p>\n",
    "</div>    "
   ]
  },
  {
   "cell_type": "code",
   "execution_count": 15,
   "id": "160391ff-a051-4a14-875d-1bc47add5f4c",
   "metadata": {},
   "outputs": [],
   "source": [
    "def format_complex(z, digits=5, threshold=1e-10):\n",
    "    real = float(z.real())\n",
    "    imag = float(z.imag())\n",
    "    \n",
    "    # We round very small values to zero\n",
    "    if abs(real) < threshold:\n",
    "        real = 0\n",
    "        if abs(imag) < threshold:\n",
    "            return \"0\"\n",
    "        # We format the result  \n",
    "        return f\"{imag:.{digits}f}*I\"\n",
    "    \n",
    "    if abs(imag) < threshold:\n",
    "        # We format the result\n",
    "        return f\"{real:.{digits}f}\"\n",
    "\n",
    "    sign = \"+\" if imag > 0 else \"-\"\n",
    "    return f\"{real:.{digits}f} {sign} {abs(imag):.{digits}f}*I\"\n",
    "\n",
    "\n",
    "def ApproxM(matrix, digits=5, threshold=1e-10):\n",
    "    rows, cols = matrix.nrows(), matrix.ncols()\n",
    "    \n",
    "    for i in range(rows):\n",
    "        formatted_row = [format_complex(matrix[i,j], digits, threshold) for j in range(cols)]\n",
    "        print(\"\\t\".join(formatted_row))"
   ]
  },
  {
   "cell_type": "code",
   "execution_count": 16,
   "id": "0705df18-a82e-428e-9694-be6180da66ae",
   "metadata": {},
   "outputs": [
    {
     "name": "stdout",
     "output_type": "stream",
     "text": [
      "-0.62448 + 0.28220*I\t0.03886*I\t-0.52554*I\t0.14607 + 0.24334*I\n",
      "0.13760 - 0.66033*I\t-0.91722*I\t0.40344*I\t1.17459 + 0.25689*I\n"
     ]
    }
   ],
   "source": [
    "ApproxM(pM)"
   ]
  },
  {
   "cell_type": "code",
   "execution_count": 17,
   "id": "d71b4375-dc25-4442-ad9e-735bd58ebe05",
   "metadata": {},
   "outputs": [
    {
     "name": "stdout",
     "output_type": "stream",
     "text": [
      "0.13760 - 0.66033*I\t-0.91722*I\t0.40344*I\t1.17459 + 0.25689*I\n",
      "-0.62448 + 0.28220*I\t0.03886*I\t-0.52554*I\t0.14607 + 0.24334*I\n"
     ]
    }
   ],
   "source": [
    "ApproxM(MofInt1)"
   ]
  },
  {
   "cell_type": "markdown",
   "id": "f734c321-7ffa-4e9d-ac53-05c3b94c9051",
   "metadata": {},
   "source": [
    "<div style=\"font-family: 'Latin Modern Roman', Times, serif; font-size: 16px;\">\n",
    "    <p>\n",
    "    In what follows we use the function <code style=\"color:  rgb(81,206,9);font-size: 13px;\">matrix_of_integral_values()</code> instead of <code style=\"color:  rgb(81,206,9);font-size: 13px;\">period_matrix()</code> because it allows us to calculate periodic matrices of the second kind.\n",
    "    </p>\n",
    "</div>"
   ]
  },
  {
   "cell_type": "code",
   "execution_count": 18,
   "id": "ea4d7634-389d-4c4b-baed-aa6dce9b63bb",
   "metadata": {},
   "outputs": [
    {
     "name": "stdout",
     "output_type": "stream",
     "text": [
      "0.13760 - 0.66033*I\t-0.91722*I\n",
      "-0.62448 + 0.28220*I\t0.03886*I\n",
      "\n",
      "0.40344*I\t1.17459 + 0.25689*I\n",
      "-0.52554*I\t0.14607 + 0.24334*I\n"
     ]
    }
   ],
   "source": [
    "# Extract the omega-periods (first two columns)\n",
    "omega = MofInt1[:, 0:2]\n",
    "\n",
    "# Extract the omega'-periods (last two columns)\n",
    "omegaP = MofInt1[:, 2:4]\n",
    "\n",
    "ApproxM(omega)\n",
    "print()\n",
    "ApproxM(omegaP)"
   ]
  },
  {
   "cell_type": "markdown",
   "id": "d488f256-dae5-4974-acb1-c8decd61098b",
   "metadata": {},
   "source": [
    "<div style=\"font-family: 'Latin Modern Roman', Times, serif; font-size: 16px;\">\n",
    "    <p>\n",
    "    Now we calculate the matrix\n",
    "    $$\n",
    "        \\tau=\\omega^{-1}\\omega'\n",
    "    $$\n",
    "    which belongs to the Siegel upper half-space. Hence it should satisfy two conditions:\n",
    "    <ul>\n",
    "        <li>Symmetry: $$ \\tau^T = \\tau$$ \n",
    "        <li>Positive definiteness of the imaginary part $$ Im(\\tau)>0$$\n",
    "    </ul>\n",
    "    </p>\n",
    "</div>"
   ]
  },
  {
   "cell_type": "code",
   "execution_count": 19,
   "id": "8b2347a8-e79d-4d50-8966-b969f7c08f38",
   "metadata": {},
   "outputs": [
    {
     "name": "stdout",
     "output_type": "stream",
     "text": [
      "[-0.28894 + 0.70313*I -0.12636 - 0.46286*I]\n",
      "[-0.12636 - 0.46286*I  -0.25854 + 1.6328*I]\n"
     ]
    }
   ],
   "source": [
    "tau= omega.inverse() * omegaP\n",
    "\n",
    "# Displaying the result\n",
    "print(tau.n(digits=5))"
   ]
  },
  {
   "cell_type": "code",
   "execution_count": 20,
   "id": "f16f3543-f668-4559-8017-b052908726be",
   "metadata": {},
   "outputs": [
    {
     "name": "stdout",
     "output_type": "stream",
     "text": [
      "[0.00000 0.00000]\n",
      "[0.00000 0.00000]\n"
     ]
    }
   ],
   "source": [
    "# Test of the symmetry\n",
    "print(tau-tau.transpose().n(digits=5))"
   ]
  },
  {
   "cell_type": "code",
   "execution_count": 21,
   "id": "7648064c-2c64-400e-8cb8-5a9e17d456a3",
   "metadata": {},
   "outputs": [
    {
     "data": {
      "text/plain": [
       "([1.8239307353738361091933820951, 0.51198440541283078719843599741], True)"
      ]
     },
     "execution_count": 21,
     "metadata": {},
     "output_type": "execute_result"
    }
   ],
   "source": [
    "# Test of positivity\n",
    "# Calculating the complex part of the tau matrix\n",
    "tauImag = tau.apply_map(lambda x: x.imag())\n",
    "\n",
    "# Calculate the eigenvalues\n",
    "eigenvalues = tauImag.eigenvalues()\n",
    "\n",
    "# Checking if all eigenvalues are positive\n",
    "all_positive = all(e > 0 for e in eigenvalues)\n",
    "\n",
    "# Displaying the result\n",
    "eigenvalues, all_positive"
   ]
  },
  {
   "cell_type": "markdown",
   "id": "377ca866-63d4-45b1-a8b1-ea33efaacdb5",
   "metadata": {},
   "source": [
    "<div style=\"font-family: 'Latin Modern Roman', Times, serif; font-size: 16px;\">\n",
    "<h2 style=\"font-size: 24px;\">2.2. Second Kind Periods</h2>\n",
    "</div>"
   ]
  },
  {
   "cell_type": "markdown",
   "id": "9e5a1ba1-d836-4292-8358-e6a5d49afc39",
   "metadata": {},
   "source": [
    "<div style=\"font-family: 'Latin Modern Roman', Times, serif; font-size: 16px;\">\n",
    "<p>\n",
    "To calculate the second kind period matrices, we need to calculate the following integrals along the canonical homology cycles $\\{ \\mathfrak{a}_i, \\mathfrak{b}_i\\}_{i=1}^g$\n",
    "    <div style=\"text-align: center;\">\n",
    "        $\\eta = (\\eta_{ij})= \\left( \\int_{\\mathfrak{a}_j}dr_i \\right), \\quad \\eta' = (\\eta'_{ij})= \\left( \\int_{\\mathfrak{b}_j}dr_i \\right). $\n",
    "    </div>\n",
    "</p>\n",
    "</div>"
   ]
  },
  {
   "cell_type": "code",
   "execution_count": 22,
   "id": "aaf2b4ff-55dc-4774-863a-af40f6a84d7d",
   "metadata": {},
   "outputs": [],
   "source": [
    "# meromorphic differentials base\n",
    "merbais=[x^2, 3*x^3 + 2*l2*x^2 + l4*x]"
   ]
  },
  {
   "cell_type": "code",
   "execution_count": 23,
   "id": "75b062bf-1ab3-42d0-a9dd-de5e2e5a1724",
   "metadata": {},
   "outputs": [
    {
     "name": "stdout",
     "output_type": "stream",
     "text": [
      "0.15574 + 0.20627*I\t0.08372*I\t-0.32882*I\t-7.07532 + 0.12255*I\n",
      "4.74867 + 3.09497*I\t-0.04832*I\t-6.23827*I\t-2.96268 + 3.14329*I\n"
     ]
    }
   ],
   "source": [
    "MofInt2=S.matrix_of_integral_values(merbais)\n",
    "# Let's display the matrix in a shortened form so that it will be easy to see its structure\n",
    "ApproxM(MofInt2)"
   ]
  },
  {
   "cell_type": "code",
   "execution_count": 24,
   "id": "e3e67681-300a-4c14-a4b1-989d5197ce2a",
   "metadata": {},
   "outputs": [
    {
     "name": "stdout",
     "output_type": "stream",
     "text": [
      "0.15574 + 0.20627*I\t0.08372*I\n",
      "4.74867 + 3.09497*I\t-0.04832*I\n",
      "\n",
      "-0.32882*I\t-7.07532 + 0.12255*I\n",
      "-6.23827*I\t-2.96268 + 3.14329*I\n"
     ]
    }
   ],
   "source": [
    "# Extract the omega-periods (first two columns)\n",
    "eta = MofInt2[:, 0:2]\n",
    "\n",
    "# Extract the omega'-periods (last two columns)\n",
    "etaP = MofInt2[:, 2:4]\n",
    "\n",
    "ApproxM(eta)\n",
    "print()\n",
    "ApproxM(etaP)"
   ]
  },
  {
   "cell_type": "markdown",
   "id": "7d5de65b-14c2-4a2e-affa-f50bc1d58218",
   "metadata": {},
   "source": [
    "<div style=\"font-family: 'Latin Modern Roman', Times, serif; font-size: 16px;\">\n",
    "    <p>\n",
    "    We can compute $\\kappa$, given by\n",
    "    $$\n",
    "        \\kappa=\\eta\\; \\omega^{-1}\n",
    "    $$\n",
    "    </p>\n",
    "</div>"
   ]
  },
  {
   "cell_type": "code",
   "execution_count": 25,
   "id": "89b36023-3ec0-4f22-8652-0b59edd9daa7",
   "metadata": {},
   "outputs": [
    {
     "name": "stdout",
     "output_type": "stream",
     "text": [
      "-0.09763 - 0.01261*I\t-0.14978 - 0.29754*I\n",
      "-0.14978 - 0.29754*I\t-4.77835 - 7.02263*I\n"
     ]
    }
   ],
   "source": [
    "omega_inv=Matrix(omega).inverse()\n",
    "kappa = eta*omega_inv\n",
    "ApproxM(kappa)"
   ]
  },
  {
   "cell_type": "markdown",
   "id": "c454c331-111d-4fb6-ab62-7f4f7b132b4b",
   "metadata": {},
   "source": [
    "<div style=\"font-family: 'Latin Modern Roman', Times, serif; font-size: 16px;\">\n",
    "<h1 style=\"font-size: 24px;\">3. Legendre relation</h1>\n",
    "</div>"
   ]
  },
  {
   "cell_type": "markdown",
   "id": "6ae497b9-b2d6-46e8-9c83-fbd176529b91",
   "metadata": {},
   "source": [
    "<div style=\"font-family: 'Latin Modern Roman', Times, serif; font-size: 16px;\">\n",
    "<p>\n",
    "    Next, we perform another test. The unnormalised period matrices of the first kind, $\\omega$ and $\\omega'$, and the second kind, $\\eta$ and $\\eta'$, should satisfy the Legendre relation:\n",
    "    $$\n",
    "        \\Omega^T J \\Omega = 2\\pi i J\n",
    "    $$\n",
    "    where\n",
    "    $$\n",
    "        \\Omega=\n",
    "            \\begin{pmatrix}\n",
    "                \\omega && \\omega'\\\\\n",
    "                \\eta && \\eta'\\\\\n",
    "            \\end{pmatrix}, \\quad \n",
    "        J=        \n",
    "            \\begin{pmatrix}\n",
    "                0 && -1_g\\\\\n",
    "                1_g && 0\\\\\n",
    "            \\end{pmatrix}\n",
    "    $$\n",
    "</p>\n",
    "</div>"
   ]
  },
  {
   "cell_type": "code",
   "execution_count": 26,
   "id": "c4ac05e0-31a4-4c2d-a377-3ede5929ec3d",
   "metadata": {},
   "outputs": [
    {
     "name": "stdout",
     "output_type": "stream",
     "text": [
      "Omega Matrix:\n",
      "[     0.13760 - 0.66033*I  -4.9304e-32 - 0.91722*I| -3.9443e-31 + 0.40344*I       1.1746 + 0.25689*I]\n",
      "[    -0.62448 + 0.28220*I -5.5467e-32 + 0.038862*I| -4.9304e-32 - 0.52554*I      0.14607 + 0.24334*I]\n",
      "[-------------------------------------------------+-------------------------------------------------]\n",
      "[     0.15574 + 0.20627*I  7.8886e-31 + 0.083724*I| -8.3816e-31 - 0.32882*I      -7.0753 + 0.12255*I]\n",
      "[       4.7487 + 3.0950*I  1.1360e-28 - 0.048319*I|   2.2088e-29 - 6.2383*I       -2.9627 + 3.1433*I]\n",
      "\n",
      "J Matrix:\n",
      "[0.00000 0.00000|-1.0000 0.00000]\n",
      "[0.00000 0.00000|0.00000 -1.0000]\n",
      "[---------------+---------------]\n",
      "[ 1.0000 0.00000|0.00000 0.00000]\n",
      "[0.00000  1.0000|0.00000 0.00000]\n"
     ]
    }
   ],
   "source": [
    "# Omega matrix\n",
    "Omega = block_matrix([\n",
    "    [omega, omegaP],\n",
    "    [eta, etaP]\n",
    "])\n",
    "\n",
    "# Converting lists to matrices\n",
    "zeroM = Matrix([[0.0, 0.0], [0.0, 0.0]])\n",
    "mOneg = Matrix([[-1.0, 0.0], [0.0, -1.0]])\n",
    "Oneg = Matrix([[1.0, 0.0], [0.0, 1.0]])\n",
    "\n",
    "# J matrix\n",
    "J = block_matrix([\n",
    "    [zeroM, mOneg],\n",
    "    [Oneg, zeroM]\n",
    "])    \n",
    "\n",
    "\n",
    "print(\"Omega Matrix:\")\n",
    "print(Omega.n(digits=5))\n",
    "print()\n",
    "print(\"J Matrix:\")\n",
    "print(J.n(digits=5))"
   ]
  },
  {
   "cell_type": "code",
   "execution_count": 27,
   "id": "be130686-4513-4df3-9db1-596a99cdc773",
   "metadata": {},
   "outputs": [
    {
     "name": "stdout",
     "output_type": "stream",
     "text": [
      "0\t0\t0\t0\n",
      "0\t0\t0\t0\n",
      "0\t0\t0\t0\n",
      "0\t0\t0\t0\n"
     ]
    }
   ],
   "source": [
    "import numpy as np\n",
    "\n",
    "pi = np.pi\n",
    "left=Omega.transpose()*J*Omega\n",
    "right = 2*pi*I*J\n",
    "result = left - right\n",
    "ApproxM(result)"
   ]
  },
  {
   "cell_type": "markdown",
   "id": "992d3f1e-b31b-4854-b72a-1899aa611a3d",
   "metadata": {},
   "source": [
    "<div style=\"font-family: 'Latin Modern Roman', Times, serif; font-size: 16px;\">\n",
    "<h1 style=\"font-size: 24px;\">4. Characteristics of branch points</h1>\n",
    "</div>"
   ]
  },
  {
   "cell_type": "markdown",
   "id": "f2cd560d-1b52-4f7e-93dc-69f2fb37fb0a",
   "metadata": {},
   "source": [
    "<div style=\"background-color:  rgba(224, 224, 224, 0.25); \n",
    "    font-family: 'Latin Modern Roman', Times, serif; font-size: 16px; border: 1px solid  rgb(192, 192, 192); padding: 15px; border-radius: 5px; \">\n",
    "    <h4 style=\"font-size: 20px;color: rgb(160, 160, 160);\">Definition 3.</h4>\n",
    "    <p>   \n",
    "    A characteristic is a $2\\times g$ matrix $[\\varepsilon] = (\\mathbf{\\varepsilon}', \\mathbf{\\varepsilon})^T$ with real values within the interval $[0,2)$.\n",
    "    Every point $u$ in the funcamental domain $\\mathrm{Jac}(\\mathscr{C})$ can be represented by its characteristic $[\\varepsilon]$:\n",
    "        $$\n",
    "            u = \\frac{1}{2} \\omega \\mathbf{\\varepsilon} + \\frac{1}{2}\\omega' \\mathbf{\\varepsilon}'.\n",
    "        $$\n",
    "    In the hyperelliptic case, the Abel images of branch points and any combination of branch points are described by characteristics with 1 or 0, which are called <i>half-integer</i> characteristics.\n",
    "</p>\n",
    "</div>   "
   ]
  },
  {
   "cell_type": "markdown",
   "id": "72ed9cf2-d56d-4bd3-b9eb-263192dc884e",
   "metadata": {},
   "source": [
    "<div style=\"font-family: 'Latin Modern Roman', Times, serif; font-size: 16px;\">\n",
    "<p>\n",
    "    The half-integer characteristics are odd whenever \n",
    "    $$\n",
    "        \\varepsilon^T \\varepsilon'=0 \\pmod{2},\n",
    "    $$\n",
    "    and even when \n",
    "    $$\n",
    "        \\varepsilon^T \\varepsilon'= 1\\pmod{2},\n",
    "    $$\n",
    "    For an Abelian image of a branch points\n",
    "    $$\n",
    "        \\mathcal{A}_{i,0} = \\int^{\\infty}_{e_i} du\n",
    "    $$\n",
    "    we can write\n",
    "    $$\n",
    "        \\mathcal{A}_{i,0} = \\frac{1}{2} \\omega \\mathbf{\\varepsilon}_i + \\frac{1}{2}\\omega' \\mathbf{\\varepsilon}'_i.\n",
    "    $$\n",
    "    Hence the characteristics of $\\mathcal{A}_{i,0}$ is given by\n",
    "    $$\n",
    "        [\\mathcal{A}_{i,0}] = \n",
    "            \\begin{pmatrix}\n",
    "                \\mathbf{\\varepsilon'}_i^T\\\\\n",
    "                \\mathbf{\\varepsilon}_i^T\n",
    "            \\end{pmatrix} =\n",
    "            \\begin{pmatrix}\n",
    "                \\varepsilon'_{i,1} & \\ldots & \\varepsilon'_{i,g} \\\\\n",
    "                \\varepsilon_{i,1} & \\ldots &\\varepsilon_{i,g}\n",
    "            \\end{pmatrix}.\n",
    "    $$\n",
    "    For $g=2$ \n",
    "    $$\n",
    "        [\\mathcal{A}_{i,0}] = \n",
    "            \\begin{pmatrix}\n",
    "                \\varepsilon'_{i,1} & \\varepsilon'_{i,2} \\\\\n",
    "                \\varepsilon_{i,1} & \\varepsilon_{i,2}\n",
    "            \\end{pmatrix}\n",
    "    $$\n",
    "</p>\n",
    "</div>"
   ]
  },
  {
   "cell_type": "code",
   "execution_count": 28,
   "id": "8fdb1992-e53d-41e3-be6a-5493d8b45322",
   "metadata": {},
   "outputs": [
    {
     "name": "stdout",
     "output_type": "stream",
     "text": [
      "[1 0]\n",
      "[0 0]\n",
      "\n",
      "[1 0]\n",
      "[1 0]\n",
      "\n",
      "[0 1]\n",
      "[1 0]\n",
      "\n",
      "[0 1]\n",
      "[1 1]\n",
      "\n",
      "[0 0]\n",
      "[1 1]\n",
      "\n",
      "[0 0]\n",
      "[0 0]\n",
      "\n"
     ]
    }
   ],
   "source": [
    "# We define the genus variable\n",
    "genus = S.genus  \n",
    "\n",
    "\n",
    "eChars = [[[0 for k in range(genus)], [1 for k in range(genus)]], \n",
    "          [[0 for k in range(genus)] for i in range(2)]]\n",
    "\n",
    "# Adaptation of a Do loop from Julia Bernatska’s Mathematica notebook\n",
    "for l in range(genus):\n",
    "    # let's note the indexing, which must be adjusted by\n",
    "    eChars.insert(0, \n",
    "        [[(eChars[0][0][k] + kronecker_delta(k+1, genus - l) + \n",
    "           kronecker_delta(k+1, genus - l + 1)) % 2 for k in range(genus)],\n",
    "         [(eChars[0][1][k] + 0) % 2 for k in range(genus)]]\n",
    "    )\n",
    "\n",
    "    eChars.insert(0,\n",
    "        [[(eChars[0][0][k] + 0) % 2 for k in range(genus)],\n",
    "         [(eChars[0][1][k] + kronecker_delta(k+1, genus - l)) % 2 for k in range(genus)]]\n",
    "    )\n",
    "\n",
    "# We display matrices\n",
    "seen_matrices = []\n",
    "for i in range(len(eChars)):\n",
    "    current_matrix = matrix(eChars[i])\n",
    "    if current_matrix not in seen_matrices:\n",
    "        seen_matrices.append(current_matrix)\n",
    "        print(current_matrix)\n",
    "        print()"
   ]
  },
  {
   "cell_type": "markdown",
   "id": "9ce2e00c-d386-432e-b4de-56c3e7600a8e",
   "metadata": {},
   "source": [
    "<div style=\"background-color:  rgba(153, 204, 255, 0.25); \n",
    "    font-family: 'Latin Modern Roman', Times, serif; font-size: 16px; border: 1px solid  rgb(0, 128,255); padding: 15px; border-radius: 5px; \">\n",
    "    <h4 style=\"font-size: 20px;color: rgb(0, 128,255);\">Note 5.</h4>\n",
    "    <p>\n",
    "        This result can be compared with the result in <a href=\"https://www.itp.uni-bremen.de/prichter/download/ThetaConst.pdf\" target=\"_blank\">[12]</a> (p. 14, example 5.1)\n",
    "    </p>\n",
    "</div>"
   ]
  },
  {
   "cell_type": "markdown",
   "id": "462d68aa-0d45-4052-88e8-ff554b35d74a",
   "metadata": {},
   "source": [
    "<div style=\"font-family: 'Latin Modern Roman', Times, serif; font-size: 16px;\">\n",
    "<p>\n",
    "    There are 2 odd characteristic among them, their sum is also odd. The corresponding vector -vector of Riemann constants -is denoted by $\\mathbf{K}$ and \n",
    "    $$\n",
    "        [\\mathbf{K}] = [\\mathcal{A}_{2,0}+\\mathcal{A}_{4,0}]\n",
    "    $$\n",
    "</p>\n",
    "</div>"
   ]
  },
  {
   "cell_type": "code",
   "execution_count": 29,
   "id": "d2840f4a-b5e7-4fd9-91df-caf8cbcebc02",
   "metadata": {},
   "outputs": [
    {
     "name": "stdout",
     "output_type": "stream",
     "text": [
      "[1 1]\n",
      "[0 1]\n"
     ]
    }
   ],
   "source": [
    "# We sum the eChars elements with indices 2*i +1 (because python counts from 0) and take Mod 2\n",
    "KCh = sum(matrix(eChars[2 * i+1]) for i in range(genus)) % 2\n",
    "\n",
    "print(KCh)"
   ]
  },
  {
   "cell_type": "markdown",
   "id": "59eaf880-05a5-4f89-b6e5-cf416c06e7d4",
   "metadata": {},
   "source": [
    "<div style=\"font-family: 'Latin Modern Roman', Times, serif; font-size: 16px;\">\n",
    "<h1 style=\"font-size: 24px;\">5. Theta function</h1>\n",
    "<p>\n",
    "\n",
    "</p>\n",
    "</div>"
   ]
  },
  {
   "cell_type": "markdown",
   "id": "3ed0759f-f91c-40ad-8590-7a891237a8b7",
   "metadata": {},
   "source": [
    "<div style=\"background-color:  rgba(224, 224, 224, 0.25); \n",
    "    font-family: 'Latin Modern Roman', Times, serif; font-size: 16px; border: 1px solid  rgb(192, 192, 192); padding: 15px; border-radius: 5px; \">\n",
    "    <h4 style=\"font-size: 20px;color: rgb(160, 160, 160);\">Definition 3.</h4>\n",
    "    <p>        \n",
    "        The Riemann <i>theta function</i> $\\theta(v;\\tau)$ defined in terms of normalized coordinates $v$ and normalized period matrix $\\tau$, canonicaly is given by\n",
    "        $$\n",
    "            \\theta(\\mathbf{v};\\tau) = \\sum_{n\\in\\mathbb{Z}^g} e^{i\\pi \\mathbf{n}^T \\tau \\mathbf{n} + 2i \\pi \\mathbf{n}^T \\mathbf{v}}.\n",
    "        $$\n",
    "        A theta function with characteristic $[\\varepsilon ]$ is defined by\n",
    "        $$\n",
    "            \\theta[\\varepsilon](\\mathbf{v};\\tau) = \n",
    "            \\theta \n",
    "                \\begin{bmatrix}\n",
    "                    \\varepsilon'_1 & \\ldots & \\varepsilon'_g\\\\\n",
    "                    \\varepsilon_1 & \\ldots & \\varepsilon_g\\\\\n",
    "                \\end{bmatrix}\n",
    "            (\\mathbf{v};\\tau)=\n",
    "            \\sum_{n\\in\\mathbb{Z}^g} e^{i\\pi\\{ (\\mathbf{n}+ \\frac{1}{2}\\mathbf{\\varepsilon}'^T ) \\tau (\\mathbf{n}+ \\frac{1}{2}\\mathbf{\\varepsilon}') +2 (\\mathbf{v}+\\frac{1}{2}\\mathbf{\\varepsilon})^T (\\mathbf{n}+\\frac{1}{2}\\mathbf{\\varepsilon}') \\} }.\n",
    "        $$\n",
    "    </p>    \n",
    "    </div>\n",
    "\n",
    "</div>"
   ]
  },
  {
   "cell_type": "markdown",
   "id": "a284b436-7f03-4721-a2b7-dd0e2598721d",
   "metadata": {},
   "source": [
    "<div style=\"background-color:  rgba(255, 153, 153, 0.25); \n",
    "    font-family: 'Latin Modern Roman', Times, serif; font-size: 16px; border: 1px solid  rgb(255, 51,51); padding: 15px; border-radius: 5px; \">\n",
    "    <h4 style=\"font-size: 20px;color: rgb(255, 51,51);\">Important 2.</h4>\n",
    "    <p>\n",
    "        In the literature, it is common to use a convention with slightly different characteristics:\n",
    "        $$\n",
    "            (\\varepsilon_i, \\varepsilon'_j) \\to 2 (\\varepsilon_i, \\varepsilon'_j)\n",
    "        $$\n",
    "        in consequence\n",
    "        $$\n",
    "            \\theta[\\varepsilon](\\mathbf{v};\\tau) = \n",
    "            \\theta \n",
    "                \\begin{bmatrix}\n",
    "                    \\varepsilon'_1 & \\ldots & \\varepsilon'_g\\\\\n",
    "                    \\varepsilon_1 & \\ldots & \\varepsilon_g\\\\\n",
    "                \\end{bmatrix}\n",
    "            (\\mathbf{v};\\tau)=\n",
    "            \\sum_{n\\in\\mathbb{Z}^g} e^{i\\pi\\{ (\\mathbf{n}+ \\mathbf{\\varepsilon}'^T ) \\tau (\\mathbf{n}+ \\mathbf{\\varepsilon}') +2 (\\mathbf{v}+\\mathbf{\\varepsilon})^T (\\mathbf{n}+\\mathbf{\\varepsilon}') \\} }.\n",
    "        $$\n",
    "    </p>    \n",
    "    </div>\n",
    "\n",
    "</div>"
   ]
  },
  {
   "cell_type": "code",
   "execution_count": 30,
   "id": "a9538179-dd85-4c31-a455-3a4b3df4d9ca",
   "metadata": {},
   "outputs": [],
   "source": [
    "def Theta( v, ttau, NAcc):\n",
    "    # NAcc is responsible for the number of elements in the sum, i.e. the precision of the result. \n",
    "    # Experimentally, a good approximation is obtained for NAcc>4, but of course this can be increased as needed.\n",
    "    total_sum = 0\n",
    "    # epsilon_m is the list [epsilon 1, epsilon 2] where epsilon1 and epsilon2 are vectors\n",
    "    \n",
    "    # We iterate over two indices from -NAcc to NAcc\n",
    "    for n1 in range(-NAcc, NAcc):\n",
    "        for n2 in range(-NAcc, NAcc):\n",
    "            # We create vector n\n",
    "            n = vector([n1, n2])\n",
    "                    \n",
    "            # The first component of the sum\n",
    "            term1 = I * pi * n * (ttau * n)\n",
    "                    \n",
    "            # The second component of the sum\n",
    "            term2 = 2 * I * pi * n * v\n",
    "                    \n",
    "            # We add the exp from these components to the total\n",
    "            total_sum += exp(term1 + term2)\n",
    "    \n",
    "    return total_sum"
   ]
  },
  {
   "cell_type": "code",
   "execution_count": 31,
   "id": "a1ed0acd-6bc8-473a-bb8e-de186db611c7",
   "metadata": {},
   "outputs": [],
   "source": [
    "def ThetaCh(epsilon_m, v, ttau, NAcc):\n",
    "    # NAcc is responsible for the number of elements in the sum, i.e. the precision of the result. \n",
    "    # Experimentally, a good approximation is obtained for NAcc>4, but of course this can be increased as needed.\n",
    "    total_sum = 0\n",
    "    # epsilon_m is the list [epsilon 1, epsilon 2] where epsilon1 and epsilon2 are vectors\n",
    "    epsilon1 = epsilon_m[0]\n",
    "    epsilon2 = epsilon_m[1]\n",
    "    \n",
    "    # We iterate over two indices from -NAcc to NAcc\n",
    "    for n1 in range(-NAcc, NAcc):\n",
    "        for n2 in range(-NAcc, NAcc):\n",
    "            # We create vector n\n",
    "            n = vector([n1, n2])\n",
    "                    \n",
    "            # The first component of the sum\n",
    "            term1 = I * pi * (n + 1/2 * vector(epsilon1)) * (ttau * (n + 1/2 * vector(epsilon1)))\n",
    "                    \n",
    "            # The second component of the sum\n",
    "            term2 = 2 * I * pi * (n + 1/2 * vector(epsilon1)) * (v + 1/2 * vector(epsilon2))\n",
    "                    \n",
    "            # We add the exp from these components to the total\n",
    "            total_sum += exp(term1 + term2)\n",
    "    \n",
    "    return total_sum"
   ]
  },
  {
   "cell_type": "markdown",
   "id": "17ae763f-2907-4114-ae45-9cca597a4a75",
   "metadata": {},
   "source": [
    "<div style=\"background-color:  rgba(153, 204, 255, 0.25); \n",
    "    font-family: 'Latin Modern Roman', Times, serif; font-size: 16px; border: 1px solid  rgb(0, 128,255); padding: 15px; border-radius: 5px; \">\n",
    "    <h4 style=\"font-size: 20px;color: rgb(0, 128,255);\">Note 6.</h4>\n",
    "    <p>\n",
    "        In Wolfram Mathematica exists a corresponding function under the name <code style=\"color:  rgb(81,206,9);font-size: 13px;\">SiegelTheta[$\\nu_1$,$\\nu_2$]($\\Omega,s$)</code>. The relation between our variables and those in Mathematica are as follows\n",
    "        <ul>\n",
    "            <li> $\\Omega=\\tau$ </li>\n",
    "            <li> $s=v$ </li>\n",
    "            <li> $\\nu_1 = \\frac{1}{2} epsilon1$ </li>\n",
    "            <li> $\\nu_2 = \\frac{1}{2} epsilon2$   </li> \n",
    "        </ul>  \n",
    "        To test this, you can check the following code in Mathematica\n",
    "    </p>\n",
    "        <pre style=\" color: #f8f8f2; padding: 1px; border-radius: 5px; font-size: 13px;\">\n",
    "        <code style=\"color: rgb(81,206,9);\">\n",
    "            ```Mathematica         \n",
    "            SiegelTheta[{{2, 4}, {4, 2}}, IdentityMatrix[2] I, {1, 2}] // N\n",
    "        </code>\n",
    "        </pre>\n",
    "    <p>\n",
    "        and compare it with below one\n",
    "    </p>    \n",
    "        <pre style=\" color: #f8f8f2; padding: 10px; border-radius: 5px; font-size: 13px;\">\n",
    "        <code style=\"color: rgb(81,206,9)\">\n",
    "            ```SageMath           \n",
    "            # Defining sample data\n",
    "            epsilon_m = [vector([4, 8]), vector([8, 4])]\n",
    "            v = vector([1, 2])\n",
    "            tau = Matrix([[I, 0], [0, I]])\n",
    "            NAcc = 5\n",
    "            # Function call\n",
    "            result = ThetaCh(epsilon_m, v, tau, NAcc)\n",
    "            print(result)\n",
    "        </code>\n",
    "        </pre>\n",
    "    <p>\n",
    "        Additionally, one can define the $\\theta$ function in Mathematica in a similar way with the following code:\n",
    "    </p>\n",
    "        <pre style=\" color: #f8f8f2; padding: 10px; border-radius: 5px; font-size: 13px;\">\n",
    "        <code style=\"color: rgb(81,206,9);\">\n",
    "        ```Mathematica\n",
    "        ThetaCh[\\[Epsilon]m_, v_, \\[Tau]_, NAcc_] :=\n",
    "         Sum[\n",
    "          Exp[\n",
    "           I Pi ({Subscript[n, 1], Subscript[n, 2]} + \n",
    "            1/2 \\[Epsilon]m[[1]]) . (\\[Tau] . ({Subscript[n, 1], Subscript[n, 2]} + 1/2 \\[Epsilon]m[[1]])) + 2 I Pi ({Subscript[n, 1], Subscript[n, 2]} + 1/2 \\[Epsilon]m[[1]]) . (v + 1/2 \\[Epsilon]m[[2]])\n",
    "           ],\n",
    "          {Subscript[n, 2], -NAcc, NAcc}, {Subscript[n, 1], -NAcc, NAcc}\n",
    "          ]\n",
    "        </code>\n",
    "        </pre>\n",
    "    <p>\n",
    "        And check the result of the above test with: \n",
    "    </p>\n",
    "        <pre style=\" color: #f8f8f2; padding: 10px; border-radius: 5px; font-size: 13px;\">\n",
    "        <code style=\"color: rgb(81,206,9);\">\n",
    "        ```Mathematica    \n",
    "        ThetaCh[2 {{2, 4}, {4, 2}}, {1, 2}, IdentityMatrix[2] I, 5] // N\n",
    "        </code>\n",
    "        </pre>\n",
    "</div>"
   ]
  },
  {
   "cell_type": "markdown",
   "id": "b3a2d914-9f35-4543-b68d-b0b1255f7087",
   "metadata": {},
   "source": [
    "<div style=\"font-family: 'Latin Modern Roman', Times, serif; font-size: 16px;\">\n",
    "<h2 style=\"font-size: 24px;\">5.1. Tests</h2>\n",
    "</div>"
   ]
  },
  {
   "cell_type": "markdown",
   "id": "62293717-2ba6-4f54-adad-aa9141e4ba1d",
   "metadata": {},
   "source": [
    "<div style=\"font-family: 'Latin Modern Roman', Times, serif; font-size: 16px;\">\n",
    "<p>\n",
    "Test of the formula (<a href=\"https://arxiv.org/abs/2407.05632\" target=\"_blank\">[1]</a>, p.4, eq. 7)\n",
    "$$\n",
    "    \\theta[\\varepsilon](\\mathbf{v};\\tau) = \n",
    "            e^{i\\pi\\left(\\frac{1}{2} \\mathbf{\\varepsilon}'^T\\right) \\tau \\left(\\frac{1}{2} \\mathbf{\\varepsilon}'\\right) + 2i\\pi \\left( \\mathbf{v} + \\frac{1}{2} \\mathbf{\\varepsilon}\\right)^T \\left(\\frac{1}{2} \\mathbf{\\varepsilon}'\\right)} \\theta\\left(\\mathbf{v} + \\frac{1}{2}\\mathbf{\\varepsilon} + \\tau\\left(\\frac{1}{2}\\mathbf{\\varepsilon}'\\right);\\tau \\right).   \n",
    "$$    \n",
    "\n",
    "where a characteristic is a a $2\\times g$ matrix $[\\varepsilon] = (\\mathbf{\\varepsilon}',\\mathbf{\\varepsilon})^T $    \n",
    "</p>\n",
    "</div>"
   ]
  },
  {
   "cell_type": "code",
   "execution_count": 32,
   "id": "4c1d3c2a-5944-4f0c-b526-37f5ac786fff",
   "metadata": {},
   "outputs": [
    {
     "name": "stdout",
     "output_type": "stream",
     "text": [
      "Theta with characteristic:\n",
      " 1.0600858517074845 - 0.2501023731212625*I\n",
      "\n",
      "Exponential factor:\n",
      " 0.5734712442681018 + 0.050148801540618036*I\n",
      "\n",
      "Theta at shifted point:\n",
      " 1.7966652347912195 - 0.5932345951363659*I\n",
      "\n",
      "RHS:\n",
      " 1.0600858517074845 - 0.2501023731212626*I\n",
      "\n",
      "Difference:\n",
      " 1.1102230246251565e-16*I\n",
      "The relation is verified within the given tolerance.\n"
     ]
    }
   ],
   "source": [
    "# Define the genus\n",
    "g = 2  # For genus 2\n",
    "\n",
    "Acc=20\n",
    "\n",
    "# Define the period matrix tau\n",
    "### tau = Matrix(CC, [[I, 0.5], [0.5, I]])\n",
    "tau = omega.inverse() * omegaP\n",
    "\n",
    "# Define the vector v\n",
    "v = vector(CC, [0.1, 0.2])\n",
    "\n",
    "# Define the characteristic\n",
    "eps_prime = [1, 0]\n",
    "eps = [0, 1]\n",
    "N = 2  # Level of the characteristic\n",
    "char = Matrix([eps_prime,eps])\n",
    "\n",
    "# Compute theta with characteristic at v\n",
    "theta_char = ThetaCh(char, v, tau, Acc)\n",
    "\n",
    "# Compute half of the characteristic vectors\n",
    "eps_vec = vector(CC, eps)\n",
    "eps_prime_vec = vector(CC, eps_prime)\n",
    "eps_half = 0.5 * eps_vec\n",
    "eps_prime_half = 0.5 * eps_prime_vec\n",
    "\n",
    "# Compute the shifted vector v_shifted\n",
    "v_shifted = v + eps_half + tau * eps_prime_half\n",
    "\n",
    "# Compute the terms for the exponential factor\n",
    "term1 = (eps_prime_half) * tau * (eps_prime_half)\n",
    "term2 = (v + eps_half) * (eps_prime_half)\n",
    "\n",
    "# Compute the exponential factor\n",
    "exp_factor = exp(I * pi * term1 + 2 * I * pi * term2)\n",
    "\n",
    "# Compute theta at the shifted point without characteristic\n",
    "theta_standard = Theta(v_shifted, tau, Acc)\n",
    "\n",
    "\n",
    "# Compute the RHS of the relation\n",
    "RHS = exp_factor * theta_standard\n",
    "\n",
    "# Compute the difference\n",
    "difference = theta_char - RHS\n",
    "\n",
    "# Print the results\n",
    "print(\"Theta with characteristic:\\n\", theta_char)\n",
    "print()\n",
    "print(\"Exponential factor:\\n\", exp_factor)\n",
    "print()\n",
    "print(\"Theta at shifted point:\\n\", theta_standard)\n",
    "print()\n",
    "print(\"RHS:\\n\", RHS)\n",
    "print()\n",
    "print(\"Difference:\\n\", difference)\n",
    "\n",
    "# Check if the difference is within an acceptable tolerance\n",
    "tolerance = 1e-12  # Adjust based on the precision\n",
    "if abs(difference) < tolerance:\n",
    "    print(\"The relation is verified within the given tolerance.\")\n",
    "else:\n",
    "    print(\"The relation is not satisfied within the given tolerance.\")"
   ]
  },
  {
   "cell_type": "markdown",
   "id": "7dc23d5a-9f8b-4f71-a6aa-884935a18b72",
   "metadata": {},
   "source": [
    "<div style=\"font-family: 'Latin Modern Roman', Times, serif; font-size: 16px;\">\n",
    "<h1 style=\"font-size: 24px;\">6. $\\sigma$-Functions</h1>\n",
    "</div>"
   ]
  },
  {
   "cell_type": "markdown",
   "id": "54cb24f5-b6a1-43e0-a752-1e41c5f080f7",
   "metadata": {},
   "source": [
    "<div style=\"font-family: 'Latin Modern Roman', Times, serif; font-size: 16px;\">\n",
    "<p>\n",
    "    The theory on which this and the following sections are based comes from the works:\n",
    "    <a href=\"https://arxiv.org/pdf/solv-int/9603005\" target=\"_blank\">[4]</a>, \n",
    "    <a href=\"https://arxiv.org/pdf/1810.11079\" target=\"_blank\">[5]</a>,\n",
    "    <a href=\"https://arxiv.org/pdf/1711.08395\" target=\"_blank\">[6]</a>,\n",
    "    <a href=\"https://arxiv.org/pdf/1106.2408\" target=\"_blank\">[7]</a>.\n",
    "</p>\n",
    "</div>   "
   ]
  },
  {
   "cell_type": "markdown",
   "id": "2a9f7bc1-892a-4258-9318-b62cd2702718",
   "metadata": {},
   "source": [
    "<div style=\"background-color:  rgba(224, 224, 224, 0.25); \n",
    "    font-family: 'Latin Modern Roman', Times, serif; font-size: 16px; border: 1px solid  rgb(192, 192, 192); padding: 15px; border-radius: 5px; \">\n",
    "    <h4 style=\"font-size: 20px;color: rgb(160, 160, 160);\">Definition 4.</h4>\n",
    "    <p>        \n",
    "        <em> Sigma function </em> (Kleinian sigma) is a modular invariant entire function on $\\mathrm{Jac}(\\mathscr{C})$. It is definef by a relation with the theta function:\n",
    "        $$\n",
    "            \\sigma(\\mathbf{u}) = C \\tilde{\\sigma}(\\mathbf{u})\n",
    "        $$\n",
    "        where\n",
    "        $$\n",
    "            \\tilde{\\sigma}(\\mathbf{u})= e^{-\\frac{1}{2}\\mathbf{u}^T \\kappa \\mathbf{u}} \\theta[ K ] (\\omega^{-1} \\mathbf{u}, \\omega^{-1} \\omega'),\n",
    "        $$\n",
    "        $$\n",
    "            C= \\sqrt{\\frac{\\pi^g}{\\det{\\omega}}} \\left( \\prod_{1\\leq i<j \\leq 2g+1} (e_i - e_j) \\right)^{-1/4},\n",
    "        $$\n",
    "        and $[K]$ denotes the characteristics of the vector of Riemann constants. (The expression for $C$ comes from <a href=\"https://arxiv.org/pdf/1106.2408\" target=\"_blank\">[7]</a>, p.9, Eq. II.41)\n",
    "    </p>    \n",
    "    </div>\n",
    "\n",
    "</div>"
   ]
  },
  {
   "cell_type": "code",
   "execution_count": 33,
   "id": "76d6faa9-769b-410d-ab37-de6ae353b785",
   "metadata": {},
   "outputs": [],
   "source": [
    "# We define variables\n",
    "var('U1 U3')\n",
    "\n",
    "# We define the accuracy of theta function\n",
    "Acc=20\n",
    "\n",
    "\n",
    "# sigma\n",
    "def Tsigma(U1, U3):\n",
    "    e = exp(-(1/2)*(vector([U1, U3])*kappa*vector([U1, U3])))\n",
    "    theta = ThetaCh(KCh, omega_inv * vector([U1, U3]), tau, Acc)\n",
    "    return e*theta\n",
    "\n",
    "# C constant\n",
    "det_omega = omega.determinant()\n",
    "g = 2\n",
    "#Branch points\n",
    "BP = find_branch_points(l2, l4, l6, l8, l10)\n",
    "# Calculating the product of branch point differences\n",
    "prod = 1\n",
    "for i in range(len(BP)):\n",
    "    for j in range(i+1, len(BP)):\n",
    "        if BP[i] != infinity and BP[j] != infinity:\n",
    "            prod *= (BP[i] - BP[j])\n",
    "C = sqrt(pi**g / det_omega) * prod**(-1/4)\n",
    "\n",
    "\n",
    "def sigma(U1, U3):\n",
    "    return C*Tsigma(U1, U3)"
   ]
  },
  {
   "cell_type": "code",
   "execution_count": null,
   "id": "2fde12fb-2851-482f-97d8-68bdc0e15e55",
   "metadata": {},
   "outputs": [],
   "source": [
    "# sigma1\n",
    "def Tsigma1(u1_val, u3_val):\n",
    "    U1, U3 = var('U1 U3')\n",
    "    sigma_expr = Tsigma(U1, U3)\n",
    "    sigma1 =diff (sigma_expr, U1)\n",
    "    return sigma1.subs({U1: u1_val, U3: u3_val}).n()\n",
    "\n",
    "# sigma3\n",
    "def Tsigma3(u1_val, u3_val):\n",
    "    U1, U3 = var('U1 U3')\n",
    "    sigma_expr = Tsigma(U1, U3)\n",
    "    sigma3 =diff (sigma_expr, U3)\n",
    "    return sigma3.subs({U1: u1_val, U3: u3_val}).n()"
   ]
  },
  {
   "cell_type": "markdown",
   "id": "783f25d0-6647-44c0-a234-4b964b5c4b41",
   "metadata": {},
   "source": [
    "<div style=\"font-family: 'Latin Modern Roman', Times, serif; font-size: 16px;\">\n",
    "<h2 style=\"font-size: 24px;\">6.1. Bolza formula</h2>\n",
    "</div>"
   ]
  },
  {
   "cell_type": "markdown",
   "id": "f6643445-0077-4b04-a0fd-d0749eeb6772",
   "metadata": {},
   "source": [
    "<div style=\"background-color:  rgba(224, 224, 224, 0.25); \n",
    "    font-family: 'Latin Modern Roman', Times, serif; font-size: 16px; border: 1px solid  rgb(192, 192, 192); padding: 15px; border-radius: 5px; \">\n",
    "    <h4 style=\"font-size: 20px;color: rgb(160, 160, 160);\">Definition 5.</h4>\n",
    "    <p> From <a href=\"https://arxiv.org/abs/2407.05632\" target=\"_blank\">[1]</a>. (Sec. 2.4), we have the Bolza formula:\n",
    "        $$\n",
    "            e_\\iota = - \\frac{\\partial_{u_3}\\theta[{\\iota}](\\omega^{-1}u)}{\\partial_{u_1}\\theta[{\\iota}](\\omega^{-1}u)}|_{u=0},\n",
    "        $$\n",
    "        where $[{\\iota}]$ denotes the characteristic corresponding to a branch point $e{\\iota}$. It can also be defined in an equivalent way:\n",
    "        $$\n",
    "            e_\\iota = - \\frac{\\sigma_3(u_\\iota)}{\\sigma_1(u_\\iota)},\n",
    "        $$\n",
    "        where $u_\\iota=\\frac{1}{2}\\omega \\epsilon_\\iota + \\frac{1}{2}\\omega' \\epsilon'_\\iota$.\n",
    "   <p>\n",
    "   </div>   "
   ]
  },
  {
   "cell_type": "code",
   "execution_count": 183,
   "id": "a3d97f41-a6e1-47ca-9a6a-930a4156938c",
   "metadata": {},
   "outputs": [],
   "source": [
    "epsp1 = vector(eChars[0][0])\n",
    "eps1 = vector(eChars[0][1])\n",
    "\n",
    "epsp2 = vector(eChars[1][0])\n",
    "eps2 = vector(eChars[1][1])\n",
    "\n",
    "epsp3 = vector(eChars[2][0])\n",
    "eps3 = vector(eChars[2][1])\n",
    "\n",
    "epsp4 = vector(eChars[3][0])\n",
    "eps4 = vector(eChars[3][1])\n",
    "\n",
    "epsp5 = vector(eChars[4][0])\n",
    "eps5 = vector(eChars[4][1])\n",
    "\n",
    "epsp6 = vector(eChars[5][0])\n",
    "eps6 = vector(eChars[5][1])"
   ]
  },
  {
   "cell_type": "code",
   "execution_count": 184,
   "id": "db42c8c0-abfb-40d8-bba2-8be4538f6dc7",
   "metadata": {},
   "outputs": [],
   "source": [
    "up1 = (1/2)*omega*eps1 + (1/2)*omegaP*epsp1\n",
    "up2 = (1/2)*omega*eps2 + (1/2)*omegaP*epsp2\n",
    "up3 = (1/2)*omega*eps3 + (1/2)*omegaP*epsp3\n",
    "up4 = (1/2)*omega*eps4 + (1/2)*omegaP*epsp4\n",
    "up5 = (1/2)*omega*eps5 + (1/2)*omegaP*epsp5\n",
    "up6 = (1/2)*omega*eps6 + (1/2)*omegaP*epsp6"
   ]
  },
  {
   "cell_type": "code",
   "execution_count": 185,
   "id": "305be926-c8c7-4109-9214-192b57b7c9bf",
   "metadata": {},
   "outputs": [],
   "source": [
    "# ei\n",
    "def e(u1_val, u3_val):\n",
    "    sigma1 = Tsigma1(u1_val, u3_val)\n",
    "    sigma3 = Tsigma3(u1_val, u3_val)\n",
    "    expr = -sigma3/sigma1\n",
    "    return expr.n()"
   ]
  },
  {
   "cell_type": "code",
   "execution_count": 186,
   "id": "801fce4b-7ab9-414e-9f0e-c907dd51acf8",
   "metadata": {},
   "outputs": [
    {
     "name": "stdout",
     "output_type": "stream",
     "text": [
      "Branch points from Bolza formula:\n",
      "-1.05264146874943 - 5.55111512312578e-16*I\n",
      "0.695037784917798 + 1.04164546422316*I\n",
      "-11.8251161409668 - 4.34097202628436e-14*I\n",
      "2.53231492223134e15 - 6.84742393413673e15*I\n",
      "0.695037784917799 - 1.04164546422316*I\n",
      "-0.512317960119317\n"
     ]
    }
   ],
   "source": [
    "print(\"Branch points from Bolza formula:\", \n",
    "      e(up1[0],up1[1]), \n",
    "      e(up2[0],up2[1]), \n",
    "      e(up3[0],up3[1]), \n",
    "      e(up4[0],up4[1]), \n",
    "      e(up5[0],up5[1]), \n",
    "      e(up6[0],up6[1]),sep='\\n')"
   ]
  },
  {
   "cell_type": "markdown",
   "id": "14002902-27cf-4dc5-a233-bc79fcd93d42",
   "metadata": {},
   "source": [
    "<div style=\"font-family: 'Latin Modern Roman', Times, serif; font-size: 16px;\">\n",
    "<p>\n",
    "Ok, let's see how the $\\sigma_i$ functions behave at the points $up_4$</p>\n",
    "</div>"
   ]
  },
  {
   "cell_type": "code",
   "execution_count": 103,
   "id": "1a9d75f6-eb63-4448-a5d1-a033ecb5a285",
   "metadata": {},
   "outputs": [
    {
     "name": "stdout",
     "output_type": "stream",
     "text": [
      "sigma1: 1.23432198410658e-15 + 3.52430396044750e-15*I\n",
      "sigma3: -27.2580952691324 - 0.472721613117690*I\n"
     ]
    }
   ],
   "source": [
    "print(\"sigma1:\", Tsigma1(up4[0],up4[1]))\n",
    "print(\"sigma3:\", Tsigma3(up4[0],up4[1]))"
   ]
  },
  {
   "cell_type": "markdown",
   "id": "111f91b9-d4a5-4669-b57a-2ecc1fef6303",
   "metadata": {},
   "source": [
    "<div style=\"background-color:  rgba(216, 220, 97, 0.25); \n",
    "    font-family: 'Latin Modern Roman', Times, serif; font-size: 16px; border: 1px solid  rgb(205,210,44); padding: 15px; border-radius: 5px; \">\n",
    "    <h3 style=\"font-size: 20px;color: rgb(205,210,44);\">Observation 1.</h3>\n",
    "    <p>\n",
    "     $\\sigma_1$=0 so $up4$ is a special divisor\n",
    "</p>\n",
    "</d>"
   ]
  },
  {
   "cell_type": "code",
   "execution_count": 38,
   "id": "d4961ebe-01b3-4fa7-921f-6fe165a5e1cd",
   "metadata": {},
   "outputs": [
    {
     "name": "stdout",
     "output_type": "stream",
     "text": [
      "Branch points:\n",
      "-11.8251161409669\n",
      "-1.05264146874943\n",
      "-0.512317960119317\n",
      "0.695037784917798 - 1.04164546422316*I\n",
      "0.695037784917798 + 1.04164546422316*I\n",
      "+Infinity\n"
     ]
    }
   ],
   "source": [
    "print(\"Branch points:\", *branch_points, sep='\\n')"
   ]
  },
  {
   "cell_type": "markdown",
   "id": "12ecb2e8-b8ce-45e2-a183-0ba625c93cd1",
   "metadata": {},
   "source": [
    "<div style=\"background-color:  rgba(216, 220, 97, 0.25); \n",
    "    font-family: 'Latin Modern Roman', Times, serif; font-size: 16px; border: 1px solid  rgb(205,210,44); padding: 15px; border-radius: 5px; \">\n",
    "    <h3 style=\"font-size: 20px;color: rgb(205,210,44);\">Observation 2.</h3>\n",
    "    <p>\n",
    "     The order of the elements should be the same. The order of branch points could be wrong because you use the argument $u[\\varepsilon]$ instead of $u[\\varepsilon+K]$. Based on the discussion <a href=\"https://community.wolfram.com/groups/-/m/t/3296279\" target=\"_blank\">[13]</a> in Wolfram community about the vector of Riemann constants fora a computed characteristic $[\\varepsilon]$, before appling the shift by $[K]$ we check wheather \n",
    "$$\n",
    "        \\sigma(u[K]) =0 \\;\\; \\text{and} \\;\\; \\sigma_1(u[K]) =0,\n",
    "$$        \n",
    "where\n",
    "$$\n",
    "        u_\\iota=\n",
    "            \\frac{1}{2}\\omega \n",
    "                \\begin{pmatrix}\n",
    "                    K_{1,1}\\\\\n",
    "                    K_{2,1}\n",
    "                \\end{pmatrix}  + \n",
    "            \\frac{1}{2}\\omega' \n",
    "                \\begin{pmatrix}\n",
    "                    K_{1,2}\\\\\n",
    "                    K_{2,2}\n",
    "                \\end{pmatrix} \n",
    "        $$\n",
    "</p>\n",
    "</d>"
   ]
  },
  {
   "cell_type": "code",
   "execution_count": 107,
   "id": "98d21cd8-b907-421a-8074-bd61e861714d",
   "metadata": {},
   "outputs": [
    {
     "name": "stdout",
     "output_type": "stream",
     "text": [
      "sigma(u[K])= 4.168869563487747e-16 + 4.900022606845388e-16*I\n",
      "sigma1(u[K])= 1.23432198410658e-15 + 3.52430396044750e-15*I\n"
     ]
    }
   ],
   "source": [
    "vK1 = vector(KCh[0])\n",
    "vK2 = vector(KCh[1])\n",
    "uK = (1/2)*omega*vK1 + (1/2)*omegaP*vK2\n",
    "\n",
    "print(\"sigma(u[K])=\",Tsigma(uK[0], uK[1]))\n",
    "print(\"sigma1(u[K])=\",Tsigma1(uK[0], uK[1]))"
   ]
  },
  {
   "cell_type": "markdown",
   "id": "185e6d3e-3ac2-4005-97bc-06d994c8c6cb",
   "metadata": {},
   "source": [
    "<div style=\"font-family: 'Latin Modern Roman', Times, serif; font-size: 16px;\">\n",
    "<p>\n",
    "Now let's check $u$ vectors with shifted characteristic:\n",
    "$$\n",
    "    [\\tilde{\\varepsilon_\\iota}]=[\\varepsilon_\\iota + K] = \\left( [\\varepsilon_\\iota] + [K] \\right)\\pmod{2}\n",
    "$$    \n",
    "$$\n",
    "    \\tilde{u}_\\iota=\\frac{1}{2}\\omega \\tilde{\\varepsilon_\\iota} + \\frac{1}{2} \\omega'  \\tilde{\\varepsilon_\\iota}'\n",
    "$$    \n",
    "</p>\n",
    "</div>"
   ]
  },
  {
   "cell_type": "code",
   "execution_count": 146,
   "id": "16ee0a60-359c-4bac-bade-33f04cdfcb2a",
   "metadata": {},
   "outputs": [
    {
     "name": "stdout",
     "output_type": "stream",
     "text": [
      "Branch points from Bolza formula with u[epsilon+K]:\n",
      "-0.431121078698602 + 0.424863540601260*I\n",
      "2.53231492223134e15 - 6.84742393413673e15*I\n",
      "-33.5168254120767 + 12.1374912809649*I\n",
      "0.695037784917798 + 1.04164546422316*I\n",
      "0.258106930440267 + 2.91433543964104e-16*I\n",
      "0.258106930440267 + 2.91433543964104e-16*I\n"
     ]
    }
   ],
   "source": [
    "#up shifted\n",
    "sChar1 = (matrix(eChars[0]) + KCh)%2\n",
    "sepsp1 = vector(sChar1[0])\n",
    "seps1 = vector(sChar1[1])\n",
    "\n",
    "sChar2 = (matrix(eChars[1]) + KCh)%2\n",
    "sepsp2 = vector(sChar2[0])\n",
    "seps2 = vector(sChar2[1])\n",
    "\n",
    "sChar3 = (matrix(eChars[2]) + KCh)%2\n",
    "sepsp3 = vector(sChar3[0])\n",
    "seps3 = vector(sChar3[1])\n",
    "\n",
    "sChar4 = (matrix(eChars[3]) + KCh)%2\n",
    "sepsp4 = vector(sChar4[0])\n",
    "seps4 = vector(sChar4[1])\n",
    "\n",
    "sChar5 = (matrix(eChars[4]) + KCh)%2\n",
    "sepsp5 = vector(sChar5[0])\n",
    "seps5 = vector(sChar5[1])\n",
    "\n",
    "sChar6 = (matrix(eChars[5]) + KCh)%2\n",
    "sepsp6 = vector(sChar5[0])\n",
    "seps6 = vector(sChar5[1])\n",
    "\n",
    "ups1 = (1/2)*omega*seps1 + (1/2)*omegaP*sepsp1\n",
    "ups2 = (1/2)*omega*seps2 + (1/2)*omegaP*sepsp2\n",
    "ups3 = (1/2)*omega*seps3 + (1/2)*omegaP*sepsp3\n",
    "ups4 = (1/2)*omega*seps4 + (1/2)*omegaP*sepsp4\n",
    "ups5 = (1/2)*omega*seps5 + (1/2)*omegaP*sepsp5\n",
    "ups6 = (1/2)*omega*seps6 + (1/2)*omegaP*sepsp6\n",
    "\n",
    "print(\"Branch points from Bolza formula with u[epsilon+K]:\", \n",
    "      e(ups1[0],ups1[1]), \n",
    "      e(ups2[0],ups2[1]), \n",
    "      e(ups3[0],ups3[1]), \n",
    "      e(ups4[0],ups4[1]), \n",
    "      e(ups5[0],ups5[1]), \n",
    "      e(ups6[0],ups6[1]),sep='\\n')"
   ]
  },
  {
   "cell_type": "markdown",
   "id": "13f45ec7-c48e-4f61-b3a9-7d3c4a1a5a81",
   "metadata": {},
   "source": [
    "<div style=\"font-family: 'Latin Modern Roman', Times, serif; font-size: 16px;\">\n",
    "<h1 style=\"font-size: 24px;\">7. $\\wp$-Functions</h1>\n",
    "</div>"
   ]
  },
  {
   "cell_type": "markdown",
   "id": "b91eece6-fbda-418b-aa46-05765b9a49b4",
   "metadata": {},
   "source": [
    "<div style=\"background-color:  rgba(224, 224, 224, 0.25); \n",
    "    font-family: 'Latin Modern Roman', Times, serif; font-size: 16px; border: 1px solid  rgb(192, 192, 192); padding: 15px; border-radius: 5px; \">\n",
    "    <h4 style=\"font-size: 20px;color: rgb(160, 160, 160);\">Definition 6.</h4>\n",
    "    <p>        \n",
    "        Multiply periodic Klein-Weierstrass $\\wp$-functions are defined by\n",
    "        $$\n",
    "            \\wp_{ij}(\\mathbf{u}):= - \\frac{\\partial^2\\log{\\sigma(\\mathbf{u})}}{\\partial u_i \\partial u_j}, \\quad \\wp_{ijk}:=- \\frac{\\partial^3\\log{\\sigma(\\mathbf{u})}}{\\partial u_i \\partial u_j \\partial u_k},\n",
    "        $$\n",
    "        where $\\sigma(u)$ is called <i>sigma function</i>. This can be also written by \n",
    "        $$\n",
    "            \\wp_{ij} = \\frac{\\sigma_i(\\mathbf{u})\\sigma_j(\\mathbf{u}) - \\sigma(\\mathbf{u})\\sigma_{ij}(\\mathbf{u})}{\\sigma^2(\\mathbf{u})} = \\frac{\\tilde{\\sigma}_i(\\mathbf{u})\\tilde{\\sigma}_j(\\mathbf{u}) - \\tilde{\\sigma}(\\mathbf{u})\\tilde{\\sigma}_{ij}(\\mathbf{u})}{\\tilde{\\sigma}^2(\\mathbf{u})},\n",
    "        $$\n",
    "        where $\\sigma_i(\\mathbf{u})$ denotes the derivative of the sigma function with respect to the $i$-th component of $\\mathbf{u}$. <br>\n",
    "        <br>\n",
    "        It can be shown that the above definitions can be written in the form\n",
    "        $$\n",
    "            \\wp_{ij}:=\\kappa_{ij} - \\frac{\\partial^2}{\\partial u_i \\partial u_j}\\log{\\theta[K](\\omega^{-1}u;\\tau)}, \\quad \\wp_{ijk}:=- \\frac{\\partial^3}{\\partial u_i \\partial u_j \\partial u_k}\\log{\\theta[K](\\omega^{-1}u;\\tau)}.\n",
    "        $$\n",
    "    </p>    \n",
    "    </div>\n",
    "\n",
    "</div>"
   ]
  },
  {
   "cell_type": "code",
   "execution_count": 268,
   "id": "0fe5f05b-92d6-4b49-b835-367bc81d88b1",
   "metadata": {},
   "outputs": [],
   "source": [
    "#definition with thetas\n",
    "# We define variables\n",
    "var('U1 U3')\n",
    "\n",
    "# We define the accuracy of theta function\n",
    "Acc=20\n",
    "\n",
    "\n",
    "# WeierstrassP11\n",
    "def WeierstrassP11(u1_val, u3_val):\n",
    "    symbolic_expr = kappa[0, 0] - diff(log(ThetaCh(KCh, omega_inv * vector([U1, U3]), tau, Acc)), U1, 2)\n",
    "    return symbolic_expr.subs({U1: u1_val, U3: u3_val}).n()\n",
    "\n",
    "# WeierstrassP13\n",
    "def WeierstrassP13(u1_val, u3_val):\n",
    "    symbolic_expr = kappa[0, 1] - diff(log(ThetaCh(KCh, omega_inv * vector([U1, U3]), tau, Acc)),  U1, U3)\n",
    "    return symbolic_expr.subs({U1: u1_val, U3: u3_val}).n()\n",
    "\n",
    "# WeierstrassP33\n",
    "def WeierstrassP33(u1_val, u3_val):\n",
    "    symbolic_expr = kappa[1, 1] - diff(log(ThetaCh(KCh, omega_inv * vector([U1, U3]), tau, Acc)), U3, 2)\n",
    "    return symbolic_expr.subs({U1: u1_val, U3: u3_val}).n()\n",
    "\n",
    "# WeierstrassP1111\n",
    "def WeierstrassP1111(u1_val, u3_val):\n",
    "    symbolic_expr = - diff(log(ThetaCh(KCh, omega_inv * vector([U1, U3]), tau, Acc)), U1, 4)\n",
    "    return symbolic_expr.subs({U1: u1_val, U3: u3_val}).n()\n",
    "\n",
    "# WeierstrassP3333\n",
    "def WeierstrassP3333(u1_val, u3_val):\n",
    "    symbolic_expr = - diff(log(ThetaCh(KCh, omega_inv * vector([U1, U3]), tau, Acc)), U3, 4)\n",
    "    return symbolic_expr.subs({U1: u1_val, U3: u3_val}).n()\n"
   ]
  },
  {
   "cell_type": "markdown",
   "id": "6b4a8b4f-bc8d-4abf-804d-e790674f192f",
   "metadata": {},
   "source": [
    "<div style=\"font-family: 'Latin Modern Roman', Times, serif; font-size: 16px;\">\n",
    "<h2 style=\"font-size: 24px;\">7.1. Tests</h2>\n",
    "</div>"
   ]
  },
  {
   "cell_type": "markdown",
   "id": "e28d40d6-5544-4e5e-8740-56f1c224d537",
   "metadata": {},
   "source": [
    "<div style=\"font-family: 'Latin Modern Roman', Times, serif; font-size: 16px;\">\n",
    "<p>\n",
    "    As a first test of these functions, we can check if they satisfy the key property  \n",
    "$$\n",
    "    \\wp_{ij}(\\mathbf{u}+2\\omega \\mathbf{n} + 2\\omega'\\mathbf{n}') = \\wp_{ij}(\\mathbf{u}),\n",
    "$$\n",
    "where\n",
    "$$\n",
    "    \\mathbf{n} = \n",
    "        \\begin{pmatrix}\n",
    "            n_1\\\\\n",
    "            n_2\n",
    "        \\end{pmatrix}, \\quad\n",
    "    \\mathbf{n}' = \n",
    "        \\begin{pmatrix}\n",
    "            n'_1\\\\\n",
    "            n'_2\n",
    "        \\end{pmatrix} \\in \\mathbb{Z}^2.\n",
    "$$  \n",
    "</p>\n",
    "</d>"
   ]
  },
  {
   "cell_type": "code",
   "execution_count": 40,
   "id": "86ddb826-807a-4d75-98f8-d14caeb45aa1",
   "metadata": {},
   "outputs": [
    {
     "name": "stdout",
     "output_type": "stream",
     "text": [
      "Theta based definitions\n",
      "\n",
      "Test P11:\n",
      "7.36690708436072e-11 + 4.91695573145989e-12*I\n",
      "\n",
      "Test P13:\n",
      "-1.74793512996985e-11 - 3.78008735424373e-11*I\n",
      "\n",
      "Test P33:\n",
      "1.20792265079217e-11 - 1.58024704433046e-11*I\n",
      "\n",
      "\n",
      "Sigma based definitions\n",
      "\n",
      "Test P11:\n",
      "-3.83515441626514e-11 - 9.03901593783867e-13*I\n",
      "\n",
      "Test P13:\n",
      "2.50466314355435e-13 - 4.64994659973170e-13*I\n",
      "\n",
      "Test P33:\n",
      "3.62376795237651e-12 + 1.52677602519117e-11*I\n"
     ]
    }
   ],
   "source": [
    "ntest = vector([1, 2])\n",
    "nPtest = vector([-3, -5])\n",
    "\n",
    "wn = omega*ntest\n",
    "wPn= omegaP*nPtest\n",
    "\n",
    "print(\"Theta based definitions\")\n",
    "print()\n",
    "print(\"Test P11:\")\n",
    "print(WeierstrassP11(2.0, 3.0) - WeierstrassP11(2.0 + 2*wn[0] + 2*wPn[0], 3.0 + 2*wn[1] + 2*wPn[1]))\n",
    "print()\n",
    "print(\"Test P13:\")\n",
    "print(WeierstrassP13(2.0, 3.0) - WeierstrassP13(2.0 + 2*wn[0] + 2*wPn[0], 3.0 + 2*wn[1] + 2*wPn[1]))\n",
    "print()\n",
    "print(\"Test P33:\")\n",
    "print(WeierstrassP33(2.0, 3.0) - WeierstrassP33(2.0 + 2*wn[0] + 2*wPn[0], 3.0 + 2*wn[1] + 2*wPn[1]))\n",
    "print()\n",
    "print()\n",
    "print(\"Sigma based definitions\")\n",
    "print()\n",
    "print(\"Test P11:\")\n",
    "print(Weierstrass2P11(2.0, 3.0) - Weierstrass2P11(2.0 + 2*wn[0] + 2*wPn[0], 3.0 + 2*wn[1] + 2*wPn[1]))\n",
    "print()\n",
    "print(\"Test P13:\")\n",
    "print(Weierstrass2P13(2.0, 3.0) - Weierstrass2P13(2.0 + 2*wn[0] + 2*wPn[0], 3.0 + 2*wn[1] + 2*wPn[1]))\n",
    "print()\n",
    "print(\"Test P33:\")\n",
    "print(Weierstrass2P33(2.0, 3.0) - Weierstrass2P33(2.0 + 2*wn[0] + 2*wPn[0], 3.0 + 2*wn[1] + 2*wPn[1]))"
   ]
  },
  {
   "cell_type": "markdown",
   "id": "850231ec-e089-47f7-93df-03eb0ce3169d",
   "metadata": {},
   "source": [
    "<div style=\"font-family: 'Latin Modern Roman', Times, serif; font-size: 16px;\">\n",
    "<h2 style=\"font-size: 24px;\">7.2. Basic relations</h2>\n",
    "</div>\n",
    "\n",
    "<div style=\"font-family: 'Latin Modern Roman', Times, serif; font-size: 16px;\">\n",
    "<h3 style=\"font-size: 24px;\">I. </h3>\n",
    "</div>"
   ]
  },
  {
   "cell_type": "markdown",
   "id": "c7e4ffb4-ebca-4a9d-8939-862e703a1b09",
   "metadata": {},
   "source": [
    "<div style=\"background-color:  rgba(224, 224, 224, 0.25); \n",
    "    font-family: 'Latin Modern Roman', Times, serif; font-size: 16px; border: 1px solid  rgb(192, 192, 192); padding: 15px; border-radius: 5px; \">\n",
    "    <h4 style=\"font-size: 20px;color: rgb(160, 160, 160);\">Definition 7</h4>\n",
    "    <p>  \n",
    "        \n",
    "The following formula cames from <a href=\"https://arxiv.org/pdf/2312.10859\" target=\"_blank\">[11]</a> (Eq. 44) - this is KdV equation\n",
    "\n",
    "$$\n",
    "       \\wp_{1111} = 6\\wp^2_{11} +  4\\lambda_2 \\wp_{11} + 4 \\wp_{13} + 2 \\lambda_4 \n",
    "    $$\n",
    "\n",
    "</pre>\n",
    "</div>"
   ]
  },
  {
   "cell_type": "code",
   "execution_count": 314,
   "id": "4633d88f-22c7-4c94-90ad-2cf0de8328de",
   "metadata": {},
   "outputs": [
    {
     "data": {
      "text/plain": [
       "-1.81898940354586e-12 - 2.72901563345651e-12*I"
      ]
     },
     "execution_count": 314,
     "metadata": {},
     "output_type": "execute_result"
    }
   ],
   "source": [
    "u1 = 0.212131\n",
    "u3 = -2.231\n",
    "\n",
    "RHS = 6 * WeierstrassP11(u1,u3)^2 + 4 * l2 * WeierstrassP11(u1,u3) + 4 * WeierstrassP13(u1,u3) + 2*l4\n",
    "LHS = WeierstrassP1111(u1,u3)\n",
    "\n",
    "LHS - RHS"
   ]
  },
  {
   "cell_type": "markdown",
   "id": "d3b1535d-dbf9-46f0-82b0-2624786fe498",
   "metadata": {},
   "source": [
    "<div style=\"font-family: 'Latin Modern Roman', Times, serif; font-size: 16px;\">\n",
    "<p>\n",
    "Let's check this for another value of vector $u$\n",
    "\n",
    "</p>\n",
    "</div>"
   ]
  },
  {
   "cell_type": "code",
   "execution_count": 315,
   "id": "32bb0dc7-01d7-46fc-90db-b01268f8ce07",
   "metadata": {},
   "outputs": [
    {
     "data": {
      "text/plain": [
       "9.86233317235019e-12 + 9.49285094975494e-12*I"
      ]
     },
     "execution_count": 315,
     "metadata": {},
     "output_type": "execute_result"
    }
   ],
   "source": [
    "u1 = -1.98213\n",
    "u3 = 3.76213\n",
    "\n",
    "RHS = 6 * WeierstrassP11(u1,u3)^2 + 4 * l2 * WeierstrassP11(u1,u3) + 4 * WeierstrassP13(u1,u3) + 2*l4\n",
    "LHS = WeierstrassP1111(u1,u3)\n",
    "\n",
    "LHS - RHS"
   ]
  },
  {
   "cell_type": "markdown",
   "id": "c4bb679a-798c-486f-b265-9c49f5852020",
   "metadata": {},
   "source": [
    "<div style=\"background-color:  rgba(216, 220, 97, 0.25); \n",
    "    font-family: 'Latin Modern Roman', Times, serif; font-size: 16px; border: 1px solid  rgb(205,210,44); padding: 15px; border-radius: 5px; \">\n",
    "    <h3 style=\"font-size: 20px;color: rgb(205,210,44);\">Observation 3.</h3>\n",
    "    <p>\n",
    "    Works great :)\n",
    "</p>\n",
    "</d>"
   ]
  },
  {
   "cell_type": "markdown",
   "id": "9e86308d-51cf-42ad-8ea0-d4600e7a94da",
   "metadata": {},
   "source": [
    "<div style=\"font-family: 'Latin Modern Roman', Times, serif; font-size: 16px;\">\n",
    "<h3 style=\"font-size: 24px;\">II. </h3>\n",
    "</div>"
   ]
  },
  {
   "cell_type": "markdown",
   "id": "44536b6c-4c69-4fa3-882f-b7f6a8014f46",
   "metadata": {},
   "source": [
    "<div style=\"background-color:  rgba(224, 224, 224, 0.25); \n",
    "    font-family: 'Latin Modern Roman', Times, serif; font-size: 16px; border: 1px solid  rgb(192, 192, 192); padding: 15px; border-radius: 5px; \">\n",
    "    <h4 style=\"font-size: 20px;color: rgb(160, 160, 160);\">Definition 8</h4>\n",
    "    <p>  \n",
    "        \n",
    "Based on <a href=\"https://arxiv.org/pdf/1106.2408\" target=\"_blank\">[7]</a></li> (5.10-13) let's take\n",
    "$$\n",
    "    \\Omega_{ij} = \\frac{1}{2} \\omega (\\epsilon_i + \\epsilon_j) +  \\frac{1}{2} \\omega' (\\epsilon'_i + \\epsilon'_j),\n",
    "$$\n",
    "then\n",
    "$$\n",
    "    \\wp_{11}(\\Omega_{ij}) = e_i + e_j, \\quad \\wp_{13}(\\Omega_{ij}) = -e_i e_j,  \\quad i,j=1,\\ldots,5, \\; i\\neq j\n",
    "$$\n",
    "</pre>\n",
    "</div>"
   ]
  },
  {
   "cell_type": "code",
   "execution_count": 313,
   "id": "c115f541-e0f6-4f4a-a9df-715022d31718",
   "metadata": {},
   "outputs": [],
   "source": [
    "Omega12 = (1/2)*omega*(eps1 + eps2) + (1/2)*omegaP*(epsp1 + epsp2)\n",
    "Omega13 = (1/2)*omega*(eps1 + eps3) + (1/2)*omegaP*(epsp1 + epsp3)\n",
    "Omega15 = (1/2)*omega*(eps1 + eps5) + (1/2)*omegaP*(epsp1 + epsp5)\n",
    "Omega23 = (1/2)*omega*(eps2 + eps3) + (1/2)*omegaP*(epsp2 + epsp3)\n",
    "Omega25 = (1/2)*omega*(eps2 + eps5) + (1/2)*omegaP*(epsp2 + epsp5)\n",
    "Omega35 = (1/2)*omega*(eps3 + eps5) + (1/2)*omegaP*(epsp3 + epsp5)"
   ]
  },
  {
   "cell_type": "code",
   "execution_count": 405,
   "id": "05e11da2-e79d-4fc1-9c63-587d2ef8eae0",
   "metadata": {},
   "outputs": [
    {
     "name": "stdout",
     "output_type": "stream",
     "text": [
      "P11(Omega12)= -11.1300783560491 - 1.04164546422316*I\n",
      "From theory: e1+e2= -0.357603683831631 + 1.04164546422316*I\n",
      "From practice: e3+e5= -11.1300783560490 - 1.04164546422321*I\n"
     ]
    }
   ],
   "source": [
    "print(\"P11(Omega12)=\",WeierstrassP11(Omega12[0],Omega12[1]))\n",
    "print(\"From theory: e1+e2=\",e(up1[0],up1[1])+ e(up2[0],up2[1]))\n",
    "print(\"From practice: e3+e5=\",e(up3[0],up3[1])+ e(up5[0],up5[1]))"
   ]
  },
  {
   "cell_type": "code",
   "execution_count": 406,
   "id": "d36cced5-93ef-4e32-949b-b194aca8161a",
   "metadata": {},
   "outputs": [
    {
     "name": "stdout",
     "output_type": "stream",
     "text": [
      "P13(Omega12)= 8.21890252901329 - 12.3175785921502*I\n",
      "From theory: -e1*e2= 0.731625594752220 + 1.09647921137605*I\n",
      "From practice: -e3*e5= 8.21890252901333 - 12.3175785921502*I\n"
     ]
    }
   ],
   "source": [
    "print(\"P13(Omega12)=\",WeierstrassP13(Omega12[0],Omega12[1]))\n",
    "print(\"From theory: -e1*e2=\",-e(up1[0],up1[1])* e(up2[0],up2[1]))\n",
    "print(\"From practice: -e3*e5=\",-e(up3[0],up3[1]) * e(up5[0],up5[1]))"
   ]
  },
  {
   "cell_type": "code",
   "execution_count": 407,
   "id": "3ca5c4de-13b2-43d4-a577-90f8b9e6c35c",
   "metadata": {},
   "outputs": [
    {
     "name": "stdout",
     "output_type": "stream",
     "text": [
      "P11(Omega13)= 1.39007556983559 + 9.15933995315754e-15*I\n",
      "From theory: e1+e3= -12.8777576097163 - 4.37991975292688e-14*I\n",
      "From practice: e2+e5= 1.39007556983560 - 6.66133814775094e-16*I\n"
     ]
    }
   ],
   "source": [
    "print(\"P11(Omega13)=\",WeierstrassP11(Omega13[0],Omega13[1]))\n",
    "print(\"From theory: e1+e3=\",e(up1[0],up1[1])+ e(up3[0],up3[1]))\n",
    "print(\"From practice: e2+e5=\",e(up5[0],up5[1]) + e(up2[0],up2[1]))"
   ]
  },
  {
   "cell_type": "code",
   "execution_count": 408,
   "id": "cabe1050-343e-4429-a18e-15c63f167d1d",
   "metadata": {},
   "outputs": [
    {
     "name": "stdout",
     "output_type": "stream",
     "text": [
      "P11(Omega15)= -11.1300783560490 + 1.04164546422316*I\n",
      "From theory: e1+e5= -0.357603683831630 - 1.04164546422316*I\n",
      "From practice: e2+e3= -11.1300783560490 + 1.04164546422312*I\n"
     ]
    }
   ],
   "source": [
    "print(\"P11(Omega15)=\",WeierstrassP11(Omega15[0],Omega15[1]))\n",
    "print(\"From theory: e1+e5=\",e(up1[0],up1[1])+ e(up5[0],up5[1]))\n",
    "print(\"From practice: e2+e3=\",e(up3[0],up3[1]) + e(up2[0],up2[1]))"
   ]
  },
  {
   "cell_type": "code",
   "execution_count": 298,
   "id": "2d2ec542-56b1-4bbb-9ef2-725c2477540b",
   "metadata": {},
   "outputs": [
    {
     "name": "stdout",
     "output_type": "stream",
     "text": [
      "Branch points from Bolza formula:\n",
      "-1.05264146874943 - 4.34176838933187e-16*I\n",
      "0.695037784917798 + 1.04164546422316*I\n",
      "-11.8251161409668 - 4.33650206903357e-14*I\n",
      "2.53231492223134e15 - 6.84742393413673e15*I\n",
      "0.695037784917799 - 1.04164546422316*I\n"
     ]
    }
   ],
   "source": [
    "print(\"Branch points from Bolza formula:\", \n",
    "      e(up1[0],up1[1]), \n",
    "      e(up2[0],up2[1]), \n",
    "      e(up3[0],up3[1]), \n",
    "      e(up4[0],up4[1]), \n",
    "      e(up5[0],up5[1]), sep='\\n')"
   ]
  },
  {
   "cell_type": "code",
   "execution_count": 299,
   "id": "3053867b-0339-4254-a900-cadad89556c3",
   "metadata": {},
   "outputs": [
    {
     "name": "stdout",
     "output_type": "stream",
     "text": [
      "Branch points:\n",
      "-11.8251161409669\n",
      "-1.05264146874943\n",
      "-0.512317960119317\n",
      "0.695037784917798 - 1.04164546422316*I\n",
      "0.695037784917798 + 1.04164546422316*I\n",
      "+Infinity\n"
     ]
    }
   ],
   "source": [
    "print(\"Branch points:\", *branch_points, sep='\\n')"
   ]
  },
  {
   "cell_type": "markdown",
   "id": "351fa355-f96e-40c7-9410-c5c6c770aa5a",
   "metadata": {},
   "source": [
    "<div style=\"font-family: 'Latin Modern Roman', Times, serif; font-size: 16px;\">\n",
    "<h1 style=\"font-size: 24px;\">8. Jacobi inversion problem on branch points</h1>\n",
    "</div>"
   ]
  },
  {
   "cell_type": "markdown",
   "id": "a7ffce95-62f1-4257-9675-c3534bd3649b",
   "metadata": {},
   "source": [
    "<div style=\"font-family: 'Latin Modern Roman', Times, serif; font-size: 16px;\">\n",
    "<p>\n",
    "    Let $\\mathbf{u}=\\mathcal{A}(D)$ be the Abel image of a degree g positive non-special divisor $D$ on the curve. Then $D$ is uniquely defined by the system of equations:\n",
    "    $$\n",
    "        \\mathcal{R}_{2g}(x;\\mathbf{u}) = x^g - \\sum_{i=1}^g x^{g-1} \\wp_{1,2i-1}(\\mathbf{u}) =0,\n",
    "    $$\n",
    "    $$\n",
    "        \\mathcal{R}_{2g+1}(x,y;\\mathbf{u}) = 2y + \\sum_{i=1}^{g-i} x^{g-1} \\wp_{1,1,2i-1}(\\mathbf{u}) =0.\n",
    "    $$\n",
    "    So in case of $g=2$:    \n",
    "    $$\n",
    "        \\mathcal{R}_4(x;\\mathbf{u})=x^2 - x\\wp_{11}(\\mathbf{u})- \\wp_{13}(\\mathbf{u})=0,\n",
    "    $$    \n",
    "    $$\n",
    "        \\mathcal{R}_5 (x;\\mathbf{u})= 2y + x\\wp_{111}(\\mathbf{u}) + \\wp_{113}(\\mathbf{u})=0.\n",
    "    $$    \n",
    "</p>\n",
    "</d>"
   ]
  },
  {
   "cell_type": "markdown",
   "id": "49e0503f-0b9a-4ab4-98a2-1fbe04bd4885",
   "metadata": {},
   "source": [
    "<div style=\"font-family: 'Latin Modern Roman', Times, serif; font-size: 16px;\">\n",
    "<h2 style=\"font-size: 24px;\">8.1. Divisor</h2>\n",
    "</div>"
   ]
  },
  {
   "cell_type": "markdown",
   "id": "93e8d531-e1a0-4bbe-94cf-2f5a470bb679",
   "metadata": {},
   "source": [
    "<div style=\"background-color:  rgba(224, 224, 224, 0.25); \n",
    "    font-family: 'Latin Modern Roman', Times, serif; font-size: 16px; border: 1px solid  rgb(192, 192, 192); padding: 15px; border-radius: 5px; \">\n",
    "    <h3 style=\"font-size: 20px;color: rgb(160, 160, 160);\">Definition 9.</h3>\n",
    "    <p>        \n",
    "        Let \n",
    "        $$\n",
    "            D=\\sum_{i=1}^n P_i,\n",
    "        $$\n",
    "        be a divisor on a curve $\\mathscr{C}$. We assume that $D$ is <b>non-special</b>, that is \n",
    "        <ul>\n",
    "          <li> $ n\\geq g$,\n",
    "          <li> $D$ does not contain pairs of points connected by the hyperelliptic involution.\n",
    "        </ul>\n",
    "    </p>    \n",
    "</div>"
   ]
  },
  {
   "cell_type": "markdown",
   "id": "aa0db3de-733b-4620-b843-890bf3762e60",
   "metadata": {},
   "source": [
    "<div style=\"background-color:  rgba(153, 204, 255, 0.25); \n",
    "    font-family: 'Latin Modern Roman', Times, serif; font-size: 16px; border: 1px solid  rgb(0, 128,255); padding: 15px; border-radius: 5px; \">\n",
    "    <h3 style=\"font-size: 20px;color: rgb(0, 128,255);\">Note 8.</h3>\n",
    "    <p>\n",
    "    On special divisors $\\sigma$-function vanishes, and so $\\wp$-functions have singularities.\n",
    "  </p>\n",
    "</div>"
   ]
  },
  {
   "cell_type": "markdown",
   "id": "70a215ff-ca4b-4539-b52a-431a686b0d36",
   "metadata": {},
   "source": [
    "<div style=\"font-family: 'Latin Modern Roman', Times, serif; font-size: 16px;\">\n",
    "<p>\n",
    "As a point $P_i$ we choose\n",
    "$$\n",
    "    P_i = (x_i,y_i) = (x_i, y_{+}(x_i)),\n",
    "$$\n",
    "where $y_{+}(x) = + \\sqrt{y^2(x)}$ (there is second option $y_{-}(x) = - \\sqrt{y^2(x)}$ ). \n",
    "\n",
    "In our case let's take\n",
    "$$\n",
    "    P_1 = (x_1, y_1)=(1.5,y_{+}(1.5))\n",
    "$$\n",
    "$$\n",
    "    P_2 = (x_2, y_2)=(3.1,y_{+}(3.1))\n",
    "$$\n",
    "</p> \n",
    "</div>"
   ]
  },
  {
   "cell_type": "code",
   "execution_count": 368,
   "id": "1b753b5e-7c68-4a10-910b-88741200b2e6",
   "metadata": {},
   "outputs": [],
   "source": [
    "# Definition of y function \n",
    "def y(x):\n",
    "    res = sqrt(x^5 + l2*x^4 + l4*x^3 + l6*x^2 + l8*x + l10)\n",
    "    return res.n()"
   ]
  },
  {
   "cell_type": "markdown",
   "id": "adbfc3f8-928e-42ef-929f-f5f644c5b7c9",
   "metadata": {},
   "source": [
    "<div style=\"font-family: 'Latin Modern Roman', Times, serif; font-size: 16px;\">\n",
    "<p>\n",
    "    To calculate $\\mathbf{u}$ I will use the Sage function:  <code style=\"color: #66d9ef;font-size: 13px;\">abel_jacobi()</code>, \n",
    "    where it expects lists of tuples in the format  <code style=\"color: #66d9ef;font-size: 13px;font-size: 13px;\">(v,P)</code>, where  <code style=\"color: #66d9ef;font-size: 13px;\">v</code> is the multiplicity of the point in the divisor (in our case 1 for both points), and  <code style=\"color: #66d9ef;font-size: 13px;\">P</code> is a tuple  <code style=\"color: #66d9ef;font-size: 13px;\">(x,y)</code> representing the point on the curve. \n",
    "\n",
    "The multiplicity <code style=\"color: #66d9ef;font-size: 13px;\">v</code> (also called valuation) in the context of divisors determines how many times a given point appears in the divisor. Here are some key points:\n",
    "<ul>\n",
    "    <li> For regular points on the curve that are neither singular points nor points at infinity, typically $v = 1$ or $v = -1$ is used.\n",
    "$v = 1$ means the point appears positively in the divisor (it is \"added\").\n",
    "    <li> $v = -1$ means the point appears negatively in the divisor (it is \"subtracted\").\n",
    "    <li> If a point appears multiple times, $v$ can be greater than 1 or less than -1.\n",
    "    <li> For special points (e.g., points at infinity or singular points), v may take other values depending on the local structure of the curve at that point.\n",
    "</ul>\n",
    "\n",
    "In your case, where you define the divisor as a sum of two regular points: <code style=\"color: #66d9ef;font-size: 13px;\">D = [x1 + x2, y1 + y2]</code>\n",
    "\n",
    "each of these points appears once positively in the divisor, so for both points <code style=\"color: #66d9ef;font-size: 13px;\">v = 1</code>.\n",
    "Therefore, divisor in the format suitable for the <code style=\"color: #66d9ef;font-size: 13px;\">abel_jacobi()</code> function would look like this:    \n",
    "</p>\n",
    "</div> "
   ]
  },
  {
   "cell_type": "code",
   "execution_count": 276,
   "id": "cd20541a-b2d6-4abb-8da6-bb16765fa39b",
   "metadata": {},
   "outputs": [],
   "source": [
    "x1 = 0.256\n",
    "x2 = 11.721\n",
    "\n",
    "y1 = y(x1)\n",
    "y2 = y(x2)\n",
    "\n",
    "# P_i points\n",
    "P1 = [ x1, y1 ] \n",
    "P2 = [ x2, y2 ]\n",
    "\n",
    "# Divisor\n",
    "divisor = [(1, (x1, y1)), (1, (x2, y2))]"
   ]
  },
  {
   "cell_type": "markdown",
   "id": "703f907e-0a7f-4c7d-bcdf-7ccc6d7026eb",
   "metadata": {},
   "source": [
    "<div style=\"background-color:  rgba(153, 204, 255, 0.25); \n",
    "    font-family: 'Latin Modern Roman', Times, serif; font-size: 16px; border: 1px solid  rgb(0, 128,255); padding: 15px; border-radius: 5px; \">\n",
    "    <h3 style=\"font-size: 20px;color: rgb(0, 128,255);\">Note 9.</h3>\n",
    "    <p>\n",
    "    If one wanted to define a more complex divisor, for example, the difference of two points, it might look like this:<br>\n",
    "        <code style=\"color: #66d9ef;font-size: 13px;\">divisor = [(1, (x1, y1)), (-1, (x2, y2))]</code><br>\n",
    "    where -1 indicates that the second point is subtracted in the divisor.\n",
    "  </p>\n",
    "</div>"
   ]
  },
  {
   "cell_type": "code",
   "execution_count": 277,
   "id": "d989969f-dec2-4ebd-9cf2-7c3d499fa1d4",
   "metadata": {},
   "outputs": [
    {
     "name": "stdout",
     "output_type": "stream",
     "text": [
      "(-0.095227328487916328568064649224 - 0.47103938123276306779408678278*I, -0.94610300133296732955826058561 - 0.36651365565790567383047992719*I)\n"
     ]
    }
   ],
   "source": [
    "AJ = S.abel_jacobi(divisor)\n",
    "\n",
    "print(AJ)"
   ]
  },
  {
   "cell_type": "markdown",
   "id": "7989ce99-3c37-496e-a261-fd4c24b9dfa5",
   "metadata": {},
   "source": [
    "<div style=\"font-family: 'Latin Modern Roman', Times, serif; font-size: 16px;\">\n",
    "<h2 style=\"font-size: 24px;\">8.2. Tests</h2>\n",
    "</div>"
   ]
  },
  {
   "cell_type": "code",
   "execution_count": 278,
   "id": "978f4429-cb60-469e-a8cb-a947ff5c4fa3",
   "metadata": {},
   "outputs": [
    {
     "name": "stdout",
     "output_type": "stream",
     "text": [
      "P11(u):\n",
      "6.36829653384855 - 4.59081552648907*I\n",
      "P13(u):\n",
      "-9.85938695314929 - 1.97507933943479*I\n",
      "P33(u):\n",
      "-23.8259011047188 + 49.1062328287844*I\n"
     ]
    }
   ],
   "source": [
    "u1=AJ[0]\n",
    "u3=AJ[1]\n",
    "\n",
    "print(\"P11(u):\")\n",
    "print(WeierstrassP11(u1, u3))\n",
    "\n",
    "print(\"P13(u):\")\n",
    "print(WeierstrassP13(u1, u3))\n",
    "\n",
    "print(\"P33(u):\")\n",
    "print(WeierstrassP33(u1, u3))"
   ]
  },
  {
   "cell_type": "code",
   "execution_count": 279,
   "id": "049a80ae-7a8a-4a73-871a-ac4823514bc8",
   "metadata": {},
   "outputs": [
    {
     "data": {
      "text/plain": [
       "7.85052787660044"
      ]
     },
     "execution_count": 279,
     "metadata": {},
     "output_type": "execute_result"
    }
   ],
   "source": [
    "WeierstrassP11(u1, u3).abs()"
   ]
  },
  {
   "cell_type": "code",
   "execution_count": 280,
   "id": "bcd18724-55b3-4e42-bc89-1ce36a135034",
   "metadata": {},
   "outputs": [
    {
     "name": "stdout",
     "output_type": "stream",
     "text": [
      "P11(u):\n",
      "-3.56865567641634 + 5.00008457846782*I\n",
      "P13(u):\n",
      "-3.58050573425828 + 5.20008622575496*I\n",
      "P33(u):\n",
      "13.3973281479906 + 1.55914156214922*I\n"
     ]
    }
   ],
   "source": [
    "u1=AJ[0]\n",
    "u3=AJ[1]\n",
    "\n",
    "print(\"P11(u):\")\n",
    "print(WeierstrassP11(u3, u1))\n",
    "\n",
    "print(\"P13(u):\")\n",
    "print(WeierstrassP13(u3, u1))\n",
    "\n",
    "print(\"P33(u):\")\n",
    "print(WeierstrassP33(u3, u1))"
   ]
  },
  {
   "cell_type": "code",
   "execution_count": 281,
   "id": "c116cf42-ab00-4d50-a23d-3b567867e28f",
   "metadata": {},
   "outputs": [
    {
     "data": {
      "text/plain": [
       "x^2 - 11.9770000000000*x + 3.00057600000000"
      ]
     },
     "execution_count": 281,
     "metadata": {},
     "output_type": "execute_result"
    }
   ],
   "source": [
    "mat1R4=[[1, x, x^2],[ 1, x1, x1^2], [1, x2, x2^2]]\n",
    "det1=matrix(mat1R4).determinant()\n",
    "mat2R4=[[ 1, x1], [1, x2]]\n",
    "det2=matrix(mat2R4).determinant()\n",
    "det1/det2"
   ]
  },
  {
   "cell_type": "code",
   "execution_count": 282,
   "id": "3b20b390-e62a-4139-a6bb-56fd72b88fcf",
   "metadata": {},
   "outputs": [
    {
     "data": {
      "text/plain": [
       "0.250528179009769"
      ]
     },
     "execution_count": 282,
     "metadata": {},
     "output_type": "execute_result"
    }
   ],
   "source": [
    "(x1*x2)/(x1+x2)"
   ]
  },
  {
   "cell_type": "code",
   "execution_count": 283,
   "id": "f511b029-ea5f-4bd9-9e90-bdf14c24c41a",
   "metadata": {},
   "outputs": [
    {
     "data": {
      "text/plain": [
       "3.99156695247846"
      ]
     },
     "execution_count": 283,
     "metadata": {},
     "output_type": "execute_result"
    }
   ],
   "source": [
    "(x1+x2)/(x1*x2)"
   ]
  },
  {
   "cell_type": "code",
   "execution_count": 284,
   "id": "6a6dba26-7696-41ca-93ef-9b920aef5b11",
   "metadata": {},
   "outputs": [
    {
     "data": {
      "text/plain": [
       "1.02762109946350 - 0.0173437337281857*I"
      ]
     },
     "execution_count": 284,
     "metadata": {},
     "output_type": "execute_result"
    }
   ],
   "source": [
    "WeierstrassP13(u3, u1)/WeierstrassP11(u3, u1)"
   ]
  },
  {
   "cell_type": "code",
   "execution_count": 285,
   "id": "26bdb7ae-5462-4b35-85aa-7b245ebe1436",
   "metadata": {},
   "outputs": [
    {
     "data": {
      "text/plain": [
       "0.972844202700385 + 0.0164192335282465*I"
      ]
     },
     "execution_count": 285,
     "metadata": {},
     "output_type": "execute_result"
    }
   ],
   "source": [
    "WeierstrassP11(u3, u1)/WeierstrassP13(u3, u1)"
   ]
  },
  {
   "cell_type": "code",
   "execution_count": 286,
   "id": "6a0f081e-943b-4b2f-9377-5da6be03e2fd",
   "metadata": {},
   "outputs": [
    {
     "data": {
      "text/plain": [
       "-0.871646731391295 - 0.938500375375504*I"
      ]
     },
     "execution_count": 286,
     "metadata": {},
     "output_type": "execute_result"
    }
   ],
   "source": [
    "WeierstrassP13(u1, u3)/WeierstrassP11(u1, u3)"
   ]
  },
  {
   "cell_type": "code",
   "execution_count": 287,
   "id": "4e384bcb-dfa2-4b33-96cb-859ca7dba47c",
   "metadata": {},
   "outputs": [
    {
     "data": {
      "text/plain": [
       "-0.531313407866428 + 0.572064134203511*I"
      ]
     },
     "execution_count": 287,
     "metadata": {},
     "output_type": "execute_result"
    }
   ],
   "source": [
    "WeierstrassP11(u1, u3)/WeierstrassP13(u1, u3)"
   ]
  },
  {
   "cell_type": "markdown",
   "id": "9e3fe95c-43c5-499a-a1f8-6168d47ec612",
   "metadata": {},
   "source": [
    "<div style=\"font-family: 'Latin Modern Roman', Times, serif; font-size: 16px;\">\n",
    "<p>\n",
    "We should get:\n",
    "$$\n",
    "        x^2 - \\wp_{11}(\\mathbf{u}) \\;x - \\wp_{13}(\\mathbf{u})=0,\n",
    "$$\n",
    "</p>\n",
    "</div> "
   ]
  },
  {
   "cell_type": "markdown",
   "id": "86330f32-37f0-403e-a4a3-7ed5bf6317f0",
   "metadata": {},
   "source": [
    "<div style=\"background-color:  rgba(216, 220, 97, 0.25); \n",
    "    font-family: 'Latin Modern Roman', Times, serif; font-size: 16px; border: 1px solid  rgb(205,210,44); padding: 15px; border-radius: 5px; \">\n",
    "    <h3 style=\"font-size: 20px;color: rgb(205,210,44);\">Observation 4.</h3>\n",
    "    <p>\n",
    "    Ok, this is bad.\n",
    "  </p>\n",
    "</div>"
   ]
  },
  {
   "cell_type": "markdown",
   "id": "c6f9525d-b400-44f1-8c3e-f1a20f728125",
   "metadata": {},
   "source": [
    "<div style=\"font-family: 'Latin Modern Roman', Times, serif; font-size: 16px;\">\n",
    "<h1 style=\"font-size: 32px;\"> Literature </h1>\n",
    "    <ol type=\"1\">\n",
    "        <li> \n",
    "            Julia Bernatska, <em>Computation of $\\wp$-functions on plane algebraic curves</em>,  arXiv (2024),<br>\n",
    "            URL: <a href=\"https://arxiv.org/abs/2407.05632\" target=\"_blank\">https://arxiv.org/abs/2407.05632</a> </li>\n",
    "        <li>\n",
    "            Julia Bernatska, <em>Uniformization of a genus 4 hyperelliptic curve with arbitrary complex branch points</em>, Wolfram Community (2024),<br>\n",
    "            URL: <a href=\"https://community.wolfram.com/groups/-/m/t/3243472\" target=\"_blank\">https://community.wolfram.com/groups/-/m/t/3243472</a> </li>\n",
    "        <li> \n",
    "            SageMath Documentation, <em>Riemann matrices and endomorphism rings of algebraic Riemann surfaces</em>,<br>\n",
    "            URL:<a href=\"https://doc.sagemath.org/html/en/reference/curves/sage/schemes/riemann_surfaces/riemann_surface.html#sage.schemes.riemann_surfaces.riemann_surface.RiemannSurface\"\n",
    "target=\"_blank\">https://doc.sagemath.org/html/en/reference/curves/sage/schemes/riemann_surfaces/riemann_surface.html#sage.schemes.riemann_surfaces.riemann_surface.RiemannSurface</a></li>\n",
    "        <li> \n",
    "            V.M.Buchstaber, V.Z. Enolski, and D.V.Leykin, <em>Hyperelliptic Kleinian function and applications</em>, arXiv (1996), <br>\n",
    "            URL: <a href=\"https://arxiv.org/pdf/solv-int/9603005\" target=\"_blank\">https://arxiv.org/pdf/solv-int/9603005</a></li>\n",
    "        <li> \n",
    "            V.M.Buchstaber, V.Z. Enolski, and D.V.Leykin, <em>Multi-variable sigma-functions: old and new results</em>, arXiv (2018), <br>\n",
    "            URL: <a href=\"https://arxiv.org/pdf/1810.11079\" target=\"_blank\">https://arxiv.org/pdf/1810.11079</a></li>\n",
    "        <li> \n",
    "            J. C. Eilbeck, J. Gibbons, Y. Onishi, and S. Yasuda, <em>Theory of Heat Equations for Sigma Functions</em>, arXiv (2018), <br>\n",
    "            URL: <a href=\"https://arxiv.org/pdf/1711.08395\" target=\"_blank\">https://arxiv.org/pdf/1711.08395</a></li> \n",
    "        <li> \n",
    "            V. Z. Enolski, B. Hartmann, V. Kagramanova, J. Kunz, C. Lammerzahl, P. Sirimachan, <em>Inversion of a general hyperelliptic integral and particle motion in Horava-Lifshitz black hole space-times </em>, arXiv (2011), <br>\n",
    "            URL: <a href=\"https://arxiv.org/pdf/1106.2408\" target=\"_blank\">https://arxiv.org/pdf/1106.2408</a></li>\n",
    "        <li>\n",
    "            Athorne C., Eilbeck J.C., Enolskii V.Z., <em>A SL(2) covariant theory of genus 2 hyperelliptic functions</em>, Math. Proc. Cambridge Philos. Soc. 136 (2004), 269–286,<br>\n",
    "            URL: <a href=\"https://www.cambridge.org/core/journals/mathematical-proceedings-of-the-cambridge-philosophical-society/article/abs/sl2-covariant-theory-of-genus-2-hyperelliptic-functions/2EE97A3BFFF5F70DE28F31560F0AC482\" target=\"_blank\"><em>https://www.cambridge.org/core/journals/mathematical-proceedings-of-the-cambridge-philosophical-society/article/abs/sl2-covariant-theory-of-genus-2-hyperelliptic-functions/2EE97A3BFFF5F70DE28F31560F0AC482</a>\n",
    "        </li>\n",
    "        <li>\n",
    "            H. F. Baker, <em>An Introduction to the theory of multiply periodic functions</em>,(1907),<br>\n",
    "        </li>\n",
    "        <li>\n",
    "            M. Hayashi, K. Shigemoto and T. Tsukioka, <em>The half-period addition formulae for genus two hyperelliptic ℘ functions and the Sp(4, R) Lie group structure</em>, J. Phys. Commun. 6 085004 (2022)<br>\n",
    "            URL: <a href=\"https://iopscience.iop.org/article/10.1088/2399-6528/ac8521\" target=\"_blank\"><em>https://iopscience.iop.org/article/10.1088/2399-6528/ac8521</a>\n",
    "        </li>\n",
    "        <li>\n",
    "            J. Bernatska, <em>Reality conditions for the KdV equation and exact quasi-periodic solutions in finite phase spaces</em>, Journal of Geometry and Physics, 206, 105322 (2024),<br>\n",
    "            URL: <a href=\"https://arxiv.org/pdf/2312.10859\" target=\"_blank\"><em>https://arxiv.org/pdf/2312.10859</a>\n",
    "        </li>\n",
    "        <li>\n",
    "            Enolski V.Z., Richter P.H.<em>Periods of hyperelliptic integrals expressed in terms of $\\theta$-constants by means of Thomae formulae</em>, (2007),<br>\n",
    "            URL: <a href=\"https://www.itp.uni-bremen.de/prichter/download/ThetaConst.pdf\" target=\"_blank\"><em>https://www.itp.uni-bremen.de/prichter/download/ThetaConst.pdf</a></li>\n",
    "        <li>\n",
    "            Julia Bernatska, <em>Vector of Riemann constants</em>, Wolfram Community (2024),<br>\n",
    "            URL: <a href=\"https://community.wolfram.com/groups/-/m/t/3296279\" target=\"_blank\">https://community.wolfram.com/groups/-/m/t/3296279</a> </li>\n",
    "\n",
    "</ol>\n",
    "</div>"
   ]
  },
  {
   "cell_type": "code",
   "execution_count": null,
   "id": "12fe0544-4f02-45ce-b750-64e30c1b22be",
   "metadata": {},
   "outputs": [],
   "source": []
  }
 ],
 "metadata": {
  "kernelspec": {
   "display_name": "SageMath 10.4",
   "language": "sage",
   "name": "sagemath-10.4"
  },
  "language_info": {
   "codemirror_mode": {
    "name": "ipython",
    "version": 3
   },
   "file_extension": ".py",
   "mimetype": "text/x-python",
   "name": "python",
   "nbconvert_exporter": "python",
   "pygments_lexer": "ipython3",
   "version": "3.12.4"
  }
 },
 "nbformat": 4,
 "nbformat_minor": 5
}
