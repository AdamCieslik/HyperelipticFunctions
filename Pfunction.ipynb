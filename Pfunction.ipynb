{
 "cells": [
  {
   "cell_type": "markdown",
   "id": "5e2b586e-887d-486b-a6b1-43f1a8db41bb",
   "metadata": {
    "jp-MarkdownHeadingCollapsed": true
   },
   "source": [
    "<div style=\"font-family: 'Latin Modern Roman', Times, serif; font-size: 16px;\">\n",
    "<h1 style=\"font-size: 32px;\">Introduction</h1>\n",
    "<p>\n",
    "The notebook presented here is based on the work of: <em>Computation of $\\wp$-functions on plane algebraic curves</em>, Julia Bernatska (2024) [v3] Fri, 30 Aug 2024<br>\n",
    "URL: <a href=\"https://arxiv.org/abs/2407.05632\" target=\"_blank\">https://arxiv.org/abs/2407.05632</a> \n",
    "</p>\n",
    "<p>\n",
    "Additionally, I used an article posted on WolframCommunity:<br>\n",
    "<a href=\"https://community.wolfram.com/groups/-/m/t/3243472\" target=\"_blank\">https://community.wolfram.com/groups/-/m/t/3243472</a>\n",
    "<br>and the code attached to it: AMap-CHyp-Exmpl1-Publ.nb\n",
    "</p>\n",
    "<p>\n",
    "The code is also based on the documentation:\n",
    "<a href=\"https://doc.sagemath.org/html/en/reference/curves/sage/schemes/riemann_surfaces/riemann_surface.html#sage.schemes.riemann_surfaces.riemann_surface.RiemannSurface\"\n",
    "target=\"_blank\">https://doc.sagemath.org/html/en/reference/curves/sage/schemes/riemann_surfaces/riemann_surface.html#sage.schemes.riemann_surfaces.riemann_surface.RiemannSurface</a>\n",
    "</p>\n",
    "<p>    \n",
    "<p>\n",
    "The general purpose of this Notebook is to present code that can compute the generalised Wierstrass $\\wp_{ij}$ function (sometimes called Klein's functions) for a hyperelliptic curve of genus 2.\n",
    "</p>\n",
    "</div>"
   ]
  },
  {
   "cell_type": "markdown",
   "id": "d4020a2f-8aaf-4356-806d-b9d692b732dd",
   "metadata": {},
   "source": [
    "<div style=\"font-family: 'Latin Modern Roman', Times, serif; font-size: 16px;\">\n",
    "<h1 style=\"font-size: 32px;\">Preliminaries</h1>\n",
    "<p>\n",
    "Many works on hyperelliptic functions and Riemann surfaces use similar notation, leading to potential collisions. To avoid this, I provide a legend of notations.\n",
    "</p>\n",
    "<h3 style=\"font-size: 24px;\">Legend</h3>\n",
    "<ul>\n",
    "  <li>$\\mathscr{C}$ - Curve</li>\n",
    "  <li>$e_i$ - branch points</li>\n",
    "  <li>$w$ - An Abelian differential on the Riemann surface $X$</li>\n",
    "  <li>$du$ - First kind differential</li>\n",
    "  <li>$dr$ - Second kind differential</li>\n",
    "  <li>$dl$ - Third kind differential</li>\n",
    "  <li>$\\mathfrak{a}_i, \\mathfrak{b}_i$ - Canonical homology cycles</li>\n",
    "  <li>$\\omega$ -  First kind integrals</li>\n",
    "  <li>$\\eta$ - Second kind integrals</li>\n",
    "  <li>$\\lambda$ - Third kind integrals</li>\n",
    "  <li>$\\mathcal{A}$ - Abel map</li>\n",
    "  <li>$W$ - general Abelian integral</li>\n",
    "  <li>$A$, $B$ - A- and B-periods of the differential $w=dW$</li>\n",
    "  <li>$\\mathfrak{m}(\\mathbf{u})$ - A meromorphic function of $\\mathbf{u}\\in\\mathbb{C}^g$</li>\n",
    "  <li>$\\Omega$ - Periodic matrices</li>\n",
    "  <li>$\\Lambda$ - Lattice</li>\n",
    "  <li>$X$ - Riemann surface</li>\n",
    "  <li>$\\mathrm{Jac}(\\mathscr{C})$ - Jacobian variety of the curve $\\mathscr{C}$</li>\n",
    "  <li>$D$ - Divisor  on the Riemann surface $X$</li>\n",
    "</ul>\n",
    "<p>\n",
    "    Now we present the basic definitions\n",
    "</p>    \n",
    "</div>"
   ]
  },
  {
   "cell_type": "markdown",
   "id": "5d703988-5150-4da1-92d7-3454f97dcee5",
   "metadata": {},
   "source": [
    "<div>\n",
    "<h3 style=\"font-family: 'Latin Modern Roman', Times, serif; font-size: 24px;\">Hyperelliptic curve</h3>\n",
    "</div>"
   ]
  },
  {
   "cell_type": "markdown",
   "id": "c6cef5bd-6f1a-4fd7-b588-bd0b9883e9c4",
   "metadata": {},
   "source": [
    "<div style=\"background-color:  rgba(224, 224, 224, 0.25); \n",
    "    font-family: 'Latin Modern Roman', Times, serif; font-size: 16px; border: 1px solid  rgb(192, 192, 192); padding: 15px; border-radius: 5px; \">\n",
    "    <h3 style=\"font-size: 20px;color: rgb(160, 160, 160);\">Definition</h3>\n",
    "    <p>    \n",
    "    The hyperelliptic curve is defined by the equation</p>\n",
    "    <div style=\"text-align: center;\">\n",
    "        $\\mathscr{C} = \\{ (x,y)\\in \\mathbb{C}^2 \\mid f(x,y)= \\}$,\n",
    "    </div>\n",
    "    <p>where</p>\n",
    "    <div style=\"text-align: center;\">\n",
    "        $f(x,y) = -y^2 + x^{2g+1} + \\sum_{i=0}^{2g}\\lambda_{2i+2}x^{2g-i}, \\quad \\lambda_{k\\leq0}=0,\\; \\lambda_0 =1, \\; \\lambda_k \\in \\mathbb{R}.$\n",
    "    </div>\n",
    "\n",
    "</div>\n"
   ]
  },
  {
   "cell_type": "markdown",
   "id": "1862d913-d721-4977-8031-b308663d86b8",
   "metadata": {},
   "source": [
    "<div style=\"background-color:  rgba(153, 204, 255, 0.25); \n",
    "    font-family: 'Latin Modern Roman', Times, serif; font-size: 16px; border: 1px solid  rgb(0, 128,255); padding: 15px; border-radius: 5px; \">\n",
    "    <h3 style=\"font-size: 20px;color: rgb(0, 128,255);\">Note</h3>\n",
    "    <p>\n",
    "    <ul>\n",
    "        <li> We use convention from <em>Computation of $\\wp$-functions on plane algebraic curves</em>, Julia Bernatska (2024).\n",
    "        <li> We are working with physical equations where $\\lambda_k \\in \\mathbb{R}$ instead of $\\lambda_k \\in \\mathbb{C}$ which can be found in various texts. \n",
    "    </ul>            \n",
    "  </p>\n",
    "</div>"
   ]
  },
  {
   "cell_type": "markdown",
   "id": "23b4125d-3201-43de-bf1b-f76cd9361819",
   "metadata": {},
   "source": [
    "<div style=\"font-family: 'Latin Modern Roman', Times, serif; font-size: 16px;\">\n",
    "<p>\n",
    "So for a curve of genus $g=2$ we get\n",
    "<div style=\"text-align: center;\">\n",
    "        $f(x,y) = -y^2 + x^5 + \\lambda_2 x^4 + \\lambda_4 x^3+ \\lambda_6 x^4+ \\lambda_8 x+ \\lambda_{10}$,\n",
    "    </div>    \n",
    "</p>\n",
    "    \n",
    "Let's load the appropriate SageMath library and define the curve $\\mathscr{C}$\n",
    "</div>"
   ]
  },
  {
   "cell_type": "code",
   "execution_count": 1,
   "id": "e9c0e6c5-202d-4fea-a25c-f60bb15c676f",
   "metadata": {},
   "outputs": [],
   "source": [
    "from sage.schemes.riemann_surfaces.riemann_surface import RiemannSurface"
   ]
  },
  {
   "cell_type": "code",
   "execution_count": 2,
   "id": "4f8afead-1bc6-4be7-ab99-3e4e5e9831c9",
   "metadata": {},
   "outputs": [],
   "source": [
    "# Defines the lambda coefficients\n",
    "lambda2 = 12.0\n",
    "lambda4 = 1.0\n",
    "lambda6  = 0.9\n",
    "lambda8  = 21.0\n",
    "lambda10  = 10.0"
   ]
  },
  {
   "cell_type": "markdown",
   "id": "d25e2ffb-7b7d-4779-a54a-4ddc3ec22acf",
   "metadata": {},
   "source": [
    "<div style=\"background-color:  rgba(255, 153, 153, 0.25); \n",
    "    font-family: 'Latin Modern Roman', Times, serif; font-size: 16px; border: 1px solid  rgb(255, 51,51); padding: 15px; border-radius: 5px; \">\n",
    "    <h3 style=\"font-size: 20px;color: rgb(255, 51,51);\">Important</h3>\n",
    "    <p>\n",
    "    The coefficients above must be real-floating-point numbers        \n",
    "  </p>\n",
    "</div>"
   ]
  },
  {
   "cell_type": "markdown",
   "id": "3d00e6b9-7f31-4181-a037-68b9a1c4a844",
   "metadata": {},
   "source": [
    "<div style=\"font-family: 'Latin Modern Roman', Times, serif; font-size: 16px;\">\n",
    "<p>\n",
    "Since the current Sage library only works well on the field of rational numbers, we have to approximate all function coefficients by these numbers.\n",
    "</p>\n",
    "</div>"
   ]
  },
  {
   "cell_type": "code",
   "execution_count": 3,
   "id": "3e7611f7-0ba6-49f2-b598-2318127f8479",
   "metadata": {},
   "outputs": [],
   "source": [
    "# Rational approximation\n",
    "l2 = lambda2.nearby_rational(max_error=1e-10)\n",
    "l4 = lambda4.nearby_rational(max_error=1e-10)\n",
    "l6 = lambda6.nearby_rational(max_error=1e-10)\n",
    "l8 = lambda8.nearby_rational(max_error=1e-10)\n",
    "l10 = lambda10.nearby_rational(max_error=1e-10)"
   ]
  },
  {
   "cell_type": "markdown",
   "id": "b25e02a9-e6a2-4dbc-934f-9387413e73e8",
   "metadata": {},
   "source": [
    "<div style=\"font-family: 'Latin Modern Roman', Times, serif; font-size: 16px;\">\n",
    "<p>\n",
    "Next, we need to define the variables $x$ and $y$ in the ring of polynomials over the rational numbers.\n",
    "</p>\n",
    "</div>"
   ]
  },
  {
   "cell_type": "code",
   "execution_count": 4,
   "id": "c83cfab5-082a-47f8-aabf-9f8935ef98df",
   "metadata": {},
   "outputs": [],
   "source": [
    "R.<x, y> = PolynomialRing(QQ, 2)"
   ]
  },
  {
   "cell_type": "markdown",
   "id": "fa759787-8130-4d5e-8f53-f8a1d01d43e5",
   "metadata": {},
   "source": [
    "<div style=\"background-color:  rgba(153, 204, 255, 0.25); \n",
    "    font-family: 'Latin Modern Roman', Times, serif; font-size: 16px; border: 1px solid  rgb(0, 128,255); padding: 15px; border-radius: 5px; \">\n",
    "    <h3 style=\"font-size: 20px;color: rgb(0, 128,255);\">Note</h3>\n",
    "    <p>\n",
    "    The order of variables can be important depending on how you write your polynomial. Make sure you use the same order in your polynomial expression.\n",
    "    </ul>            \n",
    "  </p>\n",
    "</div>"
   ]
  },
  {
   "cell_type": "code",
   "execution_count": 5,
   "id": "2c329640-040b-4e31-9d7d-20473d53e4a6",
   "metadata": {},
   "outputs": [],
   "source": [
    "# Defining the polynomial f\n",
    "f = -y^2 + x^5 + l2*x^4 + l4*x^3 + l6*x^2 + l8*x + l10"
   ]
  },
  {
   "cell_type": "markdown",
   "id": "80cca492-93d3-4307-b8a3-5d08a9b15aad",
   "metadata": {},
   "source": [
    "<div>\n",
    "<h3 style=\"font-family: 'Latin Modern Roman', Times, serif; font-size: 24px;\">Riemann surface</h3>\n",
    "</div>"
   ]
  },
  {
   "cell_type": "markdown",
   "id": "ad92abf1-0e58-4b88-b15a-8d2a313fbbc9",
   "metadata": {},
   "source": [
    "<div style=\"background-color:  rgba(224, 224, 224, 0.25); \n",
    "    font-family: 'Latin Modern Roman', Times, serif; font-size: 16px; border: 1px solid  rgb(192, 192, 192); padding: 15px; border-radius: 5px; \">\n",
    "    <h3 style=\"font-size: 20px;color: rgb(160, 160, 160);\">Definition</h3>\n",
    "    <p>    \n",
    "        A Riemann surface $X$ is a connected two-dimensional topological manifold with a complex-analytic structure on it. \n",
    "    </p>    \n",
    "    </div>\n",
    "\n",
    "</div>"
   ]
  },
  {
   "cell_type": "markdown",
   "id": "2a2583d3-bafb-4c47-a327-81666c75cdc9",
   "metadata": {},
   "source": [
    "<div style=\"font-family: 'Latin Modern Roman', Times, serif; font-size: 16px;\">\n",
    "<p>\n",
    "The SageMath library has a special function that allows us to generate the appropriate Riemann surface on which we will continue our work.\n",
    "</p>\n",
    "</div>"
   ]
  },
  {
   "cell_type": "code",
   "execution_count": 6,
   "id": "13fc8b6e-d997-4230-a1ac-3665bc5799e7",
   "metadata": {},
   "outputs": [],
   "source": [
    "S = RiemannSurface(f, prec=100)"
   ]
  },
  {
   "cell_type": "markdown",
   "id": "681a848d-2323-4d4e-9fe0-5687952734eb",
   "metadata": {},
   "source": [
    "<div style=\"font-family: 'Latin Modern Roman', Times, serif; font-size: 16px;\">\n",
    "<h1 style=\"font-size: 32px;\">First and Second Kind Periods</h1>\n",
    "<p>\n",
    "    In order to construct periodic functions we first have to define a canonical basis of the space of holomorphic differentials $\\{du_i\\mid i=1,\\ldots,g\\} $ and of associated meromorphic differentials $\\{dr_i\\mid i=1,\\ldots,g\\} $ on the Riemann surface by\n",
    "    <div style=\"text-align: center;\">\n",
    "        $du_{2i-1} := \\frac{x^{g-i} dx}{\\partial_y f(x)}$,\n",
    "    </div>\n",
    "    <div style=\"text-align: center;\">\n",
    "        $dr_{2i-1} := \\frac{\\mathcal{R}_{2i-1}(x) dx}{\\partial_y f(x)}, $\n",
    "    </div>\n",
    "    where\n",
    "    <div style=\"text-align: center;\">\n",
    "    $\\mathcal{R}_{2i-1}(x)=\\sum_{k=1}^{2i-1}k\\lambda_{4i-2k-2}x^{g-i+k}.$\n",
    "    </div>\n",
    "</p>\n",
    "<p>\n",
    "    We can write this in vector form for $g=2$ as follows \n",
    "    <div style=\"text-align: center;\">\n",
    "        $du= \\begin{pmatrix} \n",
    "                x\\\\\n",
    "                1\n",
    "            \\end{pmatrix} \\frac{dx}{-2\\sqrt{f(x)}}$,\n",
    "    </div>\n",
    "    <div style=\"text-align: center;\">\n",
    "        $dr= \\begin{pmatrix} \n",
    "                \\mathcal{R}_{1}(x)\\\\\n",
    "                \\mathcal{R}_{3}(x)\n",
    "            \\end{pmatrix} \\frac{dx}{-2\\sqrt{f(x)}} = \n",
    "                \\begin{pmatrix} \n",
    "                    x^2\\\\\n",
    "                    3x^3 + 2\\lambda_2 x^2 + \\lambda_4 x\n",
    "                \\end{pmatrix} \\frac{dx}{-2\\sqrt{f(x)}}$,\n",
    "    </div>\n",
    "</p>\n",
    "</div>"
   ]
  },
  {
   "cell_type": "markdown",
   "id": "656e07d5-8f46-4682-bb4a-a1fe607cf64c",
   "metadata": {},
   "source": [
    "<div style=\"font-family: 'Latin Modern Roman', Times, serif; font-size: 16px;\">\n",
    "<p>\n",
    "    The above holomorphic basis can be compared to what the <span style=\"font-size: 16px;color: #FFA500\">cohomology_basis()</span> function returns. In SageMath, <span style=\"font-size: 16px;color: #FFA500\">S.cohomology_basis()</span> returns this list of differentials, typically represented as polynomials  $g(x)$  corresponding to differentials:\n",
    "    <div style=\"text-align: center;\">\n",
    "        $\\omega = \\frac{g(x) \\, dx}{\\partial f / \\partial y}$\n",
    "    </div>\n",
    "where  $f(x, y) = 0$  defines the curve.\n",
    "</p>\n",
    "</div>    "
   ]
  },
  {
   "cell_type": "code",
   "execution_count": 7,
   "id": "31856c66-47e6-43f2-a1f5-a452e7a84871",
   "metadata": {},
   "outputs": [
    {
     "data": {
      "text/plain": [
       "[1, x]"
      ]
     },
     "execution_count": 7,
     "metadata": {},
     "output_type": "execute_result"
    }
   ],
   "source": [
    "S.cohomology_basis()"
   ]
  },
  {
   "cell_type": "markdown",
   "id": "9b024916-992f-4f29-a21d-6cab742acd97",
   "metadata": {},
   "source": [
    "<div style=\"font-family: 'Latin Modern Roman', Times, serif; font-size: 16px;\">\n",
    "<p>\n",
    "It is visible that the order of elements is different from that adopted in Julia Bernatska's convention. Let's adapt to her convention.\n",
    "</p>\n",
    "</div>"
   ]
  },
  {
   "cell_type": "markdown",
   "id": "8f2d36b3-18df-462d-9d85-0f2cce229c2b",
   "metadata": {},
   "source": [
    "<div style=\"font-family: 'Latin Modern Roman', Times, serif; font-size: 16px;\">\n",
    "<h1 style=\"font-size: 24px;\">First  Kind Periods</h1>\n",
    "</div>"
   ]
  },
  {
   "cell_type": "code",
   "execution_count": 8,
   "id": "4500d57a-9b33-4edf-bf60-98c3bf545f37",
   "metadata": {},
   "outputs": [],
   "source": [
    "# holomorphic differentials base\n",
    "holbais=[x,x^0]"
   ]
  },
  {
   "cell_type": "markdown",
   "id": "98370b29-53e2-4af2-b207-8eb6051849d7",
   "metadata": {},
   "source": [
    "<div style=\"font-family: 'Latin Modern Roman', Times, serif; font-size: 16px;\">\n",
    "<p>\n",
    "Now, to calculate the first kind period matrices, we need to calculate the following integrals along the canonical homology cycles $\\{ \\mathfrak{a}_i, \\mathfrak{b}_i\\}_{i=1}^g$\n",
    "    <div style=\"text-align: center;\">\n",
    "        $\\omega = (\\omega_{ij})= \\left( \\int_{\\mathfrak{a}_j}du_i \\right), \\quad \\omega' = (\\omega'_{ij})= \\left( \\int_{\\mathfrak{b}_j}du_i \\right). $\n",
    "    </div>\n",
    "</p>\n",
    "</div>"
   ]
  },
  {
   "cell_type": "markdown",
   "id": "e2785ca7-69a2-4934-bfd6-6d4024f28c16",
   "metadata": {},
   "source": [
    "<div style=\"font-family: 'Latin Modern Roman', Times, serif; font-size: 16px;\">\n",
    "  <p>We can use the Sage function <span style=\"font-size: 16px;color: #FFA500\">matrix_of_integral_values(differentials, integration_method='heuristic')</span> to compute the path integrals of the given differentials along the homology basis.</p>\n",
    "    <p>The returned answer has a row for each differential. If the Riemann surface is given by the equation $y^2$, then the differentials are encoded by polynomials $g$, signifying the differential $g(x,y)dx/(df/dy)$.</p>\n",
    "    <h3 style=\"font-size: 16px;color: #4CAF50\">INPUT:</h3>\n",
    "    <ul>\n",
    "        <li><strong>differentials</strong> – a list of polynomials.</li>\n",
    "        <li><strong>integration_method</strong> – (default: 'heuristic'). String specifying the integration method to use. The options are 'heuristic' and 'rigorous'.</li>\n",
    "    </ul>\n",
    "    <h3 style=\"font-size: 15px;color: #4CAF50\">OUTPUT:</h3>\n",
    "    <p>A matrix, one row per differential, containing the values of the path integrals along the homology basis of the Riemann surface.</p>\n",
    "</div>"
   ]
  },
  {
   "cell_type": "code",
   "execution_count": 9,
   "id": "a901b565-5962-4b8c-bf71-7094cf2c0b11",
   "metadata": {},
   "outputs": [
    {
     "name": "stdout",
     "output_type": "stream",
     "text": [
      "[    0.13887 - 0.65203*I -4.9304e-32 - 0.91224*I -5.9165e-31 + 0.39181*I      1.1744 + 0.26021*I]\n",
      "[   -0.63929 + 0.27993*I 1.2326e-32 + 0.038339*I  2.9582e-31 - 0.52152*I     0.14583 + 0.24159*I]\n"
     ]
    }
   ],
   "source": [
    "MofInt1=S.matrix_of_integral_values(holbais)\n",
    "# Let's display the matrix in a shortened form so that it will be easy to see its structure\n",
    "print(MofInt1.n(digits=5))"
   ]
  },
  {
   "cell_type": "markdown",
   "id": "10fd61cb-d1c7-4204-b826-4dc905bef183",
   "metadata": {},
   "source": [
    "<div style=\"font-family: 'Latin Modern Roman', Times, serif; font-size: 16px;\">\n",
    "  <p>\n",
    "This is the structure of the returned matrix\n",
    "\n",
    "$$\n",
    "MofInt1 = \n",
    "\\begin{pmatrix}\n",
    "    \\omega_{1,1} & \\omega_{1,2} & \\omega'_{1,1} & \\omega'_{1,2} \\\\\n",
    "    \\omega_{2,1} & \\omega_{2,2} & \\omega'_{2,1} & \\omega'_{2,2}\n",
    "\\end{pmatrix}\n",
    "=\n",
    "\\begin{array}{|c|c|c|c|c|}\n",
    "\\hline\n",
    "& \\mathfrak{a}_1 & \\mathfrak{a}_2 & \\mathfrak{b}_1 & \\mathfrak{b}_2 \\\\\n",
    "\\hline\n",
    "x & \\omega_{1,1} = \\int_{\\mathfrak{a}_1} du_1 & \\omega_{1,2} = \\int_{\\mathfrak{a}_2} du_1 & \\omega'_{1,1} = \\int_{\\mathfrak{b}_1} du_1 & \\omega'_{1,2} = \\int_{\\mathfrak{b}_2} du_1 \\\\\n",
    "\\hline\n",
    "1 & \\omega_{2,1} = \\int_{\\mathfrak{a}_1} du_2 & \\omega_{2,2} = \\int_{\\mathfrak{a}_2} du_2 & \\omega'_{2,1} = \\int_{\\mathfrak{b}_1} du_2 & \\omega'_{2,2} = \\int_{\\mathfrak{b}_2} du_2 \\\\\n",
    "\\hline\n",
    "\\end{array}\n",
    "$$\n",
    "</p>\n",
    "</div>"
   ]
  },
  {
   "cell_type": "markdown",
   "id": "e42b7091-17ab-486d-a277-7fc1f5899ea5",
   "metadata": {},
   "source": [
    "<div style=\"font-family: 'Latin Modern Roman', Times, serif; font-size: 16px;\">\n",
    "    <p>\n",
    "    We can compare this with the results of the built-in Sage function: <span style=\"font-size: 16px;color: #FFA500\">period_matrix()</span>, which, for the adopted notational convention, will return a period matrix in the form\n",
    "    $$\n",
    "        pM= \\begin{pmatrix}\n",
    "                \\omega_{2,1} & \\omega_{2,2} & \\omega'_{2,1} & \\omega'_{2,2} \\\\\n",
    "                \\omega_{1,1} & \\omega_{1,2} & \\omega'_{1,1} & \\omega'_{2,1}\n",
    "        \\end{pmatrix}  \n",
    "    $$   \n",
    "    </p>\n",
    "</div>"
   ]
  },
  {
   "cell_type": "code",
   "execution_count": 10,
   "id": "0b78f17c-1411-4011-a10b-8dc64807afbc",
   "metadata": {},
   "outputs": [
    {
     "name": "stdout",
     "output_type": "stream",
     "text": [
      "[   -0.63929 + 0.27993*I              0.038339*I              -0.52152*I     0.14583 + 0.24159*I]\n",
      "[    0.13887 - 0.65203*I -4.9304e-32 - 0.91224*I -1.9722e-31 + 0.39181*I      1.1744 + 0.26021*I]\n"
     ]
    }
   ],
   "source": [
    "pM=S.period_matrix()\n",
    "print(pM.n(digits=5))"
   ]
  },
  {
   "cell_type": "markdown",
   "id": "5e264be0-f795-4101-819e-b0c5ea0073bb",
   "metadata": {},
   "source": [
    "<div style=\"background-color:  rgba(255, 153, 153, 0.25); \n",
    "    font-family: 'Latin Modern Roman', Times, serif; font-size: 16px; border: 1px solid  rgb(255, 51,51); padding: 15px; border-radius: 5px; \">\n",
    "    <h3 style=\"font-size: 20px;color: rgb(255, 51,51);\">Important</h3>\n",
    "    <p>\n",
    "    When comparing matrices, attention should be paid to the rounding of $e-...$ which is effectively zero.        \n",
    "  </p>\n",
    "</div>"
   ]
  },
  {
   "cell_type": "markdown",
   "id": "f734c321-7ffa-4e9d-ac53-05c3b94c9051",
   "metadata": {},
   "source": [
    "<div style=\"font-family: 'Latin Modern Roman', Times, serif; font-size: 16px;\">\n",
    "    <p>\n",
    "    In what follows we use the function <span style=\"font-size: 16px;color: #FFA500\">matrix_of_integral_values()</span> instead of <span style=\"font-size: 16px;color: #FFA500\">period_matrix()</span> because it allows us to calculate periodic matrices of the second kind.\n",
    "    </p>\n",
    "</div>"
   ]
  },
  {
   "cell_type": "code",
   "execution_count": 11,
   "id": "ea4d7634-389d-4c4b-baed-aa6dce9b63bb",
   "metadata": {},
   "outputs": [
    {
     "name": "stdout",
     "output_type": "stream",
     "text": [
      "[    0.13887 - 0.65203*I -4.9304e-32 - 0.91224*I]\n",
      "[   -0.63929 + 0.27993*I 1.2326e-32 + 0.038339*I]\n",
      "\n",
      "[-5.9165e-31 + 0.39181*I      1.1744 + 0.26021*I]\n",
      "[ 2.9582e-31 - 0.52152*I     0.14583 + 0.24159*I]\n"
     ]
    }
   ],
   "source": [
    "# Extract the omega-periods (first two columns)\n",
    "omega = MofInt1[:, 0:2]\n",
    "\n",
    "# Extract the omega'-periods (last two columns)\n",
    "omegaP = MofInt1[:, 2:4]\n",
    "\n",
    "print(omega.n(digits=5))\n",
    "print()\n",
    "print(omegaP.n(digits=5))"
   ]
  },
  {
   "cell_type": "markdown",
   "id": "d488f256-dae5-4974-acb1-c8decd61098b",
   "metadata": {},
   "source": [
    "<div style=\"font-family: 'Latin Modern Roman', Times, serif; font-size: 16px;\">\n",
    "    <p>\n",
    "    Now we calculate the matrix\n",
    "    $$\n",
    "        \\tau=\\omega^{-1}\\omega'\n",
    "    $$\n",
    "    which belongs to the Siegel upper half-space. Hence it should satisfy two conditions:\n",
    "    <ul>\n",
    "        <li>Symmetry: $$ \\tau^T = \\tau$$ \n",
    "        <li>Positive definiteness of the imaginary part $$ Im(\\tau)>0$$\n",
    "    </ul>\n",
    "    </p>\n",
    "</div>"
   ]
  },
  {
   "cell_type": "code",
   "execution_count": 12,
   "id": "8b2347a8-e79d-4d50-8966-b969f7c08f38",
   "metadata": {},
   "outputs": [
    {
     "name": "stdout",
     "output_type": "stream",
     "text": [
      "[-0.27426 + 0.68797*I -0.12875 - 0.44998*I]\n",
      "[-0.12875 - 0.44998*I  -0.26172 + 1.6286*I]\n"
     ]
    }
   ],
   "source": [
    "tau= omega.inverse() * omegaP\n",
    "\n",
    "# Displaying the result\n",
    "print(tau.n(digits=5))"
   ]
  },
  {
   "cell_type": "code",
   "execution_count": 13,
   "id": "f16f3543-f668-4559-8017-b052908726be",
   "metadata": {},
   "outputs": [
    {
     "name": "stdout",
     "output_type": "stream",
     "text": [
      "[0.00000 0.00000]\n",
      "[0.00000 0.00000]\n"
     ]
    }
   ],
   "source": [
    "# Test of the symmetry\n",
    "print(tau-tau.transpose().n(digits=5))"
   ]
  },
  {
   "cell_type": "code",
   "execution_count": 14,
   "id": "7648064c-2c64-400e-8cb8-5a9e17d456a3",
   "metadata": {},
   "outputs": [
    {
     "data": {
      "text/plain": [
       "([1.8092301676485117879525277135, 0.50738559581458318283316727123], True)"
      ]
     },
     "execution_count": 14,
     "metadata": {},
     "output_type": "execute_result"
    }
   ],
   "source": [
    "# Test of positivity\n",
    "# Calculating the complex part of the tau matrix\n",
    "tauImag = tau.apply_map(lambda x: x.imag())\n",
    "\n",
    "# Calculate the eigenvalues\n",
    "eigenvalues = tauImag.eigenvalues()\n",
    "\n",
    "# Checking if all eigenvalues are positive\n",
    "all_positive = all(e > 0 for e in eigenvalues)\n",
    "\n",
    "# Displaying the result\n",
    "eigenvalues, all_positive"
   ]
  },
  {
   "cell_type": "markdown",
   "id": "377ca866-63d4-45b1-a8b1-ea33efaacdb5",
   "metadata": {},
   "source": [
    "<div style=\"font-family: 'Latin Modern Roman', Times, serif; font-size: 16px;\">\n",
    "<h1 style=\"font-size: 24px;\">Second Kind Periods</h1>\n",
    "</div>"
   ]
  },
  {
   "cell_type": "markdown",
   "id": "9e5a1ba1-d836-4292-8358-e6a5d49afc39",
   "metadata": {},
   "source": [
    "<div style=\"font-family: 'Latin Modern Roman', Times, serif; font-size: 16px;\">\n",
    "<p>\n",
    "To calculate the second kind period matrices, we need to calculate the following integrals along the canonical homology cycles $\\{ \\mathfrak{a}_i, \\mathfrak{b}_i\\}_{i=1}^g$\n",
    "    <div style=\"text-align: center;\">\n",
    "        $\\eta = (\\eta_{ij})= \\left( \\int_{\\mathfrak{a}_j}du_i \\right), \\quad \\eta' = (\\eta'_{ij})= \\left( \\int_{\\mathfrak{b}_j}du_i \\right). $\n",
    "    </div>\n",
    "</p>\n",
    "</div>"
   ]
  },
  {
   "cell_type": "code",
   "execution_count": 15,
   "id": "aaf2b4ff-55dc-4774-863a-af40f6a84d7d",
   "metadata": {},
   "outputs": [],
   "source": [
    "# meromorphic differentials base\n",
    "merbais=[x^2, 3*x^3 + 2*l2*x^2 + l4*x]"
   ]
  },
  {
   "cell_type": "code",
   "execution_count": 16,
   "id": "75b062bf-1ab3-42d0-a9dd-de5e2e5a1724",
   "metadata": {},
   "outputs": [
    {
     "name": "stdout",
     "output_type": "stream",
     "text": [
      "[     0.15166 + 0.17684*I  1.9722e-30 + 0.044142*I   1.3312e-30 - 0.30954*I      -7.0567 + 0.13270*I]\n",
      "[       4.5579 + 3.1115*I -1.5777e-29 - 0.047337*I    6.3109e-30 - 6.2703*I       -2.8512 + 3.1588*I]\n"
     ]
    }
   ],
   "source": [
    "MofInt2=S.matrix_of_integral_values(merbais)\n",
    "# Let's display the matrix in a shortened form so that it will be easy to see its structure\n",
    "print(MofInt2.n(digits=5))"
   ]
  },
  {
   "cell_type": "code",
   "execution_count": 17,
   "id": "e3e67681-300a-4c14-a4b1-989d5197ce2a",
   "metadata": {},
   "outputs": [
    {
     "name": "stdout",
     "output_type": "stream",
     "text": [
      "[     0.15166 + 0.17684*I  1.9722e-30 + 0.044142*I]\n",
      "[       4.5579 + 3.1115*I -1.5777e-29 - 0.047337*I]\n",
      "\n",
      "[1.3312e-30 - 0.30954*I    -7.0567 + 0.13270*I]\n",
      "[ 6.3109e-30 - 6.2703*I     -2.8512 + 3.1588*I]\n"
     ]
    }
   ],
   "source": [
    "# Extract the omega-periods (first two columns)\n",
    "eta = MofInt2[:, 0:2]\n",
    "\n",
    "# Extract the omega'-periods (last two columns)\n",
    "etaP = MofInt2[:, 2:4]\n",
    "\n",
    "print(eta.n(digits=5))\n",
    "print()\n",
    "print(etaP.n(digits=5))"
   ]
  },
  {
   "cell_type": "markdown",
   "id": "7d5de65b-14c2-4a2e-affa-f50bc1d58218",
   "metadata": {},
   "source": [
    "<div style=\"font-family: 'Latin Modern Roman', Times, serif; font-size: 16px;\">\n",
    "    <p>\n",
    "    We can compute $\\kappa$, given by\n",
    "    $$\n",
    "        \\kappa=\\eta\\; \\omega^{-1}\n",
    "    $$\n",
    "    </p>\n",
    "</div>"
   ]
  },
  {
   "cell_type": "code",
   "execution_count": 18,
   "id": "89b36023-3ec0-4f22-8652-0b59edd9daa7",
   "metadata": {},
   "outputs": [
    {
     "name": "stdout",
     "output_type": "stream",
     "text": [
      "[-0.054140 - 0.011932*I   -0.13684 - 0.28392*I]\n",
      "[  -0.13684 - 0.28392*I     -4.4908 - 6.7557*I]\n"
     ]
    }
   ],
   "source": [
    "omega_inv=Matrix(omega).inverse()\n",
    "kappa = eta*omega_inv\n",
    "print(kappa.n(digits=5))"
   ]
  },
  {
   "cell_type": "markdown",
   "id": "c454c331-111d-4fb6-ab62-7f4f7b132b4b",
   "metadata": {},
   "source": [
    "<div style=\"font-family: 'Latin Modern Roman', Times, serif; font-size: 16px;\">\n",
    "<h1 style=\"font-size: 24px;\">Legendre relation</h1>\n",
    "</div>"
   ]
  },
  {
   "cell_type": "markdown",
   "id": "6ae497b9-b2d6-46e8-9c83-fbd176529b91",
   "metadata": {},
   "source": [
    "<div style=\"font-family: 'Latin Modern Roman', Times, serif; font-size: 16px;\">\n",
    "<p>\n",
    "    Now we can make another test. The not normalized period matrices of the first $\\omega$, $\\omega'$ and second $\\eta$, $\\eta'$ kinds should satisfy the Legendre relation\n",
    "    $$\n",
    "        \\Omega^T J \\Omega = 2\\pi i J\n",
    "    $$\n",
    "    where\n",
    "    $$\n",
    "        \\Omega=\n",
    "            \\begin{pmatrix}\n",
    "                \\omega && \\omega'\\\\\n",
    "                \\eta && \\eta'\\\\\n",
    "            \\end{pmatrix}, \\quad \n",
    "        J=        \n",
    "            \\begin{pmatrix}\n",
    "                0 && -1_g'\\\\\n",
    "                1_g && 0\\\\\n",
    "            \\end{pmatrix}\n",
    "    $$\n",
    "</p>\n",
    "</div>"
   ]
  },
  {
   "cell_type": "code",
   "execution_count": 19,
   "id": "c4ac05e0-31a4-4c2d-a377-3ede5929ec3d",
   "metadata": {},
   "outputs": [
    {
     "name": "stdout",
     "output_type": "stream",
     "text": [
      "Omega Matrix:\n",
      "[     0.13887 - 0.65203*I  -4.9304e-32 - 0.91224*I| -5.9165e-31 + 0.39181*I       1.1744 + 0.26021*I]\n",
      "[    -0.63929 + 0.27993*I  1.2326e-32 + 0.038339*I|  2.9582e-31 - 0.52152*I      0.14583 + 0.24159*I]\n",
      "[-------------------------------------------------+-------------------------------------------------]\n",
      "[     0.15166 + 0.17684*I  1.9722e-30 + 0.044142*I|  1.3312e-30 - 0.30954*I      -7.0567 + 0.13270*I]\n",
      "[       4.5579 + 3.1115*I -1.5777e-29 - 0.047337*I|   6.3109e-30 - 6.2703*I       -2.8512 + 3.1588*I]\n",
      "\n",
      "J Matrix:\n",
      "[0.00000 0.00000|-1.0000 0.00000]\n",
      "[0.00000 0.00000|0.00000 -1.0000]\n",
      "[---------------+---------------]\n",
      "[ 1.0000 0.00000|0.00000 0.00000]\n",
      "[0.00000  1.0000|0.00000 0.00000]\n"
     ]
    }
   ],
   "source": [
    "# Omega matrix\n",
    "Omega = block_matrix([\n",
    "    [omega, omegaP],\n",
    "    [eta, etaP]\n",
    "])\n",
    "\n",
    "# Converting lists to matrices\n",
    "zeroM = Matrix([[0.0, 0.0], [0.0, 0.0]])\n",
    "mOneg = Matrix([[-1.0, 0.0], [0.0, -1.0]])\n",
    "Oneg = Matrix([[1.0, 0.0], [0.0, 1.0]])\n",
    "\n",
    "# J matrix\n",
    "J = block_matrix([\n",
    "    [zeroM, mOneg],\n",
    "    [Oneg, zeroM]\n",
    "])    \n",
    "\n",
    "\n",
    "print(\"Omega Matrix:\")\n",
    "print(Omega.n(digits=5))\n",
    "print()\n",
    "print(\"J Matrix:\")\n",
    "print(J.n(digits=5))"
   ]
  },
  {
   "cell_type": "code",
   "execution_count": 21,
   "id": "be130686-4513-4df3-9db1-596a99cdc773",
   "metadata": {},
   "outputs": [
    {
     "name": "stdout",
     "output_type": "stream",
     "text": [
      "[                   0.00000 -1.2143e-17 + 2.4286e-17*I  2.2204e-16 - 8.8818e-16*I -2.2204e-16 - 8.8818e-16*I]\n",
      "[ 1.3878e-17 - 2.7756e-17*I  6.5052e-19 - 1.7516e-46*I -2.7756e-17 + 9.9952e-30*I                 4.1633e-17]\n",
      "[-2.2204e-16 + 8.8818e-16*I  1.7347e-17 - 9.9952e-30*I                    0.00000               2.2204e-16*I]\n",
      "[ 2.2204e-16 + 6.6613e-16*I                -3.6429e-17              -2.2204e-16*I                -4.4409e-16]\n"
     ]
    }
   ],
   "source": [
    "import numpy as np\n",
    "\n",
    "pi = np.pi\n",
    "left=Omega.transpose()*J*Omega\n",
    "right = 2*pi*I*J\n",
    "result = left - right\n",
    "print(result.n(digits=5))"
   ]
  },
  {
   "cell_type": "markdown",
   "id": "0eb0f59c-844a-4ef0-a3c2-1d6a4d87eaf3",
   "metadata": {},
   "source": [
    "<div style=\"font-family: 'Latin Modern Roman', Times, serif; font-size: 16px;\">\n",
    "<p>\n",
    "    Let's make a function that will save it in a more visually accessible form.\n",
    "</p>\n",
    "</div>    "
   ]
  },
  {
   "cell_type": "code",
   "execution_count": 22,
   "id": "5f0926fc-3afb-463f-8bc9-8f63982cb86a",
   "metadata": {},
   "outputs": [
    {
     "name": "stdout",
     "output_type": "stream",
     "text": [
      "[0 0 0 0]\n",
      "[0 0 0 0]\n",
      "[0 0 0 0]\n",
      "[0 0 0 0]\n"
     ]
    }
   ],
   "source": [
    "# Rounding a matrix numerically to 5 decimal places\n",
    "result_rounded = result.n(digits=5)\n",
    "\n",
    "# Function for rounding small numbers\n",
    "def chop_sage(x, tol=1e-10):\n",
    "    return 0 if abs(x) < tol else x\n",
    "\n",
    "# We apply our chop function to the matrix\n",
    "result_chopped = result_rounded.apply_map(lambda x: chop_sage(x, tol=1e-10))\n",
    "\n",
    "# Wyświetlamy wynik\n",
    "print(result_chopped)"
   ]
  },
  {
   "cell_type": "markdown",
   "id": "59eaf880-05a5-4f89-b6e5-cf416c06e7d4",
   "metadata": {},
   "source": [
    "<div style=\"font-family: 'Latin Modern Roman', Times, serif; font-size: 16px;\">\n",
    "<h1 style=\"font-size: 32px;\">Theta function</h1>\n",
    "<p>\n",
    "\n",
    "</p>\n",
    "</div>"
   ]
  },
  {
   "cell_type": "markdown",
   "id": "122db307-0708-4a21-aa81-184814477d46",
   "metadata": {},
   "source": [
    "<div style=\"background-color:  rgba(224, 224, 224, 0.25); \n",
    "    font-family: 'Latin Modern Roman', Times, serif; font-size: 16px; border: 1px solid  rgb(192, 192, 192); padding: 15px; border-radius: 5px; \">\n",
    "    <h3 style=\"font-size: 20px;color: rgb(160, 160, 160);\">Definition</h3>\n",
    "    <p>        \n",
    "        A Riemann <i>theta function</i> $\\theta(v;\\tau)$ defined in terms of normalized coordinates $v$ and normalized period matrix $\\tau$, canonicaly is given by\n",
    "        $$\n",
    "            \\theta(\\mathbf{v};\\tau) = \\sum_{n\\in\\mathbb{Z}^g} e^{i\\pi \\mathbf{n}^T \\tau \\mathbf{n} + 2i \\pi \\mathbf{n}^T \\mathbf{v}}.\n",
    "        $$\n",
    "        A theta function with characteristic $[\\varepsilon ]$ is defined by\n",
    "        $$\n",
    "            \\theta[\\varepsilon](\\mathbf{v};\\tau) = \n",
    "            \\theta \n",
    "                \\begin{bmatrix}\n",
    "                    \\varepsilon'_1 & \\ldots & \\varepsilon'_g\\\\\n",
    "                    \\varepsilon_1 & \\ldots & \\varepsilon_g\\\\\n",
    "                \\end{bmatrix}\n",
    "            (\\mathbf{v};\\tau)=\n",
    "            \\sum_{n\\in\\mathbb{Z}^g} e^{i\\pi\\{ (\\mathbf{n}+ \\mathbf{\\varepsilon}'^T ) \\tau (\\mathbf{n}+ \\mathbf{\\varepsilon}') +2 (\\mathbf{v}+\\mathbf{\\varepsilon})^T (\\mathbf{n}+\\mathbf{\\varepsilon}') \\} }.\n",
    "        $$\n",
    "        where a characteristic all are half integer\n",
    "        $$\n",
    "            \\varepsilon_i, \\varepsilon_k' = \\frac{1}{2} \\;\\text{or} \\; 0\n",
    "        $$\n",
    "    </p>    \n",
    "    </div>\n",
    "\n",
    "</div>"
   ]
  },
  {
   "cell_type": "markdown",
   "id": "2fbd8b14-cdf7-4617-aa42-f9402fa48a1e",
   "metadata": {},
   "source": [
    "<div style=\"background-color:  rgba(255, 153, 153, 0.25); \n",
    "    font-family: 'Latin Modern Roman', Times, serif; font-size: 16px; border: 1px solid  rgb(255, 51,51); padding: 15px; border-radius: 5px; \">\n",
    "    <h3 style=\"font-size: 20px;color: rgb(255, 51,51);\">Important</h3>\n",
    "    <p>\n",
    "        In Julia Bernatska's work, a slightly different convention is used to write characteristics\n",
    "        $$\n",
    "            (\\varepsilon_i, \\varepsilon'_j) \\to \\frac{1}{2}(\\varepsilon_i, \\varepsilon'_j)\n",
    "        $$\n",
    "        hence  \n",
    "        $$\n",
    "            \\varepsilon_i, \\varepsilon'_j = 1 \\;\\text{or} \\; 0.\n",
    "        $$\n",
    "        In consequence\n",
    "        $$\n",
    "            \\theta[\\varepsilon](\\mathbf{v};\\tau) = \n",
    "            \\theta \n",
    "                \\begin{bmatrix}\n",
    "                    \\varepsilon'_1 & \\ldots & \\varepsilon'_g\\\\\n",
    "                    \\varepsilon_1 & \\ldots & \\varepsilon_g\\\\\n",
    "                \\end{bmatrix}\n",
    "            (\\mathbf{v};\\tau)=\n",
    "            \\sum_{n\\in\\mathbb{Z}^g} e^{i\\pi\\{ (\\mathbf{n}+ \\frac{1}{2}\\mathbf{\\varepsilon}'^T ) \\tau (\\mathbf{n}+ \\frac{1}{2}\\mathbf{\\varepsilon}') +2 (\\mathbf{v}+\\frac{1}{2}\\mathbf{\\varepsilon})^T (\\mathbf{n}+\\frac{1}{2}\\mathbf{\\varepsilon}') \\} }.\n",
    "        $$\n",
    "        Therefore, in order to maintain consistency, we will use her notation.\n",
    "    </p>    \n",
    "    </div>\n",
    "\n",
    "</div>"
   ]
  },
  {
   "cell_type": "markdown",
   "id": "01d1f609-3d6d-4271-879d-962a23ddc3d3",
   "metadata": {},
   "source": [
    "<div style=\"font-family: 'Latin Modern Roman', Times, serif; font-size: 16px;\">\n",
    "<p>\n",
    "    Let's code the $\\theta$ function with the characteristic\n",
    "</p>\n",
    "</div>   \n"
   ]
  },
  {
   "cell_type": "code",
   "execution_count": 23,
   "id": "a1ed0acd-6bc8-473a-bb8e-de186db611c7",
   "metadata": {},
   "outputs": [],
   "source": [
    "def ThetaCh(epsilon_m, v, tau, NAcc):\n",
    "    # NAcc is responsible for the number of elements in the sum, i.e. the precision of the result. \n",
    "    # Experimentally, a good approximation is obtained for NAcc>4, but of course this can be increased as needed.\n",
    "    total_sum = 0\n",
    "    # epsilon_m is the list [epsilon 1, epsilon 2] where epsilon1 and epsilon2 are vectors\n",
    "    epsilon1 = epsilon_m[0]\n",
    "    epsilon2 = epsilon_m[1]\n",
    "    \n",
    "    # We iterate over two indices from -NAcc to NAcc\n",
    "    for n1 in range(-NAcc, NAcc):\n",
    "        for n2 in range(-NAcc, NAcc):\n",
    "            # We create vector n\n",
    "            n = vector([n1, n2])\n",
    "                    \n",
    "            # The first component of the sum\n",
    "            term1 = I * pi * (n + 1/2 * vector(epsilon1)) * (tau * (n + 1/2 * vector(epsilon1)))\n",
    "                    \n",
    "            # The second component of the sum\n",
    "            term2 = 2 * I * pi * (n + 1/2 * vector(epsilon1)) * (v + 1/2 * vector(epsilon2))\n",
    "                    \n",
    "            # We add the exp from these components to the total\n",
    "            total_sum += exp(term1 + term2)\n",
    "    \n",
    "    return total_sum"
   ]
  },
  {
   "cell_type": "markdown",
   "id": "17ae763f-2907-4114-ae45-9cca597a4a75",
   "metadata": {},
   "source": [
    "<div style=\"background-color:  rgba(153, 204, 255, 0.25); \n",
    "    font-family: 'Latin Modern Roman', Times, serif; font-size: 16px; border: 1px solid  rgb(0, 128,255); padding: 15px; border-radius: 5px; \">\n",
    "    <h3 style=\"font-size: 20px;color: rgb(0, 128,255);\">Note</h3>\n",
    "    <p>\n",
    "    In Wolfram Mathematica exists a corresponding function under the name <span style=\"font-size: 16px;color: #FFA500\">SiegelTheta[$\\nu_1$,$\\nu_2$]($\\Omega,s$)</span>. The relation between our variables and those in Mathematica are as follows\n",
    "    <ul>\n",
    "        <li> $\\Omega=\\tau$\n",
    "        <li> $s=v$\n",
    "        <li> $\\nu_1 = \\frac{1}{2} epsilon1$\n",
    "        <li> $\\nu_2 = \\frac{1}{2} epsilon2$    \n",
    "    </ul>  \n",
    "    To test this, you can check the following code in Mathematica\n",
    "    </p>\n",
    "    <pre style=\" color: #f8f8f2; padding: 10px; border-radius: 5px; font-size: 14px;\">\n",
    "    <code style=\"color: #66d9ef;\">\n",
    "```Mathematica         \n",
    "SiegelTheta[{{2, 4}, {4, 2}}, IdentityMatrix[2] I, {1, 2}] // N\n",
    "    </code>\n",
    "    </pre>\n",
    "    <p>\n",
    "    and compare it with below one\n",
    "    </p>    \n",
    "    <pre style=\" color: #f8f8f2; padding: 10px; border-radius: 5px; font-size: 14px;\">\n",
    "    <code style=\"color: #66d9ef;\">\n",
    "```SageMath           \n",
    "# Defining sample data\n",
    "epsilon_m = [vector([4, 8]), vector([8, 4])]\n",
    "v = vector([1, 2])\n",
    "tau = Matrix([[I, 0], [0, I]])\n",
    "NAcc = 5\n",
    "# Function call\n",
    "result = ThetaCh(epsilon_m, v, tau, NAcc)\n",
    "print(result)\n",
    "    </code>\n",
    "    </pre>\n",
    "    <p>\n",
    "    Additionally, one can define the $\\theta$ function in Mathematica in a similar way with the following code:\n",
    "    </p>\n",
    "    <pre style=\" color: #f8f8f2; padding: 10px; border-radius: 5px; font-size: 14px;\">\n",
    "    <code style=\"color: #66d9ef;\">\n",
    "```Mathematica\n",
    "ThetaCh[\\[Epsilon]m_, v_, \\[Tau]_, NAcc_] :=\n",
    " Sum[\n",
    "  Exp[\n",
    "   I Pi ({Subscript[n, 1], Subscript[n, 2]} + \n",
    "        1/2 \\[Epsilon]m[[\n",
    "          1]]) . (\\[Tau] . ({Subscript[n, 1], Subscript[n, 2]} + \n",
    "          1/2 \\[Epsilon]m[[1]])) + \n",
    "    2 I Pi ({Subscript[n, 1], Subscript[n, 2]} + \n",
    "        1/2 \\[Epsilon]m[[1]]) . (v + 1/2 \\[Epsilon]m[[2]])\n",
    "   ],\n",
    "  {Subscript[n, 2], -NAcc, NAcc}, {Subscript[n, 1], -NAcc, NAcc}\n",
    "  ]\n",
    "    </code>\n",
    "    </pre>\n",
    "    <p>\n",
    "    And check the result of the above test with: \n",
    "    </p>\n",
    "    <pre style=\" color: #f8f8f2; padding: 10px; border-radius: 5px; font-size: 14px;\">\n",
    "    <code style=\"color: #66d9ef;\">\n",
    "```Mathematica    \n",
    "ThetaCh[2 {{2, 4}, {4, 2}}, {1, 2}, IdentityMatrix[2] I, 5] // N\n",
    "    </code>\n",
    "    </pre>\n",
    "    \n",
    "</div>"
   ]
  },
  {
   "cell_type": "markdown",
   "id": "910b2f59-b1f2-408e-a98a-48860533c14c",
   "metadata": {},
   "source": [
    "<div style=\"font-family: 'Latin Modern Roman', Times, serif; font-size: 16px;\">\n",
    "<h1 style=\"font-size: 24px;\">Characteristics of branch points</h1>\n",
    "</div>"
   ]
  },
  {
   "cell_type": "code",
   "execution_count": 24,
   "id": "c9f80e53-2b0f-408d-bef2-78cfa4bbc93f",
   "metadata": {},
   "outputs": [
    {
     "name": "stdout",
     "output_type": "stream",
     "text": [
      "[1 0]\n",
      "[0 0]\n",
      "\n",
      "[1 0]\n",
      "[1 0]\n",
      "\n",
      "[0 1]\n",
      "[1 0]\n",
      "\n",
      "[0 1]\n",
      "[1 1]\n",
      "\n",
      "[0 0]\n",
      "[1 1]\n",
      "\n",
      "[0 0]\n",
      "[0 0]\n",
      "\n"
     ]
    }
   ],
   "source": [
    "# We define the genus variable\n",
    "genus = S.genus  \n",
    "\n",
    "\n",
    "eChars = [[[0 for k in range(genus)], [1 for k in range(genus)]], \n",
    "          [[0 for k in range(genus)] for i in range(2)]]\n",
    "\n",
    "# Do-like loop in Julia's Mathematica notebook\n",
    "for l in range(genus):\n",
    "    # let's note the indexing, which must be adjusted by\n",
    "    eChars.insert(0, \n",
    "        [[(eChars[0][0][k] + kronecker_delta(k+1, genus - l) + \n",
    "           kronecker_delta(k+1, genus - l + 1)) % 2 for k in range(genus)],\n",
    "         [(eChars[0][1][k] + 0) % 2 for k in range(genus)]]\n",
    "    )\n",
    "\n",
    "    eChars.insert(0,\n",
    "        [[(eChars[0][0][k] + 0) % 2 for k in range(genus)],\n",
    "         [(eChars[0][1][k] + kronecker_delta(k+1, genus - l)) % 2 for k in range(genus)]]\n",
    "    )\n",
    "\n",
    "# We display matrices\n",
    "seen_matrices = []\n",
    "for i in range(len(eChars)):\n",
    "    current_matrix = matrix(eChars[i])\n",
    "    if current_matrix not in seen_matrices:\n",
    "        seen_matrices.append(current_matrix)\n",
    "        print(current_matrix)\n",
    "        print()"
   ]
  },
  {
   "cell_type": "markdown",
   "id": "b9f02c2c-c7de-4657-ad4d-d1551afd4e3d",
   "metadata": {},
   "source": [
    "<div style=\"background-color:  rgba(153, 204, 255, 0.25); \n",
    "    font-family: 'Latin Modern Roman', Times, serif; font-size: 16px; border: 1px solid  rgb(0, 128,255); padding: 15px; border-radius: 5px; \">\n",
    "    <h3 style=\"font-size: 20px;color: rgb(0, 128,255);\">Note</h3>\n",
    "    <p>\n",
    "    This result can be compared with the result at work (p. 14, example 5.1)\n",
    "        <a href=\"https://www.itp.uni-bremen.de/prichter/download/ThetaConst.pdf\" target=\"_blank\">Enolski V.Z., Richter P.H. <i>Periods of hyperelliptic integrals expressed in terms of $\\theta$-constants\n",
    "by means of Thomae formulae</i>. Phil. Trans. London Math. Soc. A (2008), 366, pp.1005–1024</a>          \n",
    "    </p>\n",
    "</div>"
   ]
  },
  {
   "cell_type": "code",
   "execution_count": 25,
   "id": "d2ecd071-3720-4de5-8964-24903bbd72ea",
   "metadata": {},
   "outputs": [
    {
     "name": "stdout",
     "output_type": "stream",
     "text": [
      "[1 1]\n",
      "[0 1]\n"
     ]
    }
   ],
   "source": [
    "# We sum the eChars elements with indices 2*i +1 (because python counts from 0) and take Mod 2\n",
    "KCh = sum(matrix(eChars[2 * i+1]) for i in range(genus)) % 2\n",
    "\n",
    "print(KCh)"
   ]
  },
  {
   "cell_type": "markdown",
   "id": "13f45ec7-c48e-4f61-b3a9-7d3c4a1a5a81",
   "metadata": {},
   "source": [
    "<div style=\"font-family: 'Latin Modern Roman', Times, serif; font-size: 16px;\">\n",
    "<h1 style=\"font-size: 24px;\">$\\wp$-Functions</h1>\n",
    "</div>"
   ]
  },
  {
   "cell_type": "markdown",
   "id": "73cd9d6f-1822-4bae-bd36-66ce3f136465",
   "metadata": {},
   "source": [
    "<div style=\"font-family: 'Latin Modern Roman', Times, serif; font-size: 16px;\">\n",
    "<p>\n",
    "    Belove we use definitions from <a href=\"https://arxiv.org/abs/2407.05632\" target=\"_blank\"><em>Computation of $\\wp$-functions on plane algebraic curves</em>, Julia Bernatska (2024).</a> (p.4-5)\n",
    "</p>\n",
    "</div>    "
   ]
  },
  {
   "cell_type": "markdown",
   "id": "b91eece6-fbda-418b-aa46-05765b9a49b4",
   "metadata": {},
   "source": [
    "<div style=\"background-color:  rgba(224, 224, 224, 0.25); \n",
    "    font-family: 'Latin Modern Roman', Times, serif; font-size: 16px; border: 1px solid  rgb(192, 192, 192); padding: 15px; border-radius: 5px; \">\n",
    "    <h3 style=\"font-size: 20px;color: rgb(160, 160, 160);\">Definition</h3>\n",
    "    <p>        \n",
    "        Multiply periodic Klein-Weierstrass ℘-functions are defined by\n",
    "        $$\n",
    "            \\wp_{ij}:=\\kappa_{ij} - \\frac{\\partial^2\\log{\\sigma(u)}}{\\partial u_i \\partial u_j}, \\quad \\wp_{ijk}:=- \\frac{\\partial^3\\log{\\sigma(u)}}{\\partial u_i \\partial u_j \\partial u_k},\n",
    "        $$\n",
    "        where $\\sigma(u)$ is called <i>sigma function</i> (Kleinian sigma) and given by\n",
    "        $$\n",
    "            \\sigma(u) = C e^{-\\frac{1}{2}u^T \\kappa u} \\theta[K](\\omega^{-1}u;\\omega^{-1} \\omega').\n",
    "        $$\n",
    "        Here $[K]$ denotes the characteristic of the vector of Riemann constans.\n",
    "    </p>    \n",
    "    </div>\n",
    "\n",
    "</div>"
   ]
  },
  {
   "cell_type": "markdown",
   "id": "557b479d-10ce-458a-8327-b82c056cbb2e",
   "metadata": {},
   "source": [
    "<div style=\"font-family: 'Latin Modern Roman', Times, serif; font-size: 16px;\">\n",
    "<p>\n",
    "    It can be shown that the above definitions can be written in the form:\n",
    "    $$\n",
    "            \\wp_{ij}:=\\kappa_{ij} - \\frac{\\partial^2}{\\partial u_i \\partial u_j}\\log{\\theta[K](\\omega^{-1}u;\\omega^{-1} \\omega')}, \\quad \\wp_{ijk}:=- \\frac{\\partial^3}{\\partial u_i \\partial u_j \\partial u_k}\\log{\\theta[K](\\omega^{-1}u;\\omega^{-1} \\omega')}.\n",
    "        $$\n",
    "</p>\n",
    "</div>   "
   ]
  },
  {
   "cell_type": "code",
   "execution_count": 64,
   "id": "0fe5f05b-92d6-4b49-b835-367bc81d88b1",
   "metadata": {},
   "outputs": [],
   "source": [
    "# We define variables\n",
    "var('U1 U3')\n",
    "\n",
    "# We define the accuracy of theta function\n",
    "Acc=15\n",
    "\n",
    "\n",
    "# WeierstrassP functions\n",
    "\n",
    "\n",
    "# WeierstrassP11\n",
    "def WeierstrassP11(u1_val, u3_val):\n",
    "    symbolic_expr = kappa[0, 0] - diff(log(ThetaCh(KCh, omega_inv * vector([U1, U3]), tau, Acc)), U1, 2)\n",
    "    return symbolic_expr.subs({U1: u1_val, U3: u3_val}).n()\n",
    "\n",
    "# WeierstrassP12\n",
    "def WeierstrassP12(u1_val, u3_val):\n",
    "    symbolic_expr = kappa[0, 1] - diff(log(ThetaCh(KCh, omega_inv * vector([U1, U3]), tau, Acc)),  U1, U3)\n",
    "    return symbolic_expr.subs({U1: u1_val, U3: u3_val}).n()\n",
    "\n",
    "# WeierstrassP22\n",
    "def WeierstrassP11(u1_val, u3_val):\n",
    "    symbolic_expr = kappa[1, 1] - diff(log(ThetaCh(KCh, omega_inv * vector([U1, U3]), tau, Acc)), U3, 2)\n",
    "    return symbolic_expr.subs({U1: u1_val, U3: u3_val}).n()\n"
   ]
  },
  {
   "cell_type": "code",
   "execution_count": 27,
   "id": "d70da24a-4fe5-4b80-9865-321e7f406676",
   "metadata": {},
   "outputs": [
    {
     "data": {
      "text/plain": [
       "25.5874339460344 + 5.85487214266323e-12*I"
      ]
     },
     "execution_count": 27,
     "metadata": {},
     "output_type": "execute_result"
    }
   ],
   "source": [
    "# Function call\n",
    "WeierstrassP11(2.0, 3.0)\n"
   ]
  },
  {
   "cell_type": "markdown",
   "id": "e28d40d6-5544-4e5e-8740-56f1c224d537",
   "metadata": {},
   "source": [
    "<div style=\"font-family: 'Latin Modern Roman', Times, serif; font-size: 16px;\">\n",
    "<p>\n",
    "    As a first test of these functions, we can check if they satisfy the key property  \n",
    "$$\n",
    "    \\wp_{ij}(\\mathbf{u}+2\\omega \\mathbf{n} + 2\\omega'\\mathbf{n}') = \\wp_{ij}(\\mathbf{u}),\n",
    "$$\n",
    "where\n",
    "$$\n",
    "    \\mathbf{n} = \n",
    "        \\begin{pmatrix}\n",
    "            n_1\\\\\n",
    "            n_2\n",
    "        \\end{pmatrix}, \\quad\n",
    "    \\mathbf{n}' = \n",
    "        \\begin{pmatrix}\n",
    "            n'_1\\\\\n",
    "            n'_2\n",
    "        \\end{pmatrix} \\in \\mathbb{Z}^2.\n",
    "$$    \n",
    "</p>\n",
    "</d>"
   ]
  },
  {
   "cell_type": "code",
   "execution_count": 65,
   "id": "b5062e0d-5303-4856-9571-39a9da0d39a0",
   "metadata": {},
   "outputs": [
    {
     "data": {
      "text/plain": [
       "2.71995759248966e-11 - 1.67972302733688e-11*I"
      ]
     },
     "execution_count": 65,
     "metadata": {},
     "output_type": "execute_result"
    }
   ],
   "source": [
    "ntest = vector([1, 2])\n",
    "nPtest = vector([-3, -5])\n",
    "\n",
    "wn = omega*ntest\n",
    "wPn= omegaP*nPtest\n",
    "\n",
    "\n",
    "WeierstrassP11(2.0, 3.0) - WeierstrassP11(2.0+2*wn[0] + 2*wPn[0], 3.0+2*wn[1] + 2*wPn[1])"
   ]
  },
  {
   "cell_type": "markdown",
   "id": "868fa592-0c67-49fe-9200-54e67dc9ead0",
   "metadata": {},
   "source": [
    "<div style=\"background-color:  rgba(255, 153, 153, 0.25); \n",
    "    font-family: 'Latin Modern Roman', Times, serif; font-size: 16px; border: 1px solid  rgb(255, 51,51); padding: 15px; border-radius: 5px; \">\n",
    "    <h3 style=\"font-size: 20px;color: rgb(255, 51,51);\">Important</h3>\n",
    "    <p>\n",
    "    The above test only works for $\\mathbf{n}>0$ and $\\mathbf{n'}<0$. If the signs are reversed or the vectors have mixed signs, the above equality does not hold. An example would be the following code:\n",
    "    </p>    \n",
    "    <pre style=\" color: #f8f8f2; padding: 10px; border-radius: 5px; font-size: 14px;\">\n",
    "    <code style=\"color: #66d9ef;\">\n",
    "```SageMath           \n",
    "ntest = vector([-1,-2])\n",
    "nPtest = vector([+3, +5])\n",
    "\n",
    "wn = omega*ntest\n",
    "wPn= omegaP*nPtest\n",
    "\n",
    "\n",
    "WeierstrassP11(2.0, 3.0) - WeierstrassP11(2.0+2*wn[0] + 2*wPn[0], 3.0+2*wn[1] + 2*wPn[1])\n",
    "    </code>\n",
    "    </pre>\n",
    "    <p>    \n",
    "I don't know what this is about yet\n",
    "    </p>\n",
    "    \n",
    "</div>"
   ]
  },
  {
   "cell_type": "code",
   "execution_count": null,
   "id": "5bd6d0a9-826f-4f4b-bfea-3b924cdac687",
   "metadata": {},
   "outputs": [],
   "source": []
  }
 ],
 "metadata": {
  "kernelspec": {
   "display_name": "SageMath 10.4",
   "language": "sage",
   "name": "sagemath-10.4"
  },
  "language_info": {
   "codemirror_mode": {
    "name": "ipython",
    "version": 3
   },
   "file_extension": ".py",
   "mimetype": "text/x-python",
   "name": "python",
   "nbconvert_exporter": "python",
   "pygments_lexer": "ipython3",
   "version": "3.12.4"
  }
 },
 "nbformat": 4,
 "nbformat_minor": 5
}
