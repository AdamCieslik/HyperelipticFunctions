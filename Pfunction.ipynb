{
 "cells": [
  {
   "cell_type": "markdown",
   "id": "5e2b586e-887d-486b-a6b1-43f1a8db41bb",
   "metadata": {
    "jp-MarkdownHeadingCollapsed": true
   },
   "source": [
    "<div style=\"font-family: 'Latin Modern Roman', Times, serif; font-size: 16px;\">\n",
    "<h1 style=\"font-size: 32px;\">Introduction</h1>\n",
    "<p>\n",
    "The notebook presented here is based on the work of: <em>Computation of $\\wp$-functions on plane algebraic curves</em>, Julia Bernatska (2024) [v3] Fri, 30 Aug 2024<br>\n",
    "URL: <a href=\"https://arxiv.org/abs/2407.05632\" target=\"_blank\">https://arxiv.org/abs/2407.05632</a> \n",
    "</p>\n",
    "<p>\n",
    "Additionally, I used an article posted on WolframCommunity:<br>\n",
    "<a href=\"https://community.wolfram.com/groups/-/m/t/3243472\" target=\"_blank\">https://community.wolfram.com/groups/-/m/t/3243472</a>\n",
    "<br>and the code attached to it: AMap-CHyp-Exmpl1-Publ.nb\n",
    "</p>\n",
    "<p>\n",
    "The code is also based on the documentation:\n",
    "<a href=\"https://doc.sagemath.org/html/en/reference/curves/sage/schemes/riemann_surfaces/riemann_surface.html#sage.schemes.riemann_surfaces.riemann_surface.RiemannSurface\"\n",
    "target=\"_blank\">https://doc.sagemath.org/html/en/reference/curves/sage/schemes/riemann_surfaces/riemann_surface.html#sage.schemes.riemann_surfaces.riemann_surface.RiemannSurface</a>\n",
    "</p>\n",
    "<p>    \n",
    "<p>\n",
    "The general purpose of this Notebook is to present code that can compute the generalised Wierstrass $\\wp_{ij}$ function (sometimes called Klein's functions) for a hyperelliptic curve of genus 2.\n",
    "</p>\n",
    "</div>"
   ]
  },
  {
   "cell_type": "markdown",
   "id": "d4020a2f-8aaf-4356-806d-b9d692b732dd",
   "metadata": {},
   "source": [
    "<div style=\"font-family: 'Latin Modern Roman', Times, serif; font-size: 16px;\">\n",
    "<h1 style=\"font-size: 32px;\">Preliminaries</h1>\n",
    "<p>\n",
    "Many works on hyperelliptic functions and Riemann surfaces use similar notation, leading to potential collisions. To avoid this, I provide a legend of notations.\n",
    "</p>\n",
    "<h3 style=\"font-size: 24px;\">Legend</h3>\n",
    "<ul>\n",
    "  <li>$\\mathscr{C}$ - Curve</li>\n",
    "  <li>$e_i$ - branch points</li>\n",
    "  <li>$w$ - An Abelian differential on the Riemann surface $X$</li>\n",
    "  <li>$du$ - First kind differential</li>\n",
    "  <li>$dr$ - Second kind differential</li>\n",
    "  <li>$dl$ - Third kind differential</li>\n",
    "  <li>$\\mathfrak{a}_i, \\mathfrak{b}_i$ - Canonical homology cycles</li>\n",
    "  <li>$\\omega$ -  First kind integrals</li>\n",
    "  <li>$\\eta$ - Second kind integrals</li>\n",
    "  <li>$\\lambda$ - Third kind integrals</li>\n",
    "  <li>$\\mathcal{A}$ - Abel map</li>\n",
    "  <li>$W$ - general Abelian integral</li>\n",
    "  <li>$A$, $B$ - A- and B-periods of the differential $w=dW$</li>\n",
    "  <li>$\\mathfrak{m}(\\mathbf{u})$ - A meromorphic function of $\\mathbf{u}\\in\\mathbb{C}^g$</li>\n",
    "  <li>$\\Omega$ - Periodic matrices</li>\n",
    "  <li>$\\Lambda$ - Lattice</li>\n",
    "  <li>$X$ - Riemann surface</li>\n",
    "  <li>$\\mathrm{Jac}(\\mathscr{C})$ - Jacobian variety of the curve $\\mathscr{C}$</li>\n",
    "  <li>$D$ - Divisor  on the Riemann surface $X$</li>\n",
    "</ul>\n",
    "<p>\n",
    "    Now we present the basic definitions\n",
    "</p>    \n",
    "</div>"
   ]
  },
  {
   "cell_type": "markdown",
   "id": "5d703988-5150-4da1-92d7-3454f97dcee5",
   "metadata": {},
   "source": [
    "<div>\n",
    "<h3 style=\"font-family: 'Latin Modern Roman', Times, serif; font-size: 24px;\">Hyperelliptic curve</h3>\n",
    "</div>"
   ]
  },
  {
   "cell_type": "markdown",
   "id": "c6cef5bd-6f1a-4fd7-b588-bd0b9883e9c4",
   "metadata": {},
   "source": [
    "<div style=\"font-family: 'Latin Modern Roman', Times, serif; font-size: 16px; border: 1px solid white; padding: 15px; border-radius: 5px; \">\n",
    "    <h3 style=\"font-size: 20px;\">Def.</h3>\n",
    "    <p>The hyperelliptic curve is defined by the equation</p>\n",
    "    <div style=\"text-align: center;\">\n",
    "        $\\mathscr{C} = \\{ (x,y)\\in \\mathbb{C}^2 \\mid f(x,y)= \\}$,\n",
    "    </div>\n",
    "    <p>where</p>\n",
    "    <div style=\"text-align: center;\">\n",
    "        $f(x,y) = -y^2 + x^{2g+1} + \\sum_{i=0}^{2g}\\lambda_{2i+2}x^{2g-i}, \\quad \\lambda_{k\\leq0}=0,\\; \\lambda_0 =1, \\; \\lambda_k \\in \\mathbb{R}.$\n",
    "    </div>\n",
    "\n",
    "</div>\n"
   ]
  },
  {
   "cell_type": "markdown",
   "id": "1862d913-d721-4977-8031-b308663d86b8",
   "metadata": {},
   "source": [
    "<div style=\"background-color: #1e2939; border-left: 5px solid #3498db; color: white; padding: 10px; margin-bottom: 10px; font-family: 'Latin Modern Roman', Times, serif; font-size: 16px;\">\n",
    "  <h3 style=\"margin-top: 0; margin-bottom: 10px; color: #3498db; font-family: inherit;\">\n",
    "    <svg height=\"20\" width=\"20\" viewBox=\"0 0 20 20\" style=\"fill: currentColor; display: inline-block; margin-right: 5px;\">\n",
    "      <path d=\"M17 3H3c-1.1 0-2 .9-2 2v10c0 1.1.9 2 2 2h14c1.1 0 2-.9 2-2V5c0-1.1-.9-2-2-2zm0 12H3V5h14v10z\"></path>\n",
    "      <path d=\"M10 7h4v2h-4zM6 7h2v2H6zM6 11h8v2H6z\"></path>\n",
    "    </svg>Note\n",
    "  </h3>\n",
    "  <p style=\"margin: 0; font-family: inherit;\">\n",
    "    <ul>\n",
    "        <li> We use convention from <em>Computation of $\\wp$-functions on plane algebraic curves</em>, Julia Bernatska (2024).\n",
    "        <li> We are working with physical equations where $\\lambda_k \\in \\mathbb{R}$ instead of $\\lambda_k \\in \\mathbb{C}$ which can be found in various texts. \n",
    "    </ul>            \n",
    "  </p>\n",
    "</div>"
   ]
  },
  {
   "cell_type": "markdown",
   "id": "23b4125d-3201-43de-bf1b-f76cd9361819",
   "metadata": {},
   "source": [
    "<div style=\"font-family: 'Latin Modern Roman', Times, serif; font-size: 16px;\">\n",
    "<p>\n",
    "So for a curve of genus $g=2$ we get\n",
    "<div style=\"text-align: center;\">\n",
    "        $f(x,y) = -y^2 + x^5 + \\lambda_2 x^4 + \\lambda_4 x^3+ \\lambda_6 x^4+ \\lambda_8 x+ \\lambda_{10}$,\n",
    "    </div>    \n",
    "</p>\n",
    "    \n",
    "Let's load the appropriate SageMath library and define the curve $\\mathscr{C}$\n",
    "</div>"
   ]
  },
  {
   "cell_type": "code",
   "execution_count": 13,
   "id": "e9c0e6c5-202d-4fea-a25c-f60bb15c676f",
   "metadata": {},
   "outputs": [],
   "source": [
    "from sage.schemes.riemann_surfaces.riemann_surface import RiemannSurface"
   ]
  },
  {
   "cell_type": "code",
   "execution_count": 14,
   "id": "4f8afead-1bc6-4be7-ab99-3e4e5e9831c9",
   "metadata": {},
   "outputs": [],
   "source": [
    "# Defines the lambda coefficients\n",
    "lambda2 = 12.0\n",
    "lambda4 = 1.0\n",
    "lambda6  = 0.9\n",
    "lambda8  = 21.0\n",
    "lambda10  = 10.0"
   ]
  },
  {
   "cell_type": "markdown",
   "id": "d25e2ffb-7b7d-4779-a54a-4ddc3ec22acf",
   "metadata": {},
   "source": [
    "<div style=\"background-color:  #f5c6c6; border-left: 5px solid #e74c3c; color: #e74c3c; padding: 10px; margin-bottom: 10px; font-family: 'Latin Modern Roman', Times, serif; font-size: 16px;\">\n",
    "  <h3 style=\"margin-top: 0; margin-bottom: 10px; color: #e74c3c; font-family: inherit;\">\n",
    "    <svg height=\"20\" width=\"20\" viewBox=\"0 0 20 20\" style=\"fill: currentColor; display: inline-block; margin-right: 5px;\">\n",
    "      <path d=\"M17 3H3c-1.1 0-2 .9-2 2v10c0 1.1.9 2 2 2h14c1.1 0 2-.9 2-2V5c0-1.1-.9-2-2-2zm0 12H3V5h14v10z\"></path>\n",
    "      <path d=\"M10 7h4v2h-4zM6 7h2v2H6zM6 11h8v2H6z\"></path>\n",
    "    </svg>Important\n",
    "  </h3>\n",
    "  <p style=\"margin: 0; font-family: inherit;\">\n",
    "    The coefficients above must be real-floating-point numbers\n",
    "    </ul>            \n",
    "  </p>\n",
    "</div>"
   ]
  },
  {
   "cell_type": "markdown",
   "id": "3d00e6b9-7f31-4181-a037-68b9a1c4a844",
   "metadata": {},
   "source": [
    "<div style=\"font-family: 'Latin Modern Roman', Times, serif; font-size: 16px;\">\n",
    "<p>\n",
    "Since the current Sage library only works well on the field of rational numbers, we have to approximate all function coefficients by these numbers.\n",
    "</p>\n",
    "</div>"
   ]
  },
  {
   "cell_type": "code",
   "execution_count": 20,
   "id": "3e7611f7-0ba6-49f2-b598-2318127f8479",
   "metadata": {},
   "outputs": [],
   "source": [
    "# Rational approximation\n",
    "l2 = lambda2.nearby_rational(max_error=1e-10)\n",
    "l4 = lambda4.nearby_rational(max_error=1e-10)\n",
    "l6 = lambda6.nearby_rational(max_error=1e-10)\n",
    "l8 = lambda8.nearby_rational(max_error=1e-10)\n",
    "l10 = lambda10.nearby_rational(max_error=1e-10)"
   ]
  },
  {
   "cell_type": "markdown",
   "id": "b25e02a9-e6a2-4dbc-934f-9387413e73e8",
   "metadata": {},
   "source": [
    "<div style=\"font-family: 'Latin Modern Roman', Times, serif; font-size: 16px;\">\n",
    "<p>\n",
    "Next, we need to define the variables $x$ and $y$ in the ring of polynomials over the rational numbers.\n",
    "</p>\n",
    "</div>"
   ]
  },
  {
   "cell_type": "code",
   "execution_count": 16,
   "id": "c83cfab5-082a-47f8-aabf-9f8935ef98df",
   "metadata": {},
   "outputs": [],
   "source": [
    "R.<x, y> = PolynomialRing(QQ, 2)"
   ]
  },
  {
   "cell_type": "markdown",
   "id": "fa759787-8130-4d5e-8f53-f8a1d01d43e5",
   "metadata": {},
   "source": [
    "<div style=\"background-color: #1e2939; border-left: 5px solid #3498db; color: white; padding: 10px; margin-bottom: 10px; font-family: 'Latin Modern Roman', Times, serif; font-size: 16px;\">\n",
    "  <h3 style=\"margin-top: 0; margin-bottom: 10px; color: #3498db; font-family: inherit;\">\n",
    "    <svg height=\"20\" width=\"20\" viewBox=\"0 0 20 20\" style=\"fill: currentColor; display: inline-block; margin-right: 5px;\">\n",
    "      <path d=\"M17 3H3c-1.1 0-2 .9-2 2v10c0 1.1.9 2 2 2h14c1.1 0 2-.9 2-2V5c0-1.1-.9-2-2-2zm0 12H3V5h14v10z\"></path>\n",
    "      <path d=\"M10 7h4v2h-4zM6 7h2v2H6zM6 11h8v2H6z\"></path>\n",
    "    </svg>Note\n",
    "  </h3>\n",
    "  <p style=\"margin: 0; font-family: inherit;\">\n",
    "    The order of variables can be important depending on how you write your polynomial. Make sure you use the same order in your polynomial expression.\n",
    "    </ul>            \n",
    "  </p>\n",
    "</div>"
   ]
  },
  {
   "cell_type": "code",
   "execution_count": 17,
   "id": "2c329640-040b-4e31-9d7d-20473d53e4a6",
   "metadata": {},
   "outputs": [],
   "source": [
    "# Defining the polynomial f\n",
    "f = -y^2 + x^5 + l2*x^4 + l4*x^3 + l6*x^2 + l8*x + l10"
   ]
  },
  {
   "cell_type": "markdown",
   "id": "80cca492-93d3-4307-b8a3-5d08a9b15aad",
   "metadata": {},
   "source": [
    "<div>\n",
    "<h3 style=\"font-family: 'Latin Modern Roman', Times, serif; font-size: 24px;\">Riemann surface</h3>\n",
    "</div>"
   ]
  },
  {
   "cell_type": "markdown",
   "id": "ad92abf1-0e58-4b88-b15a-8d2a313fbbc9",
   "metadata": {},
   "source": [
    "<div style=\"font-family: 'Latin Modern Roman', Times, serif; font-size: 16px; border: 1px solid white; padding: 15px; border-radius: 5px; \">\n",
    "    <h3 style=\"font-size: 20px;\">Def.</h3>\n",
    "    <p>\n",
    "        A Riemann surface $X$ is a connected two-dimensional topological manifold with a complex-analytic structure on it. \n",
    "    </p>    \n",
    "    </div>\n",
    "\n",
    "</div>"
   ]
  },
  {
   "cell_type": "markdown",
   "id": "2a2583d3-bafb-4c47-a327-81666c75cdc9",
   "metadata": {},
   "source": [
    "<div style=\"font-family: 'Latin Modern Roman', Times, serif; font-size: 16px;\">\n",
    "<p>\n",
    "The SageMath library has a special function that allows us to generate the appropriate Riemann surface on which we will continue our work.\n",
    "</p>\n",
    "</div>"
   ]
  },
  {
   "cell_type": "code",
   "execution_count": 19,
   "id": "13fc8b6e-d997-4230-a1ac-3665bc5799e7",
   "metadata": {},
   "outputs": [],
   "source": [
    "S = RiemannSurface(f, prec=100)"
   ]
  },
  {
   "cell_type": "markdown",
   "id": "681a848d-2323-4d4e-9fe0-5687952734eb",
   "metadata": {},
   "source": [
    "<div style=\"font-family: 'Latin Modern Roman', Times, serif; font-size: 16px;\">\n",
    "<h1 style=\"font-size: 32px;\">First and Second Kind Periods</h1>\n",
    "<p>\n",
    "    In order to construct periodic functions we first have to define a canonical basis of the space of holomorphic differentials $\\{du_i\\mid i=1,\\ldots,g\\} $ and of associated meromorphic differentials $\\{dr_i\\mid i=1,\\ldots,g\\} $ on the Riemann surface by\n",
    "    <div style=\"text-align: center;\">\n",
    "        $du_{2i-1} := \\frac{x^{g-i} dx}{\\partial_y f(x)}$,\n",
    "    </div>\n",
    "    <div style=\"text-align: center;\">\n",
    "        $dr_{2i-1} := \\frac{\\mathcal{R}_{2i-1}(x) dx}{\\partial_y f(x)}, $\n",
    "    </div>\n",
    "    where\n",
    "    <div style=\"text-align: center;\">\n",
    "    $\\mathcal{R}_{2i-1}(x)=\\sum_{k=1}^{2i-1}k\\lambda_{4i-2k-2}x^{g-i+k}.$\n",
    "    </div>\n",
    "</p>\n",
    "<p>\n",
    "    We can write this in vector form for $g=2$ as follows \n",
    "    <div style=\"text-align: center;\">\n",
    "        $du= \\begin{pmatrix} \n",
    "                x\\\\\n",
    "                1\n",
    "            \\end{pmatrix} \\frac{dx}{-2\\sqrt{f(x)}}$,\n",
    "    </div>\n",
    "    <div style=\"text-align: center;\">\n",
    "        $dr= \\begin{pmatrix} \n",
    "                \\mathcal{R}_{1}(x)\\\\\n",
    "                \\mathcal{R}_{3}(x)\n",
    "            \\end{pmatrix} \\frac{dx}{-2\\sqrt{f(x)}} = \n",
    "                \\begin{pmatrix} \n",
    "                    x^2\\\\\n",
    "                    3x^3 + 2\\lambda_2 x^2 + \\lambda_4 x\n",
    "                \\end{pmatrix} \\frac{dx}{-2\\sqrt{f(x)}}$,\n",
    "    </div>\n",
    "</p>\n",
    "</div>"
   ]
  },
  {
   "cell_type": "markdown",
   "id": "656e07d5-8f46-4682-bb4a-a1fe607cf64c",
   "metadata": {},
   "source": [
    "<div style=\"font-family: 'Latin Modern Roman', Times, serif; font-size: 16px;\">\n",
    "<p>\n",
    "    The above holomorphic basis can be compared to what the <span style=\"font-size: 16px;color: #FFA500\">cohomology_basis()</span> function returns. In SageMath, <span style=\"font-size: 16px;color: #FFA500\">S.cohomology_basis()</span> returns this list of differentials, typically represented as polynomials  $g(x)$  corresponding to differentials:\n",
    "    <div style=\"text-align: center;\">\n",
    "        $\\omega = \\frac{g(x) \\, dx}{\\partial f / \\partial y}$\n",
    "    </div>\n",
    "where  $f(x, y) = 0$  defines the curve.\n",
    "</p>\n",
    "</div>    "
   ]
  },
  {
   "cell_type": "code",
   "execution_count": 21,
   "id": "31856c66-47e6-43f2-a1f5-a452e7a84871",
   "metadata": {},
   "outputs": [
    {
     "data": {
      "text/plain": [
       "[1, x]"
      ]
     },
     "execution_count": 21,
     "metadata": {},
     "output_type": "execute_result"
    }
   ],
   "source": [
    "S.cohomology_basis()"
   ]
  },
  {
   "cell_type": "markdown",
   "id": "9b024916-992f-4f29-a21d-6cab742acd97",
   "metadata": {},
   "source": [
    "<div style=\"font-family: 'Latin Modern Roman', Times, serif; font-size: 16px;\">\n",
    "<p>\n",
    "It is visible that the order of elements is different from that adopted in Julia Bernatska's convention. Let's adapt to her convention.\n",
    "</p>\n",
    "</div>"
   ]
  },
  {
   "cell_type": "markdown",
   "id": "8f2d36b3-18df-462d-9d85-0f2cce229c2b",
   "metadata": {},
   "source": [
    "<div style=\"font-family: 'Latin Modern Roman', Times, serif; font-size: 16px;\">\n",
    "<h1 style=\"font-size: 24px;\">First  Kind Periods</h1>\n",
    "</div>"
   ]
  },
  {
   "cell_type": "code",
   "execution_count": 34,
   "id": "4500d57a-9b33-4edf-bf60-98c3bf545f37",
   "metadata": {},
   "outputs": [],
   "source": [
    "# holomorphic differentials base\n",
    "holbais=[x,x^0]"
   ]
  },
  {
   "cell_type": "markdown",
   "id": "98370b29-53e2-4af2-b207-8eb6051849d7",
   "metadata": {},
   "source": [
    "<div style=\"font-family: 'Latin Modern Roman', Times, serif; font-size: 16px;\">\n",
    "<p>\n",
    "Now, to calculate the first kind period matrices, we need to calculate the following integrals along the canonical homology cycles $\\{ \\mathfrak{a}_i, \\mathfrak{b}_i\\}_{i=1}^g$\n",
    "    <div style=\"text-align: center;\">\n",
    "        $\\omega = (\\omega_{ij})= \\left( \\int_{\\mathfrak{a}_j}du_i \\right), \\quad \\omega' = (\\omega'_{ij})= \\left( \\int_{\\mathfrak{b}_j}du_i \\right). $\n",
    "    </div>\n",
    "</p>\n",
    "</div>"
   ]
  },
  {
   "cell_type": "markdown",
   "id": "e2785ca7-69a2-4934-bfd6-6d4024f28c16",
   "metadata": {},
   "source": [
    "<div style=\"font-family: 'Latin Modern Roman', Times, serif; font-size: 16px;\">\n",
    "  <p>We can use the Sage function <span style=\"font-size: 16px;color: #FFA500\">matrix_of_integral_values(differentials, integration_method='heuristic')</span> to compute the path integrals of the given differentials along the homology basis.</p>\n",
    "    <p>The returned answer has a row for each differential. If the Riemann surface is given by the equation $y^2$, then the differentials are encoded by polynomials $g$, signifying the differential $g(x,y)dx/(df/dy)$.</p>\n",
    "    <h3 style=\"font-size: 16px;color: #4CAF50\">INPUT:</h3>\n",
    "    <ul>\n",
    "        <li><strong>differentials</strong> – a list of polynomials.</li>\n",
    "        <li><strong>integration_method</strong> – (default: 'heuristic'). String specifying the integration method to use. The options are 'heuristic' and 'rigorous'.</li>\n",
    "    </ul>\n",
    "    <h3 style=\"font-size: 15px;color: #4CAF50\">OUTPUT:</h3>\n",
    "    <p>A matrix, one row per differential, containing the values of the path integrals along the homology basis of the Riemann surface.</p>\n",
    "</div>"
   ]
  },
  {
   "cell_type": "code",
   "execution_count": 56,
   "id": "a901b565-5962-4b8c-bf71-7094cf2c0b11",
   "metadata": {},
   "outputs": [
    {
     "name": "stdout",
     "output_type": "stream",
     "text": [
      "[    0.13887 - 0.65203*I -4.9304e-32 - 0.91224*I -5.9165e-31 + 0.39181*I      1.1744 + 0.26021*I]\n",
      "[   -0.63929 + 0.27993*I 1.2326e-32 + 0.038339*I  2.9582e-31 - 0.52152*I     0.14583 + 0.24159*I]\n"
     ]
    }
   ],
   "source": [
    "MofInt1=S.matrix_of_integral_values(holbais)\n",
    "# Let's display the matrix in a shortened form so that it will be easy to see its structure\n",
    "print(MofInt1.n(digits=5))"
   ]
  },
  {
   "cell_type": "markdown",
   "id": "10fd61cb-d1c7-4204-b826-4dc905bef183",
   "metadata": {},
   "source": [
    "<div style=\"font-family: 'Latin Modern Roman', Times, serif; font-size: 16px;\">\n",
    "  <p>\n",
    "This is the structure of the returned matrix\n",
    "\n",
    "$$\n",
    "MofInt1 = \n",
    "\\begin{pmatrix}\n",
    "    \\omega_{1,1} & \\omega_{1,2} & \\omega'_{1,1} & \\omega'_{1,2} \\\\\n",
    "    \\omega_{2,1} & \\omega_{2,2} & \\omega'_{2,1} & \\omega'_{2,2}\n",
    "\\end{pmatrix}\n",
    "=\n",
    "\\begin{array}{|c|c|c|c|c|}\n",
    "\\hline\n",
    "& \\mathfrak{a}_1 & \\mathfrak{a}_2 & \\mathfrak{b}_1 & \\mathfrak{b}_2 \\\\\n",
    "\\hline\n",
    "x & \\omega_{1,1} = \\int_{\\mathfrak{a}_1} du_1 & \\omega_{1,2} = \\int_{\\mathfrak{a}_2} du_1 & \\omega'_{1,1} = \\int_{\\mathfrak{b}_1} du_1 & \\omega'_{1,2} = \\int_{\\mathfrak{b}_2} du_1 \\\\\n",
    "\\hline\n",
    "1 & \\omega_{2,1} = \\int_{\\mathfrak{a}_1} du_2 & \\omega_{2,2} = \\int_{\\mathfrak{a}_2} du_2 & \\omega'_{2,1} = \\int_{\\mathfrak{b}_1} du_2 & \\omega'_{2,2} = \\int_{\\mathfrak{b}_2} du_2 \\\\\n",
    "\\hline\n",
    "\\end{array}\n",
    "$$\n",
    "</p>\n",
    "</div>"
   ]
  },
  {
   "cell_type": "markdown",
   "id": "e42b7091-17ab-486d-a277-7fc1f5899ea5",
   "metadata": {},
   "source": [
    "<div style=\"font-family: 'Latin Modern Roman', Times, serif; font-size: 16px;\">\n",
    "    <p>\n",
    "    We can compare this with the results of the built-in Sage function: <span style=\"font-size: 16px;color: #FFA500\">period_matrix()</span>, which, for the adopted notational convention, will return a period matrix in the form\n",
    "    $$\n",
    "        pM= \\begin{pmatrix}\n",
    "                \\omega_{2,1} & \\omega_{2,2} & \\omega'_{2,1} & \\omega'_{2,2} \\\\\n",
    "                \\omega_{1,1} & \\omega_{1,2} & \\omega'_{1,1} & \\omega'_{2,1}\n",
    "        \\end{pmatrix}  \n",
    "    $$   \n",
    "    </p>\n",
    "</div>"
   ]
  },
  {
   "cell_type": "code",
   "execution_count": 54,
   "id": "0b78f17c-1411-4011-a10b-8dc64807afbc",
   "metadata": {},
   "outputs": [
    {
     "name": "stdout",
     "output_type": "stream",
     "text": [
      "[   -0.63929 + 0.27993*I              0.038339*I              -0.52152*I     0.14583 + 0.24159*I]\n",
      "[    0.13887 - 0.65203*I -4.9304e-32 - 0.91224*I -1.9722e-31 + 0.39181*I      1.1744 + 0.26021*I]\n"
     ]
    }
   ],
   "source": [
    "pM=S.period_matrix()\n",
    "print(pM.n(digits=5))"
   ]
  },
  {
   "cell_type": "markdown",
   "id": "5e264be0-f795-4101-819e-b0c5ea0073bb",
   "metadata": {},
   "source": [
    "<div style=\"background-color:  #f5c6c6; border-left: 5px solid #e74c3c; color: #e74c3c; padding: 10px; margin-bottom: 10px; font-family: 'Latin Modern Roman', Times, serif; font-size: 16px;\">\n",
    "  <h3 style=\"margin-top: 0; margin-bottom: 10px; color: #e74c3c; font-family: inherit;\">\n",
    "    <svg height=\"20\" width=\"20\" viewBox=\"0 0 20 20\" style=\"fill: currentColor; display: inline-block; margin-right: 5px;\">\n",
    "      <path d=\"M17 3H3c-1.1 0-2 .9-2 2v10c0 1.1.9 2 2 2h14c1.1 0 2-.9 2-2V5c0-1.1-.9-2-2-2zm0 12H3V5h14v10z\"></path>\n",
    "      <path d=\"M10 7h4v2h-4zM6 7h2v2H6zM6 11h8v2H6z\"></path>\n",
    "    </svg>Important\n",
    "  </h3>\n",
    "  <p style=\"margin: 0; font-family: inherit;\">\n",
    "    When comparing matrices, attention should be paid to the rounding of $e-...$ which is effectively zero.\n",
    "    </ul>            \n",
    "  </p>\n",
    "</div>"
   ]
  },
  {
   "cell_type": "markdown",
   "id": "f734c321-7ffa-4e9d-ac53-05c3b94c9051",
   "metadata": {},
   "source": [
    "<div style=\"font-family: 'Latin Modern Roman', Times, serif; font-size: 16px;\">\n",
    "    <p>\n",
    "    In what follows we use the function <span style=\"font-size: 16px;color: #FFA500\">matrix_of_integral_values()</span> instead of <span style=\"font-size: 16px;color: #FFA500\">period_matrix()</span> because it allows us to calculate periodic matrices of the second kind.\n",
    "    </p>\n",
    "</div>"
   ]
  },
  {
   "cell_type": "code",
   "execution_count": 170,
   "id": "ea4d7634-389d-4c4b-baed-aa6dce9b63bb",
   "metadata": {},
   "outputs": [
    {
     "name": "stdout",
     "output_type": "stream",
     "text": [
      "[    0.13887 - 0.65203*I -4.9304e-32 - 0.91224*I]\n",
      "[   -0.63929 + 0.27993*I 1.2326e-32 + 0.038339*I]\n",
      "\n",
      "[-5.9165e-31 + 0.39181*I      1.1744 + 0.26021*I]\n",
      "[ 2.9582e-31 - 0.52152*I     0.14583 + 0.24159*I]\n"
     ]
    }
   ],
   "source": [
    "# Extract the omega-periods (first two columns)\n",
    "omega = MofInt1[:, 0:2]\n",
    "\n",
    "# Extract the omega'-periods (last two columns)\n",
    "omegaP = MofInt1[:, 2:4]\n",
    "\n",
    "print(omega.n(digits=5))\n",
    "print()\n",
    "print(omegaP.n(digits=5))"
   ]
  },
  {
   "cell_type": "markdown",
   "id": "d488f256-dae5-4974-acb1-c8decd61098b",
   "metadata": {},
   "source": [
    "<div style=\"font-family: 'Latin Modern Roman', Times, serif; font-size: 16px;\">\n",
    "    <p>\n",
    "    Now we calculate the matrix\n",
    "    $$\n",
    "        \\tau=\\omega^{-1}\\omega'\n",
    "    $$\n",
    "    which belongs to the Siegel upper half-space. Hence it should satisfy two conditions:\n",
    "    <ul>\n",
    "        <li>Symmetry: $$ \\tau^T = \\tau$$ \n",
    "        <li>Positive definiteness of the imaginary part $$ Im(\\tau)>0$$\n",
    "    </ul>\n",
    "    </p>\n",
    "</div>"
   ]
  },
  {
   "cell_type": "code",
   "execution_count": 57,
   "id": "8b2347a8-e79d-4d50-8966-b969f7c08f38",
   "metadata": {},
   "outputs": [
    {
     "name": "stdout",
     "output_type": "stream",
     "text": [
      "[-0.27426 + 0.68797*I -0.12875 - 0.44998*I]\n",
      "[-0.12875 - 0.44998*I  -0.26172 + 1.6286*I]\n"
     ]
    }
   ],
   "source": [
    "tau= omega.inverse() * omegaP\n",
    "\n",
    "# Displaying the result\n",
    "print(tau.n(digits=5))"
   ]
  },
  {
   "cell_type": "code",
   "execution_count": 68,
   "id": "f16f3543-f668-4559-8017-b052908726be",
   "metadata": {},
   "outputs": [
    {
     "name": "stdout",
     "output_type": "stream",
     "text": [
      "[0.00000 0.00000]\n",
      "[0.00000 0.00000]\n"
     ]
    }
   ],
   "source": [
    "# Test of the symmetry\n",
    "print(tau-tau.transpose().n(digits=5))"
   ]
  },
  {
   "cell_type": "code",
   "execution_count": 105,
   "id": "7648064c-2c64-400e-8cb8-5a9e17d456a3",
   "metadata": {},
   "outputs": [
    {
     "data": {
      "text/plain": [
       "([1.8092301676485117879525277135, 0.50738559581458318283316727123], True)"
      ]
     },
     "execution_count": 105,
     "metadata": {},
     "output_type": "execute_result"
    }
   ],
   "source": [
    "# Test of positivity\n",
    "# Calculating the complex part of the tau matrix\n",
    "tauImag = tau.apply_map(lambda x: x.imag())\n",
    "\n",
    "# Calculate the eigenvalues\n",
    "eigenvalues = tauImag.eigenvalues()\n",
    "\n",
    "# Checking if all eigenvalues are positive\n",
    "all_positive = all(e > 0 for e in eigenvalues)\n",
    "\n",
    "# Displaying the result\n",
    "eigenvalues, all_positive"
   ]
  },
  {
   "cell_type": "markdown",
   "id": "377ca866-63d4-45b1-a8b1-ea33efaacdb5",
   "metadata": {},
   "source": [
    "<div style=\"font-family: 'Latin Modern Roman', Times, serif; font-size: 16px;\">\n",
    "<h1 style=\"font-size: 24px;\">Second Kind Periods</h1>\n",
    "</div>"
   ]
  },
  {
   "cell_type": "markdown",
   "id": "9e5a1ba1-d836-4292-8358-e6a5d49afc39",
   "metadata": {},
   "source": [
    "<div style=\"font-family: 'Latin Modern Roman', Times, serif; font-size: 16px;\">\n",
    "<p>\n",
    "To calculate the second kind period matrices, we need to calculate the following integrals along the canonical homology cycles $\\{ \\mathfrak{a}_i, \\mathfrak{b}_i\\}_{i=1}^g$\n",
    "    <div style=\"text-align: center;\">\n",
    "        $\\eta = (\\eta_{ij})= \\left( \\int_{\\mathfrak{a}_j}du_i \\right), \\quad \\eta' = (\\eta'_{ij})= \\left( \\int_{\\mathfrak{b}_j}du_i \\right). $\n",
    "    </div>\n",
    "</p>\n",
    "</div>"
   ]
  },
  {
   "cell_type": "code",
   "execution_count": 107,
   "id": "aaf2b4ff-55dc-4774-863a-af40f6a84d7d",
   "metadata": {},
   "outputs": [],
   "source": [
    "# meromorphic differentials base\n",
    "merbais=[x^2, 3*x^3 + 2*l2*x^2 + l4*x]"
   ]
  },
  {
   "cell_type": "code",
   "execution_count": 181,
   "id": "75b062bf-1ab3-42d0-a9dd-de5e2e5a1724",
   "metadata": {},
   "outputs": [
    {
     "name": "stdout",
     "output_type": "stream",
     "text": [
      "[     0.15166 + 0.17684*I  1.9722e-30 + 0.044142*I   1.3312e-30 - 0.30954*I      -7.0567 + 0.13270*I]\n",
      "[       4.5579 + 3.1115*I -1.5777e-29 - 0.047337*I    6.3109e-30 - 6.2703*I       -2.8512 + 3.1588*I]\n"
     ]
    }
   ],
   "source": [
    "MofInt2=S.matrix_of_integral_values(merbais)\n",
    "# Let's display the matrix in a shortened form so that it will be easy to see its structure\n",
    "print(MofInt2.n(digits=5))"
   ]
  },
  {
   "cell_type": "code",
   "execution_count": 184,
   "id": "e3e67681-300a-4c14-a4b1-989d5197ce2a",
   "metadata": {},
   "outputs": [
    {
     "name": "stdout",
     "output_type": "stream",
     "text": [
      "[     0.15166 + 0.17684*I  1.9722e-30 + 0.044142*I]\n",
      "[       4.5579 + 3.1115*I -1.5777e-29 - 0.047337*I]\n",
      "\n",
      "[1.3312e-30 - 0.30954*I    -7.0567 + 0.13270*I]\n",
      "[ 6.3109e-30 - 6.2703*I     -2.8512 + 3.1588*I]\n"
     ]
    }
   ],
   "source": [
    "# Extract the omega-periods (first two columns)\n",
    "eta = MofInt2[:, 0:2]\n",
    "\n",
    "# Extract the omega'-periods (last two columns)\n",
    "etaP = MofInt2[:, 2:4]\n",
    "\n",
    "print(eta.n(digits=5))\n",
    "print()\n",
    "print(etaP.n(digits=5))"
   ]
  },
  {
   "cell_type": "markdown",
   "id": "7d5de65b-14c2-4a2e-affa-f50bc1d58218",
   "metadata": {},
   "source": [
    "<div style=\"font-family: 'Latin Modern Roman', Times, serif; font-size: 16px;\">\n",
    "    <p>\n",
    "    We can count $\\kappa$, given by\n",
    "    $$\n",
    "        \\kappa=\\eta\\; \\omega^{-1}\n",
    "    $$\n",
    "    </p>\n",
    "</div>"
   ]
  },
  {
   "cell_type": "code",
   "execution_count": 185,
   "id": "89b36023-3ec0-4f22-8652-0b59edd9daa7",
   "metadata": {},
   "outputs": [
    {
     "name": "stdout",
     "output_type": "stream",
     "text": [
      "[-0.054140 - 0.011932*I   -0.13684 - 0.28392*I]\n",
      "[  -0.13684 - 0.28392*I     -4.4908 - 6.7557*I]\n"
     ]
    }
   ],
   "source": [
    "omega_inv=Matrix(omega).inverse()\n",
    "kappa = eta*omega_inv\n",
    "print(kappa.n(digits=5))"
   ]
  },
  {
   "cell_type": "markdown",
   "id": "c454c331-111d-4fb6-ab62-7f4f7b132b4b",
   "metadata": {},
   "source": [
    "<div style=\"font-family: 'Latin Modern Roman', Times, serif; font-size: 16px;\">\n",
    "<h1 style=\"font-size: 24px;\">Legendre relation</h1>\n",
    "</div>"
   ]
  },
  {
   "cell_type": "markdown",
   "id": "6ae497b9-b2d6-46e8-9c83-fbd176529b91",
   "metadata": {},
   "source": [
    "<div style=\"font-family: 'Latin Modern Roman', Times, serif; font-size: 16px;\">\n",
    "<p>\n",
    "    Now we can make another test. The not normalized period matrices of the first $\\omega$, $\\omega'$ and second $\\eta$, $\\eta'$ kinds should satisfy the Legendre relation\n",
    "    $$\n",
    "        \\Omega^T J \\Omega = 2\\pi i J\n",
    "    $$\n",
    "    where\n",
    "    $$\n",
    "        \\Omega=\n",
    "            \\begin{pmatrix}\n",
    "                \\omega && \\omega'\\\\\n",
    "                \\eta && \\eta'\\\\\n",
    "            \\end{pmatrix}, \\quad \n",
    "        J=        \n",
    "            \\begin{pmatrix}\n",
    "                0 && -1_g'\\\\\n",
    "                1_g && 0\\\\\n",
    "            \\end{pmatrix}\n",
    "    $$\n",
    "</p>\n",
    "</div>"
   ]
  },
  {
   "cell_type": "code",
   "execution_count": 123,
   "id": "c4ac05e0-31a4-4c2d-a377-3ede5929ec3d",
   "metadata": {},
   "outputs": [
    {
     "name": "stdout",
     "output_type": "stream",
     "text": [
      "Macierz Omega:\n",
      "[     0.13887 - 0.65203*I  -4.9304e-32 - 0.91224*I| -5.9165e-31 + 0.39181*I       1.1744 + 0.26021*I]\n",
      "[    -0.63929 + 0.27993*I  1.2326e-32 + 0.038339*I|  2.9582e-31 - 0.52152*I      0.14583 + 0.24159*I]\n",
      "[-------------------------------------------------+-------------------------------------------------]\n",
      "[     0.15166 + 0.17684*I  1.9722e-30 + 0.044142*I|  1.3312e-30 - 0.30954*I      -7.0567 + 0.13270*I]\n",
      "[       4.5579 + 3.1115*I -1.5777e-29 - 0.047337*I|   6.3109e-30 - 6.2703*I       -2.8512 + 3.1588*I]\n",
      "\n",
      "[0.00000 0.00000|-1.0000 0.00000]\n",
      "[0.00000 0.00000|0.00000 -1.0000]\n",
      "[---------------+---------------]\n",
      "[ 1.0000 0.00000|0.00000 0.00000]\n",
      "[0.00000  1.0000|0.00000 0.00000]\n"
     ]
    }
   ],
   "source": [
    "# Omega matrix\n",
    "Omega = block_matrix([\n",
    "    [omega, omegaP],\n",
    "    [eta, etaP]\n",
    "])\n",
    "\n",
    "# Converting lists to matrices\n",
    "zeroM = Matrix([[0.0, 0.0], [0.0, 0.0]])\n",
    "mOneg = Matrix([[-1.0, 0.0], [0.0, -1.0]])\n",
    "Oneg = Matrix([[1.0, 0.0], [0.0, 1.0]])\n",
    "\n",
    "# J matrix\n",
    "J = block_matrix([\n",
    "    [zeroM, mOneg],\n",
    "    [Oneg, zeroM]\n",
    "])    \n",
    "\n",
    "\n",
    "print(\"Omega Matrix:\")\n",
    "print(Omega.n(digits=5))\n",
    "print()\n",
    "print(\"J Matrix:\")\n",
    "print(J.n(digits=5))"
   ]
  },
  {
   "cell_type": "code",
   "execution_count": 164,
   "id": "be130686-4513-4df3-9db1-596a99cdc773",
   "metadata": {},
   "outputs": [
    {
     "name": "stdout",
     "output_type": "stream",
     "text": [
      "[                   0.00000 -1.2143e-17 + 2.4286e-17*I  2.2204e-16 - 8.8818e-16*I -2.2204e-16 - 8.8818e-16*I]\n",
      "[ 1.3878e-17 - 2.7756e-17*I  6.5052e-19 - 1.7516e-46*I -2.7756e-17 + 9.9952e-30*I                 4.1633e-17]\n",
      "[-2.2204e-16 + 8.8818e-16*I  1.7347e-17 - 9.9952e-30*I                    0.00000               2.2204e-16*I]\n",
      "[ 2.2204e-16 + 6.6613e-16*I                -3.6429e-17              -2.2204e-16*I                -4.4409e-16]\n"
     ]
    }
   ],
   "source": [
    "pi = np.pi\n",
    "left=Omega.transpose()*J*Omega\n",
    "right = 2*pi*I*J\n",
    "result = left - right\n",
    "print(result.n(digits=5))"
   ]
  },
  {
   "cell_type": "markdown",
   "id": "0eb0f59c-844a-4ef0-a3c2-1d6a4d87eaf3",
   "metadata": {},
   "source": [
    "<div style=\"font-family: 'Latin Modern Roman', Times, serif; font-size: 16px;\">\n",
    "<p>\n",
    "    Let's make a function that will save it in a more visually accessible form.\n",
    "</p>\n",
    "</div>    "
   ]
  },
  {
   "cell_type": "code",
   "execution_count": 165,
   "id": "5f0926fc-3afb-463f-8bc9-8f63982cb86a",
   "metadata": {},
   "outputs": [
    {
     "name": "stdout",
     "output_type": "stream",
     "text": [
      "[0 0 0 0]\n",
      "[0 0 0 0]\n",
      "[0 0 0 0]\n",
      "[0 0 0 0]\n"
     ]
    }
   ],
   "source": [
    "import numpy as np\n",
    "\n",
    "# Rounding a matrix numerically to 5 decimal places\n",
    "result_rounded = result.n(digits=5)\n",
    "\n",
    "# Function for rounding small numbers\n",
    "def chop_sage(x, tol=1e-10):\n",
    "    return 0 if abs(x) < tol else x\n",
    "\n",
    "# We apply our chop function to the matrix\n",
    "result_chopped = result_rounded.apply_map(lambda x: chop_sage(x, tol=1e-10))\n",
    "\n",
    "# Wyświetlamy wynik\n",
    "print(result_chopped)"
   ]
  },
  {
   "cell_type": "markdown",
   "id": "59eaf880-05a5-4f89-b6e5-cf416c06e7d4",
   "metadata": {},
   "source": [
    "<div style=\"font-family: 'Latin Modern Roman', Times, serif; font-size: 16px;\">\n",
    "<h1 style=\"font-size: 32px;\">Theta function</h1>\n",
    "<p>\n",
    "\n",
    "</p>\n",
    "</div>"
   ]
  },
  {
   "cell_type": "markdown",
   "id": "122db307-0708-4a21-aa81-184814477d46",
   "metadata": {},
   "source": [
    "<div style=\"font-family: 'Latin Modern Roman', Times, serif; font-size: 16px; border: 1px solid white; padding: 15px; border-radius: 5px; \">\n",
    "    <h3 style=\"font-size: 20px;\">Def.</h3>\n",
    "    <p>\n",
    "        A Riemann <i>theta function</i> $\\theta(v;\\tau)$ defined in terms of normalized coordinates $v$ and mormalized period matrix $\\tau$, is given by\n",
    "        $$\n",
    "            \\theta(v;\\tau) = \\sum_{n\\in\\mathbb{Z}^g} e^{i\\pi n^T \\tau n + 2i \\pi n^T v}.\n",
    "        $$\n",
    "        A theta function with characteristic $[\\varepsilon ]$ is defined by\n",
    "        $$\n",
    "            \\theta[\\varepsilon](v;\\tau) = e^{i\\pi (\\frac{1}{2}\\varepsilon'^T) \\tau (\\frac{1}{2}\\varepsilon') + 2i \\pi (v+\\frac{1}{2}\\varepsilon)^T(\\frac{1}{2}\\varepsilon') } \\theta\\left(v+\\frac{1}{2}\\varepsilon + \\tau(\\frac{1}{2}\\varepsilon') ;\\tau\\right).\n",
    "        $$\n",
    "        where a characteristic is a $2\\times g$ matrix $[\\varepsilon]=(\\varepsilon', \\varepsilon)^T$ with real values within the interval [0,2).\n",
    "    </p>    \n",
    "    </div>\n",
    "\n",
    "</div>"
   ]
  },
  {
   "cell_type": "markdown",
   "id": "01d1f609-3d6d-4271-879d-962a23ddc3d3",
   "metadata": {},
   "source": [
    "<div style=\"font-family: 'Latin Modern Roman', Times, serif; font-size: 16px;\">\n",
    "<p>\n",
    "    Let's code the theta function with the characteristic\n",
    "</p>\n",
    "</div>   \n"
   ]
  },
  {
   "cell_type": "code",
   "execution_count": 190,
   "id": "a1ed0acd-6bc8-473a-bb8e-de186db611c7",
   "metadata": {},
   "outputs": [],
   "source": [
    "def ThetaCh(epsilon_m, v, tau, NAcc):\n",
    "    total_sum = 0\n",
    "    # Zakładamy, że epsilon_m to lista [epsilon1, epsilon2] gdzie epsilon1 i epsilon2 są wektorami\n",
    "    epsilon1 = epsilon_m[0]\n",
    "    epsilon2 = epsilon_m[1]\n",
    "    \n",
    "    # Iterujemy po dwóch indeksach od -NAcc do NAcc\n",
    "    for n1 in range(-NAcc, NAcc+1):\n",
    "        for n2 in range(-NAcc, NAcc+1):\n",
    "            # Tworzymy wektor n\n",
    "            n = vector([n1, n2])\n",
    "                    \n",
    "            # Pierwszy składnik sumy\n",
    "            term1 = I * pi * (n + 1/2 * vector(epsilon1)) * (tau * (n + 1/2 * vector(epsilon1)))\n",
    "                    \n",
    "            # Drugi składnik sumy\n",
    "            term2 = 2 * I * pi * (n + 1/2 * vector(epsilon1)) * (v + 1/2 * vector(epsilon2))\n",
    "                    \n",
    "            # Dodajemy exp z tych składników do sumy\n",
    "            total_sum += exp(term1 + term2)\n",
    "    \n",
    "    return total_sum"
   ]
  },
  {
   "cell_type": "code",
   "execution_count": 191,
   "id": "200fa95e-fbc8-4dc1-b16b-ab362959b346",
   "metadata": {},
   "outputs": [
    {
     "name": "stdout",
     "output_type": "stream",
     "text": [
      "3.535533905932734 + 3.5355339059327457*I\n"
     ]
    }
   ],
   "source": [
    "# Definiowanie przykładowych danych\n",
    "epsilon_m = [vector([1, 0]), vector([0, 1])]\n",
    "v = vector([1, 0])\n",
    "tau = Matrix([[1, 0], [1, 1]])\n",
    "NAcc = 2\n",
    "\n",
    "# Wywołanie funkcji\n",
    "result = ThetaCh(epsilon_m, v, tau, NAcc)\n",
    "print(result)"
   ]
  },
  {
   "cell_type": "code",
   "execution_count": 192,
   "id": "9d2716a7-53d4-45ee-826f-98c184c6534e",
   "metadata": {},
   "outputs": [
    {
     "name": "stdout",
     "output_type": "stream",
     "text": [
      "1.1333840670579087 - 3.4508446330408045e-17*I\n"
     ]
    }
   ],
   "source": [
    "# Definiowanie przykładowych danych\n",
    "epsilon_m = [vector([2, 4]), vector([4, 2])]\n",
    "v = vector([1, 2])\n",
    "tau = Matrix([[I, 0], [0, I]])\n",
    "NAcc = 2\n",
    "\n",
    "# Wywołanie funkcji\n",
    "result = ThetaCh(epsilon_m, v, tau, NAcc)\n",
    "print(result)"
   ]
  },
  {
   "cell_type": "code",
   "execution_count": null,
   "id": "6776d2ca-86e1-4108-a057-40d8e5f67d19",
   "metadata": {},
   "outputs": [],
   "source": [
    "ThetaCh[\\[Epsilon]m_, v_, \\[Tau]_, NAcc_] := \n",
    " Sum[Exp[I Pi ({Subscript[n, 1], Subscript[n, 2], Subscript[n, 3], \n",
    "         Subscript[n, 4]} + \n",
    "        1/2 \\[Epsilon]m[[\n",
    "          1]]) . (\\[Tau] . ({Subscript[n, 1], Subscript[n, 2], \n",
    "           Subscript[n, 3], Subscript[n, 4]} + \n",
    "          1/2 \\[Epsilon]m[[1]])) + \n",
    "    2 I Pi ({Subscript[n, 1], Subscript[n, 2], Subscript[n, 3], \n",
    "         Subscript[n, 4]} + 1/2 \\[Epsilon]m[[1]]) . (v + \n",
    "        1/2 \\[Epsilon]m[[2]])], {Subscript[n, 4], -NAcc, \n",
    "   NAcc}, {Subscript[n, 3], -NAcc, NAcc}, {Subscript[n, 2], -NAcc, \n",
    "   NAcc}, {Subscript[n, 1], -NAcc, NAcc}]"
   ]
  }
 ],
 "metadata": {
  "kernelspec": {
   "display_name": "SageMath 10.4",
   "language": "sage",
   "name": "sagemath-10.4"
  },
  "language_info": {
   "codemirror_mode": {
    "name": "ipython",
    "version": 3
   },
   "file_extension": ".py",
   "mimetype": "text/x-python",
   "name": "python",
   "nbconvert_exporter": "python",
   "pygments_lexer": "ipython3",
   "version": "3.12.4"
  }
 },
 "nbformat": 4,
 "nbformat_minor": 5
}
