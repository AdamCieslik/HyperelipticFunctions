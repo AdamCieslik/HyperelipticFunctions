{
 "cells": [
  {
   "cell_type": "markdown",
   "id": "66ca7288-00a7-4e20-86da-c61e572bf258",
   "metadata": {},
   "source": [
    "<div style=\"font-family: 'Latin Modern Roman', Times, serif; font-size: 16px;\">\n",
    "<p>\n",
    "In this approach we use the <i>RiemannTheta</i> package:  \n",
    "  \n",
    "https://www.cecm.sfu.ca/~nbruin/RiemannTheta/#riemanntheta\n",
    "  \n",
    "which provides a definition of the Riemann theta function. We will see what effect this has on our results\n",
    "</p>    \n",
    "</div>"
   ]
  },
  {
   "cell_type": "markdown",
   "id": "f8e6edda-d0c2-49af-bceb-06d1694b4934",
   "metadata": {},
   "source": [
    "<div>\n",
    "<h3 style=\"font-family: 'Latin Modern Roman', Times, serif; font-size: 24px;\"> 1.2. Hyperelliptic curve</h3>\n",
    "</div>"
   ]
  },
  {
   "cell_type": "code",
   "execution_count": 1,
   "id": "a7eca643-2cc3-4c46-a517-60aa41c60fb0",
   "metadata": {},
   "outputs": [],
   "source": [
    "from sage.schemes.riemann_surfaces.riemann_surface import RiemannSurface\n",
    "from riemann_theta.riemann_theta import RiemannTheta"
   ]
  },
  {
   "cell_type": "code",
   "execution_count": 2,
   "id": "9fc7bcef-c87c-479f-9beb-5573a7d554a1",
   "metadata": {},
   "outputs": [],
   "source": [
    "# Defines the lambda coefficients\n",
    "lambda0 = 1.0\n",
    "lambda2 = 12.0\n",
    "lambda4 = 2.0\n",
    "lambda6  = 0.9\n",
    "lambda8  = 21.0\n",
    "lambda10  = 10.0"
   ]
  },
  {
   "cell_type": "code",
   "execution_count": 3,
   "id": "b08ea32b-1c8f-40ac-8ac8-30d73907fd96",
   "metadata": {},
   "outputs": [],
   "source": [
    "# Rational approximation\n",
    "l0 = lambda0.nearby_rational(max_error=1e-10)\n",
    "l2 = lambda2.nearby_rational(max_error=1e-10)\n",
    "l4 = lambda4.nearby_rational(max_error=1e-10)\n",
    "l6 = lambda6.nearby_rational(max_error=1e-10)\n",
    "l8 = lambda8.nearby_rational(max_error=1e-10)\n",
    "l10 = lambda10.nearby_rational(max_error=1e-10)"
   ]
  },
  {
   "cell_type": "code",
   "execution_count": 4,
   "id": "cd996b86-8da0-4663-b06e-528a3ab317a3",
   "metadata": {},
   "outputs": [],
   "source": [
    "R.<x, y> = PolynomialRing(QQ, 2)"
   ]
  },
  {
   "cell_type": "code",
   "execution_count": 5,
   "id": "b4bd3e9a-a0ab-4796-ae6d-226d51547aab",
   "metadata": {},
   "outputs": [],
   "source": [
    "# Defining the polynomial f\n",
    "f = -y^2 + l0*x^5 + l2*x^4 + l4*x^3 + l6*x^2 + l8*x + l10"
   ]
  },
  {
   "cell_type": "markdown",
   "id": "3b2af32c-31de-41b0-aa76-468c87864b95",
   "metadata": {},
   "source": [
    "<div>\n",
    "<h3 style=\"font-family: 'Latin Modern Roman', Times, serif; font-size: 24px;\">1.3. Riemann surface</h3>\n",
    "</div>"
   ]
  },
  {
   "cell_type": "code",
   "execution_count": 7,
   "id": "87fc5e90-cd65-40fc-9ff6-9eff93731c57",
   "metadata": {},
   "outputs": [],
   "source": [
    "S = RiemannSurface(f, prec=100)"
   ]
  },
  {
   "cell_type": "markdown",
   "id": "bb1f7882-814f-4ae2-9039-504749f5fc4a",
   "metadata": {},
   "source": [
    "<div>\n",
    "<h3 style=\"font-family: 'Latin Modern Roman', Times, serif; font-size: 24px;\">1.4. Branch points</h3>\n",
    "</div>"
   ]
  },
  {
   "cell_type": "code",
   "execution_count": 8,
   "id": "34a08fd4-b6c1-4419-9cb1-8c74c25027af",
   "metadata": {},
   "outputs": [],
   "source": [
    "def find_branch_points(ll0, ll2, ll4, ll6, ll8, ll10):\n",
    "    # We define a ring of polynomials over the field of complex numbers\n",
    "    CC_poly.<x> = PolynomialRing(CC)\n",
    "    \n",
    "    # We create a polynomial\n",
    "    pol = ll0*x^5 + ll2*x^4 + ll4*x^3 + ll6*x^2 + ll8*x + ll10\n",
    "    \n",
    "    # We find roots\n",
    "    roots = pol.roots(multiplicities=False)\n",
    "    \n",
    "    # We add a point at infinity if the degree of the polynomial is odd\n",
    "    if pol.degree() % 2 == 1:\n",
    "        roots.append(infinity)\n",
    "    \n",
    "    return roots"
   ]
  },
  {
   "cell_type": "code",
   "execution_count": 9,
   "id": "f3aa95cc-1782-46a3-a668-c2788ba90f55",
   "metadata": {},
   "outputs": [
    {
     "name": "stdout",
     "output_type": "stream",
     "text": [
      "Branch points: [-11.8251161409669, -1.05264146874943, -0.512317960119317, 0.695037784917798 - 1.04164546422316*I, 0.695037784917798 + 1.04164546422316*I, +Infinity]\n"
     ]
    }
   ],
   "source": [
    "# Example of use:\n",
    "\n",
    "branch_points = find_branch_points(l0, l2, l4, l6, l8, l10)\n",
    "print(\"Branch points:\", branch_points)"
   ]
  },
  {
   "cell_type": "markdown",
   "id": "a3becd57-1de0-4235-a295-9a5fed2c29c3",
   "metadata": {},
   "source": [
    "<div style=\"font-family: 'Latin Modern Roman', Times, serif; font-size: 16px;\">\n",
    "<h1 style=\"font-size: 32px;\">2. First and Second Kind Periods</h1>\n",
    "<p>"
   ]
  },
  {
   "cell_type": "code",
   "execution_count": 10,
   "id": "83c71dfc-f41b-4e6d-abf7-ba20eee0bcd5",
   "metadata": {},
   "outputs": [
    {
     "data": {
      "text/plain": [
       "[1, x]"
      ]
     },
     "execution_count": 10,
     "metadata": {},
     "output_type": "execute_result"
    }
   ],
   "source": [
    "S.cohomology_basis()"
   ]
  },
  {
   "cell_type": "markdown",
   "id": "15363ff5-8f9d-4be3-8d03-25043b692d18",
   "metadata": {},
   "source": [
    "<div style=\"font-family: 'Latin Modern Roman', Times, serif; font-size: 16px;\">\n",
    "<h2 style=\"font-size: 24px;\">2.1. First  Kind Periods</h2>\n",
    "</div>"
   ]
  },
  {
   "cell_type": "code",
   "execution_count": 11,
   "id": "955523d7-2113-4be0-afd6-3989355ba885",
   "metadata": {},
   "outputs": [],
   "source": [
    "# holomorphic differentials base\n",
    "holbais=[x,x^0]"
   ]
  },
  {
   "cell_type": "code",
   "execution_count": 23,
   "id": "e9ff5d54-3cd1-4c9e-912f-4972f6f3301d",
   "metadata": {},
   "outputs": [
    {
     "name": "stdout",
     "output_type": "stream",
     "text": [
      "[     0.13760 - 0.66033*I  -4.9304e-32 - 0.91722*I  -3.9443e-31 + 0.40344*I       1.1746 + 0.25689*I]\n",
      "[    -0.62448 + 0.28220*I -5.5467e-32 + 0.038862*I  -4.9304e-32 - 0.52554*I      0.14607 + 0.24334*I]\n"
     ]
    }
   ],
   "source": [
    "MofInt1=S.matrix_of_integral_values(holbais)\n",
    "# Let's display the matrix in a shortened form so that it will be easy to see its structure\n",
    "print(MofInt1.n(digits=5))"
   ]
  },
  {
   "cell_type": "code",
   "execution_count": 24,
   "id": "04da1b40-2b3e-43e9-b357-c68490f5c996",
   "metadata": {},
   "outputs": [
    {
     "name": "stdout",
     "output_type": "stream",
     "text": [
      "[   -0.62448 + 0.28220*I 4.3141e-32 + 0.038862*I -4.9304e-32 - 0.52554*I     0.14607 + 0.24334*I]\n",
      "[    0.13760 - 0.66033*I  2.2187e-31 - 0.91722*I -5.9165e-31 + 0.40344*I      1.1746 + 0.25689*I]\n"
     ]
    }
   ],
   "source": [
    "pM=S.period_matrix()\n",
    "print(pM.n(digits=5))"
   ]
  },
  {
   "cell_type": "code",
   "execution_count": 25,
   "id": "518dce85-bb53-4c77-b4c6-6337e9a0de33",
   "metadata": {},
   "outputs": [],
   "source": [
    "def format_complex(z, digits=5, threshold=1e-10):\n",
    "    real = float(z.real())\n",
    "    imag = float(z.imag())\n",
    "    \n",
    "    # We round very small values to zero\n",
    "    if abs(real) < threshold:\n",
    "        real = 0\n",
    "        if abs(imag) < threshold:\n",
    "            return \"0\"\n",
    "        # We format the result  \n",
    "        return f\"{imag:.{digits}f}*I\"\n",
    "    \n",
    "    if abs(imag) < threshold:\n",
    "        # We format the result\n",
    "        return f\"{real:.{digits}f}\"\n",
    "\n",
    "    sign = \"+\" if imag > 0 else \"-\"\n",
    "    return f\"{real:.{digits}f} {sign} {abs(imag):.{digits}f}*I\"\n",
    "\n",
    "\n",
    "def ApproxM(matrix, digits=5, threshold=1e-10):\n",
    "    rows, cols = matrix.nrows(), matrix.ncols()\n",
    "    \n",
    "    for i in range(rows):\n",
    "        formatted_row = [format_complex(matrix[i,j], digits, threshold) for j in range(cols)]\n",
    "        print(\"\\t\".join(formatted_row))"
   ]
  },
  {
   "cell_type": "code",
   "execution_count": 26,
   "id": "7ea4472b-dcb4-469c-aeb4-7fbef12b2458",
   "metadata": {},
   "outputs": [
    {
     "name": "stdout",
     "output_type": "stream",
     "text": [
      "-0.62448 + 0.28220*I\t0.03886*I\t-0.52554*I\t0.14607 + 0.24334*I\n",
      "0.13760 - 0.66033*I\t-0.91722*I\t0.40344*I\t1.17459 + 0.25689*I\n"
     ]
    }
   ],
   "source": [
    "ApproxM(pM)"
   ]
  },
  {
   "cell_type": "code",
   "execution_count": 27,
   "id": "fe06d954-b46e-40a7-bf3e-2174dabfbce5",
   "metadata": {},
   "outputs": [
    {
     "name": "stdout",
     "output_type": "stream",
     "text": [
      "0.13760 - 0.66033*I\t-0.91722*I\t0.40344*I\t1.17459 + 0.25689*I\n",
      "-0.62448 + 0.28220*I\t0.03886*I\t-0.52554*I\t0.14607 + 0.24334*I\n"
     ]
    }
   ],
   "source": [
    "ApproxM(MofInt1)"
   ]
  },
  {
   "cell_type": "code",
   "execution_count": 28,
   "id": "6a6d98c8-f847-4e50-9c2d-2f98e0ae9a5c",
   "metadata": {},
   "outputs": [
    {
     "name": "stdout",
     "output_type": "stream",
     "text": [
      "0.13760 - 0.66033*I\t-0.91722*I\n",
      "-0.62448 + 0.28220*I\t0.03886*I\n",
      "\n",
      "0.40344*I\t1.17459 + 0.25689*I\n",
      "-0.52554*I\t0.14607 + 0.24334*I\n"
     ]
    }
   ],
   "source": [
    "# Extract the omega-periods (first two columns)\n",
    "omega = MofInt1[:, 0:2]\n",
    "\n",
    "# Extract the omega'-periods (last two columns)\n",
    "omegaP = MofInt1[:, 2:4]\n",
    "\n",
    "ApproxM(omega)\n",
    "print()\n",
    "ApproxM(omegaP)"
   ]
  },
  {
   "cell_type": "code",
   "execution_count": 29,
   "id": "8c2cb7c6-2964-4c1e-a7a3-8e47c1f26005",
   "metadata": {},
   "outputs": [
    {
     "name": "stdout",
     "output_type": "stream",
     "text": [
      "[-0.28894 + 0.70313*I -0.12636 - 0.46286*I]\n",
      "[-0.12636 - 0.46286*I  -0.25854 + 1.6328*I]\n"
     ]
    }
   ],
   "source": [
    "tau= omega.inverse() * omegaP\n",
    "\n",
    "# Displaying the result\n",
    "print(tau.n(digits=5))"
   ]
  },
  {
   "cell_type": "code",
   "execution_count": 30,
   "id": "f3f5aacc-560a-4263-9808-448edec52bb4",
   "metadata": {},
   "outputs": [
    {
     "name": "stdout",
     "output_type": "stream",
     "text": [
      "[0.00000 0.00000]\n",
      "[0.00000 0.00000]\n"
     ]
    }
   ],
   "source": [
    "# Test of the symmetry\n",
    "print(tau-tau.transpose().n(digits=5))"
   ]
  },
  {
   "cell_type": "code",
   "execution_count": 31,
   "id": "72f0c613-776d-488d-8444-df632ed649c2",
   "metadata": {},
   "outputs": [
    {
     "data": {
      "text/plain": [
       "([1.8239307353738361091933820951, 0.51198440541283078719843599741], True)"
      ]
     },
     "execution_count": 31,
     "metadata": {},
     "output_type": "execute_result"
    }
   ],
   "source": [
    "# Test of positivity\n",
    "# Calculating the complex part of the tau matrix\n",
    "tauImag = tau.apply_map(lambda x: x.imag())\n",
    "\n",
    "# Calculate the eigenvalues\n",
    "eigenvalues = tauImag.eigenvalues()\n",
    "\n",
    "# Checking if all eigenvalues are positive\n",
    "all_positive = all(e > 0 for e in eigenvalues)\n",
    "\n",
    "# Displaying the result\n",
    "eigenvalues, all_positive"
   ]
  },
  {
   "cell_type": "markdown",
   "id": "4d2f10c4-5d58-41ef-ad4c-7a39833f3247",
   "metadata": {},
   "source": [
    "<div style=\"font-family: 'Latin Modern Roman', Times, serif; font-size: 16px;\">\n",
    "<h2 style=\"font-size: 24px;\">2.2. Second Kind Periods</h2>\n",
    "</div>"
   ]
  },
  {
   "cell_type": "code",
   "execution_count": 33,
   "id": "63537a18-f4d8-4c85-8215-0b1f9abd640c",
   "metadata": {},
   "outputs": [],
   "source": [
    "# meromorphic differentials base\n",
    "merbais=[x^2, 3*l0*x^3 + 2*l2*x^2 + l4*x]"
   ]
  },
  {
   "cell_type": "code",
   "execution_count": 34,
   "id": "a9a3f54d-e3a4-49b6-806d-513aa6af0d70",
   "metadata": {},
   "outputs": [
    {
     "name": "stdout",
     "output_type": "stream",
     "text": [
      "0.15574 + 0.20627*I\t0.08372*I\t-0.32882*I\t-7.07532 + 0.12255*I\n",
      "4.74867 + 3.09497*I\t-0.04832*I\t-6.23827*I\t-2.96268 + 3.14329*I\n"
     ]
    }
   ],
   "source": [
    "MofInt2=S.matrix_of_integral_values(merbais)\n",
    "# Let's display the matrix in a shortened form so that it will be easy to see its structure\n",
    "ApproxM(MofInt2)"
   ]
  },
  {
   "cell_type": "code",
   "execution_count": 35,
   "id": "8428b7e3-e56a-4a21-86e3-2019be1ae9b8",
   "metadata": {},
   "outputs": [
    {
     "name": "stdout",
     "output_type": "stream",
     "text": [
      "0.15574 + 0.20627*I\t0.08372*I\n",
      "4.74867 + 3.09497*I\t-0.04832*I\n",
      "\n",
      "-0.32882*I\t-7.07532 + 0.12255*I\n",
      "-6.23827*I\t-2.96268 + 3.14329*I\n"
     ]
    }
   ],
   "source": [
    "# Extract the omega-periods (first two columns)\n",
    "eta = MofInt2[:, 0:2]\n",
    "\n",
    "# Extract the omega'-periods (last two columns)\n",
    "etaP = MofInt2[:, 2:4]\n",
    "\n",
    "ApproxM(eta)\n",
    "print()\n",
    "ApproxM(etaP)"
   ]
  },
  {
   "cell_type": "code",
   "execution_count": 36,
   "id": "e37b0ec5-d6db-419e-aa89-7e4eb44df31f",
   "metadata": {},
   "outputs": [
    {
     "name": "stdout",
     "output_type": "stream",
     "text": [
      "-0.09763 - 0.01261*I\t-0.14978 - 0.29754*I\n",
      "-0.14978 - 0.29754*I\t-4.77835 - 7.02263*I\n"
     ]
    }
   ],
   "source": [
    "omega_inv=Matrix(omega).inverse()\n",
    "kappa = eta*omega_inv\n",
    "ApproxM(kappa)"
   ]
  },
  {
   "cell_type": "markdown",
   "id": "27bbd0bc-3ff5-485b-afc6-40d527fef2ac",
   "metadata": {},
   "source": [
    "<div style=\"font-family: 'Latin Modern Roman', Times, serif; font-size: 16px;\">\n",
    "<h1 style=\"font-size: 24px;\">3. Legendre relation</h1>\n",
    "</div>"
   ]
  },
  {
   "cell_type": "code",
   "execution_count": 37,
   "id": "6a3d87a7-3ce9-4d60-90a3-ce2e6816abab",
   "metadata": {},
   "outputs": [
    {
     "name": "stdout",
     "output_type": "stream",
     "text": [
      "Omega Matrix:\n",
      "[     0.13760 - 0.66033*I  -4.9304e-32 - 0.91722*I| -3.9443e-31 + 0.40344*I       1.1746 + 0.25689*I]\n",
      "[    -0.62448 + 0.28220*I -5.5467e-32 + 0.038862*I| -4.9304e-32 - 0.52554*I      0.14607 + 0.24334*I]\n",
      "[-------------------------------------------------+-------------------------------------------------]\n",
      "[     0.15574 + 0.20627*I  7.8886e-31 + 0.083724*I| -8.3816e-31 - 0.32882*I      -7.0753 + 0.12255*I]\n",
      "[       4.7487 + 3.0950*I  1.1360e-28 - 0.048319*I|   2.2088e-29 - 6.2383*I       -2.9627 + 3.1433*I]\n",
      "\n",
      "J Matrix:\n",
      "[0.00000 0.00000|-1.0000 0.00000]\n",
      "[0.00000 0.00000|0.00000 -1.0000]\n",
      "[---------------+---------------]\n",
      "[ 1.0000 0.00000|0.00000 0.00000]\n",
      "[0.00000  1.0000|0.00000 0.00000]\n"
     ]
    }
   ],
   "source": [
    "# Omega matrix\n",
    "Omega = block_matrix([\n",
    "    [omega, omegaP],\n",
    "    [eta, etaP]\n",
    "])\n",
    "\n",
    "# Converting lists to matrices\n",
    "zeroM = Matrix([[0.0, 0.0], [0.0, 0.0]])\n",
    "mOneg = Matrix([[-1.0, 0.0], [0.0, -1.0]])\n",
    "Oneg = Matrix([[1.0, 0.0], [0.0, 1.0]])\n",
    "\n",
    "# J matrix\n",
    "J = block_matrix([\n",
    "    [zeroM, mOneg],\n",
    "    [Oneg, zeroM]\n",
    "])    \n",
    "\n",
    "\n",
    "print(\"Omega Matrix:\")\n",
    "print(Omega.n(digits=5))\n",
    "print()\n",
    "print(\"J Matrix:\")\n",
    "print(J.n(digits=5))"
   ]
  },
  {
   "cell_type": "code",
   "execution_count": 38,
   "id": "18e74f6f-a7ef-4f91-b040-680438e8afd2",
   "metadata": {},
   "outputs": [
    {
     "name": "stdout",
     "output_type": "stream",
     "text": [
      "0\t0\t0\t0\n",
      "0\t0\t0\t0\n",
      "0\t0\t0\t0\n",
      "0\t0\t0\t0\n"
     ]
    }
   ],
   "source": [
    "import numpy as np\n",
    "\n",
    "pi = np.pi\n",
    "left=Omega.transpose()*J*Omega\n",
    "right = 2*pi*I*J\n",
    "result = left - right\n",
    "ApproxM(result)"
   ]
  },
  {
   "cell_type": "markdown",
   "id": "921a3a13-44a2-4820-8d2b-022452090ab4",
   "metadata": {},
   "source": [
    "<div style=\"font-family: 'Latin Modern Roman', Times, serif; font-size: 16px;\">\n",
    "<h1 style=\"font-size: 32px;\">4. Theta function</h1>\n",
    "<p>\n",
    "\n",
    "</p>\n",
    "</div>"
   ]
  },
  {
   "cell_type": "markdown",
   "id": "424d6f20-64e1-4482-9d85-f344e90d4df3",
   "metadata": {},
   "source": [
    "<div style=\"background-color:  rgba(153, 204, 255, 0.25); \n",
    "    font-family: 'Latin Modern Roman', Times, serif; font-size: 16px; border: 1px solid  rgb(0, 128,255); padding: 15px; border-radius: 5px; \">\n",
    "    <h4 style=\"font-size: 20px;color: rgb(0, 128,255);\">Note 1.</h4>\n",
    "    <p>\n",
    "        \n",
    "Evaluate Riemann theta function with characteristic and derivatives.\n",
    "\n",
    "`INPUT`: - z – vector; optional (default 0). Point to evaluate theta function at. - `char` – list or vector; optional (default 0). Characteristic.\n",
    "\n",
    "The characteristic can either be specified as a list `[[eps_1, ...,eps_g],[delta_1, ..., delta_g],N]`, where `N` is the level of the characteristic and the `eps_i, delta_j` are integers describing the characteristic, or as a ```2*g`-dimensional vector over ``ZZ/ N*ZZ```. In the latter case, the level N is read off from the base ring and the vector is taken to be `[eps_1, ..., eps_g, delta_1, ..., delta_g]`.\n",
    "\n",
    "- `derivs` – list; optional (default []). Derivatives. It can be a list\n",
    "of integers `[i_1,...,i_n]`, in which case it is taken to mean the derivative of order `n`, obtained by taking the partial derivative with respect to z`[i_1], ..., z[i_n]`. Alternatively, it can be a list of lists of integers, in which case the values of the derivatives indicated by the members of the list are returned as a tuple, in order.\n",
    "\n",
    "- `tol` – real number; optional. Tolerance allowed in approximation. The default is\n",
    "the tolerance indicated by the precision of the base ring. Note that the tolerance controlled is the tolerance in the approximation of the periodic part of the Riemann Theta function (see [DHBvHS2004]). Furthermore, floating point rounding in iterated summations may perturb the lower bits.\n",
    "\n",
    "`OUTPUT`: A complex number of a tuple of them; the value(s) of the indicated Riemann Theta function(s).\n",
    "\n",
    "`EXAMPLE`:\n",
    "```\n",
    "sage: from riemann_theta.riemann_theta import RiemannTheta\n",
    "sage: RT=RiemannTheta(matrix(CC,2,2,[2*I,0,0,3*I]))\n",
    "sage: RT(z=(0,0),char=[[1,0],[0,1],2],derivs=[0,0,0]).abs() # abs_tol = 1e-15\n",
    "2.88494706892332e-16\n",
    "```\n",
    "\n",
    "</pre>\n",
    "</div>"
   ]
  },
  {
   "cell_type": "code",
   "execution_count": 44,
   "id": "813702e8-d1ef-42ee-9569-cb544adf12da",
   "metadata": {},
   "outputs": [
    {
     "data": {
      "text/plain": [
       "1.18034044830161 + 5.90898167305014e-22*I"
      ]
     },
     "execution_count": 44,
     "metadata": {},
     "output_type": "execute_result"
    }
   ],
   "source": [
    "tautest=matrix(CC,2,2,[I,0,0,I])\n",
    "RT=RiemannTheta(tautest)\n",
    "RT(z=(1,2),char=[[4,8],[8,4],2])"
   ]
  },
  {
   "cell_type": "markdown",
   "id": "9b3346da-3ec2-4468-ab79-9a03c60a09d2",
   "metadata": {},
   "source": [
    "<div style=\"font-family: 'Latin Modern Roman', Times, serif; font-size: 16px;\">\n",
    "<h1 style=\"font-size: 24px;\">5. Characteristics of branch points</h1>\n",
    "</div>"
   ]
  },
  {
   "cell_type": "code",
   "execution_count": 45,
   "id": "e8600a2d-dd49-41df-aa60-0e1875b81251",
   "metadata": {},
   "outputs": [
    {
     "name": "stdout",
     "output_type": "stream",
     "text": [
      "[1 0]\n",
      "[0 0]\n",
      "\n",
      "[1 0]\n",
      "[1 0]\n",
      "\n",
      "[0 1]\n",
      "[1 0]\n",
      "\n",
      "[0 1]\n",
      "[1 1]\n",
      "\n",
      "[0 0]\n",
      "[1 1]\n",
      "\n",
      "[0 0]\n",
      "[0 0]\n",
      "\n"
     ]
    }
   ],
   "source": [
    "# We define the genus variable\n",
    "genus = S.genus  \n",
    "\n",
    "\n",
    "eChars = [[[0 for k in range(genus)], [1 for k in range(genus)]], \n",
    "          [[0 for k in range(genus)] for i in range(2)]]\n",
    "\n",
    "# Do-like loop in Julia's Mathematica notebook\n",
    "for l in range(genus):\n",
    "    # let's note the indexing, which must be adjusted by\n",
    "    eChars.insert(0, \n",
    "        [[(eChars[0][0][k] + kronecker_delta(k+1, genus - l) + \n",
    "           kronecker_delta(k+1, genus - l + 1)) % 2 for k in range(genus)],\n",
    "         [(eChars[0][1][k] + 0) % 2 for k in range(genus)]]\n",
    "    )\n",
    "\n",
    "    eChars.insert(0,\n",
    "        [[(eChars[0][0][k] + 0) % 2 for k in range(genus)],\n",
    "         [(eChars[0][1][k] + kronecker_delta(k+1, genus - l)) % 2 for k in range(genus)]]\n",
    "    )\n",
    "\n",
    "# We display matrices\n",
    "seen_matrices = []\n",
    "for i in range(len(eChars)):\n",
    "    current_matrix = matrix(eChars[i])\n",
    "    if current_matrix not in seen_matrices:\n",
    "        seen_matrices.append(current_matrix)\n",
    "        print(current_matrix)\n",
    "        print()"
   ]
  },
  {
   "cell_type": "code",
   "execution_count": 46,
   "id": "5753037a-a2d5-4d12-bc7d-0e758b312021",
   "metadata": {},
   "outputs": [
    {
     "name": "stdout",
     "output_type": "stream",
     "text": [
      "[1 1]\n",
      "[0 1]\n"
     ]
    }
   ],
   "source": [
    "# We sum the eChars elements with indices 2*i +1 (because python counts from 0) and take Mod 2\n",
    "KCh = sum(matrix(eChars[2 * i+1]) for i in range(genus)) % 2\n",
    "\n",
    "print(KCh)"
   ]
  },
  {
   "cell_type": "markdown",
   "id": "72e8d4b3-ecc8-4e15-9d0f-f20264e819f2",
   "metadata": {},
   "source": [
    "<div style=\"background-color:  rgba(153, 204, 255, 0.25); \n",
    "    font-family: 'Latin Modern Roman', Times, serif; font-size: 16px; border: 1px solid  rgb(0, 128,255); padding: 15px; border-radius: 5px; \">\n",
    "    <h4 style=\"font-size: 20px;color: rgb(0, 128,255);\">Note 2.</h4>\n",
    "    <p>\n",
    "        In the used definition of the RiemannTheta function we need the characteristic encoded in a different form, which is described above.\n",
    "    </p>\n",
    "</div>"
   ]
  },
  {
   "cell_type": "code",
   "execution_count": 63,
   "id": "97a813fd-e39b-40b5-a2fa-0adf460e510d",
   "metadata": {},
   "outputs": [],
   "source": [
    "def encode_characteristic(KCh):\n",
    "    # We transform each row into a list\n",
    "    Rrows = [list(Rrow) for Rrow in KCh.rows()]\n",
    "    # Number of columns\n",
    "    Num_col = KCh.ncols()\n",
    "    \n",
    "    # We create coded characteristics\n",
    "    characteristics = Rrows + [Num_col]\n",
    "    return characteristics\n",
    "\n",
    "# Przykładowe użycie\n",
    "KChl = encode_characteristic(KCh)"
   ]
  },
  {
   "cell_type": "code",
   "execution_count": 64,
   "id": "4f070b90-19bb-4f72-9f60-8e3c27e1d147",
   "metadata": {},
   "outputs": [
    {
     "data": {
      "text/plain": [
       "[[1, 1], [0, 1], 2]"
      ]
     },
     "execution_count": 64,
     "metadata": {},
     "output_type": "execute_result"
    }
   ],
   "source": [
    "KChl"
   ]
  },
  {
   "cell_type": "markdown",
   "id": "e85e7021-c7b7-41cd-814d-bdcae1bb4ddf",
   "metadata": {},
   "source": [
    "<div style=\"font-family: 'Latin Modern Roman', Times, serif; font-size: 16px;\">\n",
    "<h1 style=\"font-size: 24px;\">6. $\\sigma$-Functions</h1>\n",
    "</div>"
   ]
  },
  {
   "cell_type": "code",
   "execution_count": 121,
   "id": "5ad8cdcf-8ffc-4694-8270-e85acdb66796",
   "metadata": {},
   "outputs": [],
   "source": [
    "# We define variables\n",
    "var('U1 U3')\n",
    "\n",
    "\n",
    "# sigma\n",
    "def Tsigma(U1, U3):\n",
    "    vec=omega_inv * vector([U1, U3])\n",
    "    RTtem=RiemannTheta(tau)\n",
    "    e = exp(-(1/2)*(vector([U1, U3])*kappa*vector([U1, U3])))\n",
    "    theta = RTtem(z=vec,char=KChl)\n",
    "    return e*theta\n",
    "\n",
    "# C constant\n",
    "det_omega = omega.determinant()\n",
    "g = 2\n",
    "#Branch points\n",
    "BP=find_branch_points(l0, l2, l4, l6, l8, l10)\n",
    "e1, e2, e3, e4, e5 = BP[0], BP[1], BP[2], BP[3], BP[4]\n",
    "prod=(e1-e2)*(e2-e3)*(e3-e4)*(e4-e5)\n",
    "C = sqrt(pi**g / det_omega) * prod**(-1/4)\n",
    "\n",
    "def sigma(U1, U3):\n",
    "    return C*Tsigma(U1, U3)"
   ]
  },
  {
   "cell_type": "markdown",
   "id": "42442a49-99e1-4369-905c-e1dbd2dd609b",
   "metadata": {},
   "source": [
    "<div style=\"font-family: 'Latin Modern Roman', Times, serif; font-size: 16px;\">\n",
    "<h2 style=\"font-size: 24px;\">6.1. Approximate definitions</h2>\n",
    "</div>"
   ]
  },
  {
   "cell_type": "code",
   "execution_count": 54,
   "id": "8cc86375-6746-43b3-bdbf-4b7117fe1fbc",
   "metadata": {},
   "outputs": [],
   "source": [
    "def sigmaApp1(U1, U3):\n",
    "    result = (U3 \n",
    "              - (1/3) * U1**3 \n",
    "              + (1/6) * l6 * U3**3 \n",
    "              - (1/12) * l4 * U1**4 * U3 \n",
    "              - (1/6) * l6 * U1**3 * U3**2\n",
    "              - (1/6) * l8 * U1**2 * U3**3 \n",
    "              - (1/3) * l10 * U1 * U3**4 \n",
    "              + (1/60) * l4 * l8 * U3**5 \n",
    "              + (1/120) * l6**2 * U3**5)\n",
    "    return result"
   ]
  },
  {
   "cell_type": "code",
   "execution_count": 55,
   "id": "12411116-6a30-4a5a-9de9-50b442213c56",
   "metadata": {},
   "outputs": [],
   "source": [
    "def sigmaApp2(U1, U3):\n",
    "    result = (U3 \n",
    "              - (1/3) * U1**3 \n",
    "              + (1/6) * l6 * U3**3 \n",
    "              - (1/12) * l4 * U1**4 * U3 \n",
    "              - (1/6) * l6 * U1**3 * U3**2\n",
    "              - (1/6) * l8 * U1**2 * U3**3 \n",
    "              - (1/3) * l10 * U1 * U3**4 \n",
    "              + (1/60) * l4 * l8 * U3**5 \n",
    "              + (1/120) * l6**2 * U3**5\n",
    "              - (4/factorial(7)) * l4 * U1**7\n",
    "              + (64/factorial(9)) * l6 * U1**9\n",
    "              - (8/factorial(6)) * l6 * U3 * U1**6\n",
    "              + (1600 * l8 - 408 * l4**2) * (1/factorial(11)) * U1**11\n",
    "              - (4 * l4**2 + 32 * l8) * (1/factorial(8)) * U3 * U1**8\n",
    "              - (4/factorial(5)) * l8 * U3**2 * U1**5\n",
    "             )\n",
    "    \n",
    "    return result"
   ]
  },
  {
   "cell_type": "markdown",
   "id": "006ebdd4-2f72-4d1b-894e-1411442fbcfd",
   "metadata": {},
   "source": [
    "<div style=\"font-family: 'Latin Modern Roman', Times, serif; font-size: 16px;\">\n",
    "<h2 style=\"font-size: 24px;\">6.2. Tests</h2>\n",
    "</div>"
   ]
  },
  {
   "cell_type": "code",
   "execution_count": 122,
   "id": "1210eb5d-c0dd-49d6-877a-5c7dc42117da",
   "metadata": {},
   "outputs": [
    {
     "data": {
      "text/plain": [
       "2.52747253533945"
      ]
     },
     "execution_count": 122,
     "metadata": {},
     "output_type": "execute_result"
    }
   ],
   "source": [
    "sigmaApp1(0.00015,0.00023)/sigmaApp1(0.000071,0.000091)"
   ]
  },
  {
   "cell_type": "code",
   "execution_count": 123,
   "id": "0064eacf-5631-4170-a25f-c49aa036c38f",
   "metadata": {},
   "outputs": [
    {
     "data": {
      "text/plain": [
       "2.27708680068127 + 4.38371561273243e-13*I"
      ]
     },
     "execution_count": 123,
     "metadata": {},
     "output_type": "execute_result"
    }
   ],
   "source": [
    "sigma(0.00015,0.00023)/sigma(0.000071,0.000091)"
   ]
  },
  {
   "cell_type": "code",
   "execution_count": 65,
   "id": "6250ca07-6ff7-458e-94eb-8e286d96079b",
   "metadata": {},
   "outputs": [],
   "source": [
    "u1=2.21231\n",
    "u3=7.32112\n",
    "\n",
    "k1=8.8976\n",
    "k3=5.2315"
   ]
  },
  {
   "cell_type": "code",
   "execution_count": 124,
   "id": "7d5307cc-c4da-46ac-969b-4872719984ba",
   "metadata": {},
   "outputs": [
    {
     "name": "stdout",
     "output_type": "stream",
     "text": [
      "Result for comparison with sigmaApp1:\n",
      "-0.000179881249075787 + 1.45308502101475e-16*I\n",
      "\n",
      "Result for comparison with sigmaApp2:\n",
      "-0.000179881298319939 + 1.45308502101475e-16*I\n",
      "\n",
      "Difference between sigmaApp1 and sigmaApp2:\n",
      "-4.92441524569450e-11\n"
     ]
    }
   ],
   "source": [
    "d=10^(-2)\n",
    "\n",
    "testS = sigma(u1*d,u3*d)/sigma(k1*d,k3*d)\n",
    "testSApp1 = sigmaApp1(u1*d,u3*d)/sigmaApp1(k1*d,k3*d)\n",
    "testSApp2 = sigmaApp2(u1*d,u3*d)/sigmaApp2(k1*d,k3*d)\n",
    "\n",
    "print(\"Result for comparison with sigmaApp1:\")\n",
    "print(testS-testSApp1)\n",
    "print()\n",
    "print(\"Result for comparison with sigmaApp2:\")\n",
    "print(testS-testSApp2)\n",
    "print()\n",
    "print(\"Difference between sigmaApp1 and sigmaApp2:\")\n",
    "print(testSApp1-testSApp2)"
   ]
  },
  {
   "cell_type": "code",
   "execution_count": 125,
   "id": "088d5bd8-1ca9-46f6-bbf8-94457b28a7ee",
   "metadata": {},
   "outputs": [
    {
     "name": "stdout",
     "output_type": "stream",
     "text": [
      "Result for comparison with sigmaApp1:\n",
      "-0.000178204035282942 + 1.44692014581805e-13*I\n",
      "\n",
      "Result for comparison with sigmaApp2:\n",
      "-0.000178204035282942 + 1.44692014581805e-13*I\n",
      "\n",
      "Difference between sigmaApp1 and sigmaApp2:\n",
      "0.000000000000000\n"
     ]
    }
   ],
   "source": [
    "d=10^(-5)\n",
    "\n",
    "testS = sigma(u1*d,u3*d)/sigma(k1*d,k3*d)\n",
    "testSApp1 = sigmaApp1(u1*d,u3*d)/sigmaApp1(k1*d,k3*d)\n",
    "testSApp2 = sigmaApp2(u1*d,u3*d)/sigmaApp2(k1*d,k3*d)\n",
    "\n",
    "print(\"Result for comparison with sigmaApp1:\")\n",
    "print(testS-testSApp1)\n",
    "print()\n",
    "print(\"Result for comparison with sigmaApp2:\")\n",
    "print(testS-testSApp2)\n",
    "print()\n",
    "print(\"Difference between sigmaApp1 and sigmaApp2:\")\n",
    "print(testSApp1-testSApp2)"
   ]
  },
  {
   "cell_type": "code",
   "execution_count": 126,
   "id": "b5646b18-c487-4840-b1f3-1f65a6e9e431",
   "metadata": {},
   "outputs": [
    {
     "name": "stdout",
     "output_type": "stream",
     "text": [
      "Result for comparison with sigmaApp1:\n",
      "-0.000178204033614159 - 2.61861215441761e-8*I\n",
      "\n",
      "Result for comparison with sigmaApp2:\n",
      "-0.000178204033614159 - 2.61861215441761e-8*I\n",
      "\n",
      "Difference between sigmaApp1 and sigmaApp2:\n",
      "0.000000000000000\n"
     ]
    }
   ],
   "source": [
    "d=10^(-10)\n",
    "\n",
    "testS = sigma(u1*d,u3*d)/sigma(k1*d,k3*d)\n",
    "testSApp1 = sigmaApp1(u1*d,u3*d)/sigmaApp1(k1*d,k3*d)\n",
    "testSApp2 = sigmaApp2(u1*d,u3*d)/sigmaApp2(k1*d,k3*d)\n",
    "\n",
    "print(\"Result for comparison with sigmaApp1:\")\n",
    "print(testS-testSApp1)\n",
    "print()\n",
    "print(\"Result for comparison with sigmaApp2:\")\n",
    "print(testS-testSApp2)\n",
    "print()\n",
    "print(\"Difference between sigmaApp1 and sigmaApp2:\")\n",
    "print(testSApp1-testSApp2)"
   ]
  },
  {
   "cell_type": "code",
   "execution_count": 127,
   "id": "ac885e5d-5652-4f60-a291-6ad7a12d0dc0",
   "metadata": {},
   "outputs": [
    {
     "name": "stdout",
     "output_type": "stream",
     "text": [
      "Result for comparison with sigmaApp1:\n",
      "-0.000178213291093398 + 0.0000855944189571697*I\n",
      "\n",
      "Result for comparison with sigmaApp2:\n",
      "-0.000178213291093398 + 0.0000855944189571697*I\n",
      "\n",
      "Difference between sigmaApp1 and sigmaApp2:\n",
      "0.000000000000000\n"
     ]
    }
   ],
   "source": [
    "d=10^(-15)\n",
    "\n",
    "testS = sigma(u1*d,u3*d)/sigma(k1*d,k3*d)\n",
    "testSApp1 = sigmaApp1(u1*d,u3*d)/sigmaApp1(k1*d,k3*d)\n",
    "testSApp2 = sigmaApp2(u1*d,u3*d)/sigmaApp2(k1*d,k3*d)\n",
    "\n",
    "print(\"Result for comparison with sigmaApp1:\")\n",
    "print(testS-testSApp1)\n",
    "print()\n",
    "print(\"Result for comparison with sigmaApp2:\")\n",
    "print(testS-testSApp2)\n",
    "print()\n",
    "print(\"Difference between sigmaApp1 and sigmaApp2:\")\n",
    "print(testSApp1-testSApp2)"
   ]
  },
  {
   "cell_type": "markdown",
   "id": "02deb927-b9ea-4797-ab0d-4acd439f644e",
   "metadata": {},
   "source": [
    "<div style=\"background-color:  rgba(216, 220, 97, 0.25); \n",
    "    font-family: 'Latin Modern Roman', Times, serif; font-size: 16px; border: 1px solid  rgb(205,210,44); padding: 15px; border-radius: 5px; \">\n",
    "    <h3 style=\"font-size: 20px;color: rgb(205,210,44);\">Observation 1.</h3>\n",
    "    <p>\n",
    "    Using the Riemann Theta package gives much better approximations than the explicit old definition\n",
    "  </p>\n",
    "</div>"
   ]
  },
  {
   "cell_type": "code",
   "execution_count": 128,
   "id": "34acd030-501c-44d8-b0b2-2cdb87475baf",
   "metadata": {},
   "outputs": [
    {
     "name": "stdout",
     "output_type": "stream",
     "text": [
      "C from definition:\n",
      "1.37901860572385 + 1.32549303772618*I\n",
      "\n",
      "Approximate C:\n",
      "-0.394449548035152 + 0.592130183781763*I\n"
     ]
    }
   ],
   "source": [
    "u1=10^(-20)\n",
    "u3=0.0012131\n",
    "\n",
    "Capp=u3/Tsigma(u1,u3)\n",
    "print(\"C from definition:\")\n",
    "print(C)\n",
    "print()\n",
    "print(\"Approximate C:\")\n",
    "print(Capp)"
   ]
  },
  {
   "cell_type": "markdown",
   "id": "2b448814-579a-4db8-925b-73aa9df993db",
   "metadata": {},
   "source": [
    "<div style=\"font-family: 'Latin Modern Roman', Times, serif; font-size: 16px;\">\n",
    "<h2 style=\"font-size: 24px;\">6.3. Derivatives</h2>\n",
    "</div>"
   ]
  },
  {
   "cell_type": "code",
   "execution_count": 129,
   "id": "0174de59-14bf-4df4-b665-f6f633d7a1df",
   "metadata": {},
   "outputs": [],
   "source": [
    "# first derivative of sigma over U1\n",
    "def Tsigma1(U1, U3):\n",
    "    vec=omega_inv * vector([U1, U3])\n",
    "    RTtem=RiemannTheta(tau)\n",
    "    e = exp(-(1/2)*(vector([U1, U3])*kappa*vector([U1, U3])))\n",
    "    theta = RTtem(z=vec,char=KChl,derivs=[0])\n",
    "    return e*theta\n",
    "\n",
    "# second derivative of sigma over U1\n",
    "def Tsigma11(U1, U3):\n",
    "    vec=omega_inv * vector([U1, U3])\n",
    "    RTtem=RiemannTheta(tau)\n",
    "    e = exp(-(1/2)*(vector([U1, U3])*kappa*vector([U1, U3])))\n",
    "    theta = RTtem(z=vec,char=KChl,derivs=[0,0])\n",
    "    return e*theta\n",
    "\n",
    "# derivative of sigma over U1 and U3\n",
    "def Tsigma13(U1, U3):\n",
    "    vec=omega_inv * vector([U1, U3])\n",
    "    RTtem=RiemannTheta(tau)\n",
    "    e = exp(-(1/2)*(vector([U1, U3])*kappa*vector([U1, U3])))\n",
    "    theta = RTtem(z=vec,char=KChl,derivs=[0,1])\n",
    "    return e*theta\n",
    "\n",
    "# first derivative of sigma over U3\n",
    "def Tsigma3(U1, U3):\n",
    "    vec=omega_inv * vector([U1, U3])\n",
    "    RTtem=RiemannTheta(tau)\n",
    "    e = exp(-(1/2)*(vector([U1, U3])*kappa*vector([U1, U3])))\n",
    "    theta = RTtem(z=vec,char=KChl,derivs=[1])\n",
    "    return e*theta\n",
    "\n",
    "# second derivative of sigma over U3\n",
    "def Tsigma33(U1, U3):\n",
    "    vec=omega_inv * vector([U1, U3])\n",
    "    RTtem=RiemannTheta(tau)\n",
    "    e = exp(-(1/2)*(vector([U1, U3])*kappa*vector([U1, U3])))\n",
    "    theta = RTtem(z=vec,char=KChl,derivs=[1,1])\n",
    "    return e*theta\n"
   ]
  },
  {
   "cell_type": "markdown",
   "id": "a0cf25db-32f4-4735-95a2-0250297987cb",
   "metadata": {},
   "source": [
    "<div style=\"font-family: 'Latin Modern Roman', Times, serif; font-size: 16px;\">\n",
    "<h1 style=\"font-size: 24px;\">7. $\\wp$-Functions</h1>\n",
    "</div>"
   ]
  },
  {
   "cell_type": "code",
   "execution_count": 130,
   "id": "c0bab2b2-b8a4-43ea-8c91-f60605a7d24e",
   "metadata": {},
   "outputs": [],
   "source": [
    "# Definition with sigmas\n",
    "\n",
    "\n",
    "# WeierstrassP11\n",
    "def WeierstrassP11(u1_val, u3_val):\n",
    "    sigma_expr = Tsigma(u1_val, u3_val)\n",
    "    sigma1 = Tsigma1(u1_val, u3_val)\n",
    "    sigma11 = Tsigma11(u1_val, u3_val)\n",
    "    expr = (sigma1*sigma1 - sigma_expr*sigma11)/(sigma_expr^2)\n",
    "    return expr.n()\n",
    "\n",
    "# WeierstrassP13\n",
    "def WeierstrassP13(u1_val, u3_val):\n",
    "    sigma_expr = Tsigma(u1_val, u3_val)\n",
    "    sigma1 = Tsigma1(u1_val, u3_val)\n",
    "    sigma3 = Tsigma3(u1_val, u3_val)\n",
    "    sigma13 = Tsigma13(u1_val, u3_val)\n",
    "    expr = (sigma1*sigma3 - sigma_expr*sigma13)/(sigma_expr^2)\n",
    "    return expr.n()\n",
    "    \n",
    "# WeierstrassP33\n",
    "def WeierstrassP33(u1_val, u3_val):\n",
    "    sigma_expr = Tsigma(u1_val, u3_val)\n",
    "    sigma3 = Tsigma3(u1_val, u3_val)\n",
    "    sigma33 = Tsigma33(u1_val, u3_val)\n",
    "    expr = (sigma3*sigma3 - sigma_expr*sigma33)/(sigma_expr^2)\n",
    "    return expr.n()    "
   ]
  },
  {
   "cell_type": "markdown",
   "id": "d322adff-757b-40e7-84a3-808e7b97f59c",
   "metadata": {},
   "source": [
    "<div style=\"font-family: 'Latin Modern Roman', Times, serif; font-size: 16px;\">\n",
    "<h2 style=\"font-size: 24px;\">7.1. Tests</h2>\n",
    "</div>"
   ]
  },
  {
   "cell_type": "code",
   "execution_count": 134,
   "id": "1b3e6a2e-0484-4b3a-8cf4-c9a6839d2afd",
   "metadata": {},
   "outputs": [
    {
     "name": "stdout",
     "output_type": "stream",
     "text": [
      "Sigma based definitions\n",
      "\n",
      "Test P11:\n",
      "-3.78364006792253e-13 + 1.63424829224823e-13*I\n",
      "\n",
      "Test P13:\n",
      "-3.94351218346856e-13 + 4.47641923528863e-13*I\n",
      "\n",
      "Test P33:\n",
      "-5.98632254877884e-13 + 2.10498285468930e-13*I\n"
     ]
    }
   ],
   "source": [
    "ntest = vector([1, 2])\n",
    "nPtest = vector([-3, -5])\n",
    "\n",
    "wn = omega*ntest\n",
    "wPn= omegaP*nPtest\n",
    "\n",
    "print(\"Sigma based definitions\")\n",
    "print()\n",
    "print(\"Test P11:\")\n",
    "print(WeierstrassP11(2.0, 3.0) - WeierstrassP11(2.0 + 2*wn[0] + 2*wPn[0], 3.0 + 2*wn[1] + 2*wPn[1]))\n",
    "print()\n",
    "print(\"Test P13:\")\n",
    "print(WeierstrassP13(2.0, 3.0) - WeierstrassP13(2.0 + 2*wn[0] + 2*wPn[0], 3.0 + 2*wn[1] + 2*wPn[1]))\n",
    "print()\n",
    "print(\"Test P33:\")\n",
    "print(WeierstrassP33(2.0, 3.0) - WeierstrassP33(2.0 + 2*wn[0] + 2*wPn[0], 3.0 + 2*wn[1] + 2*wPn[1]))"
   ]
  },
  {
   "cell_type": "code",
   "execution_count": 136,
   "id": "0d1d23f7-d195-4757-b6b5-6388bfdcb7c4",
   "metadata": {},
   "outputs": [
    {
     "name": "stdout",
     "output_type": "stream",
     "text": [
      "Sigma based definitions\n",
      "\n",
      "Test P11:\n",
      "5.59552404411079e-13 - 5.86197757002083e-13*I\n",
      "\n",
      "Test P13:\n",
      "-1.90070181815827e-13 - 2.92210700081341e-13*I\n",
      "\n",
      "Test P33:\n",
      "-3.37507799486048e-14 - 6.22446538756094e-13*I\n"
     ]
    }
   ],
   "source": [
    "ntest = vector([10, -30])\n",
    "nPtest = vector([3, -3])\n",
    "\n",
    "wn = omega*ntest\n",
    "wPn= omegaP*nPtest\n",
    "\n",
    "print(\"Sigma based definitions\")\n",
    "print()\n",
    "print(\"Test P11:\")\n",
    "print(WeierstrassP11(2.0, 3.0) - WeierstrassP11(2.0 + 2*wn[0] + 2*wPn[0], 3.0 + 2*wn[1] + 2*wPn[1]))\n",
    "print()\n",
    "print(\"Test P13:\")\n",
    "print(WeierstrassP13(2.0, 3.0) - WeierstrassP13(2.0 + 2*wn[0] + 2*wPn[0], 3.0 + 2*wn[1] + 2*wPn[1]))\n",
    "print()\n",
    "print(\"Test P33:\")\n",
    "print(WeierstrassP33(2.0, 3.0) - WeierstrassP33(2.0 + 2*wn[0] + 2*wPn[0], 3.0 + 2*wn[1] + 2*wPn[1]))"
   ]
  },
  {
   "cell_type": "code",
   "execution_count": 137,
   "id": "4b7142a0-603c-4063-aa8d-faf53aaf299d",
   "metadata": {},
   "outputs": [
    {
     "name": "stdout",
     "output_type": "stream",
     "text": [
      "Sigma based definitions\n",
      "\n",
      "Test P11:\n",
      "2.36255459640233e-13 + 3.83693077310454e-13*I\n",
      "\n",
      "Test P13:\n",
      "3.14415160573844e-13 + 3.23296944770846e-13*I\n",
      "\n",
      "Test P33:\n",
      "3.32178728967847e-13 - 9.68114477473137e-14*I\n"
     ]
    }
   ],
   "source": [
    "ntest = vector([1,2])\n",
    "nPtest = vector([4, -4])\n",
    "\n",
    "wn = omega*ntest\n",
    "wPn= omegaP*nPtest\n",
    "\n",
    "print(\"Sigma based definitions\")\n",
    "print()\n",
    "print(\"Test P11:\")\n",
    "print(WeierstrassP11(2.0, 3.0) - WeierstrassP11(2.0 + 2*wn[0] + 2*wPn[0], 3.0 + 2*wn[1] + 2*wPn[1]))\n",
    "print()\n",
    "print(\"Test P13:\")\n",
    "print(WeierstrassP13(2.0, 3.0) - WeierstrassP13(2.0 + 2*wn[0] + 2*wPn[0], 3.0 + 2*wn[1] + 2*wPn[1]))\n",
    "print()\n",
    "print(\"Test P33:\")\n",
    "print(WeierstrassP33(2.0, 3.0) - WeierstrassP33(2.0 + 2*wn[0] + 2*wPn[0], 3.0 + 2*wn[1] + 2*wPn[1]))"
   ]
  },
  {
   "cell_type": "code",
   "execution_count": 138,
   "id": "dcfc49c3-eeee-407f-bf40-d5bc8171604a",
   "metadata": {},
   "outputs": [
    {
     "name": "stdout",
     "output_type": "stream",
     "text": [
      "Sigma based definitions\n",
      "\n",
      "Test P11:\n",
      "-5.11590769747272e-12 + 9.34363697524532e-13*I\n",
      "\n",
      "Test P13:\n",
      "-6.19237994214927e-12 + 1.63247193540883e-12*I\n",
      "\n",
      "Test P33:\n",
      "-2.16093809513040e-11 - 3.40456551839452e-11*I\n"
     ]
    }
   ],
   "source": [
    "ntest = vector([10, -30])\n",
    "nPtest = vector([-10, -30])\n",
    "\n",
    "wn = omega*ntest\n",
    "wPn= omegaP*nPtest\n",
    "\n",
    "print(\"Sigma based definitions\")\n",
    "print()\n",
    "print(\"Test P11:\")\n",
    "print(WeierstrassP11(2.0, 3.0) - WeierstrassP11(2.0 + 2*wn[0] + 2*wPn[0], 3.0 + 2*wn[1] + 2*wPn[1]))\n",
    "print()\n",
    "print(\"Test P13:\")\n",
    "print(WeierstrassP13(2.0, 3.0) - WeierstrassP13(2.0 + 2*wn[0] + 2*wPn[0], 3.0 + 2*wn[1] + 2*wPn[1]))\n",
    "print()\n",
    "print(\"Test P33:\")\n",
    "print(WeierstrassP33(2.0, 3.0) - WeierstrassP33(2.0 + 2*wn[0] + 2*wPn[0], 3.0 + 2*wn[1] + 2*wPn[1]))"
   ]
  },
  {
   "cell_type": "markdown",
   "id": "211c6fde-c2b2-488b-89d7-0233a74598cd",
   "metadata": {},
   "source": [
    "<div style=\"background-color:  rgba(216, 220, 97, 0.25); \n",
    "    font-family: 'Latin Modern Roman', Times, serif; font-size: 16px; border: 1px solid  rgb(205,210,44); padding: 15px; border-radius: 5px; \">\n",
    "    <h3 style=\"font-size: 20px;color: rgb(205,210,44);\">Observation 2.</h3>\n",
    "    <p>\n",
    "    Thanks to the RiemannTheata package, there is no problem with large period repetitions and the calculations are performed much faster\n",
    "  </p>\n",
    "</div>"
   ]
  },
  {
   "cell_type": "markdown",
   "id": "99b89a81-45c6-42ba-a8e7-7072b6f1f840",
   "metadata": {},
   "source": [
    "<div style=\"font-family: 'Latin Modern Roman', Times, serif; font-size: 16px;\">\n",
    "<h1 style=\"font-size: 24px;\">8. Jacobi inversion problem on branch points</h1>\n",
    "</div>"
   ]
  },
  {
   "cell_type": "markdown",
   "id": "e6c43fbf-5be5-4568-ac60-863fb29b7b55",
   "metadata": {},
   "source": [
    "<div style=\"font-family: 'Latin Modern Roman', Times, serif; font-size: 16px;\">\n",
    "<h2 style=\"font-size: 24px;\">8.1. Divisor</h2>\n",
    "</div>"
   ]
  },
  {
   "cell_type": "code",
   "execution_count": 139,
   "id": "3f54170c-4afe-4989-be46-abb5305ef663",
   "metadata": {},
   "outputs": [],
   "source": [
    "# Definition of y function \n",
    "def y(x):\n",
    "    res = sqrt(l0*x^5 + l2*x^4 + l4*x^3 + l6*x^2 + l8*x + l10)\n",
    "    return res.n()"
   ]
  },
  {
   "cell_type": "code",
   "execution_count": 140,
   "id": "86889762-0d8f-4a52-b638-27c52decc728",
   "metadata": {},
   "outputs": [],
   "source": [
    "x1 = 0.256\n",
    "x2 = 11.721\n",
    "\n",
    "y1 = y(x1)\n",
    "y2 = y(x2)\n",
    "\n",
    "# P_i points\n",
    "P1 = [ x1, y1 ] \n",
    "P2 = [ x2, y2 ]\n",
    "\n",
    "# Divisor\n",
    "divisor = [(1, (x1, y1)), (1, (x2, y2))]"
   ]
  },
  {
   "cell_type": "code",
   "execution_count": 141,
   "id": "582e8530-1dba-4a65-ad42-1781a6d62c41",
   "metadata": {},
   "outputs": [
    {
     "name": "stdout",
     "output_type": "stream",
     "text": [
      "(-0.095227328487916328568064649224 - 0.47103938123276306779408678278*I, -0.94610300133296732955826058561 - 0.36651365565790567383047992719*I)\n"
     ]
    }
   ],
   "source": [
    "AJ = S.abel_jacobi(divisor)\n",
    "\n",
    "print(AJ)"
   ]
  },
  {
   "cell_type": "markdown",
   "id": "ba91a2b4-d81f-4309-ba74-f2844fff32a2",
   "metadata": {},
   "source": [
    "<div style=\"font-family: 'Latin Modern Roman', Times, serif; font-size: 16px;\">\n",
    "<h2 style=\"font-size: 24px;\">8.2. Tests</h2>\n",
    "</div>"
   ]
  },
  {
   "cell_type": "code",
   "execution_count": 142,
   "id": "18006874-979b-40a8-a2a8-a1f1b65bb726",
   "metadata": {},
   "outputs": [
    {
     "name": "stdout",
     "output_type": "stream",
     "text": [
      "P11(u):\n",
      "9.90660612582494 + 15.7680152150508*I\n",
      "P13(u):\n",
      "-4.71550103486836 - 4.28713142229178*I\n",
      "P33(u):\n",
      "9.90660612582494 + 15.7680152150508*I\n"
     ]
    }
   ],
   "source": [
    "u1=AJ[0]\n",
    "u3=AJ[1]\n",
    "\n",
    "print(\"P11(u):\")\n",
    "print(WeierstrassP11(u1, u3))\n",
    "\n",
    "print(\"P13(u):\")\n",
    "print(WeierstrassP13(u1, u3))\n",
    "\n",
    "print(\"P33(u):\")\n",
    "print(WeierstrassP11(u1, u3))"
   ]
  },
  {
   "cell_type": "code",
   "execution_count": 143,
   "id": "b2890a7a-239f-4f2f-8bf7-b0817829f88f",
   "metadata": {},
   "outputs": [
    {
     "data": {
      "text/plain": [
       "x^2 - 11.9770000000000*x + 3.00057600000000"
      ]
     },
     "execution_count": 143,
     "metadata": {},
     "output_type": "execute_result"
    }
   ],
   "source": [
    "mat1R4=[[1, x, x^2],[ 1, x1, x1^2], [1, x2, x2^2]]\n",
    "det1=matrix(mat1R4).determinant()\n",
    "mat2R4=[[ 1, x1], [1, x2]]\n",
    "det2=matrix(mat2R4).determinant()\n",
    "det1/det2"
   ]
  },
  {
   "cell_type": "markdown",
   "id": "593343ec-39c8-491e-a2a5-9a6ec6834ed1",
   "metadata": {},
   "source": [
    "<div style=\"font-family: 'Latin Modern Roman', Times, serif; font-size: 16px;\">\n",
    "<p>\n",
    "We should get:\n",
    "$$\n",
    "        x^2 - \\wp_{11}(\\mathbf{u}) \\;x - \\wp_{13}(\\mathbf{u})=0,\n",
    "$$\n",
    "</p>\n",
    "</div> "
   ]
  },
  {
   "cell_type": "markdown",
   "id": "db4631f1-d457-4753-b005-9d3b2110bfbc",
   "metadata": {},
   "source": [
    "<div style=\"background-color:  rgba(216, 220, 97, 0.25); \n",
    "    font-family: 'Latin Modern Roman', Times, serif; font-size: 16px; border: 1px solid  rgb(205,210,44); padding: 15px; border-radius: 5px; \">\n",
    "    <h3 style=\"font-size: 20px;color: rgb(205,210,44);\">Observation 3.</h3>\n",
    "    <p>\n",
    "    Unfortunately the final result is still wrong, but additionally obtained values are different.\n",
    "  </p>\n",
    "</div>"
   ]
  }
 ],
 "metadata": {
  "kernelspec": {
   "display_name": "SageMath 10.4",
   "language": "sage",
   "name": "sagemath-10.4"
  },
  "language_info": {
   "codemirror_mode": {
    "name": "ipython",
    "version": 3
   },
   "file_extension": ".py",
   "mimetype": "text/x-python",
   "name": "python",
   "nbconvert_exporter": "python",
   "pygments_lexer": "ipython3",
   "version": "3.12.4"
  }
 },
 "nbformat": 4,
 "nbformat_minor": 5
}
