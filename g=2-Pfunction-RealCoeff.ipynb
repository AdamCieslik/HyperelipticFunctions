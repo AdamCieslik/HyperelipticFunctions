{
 "cells": [
  {
   "cell_type": "markdown",
   "id": "5e2b586e-887d-486b-a6b1-43f1a8db41bb",
   "metadata": {},
   "source": [
    "<div style=\"font-family: 'Latin Modern Roman', Times, serif; font-size: 16px;\">\n",
    "<h1 style=\"font-size: 32px;\">Introduction</h1>\n",
    "<p>\n",
    "    Kleinian functions, also known as the generalised Wierstrass $\\wp_{ij}$ functions, are important tools for studying hyperelliptic curves. The main objective of this notebook is to present code that can compute Kleinian functions for a hyperelliptic curve of genus 2.  While the primary focus is on the computation aspect, related concepts and background information are provided for context. \n",
    "</p>\n",
    "<p>\n",
    "This notebook is inspired by the work of Julia Bernatska <a href=\"https://arxiv.org/abs/2407.05632\" target=\"_blank\">[1]</a> and the code attached to an article posted on WolframCommunity <a href=\"https://community.wolfram.com/groups/-/m/t/3243472\" target=\"_blank\">[2]</a>. It also draws from the SageMath Riemann surfaces documentation <em>SageMath Riemann surfaces</em> documentation <a href=\"https://doc.sagemath.org/html/en/reference/curves/sage/schemes/riemann_surfaces/riemann_surface.html#sage.schemes.riemann_surfaces.riemann_surface.RiemannSurface\"\n",
    "target=\"_blank\">[3]</a>. All additional references are listed in the Literature section at the end of the notebook.\n",
    "</p>\n",
    "</div>\n"
   ]
  },
  {
   "cell_type": "markdown",
   "id": "d4020a2f-8aaf-4356-806d-b9d692b732dd",
   "metadata": {},
   "source": [
    "<div style=\"font-family: 'Latin Modern Roman', Times, serif; font-size: 16px;\">\n",
    "<h1 style=\"font-size: 32px;\">1. Preliminaries</h1>\n",
    "<p>\n",
    "    Many works on hyperelliptic functions and Riemann surfaces use similar notation, which can lead to potential naming collisions. To avoid such collisions, a legend of notations used in this notebook is provided below.\n",
    "</p>\n",
    "<h3 style=\"font-size: 24px;\">1.1. Legend</h3>\n",
    "    <ul>\n",
    "        <li>$\\mathscr{C}$ - an algebraic curve</li>\n",
    "        <li>$X$ - a Riemann surface</li>\n",
    "         <li>$\\lambda_i$ - coefficients of the equation of $\\mathscr{C}$ </li>\n",
    "        <li>$e_i$ - branch points</li>\n",
    "        <li>$g$ - a genus of $\\mathscr{C}$</li>    \n",
    "        <li>$du$ - first kind (or holomorphic) differential on $\\mathscr{C}$ </li>\n",
    "        <li>$dr$ - second kind differential on $\\mathscr{C}$</li>\n",
    "        <li>$\\mathfrak{a}_i, \\mathfrak{b}_i$ - not normalised canonical homology cycles</li>\n",
    "        <li>$\\omega$ -  first kind integrals (first kind not normalised $\\mathfrak{a}$, and $\\mathfrak{b}$-period matrices)</li>\n",
    "        <li>$\\eta$ - second kind integrals (second kind not normalised $\\mathfrak{a}$, and $\\mathfrak{b}$-period matrices)</li>\n",
    "        <li>$\\mathrm{Jac}(\\mathscr{C}) = \\mathbb{C}^g/\\{\\omega, \\omega' \\}$ - Jacobian variety of the curve $\\mathscr{C}$</li>\n",
    "        <li>$D$ - Divisor  on the Riemann surface $X$</li>\n",
    "        <li>$\\mathcal{A}(P)$, $\\mathcal{A}(D)$  - Abel image (or first kind integral) of a point $P$ and a divisor $D$</li>\n",
    "        <li>$\\Sigma$ - the theta-divisor defined by $\\{ \\mathbf{u}\\in \\mathrm{Jac}(\\mathscr{C})| \\sigma(\\mathbf{u})=0 \\}$ </li>\n",
    "        <li>$\\mathfrak{U}(\\mathscr{C})$ - differential field of $\\wp$-functions on $\\mathrm{Jac}(\\mathscr{C}) \\setminus \\Sigma$</li>\n",
    "        <li>$\\mathbf{\\varepsilon}$ - a characteristic vectors</li>\n",
    "        <li>$\\mathbf{K}$ - a vector of Riemann constants </li>\n",
    "</ul>\n",
    "  \n",
    "</div>"
   ]
  },
  {
   "cell_type": "markdown",
   "id": "5d703988-5150-4da1-92d7-3454f97dcee5",
   "metadata": {},
   "source": [
    "<div>\n",
    "<h3 style=\"font-family: 'Latin Modern Roman', Times, serif; font-size: 24px;\"> 1.2. Hyperelliptic curve</h3>\n",
    "</div>\n",
    "\n",
    "<div style=\"font-family: 'Latin Modern Roman', Times, serif; font-size: 16px;\">\n",
    "<p>\n",
    "    In studies on hyperelliptic functions, various conventions for defining a curve, and consequently the hyperelliptic functions, can be found. In this notebook, we adopt the convention presented in <a href=\"https://arxiv.org/abs/2407.05632\" target=\"_blank\">[1]</a>. <br>\n",
    "    <br>\n",
    "    Additionally, conventions for curves in both general and canonical forms are also discussed in dedicated notebooks: `canonical-name.ipynb` and `general-name.ipynb`. Please refer to these notebooks for further details.\n",
    "</p>\n",
    "</div>\n",
    " \n"
   ]
  },
  {
   "cell_type": "markdown",
   "id": "c6cef5bd-6f1a-4fd7-b588-bd0b9883e9c4",
   "metadata": {},
   "source": [
    "<div style=\"background-color:  rgba(224, 224, 224, 0.25); \n",
    "    font-family: 'Latin Modern Roman', Times, serif; font-size: 16px; border: 1px solid  rgb(192, 192, 192); padding: 15px; border-radius: 5px; \">\n",
    "    <h4 style=\"font-size: 20px;color: rgb(160, 160, 160);\">Definition 1.1.</h4>\n",
    "    <p>    \n",
    "        The hyperelliptic curve is defined by \n",
    "        $$\n",
    "            \\mathscr{C} = \\{ (x,y)\\in \\mathbb{C}^2 \\mid f(x,y)=0 \\},\n",
    "        $$\n",
    "        where\n",
    "        $$\n",
    "            f(x,y) = -y^2 + x^{2g+1} + \\sum_{i=0}^{2g}\\lambda_{2i+2}x^{2g-i}, \\quad \\lambda_{k\\leq0}=0,\\; \\lambda_k \\in \\mathbb{R}.$\n",
    "        $$\n",
    "    </p>\n",
    "</div>\n"
   ]
  },
  {
   "cell_type": "markdown",
   "id": "1862d913-d721-4977-8031-b308663d86b8",
   "metadata": {},
   "source": [
    "<div style=\"background-color:  rgba(153, 204, 255, 0.25); \n",
    "    font-family: 'Latin Modern Roman', Times, serif; font-size: 16px; border: 1px solid  rgb(0, 128,255); padding: 15px; border-radius: 5px; \">\n",
    "    <h4 style=\"font-size: 20px;color: rgb(0, 128,255);\">Note 1.1.</h4>\n",
    "    <p>\n",
    "    <ul>\n",
    "        We assume $\\lambda_k \\in \\mathbb{R}$, instead of $\\lambda_k \\in \\mathbb{C}$ which can be found in various texts, because we would like to apply these functions to physical equations first.\n",
    "    </ul>            \n",
    "  </p>\n",
    "</div>"
   ]
  },
  {
   "cell_type": "markdown",
   "id": "23b4125d-3201-43de-bf1b-f76cd9361819",
   "metadata": {},
   "source": [
    "<div style=\"font-family: 'Latin Modern Roman', Times, serif; font-size: 16px;\">\n",
    "<p>\n",
    "    So for a curve of genus $g=2$ we get\n",
    "    $$\n",
    "        f(x,y) = -y^2 + x^5 + \\lambda_2 x^4 + \\lambda_4 x^3+ \\lambda_6 x^2+ \\lambda_8 x+ \\lambda_{10},\n",
    "    $$   \n",
    "    Let's load the appropriate SageMath library and define the curve $\\mathscr{C}$\n",
    "</p>    \n",
    "</div>"
   ]
  },
  {
   "cell_type": "code",
   "execution_count": 1,
   "id": "e9c0e6c5-202d-4fea-a25c-f60bb15c676f",
   "metadata": {},
   "outputs": [],
   "source": [
    "from sage.schemes.riemann_surfaces.riemann_surface import RiemannSurface"
   ]
  },
  {
   "cell_type": "code",
   "execution_count": 2,
   "id": "4f8afead-1bc6-4be7-ab99-3e4e5e9831c9",
   "metadata": {},
   "outputs": [],
   "source": [
    "# Defines the lambda coefficients\n",
    "lambda2 = 12.0\n",
    "lambda4 = 2.0\n",
    "lambda6  = 0.9\n",
    "lambda8  = 21.0\n",
    "lambda10  = 10.0"
   ]
  },
  {
   "cell_type": "markdown",
   "id": "d25e2ffb-7b7d-4779-a54a-4ddc3ec22acf",
   "metadata": {},
   "source": [
    "<div style=\"background-color:  rgba(255, 153, 153, 0.25); \n",
    "    font-family: 'Latin Modern Roman', Times, serif; font-size: 16px; border: 1px solid  rgb(255, 51,51); padding: 15px; border-radius: 5px; \">\n",
    "    <h4 style=\"font-size: 20px;color: rgb(255, 51,51);\">Important 1.1.</h4>\n",
    "    <p>\n",
    "        The coefficients above must be real-floating-point numbers        \n",
    "    </p>\n",
    "</div>"
   ]
  },
  {
   "cell_type": "markdown",
   "id": "3d00e6b9-7f31-4181-a037-68b9a1c4a844",
   "metadata": {},
   "source": [
    "<div style=\"font-family: 'Latin Modern Roman', Times, serif; font-size: 16px;\">\n",
    "<p>\n",
    "    Since the current Sage library only works well on the field of rational numbers, we have to approximate all function coefficients by these numbers.\n",
    "</p>\n",
    "</div>"
   ]
  },
  {
   "cell_type": "code",
   "execution_count": 3,
   "id": "3e7611f7-0ba6-49f2-b598-2318127f8479",
   "metadata": {},
   "outputs": [],
   "source": [
    "# Rational approximation\n",
    "l2 = lambda2.nearby_rational(max_error=1e-10)\n",
    "l4 = lambda4.nearby_rational(max_error=1e-10)\n",
    "l6 = lambda6.nearby_rational(max_error=1e-10)\n",
    "l8 = lambda8.nearby_rational(max_error=1e-10)\n",
    "l10 = lambda10.nearby_rational(max_error=1e-10)"
   ]
  },
  {
   "cell_type": "markdown",
   "id": "b25e02a9-e6a2-4dbc-934f-9387413e73e8",
   "metadata": {},
   "source": [
    "<div style=\"font-family: 'Latin Modern Roman', Times, serif; font-size: 16px;\">\n",
    "<p>\n",
    "    Next, we need to define the variables $x$ and $y$ in the ring of polynomials over the rational numbers.\n",
    "</p>\n",
    "</div>"
   ]
  },
  {
   "cell_type": "code",
   "execution_count": 4,
   "id": "c83cfab5-082a-47f8-aabf-9f8935ef98df",
   "metadata": {},
   "outputs": [],
   "source": [
    "R.<x, y> = PolynomialRing(QQ, 2)"
   ]
  },
  {
   "cell_type": "markdown",
   "id": "fa759787-8130-4d5e-8f53-f8a1d01d43e5",
   "metadata": {},
   "source": [
    "<div style=\"background-color:  rgba(153, 204, 255, 0.25); \n",
    "    font-family: 'Latin Modern Roman', Times, serif; font-size: 16px; border: 1px solid  rgb(0, 128,255); padding: 15px; border-radius: 5px; \">\n",
    "    <h4 style=\"font-size: 20px;color: rgb(0, 128,255);\">Note 1.2.</h4>\n",
    "    <p>\n",
    "        The order of variables can be important depending on how you write your polynomial. Make sure you use the same order in your polynomial expression.        \n",
    "    </p>\n",
    "</div>"
   ]
  },
  {
   "cell_type": "code",
   "execution_count": 5,
   "id": "2c329640-040b-4e31-9d7d-20473d53e4a6",
   "metadata": {},
   "outputs": [],
   "source": [
    "# Defining the polynomial f\n",
    "f = -y^2 + x^5 + l2*x^4 + l4*x^3 + l6*x^2 + l8*x + l10"
   ]
  },
  {
   "cell_type": "markdown",
   "id": "80cca492-93d3-4307-b8a3-5d08a9b15aad",
   "metadata": {},
   "source": [
    "<div>\n",
    "<h3 style=\"font-family: 'Latin Modern Roman', Times, serif; font-size: 24px;\">1.3. Riemann surface</h3>\n",
    "</div>"
   ]
  },
  {
   "cell_type": "markdown",
   "id": "ad92abf1-0e58-4b88-b15a-8d2a313fbbc9",
   "metadata": {},
   "source": [
    "<div style=\"background-color:  rgba(224, 224, 224, 0.25); \n",
    "    font-family: 'Latin Modern Roman', Times, serif; font-size: 16px; border: 1px solid  rgb(192, 192, 192); padding: 15px; border-radius: 5px; \">\n",
    "    <h4 style=\"font-size: 20px;color: rgb(160, 160, 160);\">Definition 1.2. </h4>\n",
    "    <p>    \n",
    "        A Riemann surface $X$ is a connected two-dimensional topological manifold with a complex-analytic structure on it. \n",
    "    </p>    \n",
    "</div>"
   ]
  },
  {
   "cell_type": "markdown",
   "id": "2a2583d3-bafb-4c47-a327-81666c75cdc9",
   "metadata": {},
   "source": [
    "<div style=\"font-family: 'Latin Modern Roman', Times, serif; font-size: 16px;\">\n",
    "<p>\n",
    "    The SageMath RiemannSurface library provides a function to generate the appropriate Riemann surface, on which we will continue our work.\n",
    "</p>\n",
    "</div>"
   ]
  },
  {
   "cell_type": "code",
   "execution_count": 6,
   "id": "13fc8b6e-d997-4230-a1ac-3665bc5799e7",
   "metadata": {},
   "outputs": [],
   "source": [
    "S = RiemannSurface(f, prec=100)"
   ]
  },
  {
   "cell_type": "markdown",
   "id": "e9a92cc1-de4c-4c05-a758-16ef0cd28bf8",
   "metadata": {},
   "source": [
    "<div>\n",
    "<h3 style=\"font-family: 'Latin Modern Roman', Times, serif; font-size: 24px;\">1.4. Branch points</h3>\n",
    "</div>"
   ]
  },
  {
   "cell_type": "markdown",
   "id": "82d5b078-35d9-431a-9ca3-79ccca6007da",
   "metadata": {},
   "source": [
    "<div style=\"font-family: 'Latin Modern Roman', Times, serif; font-size: 16px;\">\n",
    "<p>\n",
    "    We define a function to compute and display all branch points $e_i$ based on the given coefficients $\\lambda_{2i}$. Branch points correspond to the zeros of the polynomial defined by $f(x, y) = 0$. Specifically, the polynomial is given by:\n",
    "$$\n",
    "    y^2 = (x - e_1)(x - e_2)(x - e_3)(x - e_4)(x - e_5).\n",
    "$$\n",
    "Here, the branch points $e_i$ are the roots of the polynomial on the right-hand side, which describe the structure of the Riemann surface associated with $f(x, y) = 0$.\n",
    "</p>\n",
    "</div>"
   ]
  },
  {
   "cell_type": "code",
   "execution_count": 7,
   "id": "49c22004-77c2-4c0e-a430-c013a6e4118d",
   "metadata": {},
   "outputs": [],
   "source": [
    "def find_branch_points(ll2, ll4, ll6, ll8, ll10):\n",
    "    # We define a ring of polynomials over the field of complex numbers\n",
    "    CC_poly.<x> = PolynomialRing(CC)\n",
    "    \n",
    "    # We create a polynomial\n",
    "    pol = x^5 + ll2*x^4 + ll4*x^3 + ll6*x^2 + ll8*x + ll10\n",
    "    \n",
    "    # We find roots\n",
    "    roots = pol.roots(multiplicities=False)\n",
    "    \n",
    "    # We add a point at infinity if the degree of the polynomial is odd\n",
    "    if pol.degree() % 2 == 1:\n",
    "        roots.append(infinity)\n",
    "    \n",
    "    return roots"
   ]
  },
  {
   "cell_type": "markdown",
   "id": "fbe2cc9a-96d5-4f9c-853b-4c6e018fd605",
   "metadata": {},
   "source": [
    "<div style=\"background-color:  rgba(153, 204, 255, 0.25); \n",
    "    font-family: 'Latin Modern Roman', Times, serif; font-size: 16px; border: 1px solid  rgb(0, 128,255); padding: 15px; border-radius: 5px; \">\n",
    "    <h4 style=\"font-size: 20px;color: rgb(0, 128,255);\">Note 1.3.</h4>\n",
    "    <p>\n",
    "        The <code style=\"color: rgb(81,206,9);font-size: 13px;\">multiplicities=False</code> parameter in the <code style=\"color: rgb(81,206,9);font-size: 13px;\">roots()</code>  method in Sage has the following meaning:\n",
    "        <ul>\n",
    "            <li>When <code style=\"color: rgb(81,206,9);font-size: 13px;\">multiplicities=False</code>  (default): The method returns only the roots of the polynomial, without information about their multiplicities. The result is a list of unique root values.</li>\n",
    "            <li>When <code style=\"color: rgb(81,206,9);font-size: 13px;\">multiplicities=True</code>: The method returns pairs (root, multiplicity) for each root. The result is a list of tuples, where each tuple contains the root and its multiplicity.</li>\n",
    "        </ul>            \n",
    "    </p>\n",
    "</div>\n",
    "\n"
   ]
  },
  {
   "cell_type": "code",
   "execution_count": 8,
   "id": "e10a1e44-2636-4f89-a21e-7ab6100e83dc",
   "metadata": {},
   "outputs": [
    {
     "name": "stdout",
     "output_type": "stream",
     "text": [
      "Branch points:\n",
      "-11.8251161409669\n",
      "-1.05264146874943\n",
      "-0.512317960119317\n",
      "0.695037784917798 - 1.04164546422316*I\n",
      "0.695037784917798 + 1.04164546422316*I\n",
      "+Infinity\n"
     ]
    }
   ],
   "source": [
    "# Example of use:\n",
    "\n",
    "branch_points = find_branch_points(l2, l4, l6, l8, l10)\n",
    "print(\"Branch points:\", *branch_points, sep='\\n')"
   ]
  },
  {
   "cell_type": "markdown",
   "id": "681a848d-2323-4d4e-9fe0-5687952734eb",
   "metadata": {},
   "source": [
    "<div style=\"font-family: 'Latin Modern Roman', Times, serif; font-size: 16px;\">\n",
    "<h1 style=\"font-size: 32px;\">2. First and Second Kind Periods</h1>\n",
    "<p>\n",
    "<p>\n",
    "    To construct periodic functions, we first define a canonical basis for the space of holomorphic differentials, \\( \\{du_i \\mid i = 1, \\ldots, g\\} \\), and the associated meromorphic differentials, \\( \\{dr_i \\mid i = 1, \\ldots, g\\} \\), on the Riemann surface as follows:\n",
    "    $$\n",
    "        du_{2i-1} := \\frac{x^{g-i} dx}{\\partial_y f(x,y)},\n",
    "    $$\n",
    "    $$\n",
    "        dr_{2i-1} := \\frac{\\mathcal{R}_{2i-1}(x) dx}{\\partial_y f(x,y)}, \n",
    "    $$\n",
    "    where\n",
    "    $$\n",
    "    \\mathcal{R}_{2i-1}(x)=\\sum_{k=1}^{2i-1}k\\lambda_{4i-2k-2}x^{g-i+k}.\n",
    "    $$\n",
    "    For \\( g = 2 \\), these expressions can be written in vector form as:\n",
    "    $$\n",
    "        du= \\begin{pmatrix} \n",
    "                x\\\\\n",
    "                1\n",
    "            \\end{pmatrix} \\frac{dx}{-2\\sqrt{f(x,y)}},\n",
    "    $$\n",
    "    $$\n",
    "        dr= \\begin{pmatrix} \n",
    "                \\mathcal{R}_{1}(x)\\\\\n",
    "                \\mathcal{R}_{3}(x)\n",
    "            \\end{pmatrix} \\frac{dx}{-2\\sqrt{f(x,y)}} = \n",
    "                 \\begin{pmatrix} \n",
    "                    x^2\\\\\n",
    "                    3x^3 + 2\\lambda_2 x^2 + \\lambda_4 x\n",
    "                \\end{pmatrix} \\frac{dx}{-2\\sqrt{f(x,y)}},\n",
    "    $$\n",
    "</p>\n",
    "</div>"
   ]
  },
  {
   "cell_type": "markdown",
   "id": "656e07d5-8f46-4682-bb4a-a1fe607cf64c",
   "metadata": {},
   "source": [
    "<div style=\"font-family: 'Latin Modern Roman', Times, serif; font-size: 16px;\">\n",
    "<p>\n",
    "    The holomorphic basis defined above can be compared to the output of the <code style=\"color: rgb(81,206,9);font-size: 13px;\">cohomology_basis()</code> function. In SageMath, <code style=\"color: rgb(81,206,9);font-size: 13px;\">S.cohomology_basis()</code> generates a list of holomorphic differentials, typically represented as polynomials $g(x)$ corresponding to the differentials:\n",
    "    $$\n",
    "        \\omega = g(x,y) \\frac{\\, dx}{\\partial f / \\partial y}\n",
    "    $$\n",
    "    where  $f(x, y) = 0$  defines the curve.\n",
    "</p>\n",
    "</div>    "
   ]
  },
  {
   "cell_type": "code",
   "execution_count": 9,
   "id": "31856c66-47e6-43f2-a1f5-a452e7a84871",
   "metadata": {},
   "outputs": [
    {
     "data": {
      "text/plain": [
       "[1, x]"
      ]
     },
     "execution_count": 9,
     "metadata": {},
     "output_type": "execute_result"
    }
   ],
   "source": [
    "S.cohomology_basis()"
   ]
  },
  {
   "cell_type": "markdown",
   "id": "9b024916-992f-4f29-a21d-6cab742acd97",
   "metadata": {},
   "source": [
    "<div style=\"background-color:  rgba(153, 204, 255, 0.25); \n",
    "    font-family: 'Latin Modern Roman', Times, serif; font-size: 16px; border: 1px solid  rgb(0, 128,255); padding: 15px; border-radius: 5px; \">\n",
    "    <h4 style=\"font-size: 20px;color: rgb(0, 128,255);\">Note 2.1.</h4>\n",
    "    <p>\n",
    "    The order of elements clearly differs from the convention adopted in <a href=\"https://arxiv.org/abs/2407.05632\" target=\"_blank\">[1]</a>. In this notebook, we adopt Julia Bernatska’s convention, as it provides a consistent framework for our computations.\n",
    "    </p>\n",
    "</div>"
   ]
  },
  {
   "cell_type": "markdown",
   "id": "8f2d36b3-18df-462d-9d85-0f2cce229c2b",
   "metadata": {},
   "source": [
    "<div style=\"font-family: 'Latin Modern Roman', Times, serif; font-size: 16px;\">\n",
    "<h2 style=\"font-size: 24px;\">2.1. First  Kind Periods</h2>\n",
    "</div>"
   ]
  },
  {
   "cell_type": "markdown",
   "id": "72c6ec21-2520-49d9-a59b-cf1c28d6038e",
   "metadata": {},
   "source": [
    "<div style=\"font-family: 'Latin Modern Roman', Times, serif; font-size: 16px;\">\n",
    "<p>\n",
    "   First we define our holomorphic base\n",
    "</p>\n",
    "</div>"
   ]
  },
  {
   "cell_type": "code",
   "execution_count": 10,
   "id": "4500d57a-9b33-4edf-bf60-98c3bf545f37",
   "metadata": {},
   "outputs": [],
   "source": [
    "# holomorphic differentials base\n",
    "holbais=[x,x^0]"
   ]
  },
  {
   "cell_type": "markdown",
   "id": "98370b29-53e2-4af2-b207-8eb6051849d7",
   "metadata": {},
   "source": [
    "<div style=\"font-family: 'Latin Modern Roman', Times, serif; font-size: 16px;\">\n",
    "<p>\n",
    "    To compute the period matrices of the first kind, one can evaluate the following integrals along the canonical homology cycles $\\{\\mathfrak{a}_i, \\mathfrak{b}_i\\}_{i=1}^g$:\n",
    "    $$\n",
    "        \\omega = (\\omega_{ij})= \\left( \\int_{\\mathfrak{a}_j}du_i \\right), \\quad \\omega' = (\\omega'_{ij})= \\left( \\int_{\\mathfrak{b}_j}du_i \\right). \n",
    "    $$\n",
    "Here, $\\omega$ and $\\omega'$ are the period matrices corresponding to the $\\mathfrak{a}$ and $\\mathfrak{b}$ cycles, respectively.\n",
    "\n",
    "Instead of this we use the SageMath function <code style=\"color: rgb(81,206,9);font-size: 13px;\">matrix_of_integral_values(differentials, integration_method='heuristic')</code> which compute the path integrals of the given differentials along the homology basis. The result is a matrix, where each row corresponds to a differential.\n",
    "\n",
    "If the Riemann surface is given by the equation $f(x,y)=0$, the differentials are encoded by:\n",
    "    $$\n",
    "            g(x,y)\\frac{dx}{(df/dy)}.\n",
    "    $$\n",
    "    <code style=\"color:  rgb(229,201,18);font-size: 13px;\">Input:</code>\n",
    "    <ul>\n",
    "        <li><code style=\"color:  rgb(81,206,9);font-size: 13px;\">differentials</code> – a list of polynomials.</li>\n",
    "        <li><code style=\"color:  rgb(81,206,9);font-size: 13px;\">integration_method</code> – (default: 'heuristic'). String specifying the integration method to use. The options are 'heuristic' and 'rigorous'.</li>\n",
    "    </ul>\n",
    "    <code style=\"color:  rgb(229,201,18);font-size: 13px;\">Output:</code>\n",
    "    A matrix, one row per differential, containing the values of the path integrals along the homology basis of the Riemann surface.\n",
    "</p>\n",
    "</div>"
   ]
  },
  {
   "cell_type": "code",
   "execution_count": 11,
   "id": "a901b565-5962-4b8c-bf71-7094cf2c0b11",
   "metadata": {},
   "outputs": [
    {
     "name": "stdout",
     "output_type": "stream",
     "text": [
      "[     0.13760 - 0.66033*I  -4.9304e-32 - 0.91722*I  -3.9443e-31 + 0.40344*I       1.1746 + 0.25689*I]\n",
      "[    -0.62448 + 0.28220*I -5.5467e-32 + 0.038862*I  -4.9304e-32 - 0.52554*I      0.14607 + 0.24334*I]\n"
     ]
    }
   ],
   "source": [
    "MofInt1=S.matrix_of_integral_values(holbais)\n",
    "# Let's display the matrix in a shortened form so that it will be easy to see its structure\n",
    "print(MofInt1.n(digits=5))"
   ]
  },
  {
   "cell_type": "markdown",
   "id": "10fd61cb-d1c7-4204-b826-4dc905bef183",
   "metadata": {},
   "source": [
    "<div style=\"font-family: 'Latin Modern Roman', Times, serif; font-size: 16px;\">\n",
    "<p>\n",
    "    The structure of the returned matrix\n",
    "    $$\n",
    "    MofInt1 = \n",
    "        \\begin{pmatrix}\n",
    "            \\omega_{1,1} & \\omega_{1,2} & \\omega'_{1,1} & \\omega'_{1,2} \\\\\n",
    "            \\omega_{3,1} & \\omega_{3,2} & \\omega'_{3,1} & \\omega'_{3,2}\n",
    "        \\end{pmatrix}\n",
    "        =\n",
    "        \\begin{array}{|c|c|c|c|c|}\n",
    "            \\hline\n",
    "            & \\mathfrak{a}_1 & \\mathfrak{a}_2 & \\mathfrak{b}_1 & \\mathfrak{b}_2 \\\\\n",
    "            \\hline\n",
    "            du_1 & \\omega_{1,1} = \\int_{\\mathfrak{a}_1} du_1 & \\omega_{1,2} = \\int_{\\mathfrak{a}_2} du_1 & \\omega'_{1,1} = \\int_{\\mathfrak{b}_1} du_1 & \\omega'_{1,2} = \\int_{\\mathfrak{b}_2} du_1 \\\\\n",
    "            \\hline\n",
    "            du_3 & \\omega_{3,1} = \\int_{\\mathfrak{a}_1} du_3 & \\omega_{3,2} = \\int_{\\mathfrak{a}_2} du_3 & \\omega'_{3,1} = \\int_{\\mathfrak{b}_1} du_3 & \\omega'_{3,2} = \\int_{\\mathfrak{b}_2} du_3 \\\\\n",
    "            \\hline\n",
    "        \\end{array}\n",
    "    $$\n",
    "</p>\n",
    "</div>"
   ]
  },
  {
   "cell_type": "markdown",
   "id": "e42b7091-17ab-486d-a277-7fc1f5899ea5",
   "metadata": {},
   "source": [
    "<div style=\"font-family: 'Latin Modern Roman', Times, serif; font-size: 16px;\">\n",
    "    <p>\n",
    "    We can compare this with the results of the built-in Sage function: <code style=\"color:  rgb(81,206,9);font-size: 13px;\">period_matrix()</code>, which, for the adopted notational convention, will return a period matrix in the form\n",
    "    $$\n",
    "        pM= \\begin{pmatrix}\n",
    "                \\omega_{3,1} & \\omega_{3,2} & \\omega'_{3,1} & \\omega'_{3,2} \\\\\n",
    "                \\omega_{1,1} & \\omega_{1,2} & \\omega'_{1,1} & \\omega'_{3,2}\n",
    "        \\end{pmatrix}  \n",
    "    $$   \n",
    "    </p>\n",
    "</div>"
   ]
  },
  {
   "cell_type": "code",
   "execution_count": 12,
   "id": "0b78f17c-1411-4011-a10b-8dc64807afbc",
   "metadata": {},
   "outputs": [
    {
     "name": "stdout",
     "output_type": "stream",
     "text": [
      "[   -0.62448 + 0.28220*I 4.3141e-32 + 0.038862*I -4.9304e-32 - 0.52554*I     0.14607 + 0.24334*I]\n",
      "[    0.13760 - 0.66033*I  2.2187e-31 - 0.91722*I -5.9165e-31 + 0.40344*I      1.1746 + 0.25689*I]\n"
     ]
    }
   ],
   "source": [
    "pM=S.period_matrix()\n",
    "print(pM.n(digits=5))"
   ]
  },
  {
   "cell_type": "markdown",
   "id": "01162df8-5303-4f02-a760-2d228bdb6477",
   "metadata": {},
   "source": [
    "<div style=\"font-family: 'Latin Modern Roman', Times, serif; font-size: 16px;\">\n",
    "<p>\n",
    "    Before going any further, lat's define a function that will display the matrices in a approximated form so that we can compare them more easily.\n",
    "</p>\n",
    "</div>    "
   ]
  },
  {
   "cell_type": "code",
   "execution_count": 13,
   "id": "160391ff-a051-4a14-875d-1bc47add5f4c",
   "metadata": {},
   "outputs": [],
   "source": [
    "def format_complex(z, digits=5, threshold=1e-10):\n",
    "    real = float(z.real())\n",
    "    imag = float(z.imag())\n",
    "    \n",
    "    # We round very small values to zero\n",
    "    if abs(real) < threshold:\n",
    "        real = 0\n",
    "        if abs(imag) < threshold:\n",
    "            return \"0\"\n",
    "        # We format the result  \n",
    "        return f\"{imag:.{digits}f}*I\"\n",
    "    \n",
    "    if abs(imag) < threshold:\n",
    "        # We format the result\n",
    "        return f\"{real:.{digits}f}\"\n",
    "\n",
    "    sign = \"+\" if imag > 0 else \"-\"\n",
    "    return f\"{real:.{digits}f} {sign} {abs(imag):.{digits}f}*I\"\n",
    "\n",
    "\n",
    "def ApproxM(matrix, digits=5, threshold=1e-10):\n",
    "    rows, cols = matrix.nrows(), matrix.ncols()\n",
    "    \n",
    "    for i in range(rows):\n",
    "        formatted_row = [format_complex(matrix[i,j], digits, threshold) for j in range(cols)]\n",
    "        print(\"\\t\".join(formatted_row))"
   ]
  },
  {
   "cell_type": "code",
   "execution_count": 14,
   "id": "d71b4375-dc25-4442-ad9e-735bd58ebe05",
   "metadata": {},
   "outputs": [
    {
     "name": "stdout",
     "output_type": "stream",
     "text": [
      "0.13760 - 0.66033*I\t-0.91722*I\t0.40344*I\t1.17459 + 0.25689*I\n",
      "-0.62448 + 0.28220*I\t0.03886*I\t-0.52554*I\t0.14607 + 0.24334*I\n"
     ]
    }
   ],
   "source": [
    "ApproxM(MofInt1)"
   ]
  },
  {
   "cell_type": "code",
   "execution_count": 15,
   "id": "0705df18-a82e-428e-9694-be6180da66ae",
   "metadata": {},
   "outputs": [
    {
     "name": "stdout",
     "output_type": "stream",
     "text": [
      "-0.62448 + 0.28220*I\t0.03886*I\t-0.52554*I\t0.14607 + 0.24334*I\n",
      "0.13760 - 0.66033*I\t-0.91722*I\t0.40344*I\t1.17459 + 0.25689*I\n"
     ]
    }
   ],
   "source": [
    "ApproxM(pM)"
   ]
  },
  {
   "cell_type": "markdown",
   "id": "f734c321-7ffa-4e9d-ac53-05c3b94c9051",
   "metadata": {},
   "source": [
    "<div style=\"font-family: 'Latin Modern Roman', Times, serif; font-size: 16px;\">\n",
    "    <p>\n",
    "    In what follows we use the function <code style=\"color:  rgb(81,206,9);font-size: 13px;\">matrix_of_integral_values()</code> instead of <code style=\"color:  rgb(81,206,9);font-size: 13px;\">period_matrix()</code> because it allows us to calculate periodic matrices of the second kind.\n",
    "    </p>\n",
    "</div>"
   ]
  },
  {
   "cell_type": "code",
   "execution_count": 16,
   "id": "ea4d7634-389d-4c4b-baed-aa6dce9b63bb",
   "metadata": {},
   "outputs": [
    {
     "name": "stdout",
     "output_type": "stream",
     "text": [
      "0.13760 - 0.66033*I\t-0.91722*I\n",
      "-0.62448 + 0.28220*I\t0.03886*I\n",
      "\n",
      "0.40344*I\t1.17459 + 0.25689*I\n",
      "-0.52554*I\t0.14607 + 0.24334*I\n"
     ]
    }
   ],
   "source": [
    "# Extract the omega-periods (first two columns)\n",
    "omega = MofInt1[:, 0:2]\n",
    "\n",
    "# Extract the omega'-periods (last two columns)\n",
    "omegaP = MofInt1[:, 2:4]\n",
    "\n",
    "ApproxM(omega)\n",
    "print()\n",
    "ApproxM(omegaP)"
   ]
  },
  {
   "cell_type": "markdown",
   "id": "d488f256-dae5-4974-acb1-c8decd61098b",
   "metadata": {},
   "source": [
    "<div style=\"font-family: 'Latin Modern Roman', Times, serif; font-size: 16px;\">\n",
    "    <p>\n",
    "    Now we calculate the matrix\n",
    "    $$\n",
    "        \\tau=\\omega^{-1}\\omega'\n",
    "    $$\n",
    "    which belongs to the Siegel upper half-space. Hence it should satisfy two conditions:\n",
    "    <ul>\n",
    "        <li>Symmetry: $$ \\tau^T = \\tau$$ \n",
    "        <li>Positive definiteness of the imaginary part $$ Im(\\tau)>0$$\n",
    "    </ul>\n",
    "    </p>\n",
    "</div>"
   ]
  },
  {
   "cell_type": "code",
   "execution_count": 17,
   "id": "8b2347a8-e79d-4d50-8966-b969f7c08f38",
   "metadata": {},
   "outputs": [
    {
     "name": "stdout",
     "output_type": "stream",
     "text": [
      "[-0.28894 + 0.70313*I -0.12636 - 0.46286*I]\n",
      "[-0.12636 - 0.46286*I  -0.25854 + 1.6328*I]\n"
     ]
    }
   ],
   "source": [
    "tau= omega.inverse() * omegaP\n",
    "\n",
    "# Displaying the result\n",
    "print(tau.n(digits=5))"
   ]
  },
  {
   "cell_type": "markdown",
   "id": "62a94773-d78d-4651-a429-6bd039f4262e",
   "metadata": {},
   "source": [
    "<div style=\"font-family: 'Latin Modern Roman', Times, serif; font-size: 16px;\">\n",
    "    <p>\n",
    "    Here we can also compare this with the results of the built-in Sage function: <code style=\"color:  rgb(81,206,9);font-size: 13px;\">riemann_matrix()</code>:\n",
    "    </p>\n",
    "</div>"
   ]
  },
  {
   "cell_type": "code",
   "execution_count": 18,
   "id": "d52ad83d-3feb-4bdf-88c2-fa46c614caa1",
   "metadata": {},
   "outputs": [
    {
     "data": {
      "text/plain": [
       "[-0.28894 + 0.70313*I -0.12636 - 0.46286*I]\n",
       "[-0.12636 - 0.46286*I  -0.25854 + 1.6328*I]"
      ]
     },
     "execution_count": 18,
     "metadata": {},
     "output_type": "execute_result"
    }
   ],
   "source": [
    "S.riemann_matrix().n(digits=5)"
   ]
  },
  {
   "cell_type": "code",
   "execution_count": 19,
   "id": "f16f3543-f668-4559-8017-b052908726be",
   "metadata": {},
   "outputs": [
    {
     "name": "stdout",
     "output_type": "stream",
     "text": [
      "[0.00000 0.00000]\n",
      "[0.00000 0.00000]\n"
     ]
    }
   ],
   "source": [
    "# Test of the symmetry\n",
    "print(tau-tau.transpose().n(digits=5))"
   ]
  },
  {
   "cell_type": "code",
   "execution_count": 20,
   "id": "7648064c-2c64-400e-8cb8-5a9e17d456a3",
   "metadata": {},
   "outputs": [
    {
     "data": {
      "text/plain": [
       "([1.8239307353738361091933820951, 0.51198440541283078719843599741], True)"
      ]
     },
     "execution_count": 20,
     "metadata": {},
     "output_type": "execute_result"
    }
   ],
   "source": [
    "# Test of positivity\n",
    "# Calculating the complex part of the tau matrix\n",
    "tauImag = tau.apply_map(lambda x: x.imag())\n",
    "\n",
    "# Calculate the eigenvalues\n",
    "eigenvalues = tauImag.eigenvalues()\n",
    "\n",
    "# Checking if all eigenvalues are positive\n",
    "all_positive = all(e > 0 for e in eigenvalues)\n",
    "\n",
    "# Displaying the result\n",
    "eigenvalues, all_positive"
   ]
  },
  {
   "cell_type": "markdown",
   "id": "377ca866-63d4-45b1-a8b1-ea33efaacdb5",
   "metadata": {},
   "source": [
    "<div style=\"font-family: 'Latin Modern Roman', Times, serif; font-size: 16px;\">\n",
    "<h2 style=\"font-size: 24px;\">2.2. Second Kind Periods</h2>\n",
    "</div>"
   ]
  },
  {
   "cell_type": "markdown",
   "id": "9e5a1ba1-d836-4292-8358-e6a5d49afc39",
   "metadata": {},
   "source": [
    "<div style=\"font-family: 'Latin Modern Roman', Times, serif; font-size: 16px;\">\n",
    "<p>\n",
    "To calculate the second kind period matrices, we need to calculate the following integrals along the canonical homology cycles $\\{ \\mathfrak{a}_i, \\mathfrak{b}_i\\}_{i=1}^g$\n",
    "    <div style=\"text-align: center;\">\n",
    "        $\\eta = (\\eta_{ij})= \\left( \\int_{\\mathfrak{a}_j}dr_i \\right), \\quad \\eta' = (\\eta'_{ij})= \\left( \\int_{\\mathfrak{b}_j}dr_i \\right). $\n",
    "    </div>\n",
    "</p>\n",
    "</div>"
   ]
  },
  {
   "cell_type": "code",
   "execution_count": 21,
   "id": "aaf2b4ff-55dc-4774-863a-af40f6a84d7d",
   "metadata": {},
   "outputs": [],
   "source": [
    "# meromorphic differentials base\n",
    "merbais=[x^2, 3*x^3 + 2*l2*x^2 + l4*x]"
   ]
  },
  {
   "cell_type": "code",
   "execution_count": 22,
   "id": "75b062bf-1ab3-42d0-a9dd-de5e2e5a1724",
   "metadata": {},
   "outputs": [
    {
     "name": "stdout",
     "output_type": "stream",
     "text": [
      "0.15574 + 0.20627*I\t0.08372*I\t-0.32882*I\t-7.07532 + 0.12255*I\n",
      "4.74867 + 3.09497*I\t-0.04832*I\t-6.23827*I\t-2.96268 + 3.14329*I\n"
     ]
    }
   ],
   "source": [
    "MofInt2=S.matrix_of_integral_values(merbais)\n",
    "# Let's display the matrix in a shortened form so that it will be easy to see its structure\n",
    "ApproxM(MofInt2)"
   ]
  },
  {
   "cell_type": "code",
   "execution_count": 23,
   "id": "e3e67681-300a-4c14-a4b1-989d5197ce2a",
   "metadata": {},
   "outputs": [
    {
     "name": "stdout",
     "output_type": "stream",
     "text": [
      "0.15574 + 0.20627*I\t0.08372*I\n",
      "4.74867 + 3.09497*I\t-0.04832*I\n",
      "\n",
      "-0.32882*I\t-7.07532 + 0.12255*I\n",
      "-6.23827*I\t-2.96268 + 3.14329*I\n"
     ]
    }
   ],
   "source": [
    "# Extract the omega-periods (first two columns)\n",
    "eta = MofInt2[:, 0:2]\n",
    "\n",
    "# Extract the omega'-periods (last two columns)\n",
    "etaP = MofInt2[:, 2:4]\n",
    "\n",
    "ApproxM(eta)\n",
    "print()\n",
    "ApproxM(etaP)"
   ]
  },
  {
   "cell_type": "markdown",
   "id": "7d5de65b-14c2-4a2e-affa-f50bc1d58218",
   "metadata": {},
   "source": [
    "<div style=\"font-family: 'Latin Modern Roman', Times, serif; font-size: 16px;\">\n",
    "    <p>\n",
    "    We can compute $\\kappa$, given by\n",
    "    $$\n",
    "        \\kappa=\\eta\\; \\omega^{-1}\n",
    "    $$\n",
    "    </p>\n",
    "</div>"
   ]
  },
  {
   "cell_type": "code",
   "execution_count": 24,
   "id": "89b36023-3ec0-4f22-8652-0b59edd9daa7",
   "metadata": {},
   "outputs": [
    {
     "name": "stdout",
     "output_type": "stream",
     "text": [
      "-0.09763 - 0.01261*I\t-0.14978 - 0.29754*I\n",
      "-0.14978 - 0.29754*I\t-4.77835 - 7.02263*I\n"
     ]
    }
   ],
   "source": [
    "omega_inv=Matrix(omega).inverse()\n",
    "kappa = eta*omega_inv\n",
    "ApproxM(kappa)"
   ]
  },
  {
   "cell_type": "markdown",
   "id": "c454c331-111d-4fb6-ab62-7f4f7b132b4b",
   "metadata": {},
   "source": [
    "<div style=\"font-family: 'Latin Modern Roman', Times, serif; font-size: 16px;\">\n",
    "<h1 style=\"font-size: 24px;\">3. Legendre relation</h1>\n",
    "</div>"
   ]
  },
  {
   "cell_type": "markdown",
   "id": "6ae497b9-b2d6-46e8-9c83-fbd176529b91",
   "metadata": {},
   "source": [
    "<div style=\"font-family: 'Latin Modern Roman', Times, serif; font-size: 16px;\">\n",
    "<p>\n",
    "    Next, we perform another test. The unnormalised period matrices of the first kind, $\\omega$ and $\\omega'$, and the second kind, $\\eta$ and $\\eta'$, should satisfy the Legendre relation:\n",
    "    $$\n",
    "        \\Omega^T J \\Omega = 2\\pi i J\n",
    "    $$\n",
    "    where\n",
    "    $$\n",
    "        \\Omega=\n",
    "            \\begin{pmatrix}\n",
    "                \\omega && \\omega'\\\\\n",
    "                \\eta && \\eta'\\\\\n",
    "            \\end{pmatrix}, \\quad \n",
    "        J=        \n",
    "            \\begin{pmatrix}\n",
    "                0 && -1_g\\\\\n",
    "                1_g && 0\\\\\n",
    "            \\end{pmatrix}\n",
    "    $$\n",
    "</p>\n",
    "</div>"
   ]
  },
  {
   "cell_type": "code",
   "execution_count": 25,
   "id": "c4ac05e0-31a4-4c2d-a377-3ede5929ec3d",
   "metadata": {},
   "outputs": [
    {
     "name": "stdout",
     "output_type": "stream",
     "text": [
      "Omega Matrix:\n",
      "[     0.13760 - 0.66033*I  -4.9304e-32 - 0.91722*I| -3.9443e-31 + 0.40344*I       1.1746 + 0.25689*I]\n",
      "[    -0.62448 + 0.28220*I -5.5467e-32 + 0.038862*I| -4.9304e-32 - 0.52554*I      0.14607 + 0.24334*I]\n",
      "[-------------------------------------------------+-------------------------------------------------]\n",
      "[     0.15574 + 0.20627*I  7.8886e-31 + 0.083724*I| -8.3816e-31 - 0.32882*I      -7.0753 + 0.12255*I]\n",
      "[       4.7487 + 3.0950*I  1.1360e-28 - 0.048319*I|   2.2088e-29 - 6.2383*I       -2.9627 + 3.1433*I]\n",
      "\n",
      "J Matrix:\n",
      "[0.00000 0.00000|-1.0000 0.00000]\n",
      "[0.00000 0.00000|0.00000 -1.0000]\n",
      "[---------------+---------------]\n",
      "[ 1.0000 0.00000|0.00000 0.00000]\n",
      "[0.00000  1.0000|0.00000 0.00000]\n"
     ]
    }
   ],
   "source": [
    "# Omega matrix\n",
    "Omega = block_matrix([\n",
    "    [omega, omegaP],\n",
    "    [eta, etaP]\n",
    "])\n",
    "\n",
    "# Converting lists to matrices\n",
    "zeroM = Matrix([[0.0, 0.0], [0.0, 0.0]])\n",
    "mOneg = Matrix([[-1.0, 0.0], [0.0, -1.0]])\n",
    "Oneg = Matrix([[1.0, 0.0], [0.0, 1.0]])\n",
    "\n",
    "# J matrix\n",
    "J = block_matrix([\n",
    "    [zeroM, mOneg],\n",
    "    [Oneg, zeroM]\n",
    "])    \n",
    "\n",
    "\n",
    "print(\"Omega Matrix:\")\n",
    "print(Omega.n(digits=5))\n",
    "print()\n",
    "print(\"J Matrix:\")\n",
    "print(J.n(digits=5))"
   ]
  },
  {
   "cell_type": "code",
   "execution_count": 26,
   "id": "be130686-4513-4df3-9db1-596a99cdc773",
   "metadata": {},
   "outputs": [
    {
     "name": "stdout",
     "output_type": "stream",
     "text": [
      "0\t0\t0\t0\n",
      "0\t0\t0\t0\n",
      "0\t0\t0\t0\n",
      "0\t0\t0\t0\n"
     ]
    }
   ],
   "source": [
    "import numpy as np\n",
    "\n",
    "pi = np.pi\n",
    "left=Omega.transpose()*J*Omega\n",
    "right = 2*pi*I*J\n",
    "result = left - right\n",
    "ApproxM(result)"
   ]
  },
  {
   "cell_type": "markdown",
   "id": "59eaf880-05a5-4f89-b6e5-cf416c06e7d4",
   "metadata": {},
   "source": [
    "<div style=\"font-family: 'Latin Modern Roman', Times, serif; font-size: 16px;\">\n",
    "<h1 style=\"font-size: 24px;\">4. Theta function</h1>\n",
    "<p>\n",
    "\n",
    "</p>\n",
    "</div>"
   ]
  },
  {
   "cell_type": "markdown",
   "id": "3ed0759f-f91c-40ad-8590-7a891237a8b7",
   "metadata": {},
   "source": [
    "<div style=\"background-color:  rgba(224, 224, 224, 0.25); \n",
    "    font-family: 'Latin Modern Roman', Times, serif; font-size: 16px; border: 1px solid  rgb(192, 192, 192); padding: 15px; border-radius: 5px; \">\n",
    "    <h4 style=\"font-size: 20px;color: rgb(160, 160, 160);\">Definition 4.1.</h4>\n",
    "    <p>        \n",
    "        The Riemann <i>theta function</i> $\\theta(v;\\tau)$ defined in terms of normalised coordinates $\\mathbf{v} = \\omega^{-1} \\mathbf{u}$ and period matrix $\\tau$, canonicaly is given by\n",
    "        $$\n",
    "            \\theta(\\mathbf{v};\\tau) = \\sum_{n\\in\\mathbb{Z}^g} e^{i\\pi \\mathbf{n}^T \\tau \\mathbf{n} + 2i \\pi \\mathbf{n}^T \\mathbf{v}}.\n",
    "        $$\n",
    "        A theta function with characteristic $[\\varepsilon ]$ is defined by\n",
    "        $$\n",
    "            \\theta[\\varepsilon](\\mathbf{v};\\tau) = \n",
    "            \\theta \n",
    "                \\begin{bmatrix}\n",
    "                    \\varepsilon'_1 & \\ldots & \\varepsilon'_g\\\\\n",
    "                    \\varepsilon_1 & \\ldots & \\varepsilon_g\\\\\n",
    "                \\end{bmatrix}\n",
    "            (\\mathbf{v};\\tau)=\n",
    "            \\sum_{n\\in\\mathbb{Z}^g} e^{i\\pi\\{ (\\mathbf{n}+ \\frac{1}{2}\\mathbf{\\varepsilon}'^T ) \\tau (\\mathbf{n}+ \\frac{1}{2}\\mathbf{\\varepsilon}') +2 (\\mathbf{v}+\\frac{1}{2}\\mathbf{\\varepsilon})^T (\\mathbf{n}+\\frac{1}{2}\\mathbf{\\varepsilon}') \\} }.\n",
    "        $$\n",
    "    </p>    \n",
    "    </div>\n",
    "\n",
    "</div>"
   ]
  },
  {
   "cell_type": "markdown",
   "id": "a284b436-7f03-4721-a2b7-dd0e2598721d",
   "metadata": {},
   "source": [
    "<div style=\"background-color:  rgba(255, 153, 153, 0.25); \n",
    "    font-family: 'Latin Modern Roman', Times, serif; font-size: 16px; border: 1px solid  rgb(255, 51,51); padding: 15px; border-radius: 5px; \">\n",
    "    <h4 style=\"font-size: 20px;color: rgb(255, 51,51);\">Important 4.1.</h4>\n",
    "    <p>\n",
    "        In the literature, it is common to use a convention with slightly different characteristics:\n",
    "        $$\n",
    "            (\\varepsilon_i, \\varepsilon'_j) \\to 2 (\\varepsilon_i, \\varepsilon'_j)\n",
    "        $$\n",
    "        in consequence\n",
    "        $$\n",
    "            \\theta[\\varepsilon](\\mathbf{v};\\tau) = \n",
    "            \\theta \n",
    "                \\begin{bmatrix}\n",
    "                    \\varepsilon'_1 & \\ldots & \\varepsilon'_g\\\\\n",
    "                    \\varepsilon_1 & \\ldots & \\varepsilon_g\\\\\n",
    "                \\end{bmatrix}\n",
    "            (\\mathbf{v};\\tau)=\n",
    "            \\sum_{n\\in\\mathbb{Z}^g} e^{i\\pi\\{ (\\mathbf{n}+ \\mathbf{\\varepsilon}'^T ) \\tau (\\mathbf{n}+ \\mathbf{\\varepsilon}') +2 (\\mathbf{v}+\\mathbf{\\varepsilon})^T (\\mathbf{n}+\\mathbf{\\varepsilon}') \\} }.\n",
    "        $$\n",
    "    </p>    \n",
    "    </div>\n",
    "\n",
    "</div>"
   ]
  },
  {
   "cell_type": "code",
   "execution_count": 27,
   "id": "a9538179-dd85-4c31-a455-3a4b3df4d9ca",
   "metadata": {},
   "outputs": [],
   "source": [
    "def Theta( v, ttau, NAcc):\n",
    "    # NAcc is responsible for the number of elements in the sum, i.e. the precision of the result. \n",
    "    # Experimentally, a good approximation is obtained for NAcc>4, but of course this can be increased as needed.\n",
    "    total_sum = 0\n",
    "    # epsilon_m is the list [epsilon 1, epsilon 2] where epsilon1 and epsilon2 are vectors\n",
    "    \n",
    "    # We iterate over two indices from -NAcc to NAcc\n",
    "    for n1 in range(-NAcc, NAcc):\n",
    "        for n2 in range(-NAcc, NAcc):\n",
    "            # We create vector n\n",
    "            n = vector([n1, n2])\n",
    "                    \n",
    "            # The first component of the sum\n",
    "            term1 = I * pi * n * (ttau * n)\n",
    "                    \n",
    "            # The second component of the sum\n",
    "            term2 = 2 * I * pi * n * v\n",
    "                    \n",
    "            # We add the exp from these components to the total\n",
    "            total_sum += exp(term1 + term2)\n",
    "    \n",
    "    return total_sum"
   ]
  },
  {
   "cell_type": "code",
   "execution_count": 28,
   "id": "a1ed0acd-6bc8-473a-bb8e-de186db611c7",
   "metadata": {},
   "outputs": [],
   "source": [
    "def ThetaCh(epsilon_m, v, ttau, NAcc):\n",
    "    # NAcc is responsible for the number of elements in the sum, i.e. the precision of the result. \n",
    "    # Experimentally, a good approximation is obtained for NAcc>4, but of course this can be increased as needed.\n",
    "    total_sum = 0\n",
    "    # epsilon_m is the list [epsilon 1, epsilon 2] where epsilon1 and epsilon2 are vectors\n",
    "    epsilon1 = epsilon_m[0]\n",
    "    epsilon2 = epsilon_m[1]\n",
    "    \n",
    "    # We iterate over two indices from -NAcc to NAcc\n",
    "    for n1 in range(-NAcc, NAcc):\n",
    "        for n2 in range(-NAcc, NAcc):\n",
    "            # We create vector n\n",
    "            n = vector([n1, n2])\n",
    "                    \n",
    "            # The first component of the sum\n",
    "            term1 = I * pi * (n + 1/2 * vector(epsilon1)) * (ttau * (n + 1/2 * vector(epsilon1)))\n",
    "                    \n",
    "            # The second component of the sum\n",
    "            term2 = 2 * I * pi * (n + 1/2 * vector(epsilon1)) * (v + 1/2 * vector(epsilon2))\n",
    "                    \n",
    "            # We add the exp from these components to the total\n",
    "            total_sum += exp(term1 + term2)\n",
    "    \n",
    "    return total_sum"
   ]
  },
  {
   "cell_type": "markdown",
   "id": "17ae763f-2907-4114-ae45-9cca597a4a75",
   "metadata": {},
   "source": [
    "<div style=\"background-color:  rgba(153, 204, 255, 0.25); \n",
    "    font-family: 'Latin Modern Roman', Times, serif; font-size: 16px; border: 1px solid  rgb(0, 128,255); padding: 15px; border-radius: 5px; \">\n",
    "    <h4 style=\"font-size: 20px;color: rgb(0, 128,255);\">Note 4.1.</h4>\n",
    "    <p>\n",
    "        In Wolfram Mathematica exists a corresponding function under the name <code style=\"color:  rgb(81,206,9);font-size: 13px;\">SiegelTheta[$\\nu_1$,$\\nu_2$]($\\Omega,s$)</code>. The relation between our variables and those in Mathematica are as follows\n",
    "        <ul>\n",
    "            <li> $\\Omega=\\tau$ </li>\n",
    "            <li> $s=v$ </li>\n",
    "            <li> $\\nu_1 = \\frac{1}{2} epsilon1$ </li>\n",
    "            <li> $\\nu_2 = \\frac{1}{2} epsilon2$   </li> \n",
    "        </ul>  \n",
    "        To test this, you can check the following code in Mathematica\n",
    "    </p>\n",
    "        <pre style=\" color: #f8f8f2; padding: 1px; border-radius: 5px; font-size: 13px;\">\n",
    "        <code style=\"color: rgb(81,206,9);\">\n",
    "            ```Mathematica         \n",
    "            SiegelTheta[{{2, 4}, {4, 2}}, IdentityMatrix[2] I, {1, 2}] // N\n",
    "        </code>\n",
    "        </pre>\n",
    "    <p>\n",
    "        and compare it with below one\n",
    "    </p>    \n",
    "        <pre style=\" color: #f8f8f2; padding: 10px; border-radius: 5px; font-size: 13px;\">\n",
    "        <code style=\"color: rgb(81,206,9)\">\n",
    "            ```SageMath           \n",
    "            # Defining sample data\n",
    "            epsilon_m = [vector([4, 8]), vector([8, 4])]\n",
    "            v = vector([1, 2])\n",
    "            tau = Matrix([[I, 0], [0, I]])\n",
    "            NAcc = 5\n",
    "            # Function call\n",
    "            result = ThetaCh(epsilon_m, v, tau, NAcc)\n",
    "            print(result)\n",
    "        </code>\n",
    "        </pre>\n",
    "    <p>\n",
    "        Additionally, one can define the $\\theta$ function in Mathematica in a similar way with the following code:\n",
    "    </p>\n",
    "        <pre style=\" color: #f8f8f2; padding: 10px; border-radius: 5px; font-size: 13px;\">\n",
    "        <code style=\"color: rgb(81,206,9);\">\n",
    "        ```Mathematica\n",
    "        ThetaCh[\\[Epsilon]m_, v_, \\[Tau]_, NAcc_] :=\n",
    "         Sum[\n",
    "          Exp[\n",
    "           I Pi ({Subscript[n, 1], Subscript[n, 2]} + \n",
    "            1/2 \\[Epsilon]m[[1]]) . (\\[Tau] . ({Subscript[n, 1], Subscript[n, 2]} + 1/2 \\[Epsilon]m[[1]])) + 2 I Pi ({Subscript[n, 1], Subscript[n, 2]} + 1/2 \\[Epsilon]m[[1]]) . (v + 1/2 \\[Epsilon]m[[2]])\n",
    "           ],\n",
    "          {Subscript[n, 2], -NAcc, NAcc}, {Subscript[n, 1], -NAcc, NAcc}\n",
    "          ]\n",
    "        </code>\n",
    "        </pre>\n",
    "    <p>\n",
    "        And check the result of the above test with: \n",
    "    </p>\n",
    "        <pre style=\" color: #f8f8f2; padding: 10px; border-radius: 5px; font-size: 13px;\">\n",
    "        <code style=\"color: rgb(81,206,9);\">\n",
    "        ```Mathematica    \n",
    "        ThetaCh[2 {{2, 4}, {4, 2}}, {1, 2}, IdentityMatrix[2] I, 5] // N\n",
    "        </code>\n",
    "        </pre>\n",
    "</div>"
   ]
  },
  {
   "cell_type": "markdown",
   "id": "b3a2d914-9f35-4543-b68d-b0b1255f7087",
   "metadata": {},
   "source": [
    "<div style=\"font-family: 'Latin Modern Roman', Times, serif; font-size: 16px;\">\n",
    "<h2 style=\"font-size: 24px;\">5.1. Tests</h2>\n",
    "</div>"
   ]
  },
  {
   "cell_type": "markdown",
   "id": "62293717-2ba6-4f54-adad-aa9141e4ba1d",
   "metadata": {},
   "source": [
    "<div style=\"font-family: 'Latin Modern Roman', Times, serif; font-size: 16px;\">\n",
    "<p>\n",
    "Test of the formula (<a href=\"https://arxiv.org/abs/2407.05632\" target=\"_blank\">[1]</a>, p.4, eq. 7)\n",
    "$$\n",
    "    \\theta[\\varepsilon](\\mathbf{v};\\tau) = \n",
    "            e^{i\\pi\\left(\\frac{1}{2} \\mathbf{\\varepsilon}'^T\\right) \\tau \\left(\\frac{1}{2} \\mathbf{\\varepsilon}'\\right) + 2i\\pi \\left( \\mathbf{v} + \\frac{1}{2} \\mathbf{\\varepsilon}\\right)^T \\left(\\frac{1}{2} \\mathbf{\\varepsilon}'\\right)} \\theta\\left(\\mathbf{v} + \\frac{1}{2}\\mathbf{\\varepsilon} + \\tau\\left(\\frac{1}{2}\\mathbf{\\varepsilon}'\\right);\\tau \\right).   \n",
    "$$    \n",
    "\n",
    "where a characteristic is a a $2\\times g$ matrix $[\\varepsilon] = (\\mathbf{\\varepsilon}',\\mathbf{\\varepsilon})^T $    \n",
    "</p>\n",
    "</div>"
   ]
  },
  {
   "cell_type": "code",
   "execution_count": 29,
   "id": "4c1d3c2a-5944-4f0c-b526-37f5ac786fff",
   "metadata": {},
   "outputs": [
    {
     "name": "stdout",
     "output_type": "stream",
     "text": [
      "Theta with characteristic:\n",
      " 1.0600858517074845 - 0.2501023731212625*I\n",
      "\n",
      "Exponential factor:\n",
      " 0.5734712442681018 + 0.050148801540618036*I\n",
      "\n",
      "Theta at shifted point:\n",
      " 1.7966652347912195 - 0.5932345951363659*I\n",
      "\n",
      "RHS:\n",
      " 1.0600858517074845 - 0.2501023731212626*I\n",
      "\n",
      "Difference:\n",
      " 1.1102230246251565e-16*I\n",
      "The relation is verified within the given tolerance.\n"
     ]
    }
   ],
   "source": [
    "# Define the genus\n",
    "g = 2  # For genus 2\n",
    "\n",
    "Acc=20\n",
    "\n",
    "# Define the period matrix tau\n",
    "### tau = Matrix(CC, [[I, 0.5], [0.5, I]])\n",
    "tau = omega.inverse() * omegaP\n",
    "\n",
    "# Define the vector v\n",
    "v = vector(CC, [0.1, 0.2])\n",
    "\n",
    "# Define the characteristic\n",
    "eps_prime = [1, 0]\n",
    "eps = [0, 1]\n",
    "N = 2  # Level of the characteristic\n",
    "char = Matrix([eps_prime,eps])\n",
    "\n",
    "# Compute theta with characteristic at v\n",
    "theta_char = ThetaCh(char, v, tau, Acc)\n",
    "\n",
    "# Compute half of the characteristic vectors\n",
    "eps_vec = vector(CC, eps)\n",
    "eps_prime_vec = vector(CC, eps_prime)\n",
    "eps_half = 0.5 * eps_vec\n",
    "eps_prime_half = 0.5 * eps_prime_vec\n",
    "\n",
    "# Compute the shifted vector v_shifted\n",
    "v_shifted = v + eps_half + tau * eps_prime_half\n",
    "\n",
    "# Compute the terms for the exponential factor\n",
    "term1 = (eps_prime_half) * tau * (eps_prime_half)\n",
    "term2 = (v + eps_half) * (eps_prime_half)\n",
    "\n",
    "# Compute the exponential factor\n",
    "exp_factor = exp(I * pi * term1 + 2 * I * pi * term2)\n",
    "\n",
    "# Compute theta at the shifted point without characteristic\n",
    "theta_standard = Theta(v_shifted, tau, Acc)\n",
    "\n",
    "\n",
    "# Compute the RHS of the relation\n",
    "RHS = exp_factor * theta_standard\n",
    "\n",
    "# Compute the difference\n",
    "difference = theta_char - RHS\n",
    "\n",
    "# Print the results\n",
    "print(\"Theta with characteristic:\\n\", theta_char)\n",
    "print()\n",
    "print(\"Exponential factor:\\n\", exp_factor)\n",
    "print()\n",
    "print(\"Theta at shifted point:\\n\", theta_standard)\n",
    "print()\n",
    "print(\"RHS:\\n\", RHS)\n",
    "print()\n",
    "print(\"Difference:\\n\", difference)\n",
    "\n",
    "# Check if the difference is within an acceptable tolerance\n",
    "tolerance = 1e-12  # Adjust based on the precision\n",
    "if abs(difference) < tolerance:\n",
    "    print(\"The relation is verified within the given tolerance.\")\n",
    "else:\n",
    "    print(\"The relation is not satisfied within the given tolerance.\")"
   ]
  },
  {
   "cell_type": "markdown",
   "id": "7dc23d5a-9f8b-4f71-a6aa-884935a18b72",
   "metadata": {},
   "source": [
    "<div style=\"font-family: 'Latin Modern Roman', Times, serif; font-size: 16px;\">\n",
    "<h1 style=\"font-size: 24px;\">5. $\\sigma$-Functions</h1>\n",
    "</div>"
   ]
  },
  {
   "cell_type": "markdown",
   "id": "2a9f7bc1-892a-4258-9318-b62cd2702718",
   "metadata": {},
   "source": [
    "<div style=\"background-color:  rgba(224, 224, 224, 0.25); \n",
    "    font-family: 'Latin Modern Roman', Times, serif; font-size: 16px; border: 1px solid  rgb(192, 192, 192); padding: 15px; border-radius: 5px; \">\n",
    "    <h4 style=\"font-size: 20px;color: rgb(160, 160, 160);\">Definition 5.1.</h4>\n",
    "    <p>        \n",
    "        <em> Sigma function </em> (Kleinian sigma) is a modular invariant entire function on $\\mathrm{Jac}(\\mathscr{C})$. It is definef by a relation with the theta function:\n",
    "        $$\n",
    "            \\sigma(\\mathbf{u}) = C \\tilde{\\sigma}(\\mathbf{u})\n",
    "        $$\n",
    "        where\n",
    "        $$\n",
    "            \\tilde{\\sigma}(\\mathbf{u})= e^{-\\frac{1}{2}\\mathbf{u}^T \\kappa \\mathbf{u}} \\theta[ K ] (\\omega^{-1} \\mathbf{u}, \\tau),\n",
    "        $$\n",
    "        $$\n",
    "            C= \\sqrt{\\frac{\\pi^g}{\\det{\\omega}}} \\left( \\prod_{1\\leq i<j \\leq 2g+1} (e_i - e_j) \\right)^{-1/4},\n",
    "        $$\n",
    "        and $[K]$ denotes the characteristics of the vector of Riemann constants. (The expression for $C$ comes from <a href=\"https://arxiv.org/pdf/1106.2408\" target=\"_blank\">[7]</a>, p.9, Eq. II.41)\n",
    "    </p>    \n",
    "    </div>\n",
    "\n",
    "</div>"
   ]
  },
  {
   "cell_type": "code",
   "execution_count": 30,
   "id": "76d6faa9-769b-410d-ab37-de6ae353b785",
   "metadata": {},
   "outputs": [],
   "source": [
    "# We define variables\n",
    "var('U1 U3')\n",
    "\n",
    "# We define the accuracy of theta function\n",
    "Acc=20\n",
    "\n",
    "\n",
    "# sigma\n",
    "def Tsigma(U1, U3):\n",
    "    e = exp(-(1/2)*(vector([U1, U3])*kappa*vector([U1, U3])))\n",
    "    theta = ThetaCh(KCh, omega_inv * vector([U1, U3]), tau, Acc)\n",
    "    return e*theta\n",
    "\n",
    "# C constant\n",
    "det_omega = omega.determinant()\n",
    "g = 2\n",
    "#Branch points\n",
    "BP = find_branch_points(l2, l4, l6, l8, l10)\n",
    "# Calculating the product of branch point differences\n",
    "prod = 1\n",
    "for i in range(len(BP)):\n",
    "    for j in range(i+1, len(BP)):\n",
    "        if BP[i] != infinity and BP[j] != infinity:\n",
    "            prod *= (BP[i] - BP[j])\n",
    "C = sqrt(pi**g / det_omega) * prod**(-1/4)\n",
    "\n",
    "\n",
    "def sigma(U1, U3):\n",
    "    return C*Tsigma(U1, U3)"
   ]
  },
  {
   "cell_type": "markdown",
   "id": "25242730-ecc0-47e7-b46e-cdeab47b5245",
   "metadata": {},
   "source": [
    "<div style=\"font-family: 'Latin Modern Roman', Times, serif; font-size: 16px;\">\n",
    "<p>\n",
    "Let's define the derivatives of the sigma function which will be useful in the following sections.\n",
    "</p>\n",
    "</div>   "
   ]
  },
  {
   "cell_type": "code",
   "execution_count": 31,
   "id": "2fde12fb-2851-482f-97d8-68bdc0e15e55",
   "metadata": {},
   "outputs": [],
   "source": [
    "# sigma1\n",
    "def Tsigma1(u1_val, u3_val):\n",
    "    U1, U3 = var('U1 U3')\n",
    "    sigma_expr = Tsigma(U1, U3)\n",
    "    sigma1 =diff (sigma_expr, U1)\n",
    "    return sigma1.subs({U1: u1_val, U3: u3_val}).n()\n",
    "\n",
    "# sigma3\n",
    "def Tsigma3(u1_val, u3_val):\n",
    "    U1, U3 = var('U1 U3')\n",
    "    sigma_expr = Tsigma(U1, U3)\n",
    "    sigma3 =diff (sigma_expr, U3)\n",
    "    return sigma3.subs({U1: u1_val, U3: u3_val}).n()"
   ]
  },
  {
   "cell_type": "markdown",
   "id": "3857618a-91e0-435d-a02e-0d09d71d1cec",
   "metadata": {},
   "source": [
    "<div style=\"font-family: 'Latin Modern Roman', Times, serif; font-size: 16px;\">\n",
    "<h1 style=\"font-size: 24px;\">5.2. $\\sigma$-divisors</h1>\n",
    "</div>"
   ]
  },
  {
   "cell_type": "markdown",
   "id": "2018dcfb-7ddd-432c-97d3-8423fef77479",
   "metadata": {},
   "source": [
    "<div style=\"background-color:  rgba(224, 224, 224, 0.25); \n",
    "    font-family: 'Latin Modern Roman', Times, serif; font-size: 16px; border: 1px solid  rgb(192, 192, 192); padding: 15px; border-radius: 5px; \">\n",
    "    <h3 style=\"font-size: 20px;color: rgb(160, 160, 160);\">Definition 5.2.</h3>\n",
    "    <p>        \n",
    "        $\\sigma$-divisors or <i>special divisors</i> are points $\\mathbf{u}$ for which \n",
    "        $$\n",
    "            \\sigma(\\mathbf{u})=0\n",
    "        $$\n",
    "    </p>    \n",
    "</div>"
   ]
  },
  {
   "cell_type": "markdown",
   "id": "783f25d0-6647-44c0-a234-4b964b5c4b41",
   "metadata": {},
   "source": [
    "<div style=\"font-family: 'Latin Modern Roman', Times, serif; font-size: 16px;\">\n",
    "<h1 style=\"font-size: 24px;\">6. Characteristics of branch points and Bolza formula</h1>\n",
    "</div>"
   ]
  },
  {
   "cell_type": "markdown",
   "id": "da596bca-3366-46c1-97a3-90f5e2ec2c36",
   "metadata": {},
   "source": [
    "<div style=\"background-color:  rgba(224, 224, 224, 0.25); \n",
    "    font-family: 'Latin Modern Roman', Times, serif; font-size: 16px; border: 1px solid  rgb(192, 192, 192); padding: 15px; border-radius: 5px; \">\n",
    "    <h4 style=\"font-size: 20px;color: rgb(160, 160, 160);\">Definition 6.1.</h4>\n",
    "    <p>   \n",
    "    A characteristic is a $2\\times g$ matrix $[\\varepsilon] = (\\mathbf{\\varepsilon}', \\mathbf{\\varepsilon})^T$ with real values within the interval $[0,2)$.\n",
    "    Every point $\\mathbf{u}$ in the funcamental domain $\\mathrm{Jac}(\\mathscr{C})$ can be represented by its characteristic $[\\varepsilon]$:\n",
    "        $$\n",
    "             \\mathbf{u}=\\mathbf{u}[\\varepsilon] = \\frac{1}{2} \\omega \\mathbf{\\varepsilon} + \\frac{1}{2}\\omega' \\mathbf{\\varepsilon}'.\n",
    "        $$\n",
    "    In the hyperelliptic case, the Abel images of branch points and any combination of branch points are described by characteristics with 1 or 0, which are called <i>half-integer</i> characteristics.\n",
    "</p>\n",
    "</div>   "
   ]
  },
  {
   "cell_type": "markdown",
   "id": "4b46029c-2715-48f2-9710-b3b395f346a7",
   "metadata": {},
   "source": [
    "<div style=\"font-family: 'Latin Modern Roman', Times, serif; font-size: 16px;\">\n",
    "<p>\n",
    "    The half-integer characteristics are odd whenever \n",
    "    $$\n",
    "        \\varepsilon^T \\varepsilon'=0 \\pmod{2},\n",
    "    $$\n",
    "    and even when \n",
    "    $$\n",
    "        \\varepsilon^T \\varepsilon'= 1\\pmod{2},\n",
    "    $$\n",
    "    For hyperelliptic curves of genus 2, the characteristics are widely known in the literature <a href=\"https://arxiv.org/pdf/1106.2408\" target=\"_blank\">[7]</a>, <a href=\"https://www.itp.uni-bremen.de/prichter/download/ThetaConst.pdf\" target=\"_blank\">[12]</a>. To write them down, we can use the code proposed by Julia Bernatska <a href=\"https://community.wolfram.com/groups/-/m/t/3243472\" target=\"_blank\">[2]</a>\n",
    "</p>\n",
    "</div>"
   ]
  },
  {
   "cell_type": "code",
   "execution_count": 32,
   "id": "6b1798fe-faa6-4085-9651-06f24058778a",
   "metadata": {},
   "outputs": [
    {
     "name": "stdout",
     "output_type": "stream",
     "text": [
      "[1 0]\n",
      "[0 0]\n",
      "\n",
      "[1 0]\n",
      "[1 0]\n",
      "\n",
      "[0 1]\n",
      "[1 0]\n",
      "\n",
      "[0 1]\n",
      "[1 1]\n",
      "\n",
      "[0 0]\n",
      "[1 1]\n",
      "\n",
      "[0 0]\n",
      "[0 0]\n",
      "\n"
     ]
    }
   ],
   "source": [
    "# We define the genus variable\n",
    "genus = S.genus  \n",
    "\n",
    "\n",
    "eChars = [[[0 for k in range(genus)], [1 for k in range(genus)]], \n",
    "          [[0 for k in range(genus)] for i in range(2)]]\n",
    "\n",
    "# Adaptation of a Do loop from Julia Bernatska’s Mathematica notebook\n",
    "for l in range(genus):\n",
    "    # let's note the indexing, which must be adjusted by\n",
    "    eChars.insert(0, \n",
    "        [[(eChars[0][0][k] + kronecker_delta(k+1, genus - l) + \n",
    "           kronecker_delta(k+1, genus - l + 1)) % 2 for k in range(genus)],\n",
    "         [(eChars[0][1][k] + 0) % 2 for k in range(genus)]]\n",
    "    )\n",
    "\n",
    "    eChars.insert(0,\n",
    "        [[(eChars[0][0][k] + 0) % 2 for k in range(genus)],\n",
    "         [(eChars[0][1][k] + kronecker_delta(k+1, genus - l)) % 2 for k in range(genus)]]\n",
    "    )\n",
    "\n",
    "# We display matrices\n",
    "seen_matrices = []\n",
    "for i in range(len(eChars)):\n",
    "    current_matrix = matrix(eChars[i])\n",
    "    if current_matrix not in seen_matrices:\n",
    "        seen_matrices.append(current_matrix)\n",
    "        print(current_matrix)\n",
    "        print()"
   ]
  },
  {
   "cell_type": "markdown",
   "id": "d449f306-7f0c-43ab-970c-b2d31668d8db",
   "metadata": {},
   "source": [
    "<div style=\"font-family: 'Latin Modern Roman', Times, serif; font-size: 16px;\">\n",
    "<p>\n",
    "    There are 2 odd characteristic among them, their sum is also odd. The corresponding vector -vector of Riemann constants -is denoted by $\\mathbf{K}$ and \n",
    "    $$\n",
    "        [\\mathbf{K}] = \\sum_{\\text{all odd}\\; [\\varepsilon_i]} [\\varepsilon_i]\n",
    "    $$\n",
    "</p>\n",
    "</div>"
   ]
  },
  {
   "cell_type": "code",
   "execution_count": 33,
   "id": "46d38b7a-a33d-4e3e-8a86-0878b6c4bee2",
   "metadata": {},
   "outputs": [
    {
     "name": "stdout",
     "output_type": "stream",
     "text": [
      "[1 1]\n",
      "[0 1]\n"
     ]
    }
   ],
   "source": [
    "# We sum the eChars elements with indices 2*i +1 (because python counts from 0) and take Mod 2\n",
    "KCh = sum(matrix(eChars[2 * i+1]) for i in range(genus)) % 2\n",
    "\n",
    "print(KCh)"
   ]
  },
  {
   "cell_type": "markdown",
   "id": "be1ec0ff-1ac9-46ae-97c3-58c9f4e69ad0",
   "metadata": {},
   "source": [
    "<div style=\"font-family: 'Latin Modern Roman', Times, serif; font-size: 16px;\">\n",
    "<p>\n",
    "    The first test of the above functions and selected characteristics can be the Bolza formula given as follows\n",
    "</p>\n",
    "</div>"
   ]
  },
  {
   "cell_type": "markdown",
   "id": "f6643445-0077-4b04-a0fd-d0749eeb6772",
   "metadata": {},
   "source": [
    "<div style=\"background-color:  rgba(224, 224, 224, 0.25); \n",
    "    font-family: 'Latin Modern Roman', Times, serif; font-size: 16px; border: 1px solid  rgb(192, 192, 192); padding: 15px; border-radius: 5px; \">\n",
    "    <h4 style=\"font-size: 20px;color: rgb(160, 160, 160);\">Definition 6.2.</h4>\n",
    "    <p> From <a href=\"https://arxiv.org/abs/2407.05632\" target=\"_blank\">[1]</a>. (Sec. 2.4), we have the Bolza formula:\n",
    "        $$\n",
    "            e_\\iota = - \\frac{\\partial_{u_3}\\theta[{\\iota}](\\omega^{-1}\\mathbf{u})}{\\partial_{u_1}\\theta[{\\iota}](\\omega^{-1}\\mathbf{u})}|_{\\mathbf{u}=0},\n",
    "        $$\n",
    "        where $[{\\iota}] = [\\varepsilon_\\iota] +[K]$. It can also be defined in an equivalent way:\n",
    "        $$\n",
    "            e_\\iota = - \\frac{\\sigma_3(\\mathbf{u}_\\iota)}{\\sigma_1(\\mathbf{u}_\\iota)},\n",
    "        $$\n",
    "        where $\\mathbf{u}_\\iota=\\mathbf{u}[\\varepsilon_\\iota]=\\frac{1}{2}\\omega \\varepsilon_\\iota + \\frac{1}{2}\\omega' \\varepsilon'_\\iota$, and $\\sigma_i(\\mathbf{u})$ denotes the derivative of the sigma function with respect to the $i$-th component of $\\mathbf{u}$.\n",
    "   <p>\n",
    "   </div>   "
   ]
  },
  {
   "cell_type": "markdown",
   "id": "4e5bb6b4-b423-4b92-8851-f56a1ff8e04d",
   "metadata": {},
   "source": [
    "<div style=\"font-family: 'Latin Modern Roman', Times, serif; font-size: 16px;\">\n",
    "<p>\n",
    "   We will start by coding the second definition, which is easier to interpret.\n",
    "</p>\n",
    "</div>"
   ]
  },
  {
   "cell_type": "code",
   "execution_count": 34,
   "id": "caedb615-6e0a-4ab2-848d-b42d76a854a9",
   "metadata": {},
   "outputs": [],
   "source": [
    "# Characteristic vectors\n",
    "epsp1 = vector(eChars[0][0])\n",
    "eps1 = vector(eChars[0][1])\n",
    "\n",
    "epsp2 = vector(eChars[1][0])\n",
    "eps2 = vector(eChars[1][1])\n",
    "\n",
    "epsp3 = vector(eChars[2][0])\n",
    "eps3 = vector(eChars[2][1])\n",
    "\n",
    "epsp4 = vector(eChars[3][0])\n",
    "eps4 = vector(eChars[3][1])\n",
    "\n",
    "epsp5 = vector(eChars[4][0])\n",
    "eps5 = vector(eChars[4][1])\n",
    "\n",
    "epsp6 = vector(eChars[5][0])\n",
    "eps6 = vector(eChars[5][1])\n",
    "\n",
    "# Points u\n",
    "up1 = (1/2)*omega*eps1 + (1/2)*omegaP*epsp1\n",
    "up2 = (1/2)*omega*eps2 + (1/2)*omegaP*epsp2\n",
    "up3 = (1/2)*omega*eps3 + (1/2)*omegaP*epsp3\n",
    "up4 = (1/2)*omega*eps4 + (1/2)*omegaP*epsp4\n",
    "up5 = (1/2)*omega*eps5 + (1/2)*omegaP*epsp5\n",
    "up6 = (1/2)*omega*eps6 + (1/2)*omegaP*epsp6\n",
    "\n",
    "# ei based on sigma functions\n",
    "def e(u1_val, u3_val):\n",
    "    sigma1 = Tsigma1(u1_val, u3_val)\n",
    "    sigma3 = Tsigma3(u1_val, u3_val)\n",
    "    expr = -sigma3/sigma1\n",
    "    return expr.n()"
   ]
  },
  {
   "cell_type": "code",
   "execution_count": 35,
   "id": "43eed5bd-be0b-4fa0-89a5-7dc4d89baee2",
   "metadata": {},
   "outputs": [
    {
     "name": "stdout",
     "output_type": "stream",
     "text": [
      "Branch points from Bolza formula:\n",
      "-1.05264146874943 - 5.55111512312578e-16*I\n",
      "0.695037784917798 + 1.04164546422316*I\n",
      "-11.8251161409668 - 4.34097202628436e-14*I\n",
      "2.53231492223134e15 - 6.84742393413673e15*I\n",
      "0.695037784917799 - 1.04164546422316*I\n",
      "-0.512317960119317\n"
     ]
    }
   ],
   "source": [
    "print(\"Branch points from Bolza formula:\", \n",
    "      e(up1[0],up1[1]), \n",
    "      e(up2[0],up2[1]), \n",
    "      e(up3[0],up3[1]), \n",
    "      e(up4[0],up4[1]), \n",
    "      e(up5[0],up5[1]), \n",
    "      e(up6[0],up6[1]),sep='\\n')"
   ]
  },
  {
   "cell_type": "markdown",
   "id": "f12a56d3-3540-40a8-af70-db62a11f28b1",
   "metadata": {},
   "source": [
    "<div style=\"font-family: 'Latin Modern Roman', Times, serif; font-size: 16px;\">\n",
    "<p>\n",
    "    We can see two things:\n",
    "    <ol type=\"1\">\n",
    "        <li> the roots are unordered</li>\n",
    "        <li> one of the roots has a very large magnitude.</li>\n",
    "    </ol>\n",
    "    Below, we present a simple program that reorders the characteristics listed above to arrange the roots $e_i$ in ascending order\n",
    "    The fact that one of the roots has such a large magnitude (up to a sign precision) is a consequence of the fact that the point $\\mathbf{u}$ is a <i>special divisor</i>, i.e. a point for which\n",
    "    $$\n",
    "        \\sigma_1(\\mathbf{u})=0\n",
    "    $$\n",
    "    The characteristic associated with this point will be the last one, corresponding to the root at infinity.\n",
    "    \n",
    "</p>\n",
    "</div>"
   ]
  },
  {
   "cell_type": "code",
   "execution_count": 36,
   "id": "41fabb31-9b83-4959-9ecf-12243a61464a",
   "metadata": {},
   "outputs": [],
   "source": [
    "# List of characteristics and their corresponding brunch points\n",
    "char = [eChars[0],eChars[1],eChars[2],eChars[3],eChars[4],eChars[5]]\n",
    "values = [e(up1[0],up1[1]), e(up2[0],up2[1]), e(up3[0],up3[1]), e(up4[0],up4[1]), e(up5[0],up5[1]), e(up6[0],up6[1])]\n",
    "\n",
    "# Bubble Sort Algorithm Implementation\n",
    "def bubble_sort(char, values):\n",
    "    sorted = []\n",
    "    n = len(values)\n",
    "    for i in range(n):\n",
    "        for j in range(0, n-i-1):\n",
    "            if values[j] > values[j+1]:  # Value comparison\n",
    "                # Value replacing\n",
    "                values[j], values[j+1] = values[j+1], values[j]\n",
    "                # Replacing corresponding characteristics\n",
    "                char[j], char[j+1] = char[j+1], char[j]\n",
    "    \n",
    "     # Making sure the infinite element is at the end\n",
    "    if values[0].real().abs() > 10**10:\n",
    "        values = values[1:] + values[:1]\n",
    "        char = char[1:] + char[:1]\n",
    "    \n",
    "    return char, values    "
   ]
  },
  {
   "cell_type": "code",
   "execution_count": 37,
   "id": "2d5f447a-9edc-4f3c-b9d7-88cd73c4b4c9",
   "metadata": {},
   "outputs": [],
   "source": [
    "# Sorting lists\n",
    "char, values = bubble_sort(char, values)"
   ]
  },
  {
   "cell_type": "code",
   "execution_count": 38,
   "id": "9e94fb88-00d4-46e8-93a5-586e959e89de",
   "metadata": {},
   "outputs": [
    {
     "name": "stdout",
     "output_type": "stream",
     "text": [
      "[0 1]\n",
      "[1 0]\n",
      "\n",
      "[1 0]\n",
      "[0 0]\n",
      "\n",
      "[0 0]\n",
      "[0 0]\n",
      "\n",
      "[1 0]\n",
      "[1 0]\n",
      "\n",
      "[0 0]\n",
      "[1 1]\n",
      "\n",
      "[0 1]\n",
      "[1 1]\n",
      "\n"
     ]
    }
   ],
   "source": [
    "# We display sorted characteristics matrices\n",
    "seen_matrices = []\n",
    "for i in range(len(char)):\n",
    "    current_matrix = matrix(char[i])\n",
    "    if current_matrix not in seen_matrices:\n",
    "        seen_matrices.append(current_matrix)\n",
    "        print(current_matrix)\n",
    "        print()"
   ]
  },
  {
   "cell_type": "code",
   "execution_count": 39,
   "id": "a694a402-29f8-49bd-bb6c-411d72b2375d",
   "metadata": {},
   "outputs": [
    {
     "name": "stdout",
     "output_type": "stream",
     "text": [
      "Sorted values: [-11.8251161409668 - 4.34097202628436e-14*I, -1.05264146874943 - 5.55111512312578e-16*I, -0.512317960119317, 0.695037784917798 + 1.04164546422316*I, 0.695037784917799 - 1.04164546422316*I, 2.53231492223134e15 - 6.84742393413673e15*I]\n"
     ]
    }
   ],
   "source": [
    "print(\"Sorted values:\", values)"
   ]
  },
  {
   "cell_type": "markdown",
   "id": "3e02cc1e-31be-4db6-be24-8ea3d1692339",
   "metadata": {},
   "source": [
    "<div style=\"font-family: 'Latin Modern Roman', Times, serif; font-size: 16px;\">\n",
    "<p>\n",
    "    Now, we can redefine the characteristic vectors based on the reordered characteristics.\n",
    "</p>\n",
    "</div>    "
   ]
  },
  {
   "cell_type": "code",
   "execution_count": 40,
   "id": "f32a4949-c862-41e5-a89e-04b97d9541d4",
   "metadata": {},
   "outputs": [
    {
     "name": "stdout",
     "output_type": "stream",
     "text": [
      "Branch points from Bolza formula:\n",
      "-11.8251161409668 - 4.34097202628436e-14*I\n",
      "-1.05264146874943 - 5.55111512312578e-16*I\n",
      "-0.512317960119317\n",
      "0.695037784917798 + 1.04164546422316*I\n",
      "0.695037784917799 - 1.04164546422316*I\n",
      "2.53231492223134e15 - 6.84742393413673e15*I\n"
     ]
    }
   ],
   "source": [
    "# New characteristic vectors\n",
    "epsp1 = vector(char[0][0])\n",
    "eps1 = vector(char[0][1])\n",
    "\n",
    "epsp2 = vector(char[1][0])\n",
    "eps2 = vector(char[1][1])\n",
    "\n",
    "epsp3 = vector(char[2][0])\n",
    "eps3 = vector(char[2][1])\n",
    "\n",
    "epsp4 = vector(char[3][0])\n",
    "eps4 = vector(char[3][1])\n",
    "\n",
    "epsp5 = vector(char[4][0])\n",
    "eps5 = vector(char[4][1])\n",
    "\n",
    "epsp6 = vector(char[5][0])\n",
    "eps6 = vector(char[5][1])\n",
    "\n",
    "# Points u\n",
    "up1 = (1/2)*omega*eps1 + (1/2)*omegaP*epsp1\n",
    "up2 = (1/2)*omega*eps2 + (1/2)*omegaP*epsp2\n",
    "up3 = (1/2)*omega*eps3 + (1/2)*omegaP*epsp3\n",
    "up4 = (1/2)*omega*eps4 + (1/2)*omegaP*epsp4\n",
    "up5 = (1/2)*omega*eps5 + (1/2)*omegaP*epsp5\n",
    "up6 = (1/2)*omega*eps6 + (1/2)*omegaP*epsp6\n",
    "\n",
    "print(\"Branch points from Bolza formula:\", \n",
    "      e(up1[0],up1[1]), \n",
    "      e(up2[0],up2[1]), \n",
    "      e(up3[0],up3[1]), \n",
    "      e(up4[0],up4[1]), \n",
    "      e(up5[0],up5[1]), \n",
    "      e(up6[0],up6[1]),sep='\\n')"
   ]
  },
  {
   "cell_type": "markdown",
   "id": "92f31db7-aed5-403b-a293-011764740f22",
   "metadata": {},
   "source": [
    "<div style=\"font-family: 'Latin Modern Roman', Times, serif; font-size: 16px;\">\n",
    "<p>\n",
    "Before we go any further, we can do one more test. Based on the discussion <a href=\"https://community.wolfram.com/groups/-/m/t/3296279\" target=\"_blank\">[15]</a> in the Wolfram community, about the vector of Riemann constants for a computed characteristic $[\\mathbf{K}]$, we should check whether\n",
    "$$\n",
    "        \\sigma\\left( \\mathbf{u}[\\mathbf{K}]\\right) =0 \\;\\; \\text{and} \\;\\; \\sigma_1\\left( \\mathbf{u}[\\mathbf{K}]\\right) =0,\n",
    "$$        \n",
    "where\n",
    "$$\n",
    "        \\mathbf{u}[\\mathbf{K}]=\n",
    "            \\frac{1}{2}\\omega \n",
    "                \\begin{pmatrix}\n",
    "                    K_{1,1}\\\\\n",
    "                    K_{2,1}\n",
    "                \\end{pmatrix}  + \n",
    "            \\frac{1}{2}\\omega' \n",
    "                \\begin{pmatrix}\n",
    "                    K_{1,2}\\\\\n",
    "                    K_{2,2}\n",
    "                \\end{pmatrix} \n",
    "        $$\n",
    "</p>\n",
    "</d>"
   ]
  },
  {
   "cell_type": "code",
   "execution_count": 41,
   "id": "848bf8e1-7010-40d4-9d51-e8cd7876073f",
   "metadata": {},
   "outputs": [
    {
     "name": "stdout",
     "output_type": "stream",
     "text": [
      "sigma(u[K])= 4.168869563487747e-16 + 4.900022606845388e-16*I\n",
      "sigma1(u[K])= 1.23432198410658e-15 + 3.52430396044750e-15*I\n"
     ]
    }
   ],
   "source": [
    "vK1 = vector(KCh[0])\n",
    "vK2 = vector(KCh[1])\n",
    "uK = (1/2)*omega*vK1 + (1/2)*omegaP*vK2\n",
    "\n",
    "print(\"sigma(u[K])=\",Tsigma(uK[0], uK[1]))\n",
    "print(\"sigma1(u[K])=\",Tsigma1(uK[0], uK[1]))"
   ]
  },
  {
   "cell_type": "markdown",
   "id": "6cc5fd71-a24b-4237-a28b-c76c9feedc67",
   "metadata": {},
   "source": [
    "<div style=\"font-family: 'Latin Modern Roman', Times, serif; font-size: 16px;\">\n",
    "<p>\n",
    "    We will now test the definition defined using theta functions, which will be referred to in the following parts of the code.\n",
    "</p>\n",
    "</div>"
   ]
  },
  {
   "cell_type": "code",
   "execution_count": 42,
   "id": "68bd8bfa-9e04-44d3-bc83-fae59e09ef68",
   "metadata": {},
   "outputs": [],
   "source": [
    "def e(i):\n",
    "    # Declare variables\n",
    "    U1, U3, = var('U1 U3')\n",
    "    CCh=(matrix(char[i])+KCh)%2\n",
    "    # Partial derivatives of the ThetaCh function\n",
    "    numerator = diff(ThetaCh(CCh, omega_inv * vector([U1, U3]), tau, Acc), U3)\n",
    "    denominator = diff(ThetaCh(CCh, omega_inv * vector([U1, U3]), tau, Acc), U1)\n",
    "\n",
    "    # Simplified ratio of derivatives\n",
    "    result = -numerator / denominator\n",
    "\n",
    "    # Substitute U1, U3, -> 0\n",
    "    result = result.subs({U1: 0, U3: 0})\n",
    "    return result.n()\n"
   ]
  },
  {
   "cell_type": "code",
   "execution_count": 43,
   "id": "d80d11bd-68a3-4a03-a15a-777707e48907",
   "metadata": {},
   "outputs": [
    {
     "name": "stdout",
     "output_type": "stream",
     "text": [
      "Branch points from Bolza formula:\n",
      "-11.8251161409669 + 1.46420013867900e-15*I\n",
      "-1.05264146874943 - 3.37524010891116e-16*I\n",
      "-0.512317960119317 + 3.11685236212985e-17*I\n",
      "0.695037784917798 + 1.04164546422316*I\n",
      "0.695037784917798 - 1.04164546422316*I\n",
      "-2.69482572518105e17 - 2.55665399144444e17*I\n"
     ]
    }
   ],
   "source": [
    "print(\"Branch points from Bolza formula:\", \n",
    "      e(0),\n",
    "      e(1), \n",
    "      e(2), \n",
    "      e(3), \n",
    "      e(4), \n",
    "      e(5), sep='\\n')"
   ]
  },
  {
   "cell_type": "markdown",
   "id": "ecb4fca4-5b39-45e8-accb-eb0137e21c74",
   "metadata": {},
   "source": [
    "<div style=\"font-family: 'Latin Modern Roman', Times, serif; font-size: 16px;\">\n",
    "<p>\n",
    "    We can see that the last element has changed its value. This is, of course, a numerical error arising from computations involving very large numbers.\n",
    "</p>\n",
    "</div>"
   ]
  },
  {
   "cell_type": "markdown",
   "id": "13f45ec7-c48e-4f61-b3a9-7d3c4a1a5a81",
   "metadata": {},
   "source": [
    "<div style=\"font-family: 'Latin Modern Roman', Times, serif; font-size: 16px;\">\n",
    "<h1 style=\"font-size: 24px;\">7. $\\wp$-Functions</h1>\n",
    "</div>"
   ]
  },
  {
   "cell_type": "markdown",
   "id": "b91eece6-fbda-418b-aa46-05765b9a49b4",
   "metadata": {},
   "source": [
    "<div style=\"background-color:  rgba(224, 224, 224, 0.25); \n",
    "    font-family: 'Latin Modern Roman', Times, serif; font-size: 16px; border: 1px solid  rgb(192, 192, 192); padding: 15px; border-radius: 5px; \">\n",
    "    <h4 style=\"font-size: 20px;color: rgb(160, 160, 160);\">Definition 7.1.</h4>\n",
    "    <p>\n",
    "        Let $\\Sigma = \\{ \\mathbf{u}\\in \\mathrm{Jac}(\\mathscr{C})| \\sigma(\\mathbf{u})=0 \\} $, then we define\n",
    "        a multiply periodic Klein-Weierstrass $\\wp$-functions on  $\\mathrm{Jac}(\\mathscr{C}) \\setminus \\Sigma$ by\n",
    "        $$\n",
    "            \\wp_{ij}(\\mathbf{u}):= - \\frac{\\partial^2\\log{\\sigma(\\mathbf{u})}}{\\partial u_i \\partial u_j}, \\quad \\wp_{ijk}(\\mathbf{u}):=- \\frac{\\partial^3\\log{\\sigma(\\mathbf{u})}}{\\partial u_i \\partial u_j \\partial u_k}.\n",
    "        $$\n",
    "        This can be also written by \n",
    "        $$\n",
    "            \\wp_{ij} (\\mathbf{u})= \\frac{\\sigma_i(\\mathbf{u})\\sigma_j(\\mathbf{u}) - \\sigma(\\mathbf{u})\\sigma_{ij}(\\mathbf{u})}{\\sigma^2(\\mathbf{u})} = \\frac{\\tilde{\\sigma}_i(\\mathbf{u})\\tilde{\\sigma}_j(\\mathbf{u}) - \\tilde{\\sigma}(\\mathbf{u})\\tilde{\\sigma}_{ij}(\\mathbf{u})}{\\tilde{\\sigma}^2(\\mathbf{u})},\n",
    "        $$\n",
    "        where $\\sigma_i(\\mathbf{u})$ denotes the derivative of the sigma function with respect to the $i$-th component of $\\mathbf{u}$. <br>\n",
    "        <br>\n",
    "        It can be shown that the above definitions can be written in the form\n",
    "        $$\n",
    "            \\wp_{ij}(\\mathbf{u}):=\\kappa_{ij} - \\frac{\\partial^2}{\\partial u_i \\partial u_j}\\log{\\theta[K](\\omega^{-1}\\mathbf{u};\\tau)}, \\quad \\wp_{ijk}(\\mathbf{u}):=- \\frac{\\partial^3}{\\partial u_i \\partial u_j \\partial u_k}\\log{\\theta[K](\\omega^{-1}\\mathbf{u};\\tau)}.\n",
    "        $$\n",
    "    </p>    \n",
    "    </div>\n",
    "\n",
    "</div>"
   ]
  },
  {
   "cell_type": "code",
   "execution_count": 44,
   "id": "0fe5f05b-92d6-4b49-b835-367bc81d88b1",
   "metadata": {},
   "outputs": [],
   "source": [
    "# Definition with thetas\n",
    "# We define variables\n",
    "var('U1 U3')\n",
    "\n",
    "# We define the accuracy of theta function\n",
    "Acc=20\n",
    "\n",
    "\n",
    "# WeierstrassP11\n",
    "def WeierstrassP11(u1_val, u3_val):\n",
    "    symbolic_expr = kappa[0, 0] - diff(log(ThetaCh(KCh, omega_inv * vector([U1, U3]), tau, Acc)), U1, 2)\n",
    "    return symbolic_expr.subs({U1: u1_val, U3: u3_val}).n()\n",
    "\n",
    "# WeierstrassP13\n",
    "def WeierstrassP13(u1_val, u3_val):\n",
    "    symbolic_expr = kappa[0, 1] - diff(log(ThetaCh(KCh, omega_inv * vector([U1, U3]), tau, Acc)),  U1, U3)\n",
    "    return symbolic_expr.subs({U1: u1_val, U3: u3_val}).n()\n",
    "\n",
    "# WeierstrassP33\n",
    "def WeierstrassP33(u1_val, u3_val):\n",
    "    symbolic_expr = kappa[1, 1] - diff(log(ThetaCh(KCh, omega_inv * vector([U1, U3]), tau, Acc)), U3, 2)\n",
    "    return symbolic_expr.subs({U1: u1_val, U3: u3_val}).n()\n",
    "\n",
    "#####\n",
    "# Derivatives of these functions useful in subsequent sections\n",
    "#####\n",
    "\n",
    "# WeierstrassP111\n",
    "def WeierstrassP111(u1_val, u3_val):\n",
    "    symbolic_expr = - diff(log(ThetaCh(KCh, omega_inv * vector([U1, U3]), tau, Acc)), U1, 3)\n",
    "    return symbolic_expr.subs({U1: u1_val, U3: u3_val}).n()\n",
    "\n",
    "# WeierstrassP113\n",
    "def WeierstrassP113(u1_val, u3_val):\n",
    "    symbolic_expr = - diff(log(ThetaCh(KCh, omega_inv * vector([U1, U3]), tau, Acc)), U1, U1, U3)\n",
    "    return symbolic_expr.subs({U1: u1_val, U3: u3_val}).n()\n",
    "\n",
    "# WeierstrassP133\n",
    "def WeierstrassP133(u1_val, u3_val):\n",
    "    symbolic_expr = - diff(log(ThetaCh(KCh, omega_inv * vector([U1, U3]), tau, Acc)),  U1, U3, U3)\n",
    "    return symbolic_expr.subs({U1: u1_val, U3: u3_val}).n()\n",
    "\n",
    "# WeierstrassP1111\n",
    "def WeierstrassP1111(u1_val, u3_val):\n",
    "    symbolic_expr = - diff(log(ThetaCh(KCh, omega_inv * vector([U1, U3]), tau, Acc)), U1, 4)\n",
    "    return symbolic_expr.subs({U1: u1_val, U3: u3_val}).n()\n",
    "\n",
    "# WeierstrassP1113\n",
    "def WeierstrassP1113(u1_val, u3_val):\n",
    "    symbolic_expr = - diff(log(ThetaCh(KCh, omega_inv * vector([U1, U3]), tau, Acc)), U1, U1, U1, U3)\n",
    "    return symbolic_expr.subs({U1: u1_val, U3: u3_val}).n()\n",
    "\n",
    "# WeierstrassP3333\n",
    "def WeierstrassP3333(u1_val, u3_val):\n",
    "    symbolic_expr = - diff(log(ThetaCh(KCh, omega_inv * vector([U1, U3]), tau, Acc)), U3, 4)\n",
    "    return symbolic_expr.subs({U1: u1_val, U3: u3_val}).n()\n"
   ]
  },
  {
   "cell_type": "markdown",
   "id": "6b4a8b4f-bc8d-4abf-804d-e790674f192f",
   "metadata": {},
   "source": [
    "<div style=\"font-family: 'Latin Modern Roman', Times, serif; font-size: 16px;\">\n",
    "<h2 style=\"font-size: 24px;\">7.1. Tests</h2>\n",
    "</div>\n",
    "\n",
    "<div style=\"font-family: 'Latin Modern Roman', Times, serif; font-size: 16px;\">\n",
    "<h3 style=\"font-size: 20px;\">7.1.1 Periodicity</h3>\n",
    "</div>"
   ]
  },
  {
   "cell_type": "markdown",
   "id": "e28d40d6-5544-4e5e-8740-56f1c224d537",
   "metadata": {},
   "source": [
    "<div style=\"font-family: 'Latin Modern Roman', Times, serif; font-size: 16px;\">\n",
    "<p>\n",
    "    As a first test of these functions, we can check if they satisfy the key property  \n",
    "$$\n",
    "    \\wp_{ij}(\\mathbf{u}+2\\omega \\mathbf{n} + 2\\omega'\\mathbf{n}') = \\wp_{ij}(\\mathbf{u}),\n",
    "$$\n",
    "where\n",
    "$$\n",
    "    \\mathbf{n} = \n",
    "        \\begin{pmatrix}\n",
    "            n_1\\\\\n",
    "            n_2\n",
    "        \\end{pmatrix}, \\quad\n",
    "    \\mathbf{n}' = \n",
    "        \\begin{pmatrix}\n",
    "            n'_1\\\\\n",
    "            n'_2\n",
    "        \\end{pmatrix} \\in \\mathbb{Z}^2.\n",
    "$$  \n",
    "</p>\n",
    "</d>"
   ]
  },
  {
   "cell_type": "code",
   "execution_count": 45,
   "id": "38e80895-fe0d-4cb4-b824-efcdc7bbbaa0",
   "metadata": {},
   "outputs": [
    {
     "name": "stdout",
     "output_type": "stream",
     "text": [
      "Theta based definitions\n",
      "\n",
      "Test P11:\n",
      "5456.64098472225 - 129.384240060038*I\n",
      "\n",
      "Test P13:\n",
      "1691.55457358245 - 1547.13199513522*I\n",
      "\n",
      "Test P33:\n",
      "108.402730941999 - 956.649120634020*I\n"
     ]
    }
   ],
   "source": [
    "u1 = 0.212131\n",
    "u3 = -2.231\n",
    "\n",
    "ntest = vector([1, 2])\n",
    "nPtest = vector([-3, -5])\n",
    "\n",
    "wn = omega*ntest\n",
    "wPn= omegaP*nPtest\n",
    "\n",
    "print(\"Theta based definitions\")\n",
    "print()\n",
    "print(\"Test P11:\")\n",
    "print(WeierstrassP11(u1, u3) - WeierstrassP11(u1 + 2*wn[0] + 2*wPn[0], u3 + 2*wn[1] + 2*wPn[1]))\n",
    "print()\n",
    "print(\"Test P13:\")\n",
    "print(WeierstrassP13(u1, u3) - WeierstrassP13(u1 + 2*wn[0] + 2*wPn[0], u3 + 2*wn[1] + 2*wPn[1]))\n",
    "print()\n",
    "print(\"Test P33:\")\n",
    "print(WeierstrassP33(u1, u3) - WeierstrassP33(u1 + 2*wn[0] + 2*wPn[0], u3 + 2*wn[1] + 2*wPn[1]))"
   ]
  },
  {
   "cell_type": "markdown",
   "id": "ba8e571d-47d7-447e-a4c8-3b38cfa870ae",
   "metadata": {},
   "source": [
    "<div style=\"font-family: 'Latin Modern Roman', Times, serif; font-size: 16px;\">\n",
    "<p>\n",
    "Let's check this for another value of vector $\\mathbf{u}$\n",
    "\n",
    "</p>\n",
    "</div>"
   ]
  },
  {
   "cell_type": "code",
   "execution_count": 46,
   "id": "86ddb826-807a-4d75-98f8-d14caeb45aa1",
   "metadata": {},
   "outputs": [
    {
     "name": "stdout",
     "output_type": "stream",
     "text": [
      "Theta based definitions\n",
      "\n",
      "Test P11:\n",
      "9.82254277914762e-11 + 4.30588897870621e-12*I\n",
      "\n",
      "Test P13:\n",
      "7.81597009336110e-12 + 1.25623955682386e-11*I\n",
      "\n",
      "Test P33:\n",
      "1.39550593303284e-11 - 1.67688085639384e-11*I\n"
     ]
    }
   ],
   "source": [
    "u1 = 2\n",
    "u3 = 3\n",
    "\n",
    "ntest = vector([1, 2])\n",
    "nPtest = vector([-3, -5])\n",
    "\n",
    "wn = omega*ntest\n",
    "wPn= omegaP*nPtest\n",
    "\n",
    "print(\"Theta based definitions\")\n",
    "print()\n",
    "print(\"Test P11:\")\n",
    "print(WeierstrassP11(u1, u3) - WeierstrassP11(u1 + 2*wn[0] + 2*wPn[0], u3 + 2*wn[1] + 2*wPn[1]))\n",
    "print()\n",
    "print(\"Test P13:\")\n",
    "print(WeierstrassP13(u1, u3) - WeierstrassP13(u1 + 2*wn[0] + 2*wPn[0], u3 + 2*wn[1] + 2*wPn[1]))\n",
    "print()\n",
    "print(\"Test P33:\")\n",
    "print(WeierstrassP33(u1, u3) - WeierstrassP33(u1 + 2*wn[0] + 2*wPn[0], u3 + 2*wn[1] + 2*wPn[1]))"
   ]
  },
  {
   "cell_type": "markdown",
   "id": "2e2b6654-016f-4188-adf4-673248752198",
   "metadata": {},
   "source": [
    "<div style=\"font-family: 'Latin Modern Roman', Times, serif; font-size: 16px;\">\n",
    "<p>\n",
    "Let's check wheater this is a special divisor\n",
    "</p>\n",
    "</div>"
   ]
  },
  {
   "cell_type": "code",
   "execution_count": 48,
   "id": "0232aadf-f72c-4062-a3ba-1d7881023d88",
   "metadata": {},
   "outputs": [
    {
     "name": "stdout",
     "output_type": "stream",
     "text": [
      "sigma(u)= 6.79221453833314e7 + 1.01961715076165e8*I\n",
      "sigma1(u)= -3.36302007714019e8 - 5.04841672720404e8*I\n",
      "sigma3(u)= -1.11762167588201e9 - 1.67772413895504e9*I\n"
     ]
    }
   ],
   "source": [
    "u1 = 0.212131\n",
    "u3 = -2.231\n",
    "\n",
    "print(\"sigma(u)=\",Tsigma(u1, u3))\n",
    "print(\"sigma1(u)=\",Tsigma1(u1, u3))\n",
    "print(\"sigma3(u)=\",Tsigma3(u1, u3))"
   ]
  },
  {
   "cell_type": "markdown",
   "id": "4893816f-a789-4e32-a04d-9b421a73f04e",
   "metadata": {},
   "source": [
    "<div style=\"background-color:  rgba(216, 220, 97, 0.25); \n",
    "    font-family: 'Latin Modern Roman', Times, serif; font-size: 16px; border: 1px solid  rgb(205,210,44); padding: 15px; border-radius: 5px; \">\n",
    "    <h3 style=\"font-size: 20px;color: rgb(205,210,44);\">Observation 7.1.</h3>\n",
    "    <p>\n",
    "    Similar to the case with real brunch points, but this time the first set of coordinates is the one that causes errors.\n",
    "</p>\n",
    "</d>"
   ]
  },
  {
   "cell_type": "markdown",
   "id": "850231ec-e089-47f7-93df-03eb0ce3169d",
   "metadata": {},
   "source": [
    "<div style=\"font-family: 'Latin Modern Roman', Times, serif; font-size: 16px;\">\n",
    "<h3 style=\"font-size: 20px;\">7.1.2 KdV equation</h3>\n",
    "</div>"
   ]
  },
  {
   "cell_type": "markdown",
   "id": "c7e4ffb4-ebca-4a9d-8939-862e703a1b09",
   "metadata": {},
   "source": [
    "<div style=\"background-color:  rgba(224, 224, 224, 0.25); \n",
    "    font-family: 'Latin Modern Roman', Times, serif; font-size: 16px; border: 1px solid  rgb(192, 192, 192); padding: 15px; border-radius: 5px; \">\n",
    "    <h4 style=\"font-size: 20px;color: rgb(160, 160, 160);\">Definition 7.2.</h4>\n",
    "    <p>  \n",
    "        \n",
    "Multiply periodic Klein-Weierstrass $\\wp$-functions should satisfy the KdV equation given by (<a href=\"https://arxiv.org/pdf/2312.10859\" target=\"_blank\">[11]</a>, Eq. 44 and <a href=\"https://arxiv.org/abs/2412.10284\" target=\"_blank\">[14]</a>, Eq. 2.20):\n",
    "\n",
    "$$\n",
    "       \\wp_{1111}(\\mathbf{u}) = 6\\wp^2_{11}(\\mathbf{u}) +  4 \\wp_{13}(\\mathbf{u}) + 4\\lambda_2 \\wp_{11}(\\mathbf{u}) + 2 \\lambda_4 \n",
    "    $$\n",
    "\n",
    "</pre>\n",
    "</div>"
   ]
  },
  {
   "cell_type": "code",
   "execution_count": 49,
   "id": "4633d88f-22c7-4c94-90ad-2cf0de8328de",
   "metadata": {},
   "outputs": [
    {
     "data": {
      "text/plain": [
       "-1.59161572810262e-12 - 2.75743734288691e-12*I"
      ]
     },
     "execution_count": 49,
     "metadata": {},
     "output_type": "execute_result"
    }
   ],
   "source": [
    "u1 = 0.212131\n",
    "u3 = -2.231\n",
    "\n",
    "LHS = WeierstrassP1111(u1,u3)\n",
    "RHS = 6 * WeierstrassP11(u1,u3)^2 + 4 * l2 * WeierstrassP11(u1,u3) + 4 * WeierstrassP13(u1,u3) + 2*l4\n",
    "\n",
    "LHS - RHS"
   ]
  },
  {
   "cell_type": "markdown",
   "id": "d3b1535d-dbf9-46f0-82b0-2624786fe498",
   "metadata": {},
   "source": [
    "<div style=\"font-family: 'Latin Modern Roman', Times, serif; font-size: 16px;\">\n",
    "<p>\n",
    "Let's check this for another value of vector $\\mathbf{u}$\n",
    "\n",
    "</p>\n",
    "</div>"
   ]
  },
  {
   "cell_type": "code",
   "execution_count": 50,
   "id": "32bb0dc7-01d7-46fc-90db-b01268f8ce07",
   "metadata": {},
   "outputs": [
    {
     "data": {
      "text/plain": [
       "9.63495949690696e-12 + 9.83391146291979e-12*I"
      ]
     },
     "execution_count": 50,
     "metadata": {},
     "output_type": "execute_result"
    }
   ],
   "source": [
    "u1 = -1.98213\n",
    "u3 = 3.76213\n",
    "\n",
    "LHS = WeierstrassP1111(u1,u3)\n",
    "RHS = 6 * WeierstrassP11(u1,u3)^2 + 4 * l2 * WeierstrassP11(u1,u3) + 4 * WeierstrassP13(u1,u3) + 2*l4\n",
    "\n",
    "LHS - RHS"
   ]
  },
  {
   "cell_type": "markdown",
   "id": "362fc209-e6de-4c2a-9160-e3ca7ecba6de",
   "metadata": {},
   "source": [
    "<div style=\"font-family: 'Latin Modern Roman', Times, serif; font-size: 16px;\">\n",
    "<h3 style=\"font-size: 20px;\">7.1.3 Basic relations</h3>\n",
    "</div>\n",
    "\n",
    "<div style=\"background-color:  rgba(224, 224, 224, 0.25); \n",
    "    font-family: 'Latin Modern Roman', Times, serif; font-size: 16px; border: 1px solid  rgb(192, 192, 192); padding: 15px; border-radius: 5px; \">\n",
    "    <h4 style=\"font-size: 20px;color: rgb(160, 160, 160);\">Definition 7.3.</h4>\n",
    "    <p>  \n",
    "        \n",
    "Multiply periodic Klein-Weierstrass $\\wp$-functions should satisfy following relations (<a href=\"https://arxiv.org/abs/2412.10284\" target=\"_blank\">[14]</a>, Eq. 2.20):\n",
    "    $$\n",
    "       \\wp_{133}(\\mathbf{u}) = \\wp_{13}(\\mathbf{u})\\wp_{111}(\\mathbf{u}) -  \\wp_{11}(\\mathbf{u})\\wp_{113}(\\mathbf{u})\n",
    "    $$\n",
    "    $$\n",
    "       \\wp_{1113}(\\mathbf{u}) = 6 \\wp_{13}(\\mathbf{u}) \\wp_{11}(\\mathbf{u}) - 2\\wp_{33}(\\mathbf{u}) + 4\\lambda_2 \\wp_{13}(\\mathbf{u})\n",
    "    $$\n",
    "    $$\n",
    "       \\wp_{33}(\\mathbf{u}) = \\frac{1}{4} \\wp_{111}^2(\\mathbf{u})- \\wp_{11}^3(\\mathbf{u}) - \\wp_{13}(\\mathbf{u}) \\wp_{11}(\\mathbf{u}) - \\lambda_2 \\wp_{11}^2(\\mathbf{u}) - \\lambda_4\\wp_{11}(\\mathbf{u}) - \\lambda_6\n",
    "    $$\n",
    "</pre>\n",
    "</div>"
   ]
  },
  {
   "cell_type": "code",
   "execution_count": 53,
   "id": "09091c54-0214-4f95-b6fb-bc748923f399",
   "metadata": {},
   "outputs": [
    {
     "name": "stdout",
     "output_type": "stream",
     "text": [
      "Test of the first eq.:\n",
      "-2.67164068645798e-12 - 4.88393017313736e-12*I\n",
      "\n",
      "Test of the second eq.:\n",
      "-1.38129507831763e-11 - 2.24519098308128e-11*I\n",
      "\n",
      "Test of the third eq.:\n",
      "3.66995323020092e-12 - 3.55449029934026e-12*I\n"
     ]
    }
   ],
   "source": [
    "u1 = 0.212131\n",
    "u3 = -2.231\n",
    "\n",
    "LHS1 = WeierstrassP133(u1,u3)\n",
    "RHS1 = WeierstrassP13(u1,u3) * WeierstrassP111(u1,u3) - WeierstrassP11(u1,u3)*WeierstrassP113(u1,u3)\n",
    "\n",
    "LHS2 = WeierstrassP1113(u1,u3)\n",
    "RHS2 = 6*WeierstrassP13(u1,u3) * WeierstrassP11(u1,u3) - 2*WeierstrassP33(u1,u3) + 4*l2*WeierstrassP13(u1,u3)\n",
    "\n",
    "LHS3 = WeierstrassP33(u1,u3)\n",
    "RHS3 = (1/4) * WeierstrassP111(u1,u3)^2 - WeierstrassP11(u1,u3)^3 - WeierstrassP13(u1,u3)*WeierstrassP11(u1,u3) - l2*WeierstrassP11(u1,u3)^2 - l4*WeierstrassP11(u1,u3) - l6\n",
    "\n",
    "print(\"Test of the first eq.:\")\n",
    "print(LHS1-RHS1)\n",
    "print()\n",
    "print(\"Test of the second eq.:\")\n",
    "print(LHS2-RHS2)\n",
    "print()\n",
    "print(\"Test of the third eq.:\")\n",
    "print(LHS3-RHS3)"
   ]
  },
  {
   "cell_type": "markdown",
   "id": "f39ce9cc-170d-4f41-ad0b-3522328a46bd",
   "metadata": {},
   "source": [
    "<div style=\"font-family: 'Latin Modern Roman', Times, serif; font-size: 16px;\">\n",
    "<p>\n",
    "Let's check this for another value of vector $\\mathbf{u}$\n",
    "\n",
    "</p>\n",
    "</div>"
   ]
  },
  {
   "cell_type": "code",
   "execution_count": 54,
   "id": "897ba837-1820-464d-a17e-1d27eee2e5ce",
   "metadata": {},
   "outputs": [
    {
     "name": "stdout",
     "output_type": "stream",
     "text": [
      "Test of the first eq.:\n",
      "-2.08046913030557e-11 + 3.70053756862678e-11*I\n",
      "\n",
      "Test of the second eq.:\n",
      "-9.37916411203332e-11 + 7.85378716560857e-11*I\n",
      "\n",
      "Test of the third eq.:\n",
      "1.17434950652751e-11 + 1.07062536925189e-11*I\n"
     ]
    }
   ],
   "source": [
    "u1 = -1.98213\n",
    "u3 = 3.76213\n",
    "\n",
    "LHS1 = WeierstrassP133(u1,u3)\n",
    "RHS1 = WeierstrassP13(u1,u3) * WeierstrassP111(u1,u3) - WeierstrassP11(u1,u3)*WeierstrassP113(u1,u3)\n",
    "\n",
    "LHS2 = WeierstrassP1113(u1,u3)\n",
    "RHS2 = 6*WeierstrassP13(u1,u3) * WeierstrassP11(u1,u3) - 2*WeierstrassP33(u1,u3) + 4*l2*WeierstrassP13(u1,u3)\n",
    "\n",
    "LHS3 = WeierstrassP33(u1,u3)\n",
    "RHS3 = (1/4) * WeierstrassP111(u1,u3)^2 - WeierstrassP11(u1,u3)^3 - WeierstrassP13(u1,u3)*WeierstrassP11(u1,u3) - l2*WeierstrassP11(u1,u3)^2 - l4*WeierstrassP11(u1,u3) - l6\n",
    "\n",
    "print(\"Test of the first eq.:\")\n",
    "print(LHS1-RHS1)\n",
    "print()\n",
    "print(\"Test of the second eq.:\")\n",
    "print(LHS2-RHS2)\n",
    "print()\n",
    "print(\"Test of the third eq.:\")\n",
    "print(LHS3-RHS3)"
   ]
  },
  {
   "cell_type": "markdown",
   "id": "4b3a2c86-eee9-48fc-8df1-9ec03e31c32f",
   "metadata": {},
   "source": [
    "<div style=\"background-color:  rgba(216, 220, 97, 0.25); \n",
    "    font-family: 'Latin Modern Roman', Times, serif; font-size: 16px; border: 1px solid  rgb(205,210,44); padding: 15px; border-radius: 5px; \">\n",
    "    <h3 style=\"font-size: 20px;color: rgb(205,210,44);\">Observation 7.3.</h3>\n",
    "    <p>\n",
    "    In this case there are no problems, but you can probably find points where they occur\n",
    "</p>\n",
    "</d>"
   ]
  },
  {
   "cell_type": "markdown",
   "id": "ef65c88e-f813-490c-ac58-fce06936631c",
   "metadata": {},
   "source": [
    "<div style=\"font-family: 'Latin Modern Roman', Times, serif; font-size: 16px;\">\n",
    "<h1 style=\"font-size: 24px;\">8. Jacobi inversion problem </h1>     \n",
    "</div>"
   ]
  },
  {
   "cell_type": "markdown",
   "id": "d5766553-74aa-46ec-bc26-c907e82a8a9c",
   "metadata": {},
   "source": [
    "<div style=\"background-color:  rgba(224, 224, 224, 0.25); \n",
    "    font-family: 'Latin Modern Roman', Times, serif; font-size: 16px; border: 1px solid  rgb(192, 192, 192); padding: 15px; border-radius: 5px; \">\n",
    "    <h3 style=\"font-size: 20px;color: rgb(160, 160, 160);\">Definition 8.1.</h3>\n",
    "    <p>        \n",
    "        Let \n",
    "        $$\n",
    "            D=\\sum_{i=1}^n P_i,\n",
    "        $$\n",
    "        be a divisor on a curve $\\mathscr{C}$. We assume that $D$ is <b>non-special</b>, that is \n",
    "        <ul>\n",
    "          <li> $ n\\geq g$,\n",
    "          <li> $D$ does not contain pairs of points connected by the hyperelliptic involution.\n",
    "        </ul>\n",
    "    </p>    \n",
    "</div>"
   ]
  },
  {
   "cell_type": "markdown",
   "id": "4557b7a6-34e5-454f-88da-42b705204e36",
   "metadata": {},
   "source": [
    "<div style=\"background-color:  rgba(224, 224, 224, 0.25); \n",
    "    font-family: 'Latin Modern Roman', Times, serif; font-size: 16px; border: 1px solid  rgb(192, 192, 192); padding: 15px; border-radius: 5px; \">\n",
    "    <h3 style=\"font-size: 20px;color: rgb(160, 160, 160);\">Definition 8.2.</h3>\n",
    "    <p>        \n",
    "        Let $du$ be a normalised first kind differentials, then an Abel map $\\mathcal{A}$ can be constructed by:\n",
    "        $$\n",
    "            \\mathcal{A}(P) = \\int_{\\infty}^P du, \\quad P = (x,y) \\in \\mathscr{C}.\n",
    "        $$\n",
    "        Here infinity is used as the base point. The Abel image of divisor $D$ is computed by \n",
    "        $$\n",
    "            \\mathcal{A}(D) = \\sum_{i=1}^n \\mathcal{A}(P_i).\n",
    "        $$\n",
    "    </p>    \n",
    "</div>"
   ]
  },
  {
   "cell_type": "markdown",
   "id": "b081f708-d88b-4d34-abf1-5df6115e735a",
   "metadata": {},
   "source": [
    "<div style=\"font-family: 'Latin Modern Roman', Times, serif; font-size: 16px;\">\n",
    "<p>\n",
    "    Let $\\mathbf{u}=\\mathcal{A}(D)$ be the Abel image of a degree $g$ positive non-special divisor $D$ on the curve. Then $D$ is uniquely defined by the system of equations:\n",
    "    $$\n",
    "        \\mathcal{R}_{2g}(x;\\mathbf{u}) = x^g - \\sum_{i=1}^g x^{g-1} \\wp_{1,2i-1}(\\mathbf{u}) =0,\n",
    "    $$\n",
    "    $$\n",
    "        \\mathcal{R}_{2g+1}(x,y;\\mathbf{u}) = 2y + \\sum_{i=1}^{g-i} x^{g-1} \\wp_{1,1,2i-1}(\\mathbf{u}) =0.\n",
    "    $$\n",
    "    So in case of $g=2$:    \n",
    "    $$\n",
    "        \\mathcal{R}_4(x;\\mathbf{u})=x^2 - x\\wp_{11}(\\mathbf{u})- \\wp_{13}(\\mathbf{u})=0,\n",
    "    $$    \n",
    "    $$\n",
    "        \\mathcal{R}_5 (x;\\mathbf{u})= 2y + x\\wp_{111}(\\mathbf{u}) + \\wp_{113}(\\mathbf{u})=0.\n",
    "    $$    \n",
    "</p>\n",
    "</d>"
   ]
  },
  {
   "cell_type": "markdown",
   "id": "9e86308d-51cf-42ad-8ea0-d4600e7a94da",
   "metadata": {},
   "source": [
    "<div style=\"font-family: 'Latin Modern Roman', Times, serif; font-size: 16px;\">\n",
    "<h2 style=\"font-size: 20px;\">8.1. Jacobi inversion problem on branch points</h2>\n",
    "    Based on the Riemann vanishing theorem and the inverse Jaccobi problem we can define the following properties.\n",
    "</div>"
   ]
  },
  {
   "cell_type": "markdown",
   "id": "44536b6c-4c69-4fa3-882f-b7f6a8014f46",
   "metadata": {},
   "source": [
    "<div style=\"background-color:  rgba(224, 224, 224, 0.25); \n",
    "    font-family: 'Latin Modern Roman', Times, serif; font-size: 16px; border: 1px solid  rgb(192, 192, 192); padding: 15px; border-radius: 5px; \">\n",
    "    <h4 style=\"font-size: 20px;color: rgb(160, 160, 160);\">Definition 8.3</h4>\n",
    "    <p>  \n",
    "        \n",
    "Based on <a href=\"https://arxiv.org/pdf/1106.2408\" target=\"_blank\">[7]</a></li> (5.10-13) let's take\n",
    "$$\n",
    "    \\Omega_{ij} = \\frac{1}{2} \\omega (\\varepsilon_i + \\varepsilon_j) +  \\frac{1}{2} \\omega' (\\varepsilon'_i + \\varepsilon'_j)+ \\mathbf{K},\n",
    "$$\n",
    "then\n",
    "$$\n",
    "    \\wp_{11}(\\Omega_{ij}) = e_i + e_j, \\quad \\wp_{13}(\\Omega_{ij}) = -e_i e_j,  \\quad i,j=1,\\ldots,5, \\; i\\neq j\n",
    "$$\n",
    "and\n",
    "$$\n",
    "    \\wp_{33}(\\Omega_{ij}) = e_i e_j (e_p + e_q + e_r) + e_p e_q e_r\n",
    "$$\n",
    "</pre>\n",
    "</div>"
   ]
  },
  {
   "cell_type": "markdown",
   "id": "7b7edce4-3a41-4070-b8fa-75b632f0922e",
   "metadata": {},
   "source": [
    "<div style=\"font-family: 'Latin Modern Roman', Times, serif; font-size: 16px;\">\n",
    "<p>\n",
    "    Now we can test the above definition using $\\Omega_{ij}$ calculated from characteristics $\\varepsilon$, but also using the built-in Sage function <code style=\"color: #66d9ef;font-size: 13px;\">abel_jacobi()</code>, \n",
    "   which expects lists of tuples in the format <code style=\"color: #66d9ef;font-size: 13px;font-size: 13px;\">(v,P)</code>, where  <code style=\"color: #66d9ef;font-size: 13px;\">v</code> is the multiplicity of the point in the divisor (in our case 1 for both points), and  <code style=\"color: #66d9ef;font-size: 13px;\">P</code> is a tuple  <code style=\"color: #66d9ef;font-size: 13px;\">(x,y)</code> representing the point on the curve. \n",
    "\n",
    "The multiplicity <code style=\"color: #66d9ef;font-size: 13px;\">v</code> (also called valuation) in the context of divisors determines how many times a given point appears in the divisor. Here are some key points:\n",
    "<ul>\n",
    "    <li> For regular points on the curve that are neither singular points nor points at infinity, typically $v = 1$ or $v = -1$ is used.\n",
    "$v = 1$ means the point appears positively in the divisor (it is \"added\").\n",
    "    <li> $v = -1$ means the point appears negatively in the divisor (it is \"subtracted\").\n",
    "    <li> If a point appears multiple times, $v$ can be greater than 1 or less than -1.\n",
    "    <li> For special points (e.g., points at infinity or singular points), v may take other values depending on the local structure of the curve at that point.\n",
    "</ul>\n",
    "\n",
    "</p>\n",
    "</div> "
   ]
  },
  {
   "cell_type": "markdown",
   "id": "678fa1f3-fcb6-4d62-b9e0-40fddf201a8e",
   "metadata": {},
   "source": [
    "<div style=\"background-color:  rgba(255, 153, 153, 0.25); \n",
    "    font-family: 'Latin Modern Roman', Times, serif; font-size: 16px; border: 1px solid  rgb(255, 51,51); padding: 15px; border-radius: 5px; \">\n",
    "    <h4 style=\"font-size: 20px;color: rgb(255, 51,51);\">Important 8.1.</h4>\n",
    "    <p>\n",
    "        <code style=\"color: #66d9ef;font-size: 13px;\">abel_jacobi()</code> returns the $\\mathbf{u}$ coordinates in the reverse order of the convention we adopted.\n",
    "    </p>    \n",
    "    </div>\n",
    "\n",
    "</div>"
   ]
  },
  {
   "cell_type": "code",
   "execution_count": 59,
   "id": "c115f541-e0f6-4f4a-a9df-715022d31718",
   "metadata": {},
   "outputs": [],
   "source": [
    "## Definition of Omega_ij\n",
    "vK1 = vector(KCh[0])\n",
    "vK2 = vector(KCh[1])\n",
    "\n",
    "Omega12 = (1/2)*omega*(eps1 + eps2 + vK1) + (1/2)*omegaP*(epsp1 + epsp2 + vK2)\n",
    "Omega13 = (1/2)*omega*(eps1 + eps3 + vK1) + (1/2)*omegaP*(epsp1 + epsp3 + vK2)\n",
    "Omega14 = (1/2)*omega*(eps1 + eps4 + vK1) + (1/2)*omegaP*(epsp1 + epsp4 + vK2) \n",
    "Omega15 = (1/2)*omega*(eps1 + eps5 + vK1) + (1/2)*omegaP*(epsp1 + epsp5 + vK2)\n",
    "Omega23 = (1/2)*omega*(eps2 + eps3 + vK1) + (1/2)*omegaP*(epsp2 + epsp3 + vK2)\n",
    "Omega24 = (1/2)*omega*(eps2 + eps4 + vK1) + (1/2)*omegaP*(epsp2 + epsp4 + vK2)\n",
    "Omega25 = (1/2)*omega*(eps2 + eps5 + vK1) + (1/2)*omegaP*(epsp2 + epsp5 + vK2)\n",
    "Omega34 = (1/2)*omega*(eps3 + eps4 + vK1) + (1/2)*omegaP*(epsp3 + epsp4 + vK2)\n",
    "Omega35 = (1/2)*omega*(eps3 + eps5 + vK1) + (1/2)*omegaP*(epsp3 + epsp5 + vK2)\n",
    "Omega45 = (1/2)*omega*(eps4 + eps5 + vK1) + (1/2)*omegaP*(epsp4 + epsp5 + vK2)"
   ]
  },
  {
   "cell_type": "code",
   "execution_count": 60,
   "id": "8ccc90ea-64e2-43ea-aba4-9f9c8056d4dd",
   "metadata": {},
   "outputs": [],
   "source": [
    "## Code for abel_jacobi()\n",
    "\n",
    "# Branch points\n",
    "e1 = e(0)\n",
    "e2 = e(1)\n",
    "e3 = e(2)\n",
    "e4 = e(3)\n",
    "e5 = e(4)\n",
    "\n",
    "# Divisors\n",
    "\n",
    "divisor12 = [(-1, (e1,0)),(1, (e2,0))]\n",
    "divisor13 = [(-1, (e1,0)),(1, (e3,0))] \n",
    "divisor14 = [(-1, (e1,0)),(1, (e4,0))] \n",
    "divisor15 = [(-1, (e1,0)),(1, (e5,0))] \n",
    "divisor23 = [(-1, (e2,0)),(1, (e3,0))] \n",
    "divisor24 = [(-1, (e2,0)),(1, (e4,0))]\n",
    "divisor25 = [(-1, (e2,0)),(1, (e5,0))] \n",
    "divisor34 = [(-1, (e3,0)),(1, (e4,0))]\n",
    "divisor35 = [(-1, (e3,0)),(1, (e5,0))] \n",
    "divisor45 = [(-1, (e4,0)),(1, (e5,0))]\n",
    "\n",
    "# Abels images\n",
    "ai12 = S.abel_jacobi(divisor12)\n",
    "ai13 = S.abel_jacobi(divisor13)\n",
    "ai14 = S.abel_jacobi(divisor14)\n",
    "ai15 = S.abel_jacobi(divisor15)\n",
    "ai23 = S.abel_jacobi(divisor23)\n",
    "ai24 = S.abel_jacobi(divisor24)\n",
    "ai25 = S.abel_jacobi(divisor25)\n",
    "ai34 = S.abel_jacobi(divisor34)\n",
    "ai35 = S.abel_jacobi(divisor35)\n",
    "ai45 = S.abel_jacobi(divisor45)\n",
    "\n",
    "# Reversing the order of coordinates\n",
    "AJ12 = (ai12[1],ai12[0])\n",
    "AJ13 = (ai13[1],ai13[0])\n",
    "AJ14 = (ai14[1],ai14[0])\n",
    "AJ15 = (ai15[1],ai15[0])\n",
    "AJ23 = (ai23[1],ai23[0])\n",
    "AJ24 = (ai24[1],ai24[0])\n",
    "AJ25 = (ai25[1],ai25[0])\n",
    "AJ34 = (ai34[1],ai34[0])\n",
    "AJ35 = (ai35[1],ai35[0])\n",
    "AJ45 = (ai45[1],ai45[0])\n",
    "\n",
    "################\n",
    "# Adding the Riemann vector shift\n",
    "################\n",
    "vK1 = vector(KCh[0])\n",
    "vK2 = vector(KCh[1])\n",
    "uK = (1/2)*omega*vK1 + (1/2)*omegaP*vK2\n",
    "\n",
    "AOmega12 = (AJ12[0]+uK[0], AJ12[1]+uK[1])\n",
    "AOmega13 = (AJ13[0]+uK[0], AJ13[1]+uK[1])\n",
    "AOmega14 = (AJ14[0]+uK[0], AJ14[1]+uK[1])\n",
    "AOmega15 = (AJ15[0]+uK[0], AJ15[1]+uK[1])\n",
    "AOmega23 = (AJ23[0]+uK[0], AJ23[1]+uK[1])\n",
    "AOmega24 = (AJ24[0]+uK[0], AJ24[1]+uK[1])\n",
    "AOmega25 = (AJ25[0]+uK[0], AJ25[1]+uK[1])\n",
    "AOmega34 = (AJ34[0]+uK[0], AJ34[1]+uK[1])\n",
    "AOmega35 = (AJ35[0]+uK[0], AJ35[1]+uK[1])\n",
    "AOmega45 = (AJ45[0]+uK[0], AJ45[1]+uK[1])"
   ]
  },
  {
   "cell_type": "markdown",
   "id": "e6769950-1692-42ae-b84e-6408d0aa80fc",
   "metadata": {},
   "source": [
    "<div style=\"font-family: 'Latin Modern Roman', Times, serif; font-size: 16px;\">\n",
    "<p>\n",
    "    Compare the angles calculated in both ways\n",
    "</ul>\n",
    "\n",
    "</p>\n",
    "</div> "
   ]
  },
  {
   "cell_type": "code",
   "execution_count": 61,
   "id": "723be382-7675-4bcd-a8e5-16200dedec7a",
   "metadata": {},
   "outputs": [
    {
     "name": "stdout",
     "output_type": "stream",
     "text": [
      "Omega12 - AOmega12= (1.3122, -0.47840)\n",
      "Omega13 - AOmega13= (1.1399 - 0.66033*I, 0.14607 + 0.28220*I)\n",
      "Omega14 - AOmega14= (1.3122 - 0.91722*I, -0.47840 + 0.038862*I)\n",
      "Omega15 - AOmega15= (1.3122 - 1.3207*I, -0.47840 + 0.56440*I)\n",
      "Omega23 - AOmega23= (-0.17232 - 0.25689*I, 0.62448 - 0.24334*I)\n",
      "Omega24 - AOmega24= (-0.51377*I, -0.48668*I)\n",
      "Omega25 - AOmega25= (-0.91722*I, 0.038862*I)\n",
      "Omega34 - AOmega34= (0.17232 - 0.25689*I, -0.62448 - 0.24334*I)\n",
      "Omega35 - AOmega35= (0.17232 - 0.66033*I, -0.62448 + 0.28220*I)\n",
      "Omega45 - AOmega45= (0.13760 - 0.66033*I, -0.62448 + 0.28220*I)\n"
     ]
    }
   ],
   "source": [
    "print(\"Omega12 - AOmega12=\", (Omega12[0].n(digits=5) - AOmega12[0].n(digits=5),Omega12[1].n(digits=5) - AOmega12[1].n(digits=5)))\n",
    "print(\"Omega13 - AOmega13=\", (Omega13[0].n(digits=5) - AOmega13[0].n(digits=5),Omega13[1].n(digits=5) - AOmega13[1].n(digits=5)))\n",
    "print(\"Omega14 - AOmega14=\", (Omega14[0].n(digits=5) - AOmega14[0].n(digits=5),Omega14[1].n(digits=5) - AOmega14[1].n(digits=5)))\n",
    "print(\"Omega15 - AOmega15=\", (Omega15[0].n(digits=5) - AOmega15[0].n(digits=5),Omega15[1].n(digits=5) - AOmega15[1].n(digits=5)))\n",
    "print(\"Omega23 - AOmega23=\", (Omega23[0].n(digits=5) - AOmega23[0].n(digits=5),Omega23[1].n(digits=5) - AOmega23[1].n(digits=5)))\n",
    "print(\"Omega24 - AOmega24=\", (Omega24[0].n(digits=5) - AOmega24[0].n(digits=5),Omega24[1].n(digits=5) - AOmega24[1].n(digits=5)))\n",
    "print(\"Omega25 - AOmega25=\", (Omega25[0].n(digits=5) - AOmega25[0].n(digits=5),Omega25[1].n(digits=5) - AOmega25[1].n(digits=5)))\n",
    "print(\"Omega34 - AOmega34=\", (Omega34[0].n(digits=5) - AOmega34[0].n(digits=5),Omega34[1].n(digits=5) - AOmega34[1].n(digits=5))) \n",
    "print(\"Omega35 - AOmega35=\", (Omega35[0].n(digits=5) - AOmega35[0].n(digits=5),Omega35[1].n(digits=5) - AOmega35[1].n(digits=5)))\n",
    "print(\"Omega45 - AOmega45=\", (Omega45[0].n(digits=5) - AOmega45[0].n(digits=5),Omega45[1].n(digits=5) - AOmega45[1].n(digits=5))) "
   ]
  },
  {
   "cell_type": "markdown",
   "id": "baefc347-53ae-4d21-8583-c0ad50a7298d",
   "metadata": {},
   "source": [
    "<div style=\"font-family: 'Latin Modern Roman', Times, serif; font-size: 16px;\">\n",
    "<p>\n",
    "    Let's check whether, despite these differences, we get the correct results for the inverse Jacobi problem.\n",
    "</ul>\n",
    "\n",
    "</p>\n",
    "</div> "
   ]
  },
  {
   "cell_type": "code",
   "execution_count": 62,
   "id": "f4e61c08-45e0-4dfa-9772-ee80bb8ca733",
   "metadata": {},
   "outputs": [
    {
     "name": "stdout",
     "output_type": "stream",
     "text": [
      "P11(Omega12)= -12.8777576097163 - 4.44089209850063e-15*I\n",
      "P11(AOmega12)= -12.8777576097163 + 6.52256026967279e-16*I\n",
      "From theory: e1+e2= -12.8777576097163 + 1.12667612778789e-15*I\n"
     ]
    }
   ],
   "source": [
    "print(\"P11(Omega12)=\",WeierstrassP11(Omega12[0],Omega12[1]))\n",
    "print(\"P11(AOmega12)=\",WeierstrassP11(AOmega12[0],AOmega12[1]))\n",
    "print(\"From theory: e1+e2=\",e1+ e2)"
   ]
  },
  {
   "cell_type": "code",
   "execution_count": 63,
   "id": "d36cced5-93ef-4e32-949b-b194aca8161a",
   "metadata": {},
   "outputs": [
    {
     "name": "stdout",
     "output_type": "stream",
     "text": [
      "P13(Omega12)= -12.4476076227599 + 1.77635683940025e-15*I\n",
      "P13(AOmega12)= -12.4476076227599 - 4.10782519111308e-15*I\n",
      "From theory: -e1*e2= -12.4476076227599 - 2.44998284463022e-15*I\n"
     ]
    }
   ],
   "source": [
    "print(\"P13(Omega12)=\",WeierstrassP13(Omega12[0],Omega12[1]))\n",
    "print(\"P13(AOmega12)=\",WeierstrassP13(AOmega12[0],AOmega12[1]))\n",
    "print(\"From theory: -e1*e2=\",-e1* e2)"
   ]
  },
  {
   "cell_type": "code",
   "execution_count": 64,
   "id": "4dae1624-cb7d-46fc-931a-1feda91a9671",
   "metadata": {},
   "outputs": [
    {
     "name": "stdout",
     "output_type": "stream",
     "text": [
      "P33(Omega12)= 10.1226150881406 - 1.77635683940025e-14*I\n",
      "P33(AOmega12)= 10.1226150881406 + 1.77635683940025e-14*I\n",
      "From theory: e1*e2(e3+e4+e5) + e3*e4*e5= 10.1226150881406 + 4.96992635363731e-15*I\n"
     ]
    }
   ],
   "source": [
    "print(\"P33(Omega12)=\",WeierstrassP33(Omega12[0],Omega12[1]))\n",
    "print(\"P33(AOmega12)=\",WeierstrassP33(AOmega12[0],AOmega12[1]))\n",
    "print(\"From theory: e1*e2(e3+e4+e5) + e3*e4*e5=\",e1*e2*(e3+e4+e5) + e3*e4*e5)"
   ]
  },
  {
   "cell_type": "code",
   "execution_count": 65,
   "id": "3ca5c4de-13b2-43d4-a577-90f8b9e6c35c",
   "metadata": {},
   "outputs": [
    {
     "name": "stdout",
     "output_type": "stream",
     "text": [
      "P11(Omega13)= -12.3374341010861 - 4.44089209850063e-15*I\n",
      "P11(AOmega13)= -12.1578646219938 + 4.08842072453786e-8*I\n",
      "From theory: e1+e3= -12.3374341010862 + 1.49536866230030e-15*I\n"
     ]
    }
   ],
   "source": [
    "print(\"P11(Omega13)=\",WeierstrassP11(Omega13[0],Omega13[1]))\n",
    "print(\"P11(AOmega13)=\",WeierstrassP11(AOmega13[0],AOmega13[1]))\n",
    "print(\"From theory: e1+e3=\",e1+ e3)"
   ]
  },
  {
   "cell_type": "code",
   "execution_count": 66,
   "id": "12742dda-9fce-44d2-8012-cda95c66e37d",
   "metadata": {},
   "outputs": [
    {
     "name": "stdout",
     "output_type": "stream",
     "text": [
      "P11(Omega14)= -11.1300783560491 + 1.04164546422316*I\n",
      "P11(AOmega14)= -11.1300783560491 + 1.04164546422316*I\n",
      "From theory: e1+e4= -11.1300783560491 + 1.04164546422316*I\n"
     ]
    }
   ],
   "source": [
    "print(\"P11(Omega14)=\",WeierstrassP11(Omega14[0],Omega14[1]))\n",
    "print(\"P11(AOmega14)=\",WeierstrassP11(AOmega14[0],AOmega14[1]))\n",
    "print(\"From theory: e1+e4=\", e1+ e4)"
   ]
  },
  {
   "cell_type": "code",
   "execution_count": 67,
   "id": "cabe1050-343e-4429-a18e-15c63f167d1d",
   "metadata": {},
   "outputs": [
    {
     "name": "stdout",
     "output_type": "stream",
     "text": [
      "P11(Omega15)= -11.1300783560490 - 1.04164546422317*I\n",
      "P11(AOmega15)= -11.1300783560491 - 1.04164546422316*I\n",
      "From theory: e1+e5= -11.1300783560491 - 1.04164546422316*I\n"
     ]
    }
   ],
   "source": [
    "print(\"P11(Omega15)=\",WeierstrassP11(Omega15[0],Omega15[1]))\n",
    "print(\"P11(AOmega15)=\",WeierstrassP11(AOmega15[0],AOmega15[1]))\n",
    "print(\"From theory: e1+e5=\", e1+ e5)"
   ]
  },
  {
   "cell_type": "code",
   "execution_count": 68,
   "id": "76d41d78-ad65-422d-bf2c-3f8137619527",
   "metadata": {},
   "outputs": [
    {
     "name": "stdout",
     "output_type": "stream",
     "text": [
      "P11(Omega23)= -1.56495942886875 - 3.88578058618805e-16*I\n",
      "P11(AOmega23)= -1.60036675615352 + 6.99244995239212e-9*I\n",
      "From theory: e2+e3= -1.56495942886875 - 3.06355487269817e-16*I\n"
     ]
    }
   ],
   "source": [
    "print(\"P11(Omega23)=\",WeierstrassP11(Omega23[0],Omega23[1]))\n",
    "print(\"P11(AOmega23)=\",WeierstrassP11(AOmega23[0],AOmega23[1]))\n",
    "print(\"From theory: e2+e3=\", e2+ e3)"
   ]
  },
  {
   "cell_type": "code",
   "execution_count": 69,
   "id": "867a96e0-bca3-4964-8933-42f0a213e132",
   "metadata": {},
   "outputs": [
    {
     "name": "stdout",
     "output_type": "stream",
     "text": [
      "P11(Omega24)= -0.357603683831629 + 1.04164546422316*I\n",
      "P11(AOmega24)= -0.357603683831641 + 1.04164546422316*I\n",
      "From theory: e2+e4= -0.357603683831631 + 1.04164546422316*I\n"
     ]
    }
   ],
   "source": [
    "print(\"P11(Omega24)=\",WeierstrassP11(Omega24[0],Omega24[1]))\n",
    "print(\"P11(AOmega24)=\",WeierstrassP11(AOmega24[0],AOmega24[1]))\n",
    "print(\"From theory: e2+e4=\",e2+ e4)"
   ]
  },
  {
   "cell_type": "code",
   "execution_count": 70,
   "id": "0e723c26-bed7-4416-a020-244aced43412",
   "metadata": {},
   "outputs": [
    {
     "name": "stdout",
     "output_type": "stream",
     "text": [
      "P11(Omega25)= -0.357603683831631 - 1.04164546422316*I\n",
      "P11(AOmega25)= -0.357603683831631 - 1.04164546422316*I\n",
      "From theory: e2+e5= -0.357603683831632 - 1.04164546422316*I\n"
     ]
    }
   ],
   "source": [
    "print(\"P11(Omega25)=\",WeierstrassP11(Omega25[0],Omega25[1]))\n",
    "print(\"P11(AOmega25)=\",WeierstrassP11(AOmega25[0],AOmega25[1]))\n",
    "print(\"From theory: e2+e5=\",e2+ e5)"
   ]
  },
  {
   "cell_type": "code",
   "execution_count": 71,
   "id": "4353583d-f765-44b3-9bf6-d9a22592febd",
   "metadata": {},
   "outputs": [
    {
     "name": "stdout",
     "output_type": "stream",
     "text": [
      "P11(Omega34)= 0.182719824798481 + 1.04164546422316*I\n",
      "P11(AOmega34)= 0.187452462896973 + 1.07462830934531*I\n",
      "From theory: e3+e4= 0.182719824798481 + 1.04164546422316*I\n"
     ]
    }
   ],
   "source": [
    "print(\"P11(Omega34)=\",WeierstrassP11(Omega34[0],Omega34[1]))\n",
    "print(\"P11(AOmega34)=\",WeierstrassP11(AOmega34[0],AOmega34[1]))\n",
    "print(\"From theory: e3+e4=\",e3+ e4)"
   ]
  },
  {
   "cell_type": "code",
   "execution_count": 72,
   "id": "74a42ed1-54bf-4fa6-b367-41dfdfcd7ceb",
   "metadata": {},
   "outputs": [
    {
     "name": "stdout",
     "output_type": "stream",
     "text": [
      "P11(Omega35)= 0.182719824798477 - 1.04164546422316*I\n",
      "P11(AOmega35)= 0.187452457028380 - 1.07462830675917*I\n",
      "From theory: e3+e5= 0.182719824798481 - 1.04164546422316*I\n"
     ]
    }
   ],
   "source": [
    "print(\"P11(Omega35)=\",WeierstrassP11(Omega35[0],Omega35[1]))\n",
    "print(\"P11(AOmega35)=\",WeierstrassP11(AOmega35[0],AOmega35[1]))\n",
    "print(\"From theory: e3+e5=\",e3+ e5)"
   ]
  },
  {
   "cell_type": "code",
   "execution_count": 73,
   "id": "b3ecb9e2-e930-4162-96f1-2a2e50692dc1",
   "metadata": {},
   "outputs": [
    {
     "name": "stdout",
     "output_type": "stream",
     "text": [
      "P11(Omega45)= 1.39007556983559 - 6.71684929898220e-15*I\n",
      "P11(AOmega45)= 1.39007556983560 + 9.43689570931383e-16*I\n",
      "From theory: e4+e5= 1.39007556983560 + 2.22044604925031e-16*I\n"
     ]
    }
   ],
   "source": [
    "print(\"P11(Omega45)=\",WeierstrassP11(Omega45[0],Omega45[1]))\n",
    "print(\"P11(AOmega45)=\",WeierstrassP11(AOmega45[0],AOmega45[1]))\n",
    "print(\"From theory: e4+e5=\",e4+ e5)"
   ]
  },
  {
   "cell_type": "markdown",
   "id": "351fa355-f96e-40c7-9410-c5c6c770aa5a",
   "metadata": {},
   "source": [
    "<div style=\"font-family: 'Latin Modern Roman', Times, serif; font-size: 16px;\">\n",
    "<h2 style=\"font-size: 24px;\">8.2. General case</h2>\n",
    "</div>"
   ]
  },
  {
   "cell_type": "markdown",
   "id": "70a215ff-ca4b-4539-b52a-431a686b0d36",
   "metadata": {},
   "source": [
    "<div style=\"font-family: 'Latin Modern Roman', Times, serif; font-size: 16px;\">\n",
    "<p>\n",
    "As a point $P_i$ we choose\n",
    "$$\n",
    "    P_i = (x_i,y_i) = (x_i, y_{+}(x_i)),\n",
    "$$\n",
    "where $y_{+}(x) = + \\sqrt{y^2(x)}$ (there is second option $y_{-}(x) = - \\sqrt{y^2(x)}$ ). \n",
    "</p> \n",
    "</div>"
   ]
  },
  {
   "cell_type": "code",
   "execution_count": 74,
   "id": "1b753b5e-7c68-4a10-910b-88741200b2e6",
   "metadata": {},
   "outputs": [],
   "source": [
    "# Definition of polynomial\n",
    "def Poly(x):\n",
    "    return x^5 + l2*x^4 + l4*x^3 + l6*x^2 + l8*x + l10\n",
    "\n",
    "# Definition of y\n",
    "def y(x):\n",
    "    # Polynomial module\n",
    "    modulus = abs(Poly(x))\n",
    "    \n",
    "    # Polynomial argument\n",
    "    angle = arg(Poly(x))  \n",
    "    \n",
    "    # Correction of angle according to conditions\n",
    "    corrected_angle = angle / 2 + pi if angle < 0 else angle / 2\n",
    "    \n",
    "    # Assembly of module and phase\n",
    "    root = sqrt(modulus) * exp(I * corrected_angle)\n",
    "    \n",
    "    return root"
   ]
  },
  {
   "cell_type": "markdown",
   "id": "abc183a9-0d4f-410a-b7a7-da8d87f88b96",
   "metadata": {},
   "source": [
    "<div style=\"font-family: 'Latin Modern Roman', Times, serif; font-size: 16px;\">\n",
    "<p>\n",
    "    From the theory \n",
    "    $$\n",
    "        \\wp_{11}(\\mathbf{u}) = x_1 + x_2, \\quad \\wp_{13}(\\mathbf{u}) = -x_1 x_2,  \n",
    "    $$\n",
    "        and for \n",
    "    $$\n",
    "        F(x,z) = \\left[2\\lambda_{10}  + \\lambda_8 (x+z)\\right] + xz\\left[ 2\\lambda_6 + \\lambda_4(x+z) \\right]  + x^2 z^2 \\left[ 2\\lambda_2 + (x+z) \\right]\n",
    "    $$\n",
    "    $$\n",
    "        \\wp_{33}(\\mathbf{u}) = \\frac{F(x_1,x_2) - 2y_1 y_2}{4(x_1 - x_2)^2}\n",
    "    $$\n",
    "</p> \n",
    "</div>"
   ]
  },
  {
   "cell_type": "code",
   "execution_count": 75,
   "id": "b22f7621-8c43-4e0f-9a78-c7bc9acc333d",
   "metadata": {},
   "outputs": [],
   "source": [
    "def fun(x,z):\n",
    "    return 2*l10 + l8*(x+z) + x*z*(2*l6 + l4*(x+z)) + x^2 * z^2 *(2*l2+(x+z))\n",
    "\n",
    "def p33(x1,x2):\n",
    "    numerator = fun(x1,x2) - 2*y(x1)*y(x2)\n",
    "    denominator = 4*(x1-x2)^2\n",
    "    return numerator/denominator"
   ]
  },
  {
   "cell_type": "markdown",
   "id": "a7c5929f-a0a0-41e1-9648-53241dca0541",
   "metadata": {},
   "source": [
    "<div style=\"font-family: 'Latin Modern Roman', Times, serif; font-size: 16px;\">\n",
    "<p>\n",
    "Let's recall brunch points\n",
    "</p>\n",
    "</div>"
   ]
  },
  {
   "cell_type": "code",
   "execution_count": 76,
   "id": "9d252d83-c98d-433d-bbc6-829ac12778d6",
   "metadata": {},
   "outputs": [
    {
     "name": "stdout",
     "output_type": "stream",
     "text": [
      "Branch points:\n",
      "-11.8251161409669\n",
      "-1.05264146874943\n",
      "-0.512317960119317\n",
      "0.695037784917798 - 1.04164546422316*I\n",
      "0.695037784917798 + 1.04164546422316*I\n",
      "+Infinity\n"
     ]
    }
   ],
   "source": [
    "print(\"Branch points:\", *branch_points, sep='\\n')"
   ]
  },
  {
   "cell_type": "markdown",
   "id": "4e4a4056-39ee-43b9-8629-b57e99251246",
   "metadata": {},
   "source": [
    "<div style=\"font-family: 'Latin Modern Roman', Times, serif; font-size: 16px;\">\n",
    "<p>\n",
    "We compare the values of $\\mathbf{u}$ calculated from <code style=\"color: #66d9ef;font-size: 13px;\">abel_jacobi()</code> with the values from the theory for arbitrary points $x_1$ and $x_2$\n",
    "</p> \n",
    "</div>"
   ]
  },
  {
   "cell_type": "code",
   "execution_count": 77,
   "id": "9c826369-2c63-4c03-90ec-f17e8ff4c393",
   "metadata": {},
   "outputs": [
    {
     "name": "stdout",
     "output_type": "stream",
     "text": [
      "P11(u):= 0.184891289907970 - 1.07467781012325*I\n",
      "From theory: x1+x2= 11.5000000000000\n",
      "\n",
      "P13(u)= 0.353993474282754 - 0.557285599518726*I\n",
      "From theory: -x1*x2= -32.5000000000000\n",
      "\n",
      "P33(u)= 12.4404821020362 + 6.09804458536710*I\n",
      "From theory: -204.146616551396*sqrt(881/2) + 4284.93055555556\n"
     ]
    }
   ],
   "source": [
    "x1 = 6.5\n",
    "x2 = 5\n",
    "\n",
    "y1 = y(x1)\n",
    "y2 = y(x2)\n",
    "\n",
    "\n",
    "# Divisors\n",
    "divisor = [(-1, (Infinity,0)),(1, (e5,  0)),(-1, (x1, y1)),(1, (x2, y2))]\n",
    "\n",
    "# Abel map\n",
    "aj = S.abel_jacobi(divisor)\n",
    "# Reversing the order of coordinates\n",
    "AJ = (aj[1],aj[0])\n",
    "\n",
    "u1=AJ[0]\n",
    "u3=AJ[1]\n",
    "\n",
    "print(\"P11(u):=\",WeierstrassP11(u1, u3))\n",
    "print(\"From theory: x1+x2=\",x1+ x2)\n",
    "print()\n",
    "print(\"P13(u)=\",WeierstrassP13(u1, u3))\n",
    "print(\"From theory: -x1*x2=\",-x1*x2)\n",
    "print()     \n",
    "print(\"P33(u)=\",WeierstrassP33(u1, u3))\n",
    "print(\"From theory:\",p33(x1,x2) )"
   ]
  },
  {
   "cell_type": "markdown",
   "id": "857182e3-2c46-478d-a33c-4552ccc13824",
   "metadata": {},
   "source": [
    "<div style=\"font-family: 'Latin Modern Roman', Times, serif; font-size: 16px;\">\n",
    "<p>\n",
    "Let's change the points $x_1$ and $x_2$\n",
    "</div>\n",
    "</p>"
   ]
  },
  {
   "cell_type": "code",
   "execution_count": 78,
   "id": "48215d3f-391e-4ced-978d-c893f872c446",
   "metadata": {},
   "outputs": [
    {
     "name": "stdout",
     "output_type": "stream",
     "text": [
      "P11(u):= 1.77557997339084 - 1.22425273828305*I\n",
      "From theory: x1+x2= 1.00000000000000\n",
      "\n",
      "P13(u)= -0.552540873788430 + 1.23859942939941*I\n",
      "From theory: -x1*x2= 0.750000000000000\n",
      "\n",
      "P33(u)= -59.6555863818557 + 27.4989143355881*I\n",
      "From theory: 2.66403194341274\n"
     ]
    }
   ],
   "source": [
    "x1 = 1.5\n",
    "x2 = -0.5\n",
    "\n",
    "y1 = y(x1)\n",
    "y2 = y(x2)\n",
    "\n",
    "\n",
    "# Divisors\n",
    "divisor = [(-1, (Infinity,0)),(1, (e5,  0)),(-1, (x1, y1)),(1, (x2, y2))]\n",
    "\n",
    "# Abel map\n",
    "aj = S.abel_jacobi(divisor)\n",
    "# Reversing the order of coordinates\n",
    "AJ = (aj[1],aj[0])\n",
    "\n",
    "u1=AJ[0]\n",
    "u3=AJ[1]\n",
    "\n",
    "print(\"P11(u):=\",WeierstrassP11(u1, u3))\n",
    "print(\"From theory: x1+x2=\",x1+ x2)\n",
    "print()\n",
    "print(\"P13(u)=\",WeierstrassP13(u1, u3))\n",
    "print(\"From theory: -x1*x2=\",-x1*x2)\n",
    "print()     \n",
    "print(\"P33(u)=\",WeierstrassP33(u1, u3))\n",
    "print(\"From theory:\",p33(x1,x2) )"
   ]
  },
  {
   "cell_type": "markdown",
   "id": "ecf43230-3693-4e3b-872b-066a3188e474",
   "metadata": {},
   "source": [
    "<div style=\"font-family: 'Latin Modern Roman', Times, serif; font-size: 16px;\">\n",
    "<p>\n",
    "Let's change the brunch point in the divisor definition on the first one which is real\n",
    "</div>\n",
    "</p>"
   ]
  },
  {
   "cell_type": "code",
   "execution_count": 82,
   "id": "f3cd42dc-9d12-4e02-a7bd-5db4a6bac4cb",
   "metadata": {},
   "outputs": [
    {
     "name": "stdout",
     "output_type": "stream",
     "text": [
      "P11(u):= 0.999818095342272 - 9.42324884789514e-10*I\n",
      "From theory: x1+x2= 1.00000000000000\n",
      "\n",
      "P13(u)= 0.749923179704208 + 1.16553522389040e-9*I\n",
      "From theory: -x1*x2= 0.750000000000000\n",
      "\n",
      "P33(u)= 15.4500625172065 - 8.65000444605357e-8*I\n",
      "From theory: 2.66403194341274\n"
     ]
    }
   ],
   "source": [
    "x1 = 1.5\n",
    "x2 = -0.5\n",
    "\n",
    "y1 = y(x1)\n",
    "y2 = y(x2)\n",
    "\n",
    "\n",
    "# Divisors\n",
    "divisor = [(-1, (Infinity,0)),(1, (e3,  0)),(-1, (x1, y1)),(1, (x2, y2))]\n",
    "\n",
    "# Abel map\n",
    "aj = S.abel_jacobi(divisor)\n",
    "# Reversing the order of coordinates\n",
    "AJ = (aj[1],aj[0])\n",
    "\n",
    "u1=AJ[0]\n",
    "u3=AJ[1]\n",
    "\n",
    "print(\"P11(u):=\",WeierstrassP11(u1, u3))\n",
    "print(\"From theory: x1+x2=\",x1+ x2)\n",
    "print()\n",
    "print(\"P13(u)=\",WeierstrassP13(u1, u3))\n",
    "print(\"From theory: -x1*x2=\",-x1*x2)\n",
    "print()     \n",
    "print(\"P33(u)=\",WeierstrassP33(u1, u3))\n",
    "print(\"From theory:\",p33(x1,x2) )"
   ]
  },
  {
   "cell_type": "markdown",
   "id": "5e184416-33cb-4bea-b113-f65fa374e97b",
   "metadata": {},
   "source": [
    "<div style=\"font-family: 'Latin Modern Roman', Times, serif; font-size: 16px;\">\n",
    "<p>\n",
    "Ok, let's change the points $x_1$ and $x_2$ for it\n",
    "</div>\n",
    "</p>"
   ]
  },
  {
   "cell_type": "code",
   "execution_count": 83,
   "id": "0480256d-0624-4476-b0a3-7ad13d7990aa",
   "metadata": {},
   "outputs": [
    {
     "name": "stdout",
     "output_type": "stream",
     "text": [
      "P11(u):= 4.73719784630354 + 4.00053699792235e-7*I\n",
      "From theory: x1+x2= 2.00000000000000\n",
      "\n",
      "P13(u)= 103.024851216997 + 6.27970203170847e-6*I\n",
      "From theory: -x1*x2= 89.2500000000000\n",
      "\n",
      "P33(u)= 1167.35969687998 + 0.0000704657058179237*I\n",
      "From theory: 48.3847049517949\n"
     ]
    }
   ],
   "source": [
    "x1 = 10.5\n",
    "x2 = -8.5\n",
    "\n",
    "y1 = y(x1)\n",
    "y2 = y(x2)\n",
    "\n",
    "\n",
    "# Divisors\n",
    "divisor = [(-1, (Infinity,0)),(1, (e3,  0)),(-1, (x1, y1)),(1, (x2, y2))]\n",
    "\n",
    "# Abel map\n",
    "aj = S.abel_jacobi(divisor)\n",
    "# Reversing the order of coordinates\n",
    "AJ = (aj[1],aj[0])\n",
    "\n",
    "u1=AJ[0]\n",
    "u3=AJ[1]\n",
    "\n",
    "print(\"P11(u):=\",WeierstrassP11(u1, u3))\n",
    "print(\"From theory: x1+x2=\",x1+ x2)\n",
    "print()\n",
    "print(\"P13(u)=\",WeierstrassP13(u1, u3))\n",
    "print(\"From theory: -x1*x2=\",-x1*x2)\n",
    "print()     \n",
    "print(\"P33(u)=\",WeierstrassP33(u1, u3))\n",
    "print(\"From theory:\",p33(x1,x2) )"
   ]
  },
  {
   "cell_type": "markdown",
   "id": "6325f15b-cc9c-465c-a1df-c306f89c9359",
   "metadata": {},
   "source": [
    "<div style=\"font-family: 'Latin Modern Roman', Times, serif; font-size: 16px;\">\n",
    "<p>\n",
    "Let's try the remaining brunch points in the dividers definition\n",
    "</div>\n",
    "</p>"
   ]
  },
  {
   "cell_type": "code",
   "execution_count": 86,
   "id": "feba534f-75f4-4c08-affb-37ce7e50fa23",
   "metadata": {},
   "outputs": [
    {
     "name": "stdout",
     "output_type": "stream",
     "text": [
      "P11(u):= 1.63612121389863 - 2.08993484740461e-8*I\n",
      "From theory: x1+x2= 2.00000000000000\n",
      "\n",
      "P13(u)= -1.85649109962442 + 4.48041603817728e-9*I\n",
      "From theory: -x1*x2= 89.2500000000000\n",
      "\n",
      "P33(u)= -26.4254878930462 + 1.54122091089448e-7*I\n",
      "From theory: 48.3847049517949\n"
     ]
    }
   ],
   "source": [
    "x1 = 10.5\n",
    "x2 = -8.5\n",
    "\n",
    "y1 = y(x1)\n",
    "y2 = y(x2)\n",
    "\n",
    "\n",
    "# Divisors\n",
    "divisor = [(-1, (Infinity,0)),(1, (e2,  0)),(-1, (x1, y1)),(1, (x2, y2))]\n",
    "\n",
    "# Abel map\n",
    "aj = S.abel_jacobi(divisor)\n",
    "# Reversing the order of coordinates\n",
    "AJ = (aj[1],aj[0])\n",
    "\n",
    "u1=AJ[0]\n",
    "u3=AJ[1]\n",
    "\n",
    "print(\"P11(u):=\",WeierstrassP11(u1, u3))\n",
    "print(\"From theory: x1+x2=\",x1+ x2)\n",
    "print()\n",
    "print(\"P13(u)=\",WeierstrassP13(u1, u3))\n",
    "print(\"From theory: -x1*x2=\",-x1*x2)\n",
    "print()     \n",
    "print(\"P33(u)=\",WeierstrassP33(u1, u3))\n",
    "print(\"From theory:\",p33(x1,x2) )"
   ]
  },
  {
   "cell_type": "code",
   "execution_count": 87,
   "id": "93341e53-d462-4122-997d-23be585a9bd6",
   "metadata": {},
   "outputs": [
    {
     "name": "stdout",
     "output_type": "stream",
     "text": [
      "P11(u):= 83.3574365361692 - 6.51322716094249e-6*I\n",
      "From theory: x1+x2= 2.00000000000000\n",
      "\n",
      "P13(u)= 42.2292611986710 - 3.25483494734158e-6*I\n",
      "From theory: -x1*x2= 89.2500000000000\n",
      "\n",
      "P33(u)= 33.3170685572608 - 1.97860730399846e-6*I\n",
      "From theory: 48.3847049517949\n"
     ]
    }
   ],
   "source": [
    "x1 = 10.5\n",
    "x2 = -8.5\n",
    "\n",
    "y1 = y(x1)\n",
    "y2 = y(x2)\n",
    "\n",
    "\n",
    "# Divisors\n",
    "divisor = [(-1, (Infinity,0)),(1, (e1,  0)),(-1, (x1, y1)),(1, (x2, y2))]\n",
    "\n",
    "# Abel map\n",
    "aj = S.abel_jacobi(divisor)\n",
    "# Reversing the order of coordinates\n",
    "AJ = (aj[1],aj[0])\n",
    "\n",
    "u1=AJ[0]\n",
    "u3=AJ[1]\n",
    "\n",
    "print(\"P11(u):=\",WeierstrassP11(u1, u3))\n",
    "print(\"From theory: x1+x2=\",x1+ x2)\n",
    "print()\n",
    "print(\"P13(u)=\",WeierstrassP13(u1, u3))\n",
    "print(\"From theory: -x1*x2=\",-x1*x2)\n",
    "print()     \n",
    "print(\"P33(u)=\",WeierstrassP33(u1, u3))\n",
    "print(\"From theory:\",p33(x1,x2) )"
   ]
  },
  {
   "cell_type": "markdown",
   "id": "94b6e0cb-7040-4c4f-9848-e053df359e16",
   "metadata": {},
   "source": [
    "<div style=\"background-color:  rgba(216, 220, 97, 0.25); \n",
    "    font-family: 'Latin Modern Roman', Times, serif; font-size: 16px; border: 1px solid  rgb(205,210,44); padding: 15px; border-radius: 5px; \">\n",
    "    <h3 style=\"font-size: 20px;color: rgb(205,210,44);\">Observation 8.1.</h3>\n",
    "    <p>\n",
    "    As for now, there are no clear rules for selecting divisors.\n",
    "</p>\n",
    "</d>"
   ]
  },
  {
   "cell_type": "markdown",
   "id": "c6f9525d-b400-44f1-8c3e-f1a20f728125",
   "metadata": {},
   "source": [
    "<div style=\"font-family: 'Latin Modern Roman', Times, serif; font-size: 16px;\">\n",
    "<h1 style=\"font-size: 32px;\"> Literature </h1>\n",
    "    <ol type=\"1\">\n",
    "        <li> \n",
    "            Julia Bernatska, <em>Computation of $\\wp$-functions on plane algebraic curves</em>,  arXiv (2024),<br>\n",
    "            URL: <a href=\"https://arxiv.org/abs/2407.05632\" target=\"_blank\">https://arxiv.org/abs/2407.05632</a> </li>\n",
    "        <li>\n",
    "            Julia Bernatska, <em>Uniformization of a genus 4 hyperelliptic curve with arbitrary complex branch points</em>, Wolfram Community (2024),<br>\n",
    "            URL: <a href=\"https://community.wolfram.com/groups/-/m/t/3243472\" target=\"_blank\">https://community.wolfram.com/groups/-/m/t/3243472</a> </li>\n",
    "        <li> \n",
    "            SageMath Documentation, <em>Riemann matrices and endomorphism rings of algebraic Riemann surfaces</em>,<br>\n",
    "            URL:<a href=\"https://doc.sagemath.org/html/en/reference/curves/sage/schemes/riemann_surfaces/riemann_surface.html#sage.schemes.riemann_surfaces.riemann_surface.RiemannSurface\"\n",
    "target=\"_blank\">https://doc.sagemath.org/html/en/reference/curves/sage/schemes/riemann_surfaces/riemann_surface.html#sage.schemes.riemann_surfaces.riemann_surface.RiemannSurface</a></li>\n",
    "        <li> \n",
    "            V.M.Buchstaber, V.Z. Enolski, and D.V.Leykin, <em>Hyperelliptic Kleinian function and applications</em>, arXiv (1996), <br>\n",
    "            URL: <a href=\"https://arxiv.org/pdf/solv-int/9603005\" target=\"_blank\">https://arxiv.org/pdf/solv-int/9603005</a></li>\n",
    "        <li> \n",
    "            V.M.Buchstaber, V.Z. Enolski, and D.V.Leykin, <em>Multi-variable sigma-functions: old and new results</em>, arXiv (2018), <br>\n",
    "            URL: <a href=\"https://arxiv.org/pdf/1810.11079\" target=\"_blank\">https://arxiv.org/pdf/1810.11079</a></li>\n",
    "        <li> \n",
    "            J. C. Eilbeck, J. Gibbons, Y. Onishi, and S. Yasuda, <em>Theory of Heat Equations for Sigma Functions</em>, arXiv (2018), <br>\n",
    "            URL: <a href=\"https://arxiv.org/pdf/1711.08395\" target=\"_blank\">https://arxiv.org/pdf/1711.08395</a></li> \n",
    "        <li> \n",
    "            V. Z. Enolski, B. Hartmann, V. Kagramanova, J. Kunz, C. Lammerzahl, P. Sirimachan, <em>Inversion of a general hyperelliptic integral and particle motion in Horava-Lifshitz black hole space-times </em>, arXiv (2011), <br>\n",
    "            URL: <a href=\"https://arxiv.org/pdf/1106.2408\" target=\"_blank\">https://arxiv.org/pdf/1106.2408</a></li>\n",
    "        <li>\n",
    "            Athorne C., Eilbeck J.C., Enolskii V.Z., <em>A SL(2) covariant theory of genus 2 hyperelliptic functions</em>, Math. Proc. Cambridge Philos. Soc. 136 (2004), 269–286,<br>\n",
    "            URL: <a href=\"https://www.cambridge.org/core/journals/mathematical-proceedings-of-the-cambridge-philosophical-society/article/abs/sl2-covariant-theory-of-genus-2-hyperelliptic-functions/2EE97A3BFFF5F70DE28F31560F0AC482\" target=\"_blank\"><em>https://www.cambridge.org/core/journals/mathematical-proceedings-of-the-cambridge-philosophical-society/article/abs/sl2-covariant-theory-of-genus-2-hyperelliptic-functions/2EE97A3BFFF5F70DE28F31560F0AC482</a>\n",
    "        </li>\n",
    "        <li>\n",
    "            H. F. Baker, <em>An Introduction to the theory of multiply periodic functions</em>,(1907),<br>\n",
    "        </li>\n",
    "        <li>\n",
    "            M. Hayashi, K. Shigemoto and T. Tsukioka, <em>The half-period addition formulae for genus two hyperelliptic ℘ functions and the Sp(4, R) Lie group structure</em>, J. Phys. Commun. 6 085004 (2022)<br>\n",
    "            URL: <a href=\"https://iopscience.iop.org/article/10.1088/2399-6528/ac8521\" target=\"_blank\"><em>https://iopscience.iop.org/article/10.1088/2399-6528/ac8521</a>\n",
    "        </li>\n",
    "        <li>\n",
    "            J. Bernatska, <em>Reality conditions for the KdV equation and exact quasi-periodic solutions in finite phase spaces</em>, Journal of Geometry and Physics, 206, 105322 (2024),<br>\n",
    "            URL: <a href=\"https://arxiv.org/pdf/2312.10859\" target=\"_blank\"><em>https://arxiv.org/pdf/2312.10859</a>\n",
    "        </li>\n",
    "        <li>\n",
    "            Enolski V.Z., Richter P.H.<em>Periods of hyperelliptic integrals expressed in terms of $\\theta$-constants by means of Thomae formulae</em>, (2007),<br>\n",
    "            URL: <a href=\"https://www.itp.uni-bremen.de/prichter/download/ThetaConst.pdf\" target=\"_blank\"><em>https://www.itp.uni-bremen.de/prichter/download/ThetaConst.pdf</a></li>\n",
    "        <li>\n",
    "            Julia Bernatska, <em>Abelian function fields on Jacobian varieties</em>, arXiv (2024),<br>\n",
    "            URL: <a href=\"https://arxiv.org/abs/2412.05455\" target=\"_blank\">https://arxiv.org/abs/2412.05455</a> </li>\n",
    "        <li>\n",
    "            Julia Bernatska, <em>An analogue of Vélu's formulae in genus two</em>, arXiv (2024),<br>\n",
    "            URL: <a href=\"https://arxiv.org/abs/2412.10284\" target=\"_blank\">https://arxiv.org/abs/2412.10284</a> </li>\n",
    "        <li>\n",
    "            Julia Bernatska, <em>Vector of Riemann constants</em>, Wolfram Community (2024),<br>\n",
    "            URL: <a href=\"https://community.wolfram.com/groups/-/m/t/3296279\" target=\"_blank\">https://community.wolfram.com/groups/-/m/t/3296279</a> </li>\n",
    "\n",
    "</ol>\n",
    "</div>"
   ]
  },
  {
   "cell_type": "code",
   "execution_count": null,
   "id": "12fe0544-4f02-45ce-b750-64e30c1b22be",
   "metadata": {},
   "outputs": [],
   "source": []
  }
 ],
 "metadata": {
  "kernelspec": {
   "display_name": "SageMath 10.5",
   "language": "sage",
   "name": "sagemath-10.5"
  },
  "language_info": {
   "codemirror_mode": {
    "name": "ipython",
    "version": 3
   },
   "file_extension": ".py",
   "mimetype": "text/x-python",
   "name": "python",
   "nbconvert_exporter": "python",
   "pygments_lexer": "ipython3",
   "version": "3.12.5"
  }
 },
 "nbformat": 4,
 "nbformat_minor": 5
}
